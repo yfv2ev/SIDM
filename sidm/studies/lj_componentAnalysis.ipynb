{
 "cells": [
  {
   "cell_type": "code",
   "execution_count": 1,
   "id": "2ced3c73-21b5-4174-b16e-b9cb6c5242d7",
   "metadata": {
    "tags": []
   },
   "outputs": [
    {
     "data": {
      "text/plain": [
       "['/home/cms-jovyan/SIDM/sidm/studies',\n",
       " '/home/cms-jovyan/SIDM/sidm/studies/../..',\n",
       " '/opt/conda/lib/python39.zip',\n",
       " '/opt/conda/lib/python3.9',\n",
       " '/opt/conda/lib/python3.9/lib-dynload',\n",
       " '',\n",
       " '/opt/conda/lib/python3.9/site-packages']"
      ]
     },
     "execution_count": 1,
     "metadata": {},
     "output_type": "execute_result"
    }
   ],
   "source": [
    "import sys, os\n",
    "sys.path.insert(1, os.path.join(sys.path[0], '../..')) # fixme: there must be a better way to handle this...\n",
    "sys.path"
   ]
  },
  {
   "cell_type": "code",
   "execution_count": 2,
   "id": "3ca62f73-9475-4c69-98d8-da2201d5ae46",
   "metadata": {},
   "outputs": [],
   "source": [
    "# python\n",
    "import sys\n",
    "import statistics\n",
    "import os\n",
    "import importlib\n",
    "# columnar analysis\n",
    "import awkward as ak\n",
    "from dask.distributed import Client\n",
    "from coffea.nanoevents import NanoEventsFactory, NanoAODSchema\n",
    "from coffea import processor\n",
    "import hist\n",
    "import matplotlib.patches as patches\n",
    "# local\n",
    "sys.path.insert(1, os.path.join(sys.path[0], '../..')) # fixme: there must be a better way to handle this...\n",
    "from sidm.tools import sidm_processor, utilities, cutflow, scaleout\n",
    "# always reload local modules to pick up changes during development\n",
    "importlib.reload(sidm_processor)\n",
    "importlib.reload(utilities)\n",
    "importlib.reload(scaleout)\n",
    "# plotting\n",
    "import matplotlib.pyplot as plt\n",
    "#utilities.set_plot_style()\n",
    "%matplotlib inline"
   ]
  },
  {
   "cell_type": "code",
   "execution_count": 3,
   "id": "701c74e3-9761-4ed2-b776-ab8c10fcfc70",
   "metadata": {
    "tags": []
   },
   "outputs": [],
   "source": [
    "samples = []\n",
    "bg_samples = [\n",
    "    \"TTJets\",\n",
    "]\n",
    "\n",
    "#######################################################\n",
    "SIDM_4mu_100GeV_0p25GeV_samples = [\n",
    "    \"4mu_100GeV_0p25GeV_0p02mm\",\n",
    "    \"4mu_100GeV_0p25GeV_0p2mm\",\n",
    "    \"4mu_100GeV_0p25GeV_2p0mm\",\n",
    "    \"4mu_100GeV_0p25GeV_10p0mm\",\n",
    "    \"4mu_100GeV_0p25GeV_20p0mm\",\n",
    "]\n",
    "SIDM_4mu_100GeV_1p2GeV_samples = [\n",
    "    \"4mu_100GeV_1p2GeV_0p096mm\",\n",
    "    \"4mu_100GeV_1p2GeV_0p96mm\",\n",
    "    \"4mu_100GeV_1p2GeV_9p6mm\",\n",
    "    \"4mu_100GeV_1p2GeV_48p0mm\",\n",
    "    \"4mu_100GeV_1p2GeV_96p0mm\",\n",
    "]\n",
    "SIDM_4mu_100GeV_5p0GeV_samples = [\n",
    "    \"4mu_100GeV_5p0GeV_0p4mm\",\n",
    "    \"4mu_100GeV_5p0GeV_4p0mm\",\n",
    "    \"4mu_100GeV_5p0GeV_40p0mm\", \n",
    "    \"4mu_100GeV_5p0GeV_200p0mm\",\n",
    "    \"4mu_100GeV_5p0GeV_400p0mm\",\n",
    "]\n",
    "#######################################################\n",
    "SIDM_4mu_150GeV_0p25GeV_samples = [\n",
    "    \"4mu_150GeV_0p25GeV_0p013mm\",\n",
    "    \"4mu_150GeV_0p25GeV_0p13mm\",\n",
    "    \"4mu_150GeV_0p25GeV_1p3mm\",\n",
    "    \"4mu_150GeV_0p25GeV_6p7mm\",\n",
    "    \"4mu_150GeV_0p25GeV_13p0mm\",\n",
    "]\n",
    "SIDM_4mu_150GeV_1p2GeV_samples = [\n",
    "    \"4mu_150GeV_1p2GeV_0p064mm\",\n",
    "    \"4mu_150GeV_1p2GeV_0p64mm\",\n",
    "    \"4mu_150GeV_1p2GeV_6p4mm\",\n",
    "    \"4mu_150GeV_1p2GeV_32p0mm\",\n",
    "    \"4mu_150GeV_1p2GeV_64p0mm\",\n",
    "]\n",
    "SIDM_4mu_150GeV_5p0GeV_samples = [\n",
    "    \"4mu_150GeV_5p0GeV_0p27mm\",\n",
    "    \"4mu_150GeV_5p0GeV_2p7mm\",\n",
    "    \"4mu_150GeV_5p0GeV_27p0mm\",\n",
    "    \"4mu_150GeV_5p0GeV_130p0mm\",\n",
    "    \"4mu_150GeV_5p0GeV_270p0mm\",\n",
    "]\n",
    "#######################################################\n",
    "SIDM_4mu_200GeV_0p25GeV_samples = [\n",
    "    \"4mu_200GeV_0p25GeV_0p01mm\",\n",
    "    \"4mu_200GeV_0p25GeV_0p1mm\",\n",
    "    \"4mu_200GeV_0p25GeV_1p0mm\",\n",
    "    \"4mu_200GeV_0p25GeV_5p0mm\",\n",
    "    \"4mu_200GeV_0p25GeV_10p0mm\",\n",
    "]\n",
    "SIDM_4mu_200GeV_1p2GeV_samples = [\n",
    "    \"4mu_200GeV_1p2GeV_0p048mm\",\n",
    "    \"4mu_200GeV_1p2GeV_0p48mm\",\n",
    "    \"4mu_200GeV_1p2GeV_4p8mm\",\n",
    "    \"4mu_200GeV_1p2GeV_24p0mm\",\n",
    "    \"4mu_200GeV_1p2GeV_48p0mm\",\n",
    "]\n",
    "SIDM_4mu_200GeV_5p0GeV_samples = [\n",
    "    \"4mu_200GeV_5p0GeV_0p2mm\",\n",
    "    \"4mu_200GeV_5p0GeV_2p0mm\",\n",
    "    \"4mu_200GeV_5p0GeV_20p0mm\",\n",
    "    \"4mu_200GeV_5p0GeV_100p0mm\",\n",
    "    \"4mu_200GeV_5p0GeV_200p0mm\",\n",
    "]\n",
    "#######################################################\n",
    "SIDM_4mu_500GeV_0p25GeV_samples = [\n",
    "    \"4mu_500GeV_0p25GeV_0p004mm\",\n",
    "    \"4mu_500GeV_0p25GeV_0p04mm\",\n",
    "    \"4mu_500GeV_0p25GeV_0p4mm\",\n",
    "    \"4mu_500GeV_0p25GeV_2p0mm\",\n",
    "    \"4mu_500GeV_0p25GeV_4p0mm\",\n",
    "]\n",
    "SIDM_4mu_500GeV_1p2GeV_samples = [\n",
    "    \"4mu_500GeV_1p2GeV_0p019mm\",\n",
    "    \"4mu_500GeV_1p2GeV_0p19mm\",\n",
    "    \"4mu_500GeV_1p2GeV_1p9mm\",\n",
    "    \"4mu_500GeV_1p2GeV_9p6mm\",\n",
    "    \"4mu_500GeV_1p2GeV_19p0mm\",\n",
    "]\n",
    "SIDM_4mu_500GeV_5p0GeV_samples = [\n",
    "    \"4mu_500GeV_5p0GeV_0p08mm\",\n",
    "    \"4mu_500GeV_5p0GeV_0p8mm\",\n",
    "    \"4mu_500GeV_5p0GeV_8p0mm\",\n",
    "    \"4mu_500GeV_5p0GeV_40p0mm\",\n",
    "    \"4mu_500GeV_5p0GeV_80p0mm\",\n",
    "    \n",
    "    #\"4mu_500GeV_5p0GeV_800p0mm\",\n",
    "    #\"4mu_500GeV_5p0GeV_8000p0mm\", these are also here as long Lxy tests\n",
    "]\n",
    "#######################################################\n",
    "SIDM_4mu_800GeV_0p25GeV_samples = [\n",
    "    \"4mu_800GeV_0p25GeV_0p0025mm\",\n",
    "    \"4mu_800GeV_0p25GeV_0p025mm\",\n",
    "    \"4mu_800GeV_0p25GeV_0p25mm\",\n",
    "    \"4mu_800GeV_0p25GeV_1p2mm\",\n",
    "    \"4mu_800GeV_0p25GeV_2p5mm\",\n",
    "]\n",
    "SIDM_4mu_800GeV_1p2GeV_samples = [\n",
    "    \"4mu_800GeV_1p2GeV_0p012mm\",\n",
    "    \"4mu_800GeV_1p2GeV_0p12mm\",\n",
    "    \"4mu_800GeV_1p2GeV_1p2mm\",\n",
    "    \"4mu_800GeV_1p2GeV_6p0mm\",\n",
    "    \"4mu_800GeV_1p2GeV_12p0mm\",\n",
    "]\n",
    "SIDM_4mu_800GeV_5p0GeV_samples = [\n",
    "    \"4mu_800GeV_5p0GeV_0p05mm\",\n",
    "    \"4mu_800GeV_5p0GeV_0p5mm\",\n",
    "    \"4mu_800GeV_5p0GeV_5p0mm\",\n",
    "    \"4mu_800GeV_5p0GeV_25p0mm\",\n",
    "    \"4mu_800GeV_5p0GeV_50p0mm\",\n",
    "]\n",
    "#######################################################\n",
    "SIDM_4mu_1000GeV_0p25GeV_samples = [ # getting keyErrors on all of these; I think they might be empty\n",
    "    \"4mu_1000GeV_0p25GeV_0p002mm\", # Running gives \"cannot unpack non-iterable NoneType object\"\n",
    "    \"4mu_1000GeV_0p25GeV_0p02mm\",\n",
    "    \"4mu_1000GeV_0p25GeV_0p2mm\",\n",
    "    \"4mu_1000GeV_0p25GeV_1p0mm\",\n",
    "    \"4mu_1000GeV_0p25GeV_2p0mm\",\n",
    "]\n",
    "SIDM_4mu_1000GeV_1p2GeV_samples = [ # these also give keyErrors\n",
    "    \"4mu_1000GeV_1p2GeV_0p0096mm\",\n",
    "    \"4mu_1000GeV_1p2GeV_0p096mm\",\n",
    "    \"4mu_1000GeV_1p2GeV_0p96mm\",\n",
    "    \"4mu_1000GeV_1p2GeV_4p8mm\",\n",
    "    \"4mu_1000GeV_1p2GeV_9p6mm\",\n",
    "]\n",
    "SIDM_4mu_1000GeV_5p0GeV_samples = [\n",
    "    \"4mu_1000GeV_5p0GeV_0p04mm\",\n",
    "    \"4mu_1000GeV_5p0GeV_0p4mm\",\n",
    "    \"4mu_1000GeV_5p0GeV_4p0mm\",\n",
    "    \"4mu_1000GeV_5p0GeV_20p0mm\",\n",
    "    \"4mu_1000GeV_5p0GeV_40p0mm\",\n",
    "]\n",
    "#######################################################\n",
    "\n",
    "\n",
    "SIDM_4mu_100GeV_samples = []\n",
    "SIDM_4mu_100GeV_samples = SIDM_4mu_100GeV_samples + SIDM_4mu_100GeV_0p25GeV_samples + SIDM_4mu_100GeV_1p2GeV_samples + SIDM_4mu_100GeV_5p0GeV_samples\n",
    "\n",
    "SIDM_4mu_150GeV_samples = []\n",
    "SIDM_4mu_150GeV_samples = SIDM_4mu_150GeV_samples + SIDM_4mu_150GeV_0p25GeV_samples + SIDM_4mu_150GeV_1p2GeV_samples + SIDM_4mu_150GeV_5p0GeV_samples\n",
    "\n",
    "SIDM_4mu_200GeV_samples = []\n",
    "SIDM_4mu_200GeV_samples = SIDM_4mu_200GeV_samples + SIDM_4mu_200GeV_0p25GeV_samples + SIDM_4mu_200GeV_1p2GeV_samples + SIDM_4mu_200GeV_5p0GeV_samples\n",
    "\n",
    "SIDM_4mu_500GeV_samples = []\n",
    "SIDM_4mu_500GeV_samples = SIDM_4mu_500GeV_samples + SIDM_4mu_500GeV_0p25GeV_samples + SIDM_4mu_500GeV_1p2GeV_samples + SIDM_4mu_500GeV_5p0GeV_samples\n",
    "\n",
    "SIDM_4mu_800GeV_samples = []\n",
    "SIDM_4mu_800GeV_samples = SIDM_4mu_800GeV_samples + SIDM_4mu_800GeV_0p25GeV_samples + SIDM_4mu_800GeV_1p2GeV_samples + SIDM_4mu_800GeV_5p0GeV_samples\n",
    "\n",
    "SIDM_4mu_1000GeV_samples = []\n",
    "SIDM_4mu_1000GeV_samples = SIDM_4mu_1000GeV_samples + SIDM_4mu_1000GeV_0p25GeV_samples + SIDM_4mu_1000GeV_1p2GeV_samples + SIDM_4mu_1000GeV_5p0GeV_samples\n",
    "\n",
    "samples_sublists = [\n",
    "    SIDM_4mu_100GeV_0p25GeV_samples, SIDM_4mu_100GeV_1p2GeV_samples, SIDM_4mu_100GeV_5p0GeV_samples, \n",
    "    SIDM_4mu_150GeV_0p25GeV_samples, SIDM_4mu_150GeV_1p2GeV_samples, SIDM_4mu_150GeV_5p0GeV_samples,\n",
    "    SIDM_4mu_200GeV_0p25GeV_samples, SIDM_4mu_200GeV_1p2GeV_samples, SIDM_4mu_200GeV_5p0GeV_samples, \n",
    "    SIDM_4mu_500GeV_0p25GeV_samples, SIDM_4mu_500GeV_1p2GeV_samples, SIDM_4mu_500GeV_5p0GeV_samples,\n",
    "    SIDM_4mu_800GeV_0p25GeV_samples, SIDM_4mu_800GeV_1p2GeV_samples, SIDM_4mu_800GeV_5p0GeV_samples,\n",
    "    #SIDM_4mu_1000GeV_0p25GeV_samples, \n",
    "    SIDM_4mu_1000GeV_1p2GeV_samples, # These two groups don't work at all\n",
    "    SIDM_4mu_1000GeV_5p0GeV_samples,\n",
    "    ]"
   ]
  },
  {
   "cell_type": "code",
   "execution_count": 4,
   "id": "147b9d03-5f94-4d65-955e-cf943de9cbd7",
   "metadata": {},
   "outputs": [
    {
     "name": "stdout",
     "output_type": "stream",
     "text": [
      "4mu_100GeV_0p25GeV_0p02mm\n",
      "4mu_100GeV_1p2GeV_0p096mm\n",
      "4mu_100GeV_5p0GeV_0p4mm\n",
      "4mu_150GeV_0p25GeV_0p013mm\n",
      "4mu_150GeV_1p2GeV_0p064mm\n",
      "4mu_150GeV_5p0GeV_0p27mm\n",
      "4mu_200GeV_0p25GeV_0p01mm\n",
      "4mu_200GeV_1p2GeV_0p048mm\n",
      "4mu_200GeV_5p0GeV_0p2mm\n",
      "4mu_500GeV_0p25GeV_0p004mm\n",
      "4mu_500GeV_1p2GeV_0p019mm\n",
      "4mu_500GeV_5p0GeV_0p08mm\n",
      "4mu_800GeV_0p25GeV_0p0025mm\n",
      "4mu_800GeV_1p2GeV_0p012mm\n",
      "4mu_800GeV_5p0GeV_0p05mm\n",
      "4mu_1000GeV_1p2GeV_0p0096mm\n",
      "4mu_1000GeV_5p0GeV_0p04mm\n",
      "['TTJets', '4mu_100GeV_0p25GeV_0p02mm', '4mu_100GeV_1p2GeV_0p096mm', '4mu_100GeV_5p0GeV_0p4mm', '4mu_150GeV_0p25GeV_0p013mm', '4mu_150GeV_1p2GeV_0p064mm', '4mu_150GeV_5p0GeV_0p27mm', '4mu_200GeV_0p25GeV_0p01mm', '4mu_200GeV_1p2GeV_0p048mm', '4mu_200GeV_5p0GeV_0p2mm', '4mu_500GeV_0p25GeV_0p004mm', '4mu_500GeV_1p2GeV_0p019mm', '4mu_500GeV_5p0GeV_0p08mm', '4mu_800GeV_0p25GeV_0p0025mm', '4mu_800GeV_1p2GeV_0p012mm', '4mu_800GeV_5p0GeV_0p05mm', '4mu_1000GeV_1p2GeV_0p0096mm', '4mu_1000GeV_5p0GeV_0p04mm']\n"
     ]
    }
   ],
   "source": [
    "samples = []\n",
    "samples = samples + bg_samples\n",
    "for sublist in samples_sublists:\n",
    "    print(sublist[0])\n",
    "    samples = samples + [sublist[0]]\n",
    "print(samples)"
   ]
  },
  {
   "cell_type": "code",
   "execution_count": 5,
   "id": "265dfb24-6a95-4ca0-855c-2975a8f0f871",
   "metadata": {},
   "outputs": [],
   "source": [
    "fileset = utilities.make_fileset(samples, \"llpNanoAOD_v2\", max_files=2)"
   ]
  },
  {
   "cell_type": "code",
   "execution_count": null,
   "id": "664f4162-318b-4301-9513-917729415eab",
   "metadata": {
    "scrolled": true,
    "tags": []
   },
   "outputs": [
    {
     "data": {
      "application/vnd.jupyter.widget-view+json": {
       "model_id": "05d03df87a0342edbf97374bd3940886",
       "version_major": 2,
       "version_minor": 0
      },
      "text/plain": [
       "Output()"
      ]
     },
     "metadata": {},
     "output_type": "display_data"
    },
    {
     "data": {
      "text/html": [
       "<pre style=\"white-space:pre;overflow-x:auto;line-height:normal;font-family:Menlo,'DejaVu Sans Mono',consolas,'Courier New',monospace\"></pre>\n"
      ],
      "text/plain": []
     },
     "metadata": {},
     "output_type": "display_data"
    },
    {
     "data": {
      "text/html": [
       "<pre style=\"white-space:pre;overflow-x:auto;line-height:normal;font-family:Menlo,'DejaVu Sans Mono',consolas,'Courier New',monospace\">\n",
       "</pre>\n"
      ],
      "text/plain": [
       "\n"
      ]
     },
     "metadata": {},
     "output_type": "display_data"
    },
    {
     "data": {
      "application/vnd.jupyter.widget-view+json": {
       "model_id": "261b4a69c3084aacb3fe4ca202392f0d",
       "version_major": 2,
       "version_minor": 0
      },
      "text/plain": [
       "Output()"
      ]
     },
     "metadata": {},
     "output_type": "display_data"
    },
    {
     "data": {
      "text/html": [
       "<pre style=\"white-space:pre;overflow-x:auto;line-height:normal;font-family:Menlo,'DejaVu Sans Mono',consolas,'Courier New',monospace\">Not applying any cuts to the lepton jets for channel baseNoLj\n",
       "</pre>\n"
      ],
      "text/plain": [
       "Not applying any cuts to the lepton jets for channel baseNoLj\n"
      ]
     },
     "metadata": {},
     "output_type": "display_data"
    },
    {
     "data": {
      "text/html": [
       "<pre style=\"white-space:pre;overflow-x:auto;line-height:normal;font-family:Menlo,'DejaVu Sans Mono',consolas,'Courier New',monospace\">/opt/conda/lib/python3.9/site-packages/awkward/_connect/_numpy.py:195: RuntimeWarning: invalid value encountered in\n",
       "divide\n",
       "  result = getattr(ufunc, method)(\n",
       "</pre>\n"
      ],
      "text/plain": [
       "/opt/conda/lib/python3.9/site-packages/awkward/_connect/_numpy.py:195: RuntimeWarning: invalid value encountered in\n",
       "divide\n",
       "  result = getattr(ufunc, method)(\n"
      ]
     },
     "metadata": {},
     "output_type": "display_data"
    },
    {
     "name": "stdout",
     "output_type": "stream",
     "text": [
      "#--------------------------------------------------------------------------\n",
      "#                         FastJet release 3.4.0\n",
      "#                 M. Cacciari, G.P. Salam and G. Soyez                  \n",
      "#     A software package for jet finding and analysis at colliders      \n",
      "#                           http://fastjet.fr                           \n",
      "#\t                                                                      \n",
      "# Please cite EPJC72(2012)1896 [arXiv:1111.6097] if you use this package\n",
      "# for scientific work and optionally PLB641(2006)57 [hep-ph/0512210].   \n",
      "#                                                                       \n",
      "# FastJet is provided without warranty under the GNU GPL v2 or higher.  \n",
      "# It uses T. Chan's closest pair algorithm, S. Fortune's Voronoi code,\n",
      "# CGAL and 3rd party plugin jet algorithms. See COPYING file for details.\n",
      "#--------------------------------------------------------------------------\n"
     ]
    },
    {
     "data": {
      "text/html": [
       "<pre style=\"white-space:pre;overflow-x:auto;line-height:normal;font-family:Menlo,'DejaVu Sans Mono',consolas,'Courier New',monospace\">Not applying any cuts to the lepton jets for channel baseNoLj\n",
       "</pre>\n"
      ],
      "text/plain": [
       "Not applying any cuts to the lepton jets for channel baseNoLj\n"
      ]
     },
     "metadata": {},
     "output_type": "display_data"
    },
    {
     "data": {
      "text/html": [
       "<pre style=\"white-space:pre;overflow-x:auto;line-height:normal;font-family:Menlo,'DejaVu Sans Mono',consolas,'Courier New',monospace\">Not applying any cuts to the lepton jets for channel baseNoLj\n",
       "</pre>\n"
      ],
      "text/plain": [
       "Not applying any cuts to the lepton jets for channel baseNoLj\n"
      ]
     },
     "metadata": {},
     "output_type": "display_data"
    },
    {
     "data": {
      "text/html": [
       "<pre style=\"white-space:pre;overflow-x:auto;line-height:normal;font-family:Menlo,'DejaVu Sans Mono',consolas,'Courier New',monospace\">Not applying any cuts to the lepton jets for channel baseNoLj\n",
       "</pre>\n"
      ],
      "text/plain": [
       "Not applying any cuts to the lepton jets for channel baseNoLj\n"
      ]
     },
     "metadata": {},
     "output_type": "display_data"
    },
    {
     "data": {
      "text/html": [
       "<pre style=\"white-space:pre;overflow-x:auto;line-height:normal;font-family:Menlo,'DejaVu Sans Mono',consolas,'Courier New',monospace\">Not applying any cuts to the lepton jets for channel baseNoLj\n",
       "</pre>\n"
      ],
      "text/plain": [
       "Not applying any cuts to the lepton jets for channel baseNoLj\n"
      ]
     },
     "metadata": {},
     "output_type": "display_data"
    },
    {
     "data": {
      "text/html": [
       "<pre style=\"white-space:pre;overflow-x:auto;line-height:normal;font-family:Menlo,'DejaVu Sans Mono',consolas,'Courier New',monospace\">Not applying any cuts to the lepton jets for channel baseNoLj\n",
       "</pre>\n"
      ],
      "text/plain": [
       "Not applying any cuts to the lepton jets for channel baseNoLj\n"
      ]
     },
     "metadata": {},
     "output_type": "display_data"
    },
    {
     "data": {
      "text/html": [
       "<pre style=\"white-space:pre;overflow-x:auto;line-height:normal;font-family:Menlo,'DejaVu Sans Mono',consolas,'Courier New',monospace\">Not applying any cuts to the lepton jets for channel baseNoLj\n",
       "</pre>\n"
      ],
      "text/plain": [
       "Not applying any cuts to the lepton jets for channel baseNoLj\n"
      ]
     },
     "metadata": {},
     "output_type": "display_data"
    },
    {
     "data": {
      "text/html": [
       "<pre style=\"white-space:pre;overflow-x:auto;line-height:normal;font-family:Menlo,'DejaVu Sans Mono',consolas,'Courier New',monospace\">Not applying any cuts to the lepton jets for channel baseNoLj\n",
       "</pre>\n"
      ],
      "text/plain": [
       "Not applying any cuts to the lepton jets for channel baseNoLj\n"
      ]
     },
     "metadata": {},
     "output_type": "display_data"
    },
    {
     "data": {
      "text/html": [
       "<pre style=\"white-space:pre;overflow-x:auto;line-height:normal;font-family:Menlo,'DejaVu Sans Mono',consolas,'Courier New',monospace\">Not applying any cuts to the lepton jets for channel baseNoLj\n",
       "</pre>\n"
      ],
      "text/plain": [
       "Not applying any cuts to the lepton jets for channel baseNoLj\n"
      ]
     },
     "metadata": {},
     "output_type": "display_data"
    },
    {
     "data": {
      "text/html": [
       "<pre style=\"white-space:pre;overflow-x:auto;line-height:normal;font-family:Menlo,'DejaVu Sans Mono',consolas,'Courier New',monospace\">Not applying any cuts to the lepton jets for channel baseNoLj\n",
       "</pre>\n"
      ],
      "text/plain": [
       "Not applying any cuts to the lepton jets for channel baseNoLj\n"
      ]
     },
     "metadata": {},
     "output_type": "display_data"
    },
    {
     "data": {
      "text/html": [
       "<pre style=\"white-space:pre;overflow-x:auto;line-height:normal;font-family:Menlo,'DejaVu Sans Mono',consolas,'Courier New',monospace\">Not applying any cuts to the lepton jets for channel baseNoLj\n",
       "</pre>\n"
      ],
      "text/plain": [
       "Not applying any cuts to the lepton jets for channel baseNoLj\n"
      ]
     },
     "metadata": {},
     "output_type": "display_data"
    },
    {
     "data": {
      "text/html": [
       "<pre style=\"white-space:pre;overflow-x:auto;line-height:normal;font-family:Menlo,'DejaVu Sans Mono',consolas,'Courier New',monospace\">Not applying any cuts to the lepton jets for channel baseNoLj\n",
       "</pre>\n"
      ],
      "text/plain": [
       "Not applying any cuts to the lepton jets for channel baseNoLj\n"
      ]
     },
     "metadata": {},
     "output_type": "display_data"
    },
    {
     "data": {
      "text/html": [
       "<pre style=\"white-space:pre;overflow-x:auto;line-height:normal;font-family:Menlo,'DejaVu Sans Mono',consolas,'Courier New',monospace\">Not applying any cuts to the lepton jets for channel baseNoLj\n",
       "</pre>\n"
      ],
      "text/plain": [
       "Not applying any cuts to the lepton jets for channel baseNoLj\n"
      ]
     },
     "metadata": {},
     "output_type": "display_data"
    },
    {
     "data": {
      "text/html": [
       "<pre style=\"white-space:pre;overflow-x:auto;line-height:normal;font-family:Menlo,'DejaVu Sans Mono',consolas,'Courier New',monospace\">Not applying any cuts to the lepton jets for channel baseNoLj\n",
       "</pre>\n"
      ],
      "text/plain": [
       "Not applying any cuts to the lepton jets for channel baseNoLj\n"
      ]
     },
     "metadata": {},
     "output_type": "display_data"
    },
    {
     "data": {
      "text/html": [
       "<pre style=\"white-space:pre;overflow-x:auto;line-height:normal;font-family:Menlo,'DejaVu Sans Mono',consolas,'Courier New',monospace\">Not applying any cuts to the lepton jets for channel baseNoLj\n",
       "</pre>\n"
      ],
      "text/plain": [
       "Not applying any cuts to the lepton jets for channel baseNoLj\n"
      ]
     },
     "metadata": {},
     "output_type": "display_data"
    },
    {
     "data": {
      "text/html": [
       "<pre style=\"white-space:pre;overflow-x:auto;line-height:normal;font-family:Menlo,'DejaVu Sans Mono',consolas,'Courier New',monospace\">Not applying any cuts to the lepton jets for channel baseNoLj\n",
       "</pre>\n"
      ],
      "text/plain": [
       "Not applying any cuts to the lepton jets for channel baseNoLj\n"
      ]
     },
     "metadata": {},
     "output_type": "display_data"
    },
    {
     "data": {
      "text/html": [
       "<pre style=\"white-space:pre;overflow-x:auto;line-height:normal;font-family:Menlo,'DejaVu Sans Mono',consolas,'Courier New',monospace\">Not applying any cuts to the lepton jets for channel baseNoLj\n",
       "</pre>\n"
      ],
      "text/plain": [
       "Not applying any cuts to the lepton jets for channel baseNoLj\n"
      ]
     },
     "metadata": {},
     "output_type": "display_data"
    },
    {
     "data": {
      "text/html": [
       "<pre style=\"white-space:pre;overflow-x:auto;line-height:normal;font-family:Menlo,'DejaVu Sans Mono',consolas,'Courier New',monospace\">Not applying any cuts to the lepton jets for channel baseNoLj\n",
       "</pre>\n"
      ],
      "text/plain": [
       "Not applying any cuts to the lepton jets for channel baseNoLj\n"
      ]
     },
     "metadata": {},
     "output_type": "display_data"
    },
    {
     "data": {
      "text/html": [
       "<pre style=\"white-space:pre;overflow-x:auto;line-height:normal;font-family:Menlo,'DejaVu Sans Mono',consolas,'Courier New',monospace\">Not applying any cuts to the lepton jets for channel baseNoLj\n",
       "</pre>\n"
      ],
      "text/plain": [
       "Not applying any cuts to the lepton jets for channel baseNoLj\n"
      ]
     },
     "metadata": {},
     "output_type": "display_data"
    },
    {
     "data": {
      "text/html": [
       "<pre style=\"white-space:pre;overflow-x:auto;line-height:normal;font-family:Menlo,'DejaVu Sans Mono',consolas,'Courier New',monospace\">Not applying any cuts to the lepton jets for channel baseNoLj\n",
       "</pre>\n"
      ],
      "text/plain": [
       "Not applying any cuts to the lepton jets for channel baseNoLj\n"
      ]
     },
     "metadata": {},
     "output_type": "display_data"
    },
    {
     "data": {
      "text/html": [
       "<pre style=\"white-space:pre;overflow-x:auto;line-height:normal;font-family:Menlo,'DejaVu Sans Mono',consolas,'Courier New',monospace\">Not applying any cuts to the lepton jets for channel baseNoLj\n",
       "</pre>\n"
      ],
      "text/plain": [
       "Not applying any cuts to the lepton jets for channel baseNoLj\n"
      ]
     },
     "metadata": {},
     "output_type": "display_data"
    },
    {
     "data": {
      "text/html": [
       "<pre style=\"white-space:pre;overflow-x:auto;line-height:normal;font-family:Menlo,'DejaVu Sans Mono',consolas,'Courier New',monospace\">Not applying any cuts to the lepton jets for channel baseNoLj\n",
       "</pre>\n"
      ],
      "text/plain": [
       "Not applying any cuts to the lepton jets for channel baseNoLj\n"
      ]
     },
     "metadata": {},
     "output_type": "display_data"
    },
    {
     "data": {
      "text/html": [
       "<pre style=\"white-space:pre;overflow-x:auto;line-height:normal;font-family:Menlo,'DejaVu Sans Mono',consolas,'Courier New',monospace\">Not applying any cuts to the lepton jets for channel baseNoLj\n",
       "</pre>\n"
      ],
      "text/plain": [
       "Not applying any cuts to the lepton jets for channel baseNoLj\n"
      ]
     },
     "metadata": {},
     "output_type": "display_data"
    },
    {
     "data": {
      "text/html": [
       "<pre style=\"white-space:pre;overflow-x:auto;line-height:normal;font-family:Menlo,'DejaVu Sans Mono',consolas,'Courier New',monospace\">Not applying any cuts to the lepton jets for channel baseNoLj\n",
       "</pre>\n"
      ],
      "text/plain": [
       "Not applying any cuts to the lepton jets for channel baseNoLj\n"
      ]
     },
     "metadata": {},
     "output_type": "display_data"
    },
    {
     "data": {
      "text/html": [
       "<pre style=\"white-space:pre;overflow-x:auto;line-height:normal;font-family:Menlo,'DejaVu Sans Mono',consolas,'Courier New',monospace\">Not applying any cuts to the lepton jets for channel baseNoLj\n",
       "</pre>\n"
      ],
      "text/plain": [
       "Not applying any cuts to the lepton jets for channel baseNoLj\n"
      ]
     },
     "metadata": {},
     "output_type": "display_data"
    }
   ],
   "source": [
    "runner = processor.Runner(\n",
    "    executor=processor.IterativeExecutor(),\n",
    "    #executor=processor.DaskExecutor(),\n",
    "    #executor=processor.FuturesExecutor(),\n",
    "    schema=NanoAODSchema,\n",
    "    # maxchunks=1,\n",
    ")\n",
    "\n",
    "hist_menu = utilities.load_yaml(\"../configs/hist_collections.yaml\")\n",
    "hist_choice = \"base\"\n",
    "collection = utilities.flatten(hist_menu[hist_choice]) #To change the histograms used, swap \"base\" for the other collections\n",
    "p = sidm_processor.SidmProcessor(\n",
    "    [\n",
    "        \"base\",\n",
    "        \"baseNoLj\",\n",
    "        \"4mu\", # basic cuts + 4mu requirement\n",
    "        \"matchedLj\", # strict cuts on lj objects\n",
    "        \"4mu_matchedLj\",\n",
    "    ],\n",
    "    [hist_choice],\n",
    "    lj_reco_choices=[\"0.4\"],\n",
    "    llpnanoaod=True,\n",
    ")\n",
    "output = runner.run(fileset, treename='Events', processor_instance=p)\n",
    "out = output[\"out\"]"
   ]
  },
  {
   "cell_type": "code",
   "execution_count": null,
   "id": "2b0e10a5-1161-4ae2-a1a7-7125d40667bd",
   "metadata": {
    "tags": []
   },
   "outputs": [],
   "source": [
    "cutflow.print_multi_table([out[samples[0]][\"cutflow\"][\"4mu\"]], [samples[0]], fraction=False, unweighted=False)"
   ]
  },
  {
   "cell_type": "code",
   "execution_count": null,
   "id": "b0d42a28-2080-4f88-9ae6-ca2147b38cfd",
   "metadata": {
    "tags": []
   },
   "outputs": [],
   "source": [
    "plt.subplots(1,2,figsize=(14,7))\n",
    "plt.subplot(1,2,1)\n",
    "for sample in samples:\n",
    "    utilities.plot(out[sample][\"hists\"][\"lj_lj_invmass\"][\"base\", :], flow='none', density=True)\n",
    "plt.legend(samples, loc=1, prop={'size': 5}, ncol=2)\n",
    "plt.subplot(1,2,2)\n",
    "for sample in samples:\n",
    "    utilities.plot(out[sample][\"hists\"][\"lj_lj_absdphi\"][\"base\", :], flow='none', density=True)\n",
    "plt.legend(samples, loc=2, prop={'size': 6})"
   ]
  },
  {
   "cell_type": "markdown",
   "id": "484cb7f2-4913-4fde-bddf-cd74d73b01b6",
   "metadata": {},
   "source": [
    "Plots several different histograms for all samples. It is clear from these that the 4mu samples (of course) don't have electrons or photons, and are almost all composed of four muons. Under the matchedLj channel, the lepton jet object cuts are more strict than those of the 4mu or llpnano channels, so the number of cut events is higher on the >=2 lj cut (since there are fewer objects qualifying as lepton jets). The background cannot be analyzed in this channel, since one of the cuts requires >= 2 matched dark photons (\"As\"), which are gen-level particles. Since the background does not generate dark photons, none of the events have these As, so they are all cut.\n",
    "\n",
    "In the low-mass (100GeV) samples of dark matter bound states, the number of dsa muons is relatively low, with most samples having only zero or one.\n",
    "\n",
    "In high-mass cases (1000GeV), the more displaced samples are much less clustered around 4 muons, with a significant number of events having only three or less. These same samples were also more likely to have one or more dsa muons. I'm not sure if these are counted separately by the muon_n histogram."
   ]
  },
  {
   "cell_type": "code",
   "execution_count": null,
   "id": "c799aca8-a0f7-4b28-bae5-ee817ede3ba1",
   "metadata": {
    "tags": []
   },
   "outputs": [],
   "source": [
    "def count(hist, bounds, verbose = False):\n",
    "    result = 0\n",
    "    dim = len(hist.axes) if isinstance(hist, list) else len(hist.axes)\n",
    "    if dim == 1:\n",
    "        x = hist.to_numpy()\n",
    "        bins = []\n",
    "        for i in range(len(x[0])):\n",
    "            temp = [x[0][i], (x[1][i]+x[1][i+1])/2]\n",
    "            bins.append(temp)\n",
    "        for i in range(len(bins)):\n",
    "            if bins[i][1] >= min(bounds[0]) and bins[i][1] <= max(bounds[0]):\n",
    "                result += bins[i][0]\n",
    "    if dim == 2:\n",
    "        x = hist.to_numpy()\n",
    "        bins = []\n",
    "        binvals = []\n",
    "        for i in range(len(x[2]) - 1): # each i corresponds to a row of bins\n",
    "            for j in range(len(x[1]) - 1): # each j corresponds to the column\n",
    "                bins.append([x[0][j][i], (x[1][j] + x[1][j+1])/2, (x[2][i] + x[2][i+1])/2])\n",
    "        for i in range(len(bins)):\n",
    "            if bins[i][1] >= bounds[0][0] and bins[i][1] <= bounds[1][0] and bins[i][2] >= bounds[0][1] and bins[i][2] <= bounds[1][1]:\n",
    "                if verbose: print(bins[i])\n",
    "                result += bins[i][0]\n",
    "    return result\n",
    "\n",
    "def drawRect(fig, ax, x0, x1, color='r'):\n",
    "    ax.add_patch(patches.Rectangle((x0[0], x0[1]), abs(x0[0]-x1[0]), abs(x0[1]-x1[1]), linewidth=1, edgecolor=color, facecolor='none'))\n",
    "    fig.show()\n",
    "    \n",
    "def countPlot(hist, fig, ax, bounds, color='r'):\n",
    "    dim = len(hist.axes) if isinstance(hist, list) else len(hist.axes)\n",
    "    if dim == 1:\n",
    "        fig.axvline(x = bounds[0])\n",
    "        fig.axvline(x = bounds[1])\n",
    "    if dim == 2:\n",
    "        drawRect(fig, ax, bounds[0], bounds[1], color)\n",
    "    fig.show()\n",
    "    return count(hist, bounds)\n",
    "    \n",
    "def ABCD(hist, fig, ax, x0, x1):\n",
    "    lowX = x0[0]\n",
    "    lowY = x0[1]\n",
    "    midX = (x0[0] + x1[0]) / 2\n",
    "    midY = (x0[1] + x1[1]) / 2\n",
    "    highX = x1[0]\n",
    "    highY = x1[1]\n",
    "    \n",
    "    xrange = midX-lowX\n",
    "    yrange = midY-lowY\n",
    "    \n",
    "    drawRect(fig, ax, x0, (midX, midY), 'yellow') # C\n",
    "    drawRect(fig, ax, (midX, lowY), (highX, midY), 'green') # D\n",
    "    drawRect(fig, ax, (lowX, midY), (midX, highY), 'red') # A\n",
    "    drawRect(fig, ax, (midX, midY), (highX, highY), 'orange') # B\n",
    "    \n",
    "    ax.text(lowX + 0.2*xrange, midY - 0.1*yrange, \"C\", fontsize=11, color='yellow')\n",
    "    ax.text(midX + 0.2*xrange, midY - 0.1*yrange, \"D\", fontsize=11, color='green')\n",
    "    ax.text(lowX + 0.2*xrange, highY - 0.1*yrange, \"A\", fontsize=11, color='red')\n",
    "    ax.text(midX + 0.2*xrange, highY - 0.1*yrange, \"B\", fontsize=11, color='orange')\n",
    "    \n",
    "    countA = count(a, [(lowX, midY), (midX, highY)])\n",
    "    countB = count(a, [(midX, midY), x1])\n",
    "    countC = count(a, [x0, (midX, midY)])\n",
    "    countD = count(a, [(midX, lowY), (highX, midY)])\n",
    "    \n",
    "    return [countA, countB, countC, countD]"
   ]
  },
  {
   "cell_type": "code",
   "execution_count": null,
   "id": "473d61a5-8bb3-4aff-b4ab-c1cf52b4bff1",
   "metadata": {
    "tags": []
   },
   "outputs": [],
   "source": [
    "fig, ax = plt.subplots()\n",
    "a = out[samples[0]][\"hists\"][\"abcd_lj_lj_invmass_vs_absdphi\"][\"base\", :, :]\n",
    "x = a.to_numpy()\n",
    "utilities.plot(a)\n",
    "x0 = (35, 0.5)\n",
    "x1 = (300, 4)\n",
    "x2 = ((x0[0]+x1[0])/2, (x0[1]+x1[1])/2)\n",
    "#drawRect(fig, ax, x0, x1)\n",
    "#drawRect(fig, ax, (x0[0], x2[1]), (x2[0], x1[1]))\n",
    "print(f\"Events: {countPlot(a, fig, ax, [(x0[0], x2[1]), (x2[0], x1[1])])}\")\n",
    "#print(f\"Events within the rectangle: {count(a, [(x0[0], x2[1]), (x2[0], x1[1])])}\")"
   ]
  },
  {
   "cell_type": "code",
   "execution_count": null,
   "id": "19a14952-8732-43b1-ab94-a2b2b4b9a424",
   "metadata": {
    "tags": []
   },
   "outputs": [],
   "source": [
    "fig, ax1 = plt.subplots()\n",
    "a = out[samples[0]][\"hists\"][\"abcd_lj_lj_invmass_vs_absdphi\"][\"baseNoLj\", :, :]\n",
    "utilities.plot(a)\n",
    "x0 = (20, 0.1)\n",
    "x1 = (1000, 6)\n",
    "x2 = ((x0[0]+x1[0])/2,(x0[1]+x1[1])/2)\n",
    "#print(x2)\n",
    "counts = ABCD(a, fig, ax1, x0, x1) # pass ABCD() a rectangle, and it is divided into 4 equal parts\n",
    "\n",
    "fig.show()\n",
    "# Displays ABCD in order red, orange, yellow, green\n",
    "print(f\"Counts in each region [A, B, C, D]: {counts}\")\n",
    "if counts[1]==0:\n",
    "    counts[1]=0.001\n",
    "if counts[3]==0:\n",
    "    counts[3]=0.001\n",
    "A_to_B = counts[0]/counts[1]\n",
    "C_to_D = counts[2]/counts[3]\n",
    "print(f\"Ratios:\\n\\tA:B = {A_to_B}\\n\\tC:D = {C_to_D}\")\n",
    "ax1.title.set_text(\"LJ inv. mass vs. Delta\")"
   ]
  },
  {
   "cell_type": "code",
   "execution_count": null,
   "id": "a28a73c5-0f42-4fc8-a49d-1a4c76d595c5",
   "metadata": {
    "tags": []
   },
   "outputs": [],
   "source": [
    "fig, (ax1, ax2) = plt.subplots(1, 2, figsize=(16, 8))\n",
    "plt.subplot(1,2,1)\n",
    "a = out[samples[-1]][\"hists\"][\"abcd_lj_lj_invmass_vs_absdphi\"][\"base\", :, :]\n",
    "utilities.plot(a)\n",
    "x0 = (20, 0.1)\n",
    "x1 = (1250, 4)\n",
    "x2 = ((x0[0]+x1[0])/2,(x0[1]+x1[1])/2)\n",
    "print(x2)\n",
    "counts = ABCD(a, fig, ax1, x0, x1) # pass ABCD() a rectangle, and it is divided into 4 equal parts\n",
    "\n",
    "fig.show()\n",
    "# Displays in order red, orange, yellow, green\n",
    "print(counts)\n",
    "A_to_B = counts[0]/counts[1]\n",
    "C_to_D = counts[2]/counts[3]\n",
    "print(f\"Ratios: A:B = {A_to_B}, C:D = {C_to_D}\")\n",
    "\n",
    "plt.subplot(1,2,2)\n",
    "b = out[samples[-1]][\"hists\"][\"abcd_lj_lj_invmass_vs_absdphi\"][\"base\", 20j:635j, 2.05j:4j]\n",
    "utilities.plot(b)\n",
    "counts = ABCD(b, fig, ax2, x0, x1)"
   ]
  },
  {
   "cell_type": "code",
   "execution_count": null,
   "id": "bd11b878-e283-4df2-ae8e-c9039b62c29e",
   "metadata": {
    "tags": []
   },
   "outputs": [],
   "source": [
    "out[samples[-1]][\"hists\"][\"abcd_lj_lj_invmass_vs_absdphi\"][\"base\", :, :].plot2d_full()"
   ]
  },
  {
   "cell_type": "code",
   "execution_count": null,
   "id": "1159c0d9-120f-4c1b-a22e-ad6321660ad2",
   "metadata": {
    "tags": []
   },
   "outputs": [],
   "source": [
    "utilities.plot(out[samples[-1]][\"hists\"][\"abcd_lj_lj_invmass_vs_absdphi\"][\"base\", :, :])"
   ]
  },
  {
   "cell_type": "code",
   "execution_count": null,
   "id": "87577438-25ca-44d7-9f22-a15ddfc1c914",
   "metadata": {
    "tags": []
   },
   "outputs": [],
   "source": [
    "plt.subplots(1,2,figsize=(14,7))\n",
    "plt.subplot(1,2,1)\n",
    "for sample in samples:\n",
    "    utilities.plot(out[sample][\"hists\"][\"lj_lj_absdphi\"][\"baseNoLj\", :], flow='none', density=True)\n",
    "plt.legend(samples, loc=2, prop={'size': 6})\n",
    "plt.subplot(1,2,2)\n",
    "for sample in samples:\n",
    "    utilities.plot(out[sample][\"hists\"][\"lj_lj_absdphi\"][\"4mu\", :], flow='none', density=True)\n",
    "plt.legend(samples, loc=2, prop={'size': 6})"
   ]
  },
  {
   "cell_type": "markdown",
   "id": "7d53cf95-1eeb-40bb-b321-26748e6c1ea4",
   "metadata": {},
   "source": [
    "Below this are mostly checks on llpNanoAOD samples. Since they ran only a few at a time, I looped through all samples to see similarities on separate histograms. Now that the number of different samples is large, the plots are "
   ]
  },
  {
   "cell_type": "code",
   "execution_count": null,
   "id": "5a2c6b8f-6c44-4a71-bbbe-6857649e1dd7",
   "metadata": {
    "tags": []
   },
   "outputs": [],
   "source": [
    "histlist = [\"electron_n\", \"muon_n\"]\n",
    "\n",
    "for hist in histlist:\n",
    "    plt.subplots(1, 5, figsize=(30, 8))\n",
    "    for i in range(5):\n",
    "        plt.subplot(1,5,i+1)\n",
    "        utilities.plot(out[samples[i]][\"hists\"][hist][\"matchedLj\", :], density=True)\n",
    "        plt.title(samples[i], size=8)\n",
    "        plt.legend([samples[i]], prop={\"size\": 12})"
   ]
  },
  {
   "cell_type": "code",
   "execution_count": null,
   "id": "84d0eaa1-4e13-4010-9a64-e851bddef9ed",
   "metadata": {
    "tags": []
   },
   "outputs": [],
   "source": [
    "histlist = [\"lj_n\", \"lj_lj_invmass\"]\n",
    "\n",
    "for hist in histlist:\n",
    "    plt.subplots(1, 5, figsize=(30, 8))\n",
    "    for i in range(5):\n",
    "        plt.subplot(1,5,i+1)\n",
    "        utilities.plot(out[samples[i]][\"hists\"][hist][\"4mu\", :], density=True)\n",
    "        plt.title(samples[i], size=8)\n",
    "        plt.legend([samples[i]], prop={\"size\": 12})"
   ]
  },
  {
   "cell_type": "code",
   "execution_count": null,
   "id": "e99ae923-27da-40cc-8445-3685136ddd8a",
   "metadata": {
    "tags": []
   },
   "outputs": [],
   "source": [
    "hist = \"lj_lj_invmass_lowRange\"\n",
    "\n",
    "utilities.plot(out[samples[0]][\"hists\"][hist][\"4mu\", :], density=True)\n",
    "plt.title(samples[0], size=8)\n",
    "plt.legend([samples[0]], prop={\"size\": 12})"
   ]
  },
  {
   "cell_type": "code",
   "execution_count": null,
   "id": "02895cf2-89bf-45c5-ada5-172890576164",
   "metadata": {
    "tags": []
   },
   "outputs": [],
   "source": [
    "cutflow.print_multi_table([out[sample][\"cutflow\"][\"4mu_matchedLj\"] for sample in samples], [sample for sample in samples], fraction=False)\n",
    "# the matched As are gen-level particles, so none are present in TTJets"
   ]
  },
  {
   "cell_type": "code",
   "execution_count": null,
   "id": "144b5826-182c-47d9-b6df-0da8c056e8c4",
   "metadata": {
    "tags": []
   },
   "outputs": [],
   "source": [
    "histlist = [\"muon_pt\", \"muon_lj_dR_lowRange\"]\n",
    "\n",
    "for hist in histlist:\n",
    "    plt.subplots(1, 5, figsize=(30, 8))\n",
    "    for i in range(5):\n",
    "        plt.subplot(1,5,i+1)\n",
    "        utilities.plot(out[samples[i]][\"hists\"][hist][\"4mu\", :], density=True)\n",
    "        plt.title(samples[i], size=8)\n",
    "        plt.legend([samples[i]], prop={\"size\": 12})"
   ]
  },
  {
   "cell_type": "code",
   "execution_count": null,
   "id": "79d4c823-672f-4d20-9920-f0ea11130bbb",
   "metadata": {
    "tags": []
   },
   "outputs": [],
   "source": [
    "histlist = [\"dsaMuon_n\", \"dsaMuon_pt\"]\n",
    "\n",
    "for hist in histlist:\n",
    "    plt.subplots(1, 5, figsize=(30, 8))\n",
    "    for i in range(5):\n",
    "        plt.subplot(1,5,i+1)\n",
    "        utilities.plot(out[samples[i]][\"hists\"][hist][\"matchedLj\", :], density=True)\n",
    "        plt.title(samples[i], size=8)\n",
    "        plt.legend([samples[i]], prop={\"size\": 12})"
   ]
  },
  {
   "cell_type": "code",
   "execution_count": null,
   "id": "f36f0e35-8c1c-4325-ad88-ff55b7d05664",
   "metadata": {
    "tags": []
   },
   "outputs": [],
   "source": [
    "histlist = [\"dsaMuon_eta_phi\", \"muon_eta_phi\"]\n",
    "\n",
    "for hist in histlist:\n",
    "    plt.subplots(1, 5, figsize=(30, 8))\n",
    "    for i in range(5):\n",
    "        plt.subplot(1,5,i+1)\n",
    "        utilities.plot(out[samples[i]][\"hists\"][hist][\"matchedLj\", :, :])\n",
    "        plt.title(samples[i], size=8)"
   ]
  },
  {
   "cell_type": "code",
   "execution_count": null,
   "id": "639e49ea-7ac4-4d8c-855b-ff1b7a796bf8",
   "metadata": {
    "tags": []
   },
   "outputs": [],
   "source": [
    "histlist = [\"photon_n\", \"muon_absD0_lowRange\"]\n",
    "\n",
    "for hist in histlist:\n",
    "    plt.subplots(1, 5, figsize=(30, 8))\n",
    "    for i in range(5):\n",
    "        plt.subplot(1,5,i+1)\n",
    "        utilities.plot(out[samples[i]][\"hists\"][hist][\"matchedLj\", :], density=True)\n",
    "        plt.title(samples[i], size=8)\n",
    "        plt.legend([samples[i]], prop={\"size\": 12})"
   ]
  },
  {
   "cell_type": "code",
   "execution_count": null,
   "id": "abee2f16-be58-4958-ae1a-31d6db88e06b",
   "metadata": {
    "tags": []
   },
   "outputs": [],
   "source": [
    "histlist = [\"muon_n\",\"dsaMuon_n\",\"totalMuon_n\"]\n",
    "for hist in histlist:\n",
    "    utilities.plot(out[samples[-1]][\"hists\"][hist][\"4mu_matchedLj\", :], density=False)\n",
    "plt.legend(histlist)"
   ]
  }
 ],
 "metadata": {
  "kernelspec": {
   "display_name": "Python 3 (ipykernel)",
   "language": "python",
   "name": "python3"
  },
  "language_info": {
   "codemirror_mode": {
    "name": "ipython",
    "version": 3
   },
   "file_extension": ".py",
   "mimetype": "text/x-python",
   "name": "python",
   "nbconvert_exporter": "python",
   "pygments_lexer": "ipython3",
   "version": "3.9.18"
  }
 },
 "nbformat": 4,
 "nbformat_minor": 5
}
