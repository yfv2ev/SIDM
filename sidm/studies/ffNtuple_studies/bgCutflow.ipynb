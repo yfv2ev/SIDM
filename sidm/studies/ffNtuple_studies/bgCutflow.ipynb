{
 "cells": [
  {
   "cell_type": "code",
   "execution_count": 1,
   "id": "a9b806f4-7d38-4cdf-a7b8-76d42d180e0e",
   "metadata": {},
   "outputs": [],
   "source": [
    "# python\n",
    "import sys\n",
    "import os\n",
    "import importlib\n",
    "# columnar analysis\n",
    "from coffea import processor\n",
    "import awkward as ak\n",
    "from dask.distributed import Client\n",
    "# local\n",
    "sys.path.insert(1, os.path.join(sys.path[0], '../..')) \n",
    "from sidm.tools import ffschema, sidm_processor, utilities, scaleout, cutflow\n",
    "# always reload local modules to pick up changes during development\n",
    "importlib.reload(ffschema)\n",
    "importlib.reload(sidm_processor)\n",
    "importlib.reload(utilities)\n",
    "importlib.reload(cutflow)\n",
    "# plotting\n",
    "import matplotlib.pyplot as plt\n",
    "import mplhep as hep\n",
    "\n",
    "# Load style sheet\n",
    "# plt.style.use(hep.style.CMS)  # or ATLAS/LHCb2\n",
    "\n",
    "# h, bins = np.histogram(np.random.random(1000))\n",
    "# fig, ax = plt.subplots()\n",
    "# hep.histplot(h, bins)\n",
    "\n",
    "utilities.set_plot_style()"
   ]
  },
  {
   "cell_type": "code",
   "execution_count": 2,
   "id": "dc658b30-6220-4186-812b-8a3fa8a93763",
   "metadata": {
    "tags": []
   },
   "outputs": [
    {
     "name": "stderr",
     "output_type": "stream",
     "text": [
      "/home/cms-jovyan/SIDM/sidm/studies/../../sidm/tools/scaleout.py:12: UserWarning: Registering a `SchedulerPlugin` as a worker plugin is not allowed, registering as a scheduler plugin instead. To register as a worker plugin, inherit from `WorkerPlugin`.\n",
      "  client.register_worker_plugin(PipInstall(packages=dependencies, pip_options=[\"--upgrade\"]))\n"
     ]
    },
    {
     "data": {
      "text/html": [
       "<div>\n",
       "    <div style=\"width: 24px; height: 24px; background-color: #e1e1e1; border: 3px solid #9D9D9D; border-radius: 5px; position: absolute;\"> </div>\n",
       "    <div style=\"margin-left: 48px;\">\n",
       "        <h3 style=\"margin-bottom: 0px;\">Client</h3>\n",
       "        <p style=\"color: #9D9D9D; margin-bottom: 0px;\">Client-149ce6d4-3325-11ef-80cc-76004fe69298</p>\n",
       "        <table style=\"width: 100%; text-align: left;\">\n",
       "\n",
       "        <tr>\n",
       "        \n",
       "            <td style=\"text-align: left;\"><strong>Connection method:</strong> Direct</td>\n",
       "            <td style=\"text-align: left;\"></td>\n",
       "        \n",
       "        </tr>\n",
       "\n",
       "        \n",
       "            <tr>\n",
       "                <td style=\"text-align: left;\">\n",
       "                    <strong>Dashboard: </strong> <a href=\"/user/yfv2ev@virginia.edu/proxy/8787/status\" target=\"_blank\">/user/yfv2ev@virginia.edu/proxy/8787/status</a>\n",
       "                </td>\n",
       "                <td style=\"text-align: left;\"></td>\n",
       "            </tr>\n",
       "        \n",
       "\n",
       "        </table>\n",
       "\n",
       "        \n",
       "            <button style=\"margin-bottom: 12px;\" data-commandlinker-command=\"dask:populate-and-launch-layout\" data-commandlinker-args='{\"url\": \"/user/yfv2ev@virginia.edu/proxy/8787/status\" }'>\n",
       "                Launch dashboard in JupyterLab\n",
       "            </button>\n",
       "        \n",
       "\n",
       "        \n",
       "            <details>\n",
       "            <summary style=\"margin-bottom: 20px;\"><h3 style=\"display: inline;\">Scheduler Info</h3></summary>\n",
       "            <div style=\"\">\n",
       "    <div>\n",
       "        <div style=\"width: 24px; height: 24px; background-color: #FFF7E5; border: 3px solid #FF6132; border-radius: 5px; position: absolute;\"> </div>\n",
       "        <div style=\"margin-left: 48px;\">\n",
       "            <h3 style=\"margin-bottom: 0px;\">Scheduler</h3>\n",
       "            <p style=\"color: #9D9D9D; margin-bottom: 0px;\">Scheduler-b71c7e8a-6fd0-4351-9ac6-c3d3769f6e05</p>\n",
       "            <table style=\"width: 100%; text-align: left;\">\n",
       "                <tr>\n",
       "                    <td style=\"text-align: left;\">\n",
       "                        <strong>Comm:</strong> tls://192.168.121.170:8786\n",
       "                    </td>\n",
       "                    <td style=\"text-align: left;\">\n",
       "                        <strong>Workers:</strong> 0\n",
       "                    </td>\n",
       "                </tr>\n",
       "                <tr>\n",
       "                    <td style=\"text-align: left;\">\n",
       "                        <strong>Dashboard:</strong> <a href=\"/user/yfv2ev@virginia.edu/proxy/8787/status\" target=\"_blank\">/user/yfv2ev@virginia.edu/proxy/8787/status</a>\n",
       "                    </td>\n",
       "                    <td style=\"text-align: left;\">\n",
       "                        <strong>Total threads:</strong> 0\n",
       "                    </td>\n",
       "                </tr>\n",
       "                <tr>\n",
       "                    <td style=\"text-align: left;\">\n",
       "                        <strong>Started:</strong> Just now\n",
       "                    </td>\n",
       "                    <td style=\"text-align: left;\">\n",
       "                        <strong>Total memory:</strong> 0 B\n",
       "                    </td>\n",
       "                </tr>\n",
       "            </table>\n",
       "        </div>\n",
       "    </div>\n",
       "\n",
       "    <details style=\"margin-left: 48px;\">\n",
       "        <summary style=\"margin-bottom: 20px;\">\n",
       "            <h3 style=\"display: inline;\">Workers</h3>\n",
       "        </summary>\n",
       "\n",
       "        \n",
       "\n",
       "    </details>\n",
       "</div>\n",
       "            </details>\n",
       "        \n",
       "\n",
       "    </div>\n",
       "</div>"
      ],
      "text/plain": [
       "<Client: 'tls://192.168.121.170:8786' processes=0 threads=0, memory=0 B>"
      ]
     },
     "execution_count": 2,
     "metadata": {},
     "output_type": "execute_result"
    }
   ],
   "source": [
    "client = scaleout.make_dask_client(\"tls://localhost:8786\")\n",
    "client"
   ]
  },
  {
   "cell_type": "code",
   "execution_count": 3,
   "id": "144357e6-9c9a-49de-beef-cc409d78a07e",
   "metadata": {},
   "outputs": [
    {
     "name": "stdout",
     "output_type": "stream",
     "text": [
      "Sample: DYJetsToLL_M10to50\n",
      "Sample: DYJetsToLL_M50\n",
      "Sample: QCD_Pt15to20\n",
      "Sample: QCD_Pt20to30\n",
      "Sample: QCD_Pt50to80\n",
      "Sample: QCD_Pt80to120\n",
      "Sample: QCD_Pt170to300\n",
      "Sample: QCD_Pt300to470\n",
      "Sample: QCD_Pt470to600\n",
      "Sample: QCD_Pt600to800\n",
      "Sample: QCD_Pt800to1000\n",
      "Sample: QCD_Pt1000toInf\n",
      "Sample: TTJets\n",
      "Sample: WW\n",
      "Sample: WZ\n",
      "Sample: ZZ\n",
      "Sample: 2Mu2E_100GeV_1p2GeV_9p6mm\n",
      "Sample: 4Mu_100GeV_1p2GeV_9p6mm\n",
      "Sample: 2Mu2E_1000GeV_0p25GeV_0p02mm\n",
      "Sample: 4Mu_1000GeV_0p25GeV_0p02mm\n",
      "Sample: 4Mu_100GeV_5GeV_0p4mm\n"
     ]
    }
   ],
   "source": [
    "SIDM_samples = [\n",
    "    \"2Mu2E_100GeV_1p2GeV_9p6mm\", \n",
    "    \"4Mu_100GeV_1p2GeV_9p6mm\",\n",
    "    \n",
    "    \"2Mu2E_1000GeV_0p25GeV_0p02mm\",\n",
    "    \"4Mu_1000GeV_0p25GeV_0p02mm\",\n",
    "\n",
    "    \"4Mu_100GeV_5GeV_0p4mm\"\n",
    "]\n",
    "\n",
    "\n",
    "samples = [\n",
    "    \"DYJetsToLL_M10to50\", # Background\n",
    "    \"DYJetsToLL_M50\",\n",
    "    \n",
    "    \"QCD_Pt15to20\", #Works\n",
    "    \"QCD_Pt20to30\", #issue, needs many files to fill all histograms\n",
    "    #\"QCD_Pt30to50\", #Broken, throws KeyError: 'akjet_ak4PFJetsCHS_jetid' - now fixed in ffschema\n",
    "    \"QCD_Pt50to80\", #Works\n",
    "    \"QCD_Pt80to120\", #Works\n",
    "    #\"QCD_Pt120to170\", #Broken, Exception: Failed processing file: WorkItem(dataset='QCD_Pt120to170' ...)\n",
    "    \"QCD_Pt170to300\", #Works\n",
    "    \"QCD_Pt300to470\", #Works\n",
    "    \"QCD_Pt470to600\", #Works\n",
    "    \"QCD_Pt600to800\", #Works\n",
    "    \"QCD_Pt800to1000\", #Works\n",
    "    \"QCD_Pt1000toInf\", #Works\n",
    "    \n",
    "    \"TTJets\",\n",
    "    \"WW\",\n",
    "    \"WZ\",\n",
    "    \"ZZ\",\n",
    "]\n",
    "\n",
    "for sample in SIDM_samples:\n",
    "    samples.append(sample)\n",
    "\n",
    "for sample in samples:\n",
    "    print(\"Sample: \" + sample)\n",
    "    \n",
    "fileset = utilities.make_fileset(samples, \"ffntuple_v2\", max_files=16) #max_files argument was removed, so it defaults to use all the files in each sample\n",
    "#fileset = utilities.make_fileset(samples, \"ffntuple_v2\", max_files=8) #CHANGED: background appears to use v2 ntuples instead of v4"
   ]
  },
  {
   "cell_type": "code",
   "execution_count": 4,
   "id": "8699f113-506e-4317-989b-d7f3f475dbc1",
   "metadata": {
    "tags": []
   },
   "outputs": [
    {
     "name": "stderr",
     "output_type": "stream",
     "text": [
      "/opt/conda/lib/python3.9/site-packages/dask/dataframe/_pyarrow_compat.py:17: FutureWarning: Minimal version of pyarrow will soon be increased to 14.0.1. You are using 12.0.0. Please consider upgrading.\n",
      "  warnings.warn(\n"
     ]
    },
    {
     "name": "stdout",
     "output_type": "stream",
     "text": [
      "[#####################################   ] | 94% Completed | 16min 12.3ss\u001b[2K"
     ]
    },
    {
     "ename": "KeyboardInterrupt",
     "evalue": "",
     "output_type": "error",
     "traceback": [
      "\u001b[0;31m---------------------------------------------------------------------------\u001b[0m",
      "\u001b[0;31mKeyboardInterrupt\u001b[0m                         Traceback (most recent call last)",
      "Cell \u001b[0;32mIn[4], line 16\u001b[0m\n\u001b[1;32m      9\u001b[0m channels \u001b[38;5;241m=\u001b[39m [\n\u001b[1;32m     10\u001b[0m             \u001b[38;5;124m\"\u001b[39m\u001b[38;5;124m2mu2e\u001b[39m\u001b[38;5;124m\"\u001b[39m,\u001b[38;5;124m\"\u001b[39m\u001b[38;5;124m4mu\u001b[39m\u001b[38;5;124m\"\u001b[39m,\n\u001b[1;32m     11\u001b[0m             \u001b[38;5;124m\"\u001b[39m\u001b[38;5;124mbaseNoLj\u001b[39m\u001b[38;5;124m\"\u001b[39m\n\u001b[1;32m     12\u001b[0m            ] \u001b[38;5;66;03m# NOTE: the channel used determines the cuts applied. baseNoLj removes the checks for multiple jets.\u001b[39;00m\n\u001b[1;32m     13\u001b[0m p \u001b[38;5;241m=\u001b[39m sidm_processor\u001b[38;5;241m.\u001b[39mSidmProcessor(\n\u001b[1;32m     14\u001b[0m     channels, [\u001b[38;5;124m\"\u001b[39m\u001b[38;5;124mbase\u001b[39m\u001b[38;5;124m\"\u001b[39m]) \u001b[38;5;66;03m# not sure if base_plus_gen applies to the background\u001b[39;00m\n\u001b[0;32m---> 16\u001b[0m output \u001b[38;5;241m=\u001b[39m \u001b[43mrunner\u001b[49m\u001b[38;5;241;43m.\u001b[39;49m\u001b[43mrun\u001b[49m\u001b[43m(\u001b[49m\u001b[43mfileset\u001b[49m\u001b[43m,\u001b[49m\u001b[43m \u001b[49m\u001b[43mtreename\u001b[49m\u001b[38;5;241;43m=\u001b[39;49m\u001b[38;5;124;43m\"\u001b[39;49m\u001b[38;5;124;43mffNtuplizer/ffNtuple\u001b[39;49m\u001b[38;5;124;43m\"\u001b[39;49m\u001b[43m,\u001b[49m\u001b[43m \u001b[49m\u001b[43mprocessor_instance\u001b[49m\u001b[38;5;241;43m=\u001b[39;49m\u001b[43mp\u001b[49m\u001b[43m)\u001b[49m\n\u001b[1;32m     17\u001b[0m out \u001b[38;5;241m=\u001b[39m output[\u001b[38;5;124m\"\u001b[39m\u001b[38;5;124mout\u001b[39m\u001b[38;5;124m\"\u001b[39m]\n",
      "File \u001b[0;32m/opt/conda/lib/python3.9/site-packages/coffea/processor/executor.py:1848\u001b[0m, in \u001b[0;36mRunner.run\u001b[0;34m(self, fileset, processor_instance, treename)\u001b[0m\n\u001b[1;32m   1843\u001b[0m closure \u001b[38;5;241m=\u001b[39m partial(\n\u001b[1;32m   1844\u001b[0m     \u001b[38;5;28mself\u001b[39m\u001b[38;5;241m.\u001b[39mautomatic_retries, \u001b[38;5;28mself\u001b[39m\u001b[38;5;241m.\u001b[39mretries, \u001b[38;5;28mself\u001b[39m\u001b[38;5;241m.\u001b[39mskipbadfiles, closure\n\u001b[1;32m   1845\u001b[0m )\n\u001b[1;32m   1847\u001b[0m executor \u001b[38;5;241m=\u001b[39m \u001b[38;5;28mself\u001b[39m\u001b[38;5;241m.\u001b[39mexecutor\u001b[38;5;241m.\u001b[39mcopy(\u001b[38;5;241m*\u001b[39m\u001b[38;5;241m*\u001b[39mexe_args)\n\u001b[0;32m-> 1848\u001b[0m wrapped_out, e \u001b[38;5;241m=\u001b[39m \u001b[43mexecutor\u001b[49m\u001b[43m(\u001b[49m\u001b[43mchunks\u001b[49m\u001b[43m,\u001b[49m\u001b[43m \u001b[49m\u001b[43mclosure\u001b[49m\u001b[43m,\u001b[49m\u001b[43m \u001b[49m\u001b[38;5;28;43;01mNone\u001b[39;49;00m\u001b[43m)\u001b[49m\n\u001b[1;32m   1849\u001b[0m \u001b[38;5;28;01mif\u001b[39;00m wrapped_out \u001b[38;5;129;01mis\u001b[39;00m \u001b[38;5;28;01mNone\u001b[39;00m:\n\u001b[1;32m   1850\u001b[0m     \u001b[38;5;28;01mraise\u001b[39;00m \u001b[38;5;167;01mValueError\u001b[39;00m(\n\u001b[1;32m   1851\u001b[0m         \u001b[38;5;124m\"\u001b[39m\u001b[38;5;124mNo chunks returned results, verify ``processor`` instance structure.\u001b[39m\u001b[38;5;130;01m\\n\u001b[39;00m\u001b[38;5;130;01m\\\u001b[39;00m\n\u001b[1;32m   1852\u001b[0m \u001b[38;5;124m        if you used skipbadfiles=True, it is possible all your files are bad.\u001b[39m\u001b[38;5;124m\"\u001b[39m\n\u001b[1;32m   1853\u001b[0m     )\n",
      "File \u001b[0;32m/opt/conda/lib/python3.9/site-packages/coffea/processor/executor.py:968\u001b[0m, in \u001b[0;36mDaskExecutor.__call__\u001b[0;34m(self, items, function, accumulator)\u001b[0m\n\u001b[1;32m    965\u001b[0m         \u001b[38;5;28;01mfrom\u001b[39;00m \u001b[38;5;21;01mdistributed\u001b[39;00m \u001b[38;5;28;01mimport\u001b[39;00m progress\n\u001b[1;32m    967\u001b[0m         \u001b[38;5;66;03m# FIXME: fancy widget doesn't appear, have to live with boring pbar\u001b[39;00m\n\u001b[0;32m--> 968\u001b[0m         \u001b[43mprogress\u001b[49m\u001b[43m(\u001b[49m\u001b[43mwork\u001b[49m\u001b[43m,\u001b[49m\u001b[43m \u001b[49m\u001b[43mmulti\u001b[49m\u001b[38;5;241;43m=\u001b[39;49m\u001b[38;5;28;43;01mTrue\u001b[39;49;00m\u001b[43m,\u001b[49m\u001b[43m \u001b[49m\u001b[43mnotebook\u001b[49m\u001b[38;5;241;43m=\u001b[39;49m\u001b[38;5;28;43;01mFalse\u001b[39;49;00m\u001b[43m)\u001b[49m\n\u001b[1;32m    969\u001b[0m     \u001b[38;5;28;01mreturn\u001b[39;00m (\n\u001b[1;32m    970\u001b[0m         accumulate(\n\u001b[1;32m    971\u001b[0m             [\n\u001b[0;32m   (...)\u001b[0m\n\u001b[1;32m    978\u001b[0m         \u001b[38;5;241m0\u001b[39m,\n\u001b[1;32m    979\u001b[0m     )\n\u001b[1;32m    980\u001b[0m \u001b[38;5;28;01mexcept\u001b[39;00m KilledWorker \u001b[38;5;28;01mas\u001b[39;00m ex:\n",
      "File \u001b[0;32m/opt/conda/lib/python3.9/site-packages/distributed/diagnostics/progressbar.py:508\u001b[0m, in \u001b[0;36mprogress\u001b[0;34m(notebook, multi, complete, group_by, *futures, **kwargs)\u001b[0m\n\u001b[1;32m    506\u001b[0m     \u001b[38;5;28;01mreturn\u001b[39;00m bar\n\u001b[1;32m    507\u001b[0m \u001b[38;5;28;01melse\u001b[39;00m:\n\u001b[0;32m--> 508\u001b[0m     \u001b[43mTextProgressBar\u001b[49m\u001b[43m(\u001b[49m\u001b[43mfutures\u001b[49m\u001b[43m,\u001b[49m\u001b[43m \u001b[49m\u001b[43mcomplete\u001b[49m\u001b[38;5;241;43m=\u001b[39;49m\u001b[43mcomplete\u001b[49m\u001b[43m,\u001b[49m\u001b[43m \u001b[49m\u001b[38;5;241;43m*\u001b[39;49m\u001b[38;5;241;43m*\u001b[39;49m\u001b[43mkwargs\u001b[49m\u001b[43m)\u001b[49m\n",
      "File \u001b[0;32m/opt/conda/lib/python3.9/site-packages/distributed/diagnostics/progressbar.py:135\u001b[0m, in \u001b[0;36mTextProgressBar.__init__\u001b[0;34m(self, keys, scheduler, interval, width, loop, complete, start, **kwargs)\u001b[0m\n\u001b[1;32m    132\u001b[0m \u001b[38;5;28mself\u001b[39m\u001b[38;5;241m.\u001b[39mwidth \u001b[38;5;241m=\u001b[39m width\n\u001b[1;32m    134\u001b[0m \u001b[38;5;28;01mif\u001b[39;00m start:\n\u001b[0;32m--> 135\u001b[0m     \u001b[43mloop_runner\u001b[49m\u001b[38;5;241;43m.\u001b[39;49m\u001b[43mrun_sync\u001b[49m\u001b[43m(\u001b[49m\u001b[38;5;28;43mself\u001b[39;49m\u001b[38;5;241;43m.\u001b[39;49m\u001b[43mlisten\u001b[49m\u001b[43m)\u001b[49m\n",
      "File \u001b[0;32m/opt/conda/lib/python3.9/site-packages/distributed/utils.py:652\u001b[0m, in \u001b[0;36mLoopRunner.run_sync\u001b[0;34m(self, func, *args, **kwargs)\u001b[0m\n\u001b[1;32m    650\u001b[0m \u001b[38;5;28mself\u001b[39m\u001b[38;5;241m.\u001b[39mstart()\n\u001b[1;32m    651\u001b[0m \u001b[38;5;28;01mtry\u001b[39;00m:\n\u001b[0;32m--> 652\u001b[0m     \u001b[38;5;28;01mreturn\u001b[39;00m \u001b[43msync\u001b[49m\u001b[43m(\u001b[49m\u001b[38;5;28;43mself\u001b[39;49m\u001b[38;5;241;43m.\u001b[39;49m\u001b[43mloop\u001b[49m\u001b[43m,\u001b[49m\u001b[43m \u001b[49m\u001b[43mfunc\u001b[49m\u001b[43m,\u001b[49m\u001b[43m \u001b[49m\u001b[38;5;241;43m*\u001b[39;49m\u001b[43margs\u001b[49m\u001b[43m,\u001b[49m\u001b[43m \u001b[49m\u001b[38;5;241;43m*\u001b[39;49m\u001b[38;5;241;43m*\u001b[39;49m\u001b[43mkwargs\u001b[49m\u001b[43m)\u001b[49m\n\u001b[1;32m    653\u001b[0m \u001b[38;5;28;01mfinally\u001b[39;00m:\n\u001b[1;32m    654\u001b[0m     \u001b[38;5;28mself\u001b[39m\u001b[38;5;241m.\u001b[39mstop()\n",
      "File \u001b[0;32m/opt/conda/lib/python3.9/site-packages/distributed/utils.py:431\u001b[0m, in \u001b[0;36msync\u001b[0;34m(loop, func, callback_timeout, *args, **kwargs)\u001b[0m\n\u001b[1;32m    429\u001b[0m \u001b[38;5;28;01melse\u001b[39;00m:\n\u001b[1;32m    430\u001b[0m     \u001b[38;5;28;01mwhile\u001b[39;00m \u001b[38;5;129;01mnot\u001b[39;00m e\u001b[38;5;241m.\u001b[39mis_set():\n\u001b[0;32m--> 431\u001b[0m         \u001b[43mwait\u001b[49m\u001b[43m(\u001b[49m\u001b[38;5;241;43m10\u001b[39;49m\u001b[43m)\u001b[49m\n\u001b[1;32m    433\u001b[0m \u001b[38;5;28;01mif\u001b[39;00m error \u001b[38;5;129;01mis\u001b[39;00m \u001b[38;5;129;01mnot\u001b[39;00m \u001b[38;5;28;01mNone\u001b[39;00m:\n\u001b[1;32m    434\u001b[0m     \u001b[38;5;28;01mraise\u001b[39;00m error\n",
      "File \u001b[0;32m/opt/conda/lib/python3.9/site-packages/distributed/utils.py:420\u001b[0m, in \u001b[0;36msync.<locals>.wait\u001b[0;34m(timeout)\u001b[0m\n\u001b[1;32m    418\u001b[0m \u001b[38;5;28;01mdef\u001b[39;00m \u001b[38;5;21mwait\u001b[39m(timeout: \u001b[38;5;28mfloat\u001b[39m \u001b[38;5;241m|\u001b[39m \u001b[38;5;28;01mNone\u001b[39;00m) \u001b[38;5;241m-\u001b[39m\u001b[38;5;241m>\u001b[39m \u001b[38;5;28mbool\u001b[39m:\n\u001b[1;32m    419\u001b[0m     \u001b[38;5;28;01mtry\u001b[39;00m:\n\u001b[0;32m--> 420\u001b[0m         \u001b[38;5;28;01mreturn\u001b[39;00m \u001b[43me\u001b[49m\u001b[38;5;241;43m.\u001b[39;49m\u001b[43mwait\u001b[49m\u001b[43m(\u001b[49m\u001b[43mtimeout\u001b[49m\u001b[43m)\u001b[49m\n\u001b[1;32m    421\u001b[0m     \u001b[38;5;28;01mexcept\u001b[39;00m \u001b[38;5;167;01mKeyboardInterrupt\u001b[39;00m:\n\u001b[1;32m    422\u001b[0m         loop\u001b[38;5;241m.\u001b[39madd_callback(cancel)\n",
      "File \u001b[0;32m/opt/conda/lib/python3.9/threading.py:581\u001b[0m, in \u001b[0;36mEvent.wait\u001b[0;34m(self, timeout)\u001b[0m\n\u001b[1;32m    579\u001b[0m signaled \u001b[38;5;241m=\u001b[39m \u001b[38;5;28mself\u001b[39m\u001b[38;5;241m.\u001b[39m_flag\n\u001b[1;32m    580\u001b[0m \u001b[38;5;28;01mif\u001b[39;00m \u001b[38;5;129;01mnot\u001b[39;00m signaled:\n\u001b[0;32m--> 581\u001b[0m     signaled \u001b[38;5;241m=\u001b[39m \u001b[38;5;28;43mself\u001b[39;49m\u001b[38;5;241;43m.\u001b[39;49m\u001b[43m_cond\u001b[49m\u001b[38;5;241;43m.\u001b[39;49m\u001b[43mwait\u001b[49m\u001b[43m(\u001b[49m\u001b[43mtimeout\u001b[49m\u001b[43m)\u001b[49m\n\u001b[1;32m    582\u001b[0m \u001b[38;5;28;01mreturn\u001b[39;00m signaled\n",
      "File \u001b[0;32m/opt/conda/lib/python3.9/threading.py:316\u001b[0m, in \u001b[0;36mCondition.wait\u001b[0;34m(self, timeout)\u001b[0m\n\u001b[1;32m    314\u001b[0m \u001b[38;5;28;01melse\u001b[39;00m:\n\u001b[1;32m    315\u001b[0m     \u001b[38;5;28;01mif\u001b[39;00m timeout \u001b[38;5;241m>\u001b[39m \u001b[38;5;241m0\u001b[39m:\n\u001b[0;32m--> 316\u001b[0m         gotit \u001b[38;5;241m=\u001b[39m \u001b[43mwaiter\u001b[49m\u001b[38;5;241;43m.\u001b[39;49m\u001b[43macquire\u001b[49m\u001b[43m(\u001b[49m\u001b[38;5;28;43;01mTrue\u001b[39;49;00m\u001b[43m,\u001b[49m\u001b[43m \u001b[49m\u001b[43mtimeout\u001b[49m\u001b[43m)\u001b[49m\n\u001b[1;32m    317\u001b[0m     \u001b[38;5;28;01melse\u001b[39;00m:\n\u001b[1;32m    318\u001b[0m         gotit \u001b[38;5;241m=\u001b[39m waiter\u001b[38;5;241m.\u001b[39macquire(\u001b[38;5;28;01mFalse\u001b[39;00m)\n",
      "\u001b[0;31mKeyboardInterrupt\u001b[0m: "
     ]
    }
   ],
   "source": [
    "runner = processor.Runner(\n",
    "    #executor=processor.IterativeExecutor(),\n",
    "    executor=processor.DaskExecutor(client=client),\n",
    "    #executor=processor.FuturesExecutor(),\n",
    "    schema=ffschema.FFSchema,\n",
    "    #maxchunks=1,\n",
    ")\n",
    "\n",
    "channels = [\n",
    "            \"2mu2e\",\"4mu\",\n",
    "            \"baseNoLj\"\n",
    "           ] # NOTE: the channel used determines the cuts applied. baseNoLj removes the checks for multiple jets.\n",
    "p = sidm_processor.SidmProcessor(\n",
    "    channels, [\"base\"]) # not sure if base_plus_gen applies to the background\n",
    "\n",
    "output = runner.run(fileset, treename=\"ffNtuplizer/ffNtuple\", processor_instance=p)\n",
    "out = output[\"out\"]"
   ]
  },
  {
   "cell_type": "code",
   "execution_count": null,
   "id": "02cc6899-49ff-4017-865e-169ca29a88ee",
   "metadata": {
    "tags": []
   },
   "outputs": [],
   "source": [
    "# Post-processing, combines background samples into larger sets.\n",
    "# This applies to cutflows and to histograms\n",
    "hist_set = hist_choice\n",
    "hist_menu = utilities.load_yaml(\"../configs/hist_collections.yaml\")\n",
    "collection = utilities.flatten(hist_menu[hist_set]) #To change the histograms used, swap \"base\" for the other collections\n",
    "\n",
    "sample_list = [\"DY_Jets\", \"QCD_Jets\", \"DiBoson_Jets\", \"TTJets\", \"Total Background\"]\n",
    "\n",
    "for sample in samples:\n",
    "    if not(sample[0] == 'D') and not(sample[0] == 'Q') and not((sample[0] == 'W' or sample[0] == 'Z')) and not(sample[0] == 'T'):\n",
    "        sample_list.append(sample)\n",
    "\n",
    "#Combine Drell-Yan\n",
    "keys = list(output['out'][\"DYJetsToLL_M10to50\"][\"cutflow\"].keys())[:]\n",
    "DY_Cutflow = {k: output['out'][\"DYJetsToLL_M10to50\"][\"cutflow\"][k] for k in keys}\n",
    "    \n",
    "keys = list(output['out'][\"DYJetsToLL_M10to50\"][\"hists\"].keys())[:]\n",
    "DY_Hists = {k: output['out'][\"DYJetsToLL_M10to50\"][\"hists\"][k] for k in keys}\n",
    "    \n",
    "keys = list(output['out'][\"DYJetsToLL_M50\"][\"cutflow\"].keys())[:]\n",
    "temp = {k: output['out'][\"DYJetsToLL_M50\"][\"cutflow\"][k] for k in keys}\n",
    "for channel in channels:\n",
    "    DY_Cutflow[channel] = DY_Cutflow[channel] + temp[channel]\n",
    "keys = list(output['out'][\"DYJetsToLL_M50\"][\"hists\"].keys())[:]\n",
    "temp = {k: output['out'][\"DYJetsToLL_M50\"][\"hists\"][k] for k in keys}    \n",
    "for hist_name in collection:\n",
    "    DY_Hists[hist_name] = DY_Hists[hist_name] + temp[hist_name]\n",
    "\n",
    "#Combine QCD\n",
    "keys = list(output['out'][\"QCD_Pt15to20\"][\"cutflow\"].keys())[:]\n",
    "QCD_Cutflow = {k: output['out'][\"QCD_Pt15to20\"][\"cutflow\"][k] for k in keys}\n",
    "keys = list(output['out'][\"QCD_Pt15to20\"][\"hists\"].keys())[:]\n",
    "QCD_Hists = {k: output['out'][\"QCD_Pt15to20\"][\"hists\"][k] for k in keys}\n",
    "    \n",
    "for sample in samples:\n",
    "    if (sample[0] == 'Q') and (sample != \"QCD_Pt15to20\"):\n",
    "        keys = list(output['out'][sample][\"cutflow\"].keys())[:]\n",
    "        temp = {k: output['out'][sample][\"cutflow\"][k] for k in keys}\n",
    "        for channel in channels:\n",
    "            QCD_Cutflow[channel] = QCD_Cutflow[channel] + temp[channel]\n",
    "                \n",
    "        keys = list(output['out'][sample][\"hists\"].keys())[:]\n",
    "        temp = {k: output['out'][sample][\"hists\"][k] for k in keys}\n",
    "        for hist_name in collection:\n",
    "            QCD_Hists[hist_name] = QCD_Hists[hist_name] + temp[hist_name]\n",
    "\n",
    "#Combine diboson\n",
    "keys = list(output['out'][\"WW\"][\"hists\"].keys())[:]\n",
    "DiBoson_Hists = {k: output['out'][\"WW\"][\"hists\"][k] for k in keys}\n",
    "\n",
    "keys = list(output['out'][\"WW\"][\"cutflow\"].keys())[:]\n",
    "DiBoson_Cutflow = {k: output['out'][\"WW\"][\"cutflow\"][k] for k in keys}\n",
    "\n",
    "for sample in [\"WZ\", \"ZZ\"]:\n",
    "    keys = list(output['out'][\"WZ\"][\"cutflow\"].keys())[:]\n",
    "    temp = {k: output['out'][\"WZ\"][\"cutflow\"][k] for k in keys}\n",
    "    for channel in channels:\n",
    "        DiBoson_Cutflow[channel] = DiBoson_Cutflow[channel] + temp[channel]\n",
    "\n",
    "    keys = list(output['out'][sample][\"hists\"].keys())[:]\n",
    "    temp = {k: output['out'][sample][\"hists\"][k] for k in keys}\n",
    "    for hist_name in collection:\n",
    "        DiBoson_Hists[hist_name] = DiBoson_Hists[hist_name] + temp[hist_name]\n",
    "\n",
    "#Add ttbar\n",
    "keys = list(output['out'][\"TTJets\"][\"hists\"].keys())[:]\n",
    "TT_Hists = {k: output['out'][\"TTJets\"][\"hists\"][k] for k in keys}\n",
    "\n",
    "keys = list(output['out'][\"TTJets\"][\"cutflow\"].keys())[:]\n",
    "TT_Cutflow = {k: output['out'][\"TTJets\"][\"cutflow\"][k] for k in keys}\n",
    "\n",
    "#Combine total background\n",
    "keys = list(output['out'][\"DYJetsToLL_M10to50\"][\"hists\"].keys())[:]\n",
    "bg_Hists = {k: output['out'][\"DYJetsToLL_M10to50\"][\"hists\"][k] for k in keys}\n",
    "\n",
    "keys = list(output['out'][\"DYJetsToLL_M10to50\"][\"cutflow\"].keys())[:]\n",
    "bg_Cutflow = {k: output['out'][\"DYJetsToLL_M10to50\"][\"cutflow\"][k] for k in keys}\n",
    "\n",
    "for sample in samples:\n",
    "    if ((sample[0] == 'D') or (sample[0] == 'Q') or (sample[0] == 'W') or (sample[0] == 'Z') or (sample[0] == 'T')) and (sample != \"DYJetsToLL_M10to50\"):\n",
    "        keys = list(output['out'][sample][\"cutflow\"].keys())[:]\n",
    "        temp = {k: output['out'][sample][\"cutflow\"][k] for k in keys}\n",
    "        for channel in channels:\n",
    "            bg_Cutflow[channel] = bg_Cutflow[channel] + temp[channel]\n",
    "\n",
    "        keys = list(output['out'][sample][\"hists\"].keys())[:]\n",
    "        temp = {k: output['out'][sample][\"hists\"][k] for k in keys}\n",
    "        for hist_name in collection:\n",
    "            bg_Hists[hist_name] = bg_Hists[hist_name] + temp[hist_name]"
   ]
  },
  {
   "cell_type": "code",
   "execution_count": null,
   "id": "331bbd84-ff2c-4185-b46b-52073a307907",
   "metadata": {
    "tags": []
   },
   "outputs": [],
   "source": [
    "#This defines a function to break down the samples and make individual subplots for each one.\n",
    "#Fix: should set the specific range as a parameter. For now, it uses [ :1200j]. Could be an issue in the future.\n",
    "def plotSamples(hists, channel, errorBars, densityPlot, sample_0=sample_list, fullBg=TotalBackground):\n",
    "    samples = []\n",
    "    if channel == \"2mu2e\":\n",
    "        for sample in sample_0:\n",
    "            if sample[0] != '4':\n",
    "                samples.append(sample)\n",
    "    elif channel == \"4mu\":\n",
    "        for sample in sample_0:\n",
    "            if sample[0] != '2':\n",
    "                samples.append(sample)\n",
    "    else:\n",
    "        for sample in sample_0:\n",
    "            samples.append(sample)\n",
    "    nplots = len(samples)\n",
    "    nhists = len(hists)\n",
    "    if (nplots <= 6): ncol, nrow = nplots, 1\n",
    "    else: ncol, nrow = 6, (nplots-1)//6 + 1\n",
    "    plt.subplots(nrow, ncol, figsize=(ncol*12, nrow*9))\n",
    "    plt.rcParams['font.size'] = 16\n",
    "    DY_Flag = QCD_Flag = DB_Flag = TT_Flag = Tot_BG_Flag = False\n",
    "    Tot_BG_Flag = not fullBg\n",
    "    for i in range(nplots):\n",
    "        plt.subplot(nrow, ncol, i+1)\n",
    "        j = 0\n",
    "        if \"DY_Jets\" in samples and DY_Flag == False:\n",
    "            for j in range(nhists):\n",
    "                utilities.plot(DY_Hists[hists[j]][channel, :], yerr=errorBars, density=densityPlot, flow='none')\n",
    "                DY_Flag = True\n",
    "        elif \"QCD_Jets\" in samples and QCD_Flag == False:\n",
    "            for j in range(nhists):\n",
    "                utilities.plot(QCD_Hists[hists[j]][channel, :], yerr=errorBars, density=densityPlot, flow='none')\n",
    "                QCD_Flag = True\n",
    "        elif \"DiBoson_Jets\" in samples and DB_Flag == False:\n",
    "            for j in range(nhists):\n",
    "                utilities.plot(DiBoson_Hists[hists[j]][channel, :], yerr=errorBars, density=densityPlot, flow='none')\n",
    "                DB_Flag = True\n",
    "        elif \"TTJets\" in samples and TT_Flag == False:\n",
    "            for j in range(nhists):\n",
    "                utilities.plot(TT_Hists[hists[j]][channel, :], yerr=errorBars, density=densityPlot, flow='none')\n",
    "                TT_Flag = True\n",
    "        elif \"Total Background\" in samples and Tot_BG_Flag == False:\n",
    "            for j in range(nhists):\n",
    "                utilities.plot(bg_Hists[hists[j]][channel, :], yerr=errorBars, density=densityPlot, flow='none')\n",
    "                Tot_BG_Flag = True\n",
    "        else:\n",
    "            for j in range(nhists):\n",
    "                utilities.plot(out[samples[i]][\"hists\"][hists[j]][channel, :], yerr=errorBars, density=densityPlot, flow='none')\n",
    "        plt.legend(hists)\n",
    "        plt.title(samples[i])"
   ]
  },
  {
   "cell_type": "code",
   "execution_count": null,
   "id": "e3ddda35-c1f3-49e5-9d9d-49be6defc7ea",
   "metadata": {
    "tags": []
   },
   "outputs": [],
   "source": [
    "#DY_Output = output['out'][\"DYJetsToLL_M10to50\"][\"hists\"][\"muon_pt\"] + output['out'][\"DYJetsToLL_M50\"][\"hists\"][\"muon_pt\"]\n",
    "# Trying to combine all DY processes into one element\n",
    "# This would use all DY processes at once\n",
    "# Combining the files manually in the background (combining the categories of <50 and >50) wouldn't work, since only a few files are used overall.\n",
    "# Should work going forward with DY_Output['hists'][\"muon_pt\"][\"baseNoLj\", :], etc.\n",
    "# from coffea.processor import accumulate\n",
    "#double_out = accumulate([output[\"out\"], output[\"out\"]])\n",
    "#DY = accumulate(output['out'][\"DYJetsToLL_M10to50\"], output['out'][\"DYJetsToLL_M10to50\"])\n",
    "#DY = output['out'][\"DYJetsToLL_M10to50\"][\"hists\"] + output['out'][\"DYJetsToLL_M50\"][\"hists\"]\n",
    "#print(output['out'][\"DYJetsToLL_M10to50\"])\n",
    "#print(output['out'][\"DYJetsToLL_M10to50\"])"
   ]
  },
  {
   "cell_type": "code",
   "execution_count": null,
   "id": "2b61fab2-f11c-44f2-a88f-00ae4d33309c",
   "metadata": {
    "tags": []
   },
   "outputs": [],
   "source": [
    "plt.subplots(1,3, figsize=(36, 9))\n",
    "plt.subplot(1, 3, 1)\n",
    "utilities.plot(out[\"DYJetsToLL_M10to50\"][\"hists\"][\"lj_pt\"][\"baseNoLj\", :], density=False, yerr=False)\n",
    "plt.title(\"DY_Jets 10to50\")\n",
    "plt.subplot(1, 3, 2)\n",
    "utilities.plot(out[\"DYJetsToLL_M50\"][\"hists\"][\"lj_pt\"][\"baseNoLj\", :], density=False, yerr=False)\n",
    "plt.title(\"DY_Jets 50+\")\n",
    "plt.subplot(1, 3, 3)\n",
    "#DY_plot = utilities.plot(out[\"DYJetsToLL_M10to50\"][\"hists\"][\"muon_pt\"][\"baseNoLj\", :], density=True) + utilities.plot(out[\"DYJetsToLL_M50\"][\"hists\"][\"muon_pt\"][\"baseNoLj\", :], density=True)\n",
    "utilities.plot(bg_Hists[\"lj_pt\"]['baseNoLj', :], density = False, yerr=False)\n",
    "plt.title(\"Combined BG\")\n",
    "# Shows the issue with combining plots -- all combined plots are overwritten with the sum"
   ]
  },
  {
   "cell_type": "code",
   "execution_count": null,
   "id": "7530a20e-a521-4a91-8680-a668c2f28512",
   "metadata": {
    "tags": []
   },
   "outputs": [],
   "source": [
    "bg_Cutflow[\"2mu2e\"].print_table(fraction=True)"
   ]
  },
  {
   "cell_type": "code",
   "execution_count": null,
   "id": "851d13c8-eae0-4af1-a8a6-d4660985fe29",
   "metadata": {
    "tags": []
   },
   "outputs": [],
   "source": [
    "if QCD:\n",
    "    QCD_Cutflow[\"2mu2e\"].print_table(fraction=True)\n",
    "#output['out'][\"DYJetsToLL_M10to50\"][\"cutflow\"][\"4mu\"].print_table(fraction=True)\n"
   ]
  },
  {
   "cell_type": "code",
   "execution_count": null,
   "id": "eefe92ab-0e6f-4855-bfa5-272d9a2c27e2",
   "metadata": {
    "tags": []
   },
   "outputs": [],
   "source": [
    "if DB:\n",
    "    DiBoson_Cutflow[\"2mu2e\"].print_table(fraction=True)"
   ]
  },
  {
   "cell_type": "raw",
   "id": "b0adda49-23f5-436b-8d36-ed02c0f7d5a8",
   "metadata": {},
   "source": [
    "Cutflow for SIDM samples. A significant number are cut by the >=2 LJ requirement, with very few impacted by the cosmic veto. Note that the 4Mu sample is entirely cut by the 2mu2e requirement, and the 2mu2e sample is almost completely cut by the 4mu requirement."
   ]
  },
  {
   "cell_type": "code",
   "execution_count": null,
   "id": "d9c31011-c74a-45da-80d6-611873a91eff",
   "metadata": {},
   "outputs": [],
   "source": [
    "output['out'][\"2Mu2E_100GeV_1p2GeV_9p6mm\"][\"cutflow\"][\"4mu\"].print_table(fraction=True)\n",
    "print()\n",
    "output['out'][\"2Mu2E_100GeV_1p2GeV_9p6mm\"][\"cutflow\"][\"2mu2e\"].print_table(fraction=True)\n",
    "print()\n",
    "output['out'][\"2Mu2E_100GeV_1p2GeV_9p6mm\"][\"cutflow\"][\"baseNoLj\"].print_table()\n",
    "print()"
   ]
  },
  {
   "cell_type": "code",
   "execution_count": null,
   "id": "3104ea66-581a-4fcd-9d50-579bd00661bc",
   "metadata": {},
   "outputs": [],
   "source": [
    "output['out'][\"4Mu_100GeV_1p2GeV_9p6mm\"][\"cutflow\"][\"4mu\"].print_table(fraction=True)\n",
    "print()\n",
    "output['out'][\"4Mu_100GeV_1p2GeV_9p6mm\"][\"cutflow\"][\"2mu2e\"].print_table(fraction=True)\n",
    "print()"
   ]
  },
  {
   "cell_type": "code",
   "execution_count": null,
   "id": "8892c0f2-ed1c-4cd5-81c8-471787ec7c6c",
   "metadata": {
    "tags": []
   },
   "outputs": [],
   "source": [
    "nrow = 3\n",
    "ncol = 3\n",
    "nplots = nrow*ncol\n",
    "sample_list = [\"DY_Jets\", \"QCD_Jets\"]\n",
    "for sample in samples:\n",
    "    if (sample[0] != 'D') and (sample[0] != 'Q'):\n",
    "        sample_list.append(sample)\n",
    "\n",
    "plt.subplots(nrow, ncol, figsize=(ncol*12, nrow*9))\n",
    "figure_plotted_hists = [[\"lj_n\", True], [\"muon_pt\", True], [\"lj_lj_absdphi\", False]]\n",
    "# each element is [\"Hist_name\", Density]\n",
    "\n",
    "for i in range(len(figure_plotted_hists)):\n",
    "    for j in range(1, ncol+1):\n",
    "        plt.subplot(nrow, ncol, j+i*ncol)\n",
    "        \n",
    "        utilities.plot(DY_Hists[figure_plotted_hists[i][0]][channels[j-1], :], yerr=False, density=figure_plotted_hists[i][1])\n",
    "        utilities.plot(QCD_Hists[figure_plotted_hists[i][0]][channels[j-1], :], yerr=False, density=figure_plotted_hists[i][1])\n",
    "\n",
    "        for sample in sample_list:\n",
    "            if sample[0] != 'D' and sample[0] != 'Q':\n",
    "                utilities.plot(out[sample][\"hists\"][figure_plotted_hists[i][0]][channels[j-1], :], yerr=False, density=figure_plotted_hists[i][1])\n",
    "\n",
    "        plt.ylabel(\"Arbitrary units\")\n",
    "        plt.legend(sample_list, loc=1, prop={'size': 16})\n",
    "        plt.title(channels[j-1] + ' ' + figure_plotted_hists[i][0])"
   ]
  },
  {
   "cell_type": "code",
   "execution_count": null,
   "id": "67b2b7b7-5ac6-4cc2-9888-8b99d914a472",
   "metadata": {},
   "outputs": [],
   "source": [
    "plotSamples([\"muon_pt\"], \"baseNoLj\", False, True)"
   ]
  },
  {
   "cell_type": "markdown",
   "id": "aa44078e-9e0e-40ec-8497-a54c46e836fe",
   "metadata": {},
   "source": [
    "From the muon_pt plots, it's clear that many of the background types do not have enough data to support useful histograms. Even in the baseNoLj channel, WW and ZZ especially have few samples. One of the ZZ bins is negative and the overall shape follows a trend, but is small enough that some bins are nearly empty. Furthermore, it is clear from a first glance what QCD bin was excluded (30-50). This needs to be fixed to smooth out the plot."
   ]
  },
  {
   "cell_type": "code",
   "execution_count": null,
   "id": "917c5a4f-1756-4a7a-8cd6-4203195db7af",
   "metadata": {
    "tags": []
   },
   "outputs": [],
   "source": [
    "utilities.plot(DiBoson_Hists[\"muon_pt\"][\"baseNoLj\", :200j], yerr=False, density=True)"
   ]
  },
  {
   "cell_type": "code",
   "execution_count": null,
   "id": "bbdb8cc4-8f8a-4e88-87b8-19237b1c6f18",
   "metadata": {
    "tags": []
   },
   "outputs": [],
   "source": [
    "print(sample_list)\n",
    "\n",
    "plotSamples([\"lj0_pt\"], \"baseNoLj\", False, True)"
   ]
  },
  {
   "cell_type": "code",
   "execution_count": null,
   "id": "499d303b-8d35-4550-ac35-1406089491cb",
   "metadata": {
    "tags": []
   },
   "outputs": [],
   "source": [
    "print(sample_list)\n",
    "\n",
    "plotSamples([\"lj_lj_invmass\", \"lj_pt\"], \"baseNoLj\", False, True)"
   ]
  },
  {
   "cell_type": "code",
   "execution_count": null,
   "id": "9ab973ef-6038-4466-996e-d0bcf30abe4d",
   "metadata": {
    "tags": []
   },
   "outputs": [],
   "source": [
    "plotSamples([\"lj_lj_absdphi\"], \"baseNoLj\", False, True)"
   ]
  },
  {
   "cell_type": "code",
   "execution_count": null,
   "id": "91ef7a8c-8b1d-4484-9655-befb02b18679",
   "metadata": {
    "tags": []
   },
   "outputs": [],
   "source": [
    "utilities.plot(QCD_Hists[\"muon_pt\"][\"2mu2e\", :], yerr=False, density=False)"
   ]
  },
  {
   "cell_type": "code",
   "execution_count": null,
   "id": "7676e85f-c43d-4a00-8e9c-00d871fd5535",
   "metadata": {},
   "outputs": [],
   "source": [
    "nrow = 2\n",
    "ncol = 3\n",
    "nplots = nrow*ncol\n",
    "\n",
    "plt.subplots(nrow, ncol, figsize=(ncol*12, nrow*9))\n",
    "\n",
    "for i in range(1, ncol+1):\n",
    "    plt.subplot(nrow, ncol, i)\n",
    "    for sample in samples:\n",
    "        utilities.plot(out[sample][\"hists\"][\"lj0_dRSpread\"][channels[i-1], :.02j], yerr=False, density=False, flow='none')\n",
    "    # plt.legend(masses, title=\"DM bound state mass\", alignment=\"left\")\n",
    "    plt.ylabel(\"Arbitrary units\")\n",
    "    plt.legend(samples, loc=1, prop={'size': 16})\n",
    "    plt.title(\"Leading LJ \" + channels[i-1])\n",
    "    \n",
    "for i in range(1, ncol+1):\n",
    "    plt.subplot(nrow, ncol, i+ncol)\n",
    "    for sample in samples:\n",
    "        utilities.plot(out[sample][\"hists\"][\"lj1_dRSpread\"][channels[i-1], :.02j], yerr=False, density=False, flow='none')\n",
    "    # plt.legend(masses, title=\"DM bound state mass\", alignment=\"left\")\n",
    "    plt.ylabel(\"Arbitrary units\")\n",
    "    plt.legend(samples, loc=1, prop={'size': 16})\n",
    "    plt.title(\"Subleading LJ \" + channels[i-1])"
   ]
  },
  {
   "cell_type": "code",
   "execution_count": null,
   "id": "956eb2ec-98b6-452d-9f47-5ff1ffb43b98",
   "metadata": {
    "tags": []
   },
   "outputs": [],
   "source": [
    "if 0:\n",
    "    nplots = 2\n",
    "    plt.subplots(1, nplots, figsize=(nplots*12, 10))\n",
    "    plt.subplot(1, nplots, 1)\n",
    "    for sample in samples:\n",
    "        utilities.plot(out[sample][\"hists\"][\"muon_n\"][channels[2], :], density=True)\n",
    "        # plt.legend(masses, title=\"DM bound state mass\", alignment=\"left\")\n",
    "        plt.ylabel(\"Arbitrary units\")\n",
    "    plt.subplot(1, nplots, 2)\n",
    "    for sample in samples:\n",
    "        utilities.plot(out[sample][\"hists\"][\"electron_n\"][channels[2], :], density=True)\n",
    "        #plt.legend(masses, title=\"DM bound state mass\", alignment=\"left\")\n",
    "        plt.ylabel(\"Arbitrary units\")"
   ]
  },
  {
   "cell_type": "code",
   "execution_count": null,
   "id": "42fd953e-6d01-4b56-9978-a0c3365bf41a",
   "metadata": {
    "tags": []
   },
   "outputs": [],
   "source": [
    "samples_used = []\n",
    "cutflows_used = []\n",
    "\n",
    "samples_used.append(\"Background\")\n",
    "cutflows_used.append(bg_Cutflow[\"4mu\"])\n",
    "    \n",
    "for sample in samples:\n",
    "    if sample[0] == '2' or sample[0] == '4':\n",
    "        samples_used.append(sample)\n",
    "        cutflows_used.append(out[sample][\"cutflow\"][\"4mu\"])\n",
    "\n",
    "cutflow.print_multi_table(cutflows_used, samples_used, True)"
   ]
  },
  {
   "cell_type": "code",
   "execution_count": null,
   "id": "43ffd213-815a-4ce9-8534-88262fe7d28e",
   "metadata": {
    "tags": []
   },
   "outputs": [],
   "source": [
    "sample_used = \"4Mu_100GeV_1p2GeV_9p6mm\"\n",
    "cut_samples = [\n",
    "    \"4Mu_1000GeV_0p25GeV_0p02mm\",\n",
    "    \"4Mu_100GeV_5GeV_0p4mm\"\n",
    "]\n",
    "headers = [sample_used]\n",
    "cutflow_list = [out[sample_used][\"cutflow\"][\"baseNoLj\"]]\n",
    "\n",
    "for sample in cut_samples:\n",
    "    cutflow_list.append(out[sample][\"cutflow\"][\"baseNoLj\"])\n",
    "    headers.append(sample)\n",
    "    \n",
    "    \n",
    "cutflow.print_multi_table(cutflow_list, headers, False, False, \"Cuts in SIDM samples\")\n",
    "\n",
    "cutflow.print_multi_table(cutflow_list, headers, True, False, \"Fractional SIDM cuts\")"
   ]
  },
  {
   "cell_type": "code",
   "execution_count": null,
   "id": "3cbe5817-d1ed-4c89-905f-0eef5e4a073b",
   "metadata": {},
   "outputs": [],
   "source": [
    "cutflows_4mu = [bg_Cutflow[\"4mu\"]]\n",
    "if 1:  \n",
    "    cutflows_4mu.append(DY_Cutflow[\"4mu\"])\n",
    "    cutflows_4mu.append(QCD_Cutflow[\"4mu\"])\n",
    "    cutflows_4mu.append(DiBoson_Cutflow[\"4mu\"])\n",
    "    cutflows_4mu.append(TT_Cutflow[\"4mu\"])\n",
    "headers = [\n",
    "        \"Bg 4mu\", \"DY 4mu\", \"QCD 4mu\", \"DB 4mu\", \"TTbar 4mu\"\n",
    "]\n",
    "cutflow.print_multi_table(cutflows_4mu, headers, False, False)\n",
    "cutflow.print_multi_table(cutflows_4mu, headers, True, False)"
   ]
  },
  {
   "cell_type": "code",
   "execution_count": null,
   "id": "c85944e1-973a-428e-83da-05fbe5046bca",
   "metadata": {
    "tags": []
   },
   "outputs": [],
   "source": [
    "cutflows_2mu2e = [bg_Cutflow[\"2mu2e\"]]\n",
    "if 1:  \n",
    "    cutflows_2mu2e.append(DY_Cutflow[\"2mu2e\"])\n",
    "    cutflows_2mu2e.append(QCD_Cutflow[\"2mu2e\"])\n",
    "    cutflows_2mu2e.append(DiBoson_Cutflow[\"2mu2e\"])\n",
    "    cutflows_2mu2e.append(TT_Cutflow[\"2mu2e\"])\n",
    "headers = [\n",
    "        \"Bg 2mu2e\", \"DY 2mu2e\", \"QCD 2mu2e\", \"DB 2mu2e\", \"TTbar 2mu2e\"\n",
    "]\n",
    "cutflow.print_multi_table(cutflows_2mu2e, headers, False, False)\n",
    "cutflow.print_multi_table(cutflows_2mu2e, headers, True, False)"
   ]
  },
  {
   "cell_type": "code",
   "execution_count": null,
   "id": "24701185-f28a-4065-8d01-9459e4fd3f25",
   "metadata": {
    "tags": []
   },
   "outputs": [],
   "source": [
    "print(\"2mu2e Analysis -- shows the cutflow tables for both the total events cut and the fractional events, then plots cutflow over each cut.\\n\\n\")\n",
    "cutflows_2mu2e = [bg_Cutflow[\"2mu2e\"]]\n",
    "if 1:  \n",
    "    cutflows_2mu2e.append(DY_Cutflow[\"2mu2e\"])\n",
    "    cutflows_2mu2e.append(QCD_Cutflow[\"2mu2e\"])\n",
    "    cutflows_2mu2e.append(DiBoson_Cutflow[\"2mu2e\"])\n",
    "    cutflows_2mu2e.append(TT_Cutflow[\"2mu2e\"])\n",
    "headers = [\n",
    "        \"Bg 2mu2e\", \"DY 2mu2e\", \"QCD 2mu2e\", \"DB 2mu2e\", \"TTbar 2mu2e\"\n",
    "]\n",
    "cutflow.print_multi_table(cutflows_2mu2e, headers, False, False)\n",
    "cutflow.print_multi_table(cutflows_2mu2e, headers, True, False)\n",
    "cutbreakdowns_2mu2e = [bg_Cutflow[\"2mu2e\"].cut_breakdown()]\n",
    "for cuts in cutflows_2mu2e:\n",
    "    cutbreakdowns_2mu2e.append(cuts.cut_breakdown())\n",
    "samples = [\"Total Background\", \"DY Jets\", \"QCD Jets\", \"DB Jets\", \"TT Jets\"]\n",
    "cutlabels = cutflows_2mu2e[0].cut_breakdown(giveCuts=True)\n",
    "print(cutlabels)\n",
    "for i in range(len(cutbreakdowns_2mu2e)):\n",
    "    print(str(cutbreakdowns_2mu2e[i]) + ' \\n')"
   ]
  },
  {
   "cell_type": "code",
   "execution_count": null,
   "id": "c5cef2dc-2526-46a7-9ca4-61af7de673a1",
   "metadata": {
    "tags": []
   },
   "outputs": [],
   "source": [
    "for i in range(len(cutbreakdowns_2mu2e)):\n",
    "    utilities.plot(cutlabels, cutbreakdowns_2mu2e[i])\n",
    "plt.legend(samples)\n",
    "plt.title(\"Events cut by selection\")\n",
    "plt.yscale(\"log\")"
   ]
  },
  {
   "cell_type": "code",
   "execution_count": null,
   "id": "12769e6e-4332-43a7-81d7-cfd32c2e92f1",
   "metadata": {},
   "outputs": [],
   "source": [
    "print(\"4mu Analysis -- shows the cutflow tables for both the total events cut and the fractional events, then plots cutflow over each cut.\\n\\n\")\n",
    "cutflows_4mu = [bg_Cutflow[\"4mu\"]]\n",
    "if 1:  \n",
    "    cutflows_4mu.append(DY_Cutflow[\"4mu\"])\n",
    "    cutflows_4mu.append(QCD_Cutflow[\"4mu\"])\n",
    "    cutflows_4mu.append(DiBoson_Cutflow[\"4mu\"])\n",
    "    cutflows_4mu.append(TT_Cutflow[\"4mu\"])\n",
    "headers = [\n",
    "        \"Bg 4mu\", \"DY 4mu\", \"QCD 4mu\", \"DB 4mu\", \"TTbar 4mu\"\n",
    "]\n",
    "cutflow.print_multi_table(cutflows_4mu, headers, False, False)\n",
    "cutflow.print_multi_table(cutflows_4mu, headers, True, False)\n",
    "cutbreakdowns_4mu = [bg_Cutflow[\"4mu\"].cut_breakdown()]\n",
    "for cuts in cutflows_4mu:\n",
    "    cutbreakdowns_4mu.append(cuts.cut_breakdown())\n",
    "samples = [\"Total Background\", \"DY Jets\", \"QCD Jets\", \"DB Jets\", \"TT Jets\"]\n",
    "cutlabels = cutflows_4mu[0].cut_breakdown(giveCuts=True)\n",
    "print(cutlabels)\n",
    "for i in range(len(cutbreakdowns_2mu2e)):\n",
    "    print(str(cutbreakdowns_4mu[i]) + ' \\n')"
   ]
  },
  {
   "cell_type": "code",
   "execution_count": null,
   "id": "0cc0c05b-2481-4fb6-ab91-da55c6aa90ce",
   "metadata": {
    "tags": []
   },
   "outputs": [],
   "source": [
    "for i in range(len(cutbreakdowns_2mu2e)):\n",
    "    utilities.plot(cutlabels, cutbreakdowns_2mu2e[i])\n",
    "plt.legend(samples)\n",
    "plt.title(\"Events cut by selection\")\n",
    "plt.yscale(\"log\")"
   ]
  }
 ],
 "metadata": {
  "kernelspec": {
   "display_name": "Python 3 (ipykernel)",
   "language": "python",
   "name": "python3"
  },
  "language_info": {
   "codemirror_mode": {
    "name": "ipython",
    "version": 3
   },
   "file_extension": ".py",
   "mimetype": "text/x-python",
   "name": "python",
   "nbconvert_exporter": "python",
   "pygments_lexer": "ipython3",
   "version": "3.9.18"
  }
 },
 "nbformat": 4,
 "nbformat_minor": 5
}
