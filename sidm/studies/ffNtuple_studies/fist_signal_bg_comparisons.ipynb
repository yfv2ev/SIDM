{
 "cells": [
  {
   "cell_type": "code",
   "execution_count": 1,
   "id": "c212ba39-7170-49af-9ce9-7fc6abdebe3e",
   "metadata": {
    "tags": []
   },
   "outputs": [],
   "source": [
    "# python\n",
    "import sys\n",
    "import os\n",
    "import importlib\n",
    "# columnar analysis\n",
    "from coffea import processor\n",
    "import awkward as ak\n",
    "from dask.distributed import Client\n",
    "# local\n",
    "sys.path.insert(1, os.path.join(sys.path[0], '../..')) # fixme: there must be a better way to handle this...\n",
    "from sidm.tools import ffschema, sidm_processor, utilities\n",
    "# always reload local modules to pick up changes during development\n",
    "importlib.reload(ffschema)\n",
    "importlib.reload(sidm_processor)\n",
    "importlib.reload(utilities)\n",
    "# plotting\n",
    "import matplotlib.pyplot as plt\n",
    "utilities.set_plot_style()\n",
    "%matplotlib inline"
   ]
  },
  {
   "cell_type": "code",
   "execution_count": 25,
   "id": "f959ef55-b56e-4369-bcee-a9f9c2e6b862",
   "metadata": {
    "tags": []
   },
   "outputs": [
    {
     "data": {
      "application/vnd.jupyter.widget-view+json": {
       "model_id": "12d63110639f4653afe4e32e90f18790",
       "version_major": 2,
       "version_minor": 0
      },
      "text/plain": [
       "Output()"
      ]
     },
     "metadata": {},
     "output_type": "display_data"
    },
    {
     "data": {
      "text/html": [
       "<pre style=\"white-space:pre;overflow-x:auto;line-height:normal;font-family:Menlo,'DejaVu Sans Mono',consolas,'Courier New',monospace\"></pre>\n"
      ],
      "text/plain": []
     },
     "metadata": {},
     "output_type": "display_data"
    },
    {
     "data": {
      "text/html": [
       "<pre style=\"white-space:pre;overflow-x:auto;line-height:normal;font-family:Menlo,'DejaVu Sans Mono',consolas,'Courier New',monospace\">\n",
       "</pre>\n"
      ],
      "text/plain": [
       "\n"
      ]
     },
     "metadata": {},
     "output_type": "display_data"
    },
    {
     "data": {
      "application/vnd.jupyter.widget-view+json": {
       "model_id": "d3e28a9a737e4ed2a7421c09eeb17ee5",
       "version_major": 2,
       "version_minor": 0
      },
      "text/plain": [
       "Output()"
      ]
     },
     "metadata": {},
     "output_type": "display_data"
    },
    {
     "data": {
      "text/html": [
       "<pre style=\"white-space:pre;overflow-x:auto;line-height:normal;font-family:Menlo,'DejaVu Sans Mono',consolas,'Courier New',monospace\">Warning: electrons not found in this sample. Skipping.\n",
       "</pre>\n"
      ],
      "text/plain": [
       "Warning: electrons not found in this sample. Skipping.\n"
      ]
     },
     "metadata": {},
     "output_type": "display_data"
    },
    {
     "data": {
      "text/html": [
       "<pre style=\"white-space:pre;overflow-x:auto;line-height:normal;font-family:Menlo,'DejaVu Sans Mono',consolas,'Courier New',monospace\">Warning: photons not found in this sample. Skipping.\n",
       "</pre>\n"
      ],
      "text/plain": [
       "Warning: photons not found in this sample. Skipping.\n"
      ]
     },
     "metadata": {},
     "output_type": "display_data"
    },
    {
     "data": {
      "text/html": [
       "<pre style=\"white-space:pre;overflow-x:auto;line-height:normal;font-family:Menlo,'DejaVu Sans Mono',consolas,'Courier New',monospace\">Warning: genAs_toMu not found in this sample. Skipping.\n",
       "</pre>\n"
      ],
      "text/plain": [
       "Warning: genAs_toMu not found in this sample. Skipping.\n"
      ]
     },
     "metadata": {},
     "output_type": "display_data"
    },
    {
     "data": {
      "text/html": [
       "<pre style=\"white-space:pre;overflow-x:auto;line-height:normal;font-family:Menlo,'DejaVu Sans Mono',consolas,'Courier New',monospace\">Warning: genAs_toE not found in this sample. Skipping.\n",
       "</pre>\n"
      ],
      "text/plain": [
       "Warning: genAs_toE not found in this sample. Skipping.\n"
      ]
     },
     "metadata": {},
     "output_type": "display_data"
    },
    {
     "data": {
      "text/html": [
       "<pre style=\"white-space:pre;overflow-x:auto;line-height:normal;font-family:Menlo,'DejaVu Sans Mono',consolas,'Courier New',monospace\">Not applying any cuts to the lepton jets for channel  baseNoLj\n",
       "</pre>\n"
      ],
      "text/plain": [
       "Not applying any cuts to the lepton jets for channel  baseNoLj\n"
      ]
     },
     "metadata": {},
     "output_type": "display_data"
    },
    {
     "data": {
      "text/html": [
       "<pre style=\"white-space:pre;overflow-x:auto;line-height:normal;font-family:Menlo,'DejaVu Sans Mono',consolas,'Courier New',monospace\">Warning: electrons not found in sample. The following cuts will not be applied: ['pT &gt; 10 GeV', '|eta| &lt; 2.4', \n",
       "'looseID']\n",
       "</pre>\n"
      ],
      "text/plain": [
       "Warning: electrons not found in sample. The following cuts will not be applied: ['pT > 10 GeV', '|eta| < 2.4', \n",
       "'looseID']\n"
      ]
     },
     "metadata": {},
     "output_type": "display_data"
    },
    {
     "data": {
      "text/html": [
       "<pre style=\"white-space:pre;overflow-x:auto;line-height:normal;font-family:Menlo,'DejaVu Sans Mono',consolas,'Courier New',monospace\">Warning: Unable to apply looseID for muons. Skipping.\n",
       "</pre>\n"
      ],
      "text/plain": [
       "Warning: Unable to apply looseID for muons. Skipping.\n"
      ]
     },
     "metadata": {},
     "output_type": "display_data"
    },
    {
     "data": {
      "text/html": [
       "<pre style=\"white-space:pre;overflow-x:auto;line-height:normal;font-family:Menlo,'DejaVu Sans Mono',consolas,'Courier New',monospace\">Warning: photons not found in sample. The following cuts will not be applied: ['pT &gt; 20 GeV', '|eta| &lt; 2.5', \n",
       "'looseID']\n",
       "</pre>\n"
      ],
      "text/plain": [
       "Warning: photons not found in sample. The following cuts will not be applied: ['pT > 20 GeV', '|eta| < 2.5', \n",
       "'looseID']\n"
      ]
     },
     "metadata": {},
     "output_type": "display_data"
    },
    {
     "data": {
      "text/html": [
       "<pre style=\"white-space:pre;overflow-x:auto;line-height:normal;font-family:Menlo,'DejaVu Sans Mono',consolas,'Courier New',monospace\">Warning: Unable to apply ifcsczero for dsaMuons. Skipping.\n",
       "</pre>\n"
      ],
      "text/plain": [
       "Warning: Unable to apply ifcsczero for dsaMuons. Skipping.\n"
      ]
     },
     "metadata": {},
     "output_type": "display_data"
    },
    {
     "data": {
      "text/html": [
       "<pre style=\"white-space:pre;overflow-x:auto;line-height:normal;font-family:Menlo,'DejaVu Sans Mono',consolas,'Courier New',monospace\">Warning: Unable to apply segOverlap &lt; 0.66 for dsaMuons. Skipping.\n",
       "</pre>\n"
      ],
      "text/plain": [
       "Warning: Unable to apply segOverlap < 0.66 for dsaMuons. Skipping.\n"
      ]
     },
     "metadata": {},
     "output_type": "display_data"
    },
    {
     "data": {
      "text/html": [
       "<pre style=\"white-space:pre;overflow-x:auto;line-height:normal;font-family:Menlo,'DejaVu Sans Mono',consolas,'Courier New',monospace\">Warning: Unable to apply extrapolatedDr &gt; 0.2 for dsaMuons. Skipping.\n",
       "</pre>\n"
      ],
      "text/plain": [
       "Warning: Unable to apply extrapolatedDr > 0.2 for dsaMuons. Skipping.\n"
      ]
     },
     "metadata": {},
     "output_type": "display_data"
    },
    {
     "data": {
      "text/html": [
       "<pre style=\"white-space:pre;overflow-x:auto;line-height:normal;font-family:Menlo,'DejaVu Sans Mono',consolas,'Courier New',monospace\">Warning: Unable to apply isSubsetAnyPFMuon False for dsaMuons. Skipping.\n",
       "</pre>\n"
      ],
      "text/plain": [
       "Warning: Unable to apply isSubsetAnyPFMuon False for dsaMuons. Skipping.\n"
      ]
     },
     "metadata": {},
     "output_type": "display_data"
    },
    {
     "data": {
      "text/html": [
       "<pre style=\"white-space:pre;overflow-x:auto;line-height:normal;font-family:Menlo,'DejaVu Sans Mono',consolas,'Courier New',monospace\">Warning: Unable to apply DT + CSC hits &gt; 12 for dsaMuons. Skipping.\n",
       "</pre>\n"
      ],
      "text/plain": [
       "Warning: Unable to apply DT + CSC hits > 12 for dsaMuons. Skipping.\n"
      ]
     },
     "metadata": {},
     "output_type": "display_data"
    },
    {
     "data": {
      "text/html": [
       "<pre style=\"white-space:pre;overflow-x:auto;line-height:normal;font-family:Menlo,'DejaVu Sans Mono',consolas,'Courier New',monospace\">Warning: Unable to apply DT + CSC stations &gt;= 2 for dsaMuons. Skipping.\n",
       "</pre>\n"
      ],
      "text/plain": [
       "Warning: Unable to apply DT + CSC stations >= 2 for dsaMuons. Skipping.\n"
      ]
     },
     "metadata": {},
     "output_type": "display_data"
    },
    {
     "data": {
      "text/html": [
       "<pre style=\"white-space:pre;overflow-x:auto;line-height:normal;font-family:Menlo,'DejaVu Sans Mono',consolas,'Courier New',monospace\">Warning: Unable to apply ptErrorOverPT &lt; 1 for dsaMuons. Skipping.\n",
       "</pre>\n"
      ],
      "text/plain": [
       "Warning: Unable to apply ptErrorOverPT < 1 for dsaMuons. Skipping.\n"
      ]
     },
     "metadata": {},
     "output_type": "display_data"
    },
    {
     "data": {
      "text/html": [
       "<pre style=\"white-space:pre;overflow-x:auto;line-height:normal;font-family:Menlo,'DejaVu Sans Mono',consolas,'Courier New',monospace\">Warning: electrons not found in sample. The following cuts will not be applied: ['pT &gt; 10 GeV', '|eta| &lt; 2.4', \n",
       "'looseID']\n",
       "</pre>\n"
      ],
      "text/plain": [
       "Warning: electrons not found in sample. The following cuts will not be applied: ['pT > 10 GeV', '|eta| < 2.4', \n",
       "'looseID']\n"
      ]
     },
     "metadata": {},
     "output_type": "display_data"
    },
    {
     "data": {
      "text/html": [
       "<pre style=\"white-space:pre;overflow-x:auto;line-height:normal;font-family:Menlo,'DejaVu Sans Mono',consolas,'Courier New',monospace\">Uh oh, haven't evaluated this cut yet! Make sure it was included in the list of cuts you used to initialize this \n",
       "JaggedSelection.   muons :  looseID\n",
       "</pre>\n"
      ],
      "text/plain": [
       "Uh oh, haven't evaluated this cut yet! Make sure it was included in the list of cuts you used to initialize this \n",
       "JaggedSelection.   muons :  looseID\n"
      ]
     },
     "metadata": {},
     "output_type": "display_data"
    },
    {
     "data": {
      "text/html": [
       "<pre style=\"white-space:pre;overflow-x:auto;line-height:normal;font-family:Menlo,'DejaVu Sans Mono',consolas,'Courier New',monospace\">Warning: photons not found in sample. The following cuts will not be applied: ['pT &gt; 20 GeV', '|eta| &lt; 2.5', \n",
       "'looseID']\n",
       "</pre>\n"
      ],
      "text/plain": [
       "Warning: photons not found in sample. The following cuts will not be applied: ['pT > 20 GeV', '|eta| < 2.5', \n",
       "'looseID']\n"
      ]
     },
     "metadata": {},
     "output_type": "display_data"
    },
    {
     "data": {
      "text/html": [
       "<pre style=\"white-space:pre;overflow-x:auto;line-height:normal;font-family:Menlo,'DejaVu Sans Mono',consolas,'Courier New',monospace\">Uh oh, haven't evaluated this cut yet! Make sure it was included in the list of cuts you used to initialize this \n",
       "JaggedSelection.   dsaMuons :  ifcsczero\n",
       "</pre>\n"
      ],
      "text/plain": [
       "Uh oh, haven't evaluated this cut yet! Make sure it was included in the list of cuts you used to initialize this \n",
       "JaggedSelection.   dsaMuons :  ifcsczero\n"
      ]
     },
     "metadata": {},
     "output_type": "display_data"
    },
    {
     "data": {
      "text/html": [
       "<pre style=\"white-space:pre;overflow-x:auto;line-height:normal;font-family:Menlo,'DejaVu Sans Mono',consolas,'Courier New',monospace\">Uh oh, haven't evaluated this cut yet! Make sure it was included in the list of cuts you used to initialize this \n",
       "JaggedSelection.   dsaMuons :  segOverlap &lt; 0.66\n",
       "</pre>\n"
      ],
      "text/plain": [
       "Uh oh, haven't evaluated this cut yet! Make sure it was included in the list of cuts you used to initialize this \n",
       "JaggedSelection.   dsaMuons :  segOverlap < 0.66\n"
      ]
     },
     "metadata": {},
     "output_type": "display_data"
    },
    {
     "data": {
      "text/html": [
       "<pre style=\"white-space:pre;overflow-x:auto;line-height:normal;font-family:Menlo,'DejaVu Sans Mono',consolas,'Courier New',monospace\">Uh oh, haven't evaluated this cut yet! Make sure it was included in the list of cuts you used to initialize this \n",
       "JaggedSelection.   dsaMuons :  extrapolatedDr &gt; 0.2\n",
       "</pre>\n"
      ],
      "text/plain": [
       "Uh oh, haven't evaluated this cut yet! Make sure it was included in the list of cuts you used to initialize this \n",
       "JaggedSelection.   dsaMuons :  extrapolatedDr > 0.2\n"
      ]
     },
     "metadata": {},
     "output_type": "display_data"
    },
    {
     "data": {
      "text/html": [
       "<pre style=\"white-space:pre;overflow-x:auto;line-height:normal;font-family:Menlo,'DejaVu Sans Mono',consolas,'Courier New',monospace\">Uh oh, haven't evaluated this cut yet! Make sure it was included in the list of cuts you used to initialize this \n",
       "JaggedSelection.   dsaMuons :  isSubsetAnyPFMuon False\n",
       "</pre>\n"
      ],
      "text/plain": [
       "Uh oh, haven't evaluated this cut yet! Make sure it was included in the list of cuts you used to initialize this \n",
       "JaggedSelection.   dsaMuons :  isSubsetAnyPFMuon False\n"
      ]
     },
     "metadata": {},
     "output_type": "display_data"
    },
    {
     "data": {
      "text/html": [
       "<pre style=\"white-space:pre;overflow-x:auto;line-height:normal;font-family:Menlo,'DejaVu Sans Mono',consolas,'Courier New',monospace\">Uh oh, haven't evaluated this cut yet! Make sure it was included in the list of cuts you used to initialize this \n",
       "JaggedSelection.   dsaMuons :  DT + CSC hits &gt; 12\n",
       "</pre>\n"
      ],
      "text/plain": [
       "Uh oh, haven't evaluated this cut yet! Make sure it was included in the list of cuts you used to initialize this \n",
       "JaggedSelection.   dsaMuons :  DT + CSC hits > 12\n"
      ]
     },
     "metadata": {},
     "output_type": "display_data"
    },
    {
     "data": {
      "text/html": [
       "<pre style=\"white-space:pre;overflow-x:auto;line-height:normal;font-family:Menlo,'DejaVu Sans Mono',consolas,'Courier New',monospace\">Uh oh, haven't evaluated this cut yet! Make sure it was included in the list of cuts you used to initialize this \n",
       "JaggedSelection.   dsaMuons :  DT + CSC stations &gt;= 2\n",
       "</pre>\n"
      ],
      "text/plain": [
       "Uh oh, haven't evaluated this cut yet! Make sure it was included in the list of cuts you used to initialize this \n",
       "JaggedSelection.   dsaMuons :  DT + CSC stations >= 2\n"
      ]
     },
     "metadata": {},
     "output_type": "display_data"
    },
    {
     "data": {
      "text/html": [
       "<pre style=\"white-space:pre;overflow-x:auto;line-height:normal;font-family:Menlo,'DejaVu Sans Mono',consolas,'Courier New',monospace\">Uh oh, haven't evaluated this cut yet! Make sure it was included in the list of cuts you used to initialize this \n",
       "JaggedSelection.   dsaMuons :  ptErrorOverPT &lt; 1\n",
       "</pre>\n"
      ],
      "text/plain": [
       "Uh oh, haven't evaluated this cut yet! Make sure it was included in the list of cuts you used to initialize this \n",
       "JaggedSelection.   dsaMuons :  ptErrorOverPT < 1\n"
      ]
     },
     "metadata": {},
     "output_type": "display_data"
    },
    {
     "data": {
      "text/html": [
       "<pre style=\"white-space:pre;overflow-x:auto;line-height:normal;font-family:Menlo,'DejaVu Sans Mono',consolas,'Courier New',monospace\">Warning: a histogram with the following axis names could not be filled and will be skipped: ['channel', \n",
       "'electron_n']\n",
       "</pre>\n"
      ],
      "text/plain": [
       "Warning: a histogram with the following axis names could not be filled and will be skipped: ['channel', \n",
       "'electron_n']\n"
      ]
     },
     "metadata": {},
     "output_type": "display_data"
    },
    {
     "data": {
      "text/html": [
       "<pre style=\"white-space:pre;overflow-x:auto;line-height:normal;font-family:Menlo,'DejaVu Sans Mono',consolas,'Courier New',monospace\">Warning: a histogram with the following axis names could not be filled and will be skipped: ['channel', \n",
       "'electron_pt']\n",
       "</pre>\n"
      ],
      "text/plain": [
       "Warning: a histogram with the following axis names could not be filled and will be skipped: ['channel', \n",
       "'electron_pt']\n"
      ]
     },
     "metadata": {},
     "output_type": "display_data"
    },
    {
     "data": {
      "text/html": [
       "<pre style=\"white-space:pre;overflow-x:auto;line-height:normal;font-family:Menlo,'DejaVu Sans Mono',consolas,'Courier New',monospace\">Warning: a histogram with the following axis names could not be filled and will be skipped: ['channel', \n",
       "'electron_eta', 'electron_phi']\n",
       "</pre>\n"
      ],
      "text/plain": [
       "Warning: a histogram with the following axis names could not be filled and will be skipped: ['channel', \n",
       "'electron_eta', 'electron_phi']\n"
      ]
     },
     "metadata": {},
     "output_type": "display_data"
    },
    {
     "data": {
      "text/html": [
       "<pre style=\"white-space:pre;overflow-x:auto;line-height:normal;font-family:Menlo,'DejaVu Sans Mono',consolas,'Courier New',monospace\">Warning: a histogram with the following axis names could not be filled and will be skipped: ['channel', 'photon_n']\n",
       "</pre>\n"
      ],
      "text/plain": [
       "Warning: a histogram with the following axis names could not be filled and will be skipped: ['channel', 'photon_n']\n"
      ]
     },
     "metadata": {},
     "output_type": "display_data"
    },
    {
     "data": {
      "text/html": [
       "<pre style=\"white-space:pre;overflow-x:auto;line-height:normal;font-family:Menlo,'DejaVu Sans Mono',consolas,'Courier New',monospace\">Warning: a histogram with the following axis names could not be filled and will be skipped: ['channel', \n",
       "'photon_pt']\n",
       "</pre>\n"
      ],
      "text/plain": [
       "Warning: a histogram with the following axis names could not be filled and will be skipped: ['channel', \n",
       "'photon_pt']\n"
      ]
     },
     "metadata": {},
     "output_type": "display_data"
    },
    {
     "data": {
      "text/html": [
       "<pre style=\"white-space:pre;overflow-x:auto;line-height:normal;font-family:Menlo,'DejaVu Sans Mono',consolas,'Courier New',monospace\">Warning: a histogram with the following axis names could not be filled and will be skipped: ['channel', \n",
       "'photon_eta', 'photon_phi']\n",
       "</pre>\n"
      ],
      "text/plain": [
       "Warning: a histogram with the following axis names could not be filled and will be skipped: ['channel', \n",
       "'photon_eta', 'photon_phi']\n"
      ]
     },
     "metadata": {},
     "output_type": "display_data"
    },
    {
     "data": {
      "text/html": [
       "<pre style=\"white-space:pre;overflow-x:auto;line-height:normal;font-family:Menlo,'DejaVu Sans Mono',consolas,'Courier New',monospace\">Warning: a histogram with the following axis names could not be filled and will be skipped: ['channel', \n",
       "'muon_absD0']\n",
       "</pre>\n"
      ],
      "text/plain": [
       "Warning: a histogram with the following axis names could not be filled and will be skipped: ['channel', \n",
       "'muon_absD0']\n"
      ]
     },
     "metadata": {},
     "output_type": "display_data"
    },
    {
     "data": {
      "text/html": [
       "<pre style=\"white-space:pre;overflow-x:auto;line-height:normal;font-family:Menlo,'DejaVu Sans Mono',consolas,'Courier New',monospace\">Warning: a histogram with the following axis names could not be filled and will be skipped: ['channel', \n",
       "'muon_absD0_lowRange']\n",
       "</pre>\n"
      ],
      "text/plain": [
       "Warning: a histogram with the following axis names could not be filled and will be skipped: ['channel', \n",
       "'muon_absD0_lowRange']\n"
      ]
     },
     "metadata": {},
     "output_type": "display_data"
    },
    {
     "data": {
      "text/html": [
       "<pre style=\"white-space:pre;overflow-x:auto;line-height:normal;font-family:Menlo,'DejaVu Sans Mono',consolas,'Courier New',monospace\">Warning: a histogram with the following axis names could not be filled and will be skipped: ['channel', \n",
       "'dsaMuon_absD0']\n",
       "</pre>\n"
      ],
      "text/plain": [
       "Warning: a histogram with the following axis names could not be filled and will be skipped: ['channel', \n",
       "'dsaMuon_absD0']\n"
      ]
     },
     "metadata": {},
     "output_type": "display_data"
    },
    {
     "data": {
      "text/html": [
       "<pre style=\"white-space:pre;overflow-x:auto;line-height:normal;font-family:Menlo,'DejaVu Sans Mono',consolas,'Courier New',monospace\">Warning: a histogram with the following axis names could not be filled and will be skipped: ['channel', \n",
       "'dsaMuon_absD0_lowRange']\n",
       "</pre>\n"
      ],
      "text/plain": [
       "Warning: a histogram with the following axis names could not be filled and will be skipped: ['channel', \n",
       "'dsaMuon_absD0_lowRange']\n"
      ]
     },
     "metadata": {},
     "output_type": "display_data"
    },
    {
     "data": {
      "text/html": [
       "<pre style=\"white-space:pre;overflow-x:auto;line-height:normal;font-family:Menlo,'DejaVu Sans Mono',consolas,'Courier New',monospace\">Warning: a histogram with the following axis names could not be filled and will be skipped: ['channel', \n",
       "'electron_lj_dR']\n",
       "</pre>\n"
      ],
      "text/plain": [
       "Warning: a histogram with the following axis names could not be filled and will be skipped: ['channel', \n",
       "'electron_lj_dR']\n"
      ]
     },
     "metadata": {},
     "output_type": "display_data"
    },
    {
     "data": {
      "text/html": [
       "<pre style=\"white-space:pre;overflow-x:auto;line-height:normal;font-family:Menlo,'DejaVu Sans Mono',consolas,'Courier New',monospace\">Warning: a histogram with the following axis names could not be filled and will be skipped: ['channel', \n",
       "'electron_lj_dR_lowRange']\n",
       "</pre>\n"
      ],
      "text/plain": [
       "Warning: a histogram with the following axis names could not be filled and will be skipped: ['channel', \n",
       "'electron_lj_dR_lowRange']\n"
      ]
     },
     "metadata": {},
     "output_type": "display_data"
    },
    {
     "data": {
      "text/html": [
       "<pre style=\"white-space:pre;overflow-x:auto;line-height:normal;font-family:Menlo,'DejaVu Sans Mono',consolas,'Courier New',monospace\">Warning: a histogram with the following axis names could not be filled and will be skipped: ['channel', \n",
       "'photon_lj_dR']\n",
       "</pre>\n"
      ],
      "text/plain": [
       "Warning: a histogram with the following axis names could not be filled and will be skipped: ['channel', \n",
       "'photon_lj_dR']\n"
      ]
     },
     "metadata": {},
     "output_type": "display_data"
    },
    {
     "data": {
      "text/html": [
       "<pre style=\"white-space:pre;overflow-x:auto;line-height:normal;font-family:Menlo,'DejaVu Sans Mono',consolas,'Courier New',monospace\">Warning: a histogram with the following axis names could not be filled and will be skipped: ['channel', \n",
       "'photon_lj_dR_lowRange']\n",
       "</pre>\n"
      ],
      "text/plain": [
       "Warning: a histogram with the following axis names could not be filled and will be skipped: ['channel', \n",
       "'photon_lj_dR_lowRange']\n"
      ]
     },
     "metadata": {},
     "output_type": "display_data"
    },
    {
     "data": {
      "text/html": [
       "<pre style=\"white-space:pre;overflow-x:auto;line-height:normal;font-family:Menlo,'DejaVu Sans Mono',consolas,'Courier New',monospace\">Warning: a histogram with the following axis names could not be filled and will be skipped: ['channel', \n",
       "'photon_lj_dR_reallyLowRange']\n",
       "</pre>\n"
      ],
      "text/plain": [
       "Warning: a histogram with the following axis names could not be filled and will be skipped: ['channel', \n",
       "'photon_lj_dR_reallyLowRange']\n"
      ]
     },
     "metadata": {},
     "output_type": "display_data"
    },
    {
     "data": {
      "text/html": [
       "<pre style=\"white-space:pre;overflow-x:auto;line-height:normal;font-family:Menlo,'DejaVu Sans Mono',consolas,'Courier New',monospace\">Warning: a histogram with the following axis names could not be filled and will be skipped: ['channel', \n",
       "'lj_pfIsolationPtNoPU05']\n",
       "</pre>\n"
      ],
      "text/plain": [
       "Warning: a histogram with the following axis names could not be filled and will be skipped: ['channel', \n",
       "'lj_pfIsolationPtNoPU05']\n"
      ]
     },
     "metadata": {},
     "output_type": "display_data"
    },
    {
     "data": {
      "text/html": [
       "<pre style=\"white-space:pre;overflow-x:auto;line-height:normal;font-family:Menlo,'DejaVu Sans Mono',consolas,'Courier New',monospace\">Warning: a histogram with the following axis names could not be filled and will be skipped: ['channel', \n",
       "'lj_pfIsolationPt05']\n",
       "</pre>\n"
      ],
      "text/plain": [
       "Warning: a histogram with the following axis names could not be filled and will be skipped: ['channel', \n",
       "'lj_pfIsolationPt05']\n"
      ]
     },
     "metadata": {},
     "output_type": "display_data"
    },
    {
     "data": {
      "text/html": [
       "<pre style=\"white-space:pre;overflow-x:auto;line-height:normal;font-family:Menlo,'DejaVu Sans Mono',consolas,'Courier New',monospace\">Warning: a histogram with the following axis names could not be filled and will be skipped: ['channel', \n",
       "'lj_pfIsolationPtNoPU07']\n",
       "</pre>\n"
      ],
      "text/plain": [
       "Warning: a histogram with the following axis names could not be filled and will be skipped: ['channel', \n",
       "'lj_pfIsolationPtNoPU07']\n"
      ]
     },
     "metadata": {},
     "output_type": "display_data"
    },
    {
     "data": {
      "text/html": [
       "<pre style=\"white-space:pre;overflow-x:auto;line-height:normal;font-family:Menlo,'DejaVu Sans Mono',consolas,'Courier New',monospace\">Warning: a histogram with the following axis names could not be filled and will be skipped: ['channel', \n",
       "'lj_pfIsolationPt07']\n",
       "</pre>\n"
      ],
      "text/plain": [
       "Warning: a histogram with the following axis names could not be filled and will be skipped: ['channel', \n",
       "'lj_pfIsolationPt07']\n"
      ]
     },
     "metadata": {},
     "output_type": "display_data"
    },
    {
     "data": {
      "text/html": [
       "<pre style=\"white-space:pre;overflow-x:auto;line-height:normal;font-family:Menlo,'DejaVu Sans Mono',consolas,'Courier New',monospace\">Warning: a histogram with the following axis names could not be filled and will be skipped: ['channel', 'lj_pfiso',\n",
       "'weight']\n",
       "</pre>\n"
      ],
      "text/plain": [
       "Warning: a histogram with the following axis names could not be filled and will be skipped: ['channel', 'lj_pfiso',\n",
       "'weight']\n"
      ]
     },
     "metadata": {},
     "output_type": "display_data"
    },
    {
     "data": {
      "text/html": [
       "<pre style=\"white-space:pre;overflow-x:auto;line-height:normal;font-family:Menlo,'DejaVu Sans Mono',consolas,'Courier New',monospace\">Warning: a histogram with the following axis names could not be filled and will be skipped: ['channel', \n",
       "'ljlj_absdphi', 'lj_pfIsolationPt05']\n",
       "</pre>\n"
      ],
      "text/plain": [
       "Warning: a histogram with the following axis names could not be filled and will be skipped: ['channel', \n",
       "'ljlj_absdphi', 'lj_pfIsolationPt05']\n"
      ]
     },
     "metadata": {},
     "output_type": "display_data"
    },
    {
     "data": {
      "text/html": [
       "<pre style=\"white-space:pre;overflow-x:auto;line-height:normal;font-family:Menlo,'DejaVu Sans Mono',consolas,'Courier New',monospace\">Warning: cannot fill counter Gen As to muons. Skipping.\n",
       "</pre>\n"
      ],
      "text/plain": [
       "Warning: cannot fill counter Gen As to muons. Skipping.\n"
      ]
     },
     "metadata": {},
     "output_type": "display_data"
    },
    {
     "data": {
      "text/html": [
       "<pre style=\"white-space:pre;overflow-x:auto;line-height:normal;font-family:Menlo,'DejaVu Sans Mono',consolas,'Courier New',monospace\">Warning: cannot fill counter Gen As to electrons. Skipping.\n",
       "</pre>\n"
      ],
      "text/plain": [
       "Warning: cannot fill counter Gen As to electrons. Skipping.\n"
      ]
     },
     "metadata": {},
     "output_type": "display_data"
    },
    {
     "data": {
      "text/html": [
       "<pre style=\"white-space:pre;overflow-x:auto;line-height:normal;font-family:Menlo,'DejaVu Sans Mono',consolas,'Courier New',monospace\">Warning: cannot fill counter Matched gen As to muons. Skipping.\n",
       "</pre>\n"
      ],
      "text/plain": [
       "Warning: cannot fill counter Matched gen As to muons. Skipping.\n"
      ]
     },
     "metadata": {},
     "output_type": "display_data"
    },
    {
     "data": {
      "text/html": [
       "<pre style=\"white-space:pre;overflow-x:auto;line-height:normal;font-family:Menlo,'DejaVu Sans Mono',consolas,'Courier New',monospace\">Warning: cannot fill counter Matched gen As to electrons. Skipping.\n",
       "</pre>\n"
      ],
      "text/plain": [
       "Warning: cannot fill counter Matched gen As to electrons. Skipping.\n"
      ]
     },
     "metadata": {},
     "output_type": "display_data"
    },
    {
     "data": {
      "text/html": [
       "<pre style=\"white-space:pre;overflow-x:auto;line-height:normal;font-family:Menlo,'DejaVu Sans Mono',consolas,'Courier New',monospace\">Not applying any cuts to the lepton jets for channel  baseNoLj\n",
       "</pre>\n"
      ],
      "text/plain": [
       "Not applying any cuts to the lepton jets for channel  baseNoLj\n"
      ]
     },
     "metadata": {},
     "output_type": "display_data"
    },
    {
     "data": {
      "text/html": [
       "<pre style=\"white-space:pre;overflow-x:auto;line-height:normal;font-family:Menlo,'DejaVu Sans Mono',consolas,'Courier New',monospace\">Warning: a histogram with the following axis names could not be filled and will be skipped: ['channel', \n",
       "'lj_pfIsolationPtNoPU05']\n",
       "</pre>\n"
      ],
      "text/plain": [
       "Warning: a histogram with the following axis names could not be filled and will be skipped: ['channel', \n",
       "'lj_pfIsolationPtNoPU05']\n"
      ]
     },
     "metadata": {},
     "output_type": "display_data"
    },
    {
     "data": {
      "text/html": [
       "<pre style=\"white-space:pre;overflow-x:auto;line-height:normal;font-family:Menlo,'DejaVu Sans Mono',consolas,'Courier New',monospace\">Warning: a histogram with the following axis names could not be filled and will be skipped: ['channel', \n",
       "'lj_pfIsolationPt05']\n",
       "</pre>\n"
      ],
      "text/plain": [
       "Warning: a histogram with the following axis names could not be filled and will be skipped: ['channel', \n",
       "'lj_pfIsolationPt05']\n"
      ]
     },
     "metadata": {},
     "output_type": "display_data"
    },
    {
     "data": {
      "text/html": [
       "<pre style=\"white-space:pre;overflow-x:auto;line-height:normal;font-family:Menlo,'DejaVu Sans Mono',consolas,'Courier New',monospace\">Warning: a histogram with the following axis names could not be filled and will be skipped: ['channel', \n",
       "'lj_pfIsolationPtNoPU07']\n",
       "</pre>\n"
      ],
      "text/plain": [
       "Warning: a histogram with the following axis names could not be filled and will be skipped: ['channel', \n",
       "'lj_pfIsolationPtNoPU07']\n"
      ]
     },
     "metadata": {},
     "output_type": "display_data"
    },
    {
     "data": {
      "text/html": [
       "<pre style=\"white-space:pre;overflow-x:auto;line-height:normal;font-family:Menlo,'DejaVu Sans Mono',consolas,'Courier New',monospace\">Warning: a histogram with the following axis names could not be filled and will be skipped: ['channel', \n",
       "'lj_pfIsolationPt07']\n",
       "</pre>\n"
      ],
      "text/plain": [
       "Warning: a histogram with the following axis names could not be filled and will be skipped: ['channel', \n",
       "'lj_pfIsolationPt07']\n"
      ]
     },
     "metadata": {},
     "output_type": "display_data"
    },
    {
     "data": {
      "text/html": [
       "<pre style=\"white-space:pre;overflow-x:auto;line-height:normal;font-family:Menlo,'DejaVu Sans Mono',consolas,'Courier New',monospace\">Warning: a histogram with the following axis names could not be filled and will be skipped: ['channel', \n",
       "'ljlj_absdphi', 'lj_pfIsolationPt05']\n",
       "</pre>\n"
      ],
      "text/plain": [
       "Warning: a histogram with the following axis names could not be filled and will be skipped: ['channel', \n",
       "'ljlj_absdphi', 'lj_pfIsolationPt05']\n"
      ]
     },
     "metadata": {},
     "output_type": "display_data"
    },
    {
     "data": {
      "text/html": [
       "<pre style=\"white-space:pre;overflow-x:auto;line-height:normal;font-family:Menlo,'DejaVu Sans Mono',consolas,'Courier New',monospace\"></pre>\n"
      ],
      "text/plain": []
     },
     "metadata": {},
     "output_type": "display_data"
    },
    {
     "data": {
      "text/html": [
       "<pre style=\"white-space:pre;overflow-x:auto;line-height:normal;font-family:Menlo,'DejaVu Sans Mono',consolas,'Courier New',monospace\">\n",
       "</pre>\n"
      ],
      "text/plain": [
       "\n"
      ]
     },
     "metadata": {},
     "output_type": "display_data"
    }
   ],
   "source": [
    "samples = [\n",
    "    \"2Mu2E_100GeV_1p2GeV_9p6mm\",\n",
    "    \"DYJetsToLL_M50\"\n",
    "]\n",
    "fileset = utilities.make_fileset(samples, \"ffntuple_v2\", max_files=1)\n",
    "\n",
    "runner = processor.Runner(\n",
    "    executor=processor.IterativeExecutor(),\n",
    "    #executor=processor.FuturesExecutor(),\n",
    "    schema=ffschema.FFSchema,\n",
    "    maxchunks=1,\n",
    ")\n",
    "\n",
    "channels = [\"baseNoLj\"]\n",
    "p = sidm_processor.SidmProcessor(\n",
    "    channels,\n",
    "    [\"base\"],\n",
    ")\n",
    "\n",
    "output = runner.run(fileset, treename=\"ffNtuplizer/ffNtuple\", processor_instance=p)\n",
    "out = output[\"out\"]"
   ]
  },
  {
   "cell_type": "code",
   "execution_count": 28,
   "id": "c7dbb0f2-1f6c-48df-a58b-0c3d9e708fcc",
   "metadata": {},
   "outputs": [
    {
     "data": {
      "text/plain": [
       "[StairsArtists(stairs=<matplotlib.patches.StepPatch object at 0x7fe12d1ff490>, errorbar=<ErrorbarContainer object of 3 artists>, legend_artist=<ErrorbarContainer object of 3 artists>)]"
      ]
     },
     "execution_count": 28,
     "metadata": {},
     "output_type": "execute_result"
    },
    {
     "data": {
      "image/png": "[encoded data removed]",
      "text/plain": [
       "<Figure size 500x500 with 1 Axes>"
      ]
     },
     "metadata": {},
     "output_type": "display_data"
    }
   ],
   "source": [
    "utilities.plot(out[\"DYJetsToLL_M50\"][\"hists\"][\"lj_pt\"][\"baseNoLj\", :])\n",
    "utilities.plot(out[\"2Mu2E_100GeV_1p2GeV_9p6mm\"][\"hists\"][\"lj_pt\"][\"baseNoLj\", :])"
   ]
  },
  {
   "cell_type": "code",
   "execution_count": null,
   "id": "29b73564-e94f-4a6d-bc4f-bde1294807d5",
   "metadata": {},
   "outputs": [],
   "source": []
  }
 ],
 "metadata": {
  "kernelspec": {
   "display_name": "Python 3 (ipykernel)",
   "language": "python",
   "name": "python3"
  },
  "language_info": {
   "codemirror_mode": {
    "name": "ipython",
    "version": 3
   },
   "file_extension": ".py",
   "mimetype": "text/x-python",
   "name": "python",
   "nbconvert_exporter": "python",
   "pygments_lexer": "ipython3",
   "version": "3.9.18"
  }
 },
 "nbformat": 4,
 "nbformat_minor": 5
}
