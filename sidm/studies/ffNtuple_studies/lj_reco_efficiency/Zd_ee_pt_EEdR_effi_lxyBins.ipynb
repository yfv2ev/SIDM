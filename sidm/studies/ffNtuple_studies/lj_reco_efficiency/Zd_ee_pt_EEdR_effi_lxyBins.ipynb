{
 "cells": [
  {
   "cell_type": "code",
   "execution_count": 14,
   "id": "c4b9a7b4-f5d6-45cd-94a9-9150b5acb6cc",
   "metadata": {
    "tags": []
   },
   "outputs": [],
   "source": [
    "# python\n",
    "import sys\n",
    "import os\n",
    "import importlib\n",
    "from coffea import processor\n",
    "# columnar analysis\n",
    "from coffea.nanoevents import NanoEventsFactory\n",
    "import awkward as ak   #numpy like module for handling arrays\n",
    "\n",
    "# local\n",
    "sys.path.insert(1, os.path.join(sys.path[0], '../../..')) # fixme: there must be a better way to handle this...\n",
    "from sidm.tools import ffschema, sidm_processor, utilities, scaleout\n",
    "# always reload local modules to pick up changes during development\n",
    "importlib.reload(ffschema)  #why do we need this?\n",
    "importlib.reload(sidm_processor) \n",
    "importlib.reload(utilities)\n",
    "# plotting\n",
    "import matplotlib.pyplot as plt\n",
    "import mplhep as hep\n",
    "import numpy as np\n",
    "import hist\n",
    "utilities.set_plot_style()\n",
    "%matplotlib inline"
   ]
  },
  {
   "cell_type": "code",
   "execution_count": 2,
   "id": "ad37ca06-a13f-409c-9900-4f88d6810bf8",
   "metadata": {
    "tags": []
   },
   "outputs": [],
   "source": [
    "samples = [\n",
    "    #\"2Mu2E_100GeV_5GeV_400mm\",\n",
    "    #\"2Mu2E_100GeV_5GeV_0p4mm\",\n",
    "    #\"2Mu2E_150GeV_5GeV_2p7mm\",\n",
    "    \"2Mu2E_200GeV_0p25GeV_10mm\",\n",
    "     \"2Mu2E_200GeV_5GeV_200mm\",\n",
    "      \"2Mu2E_200GeV_1p2GeV_48mm\",\n",
    "    #\"2Mu2E_500GeV_5GeV_80mm\",\n",
    "    #\"2Mu2E_800GeV_5GeV_0p5mm\",\n",
    "    #\"2Mu2E_1000GeV_5GeV_0p4mm\",\n",
    "    #\"2Mu2E_1000GeV_5GeV_0p04mm\",\n",
    "    #\"2Mu2E_1000GeV_5GeV_20mm\",\n",
    "    #\"2Mu2E_100GeV_1p2GeV_9p6mm\",\n",
    "    #\"2Mu2E_1000GeV_5GeV_40mm\",\n",
    "    #\"2Mu2E_100GeV_p25GeV_400mm\",\n",
    "   # \"2Mu2E_1000GeV_5GeV_4mm\",\n",
    "    \n",
    "]\n",
    "fileset = utilities.make_fileset(samples, \"ffntuple_v4\")\n"
   ]
  },
  {
   "cell_type": "code",
   "execution_count": 3,
   "id": "eedd8117-f34a-45af-a3cd-b4d56243bdae",
   "metadata": {
    "tags": []
   },
   "outputs": [
    {
     "data": {
      "application/vnd.jupyter.widget-view+json": {
       "model_id": "78bb700d22d24893a4c1ccb3740242da",
       "version_major": 2,
       "version_minor": 0
      },
      "text/plain": [
       "Output()"
      ]
     },
     "metadata": {},
     "output_type": "display_data"
    },
    {
     "data": {
      "text/html": [
       "<pre style=\"white-space:pre;overflow-x:auto;line-height:normal;font-family:Menlo,'DejaVu Sans Mono',consolas,'Courier New',monospace\"></pre>\n"
      ],
      "text/plain": []
     },
     "metadata": {},
     "output_type": "display_data"
    },
    {
     "data": {
      "text/html": [
       "<pre style=\"white-space:pre;overflow-x:auto;line-height:normal;font-family:Menlo,'DejaVu Sans Mono',consolas,'Courier New',monospace\">\n",
       "</pre>\n"
      ],
      "text/plain": [
       "\n"
      ]
     },
     "metadata": {},
     "output_type": "display_data"
    },
    {
     "data": {
      "application/vnd.jupyter.widget-view+json": {
       "model_id": "9034eb8eda5e4ee1878ebeeafaa9b792",
       "version_major": 2,
       "version_minor": 0
      },
      "text/plain": [
       "Output()"
      ]
     },
     "metadata": {},
     "output_type": "display_data"
    },
    {
     "data": {
      "text/html": [
       "<pre style=\"white-space:pre;overflow-x:auto;line-height:normal;font-family:Menlo,'DejaVu Sans Mono',consolas,'Courier New',monospace\">Not applying any cuts to the lepton jets for channel  baseNoLj_A_ee_highPtA_Lxyto5A\n",
       "</pre>\n"
      ],
      "text/plain": [
       "Not applying any cuts to the lepton jets for channel  baseNoLj_A_ee_highPtA_Lxyto5A\n"
      ]
     },
     "metadata": {},
     "output_type": "display_data"
    },
    {
     "data": {
      "text/html": [
       "<pre style=\"white-space:pre;overflow-x:auto;line-height:normal;font-family:Menlo,'DejaVu Sans Mono',consolas,'Courier New',monospace\">Not applying any cuts to the lepton jets for channel  baseNoLj_A_ee_matched_lj_highPT_Lxy0to5A\n",
       "</pre>\n"
      ],
      "text/plain": [
       "Not applying any cuts to the lepton jets for channel  baseNoLj_A_ee_matched_lj_highPT_Lxy0to5A\n"
      ]
     },
     "metadata": {},
     "output_type": "display_data"
    },
    {
     "data": {
      "text/html": [
       "<pre style=\"white-space:pre;overflow-x:auto;line-height:normal;font-family:Menlo,'DejaVu Sans Mono',consolas,'Courier New',monospace\">Not applying any cuts to the lepton jets for channel  baseNoLj_A_ee_highPtA_Lxy40to77A\n",
       "</pre>\n"
      ],
      "text/plain": [
       "Not applying any cuts to the lepton jets for channel  baseNoLj_A_ee_highPtA_Lxy40to77A\n"
      ]
     },
     "metadata": {},
     "output_type": "display_data"
    },
    {
     "data": {
      "text/html": [
       "<pre style=\"white-space:pre;overflow-x:auto;line-height:normal;font-family:Menlo,'DejaVu Sans Mono',consolas,'Courier New',monospace\">Not applying any cuts to the lepton jets for channel  baseNoLj_A_ee_highPtA_Lxy40to77A\n",
       "</pre>\n"
      ],
      "text/plain": [
       "Not applying any cuts to the lepton jets for channel  baseNoLj_A_ee_highPtA_Lxy40to77A\n"
      ]
     },
     "metadata": {},
     "output_type": "display_data"
    },
    {
     "data": {
      "text/html": [
       "<pre style=\"white-space:pre;overflow-x:auto;line-height:normal;font-family:Menlo,'DejaVu Sans Mono',consolas,'Courier New',monospace\">Not applying any cuts to the lepton jets for channel  baseNoLj_A_ee_matched_lj_highPT_Lxy40to77A\n",
       "</pre>\n"
      ],
      "text/plain": [
       "Not applying any cuts to the lepton jets for channel  baseNoLj_A_ee_matched_lj_highPT_Lxy40to77A\n"
      ]
     },
     "metadata": {},
     "output_type": "display_data"
    },
    {
     "data": {
      "text/html": [
       "<pre style=\"white-space:pre;overflow-x:auto;line-height:normal;font-family:Menlo,'DejaVu Sans Mono',consolas,'Courier New',monospace\">Not applying any cuts to the lepton jets for channel  baseNoLj_A_ee_highPtA_Lxy125to135A\n",
       "</pre>\n"
      ],
      "text/plain": [
       "Not applying any cuts to the lepton jets for channel  baseNoLj_A_ee_highPtA_Lxy125to135A\n"
      ]
     },
     "metadata": {},
     "output_type": "display_data"
    },
    {
     "data": {
      "text/html": [
       "<pre style=\"white-space:pre;overflow-x:auto;line-height:normal;font-family:Menlo,'DejaVu Sans Mono',consolas,'Courier New',monospace\">Not applying any cuts to the lepton jets for channel  baseNoLj_A_ee_matched_lj_highPT_Lxy125to135A\n",
       "</pre>\n"
      ],
      "text/plain": [
       "Not applying any cuts to the lepton jets for channel  baseNoLj_A_ee_matched_lj_highPT_Lxy125to135A\n"
      ]
     },
     "metadata": {},
     "output_type": "display_data"
    },
    {
     "data": {
      "text/html": [
       "<pre style=\"white-space:pre;overflow-x:auto;line-height:normal;font-family:Menlo,'DejaVu Sans Mono',consolas,'Courier New',monospace\">Not applying any cuts to the lepton jets for channel  baseNoLj_A_ee_highPtA_Lxyto5A\n",
       "</pre>\n"
      ],
      "text/plain": [
       "Not applying any cuts to the lepton jets for channel  baseNoLj_A_ee_highPtA_Lxyto5A\n"
      ]
     },
     "metadata": {},
     "output_type": "display_data"
    },
    {
     "data": {
      "text/html": [
       "<pre style=\"white-space:pre;overflow-x:auto;line-height:normal;font-family:Menlo,'DejaVu Sans Mono',consolas,'Courier New',monospace\">Not applying any cuts to the lepton jets for channel  baseNoLj_A_ee_matched_lj_highPT_Lxy0to5A\n",
       "</pre>\n"
      ],
      "text/plain": [
       "Not applying any cuts to the lepton jets for channel  baseNoLj_A_ee_matched_lj_highPT_Lxy0to5A\n"
      ]
     },
     "metadata": {},
     "output_type": "display_data"
    },
    {
     "data": {
      "text/html": [
       "<pre style=\"white-space:pre;overflow-x:auto;line-height:normal;font-family:Menlo,'DejaVu Sans Mono',consolas,'Courier New',monospace\">Not applying any cuts to the lepton jets for channel  baseNoLj_A_ee_highPtA_Lxy40to77A\n",
       "</pre>\n"
      ],
      "text/plain": [
       "Not applying any cuts to the lepton jets for channel  baseNoLj_A_ee_highPtA_Lxy40to77A\n"
      ]
     },
     "metadata": {},
     "output_type": "display_data"
    },
    {
     "data": {
      "text/html": [
       "<pre style=\"white-space:pre;overflow-x:auto;line-height:normal;font-family:Menlo,'DejaVu Sans Mono',consolas,'Courier New',monospace\">Not applying any cuts to the lepton jets for channel  baseNoLj_A_ee_highPtA_Lxy40to77A\n",
       "</pre>\n"
      ],
      "text/plain": [
       "Not applying any cuts to the lepton jets for channel  baseNoLj_A_ee_highPtA_Lxy40to77A\n"
      ]
     },
     "metadata": {},
     "output_type": "display_data"
    },
    {
     "data": {
      "text/html": [
       "<pre style=\"white-space:pre;overflow-x:auto;line-height:normal;font-family:Menlo,'DejaVu Sans Mono',consolas,'Courier New',monospace\">Not applying any cuts to the lepton jets for channel  baseNoLj_A_ee_matched_lj_highPT_Lxy40to77A\n",
       "</pre>\n"
      ],
      "text/plain": [
       "Not applying any cuts to the lepton jets for channel  baseNoLj_A_ee_matched_lj_highPT_Lxy40to77A\n"
      ]
     },
     "metadata": {},
     "output_type": "display_data"
    },
    {
     "data": {
      "text/html": [
       "<pre style=\"white-space:pre;overflow-x:auto;line-height:normal;font-family:Menlo,'DejaVu Sans Mono',consolas,'Courier New',monospace\">Not applying any cuts to the lepton jets for channel  baseNoLj_A_ee_highPtA_Lxy125to135A\n",
       "</pre>\n"
      ],
      "text/plain": [
       "Not applying any cuts to the lepton jets for channel  baseNoLj_A_ee_highPtA_Lxy125to135A\n"
      ]
     },
     "metadata": {},
     "output_type": "display_data"
    },
    {
     "data": {
      "text/html": [
       "<pre style=\"white-space:pre;overflow-x:auto;line-height:normal;font-family:Menlo,'DejaVu Sans Mono',consolas,'Courier New',monospace\">Not applying any cuts to the lepton jets for channel  baseNoLj_A_ee_matched_lj_highPT_Lxy125to135A\n",
       "</pre>\n"
      ],
      "text/plain": [
       "Not applying any cuts to the lepton jets for channel  baseNoLj_A_ee_matched_lj_highPT_Lxy125to135A\n"
      ]
     },
     "metadata": {},
     "output_type": "display_data"
    },
    {
     "data": {
      "text/html": [
       "<pre style=\"white-space:pre;overflow-x:auto;line-height:normal;font-family:Menlo,'DejaVu Sans Mono',consolas,'Courier New',monospace\">Not applying any cuts to the lepton jets for channel  baseNoLj_A_ee_highPtA_Lxyto5A\n",
       "</pre>\n"
      ],
      "text/plain": [
       "Not applying any cuts to the lepton jets for channel  baseNoLj_A_ee_highPtA_Lxyto5A\n"
      ]
     },
     "metadata": {},
     "output_type": "display_data"
    },
    {
     "data": {
      "text/html": [
       "<pre style=\"white-space:pre;overflow-x:auto;line-height:normal;font-family:Menlo,'DejaVu Sans Mono',consolas,'Courier New',monospace\">Not applying any cuts to the lepton jets for channel  baseNoLj_A_ee_matched_lj_highPT_Lxy0to5A\n",
       "</pre>\n"
      ],
      "text/plain": [
       "Not applying any cuts to the lepton jets for channel  baseNoLj_A_ee_matched_lj_highPT_Lxy0to5A\n"
      ]
     },
     "metadata": {},
     "output_type": "display_data"
    },
    {
     "data": {
      "text/html": [
       "<pre style=\"white-space:pre;overflow-x:auto;line-height:normal;font-family:Menlo,'DejaVu Sans Mono',consolas,'Courier New',monospace\">Not applying any cuts to the lepton jets for channel  baseNoLj_A_ee_highPtA_Lxy40to77A\n",
       "</pre>\n"
      ],
      "text/plain": [
       "Not applying any cuts to the lepton jets for channel  baseNoLj_A_ee_highPtA_Lxy40to77A\n"
      ]
     },
     "metadata": {},
     "output_type": "display_data"
    },
    {
     "data": {
      "text/html": [
       "<pre style=\"white-space:pre;overflow-x:auto;line-height:normal;font-family:Menlo,'DejaVu Sans Mono',consolas,'Courier New',monospace\">Not applying any cuts to the lepton jets for channel  baseNoLj_A_ee_highPtA_Lxy40to77A\n",
       "</pre>\n"
      ],
      "text/plain": [
       "Not applying any cuts to the lepton jets for channel  baseNoLj_A_ee_highPtA_Lxy40to77A\n"
      ]
     },
     "metadata": {},
     "output_type": "display_data"
    },
    {
     "data": {
      "text/html": [
       "<pre style=\"white-space:pre;overflow-x:auto;line-height:normal;font-family:Menlo,'DejaVu Sans Mono',consolas,'Courier New',monospace\">Not applying any cuts to the lepton jets for channel  baseNoLj_A_ee_matched_lj_highPT_Lxy40to77A\n",
       "</pre>\n"
      ],
      "text/plain": [
       "Not applying any cuts to the lepton jets for channel  baseNoLj_A_ee_matched_lj_highPT_Lxy40to77A\n"
      ]
     },
     "metadata": {},
     "output_type": "display_data"
    },
    {
     "data": {
      "text/html": [
       "<pre style=\"white-space:pre;overflow-x:auto;line-height:normal;font-family:Menlo,'DejaVu Sans Mono',consolas,'Courier New',monospace\">Not applying any cuts to the lepton jets for channel  baseNoLj_A_ee_highPtA_Lxy125to135A\n",
       "</pre>\n"
      ],
      "text/plain": [
       "Not applying any cuts to the lepton jets for channel  baseNoLj_A_ee_highPtA_Lxy125to135A\n"
      ]
     },
     "metadata": {},
     "output_type": "display_data"
    },
    {
     "data": {
      "text/html": [
       "<pre style=\"white-space:pre;overflow-x:auto;line-height:normal;font-family:Menlo,'DejaVu Sans Mono',consolas,'Courier New',monospace\">Not applying any cuts to the lepton jets for channel  baseNoLj_A_ee_matched_lj_highPT_Lxy125to135A\n",
       "</pre>\n"
      ],
      "text/plain": [
       "Not applying any cuts to the lepton jets for channel  baseNoLj_A_ee_matched_lj_highPT_Lxy125to135A\n"
      ]
     },
     "metadata": {},
     "output_type": "display_data"
    },
    {
     "data": {
      "text/html": [
       "<pre style=\"white-space:pre;overflow-x:auto;line-height:normal;font-family:Menlo,'DejaVu Sans Mono',consolas,'Courier New',monospace\">Not applying any cuts to the lepton jets for channel  baseNoLj_A_ee_highPtA_Lxyto5A\n",
       "</pre>\n"
      ],
      "text/plain": [
       "Not applying any cuts to the lepton jets for channel  baseNoLj_A_ee_highPtA_Lxyto5A\n"
      ]
     },
     "metadata": {},
     "output_type": "display_data"
    },
    {
     "data": {
      "text/html": [
       "<pre style=\"white-space:pre;overflow-x:auto;line-height:normal;font-family:Menlo,'DejaVu Sans Mono',consolas,'Courier New',monospace\">Not applying any cuts to the lepton jets for channel  baseNoLj_A_ee_matched_lj_highPT_Lxy0to5A\n",
       "</pre>\n"
      ],
      "text/plain": [
       "Not applying any cuts to the lepton jets for channel  baseNoLj_A_ee_matched_lj_highPT_Lxy0to5A\n"
      ]
     },
     "metadata": {},
     "output_type": "display_data"
    },
    {
     "data": {
      "text/html": [
       "<pre style=\"white-space:pre;overflow-x:auto;line-height:normal;font-family:Menlo,'DejaVu Sans Mono',consolas,'Courier New',monospace\">Not applying any cuts to the lepton jets for channel  baseNoLj_A_ee_highPtA_Lxy40to77A\n",
       "</pre>\n"
      ],
      "text/plain": [
       "Not applying any cuts to the lepton jets for channel  baseNoLj_A_ee_highPtA_Lxy40to77A\n"
      ]
     },
     "metadata": {},
     "output_type": "display_data"
    },
    {
     "data": {
      "text/html": [
       "<pre style=\"white-space:pre;overflow-x:auto;line-height:normal;font-family:Menlo,'DejaVu Sans Mono',consolas,'Courier New',monospace\">Not applying any cuts to the lepton jets for channel  baseNoLj_A_ee_highPtA_Lxy40to77A\n",
       "</pre>\n"
      ],
      "text/plain": [
       "Not applying any cuts to the lepton jets for channel  baseNoLj_A_ee_highPtA_Lxy40to77A\n"
      ]
     },
     "metadata": {},
     "output_type": "display_data"
    },
    {
     "data": {
      "text/html": [
       "<pre style=\"white-space:pre;overflow-x:auto;line-height:normal;font-family:Menlo,'DejaVu Sans Mono',consolas,'Courier New',monospace\">Not applying any cuts to the lepton jets for channel  baseNoLj_A_ee_matched_lj_highPT_Lxy40to77A\n",
       "</pre>\n"
      ],
      "text/plain": [
       "Not applying any cuts to the lepton jets for channel  baseNoLj_A_ee_matched_lj_highPT_Lxy40to77A\n"
      ]
     },
     "metadata": {},
     "output_type": "display_data"
    },
    {
     "data": {
      "text/html": [
       "<pre style=\"white-space:pre;overflow-x:auto;line-height:normal;font-family:Menlo,'DejaVu Sans Mono',consolas,'Courier New',monospace\">Not applying any cuts to the lepton jets for channel  baseNoLj_A_ee_highPtA_Lxy125to135A\n",
       "</pre>\n"
      ],
      "text/plain": [
       "Not applying any cuts to the lepton jets for channel  baseNoLj_A_ee_highPtA_Lxy125to135A\n"
      ]
     },
     "metadata": {},
     "output_type": "display_data"
    },
    {
     "data": {
      "text/html": [
       "<pre style=\"white-space:pre;overflow-x:auto;line-height:normal;font-family:Menlo,'DejaVu Sans Mono',consolas,'Courier New',monospace\">Not applying any cuts to the lepton jets for channel  baseNoLj_A_ee_matched_lj_highPT_Lxy125to135A\n",
       "</pre>\n"
      ],
      "text/plain": [
       "Not applying any cuts to the lepton jets for channel  baseNoLj_A_ee_matched_lj_highPT_Lxy125to135A\n"
      ]
     },
     "metadata": {},
     "output_type": "display_data"
    },
    {
     "data": {
      "text/html": [
       "<pre style=\"white-space:pre;overflow-x:auto;line-height:normal;font-family:Menlo,'DejaVu Sans Mono',consolas,'Courier New',monospace\">Not applying any cuts to the lepton jets for channel  baseNoLj_A_ee_highPtA_Lxyto5A\n",
       "</pre>\n"
      ],
      "text/plain": [
       "Not applying any cuts to the lepton jets for channel  baseNoLj_A_ee_highPtA_Lxyto5A\n"
      ]
     },
     "metadata": {},
     "output_type": "display_data"
    },
    {
     "data": {
      "text/html": [
       "<pre style=\"white-space:pre;overflow-x:auto;line-height:normal;font-family:Menlo,'DejaVu Sans Mono',consolas,'Courier New',monospace\">Not applying any cuts to the lepton jets for channel  baseNoLj_A_ee_matched_lj_highPT_Lxy0to5A\n",
       "</pre>\n"
      ],
      "text/plain": [
       "Not applying any cuts to the lepton jets for channel  baseNoLj_A_ee_matched_lj_highPT_Lxy0to5A\n"
      ]
     },
     "metadata": {},
     "output_type": "display_data"
    },
    {
     "data": {
      "text/html": [
       "<pre style=\"white-space:pre;overflow-x:auto;line-height:normal;font-family:Menlo,'DejaVu Sans Mono',consolas,'Courier New',monospace\">Not applying any cuts to the lepton jets for channel  baseNoLj_A_ee_highPtA_Lxy40to77A\n",
       "</pre>\n"
      ],
      "text/plain": [
       "Not applying any cuts to the lepton jets for channel  baseNoLj_A_ee_highPtA_Lxy40to77A\n"
      ]
     },
     "metadata": {},
     "output_type": "display_data"
    },
    {
     "data": {
      "text/html": [
       "<pre style=\"white-space:pre;overflow-x:auto;line-height:normal;font-family:Menlo,'DejaVu Sans Mono',consolas,'Courier New',monospace\">Not applying any cuts to the lepton jets for channel  baseNoLj_A_ee_highPtA_Lxy40to77A\n",
       "</pre>\n"
      ],
      "text/plain": [
       "Not applying any cuts to the lepton jets for channel  baseNoLj_A_ee_highPtA_Lxy40to77A\n"
      ]
     },
     "metadata": {},
     "output_type": "display_data"
    },
    {
     "data": {
      "text/html": [
       "<pre style=\"white-space:pre;overflow-x:auto;line-height:normal;font-family:Menlo,'DejaVu Sans Mono',consolas,'Courier New',monospace\">Not applying any cuts to the lepton jets for channel  baseNoLj_A_ee_matched_lj_highPT_Lxy40to77A\n",
       "</pre>\n"
      ],
      "text/plain": [
       "Not applying any cuts to the lepton jets for channel  baseNoLj_A_ee_matched_lj_highPT_Lxy40to77A\n"
      ]
     },
     "metadata": {},
     "output_type": "display_data"
    },
    {
     "data": {
      "text/html": [
       "<pre style=\"white-space:pre;overflow-x:auto;line-height:normal;font-family:Menlo,'DejaVu Sans Mono',consolas,'Courier New',monospace\">Not applying any cuts to the lepton jets for channel  baseNoLj_A_ee_highPtA_Lxy125to135A\n",
       "</pre>\n"
      ],
      "text/plain": [
       "Not applying any cuts to the lepton jets for channel  baseNoLj_A_ee_highPtA_Lxy125to135A\n"
      ]
     },
     "metadata": {},
     "output_type": "display_data"
    },
    {
     "data": {
      "text/html": [
       "<pre style=\"white-space:pre;overflow-x:auto;line-height:normal;font-family:Menlo,'DejaVu Sans Mono',consolas,'Courier New',monospace\">Not applying any cuts to the lepton jets for channel  baseNoLj_A_ee_matched_lj_highPT_Lxy125to135A\n",
       "</pre>\n"
      ],
      "text/plain": [
       "Not applying any cuts to the lepton jets for channel  baseNoLj_A_ee_matched_lj_highPT_Lxy125to135A\n"
      ]
     },
     "metadata": {},
     "output_type": "display_data"
    },
    {
     "data": {
      "text/html": [
       "<pre style=\"white-space:pre;overflow-x:auto;line-height:normal;font-family:Menlo,'DejaVu Sans Mono',consolas,'Courier New',monospace\">Not applying any cuts to the lepton jets for channel  baseNoLj_A_ee_highPtA_Lxyto5A\n",
       "</pre>\n"
      ],
      "text/plain": [
       "Not applying any cuts to the lepton jets for channel  baseNoLj_A_ee_highPtA_Lxyto5A\n"
      ]
     },
     "metadata": {},
     "output_type": "display_data"
    },
    {
     "data": {
      "text/html": [
       "<pre style=\"white-space:pre;overflow-x:auto;line-height:normal;font-family:Menlo,'DejaVu Sans Mono',consolas,'Courier New',monospace\">Not applying any cuts to the lepton jets for channel  baseNoLj_A_ee_matched_lj_highPT_Lxy0to5A\n",
       "</pre>\n"
      ],
      "text/plain": [
       "Not applying any cuts to the lepton jets for channel  baseNoLj_A_ee_matched_lj_highPT_Lxy0to5A\n"
      ]
     },
     "metadata": {},
     "output_type": "display_data"
    },
    {
     "data": {
      "text/html": [
       "<pre style=\"white-space:pre;overflow-x:auto;line-height:normal;font-family:Menlo,'DejaVu Sans Mono',consolas,'Courier New',monospace\">Not applying any cuts to the lepton jets for channel  baseNoLj_A_ee_highPtA_Lxy40to77A\n",
       "</pre>\n"
      ],
      "text/plain": [
       "Not applying any cuts to the lepton jets for channel  baseNoLj_A_ee_highPtA_Lxy40to77A\n"
      ]
     },
     "metadata": {},
     "output_type": "display_data"
    },
    {
     "data": {
      "text/html": [
       "<pre style=\"white-space:pre;overflow-x:auto;line-height:normal;font-family:Menlo,'DejaVu Sans Mono',consolas,'Courier New',monospace\">Not applying any cuts to the lepton jets for channel  baseNoLj_A_ee_highPtA_Lxy40to77A\n",
       "</pre>\n"
      ],
      "text/plain": [
       "Not applying any cuts to the lepton jets for channel  baseNoLj_A_ee_highPtA_Lxy40to77A\n"
      ]
     },
     "metadata": {},
     "output_type": "display_data"
    },
    {
     "data": {
      "text/html": [
       "<pre style=\"white-space:pre;overflow-x:auto;line-height:normal;font-family:Menlo,'DejaVu Sans Mono',consolas,'Courier New',monospace\">Not applying any cuts to the lepton jets for channel  baseNoLj_A_ee_matched_lj_highPT_Lxy40to77A\n",
       "</pre>\n"
      ],
      "text/plain": [
       "Not applying any cuts to the lepton jets for channel  baseNoLj_A_ee_matched_lj_highPT_Lxy40to77A\n"
      ]
     },
     "metadata": {},
     "output_type": "display_data"
    },
    {
     "data": {
      "text/html": [
       "<pre style=\"white-space:pre;overflow-x:auto;line-height:normal;font-family:Menlo,'DejaVu Sans Mono',consolas,'Courier New',monospace\">Not applying any cuts to the lepton jets for channel  baseNoLj_A_ee_highPtA_Lxy125to135A\n",
       "</pre>\n"
      ],
      "text/plain": [
       "Not applying any cuts to the lepton jets for channel  baseNoLj_A_ee_highPtA_Lxy125to135A\n"
      ]
     },
     "metadata": {},
     "output_type": "display_data"
    },
    {
     "data": {
      "text/html": [
       "<pre style=\"white-space:pre;overflow-x:auto;line-height:normal;font-family:Menlo,'DejaVu Sans Mono',consolas,'Courier New',monospace\">Not applying any cuts to the lepton jets for channel  baseNoLj_A_ee_matched_lj_highPT_Lxy125to135A\n",
       "</pre>\n"
      ],
      "text/plain": [
       "Not applying any cuts to the lepton jets for channel  baseNoLj_A_ee_matched_lj_highPT_Lxy125to135A\n"
      ]
     },
     "metadata": {},
     "output_type": "display_data"
    },
    {
     "data": {
      "text/html": [
       "<pre style=\"white-space:pre;overflow-x:auto;line-height:normal;font-family:Menlo,'DejaVu Sans Mono',consolas,'Courier New',monospace\">Not applying any cuts to the lepton jets for channel  baseNoLj_A_ee_highPtA_Lxyto5A\n",
       "</pre>\n"
      ],
      "text/plain": [
       "Not applying any cuts to the lepton jets for channel  baseNoLj_A_ee_highPtA_Lxyto5A\n"
      ]
     },
     "metadata": {},
     "output_type": "display_data"
    },
    {
     "data": {
      "text/html": [
       "<pre style=\"white-space:pre;overflow-x:auto;line-height:normal;font-family:Menlo,'DejaVu Sans Mono',consolas,'Courier New',monospace\">Not applying any cuts to the lepton jets for channel  baseNoLj_A_ee_matched_lj_highPT_Lxy0to5A\n",
       "</pre>\n"
      ],
      "text/plain": [
       "Not applying any cuts to the lepton jets for channel  baseNoLj_A_ee_matched_lj_highPT_Lxy0to5A\n"
      ]
     },
     "metadata": {},
     "output_type": "display_data"
    },
    {
     "data": {
      "text/html": [
       "<pre style=\"white-space:pre;overflow-x:auto;line-height:normal;font-family:Menlo,'DejaVu Sans Mono',consolas,'Courier New',monospace\">Not applying any cuts to the lepton jets for channel  baseNoLj_A_ee_highPtA_Lxy40to77A\n",
       "</pre>\n"
      ],
      "text/plain": [
       "Not applying any cuts to the lepton jets for channel  baseNoLj_A_ee_highPtA_Lxy40to77A\n"
      ]
     },
     "metadata": {},
     "output_type": "display_data"
    },
    {
     "data": {
      "text/html": [
       "<pre style=\"white-space:pre;overflow-x:auto;line-height:normal;font-family:Menlo,'DejaVu Sans Mono',consolas,'Courier New',monospace\">Not applying any cuts to the lepton jets for channel  baseNoLj_A_ee_highPtA_Lxy40to77A\n",
       "</pre>\n"
      ],
      "text/plain": [
       "Not applying any cuts to the lepton jets for channel  baseNoLj_A_ee_highPtA_Lxy40to77A\n"
      ]
     },
     "metadata": {},
     "output_type": "display_data"
    },
    {
     "data": {
      "text/html": [
       "<pre style=\"white-space:pre;overflow-x:auto;line-height:normal;font-family:Menlo,'DejaVu Sans Mono',consolas,'Courier New',monospace\">Not applying any cuts to the lepton jets for channel  baseNoLj_A_ee_matched_lj_highPT_Lxy40to77A\n",
       "</pre>\n"
      ],
      "text/plain": [
       "Not applying any cuts to the lepton jets for channel  baseNoLj_A_ee_matched_lj_highPT_Lxy40to77A\n"
      ]
     },
     "metadata": {},
     "output_type": "display_data"
    },
    {
     "data": {
      "text/html": [
       "<pre style=\"white-space:pre;overflow-x:auto;line-height:normal;font-family:Menlo,'DejaVu Sans Mono',consolas,'Courier New',monospace\">Not applying any cuts to the lepton jets for channel  baseNoLj_A_ee_highPtA_Lxy125to135A\n",
       "</pre>\n"
      ],
      "text/plain": [
       "Not applying any cuts to the lepton jets for channel  baseNoLj_A_ee_highPtA_Lxy125to135A\n"
      ]
     },
     "metadata": {},
     "output_type": "display_data"
    },
    {
     "data": {
      "text/html": [
       "<pre style=\"white-space:pre;overflow-x:auto;line-height:normal;font-family:Menlo,'DejaVu Sans Mono',consolas,'Courier New',monospace\">Not applying any cuts to the lepton jets for channel  baseNoLj_A_ee_matched_lj_highPT_Lxy125to135A\n",
       "</pre>\n"
      ],
      "text/plain": [
       "Not applying any cuts to the lepton jets for channel  baseNoLj_A_ee_matched_lj_highPT_Lxy125to135A\n"
      ]
     },
     "metadata": {},
     "output_type": "display_data"
    },
    {
     "data": {
      "text/html": [
       "<pre style=\"white-space:pre;overflow-x:auto;line-height:normal;font-family:Menlo,'DejaVu Sans Mono',consolas,'Courier New',monospace\">Not applying any cuts to the lepton jets for channel  baseNoLj_A_ee_highPtA_Lxyto5A\n",
       "</pre>\n"
      ],
      "text/plain": [
       "Not applying any cuts to the lepton jets for channel  baseNoLj_A_ee_highPtA_Lxyto5A\n"
      ]
     },
     "metadata": {},
     "output_type": "display_data"
    },
    {
     "data": {
      "text/html": [
       "<pre style=\"white-space:pre;overflow-x:auto;line-height:normal;font-family:Menlo,'DejaVu Sans Mono',consolas,'Courier New',monospace\">Not applying any cuts to the lepton jets for channel  baseNoLj_A_ee_matched_lj_highPT_Lxy0to5A\n",
       "</pre>\n"
      ],
      "text/plain": [
       "Not applying any cuts to the lepton jets for channel  baseNoLj_A_ee_matched_lj_highPT_Lxy0to5A\n"
      ]
     },
     "metadata": {},
     "output_type": "display_data"
    },
    {
     "data": {
      "text/html": [
       "<pre style=\"white-space:pre;overflow-x:auto;line-height:normal;font-family:Menlo,'DejaVu Sans Mono',consolas,'Courier New',monospace\">Not applying any cuts to the lepton jets for channel  baseNoLj_A_ee_highPtA_Lxy40to77A\n",
       "</pre>\n"
      ],
      "text/plain": [
       "Not applying any cuts to the lepton jets for channel  baseNoLj_A_ee_highPtA_Lxy40to77A\n"
      ]
     },
     "metadata": {},
     "output_type": "display_data"
    },
    {
     "data": {
      "text/html": [
       "<pre style=\"white-space:pre;overflow-x:auto;line-height:normal;font-family:Menlo,'DejaVu Sans Mono',consolas,'Courier New',monospace\">Not applying any cuts to the lepton jets for channel  baseNoLj_A_ee_highPtA_Lxy40to77A\n",
       "</pre>\n"
      ],
      "text/plain": [
       "Not applying any cuts to the lepton jets for channel  baseNoLj_A_ee_highPtA_Lxy40to77A\n"
      ]
     },
     "metadata": {},
     "output_type": "display_data"
    },
    {
     "data": {
      "text/html": [
       "<pre style=\"white-space:pre;overflow-x:auto;line-height:normal;font-family:Menlo,'DejaVu Sans Mono',consolas,'Courier New',monospace\">Not applying any cuts to the lepton jets for channel  baseNoLj_A_ee_matched_lj_highPT_Lxy40to77A\n",
       "</pre>\n"
      ],
      "text/plain": [
       "Not applying any cuts to the lepton jets for channel  baseNoLj_A_ee_matched_lj_highPT_Lxy40to77A\n"
      ]
     },
     "metadata": {},
     "output_type": "display_data"
    },
    {
     "data": {
      "text/html": [
       "<pre style=\"white-space:pre;overflow-x:auto;line-height:normal;font-family:Menlo,'DejaVu Sans Mono',consolas,'Courier New',monospace\">Not applying any cuts to the lepton jets for channel  baseNoLj_A_ee_highPtA_Lxy125to135A\n",
       "</pre>\n"
      ],
      "text/plain": [
       "Not applying any cuts to the lepton jets for channel  baseNoLj_A_ee_highPtA_Lxy125to135A\n"
      ]
     },
     "metadata": {},
     "output_type": "display_data"
    },
    {
     "data": {
      "text/html": [
       "<pre style=\"white-space:pre;overflow-x:auto;line-height:normal;font-family:Menlo,'DejaVu Sans Mono',consolas,'Courier New',monospace\">Not applying any cuts to the lepton jets for channel  baseNoLj_A_ee_matched_lj_highPT_Lxy125to135A\n",
       "</pre>\n"
      ],
      "text/plain": [
       "Not applying any cuts to the lepton jets for channel  baseNoLj_A_ee_matched_lj_highPT_Lxy125to135A\n"
      ]
     },
     "metadata": {},
     "output_type": "display_data"
    },
    {
     "data": {
      "text/html": [
       "<pre style=\"white-space:pre;overflow-x:auto;line-height:normal;font-family:Menlo,'DejaVu Sans Mono',consolas,'Courier New',monospace\">Not applying any cuts to the lepton jets for channel  baseNoLj_A_ee_highPtA_Lxyto5A\n",
       "</pre>\n"
      ],
      "text/plain": [
       "Not applying any cuts to the lepton jets for channel  baseNoLj_A_ee_highPtA_Lxyto5A\n"
      ]
     },
     "metadata": {},
     "output_type": "display_data"
    },
    {
     "data": {
      "text/html": [
       "<pre style=\"white-space:pre;overflow-x:auto;line-height:normal;font-family:Menlo,'DejaVu Sans Mono',consolas,'Courier New',monospace\">Not applying any cuts to the lepton jets for channel  baseNoLj_A_ee_matched_lj_highPT_Lxy0to5A\n",
       "</pre>\n"
      ],
      "text/plain": [
       "Not applying any cuts to the lepton jets for channel  baseNoLj_A_ee_matched_lj_highPT_Lxy0to5A\n"
      ]
     },
     "metadata": {},
     "output_type": "display_data"
    },
    {
     "data": {
      "text/html": [
       "<pre style=\"white-space:pre;overflow-x:auto;line-height:normal;font-family:Menlo,'DejaVu Sans Mono',consolas,'Courier New',monospace\">Not applying any cuts to the lepton jets for channel  baseNoLj_A_ee_highPtA_Lxy40to77A\n",
       "</pre>\n"
      ],
      "text/plain": [
       "Not applying any cuts to the lepton jets for channel  baseNoLj_A_ee_highPtA_Lxy40to77A\n"
      ]
     },
     "metadata": {},
     "output_type": "display_data"
    },
    {
     "data": {
      "text/html": [
       "<pre style=\"white-space:pre;overflow-x:auto;line-height:normal;font-family:Menlo,'DejaVu Sans Mono',consolas,'Courier New',monospace\">Not applying any cuts to the lepton jets for channel  baseNoLj_A_ee_highPtA_Lxy40to77A\n",
       "</pre>\n"
      ],
      "text/plain": [
       "Not applying any cuts to the lepton jets for channel  baseNoLj_A_ee_highPtA_Lxy40to77A\n"
      ]
     },
     "metadata": {},
     "output_type": "display_data"
    },
    {
     "data": {
      "text/html": [
       "<pre style=\"white-space:pre;overflow-x:auto;line-height:normal;font-family:Menlo,'DejaVu Sans Mono',consolas,'Courier New',monospace\">Not applying any cuts to the lepton jets for channel  baseNoLj_A_ee_matched_lj_highPT_Lxy40to77A\n",
       "</pre>\n"
      ],
      "text/plain": [
       "Not applying any cuts to the lepton jets for channel  baseNoLj_A_ee_matched_lj_highPT_Lxy40to77A\n"
      ]
     },
     "metadata": {},
     "output_type": "display_data"
    },
    {
     "data": {
      "text/html": [
       "<pre style=\"white-space:pre;overflow-x:auto;line-height:normal;font-family:Menlo,'DejaVu Sans Mono',consolas,'Courier New',monospace\">Not applying any cuts to the lepton jets for channel  baseNoLj_A_ee_highPtA_Lxy125to135A\n",
       "</pre>\n"
      ],
      "text/plain": [
       "Not applying any cuts to the lepton jets for channel  baseNoLj_A_ee_highPtA_Lxy125to135A\n"
      ]
     },
     "metadata": {},
     "output_type": "display_data"
    },
    {
     "data": {
      "text/html": [
       "<pre style=\"white-space:pre;overflow-x:auto;line-height:normal;font-family:Menlo,'DejaVu Sans Mono',consolas,'Courier New',monospace\">Not applying any cuts to the lepton jets for channel  baseNoLj_A_ee_matched_lj_highPT_Lxy125to135A\n",
       "</pre>\n"
      ],
      "text/plain": [
       "Not applying any cuts to the lepton jets for channel  baseNoLj_A_ee_matched_lj_highPT_Lxy125to135A\n"
      ]
     },
     "metadata": {},
     "output_type": "display_data"
    },
    {
     "data": {
      "text/html": [
       "<pre style=\"white-space:pre;overflow-x:auto;line-height:normal;font-family:Menlo,'DejaVu Sans Mono',consolas,'Courier New',monospace\">Not applying any cuts to the lepton jets for channel  baseNoLj_A_ee_highPtA_Lxyto5A\n",
       "</pre>\n"
      ],
      "text/plain": [
       "Not applying any cuts to the lepton jets for channel  baseNoLj_A_ee_highPtA_Lxyto5A\n"
      ]
     },
     "metadata": {},
     "output_type": "display_data"
    },
    {
     "data": {
      "text/html": [
       "<pre style=\"white-space:pre;overflow-x:auto;line-height:normal;font-family:Menlo,'DejaVu Sans Mono',consolas,'Courier New',monospace\">Not applying any cuts to the lepton jets for channel  baseNoLj_A_ee_matched_lj_highPT_Lxy0to5A\n",
       "</pre>\n"
      ],
      "text/plain": [
       "Not applying any cuts to the lepton jets for channel  baseNoLj_A_ee_matched_lj_highPT_Lxy0to5A\n"
      ]
     },
     "metadata": {},
     "output_type": "display_data"
    },
    {
     "data": {
      "text/html": [
       "<pre style=\"white-space:pre;overflow-x:auto;line-height:normal;font-family:Menlo,'DejaVu Sans Mono',consolas,'Courier New',monospace\">Not applying any cuts to the lepton jets for channel  baseNoLj_A_ee_highPtA_Lxy40to77A\n",
       "</pre>\n"
      ],
      "text/plain": [
       "Not applying any cuts to the lepton jets for channel  baseNoLj_A_ee_highPtA_Lxy40to77A\n"
      ]
     },
     "metadata": {},
     "output_type": "display_data"
    },
    {
     "data": {
      "text/html": [
       "<pre style=\"white-space:pre;overflow-x:auto;line-height:normal;font-family:Menlo,'DejaVu Sans Mono',consolas,'Courier New',monospace\">Not applying any cuts to the lepton jets for channel  baseNoLj_A_ee_highPtA_Lxy40to77A\n",
       "</pre>\n"
      ],
      "text/plain": [
       "Not applying any cuts to the lepton jets for channel  baseNoLj_A_ee_highPtA_Lxy40to77A\n"
      ]
     },
     "metadata": {},
     "output_type": "display_data"
    },
    {
     "data": {
      "text/html": [
       "<pre style=\"white-space:pre;overflow-x:auto;line-height:normal;font-family:Menlo,'DejaVu Sans Mono',consolas,'Courier New',monospace\">Not applying any cuts to the lepton jets for channel  baseNoLj_A_ee_matched_lj_highPT_Lxy40to77A\n",
       "</pre>\n"
      ],
      "text/plain": [
       "Not applying any cuts to the lepton jets for channel  baseNoLj_A_ee_matched_lj_highPT_Lxy40to77A\n"
      ]
     },
     "metadata": {},
     "output_type": "display_data"
    },
    {
     "data": {
      "text/html": [
       "<pre style=\"white-space:pre;overflow-x:auto;line-height:normal;font-family:Menlo,'DejaVu Sans Mono',consolas,'Courier New',monospace\">Not applying any cuts to the lepton jets for channel  baseNoLj_A_ee_highPtA_Lxy125to135A\n",
       "</pre>\n"
      ],
      "text/plain": [
       "Not applying any cuts to the lepton jets for channel  baseNoLj_A_ee_highPtA_Lxy125to135A\n"
      ]
     },
     "metadata": {},
     "output_type": "display_data"
    },
    {
     "data": {
      "text/html": [
       "<pre style=\"white-space:pre;overflow-x:auto;line-height:normal;font-family:Menlo,'DejaVu Sans Mono',consolas,'Courier New',monospace\">Not applying any cuts to the lepton jets for channel  baseNoLj_A_ee_matched_lj_highPT_Lxy125to135A\n",
       "</pre>\n"
      ],
      "text/plain": [
       "Not applying any cuts to the lepton jets for channel  baseNoLj_A_ee_matched_lj_highPT_Lxy125to135A\n"
      ]
     },
     "metadata": {},
     "output_type": "display_data"
    },
    {
     "data": {
      "text/html": [
       "<pre style=\"white-space:pre;overflow-x:auto;line-height:normal;font-family:Menlo,'DejaVu Sans Mono',consolas,'Courier New',monospace\">Not applying any cuts to the lepton jets for channel  baseNoLj_A_ee_highPtA_Lxyto5A\n",
       "</pre>\n"
      ],
      "text/plain": [
       "Not applying any cuts to the lepton jets for channel  baseNoLj_A_ee_highPtA_Lxyto5A\n"
      ]
     },
     "metadata": {},
     "output_type": "display_data"
    },
    {
     "data": {
      "text/html": [
       "<pre style=\"white-space:pre;overflow-x:auto;line-height:normal;font-family:Menlo,'DejaVu Sans Mono',consolas,'Courier New',monospace\">Not applying any cuts to the lepton jets for channel  baseNoLj_A_ee_matched_lj_highPT_Lxy0to5A\n",
       "</pre>\n"
      ],
      "text/plain": [
       "Not applying any cuts to the lepton jets for channel  baseNoLj_A_ee_matched_lj_highPT_Lxy0to5A\n"
      ]
     },
     "metadata": {},
     "output_type": "display_data"
    },
    {
     "data": {
      "text/html": [
       "<pre style=\"white-space:pre;overflow-x:auto;line-height:normal;font-family:Menlo,'DejaVu Sans Mono',consolas,'Courier New',monospace\">Not applying any cuts to the lepton jets for channel  baseNoLj_A_ee_highPtA_Lxy40to77A\n",
       "</pre>\n"
      ],
      "text/plain": [
       "Not applying any cuts to the lepton jets for channel  baseNoLj_A_ee_highPtA_Lxy40to77A\n"
      ]
     },
     "metadata": {},
     "output_type": "display_data"
    },
    {
     "data": {
      "text/html": [
       "<pre style=\"white-space:pre;overflow-x:auto;line-height:normal;font-family:Menlo,'DejaVu Sans Mono',consolas,'Courier New',monospace\">Not applying any cuts to the lepton jets for channel  baseNoLj_A_ee_highPtA_Lxy40to77A\n",
       "</pre>\n"
      ],
      "text/plain": [
       "Not applying any cuts to the lepton jets for channel  baseNoLj_A_ee_highPtA_Lxy40to77A\n"
      ]
     },
     "metadata": {},
     "output_type": "display_data"
    },
    {
     "data": {
      "text/html": [
       "<pre style=\"white-space:pre;overflow-x:auto;line-height:normal;font-family:Menlo,'DejaVu Sans Mono',consolas,'Courier New',monospace\">Not applying any cuts to the lepton jets for channel  baseNoLj_A_ee_matched_lj_highPT_Lxy40to77A\n",
       "</pre>\n"
      ],
      "text/plain": [
       "Not applying any cuts to the lepton jets for channel  baseNoLj_A_ee_matched_lj_highPT_Lxy40to77A\n"
      ]
     },
     "metadata": {},
     "output_type": "display_data"
    },
    {
     "data": {
      "text/html": [
       "<pre style=\"white-space:pre;overflow-x:auto;line-height:normal;font-family:Menlo,'DejaVu Sans Mono',consolas,'Courier New',monospace\">Not applying any cuts to the lepton jets for channel  baseNoLj_A_ee_highPtA_Lxy125to135A\n",
       "</pre>\n"
      ],
      "text/plain": [
       "Not applying any cuts to the lepton jets for channel  baseNoLj_A_ee_highPtA_Lxy125to135A\n"
      ]
     },
     "metadata": {},
     "output_type": "display_data"
    },
    {
     "data": {
      "text/html": [
       "<pre style=\"white-space:pre;overflow-x:auto;line-height:normal;font-family:Menlo,'DejaVu Sans Mono',consolas,'Courier New',monospace\">Not applying any cuts to the lepton jets for channel  baseNoLj_A_ee_matched_lj_highPT_Lxy125to135A\n",
       "</pre>\n"
      ],
      "text/plain": [
       "Not applying any cuts to the lepton jets for channel  baseNoLj_A_ee_matched_lj_highPT_Lxy125to135A\n"
      ]
     },
     "metadata": {},
     "output_type": "display_data"
    },
    {
     "data": {
      "text/html": [
       "<pre style=\"white-space:pre;overflow-x:auto;line-height:normal;font-family:Menlo,'DejaVu Sans Mono',consolas,'Courier New',monospace\">Not applying any cuts to the lepton jets for channel  baseNoLj_A_ee_highPtA_Lxyto5A\n",
       "</pre>\n"
      ],
      "text/plain": [
       "Not applying any cuts to the lepton jets for channel  baseNoLj_A_ee_highPtA_Lxyto5A\n"
      ]
     },
     "metadata": {},
     "output_type": "display_data"
    },
    {
     "data": {
      "text/html": [
       "<pre style=\"white-space:pre;overflow-x:auto;line-height:normal;font-family:Menlo,'DejaVu Sans Mono',consolas,'Courier New',monospace\">Not applying any cuts to the lepton jets for channel  baseNoLj_A_ee_matched_lj_highPT_Lxy0to5A\n",
       "</pre>\n"
      ],
      "text/plain": [
       "Not applying any cuts to the lepton jets for channel  baseNoLj_A_ee_matched_lj_highPT_Lxy0to5A\n"
      ]
     },
     "metadata": {},
     "output_type": "display_data"
    },
    {
     "data": {
      "text/html": [
       "<pre style=\"white-space:pre;overflow-x:auto;line-height:normal;font-family:Menlo,'DejaVu Sans Mono',consolas,'Courier New',monospace\">Not applying any cuts to the lepton jets for channel  baseNoLj_A_ee_highPtA_Lxy40to77A\n",
       "</pre>\n"
      ],
      "text/plain": [
       "Not applying any cuts to the lepton jets for channel  baseNoLj_A_ee_highPtA_Lxy40to77A\n"
      ]
     },
     "metadata": {},
     "output_type": "display_data"
    },
    {
     "data": {
      "text/html": [
       "<pre style=\"white-space:pre;overflow-x:auto;line-height:normal;font-family:Menlo,'DejaVu Sans Mono',consolas,'Courier New',monospace\">Not applying any cuts to the lepton jets for channel  baseNoLj_A_ee_highPtA_Lxy40to77A\n",
       "</pre>\n"
      ],
      "text/plain": [
       "Not applying any cuts to the lepton jets for channel  baseNoLj_A_ee_highPtA_Lxy40to77A\n"
      ]
     },
     "metadata": {},
     "output_type": "display_data"
    },
    {
     "data": {
      "text/html": [
       "<pre style=\"white-space:pre;overflow-x:auto;line-height:normal;font-family:Menlo,'DejaVu Sans Mono',consolas,'Courier New',monospace\">Not applying any cuts to the lepton jets for channel  baseNoLj_A_ee_matched_lj_highPT_Lxy40to77A\n",
       "</pre>\n"
      ],
      "text/plain": [
       "Not applying any cuts to the lepton jets for channel  baseNoLj_A_ee_matched_lj_highPT_Lxy40to77A\n"
      ]
     },
     "metadata": {},
     "output_type": "display_data"
    },
    {
     "data": {
      "text/html": [
       "<pre style=\"white-space:pre;overflow-x:auto;line-height:normal;font-family:Menlo,'DejaVu Sans Mono',consolas,'Courier New',monospace\">Not applying any cuts to the lepton jets for channel  baseNoLj_A_ee_highPtA_Lxy125to135A\n",
       "</pre>\n"
      ],
      "text/plain": [
       "Not applying any cuts to the lepton jets for channel  baseNoLj_A_ee_highPtA_Lxy125to135A\n"
      ]
     },
     "metadata": {},
     "output_type": "display_data"
    },
    {
     "data": {
      "text/html": [
       "<pre style=\"white-space:pre;overflow-x:auto;line-height:normal;font-family:Menlo,'DejaVu Sans Mono',consolas,'Courier New',monospace\">Not applying any cuts to the lepton jets for channel  baseNoLj_A_ee_matched_lj_highPT_Lxy125to135A\n",
       "</pre>\n"
      ],
      "text/plain": [
       "Not applying any cuts to the lepton jets for channel  baseNoLj_A_ee_matched_lj_highPT_Lxy125to135A\n"
      ]
     },
     "metadata": {},
     "output_type": "display_data"
    },
    {
     "data": {
      "text/html": [
       "<pre style=\"white-space:pre;overflow-x:auto;line-height:normal;font-family:Menlo,'DejaVu Sans Mono',consolas,'Courier New',monospace\">Not applying any cuts to the lepton jets for channel  baseNoLj_A_ee_highPtA_Lxyto5A\n",
       "</pre>\n"
      ],
      "text/plain": [
       "Not applying any cuts to the lepton jets for channel  baseNoLj_A_ee_highPtA_Lxyto5A\n"
      ]
     },
     "metadata": {},
     "output_type": "display_data"
    },
    {
     "data": {
      "text/html": [
       "<pre style=\"white-space:pre;overflow-x:auto;line-height:normal;font-family:Menlo,'DejaVu Sans Mono',consolas,'Courier New',monospace\">Not applying any cuts to the lepton jets for channel  baseNoLj_A_ee_matched_lj_highPT_Lxy0to5A\n",
       "</pre>\n"
      ],
      "text/plain": [
       "Not applying any cuts to the lepton jets for channel  baseNoLj_A_ee_matched_lj_highPT_Lxy0to5A\n"
      ]
     },
     "metadata": {},
     "output_type": "display_data"
    },
    {
     "data": {
      "text/html": [
       "<pre style=\"white-space:pre;overflow-x:auto;line-height:normal;font-family:Menlo,'DejaVu Sans Mono',consolas,'Courier New',monospace\">Not applying any cuts to the lepton jets for channel  baseNoLj_A_ee_highPtA_Lxy40to77A\n",
       "</pre>\n"
      ],
      "text/plain": [
       "Not applying any cuts to the lepton jets for channel  baseNoLj_A_ee_highPtA_Lxy40to77A\n"
      ]
     },
     "metadata": {},
     "output_type": "display_data"
    },
    {
     "data": {
      "text/html": [
       "<pre style=\"white-space:pre;overflow-x:auto;line-height:normal;font-family:Menlo,'DejaVu Sans Mono',consolas,'Courier New',monospace\">Not applying any cuts to the lepton jets for channel  baseNoLj_A_ee_highPtA_Lxy40to77A\n",
       "</pre>\n"
      ],
      "text/plain": [
       "Not applying any cuts to the lepton jets for channel  baseNoLj_A_ee_highPtA_Lxy40to77A\n"
      ]
     },
     "metadata": {},
     "output_type": "display_data"
    },
    {
     "data": {
      "text/html": [
       "<pre style=\"white-space:pre;overflow-x:auto;line-height:normal;font-family:Menlo,'DejaVu Sans Mono',consolas,'Courier New',monospace\">Not applying any cuts to the lepton jets for channel  baseNoLj_A_ee_matched_lj_highPT_Lxy40to77A\n",
       "</pre>\n"
      ],
      "text/plain": [
       "Not applying any cuts to the lepton jets for channel  baseNoLj_A_ee_matched_lj_highPT_Lxy40to77A\n"
      ]
     },
     "metadata": {},
     "output_type": "display_data"
    },
    {
     "data": {
      "text/html": [
       "<pre style=\"white-space:pre;overflow-x:auto;line-height:normal;font-family:Menlo,'DejaVu Sans Mono',consolas,'Courier New',monospace\">Not applying any cuts to the lepton jets for channel  baseNoLj_A_ee_highPtA_Lxy125to135A\n",
       "</pre>\n"
      ],
      "text/plain": [
       "Not applying any cuts to the lepton jets for channel  baseNoLj_A_ee_highPtA_Lxy125to135A\n"
      ]
     },
     "metadata": {},
     "output_type": "display_data"
    },
    {
     "data": {
      "text/html": [
       "<pre style=\"white-space:pre;overflow-x:auto;line-height:normal;font-family:Menlo,'DejaVu Sans Mono',consolas,'Courier New',monospace\">Not applying any cuts to the lepton jets for channel  baseNoLj_A_ee_matched_lj_highPT_Lxy125to135A\n",
       "</pre>\n"
      ],
      "text/plain": [
       "Not applying any cuts to the lepton jets for channel  baseNoLj_A_ee_matched_lj_highPT_Lxy125to135A\n"
      ]
     },
     "metadata": {},
     "output_type": "display_data"
    },
    {
     "data": {
      "text/html": [
       "<pre style=\"white-space:pre;overflow-x:auto;line-height:normal;font-family:Menlo,'DejaVu Sans Mono',consolas,'Courier New',monospace\">Not applying any cuts to the lepton jets for channel  baseNoLj_A_ee_highPtA_Lxyto5A\n",
       "</pre>\n"
      ],
      "text/plain": [
       "Not applying any cuts to the lepton jets for channel  baseNoLj_A_ee_highPtA_Lxyto5A\n"
      ]
     },
     "metadata": {},
     "output_type": "display_data"
    },
    {
     "data": {
      "text/html": [
       "<pre style=\"white-space:pre;overflow-x:auto;line-height:normal;font-family:Menlo,'DejaVu Sans Mono',consolas,'Courier New',monospace\">Not applying any cuts to the lepton jets for channel  baseNoLj_A_ee_matched_lj_highPT_Lxy0to5A\n",
       "</pre>\n"
      ],
      "text/plain": [
       "Not applying any cuts to the lepton jets for channel  baseNoLj_A_ee_matched_lj_highPT_Lxy0to5A\n"
      ]
     },
     "metadata": {},
     "output_type": "display_data"
    },
    {
     "data": {
      "text/html": [
       "<pre style=\"white-space:pre;overflow-x:auto;line-height:normal;font-family:Menlo,'DejaVu Sans Mono',consolas,'Courier New',monospace\">Not applying any cuts to the lepton jets for channel  baseNoLj_A_ee_highPtA_Lxy40to77A\n",
       "</pre>\n"
      ],
      "text/plain": [
       "Not applying any cuts to the lepton jets for channel  baseNoLj_A_ee_highPtA_Lxy40to77A\n"
      ]
     },
     "metadata": {},
     "output_type": "display_data"
    },
    {
     "data": {
      "text/html": [
       "<pre style=\"white-space:pre;overflow-x:auto;line-height:normal;font-family:Menlo,'DejaVu Sans Mono',consolas,'Courier New',monospace\">Not applying any cuts to the lepton jets for channel  baseNoLj_A_ee_highPtA_Lxy40to77A\n",
       "</pre>\n"
      ],
      "text/plain": [
       "Not applying any cuts to the lepton jets for channel  baseNoLj_A_ee_highPtA_Lxy40to77A\n"
      ]
     },
     "metadata": {},
     "output_type": "display_data"
    },
    {
     "data": {
      "text/html": [
       "<pre style=\"white-space:pre;overflow-x:auto;line-height:normal;font-family:Menlo,'DejaVu Sans Mono',consolas,'Courier New',monospace\">Not applying any cuts to the lepton jets for channel  baseNoLj_A_ee_matched_lj_highPT_Lxy40to77A\n",
       "</pre>\n"
      ],
      "text/plain": [
       "Not applying any cuts to the lepton jets for channel  baseNoLj_A_ee_matched_lj_highPT_Lxy40to77A\n"
      ]
     },
     "metadata": {},
     "output_type": "display_data"
    },
    {
     "data": {
      "text/html": [
       "<pre style=\"white-space:pre;overflow-x:auto;line-height:normal;font-family:Menlo,'DejaVu Sans Mono',consolas,'Courier New',monospace\">Not applying any cuts to the lepton jets for channel  baseNoLj_A_ee_highPtA_Lxy125to135A\n",
       "</pre>\n"
      ],
      "text/plain": [
       "Not applying any cuts to the lepton jets for channel  baseNoLj_A_ee_highPtA_Lxy125to135A\n"
      ]
     },
     "metadata": {},
     "output_type": "display_data"
    },
    {
     "data": {
      "text/html": [
       "<pre style=\"white-space:pre;overflow-x:auto;line-height:normal;font-family:Menlo,'DejaVu Sans Mono',consolas,'Courier New',monospace\">Not applying any cuts to the lepton jets for channel  baseNoLj_A_ee_matched_lj_highPT_Lxy125to135A\n",
       "</pre>\n"
      ],
      "text/plain": [
       "Not applying any cuts to the lepton jets for channel  baseNoLj_A_ee_matched_lj_highPT_Lxy125to135A\n"
      ]
     },
     "metadata": {},
     "output_type": "display_data"
    },
    {
     "data": {
      "text/html": [
       "<pre style=\"white-space:pre;overflow-x:auto;line-height:normal;font-family:Menlo,'DejaVu Sans Mono',consolas,'Courier New',monospace\">Not applying any cuts to the lepton jets for channel  baseNoLj_A_ee_highPtA_Lxyto5A\n",
       "</pre>\n"
      ],
      "text/plain": [
       "Not applying any cuts to the lepton jets for channel  baseNoLj_A_ee_highPtA_Lxyto5A\n"
      ]
     },
     "metadata": {},
     "output_type": "display_data"
    },
    {
     "data": {
      "text/html": [
       "<pre style=\"white-space:pre;overflow-x:auto;line-height:normal;font-family:Menlo,'DejaVu Sans Mono',consolas,'Courier New',monospace\">Not applying any cuts to the lepton jets for channel  baseNoLj_A_ee_matched_lj_highPT_Lxy0to5A\n",
       "</pre>\n"
      ],
      "text/plain": [
       "Not applying any cuts to the lepton jets for channel  baseNoLj_A_ee_matched_lj_highPT_Lxy0to5A\n"
      ]
     },
     "metadata": {},
     "output_type": "display_data"
    },
    {
     "data": {
      "text/html": [
       "<pre style=\"white-space:pre;overflow-x:auto;line-height:normal;font-family:Menlo,'DejaVu Sans Mono',consolas,'Courier New',monospace\">Not applying any cuts to the lepton jets for channel  baseNoLj_A_ee_highPtA_Lxy40to77A\n",
       "</pre>\n"
      ],
      "text/plain": [
       "Not applying any cuts to the lepton jets for channel  baseNoLj_A_ee_highPtA_Lxy40to77A\n"
      ]
     },
     "metadata": {},
     "output_type": "display_data"
    },
    {
     "data": {
      "text/html": [
       "<pre style=\"white-space:pre;overflow-x:auto;line-height:normal;font-family:Menlo,'DejaVu Sans Mono',consolas,'Courier New',monospace\">Not applying any cuts to the lepton jets for channel  baseNoLj_A_ee_highPtA_Lxy40to77A\n",
       "</pre>\n"
      ],
      "text/plain": [
       "Not applying any cuts to the lepton jets for channel  baseNoLj_A_ee_highPtA_Lxy40to77A\n"
      ]
     },
     "metadata": {},
     "output_type": "display_data"
    },
    {
     "data": {
      "text/html": [
       "<pre style=\"white-space:pre;overflow-x:auto;line-height:normal;font-family:Menlo,'DejaVu Sans Mono',consolas,'Courier New',monospace\">Not applying any cuts to the lepton jets for channel  baseNoLj_A_ee_matched_lj_highPT_Lxy40to77A\n",
       "</pre>\n"
      ],
      "text/plain": [
       "Not applying any cuts to the lepton jets for channel  baseNoLj_A_ee_matched_lj_highPT_Lxy40to77A\n"
      ]
     },
     "metadata": {},
     "output_type": "display_data"
    },
    {
     "data": {
      "text/html": [
       "<pre style=\"white-space:pre;overflow-x:auto;line-height:normal;font-family:Menlo,'DejaVu Sans Mono',consolas,'Courier New',monospace\">Not applying any cuts to the lepton jets for channel  baseNoLj_A_ee_highPtA_Lxy125to135A\n",
       "</pre>\n"
      ],
      "text/plain": [
       "Not applying any cuts to the lepton jets for channel  baseNoLj_A_ee_highPtA_Lxy125to135A\n"
      ]
     },
     "metadata": {},
     "output_type": "display_data"
    },
    {
     "data": {
      "text/html": [
       "<pre style=\"white-space:pre;overflow-x:auto;line-height:normal;font-family:Menlo,'DejaVu Sans Mono',consolas,'Courier New',monospace\">Not applying any cuts to the lepton jets for channel  baseNoLj_A_ee_matched_lj_highPT_Lxy125to135A\n",
       "</pre>\n"
      ],
      "text/plain": [
       "Not applying any cuts to the lepton jets for channel  baseNoLj_A_ee_matched_lj_highPT_Lxy125to135A\n"
      ]
     },
     "metadata": {},
     "output_type": "display_data"
    },
    {
     "data": {
      "text/html": [
       "<pre style=\"white-space:pre;overflow-x:auto;line-height:normal;font-family:Menlo,'DejaVu Sans Mono',consolas,'Courier New',monospace\">Not applying any cuts to the lepton jets for channel  baseNoLj_A_ee_highPtA_Lxyto5A\n",
       "</pre>\n"
      ],
      "text/plain": [
       "Not applying any cuts to the lepton jets for channel  baseNoLj_A_ee_highPtA_Lxyto5A\n"
      ]
     },
     "metadata": {},
     "output_type": "display_data"
    },
    {
     "data": {
      "text/html": [
       "<pre style=\"white-space:pre;overflow-x:auto;line-height:normal;font-family:Menlo,'DejaVu Sans Mono',consolas,'Courier New',monospace\">Not applying any cuts to the lepton jets for channel  baseNoLj_A_ee_matched_lj_highPT_Lxy0to5A\n",
       "</pre>\n"
      ],
      "text/plain": [
       "Not applying any cuts to the lepton jets for channel  baseNoLj_A_ee_matched_lj_highPT_Lxy0to5A\n"
      ]
     },
     "metadata": {},
     "output_type": "display_data"
    },
    {
     "data": {
      "text/html": [
       "<pre style=\"white-space:pre;overflow-x:auto;line-height:normal;font-family:Menlo,'DejaVu Sans Mono',consolas,'Courier New',monospace\">Not applying any cuts to the lepton jets for channel  baseNoLj_A_ee_highPtA_Lxy40to77A\n",
       "</pre>\n"
      ],
      "text/plain": [
       "Not applying any cuts to the lepton jets for channel  baseNoLj_A_ee_highPtA_Lxy40to77A\n"
      ]
     },
     "metadata": {},
     "output_type": "display_data"
    },
    {
     "data": {
      "text/html": [
       "<pre style=\"white-space:pre;overflow-x:auto;line-height:normal;font-family:Menlo,'DejaVu Sans Mono',consolas,'Courier New',monospace\">Not applying any cuts to the lepton jets for channel  baseNoLj_A_ee_highPtA_Lxy40to77A\n",
       "</pre>\n"
      ],
      "text/plain": [
       "Not applying any cuts to the lepton jets for channel  baseNoLj_A_ee_highPtA_Lxy40to77A\n"
      ]
     },
     "metadata": {},
     "output_type": "display_data"
    },
    {
     "data": {
      "text/html": [
       "<pre style=\"white-space:pre;overflow-x:auto;line-height:normal;font-family:Menlo,'DejaVu Sans Mono',consolas,'Courier New',monospace\">Not applying any cuts to the lepton jets for channel  baseNoLj_A_ee_matched_lj_highPT_Lxy40to77A\n",
       "</pre>\n"
      ],
      "text/plain": [
       "Not applying any cuts to the lepton jets for channel  baseNoLj_A_ee_matched_lj_highPT_Lxy40to77A\n"
      ]
     },
     "metadata": {},
     "output_type": "display_data"
    },
    {
     "data": {
      "text/html": [
       "<pre style=\"white-space:pre;overflow-x:auto;line-height:normal;font-family:Menlo,'DejaVu Sans Mono',consolas,'Courier New',monospace\">Not applying any cuts to the lepton jets for channel  baseNoLj_A_ee_highPtA_Lxy125to135A\n",
       "</pre>\n"
      ],
      "text/plain": [
       "Not applying any cuts to the lepton jets for channel  baseNoLj_A_ee_highPtA_Lxy125to135A\n"
      ]
     },
     "metadata": {},
     "output_type": "display_data"
    },
    {
     "data": {
      "text/html": [
       "<pre style=\"white-space:pre;overflow-x:auto;line-height:normal;font-family:Menlo,'DejaVu Sans Mono',consolas,'Courier New',monospace\">Not applying any cuts to the lepton jets for channel  baseNoLj_A_ee_matched_lj_highPT_Lxy125to135A\n",
       "</pre>\n"
      ],
      "text/plain": [
       "Not applying any cuts to the lepton jets for channel  baseNoLj_A_ee_matched_lj_highPT_Lxy125to135A\n"
      ]
     },
     "metadata": {},
     "output_type": "display_data"
    },
    {
     "data": {
      "text/html": [
       "<pre style=\"white-space:pre;overflow-x:auto;line-height:normal;font-family:Menlo,'DejaVu Sans Mono',consolas,'Courier New',monospace\">Not applying any cuts to the lepton jets for channel  baseNoLj_A_ee_highPtA_Lxyto5A\n",
       "</pre>\n"
      ],
      "text/plain": [
       "Not applying any cuts to the lepton jets for channel  baseNoLj_A_ee_highPtA_Lxyto5A\n"
      ]
     },
     "metadata": {},
     "output_type": "display_data"
    },
    {
     "data": {
      "text/html": [
       "<pre style=\"white-space:pre;overflow-x:auto;line-height:normal;font-family:Menlo,'DejaVu Sans Mono',consolas,'Courier New',monospace\">Not applying any cuts to the lepton jets for channel  baseNoLj_A_ee_matched_lj_highPT_Lxy0to5A\n",
       "</pre>\n"
      ],
      "text/plain": [
       "Not applying any cuts to the lepton jets for channel  baseNoLj_A_ee_matched_lj_highPT_Lxy0to5A\n"
      ]
     },
     "metadata": {},
     "output_type": "display_data"
    },
    {
     "data": {
      "text/html": [
       "<pre style=\"white-space:pre;overflow-x:auto;line-height:normal;font-family:Menlo,'DejaVu Sans Mono',consolas,'Courier New',monospace\">Not applying any cuts to the lepton jets for channel  baseNoLj_A_ee_highPtA_Lxy40to77A\n",
       "</pre>\n"
      ],
      "text/plain": [
       "Not applying any cuts to the lepton jets for channel  baseNoLj_A_ee_highPtA_Lxy40to77A\n"
      ]
     },
     "metadata": {},
     "output_type": "display_data"
    },
    {
     "data": {
      "text/html": [
       "<pre style=\"white-space:pre;overflow-x:auto;line-height:normal;font-family:Menlo,'DejaVu Sans Mono',consolas,'Courier New',monospace\">Not applying any cuts to the lepton jets for channel  baseNoLj_A_ee_highPtA_Lxy40to77A\n",
       "</pre>\n"
      ],
      "text/plain": [
       "Not applying any cuts to the lepton jets for channel  baseNoLj_A_ee_highPtA_Lxy40to77A\n"
      ]
     },
     "metadata": {},
     "output_type": "display_data"
    },
    {
     "data": {
      "text/html": [
       "<pre style=\"white-space:pre;overflow-x:auto;line-height:normal;font-family:Menlo,'DejaVu Sans Mono',consolas,'Courier New',monospace\">Not applying any cuts to the lepton jets for channel  baseNoLj_A_ee_matched_lj_highPT_Lxy40to77A\n",
       "</pre>\n"
      ],
      "text/plain": [
       "Not applying any cuts to the lepton jets for channel  baseNoLj_A_ee_matched_lj_highPT_Lxy40to77A\n"
      ]
     },
     "metadata": {},
     "output_type": "display_data"
    },
    {
     "data": {
      "text/html": [
       "<pre style=\"white-space:pre;overflow-x:auto;line-height:normal;font-family:Menlo,'DejaVu Sans Mono',consolas,'Courier New',monospace\">Not applying any cuts to the lepton jets for channel  baseNoLj_A_ee_highPtA_Lxy125to135A\n",
       "</pre>\n"
      ],
      "text/plain": [
       "Not applying any cuts to the lepton jets for channel  baseNoLj_A_ee_highPtA_Lxy125to135A\n"
      ]
     },
     "metadata": {},
     "output_type": "display_data"
    },
    {
     "data": {
      "text/html": [
       "<pre style=\"white-space:pre;overflow-x:auto;line-height:normal;font-family:Menlo,'DejaVu Sans Mono',consolas,'Courier New',monospace\">Not applying any cuts to the lepton jets for channel  baseNoLj_A_ee_matched_lj_highPT_Lxy125to135A\n",
       "</pre>\n"
      ],
      "text/plain": [
       "Not applying any cuts to the lepton jets for channel  baseNoLj_A_ee_matched_lj_highPT_Lxy125to135A\n"
      ]
     },
     "metadata": {},
     "output_type": "display_data"
    },
    {
     "data": {
      "text/html": [
       "<pre style=\"white-space:pre;overflow-x:auto;line-height:normal;font-family:Menlo,'DejaVu Sans Mono',consolas,'Courier New',monospace\"></pre>\n"
      ],
      "text/plain": []
     },
     "metadata": {},
     "output_type": "display_data"
    },
    {
     "data": {
      "text/html": [
       "<pre style=\"white-space:pre;overflow-x:auto;line-height:normal;font-family:Menlo,'DejaVu Sans Mono',consolas,'Courier New',monospace\">\n",
       "</pre>\n"
      ],
      "text/plain": [
       "\n"
      ]
     },
     "metadata": {},
     "output_type": "display_data"
    }
   ],
   "source": [
    "runner = processor.Runner(\n",
    "    executor=processor.IterativeExecutor(),\n",
    "    #executor=processor.FuturesExecutor(),\n",
    "    schema=ffschema.FFSchema,\n",
    "    #maxchunks=2,\n",
    "    )\n",
    "\n",
    "p = sidm_processor.SidmProcessor(\n",
    "    [\n",
    "        #\"baseNoLj\",\n",
    "        #\"baseNoLj_A_ee_matched_lj\",\n",
    "        #\"baseNoLj_A_mumu_matched_lj\"\n",
    "        #\"baseNoLj_A_ee_highPtA_lowLxyA\",\n",
    "        #\"baseNoLj_A_ee_matched_lj_highPT_lowLxyA\",\n",
    "        #\"baseNoLj_A_mumu_highPtA_lowLxyA\",\n",
    "        #\"baseNoLj_A_mumu_matched_lj_highPT_lowLxyA\",\n",
    "        #\"baseNoLj_promptA\",\n",
    "        #\"baseNoLj_displacedA\",\n",
    "        #\"baseNoLj_veryDisplacedA\",\n",
    "        #\"baseNoLj_lowLxyA\",\n",
    "        #\"baseNoLj_highPtA\",\n",
    "        \"baseNoLj_A_ee_highPtA_Lxyto5A\",\n",
    "        \"baseNoLj_A_ee_matched_lj_highPT_Lxy0to5A\",\n",
    "        \"baseNoLj_A_ee_highPtA_Lxy40to77A\",\n",
    "        \"baseNoLj_A_ee_highPtA_Lxy40to77A\",\n",
    "        \"baseNoLj_A_ee_matched_lj_highPT_Lxy40to77A\",\n",
    "        \"baseNoLj_A_ee_highPtA_Lxy125to135A\",\n",
    "        \"baseNoLj_A_ee_matched_lj_highPT_Lxy125to135A\",\n",
    "        #\"baseNoLj_Lxy_upto250A\",\n",
    "        #\"2mu2e\",\n",
    "        \n",
    "        \n",
    "    ],\n",
    "    [\"gen_base\", \n",
    "     #\"lj_base\",\n",
    "    ]\n",
    ")\n",
    "\n",
    "output = runner.run(fileset, treename=\"ffNtuplizer/ffNtuple\", processor_instance=p)"
   ]
  },
  {
   "cell_type": "code",
   "execution_count": 4,
   "id": "320e1a99-7011-49da-b9c3-41138af4cf28",
   "metadata": {
    "tags": []
   },
   "outputs": [],
   "source": [
    "ch1 = \"baseNoLj_highPtA\"\n",
    "ch2 = \"baseNoLj_A_ee_highPtA_Lxyto5A\"\n",
    "ch3 = \"baseNoLj_A_ee_matched_lj_highPT_Lxy0to5A\"\n",
    "ch4 = \"baseNoLj_A_ee_highPtA_Lxy40to77A\"\n",
    "ch5 = \"baseNoLj_A_ee_matched_lj_highPT_Lxy40to77A\"\n",
    "ch6 = \"baseNoLj_A_ee_highPtA_Lxy125to135A\"\n",
    "ch7 = \"baseNoLj_A_ee_matched_lj_highPT_Lxy125to135A\""
   ]
  },
  {
   "cell_type": "code",
   "execution_count": 5,
   "id": "94f63317-a9d7-4dbc-8b7d-38d0778669e0",
   "metadata": {
    "tags": []
   },
   "outputs": [
    {
     "data": {
      "text/plain": [
       "<matplotlib.colorbar.Colorbar at 0x7f4b0cd4e760>"
      ]
     },
     "execution_count": 5,
     "metadata": {},
     "output_type": "execute_result"
    },
    {
     "data": {
      "image/png": "[encoded data removed]",
      "text/plain": [
       "<Figure size 500x500 with 2 Axes>"
      ]
     },
     "metadata": {},
     "output_type": "display_data"
    }
   ],
   "source": [
    "values = output[\"out\"][\"2Mu2E_200GeV_0p25GeV_10mm\"][\"hists\"][\"genAs_toE_pt_EEdR_lowRange\"][ch3,:, :].values()\\\n",
    "          /(output[\"out\"][\"2Mu2E_200GeV_0p25GeV_10mm\"][\"hists\"][\"genAs_toE_pt_EEdR_lowRange\"][ch2,:, :].values() + 0.00001)\n",
    "hist2d = output[\"out\"][\"2Mu2E_200GeV_0p25GeV_10mm\"][\"hists\"][\"genAs_toE_pt_EEdR_lowRange\"][ch3,:, :]\n",
    "#hist2d = hist.Hist(hist.axis.Regular(140, 0, 700), hist.axis.Regular(250, 0, 500))\n",
    "fig, ax = plt.subplots()\n",
    "#mesh = ax.pcolormesh(*hist2d.axes.edges.T, values.T)\n",
    "mesh = ax.pcolormesh(*hist2d.axes.edges.T, values.T, vmin = 0.0 , vmax = 1.0)\n",
    "ax.set_xlabel(r\"$Z_d$ $p_T$\")\n",
    "ax.set_ylabel(r\"$\\Delta$R(E,E)\")\n",
    "fig.colorbar(mesh)\n"
   ]
  },
  {
   "cell_type": "code",
   "execution_count": 8,
   "id": "c99c5854-9f9e-4d43-99d4-c47243297cc4",
   "metadata": {
    "tags": []
   },
   "outputs": [
    {
     "data": {
      "text/plain": [
       "<matplotlib.colorbar.Colorbar at 0x7f4b0ce312e0>"
      ]
     },
     "execution_count": 8,
     "metadata": {},
     "output_type": "execute_result"
    },
    {
     "data": {
      "image/png": "[encoded data removed]",
      "text/plain": [
       "<Figure size 500x500 with 2 Axes>"
      ]
     },
     "metadata": {},
     "output_type": "display_data"
    }
   ],
   "source": [
    "values = output[\"out\"][\"2Mu2E_200GeV_0p25GeV_10mm\"][\"hists\"][\"genAs_toE_pt_EEdR_lowRange\"][ch5,:, :].values()\\\n",
    "          /(output[\"out\"][\"2Mu2E_200GeV_0p25GeV_10mm\"][\"hists\"][\"genAs_toE_pt_EEdR_lowRange\"][ch4,:, :].values() + 0.00001)\n",
    "hist2d = output[\"out\"][\"2Mu2E_200GeV_0p25GeV_10mm\"][\"hists\"][\"genAs_toE_pt_EEdR_lowRange\"][ch3,:, :]\n",
    "#hist2d = hist.Hist(hist.axis.Regular(140, 0, 700), hist.axis.Regular(250, 0, 500))\n",
    "fig, ax = plt.subplots()\n",
    "#mesh = ax.pcolormesh(*hist2d.axes.edges.T, values.T)\n",
    "mesh = ax.pcolormesh(*hist2d.axes.edges.T, values.T, vmin = 0.0 , vmax = 1.0)\n",
    "ax.set_xlabel(r\"$Z_d$ $p_T$\")\n",
    "ax.set_ylabel(r\"$\\Delta$R(E,E)\")\n",
    "fig.colorbar(mesh)\n"
   ]
  },
  {
   "cell_type": "code",
   "execution_count": 9,
   "id": "9c90e69f-43a0-4336-aafb-16ad17f1f1e8",
   "metadata": {
    "tags": []
   },
   "outputs": [
    {
     "data": {
      "text/plain": [
       "<matplotlib.colorbar.Colorbar at 0x7f4b0dbad220>"
      ]
     },
     "execution_count": 9,
     "metadata": {},
     "output_type": "execute_result"
    },
    {
     "data": {
      "image/png": "[encoded data removed]",
      "text/plain": [
       "<Figure size 500x500 with 2 Axes>"
      ]
     },
     "metadata": {},
     "output_type": "display_data"
    }
   ],
   "source": [
    "values = output[\"out\"][\"2Mu2E_200GeV_0p25GeV_10mm\"][\"hists\"][\"genAs_toE_pt_EEdR_lowRange\"][ch7,:, :].values()\\\n",
    "          /(output[\"out\"][\"2Mu2E_200GeV_0p25GeV_10mm\"][\"hists\"][\"genAs_toE_pt_EEdR_lowRange\"][ch6,:, :].values() + 0.00001)\n",
    "hist2d = output[\"out\"][\"2Mu2E_200GeV_0p25GeV_10mm\"][\"hists\"][\"genAs_toE_pt_EEdR_lowRange\"][ch3,:, :]\n",
    "#hist2d = hist.Hist(hist.axis.Regular(140, 0, 700), hist.axis.Regular(250, 0, 500))\n",
    "fig, ax = plt.subplots()\n",
    "#mesh = ax.pcolormesh(*hist2d.axes.edges.T, values.T)\n",
    "mesh = ax.pcolormesh(*hist2d.axes.edges.T, values.T, vmin = 0.0 , vmax = 1.0)\n",
    "ax.set_xlabel(r\"$Z_d$ $p_T$\")\n",
    "ax.set_ylabel(r\"$\\Delta$R(E,E)\")\n",
    "fig.colorbar(mesh)\n"
   ]
  },
  {
   "cell_type": "code",
   "execution_count": 6,
   "id": "a84552e7-9d1b-48f6-aa6d-329de88cc46b",
   "metadata": {
    "tags": []
   },
   "outputs": [
    {
     "data": {
      "text/plain": [
       "<matplotlib.colorbar.Colorbar at 0x7f4af7f75a00>"
      ]
     },
     "execution_count": 6,
     "metadata": {},
     "output_type": "execute_result"
    },
    {
     "data": {
      "image/png": "[encoded data removed]",
      "text/plain": [
       "<Figure size 500x500 with 2 Axes>"
      ]
     },
     "metadata": {},
     "output_type": "display_data"
    }
   ],
   "source": [
    "values = output[\"out\"][ \"2Mu2E_200GeV_5GeV_200mm\"][\"hists\"][\"genAs_toE_pt_EEdR_lowRange\"][ch3,:, :].values()\\\n",
    "          /(output[\"out\"][ \"2Mu2E_200GeV_5GeV_200mm\"][\"hists\"][\"genAs_toE_pt_EEdR_lowRange\"][ch2,:, :].values() + 0.00001)\n",
    "hist2d = output[\"out\"][ \"2Mu2E_200GeV_5GeV_200mm\"][\"hists\"][\"genAs_toE_pt_EEdR_lowRange\"][ch3,:, :]\n",
    "#hist2d = hist.Hist(hist.axis.Regular(140, 0, 700), hist.axis.Regular(250, 0, 500))\n",
    "fig, ax = plt.subplots()\n",
    "#mesh = ax.pcolormesh(*hist2d.axes.edges.T, values.T)\n",
    "mesh = ax.pcolormesh(*hist2d.axes.edges.T, values.T, vmin = 0.0 , vmax = 1.0)\n",
    "ax.set_xlabel(r\"$Z_d$ $p_T$\")\n",
    "ax.set_ylabel(r\"$\\Delta$R(E,E)\")\n",
    "fig.colorbar(mesh)\n"
   ]
  },
  {
   "cell_type": "code",
   "execution_count": 10,
   "id": "b32c2c23-3f38-46c7-8fda-4ec6c0c5323c",
   "metadata": {
    "tags": []
   },
   "outputs": [
    {
     "data": {
      "text/plain": [
       "<matplotlib.colorbar.Colorbar at 0x7f4b0d7d2430>"
      ]
     },
     "execution_count": 10,
     "metadata": {},
     "output_type": "execute_result"
    },
    {
     "data": {
      "image/png": "[encoded data removed]",
      "text/plain": [
       "<Figure size 500x500 with 2 Axes>"
      ]
     },
     "metadata": {},
     "output_type": "display_data"
    }
   ],
   "source": [
    "values = output[\"out\"][ \"2Mu2E_200GeV_5GeV_200mm\"][\"hists\"][\"genAs_toE_pt_EEdR_lowRange\"][ch5,:, :].values()\\\n",
    "          /(output[\"out\"][ \"2Mu2E_200GeV_5GeV_200mm\"][\"hists\"][\"genAs_toE_pt_EEdR_lowRange\"][ch4,:, :].values() + 0.00001)\n",
    "hist2d = output[\"out\"][ \"2Mu2E_200GeV_5GeV_200mm\"][\"hists\"][\"genAs_toE_pt_EEdR_lowRange\"][ch3,:, :]\n",
    "#hist2d = hist.Hist(hist.axis.Regular(140, 0, 700), hist.axis.Regular(250, 0, 500))\n",
    "fig, ax = plt.subplots()\n",
    "#mesh = ax.pcolormesh(*hist2d.axes.edges.T, values.T)\n",
    "mesh = ax.pcolormesh(*hist2d.axes.edges.T, values.T, vmin = 0.0 , vmax = 1.0)\n",
    "ax.set_xlabel(r\"$Z_d$ $p_T$\")\n",
    "ax.set_ylabel(r\"$\\Delta$R(E,E)\")\n",
    "fig.colorbar(mesh)\n"
   ]
  },
  {
   "cell_type": "code",
   "execution_count": 11,
   "id": "250f14db-9767-49c2-b7f6-2a9b36074530",
   "metadata": {
    "tags": []
   },
   "outputs": [
    {
     "data": {
      "text/plain": [
       "<matplotlib.colorbar.Colorbar at 0x7f4b0dd0a9d0>"
      ]
     },
     "execution_count": 11,
     "metadata": {},
     "output_type": "execute_result"
    },
    {
     "data": {
      "image/png": "[encoded data removed]",
      "text/plain": [
       "<Figure size 500x500 with 2 Axes>"
      ]
     },
     "metadata": {},
     "output_type": "display_data"
    }
   ],
   "source": [
    "values = output[\"out\"][ \"2Mu2E_200GeV_5GeV_200mm\"][\"hists\"][\"genAs_toE_pt_EEdR_lowRange\"][ch7,:, :].values()\\\n",
    "          /(output[\"out\"][ \"2Mu2E_200GeV_5GeV_200mm\"][\"hists\"][\"genAs_toE_pt_EEdR_lowRange\"][ch6,:, :].values() + 0.00001)\n",
    "hist2d = output[\"out\"][ \"2Mu2E_200GeV_5GeV_200mm\"][\"hists\"][\"genAs_toE_pt_EEdR_lowRange\"][ch3,:, :]\n",
    "#hist2d = hist.Hist(hist.axis.Regular(140, 0, 700), hist.axis.Regular(250, 0, 500))\n",
    "fig, ax = plt.subplots()\n",
    "#mesh = ax.pcolormesh(*hist2d.axes.edges.T, values.T)\n",
    "mesh = ax.pcolormesh(*hist2d.axes.edges.T, values.T, vmin = 0.0 , vmax = 1.0)\n",
    "ax.set_xlabel(r\"$Z_d$ $p_T$\")\n",
    "ax.set_ylabel(r\"$\\Delta$R(E,E)\")\n",
    "fig.colorbar(mesh)\n"
   ]
  },
  {
   "cell_type": "code",
   "execution_count": 7,
   "id": "177c14b7-7ee0-4140-84c5-bfb7b5accbf3",
   "metadata": {
    "tags": []
   },
   "outputs": [
    {
     "data": {
      "text/plain": [
       "<matplotlib.colorbar.Colorbar at 0x7f4af7b8b700>"
      ]
     },
     "execution_count": 7,
     "metadata": {},
     "output_type": "execute_result"
    },
    {
     "data": {
      "image/png": "[encoded data removed]",
      "text/plain": [
       "<Figure size 500x500 with 2 Axes>"
      ]
     },
     "metadata": {},
     "output_type": "display_data"
    }
   ],
   "source": [
    "values = output[\"out\"][ \"2Mu2E_200GeV_1p2GeV_48mm\"][\"hists\"][\"genAs_toE_pt_EEdR_lowRange\"][ch3,:, :].values()\\\n",
    "          /(output[\"out\"][ \"2Mu2E_200GeV_1p2GeV_48mm\"][\"hists\"][\"genAs_toE_pt_EEdR_lowRange\"][ch2,:, :].values() + 0.00001)\n",
    "hist2d = output[\"out\"][ \"2Mu2E_200GeV_1p2GeV_48mm\"][\"hists\"][\"genAs_toE_pt_EEdR_lowRange\"][ch3,:, :]\n",
    "#hist2d = hist.Hist(hist.axis.Regular(140, 0, 700), hist.axis.Regular(250, 0, 500))\n",
    "fig, ax = plt.subplots()\n",
    "#mesh = ax.pcolormesh(*hist2d.axes.edges.T, values.T)\n",
    "mesh = ax.pcolormesh(*hist2d.axes.edges.T, values.T, vmin = 0.0 , vmax = 1.0)\n",
    "ax.set_xlabel(r\"$Z_d$ $p_T$\")\n",
    "ax.set_ylabel(r\"$\\Delta$R(E,E)\")\n",
    "fig.colorbar(mesh)\n"
   ]
  },
  {
   "cell_type": "code",
   "execution_count": 12,
   "id": "d2308989-154a-46fb-880c-c8f8a7ad44ab",
   "metadata": {
    "tags": []
   },
   "outputs": [
    {
     "data": {
      "text/plain": [
       "<matplotlib.colorbar.Colorbar at 0x7f4b0cc8b340>"
      ]
     },
     "execution_count": 12,
     "metadata": {},
     "output_type": "execute_result"
    },
    {
     "data": {
      "image/png": "[encoded data removed]",
      "text/plain": [
       "<Figure size 500x500 with 2 Axes>"
      ]
     },
     "metadata": {},
     "output_type": "display_data"
    }
   ],
   "source": [
    "values = output[\"out\"][ \"2Mu2E_200GeV_1p2GeV_48mm\"][\"hists\"][\"genAs_toE_pt_EEdR_lowRange\"][ch5,:, :].values()\\\n",
    "          /(output[\"out\"][ \"2Mu2E_200GeV_1p2GeV_48mm\"][\"hists\"][\"genAs_toE_pt_EEdR_lowRange\"][ch4,:, :].values() + 0.00001)\n",
    "hist2d = output[\"out\"][ \"2Mu2E_200GeV_1p2GeV_48mm\"][\"hists\"][\"genAs_toE_pt_EEdR_lowRange\"][ch3,:, :]\n",
    "#hist2d = hist.Hist(hist.axis.Regular(140, 0, 700), hist.axis.Regular(250, 0, 500))\n",
    "fig, ax = plt.subplots()\n",
    "#mesh = ax.pcolormesh(*hist2d.axes.edges.T, values.T)\n",
    "mesh = ax.pcolormesh(*hist2d.axes.edges.T, values.T, vmin = 0.0 , vmax = 1.0)\n",
    "ax.set_xlabel(r\"$Z_d$ $p_T$\")\n",
    "ax.set_ylabel(r\"$\\Delta$R(E,E)\")\n",
    "fig.colorbar(mesh)\n"
   ]
  },
  {
   "cell_type": "code",
   "execution_count": 13,
   "id": "9b50db80-6e98-4ff4-8cb0-afd72d626a67",
   "metadata": {
    "tags": []
   },
   "outputs": [
    {
     "data": {
      "text/plain": [
       "<matplotlib.colorbar.Colorbar at 0x7f4b19cea7f0>"
      ]
     },
     "execution_count": 13,
     "metadata": {},
     "output_type": "execute_result"
    },
    {
     "data": {
      "image/png": "[encoded data removed]",
      "text/plain": [
       "<Figure size 500x500 with 2 Axes>"
      ]
     },
     "metadata": {},
     "output_type": "display_data"
    }
   ],
   "source": [
    "values = output[\"out\"][ \"2Mu2E_200GeV_1p2GeV_48mm\"][\"hists\"][\"genAs_toE_pt_EEdR_lowRange\"][ch7,:, :].values()\\\n",
    "          /(output[\"out\"][ \"2Mu2E_200GeV_1p2GeV_48mm\"][\"hists\"][\"genAs_toE_pt_EEdR_lowRange\"][ch6,:, :].values() + 0.00001)\n",
    "hist2d = output[\"out\"][ \"2Mu2E_200GeV_1p2GeV_48mm\"][\"hists\"][\"genAs_toE_pt_EEdR_lowRange\"][ch3,:, :]\n",
    "#hist2d = hist.Hist(hist.axis.Regular(140, 0, 700), hist.axis.Regular(250, 0, 500))\n",
    "fig, ax = plt.subplots()\n",
    "#mesh = ax.pcolormesh(*hist2d.axes.edges.T, values.T)\n",
    "mesh = ax.pcolormesh(*hist2d.axes.edges.T, values.T, vmin = 0.0 , vmax = 1.0)\n",
    "ax.set_xlabel(r\"$Z_d$ $p_T$\")\n",
    "ax.set_ylabel(r\"$\\Delta$R(E,E)\")\n",
    "fig.colorbar(mesh)\n"
   ]
  },
  {
   "cell_type": "code",
   "execution_count": null,
   "id": "24f465bf-a948-459f-97b3-bbe71ff09248",
   "metadata": {},
   "outputs": [],
   "source": []
  }
 ],
 "metadata": {
  "kernelspec": {
   "display_name": "Python 3 (ipykernel)",
   "language": "python",
   "name": "python3"
  },
  "language_info": {
   "codemirror_mode": {
    "name": "ipython",
    "version": 3
   },
   "file_extension": ".py",
   "mimetype": "text/x-python",
   "name": "python",
   "nbconvert_exporter": "python",
   "pygments_lexer": "ipython3",
   "version": "3.9.18"
  }
 },
 "nbformat": 4,
 "nbformat_minor": 5
}
