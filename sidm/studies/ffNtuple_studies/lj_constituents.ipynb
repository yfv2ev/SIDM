{
 "cells": [
  {
   "cell_type": "markdown",
   "id": "e2be3852-436b-48d3-a75b-bbb3f93a9401",
   "metadata": {},
   "source": [
    "I'll use this notebook to study potential LJ constituents and look into whether I can unambiguously pick out the relevant particles with dR requirements. This study should be updated to instead use pfjet.pfcand and compare directly with ljsources."
   ]
  },
  {
   "cell_type": "code",
   "execution_count": 8,
   "id": "a4704a70-8917-469b-a02c-5ff2d0639417",
   "metadata": {
    "tags": []
   },
   "outputs": [
    {
     "name": "stdout",
     "output_type": "stream",
     "text": [
      "['/home/cms-jovyan/SIDM/sidm/studies/ffNtuple_studies', '/home/cms-jovyan/SIDM/sidm/studies/ffNtuple_studies/../..', '/home/cms-jovyan/SIDM/sidm/studies/ffNtuple_studies/../..', '/home/cms-jovyan/SIDM/sidm/studies/ffNtuple_studies/../..', '/home/cms-jovyan/SIDM/sidm/studies/ffNtuple_studies/../..', '/home/cms-jovyan/SIDM/sidm/studies/ffNtuple_studies/../..', '/home/cms-jovyan/SIDM/sidm/studies/ffNtuple_studies/../..', '/opt/conda/lib/python39.zip', '/opt/conda/lib/python3.9', '/opt/conda/lib/python3.9/lib-dynload', '', '/opt/conda/lib/python3.9/site-packages', '/home/cms-jovyan/SIDM/sidm/studies/ffNtuple_studies/signal_kinematics']\n",
      "/home/cms-jovyan/SIDM/sidm/studies/ffNtuple_studies\n"
     ]
    },
    {
     "ename": "ModuleNotFoundError",
     "evalue": "No module named 'sidm'",
     "output_type": "error",
     "traceback": [
      "\u001b[0;31m---------------------------------------------------------------------------\u001b[0m",
      "\u001b[0;31mModuleNotFoundError\u001b[0m                       Traceback (most recent call last)",
      "Cell \u001b[0;32mIn[8], line 14\u001b[0m\n\u001b[1;32m     12\u001b[0m sys\u001b[38;5;241m.\u001b[39mpath\u001b[38;5;241m.\u001b[39minsert(\u001b[38;5;241m1\u001b[39m, os\u001b[38;5;241m.\u001b[39mpath\u001b[38;5;241m.\u001b[39mjoin(sys\u001b[38;5;241m.\u001b[39mpath[\u001b[38;5;241m0\u001b[39m], \u001b[38;5;124m'\u001b[39m\u001b[38;5;124m/..\u001b[39m\u001b[38;5;124m'\u001b[39m)) \u001b[38;5;66;03m# fixme: there must be a better way to handle this...\u001b[39;00m\n\u001b[1;32m     13\u001b[0m \u001b[38;5;28mprint\u001b[39m(sys\u001b[38;5;241m.\u001b[39mpath[\u001b[38;5;241m0\u001b[39m])\n\u001b[0;32m---> 14\u001b[0m \u001b[38;5;28;01mfrom\u001b[39;00m \u001b[38;5;21;01msidm\u001b[39;00m\u001b[38;5;21;01m.\u001b[39;00m\u001b[38;5;21;01mtools\u001b[39;00m \u001b[38;5;28;01mimport\u001b[39;00m ffschema, sidm_processor, utilities\n\u001b[1;32m     15\u001b[0m \u001b[38;5;66;03m# always reload local modules to pick up changes during development\u001b[39;00m\n\u001b[1;32m     16\u001b[0m importlib\u001b[38;5;241m.\u001b[39mreload(ffschema)\n",
      "\u001b[0;31mModuleNotFoundError\u001b[0m: No module named 'sidm'"
     ]
    }
   ],
   "source": [
    "# python\n",
    "import sys\n",
    "import os\n",
    "import importlib\n",
    "# columnar analysis\n",
    "from coffea import processor\n",
    "import awkward as ak\n",
    "#from dask.distributed import Client\n",
    "# local\n",
    "print(sys.path)\n",
    "sys.path.append('/home/cms-jovyan/SIDM/sidm/studies/ffNtuple_studies/signal_kinematics')\n",
    "sys.path.insert(1, os.path.join(sys.path[0], '/..')) # fixme: there must be a better way to handle this...\n",
    "print(sys.path[0])\n",
    "from sidm.tools import ffschema, sidm_processor, utilities\n",
    "# always reload local modules to pick up changes during development\n",
    "importlib.reload(ffschema)\n",
    "importlib.reload(sidm_processor)\n",
    "importlib.reload(utilities)\n",
    "# plotting\n",
    "import matplotlib.pyplot as plt\n",
    "utilities.set_plot_style()"
   ]
  },
  {
   "cell_type": "markdown",
   "id": "eb2e7d7b-d3cf-49ff-8676-a73ed01a9dae",
   "metadata": {},
   "source": [
    "Start by looking at default 2mu2e sample with 2mu2e selection and matched dark photons."
   ]
  },
  {
   "cell_type": "code",
   "execution_count": null,
   "id": "8b73a1ba-c7cc-48dd-acc2-5f73a0e3b19d",
   "metadata": {},
   "outputs": [],
   "source": [
    "samples = [\n",
    "    \"2Mu2E_100GeV_1p2GeV_9p6mm\",\n",
    "]\n",
    "fileset = utilities.make_fileset(samples, \"ffntuple_v4\")"
   ]
  },
  {
   "cell_type": "code",
   "execution_count": null,
   "id": "98566459-ef05-47bc-a5cd-3b94c670c5ce",
   "metadata": {},
   "outputs": [],
   "source": [
    "runner = processor.Runner(\n",
    "    #executor=processor.IterativeExecutor(),\n",
    "    executor=processor.FuturesExecutor(),\n",
    "    schema=ffschema.FFSchema,\n",
    ")\n",
    "\n",
    "p = sidm_processor.SidmProcessor(\n",
    "    [\n",
    "        \"2mu2e_matchedLj\",\n",
    "    ],\n",
    "    [\"base_plus_gen\"]\n",
    ")\n",
    "\n",
    "output = runner.run(fileset, treename=\"ffNtuplizer/ffNtuple\", processor_instance=p)\n",
    "hists = output[\"out\"][\"2Mu2E_100GeV_1p2GeV_9p6mm\"][\"hists\"]"
   ]
  },
  {
   "cell_type": "markdown",
   "id": "08ede53c-08d7-4a4e-95d4-c92a6f0a7575",
   "metadata": {},
   "source": [
    "First add basic pf e, pf mu, pf photon, and dsa mu hists"
   ]
  },
  {
   "cell_type": "code",
   "execution_count": null,
   "id": "83a80738-22ca-4b91-9b44-446ef4e3ed84",
   "metadata": {
    "tags": []
   },
   "outputs": [],
   "source": [
    "utilities.plot(hists[\"electron_n\"][\"2mu2e_matchedLj\", :])"
   ]
  },
  {
   "cell_type": "code",
   "execution_count": null,
   "id": "6903a69f-9f95-455f-8ba1-a9bf56976d4c",
   "metadata": {
    "tags": []
   },
   "outputs": [],
   "source": [
    "utilities.plot(hists[\"electron_pt\"][\"2mu2e_matchedLj\", :])"
   ]
  },
  {
   "cell_type": "code",
   "execution_count": null,
   "id": "7c9fbce5-dbb7-46e4-81bb-29ec9ea21375",
   "metadata": {
    "tags": []
   },
   "outputs": [],
   "source": [
    "utilities.plot(hists[\"electron_eta_phi\"][\"2mu2e_matchedLj\", :, :])"
   ]
  },
  {
   "cell_type": "code",
   "execution_count": null,
   "id": "8b0f7c4b-8eeb-4637-9560-e9ff337506be",
   "metadata": {
    "tags": []
   },
   "outputs": [],
   "source": [
    "utilities.plot(hists[\"electron_lj_dR\"][\"2mu2e_matchedLj\", :])"
   ]
  },
  {
   "cell_type": "code",
   "execution_count": null,
   "id": "0f408ef2-e890-483a-9c90-03a740fb1db9",
   "metadata": {
    "tags": []
   },
   "outputs": [],
   "source": [
    "utilities.plot(hists[\"electron_lj_dR_lowRange\"][\"2mu2e_matchedLj\", :])"
   ]
  },
  {
   "cell_type": "code",
   "execution_count": null,
   "id": "cf337065-34df-449e-a2c9-b1f867dfbbbd",
   "metadata": {
    "tags": []
   },
   "outputs": [],
   "source": [
    "utilities.plot(hists[\"photon_n\"][\"2mu2e_matchedLj\", :])"
   ]
  },
  {
   "cell_type": "code",
   "execution_count": null,
   "id": "c4d5d3ad-2929-4078-8ec2-2eba4014a06b",
   "metadata": {
    "tags": []
   },
   "outputs": [],
   "source": [
    "utilities.plot(hists[\"photon_pt\"][\"2mu2e_matchedLj\", :])"
   ]
  },
  {
   "cell_type": "code",
   "execution_count": null,
   "id": "29837f5b-8089-43ca-a580-3cb14d94b2d6",
   "metadata": {
    "tags": []
   },
   "outputs": [],
   "source": [
    "utilities.plot(hists[\"photon_eta_phi\"][\"2mu2e_matchedLj\", :, :])"
   ]
  },
  {
   "cell_type": "code",
   "execution_count": null,
   "id": "f2ef0634-8b1c-43ae-ad06-0f6000c0316e",
   "metadata": {
    "tags": []
   },
   "outputs": [],
   "source": [
    "utilities.plot(hists[\"photon_lj_dR\"][\"2mu2e_matchedLj\", :])"
   ]
  },
  {
   "cell_type": "code",
   "execution_count": null,
   "id": "e825c0b8-ca10-4eea-999e-2bb1e3fe28f7",
   "metadata": {
    "tags": []
   },
   "outputs": [],
   "source": [
    "utilities.plot(hists[\"photon_lj_dR_lowRange\"][\"2mu2e_matchedLj\", :])"
   ]
  },
  {
   "cell_type": "code",
   "execution_count": null,
   "id": "8caa6c64-6f37-4c16-8bd7-a9a54c1c93a4",
   "metadata": {
    "tags": []
   },
   "outputs": [],
   "source": [
    "utilities.plot(hists[\"photon_lj_dR_reallyLowRange\"][\"2mu2e_matchedLj\", :])"
   ]
  },
  {
   "cell_type": "code",
   "execution_count": null,
   "id": "f4601e8b-f77e-4e0b-b8ef-c33f64746fce",
   "metadata": {},
   "outputs": [],
   "source": [
    "utilities.plot(hists[\"muon_n\"][\"2mu2e_matchedLj\", :])"
   ]
  },
  {
   "cell_type": "code",
   "execution_count": null,
   "id": "0b995992-d66f-4092-a061-359fa7b4d4c2",
   "metadata": {},
   "outputs": [],
   "source": [
    "utilities.plot(hists[\"muon_pt\"][\"2mu2e_matchedLj\", :])"
   ]
  },
  {
   "cell_type": "code",
   "execution_count": null,
   "id": "1395e9ef-3be8-4239-be55-924946f69d5a",
   "metadata": {},
   "outputs": [],
   "source": [
    "utilities.plot(hists[\"muon_eta_phi\"][\"2mu2e_matchedLj\", :, :])"
   ]
  },
  {
   "cell_type": "code",
   "execution_count": null,
   "id": "d91a302f-843a-4e43-a283-c18f07ae6580",
   "metadata": {},
   "outputs": [],
   "source": [
    "utilities.plot(hists[\"muon_lj_dR\"][\"2mu2e_matchedLj\", :])"
   ]
  },
  {
   "cell_type": "code",
   "execution_count": null,
   "id": "2a9fcc2c-4a06-4ceb-843a-0c5188524f48",
   "metadata": {},
   "outputs": [],
   "source": [
    "utilities.plot(hists[\"muon_lj_dR_lowRange\"][\"2mu2e_matchedLj\", :])"
   ]
  },
  {
   "cell_type": "code",
   "execution_count": null,
   "id": "172d8dd3-2f04-48fe-acaf-7cc55da8b411",
   "metadata": {},
   "outputs": [],
   "source": [
    "utilities.plot(hists[\"dsaMuon_n\"][\"2mu2e_matchedLj\", :])"
   ]
  },
  {
   "cell_type": "code",
   "execution_count": null,
   "id": "6587de60-67c1-4039-acd8-b3b5ace30c46",
   "metadata": {},
   "outputs": [],
   "source": [
    "utilities.plot(hists[\"dsaMuon_pt\"][\"2mu2e_matchedLj\", :])"
   ]
  },
  {
   "cell_type": "code",
   "execution_count": null,
   "id": "17b13fd2-0dac-4d9e-a4e0-2b25a976d92f",
   "metadata": {},
   "outputs": [],
   "source": [
    "utilities.plot(hists[\"dsaMuon_eta_phi\"][\"2mu2e_matchedLj\", :, :])"
   ]
  },
  {
   "cell_type": "code",
   "execution_count": null,
   "id": "af297cd4-ae68-4beb-8944-547d171f257c",
   "metadata": {},
   "outputs": [],
   "source": [
    "utilities.plot(hists[\"dsaMuon_lj_dR\"][\"2mu2e_matchedLj\", :])"
   ]
  },
  {
   "cell_type": "code",
   "execution_count": null,
   "id": "b70b4d8e-1a58-442e-8acb-0d0f37e66f81",
   "metadata": {},
   "outputs": [],
   "source": [
    "utilities.plot(hists[\"dsaMuon_lj_dR_lowRange\"][\"2mu2e_matchedLj\", :])"
   ]
  },
  {
   "cell_type": "markdown",
   "id": "68378511-562d-4b08-a58f-6c3574c70fba",
   "metadata": {},
   "source": [
    "The photon hists in particular are interesting in that photon pT tends to ~= dark photon pT and dR(photon, LJ) tends to be exactly 0. I guess it makes sense that the majority of LJs whose constituents include photons are just a single reco photon from the dark photon decaying to two nearby electrons in ECAL. We've seen in the lj_resolution notebook that photon LJs appear to have much better pT resolution -- perhaps this is the cause."
   ]
  },
  {
   "cell_type": "markdown",
   "id": "08115b82-17e0-4d9f-bd21-766b10786afb",
   "metadata": {},
   "source": [
    "Next, I would be interested in looking at the following:\n",
    "- these same distributions after filtering the collections with pT, id, eta, and dR(LJ) criteria to only include potential LJ constituents\n",
    "- which particles LJs tend to be composed of (is it more or less always 2 mu, 2 e, or 1 photon, or are more complicated combinations possible/frequent?)\n",
    "- can I successfully match the reco e, mu, and photons with the gen dark photon daughters?\n",
    "- do LJs sometimes miss some of the gen dark photon daughters?"
   ]
  },
  {
   "cell_type": "code",
   "execution_count": null,
   "id": "4f172e1e-dbfb-4b9e-b84f-1552032d30cd",
   "metadata": {},
   "outputs": [],
   "source": []
  }
 ],
 "metadata": {
  "kernelspec": {
   "display_name": "Python 3 (ipykernel)",
   "language": "python",
   "name": "python3"
  },
  "language_info": {
   "codemirror_mode": {
    "name": "ipython",
    "version": 3
   },
   "file_extension": ".py",
   "mimetype": "text/x-python",
   "name": "python",
   "nbconvert_exporter": "python",
   "pygments_lexer": "ipython3",
   "version": "3.9.18"
  }
 },
 "nbformat": 4,
 "nbformat_minor": 5
}
