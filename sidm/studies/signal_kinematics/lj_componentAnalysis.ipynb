{
 "cells": [
  {
   "cell_type": "code",
   "execution_count": 1,
   "id": "2ced3c73-21b5-4174-b16e-b9cb6c5242d7",
   "metadata": {
    "tags": []
   },
   "outputs": [
    {
     "data": {
      "text/plain": [
       "['/home/cms-jovyan/SIDM/sidm/studies',\n",
       " '/home/cms-jovyan/SIDM/sidm/studies/../..',\n",
       " '/opt/conda/lib/python39.zip',\n",
       " '/opt/conda/lib/python3.9',\n",
       " '/opt/conda/lib/python3.9/lib-dynload',\n",
       " '',\n",
       " '/opt/conda/lib/python3.9/site-packages']"
      ]
     },
     "execution_count": 1,
     "metadata": {},
     "output_type": "execute_result"
    }
   ],
   "source": [
    "import sys, os\n",
    "sys.path.insert(1, os.path.join(sys.path[0], '../..')) # fixme: there must be a better way to handle this...\n",
    "sys.path"
   ]
  },
  {
   "cell_type": "code",
   "execution_count": 2,
   "id": "3ca62f73-9475-4c69-98d8-da2201d5ae46",
   "metadata": {},
   "outputs": [],
   "source": [
    "# python\n",
    "import sys\n",
    "import statistics\n",
    "import os\n",
    "import importlib\n",
    "# columnar analysis\n",
    "import awkward as ak\n",
    "from dask.distributed import Client\n",
    "from coffea.nanoevents import NanoEventsFactory, NanoAODSchema\n",
    "from coffea import processor\n",
    "import hist\n",
    "import matplotlib\n",
    "import matplotlib.patches as patches\n",
    "import numpy\n",
    "# local\n",
    "sys.path.insert(1, os.path.join(sys.path[0], '../..')) # fixme: there must be a better way to handle this...\n",
    "from sidm.tools import sidm_processor, utilities, cutflow, scaleout\n",
    "# always reload local modules to pick up changes during development\n",
    "importlib.reload(sidm_processor)\n",
    "importlib.reload(utilities)\n",
    "importlib.reload(scaleout)\n",
    "# plotting\n",
    "import matplotlib.pyplot as plt\n",
    "#utilities.set_plot_style()\n",
    "%matplotlib inline"
   ]
  },
  {
   "cell_type": "code",
   "execution_count": 3,
   "id": "b7954eaf-2de3-4598-b912-a4d6a151b3f4",
   "metadata": {},
   "outputs": [
    {
     "name": "stderr",
     "output_type": "stream",
     "text": [
      "/home/cms-jovyan/SIDM/sidm/studies/../../sidm/tools/scaleout.py:12: UserWarning: Registering a `SchedulerPlugin` as a worker plugin is not allowed, registering as a scheduler plugin instead. To register as a worker plugin, inherit from `WorkerPlugin`.\n",
      "  client.register_worker_plugin(PipInstall(packages=dependencies, pip_options=[\"--upgrade\"]))\n"
     ]
    },
    {
     "data": {
      "text/html": [
       "<div>\n",
       "    <div style=\"width: 24px; height: 24px; background-color: #e1e1e1; border: 3px solid #9D9D9D; border-radius: 5px; position: absolute;\"> </div>\n",
       "    <div style=\"margin-left: 48px;\">\n",
       "        <h3 style=\"margin-bottom: 0px;\">Client</h3>\n",
       "        <p style=\"color: #9D9D9D; margin-bottom: 0px;\">Client-d98abf14-778b-11ef-98c3-8eefed2e2fae</p>\n",
       "        <table style=\"width: 100%; text-align: left;\">\n",
       "\n",
       "        <tr>\n",
       "        \n",
       "            <td style=\"text-align: left;\"><strong>Connection method:</strong> Direct</td>\n",
       "            <td style=\"text-align: left;\"></td>\n",
       "        \n",
       "        </tr>\n",
       "\n",
       "        \n",
       "            <tr>\n",
       "                <td style=\"text-align: left;\">\n",
       "                    <strong>Dashboard: </strong> <a href=\"/user/yfv2ev@virginia.edu/proxy/8787/status\" target=\"_blank\">/user/yfv2ev@virginia.edu/proxy/8787/status</a>\n",
       "                </td>\n",
       "                <td style=\"text-align: left;\"></td>\n",
       "            </tr>\n",
       "        \n",
       "\n",
       "        </table>\n",
       "\n",
       "        \n",
       "            <button style=\"margin-bottom: 12px;\" data-commandlinker-command=\"dask:populate-and-launch-layout\" data-commandlinker-args='{\"url\": \"/user/yfv2ev@virginia.edu/proxy/8787/status\" }'>\n",
       "                Launch dashboard in JupyterLab\n",
       "            </button>\n",
       "        \n",
       "\n",
       "        \n",
       "            <details>\n",
       "            <summary style=\"margin-bottom: 20px;\"><h3 style=\"display: inline;\">Scheduler Info</h3></summary>\n",
       "            <div style=\"\">\n",
       "    <div>\n",
       "        <div style=\"width: 24px; height: 24px; background-color: #FFF7E5; border: 3px solid #FF6132; border-radius: 5px; position: absolute;\"> </div>\n",
       "        <div style=\"margin-left: 48px;\">\n",
       "            <h3 style=\"margin-bottom: 0px;\">Scheduler</h3>\n",
       "            <p style=\"color: #9D9D9D; margin-bottom: 0px;\">Scheduler-9a6aa4b9-b357-414f-bb10-f1dd478ce004</p>\n",
       "            <table style=\"width: 100%; text-align: left;\">\n",
       "                <tr>\n",
       "                    <td style=\"text-align: left;\">\n",
       "                        <strong>Comm:</strong> tls://192.168.235.59:8786\n",
       "                    </td>\n",
       "                    <td style=\"text-align: left;\">\n",
       "                        <strong>Workers:</strong> 0\n",
       "                    </td>\n",
       "                </tr>\n",
       "                <tr>\n",
       "                    <td style=\"text-align: left;\">\n",
       "                        <strong>Dashboard:</strong> <a href=\"/user/yfv2ev@virginia.edu/proxy/8787/status\" target=\"_blank\">/user/yfv2ev@virginia.edu/proxy/8787/status</a>\n",
       "                    </td>\n",
       "                    <td style=\"text-align: left;\">\n",
       "                        <strong>Total threads:</strong> 0\n",
       "                    </td>\n",
       "                </tr>\n",
       "                <tr>\n",
       "                    <td style=\"text-align: left;\">\n",
       "                        <strong>Started:</strong> 3 hours ago\n",
       "                    </td>\n",
       "                    <td style=\"text-align: left;\">\n",
       "                        <strong>Total memory:</strong> 0 B\n",
       "                    </td>\n",
       "                </tr>\n",
       "            </table>\n",
       "        </div>\n",
       "    </div>\n",
       "\n",
       "    <details style=\"margin-left: 48px;\">\n",
       "        <summary style=\"margin-bottom: 20px;\">\n",
       "            <h3 style=\"display: inline;\">Workers</h3>\n",
       "        </summary>\n",
       "\n",
       "        \n",
       "\n",
       "    </details>\n",
       "</div>\n",
       "            </details>\n",
       "        \n",
       "\n",
       "    </div>\n",
       "</div>"
      ],
      "text/plain": [
       "<Client: 'tls://192.168.235.59:8786' processes=0 threads=0, memory=0 B>"
      ]
     },
     "execution_count": 3,
     "metadata": {},
     "output_type": "execute_result"
    }
   ],
   "source": [
    "client = scaleout.make_dask_client(\"tls://localhost:8786\")\n",
    "client"
   ]
  },
  {
   "cell_type": "code",
   "execution_count": 4,
   "id": "701c74e3-9761-4ed2-b776-ab8c10fcfc70",
   "metadata": {
    "tags": []
   },
   "outputs": [],
   "source": [
    "samples = []\n",
    "bg_samples = [\n",
    "    \"TTJets\",\n",
    "]\n",
    "\n",
    "#######################################################\n",
    "SIDM_4mu_100GeV_0p25GeV_samples = [\n",
    "    \"4mu_100GeV_0p25GeV_0p02mm\",\n",
    "    \"4mu_100GeV_0p25GeV_0p2mm\",\n",
    "    \"4mu_100GeV_0p25GeV_2p0mm\",\n",
    "    \"4mu_100GeV_0p25GeV_10p0mm\",\n",
    "    \"4mu_100GeV_0p25GeV_20p0mm\",\n",
    "]\n",
    "SIDM_4mu_100GeV_1p2GeV_samples = [\n",
    "    \"4mu_100GeV_1p2GeV_0p096mm\",\n",
    "    \"4mu_100GeV_1p2GeV_0p96mm\",\n",
    "    \"4mu_100GeV_1p2GeV_9p6mm\",\n",
    "    \"4mu_100GeV_1p2GeV_48p0mm\",\n",
    "    \"4mu_100GeV_1p2GeV_96p0mm\",\n",
    "]\n",
    "SIDM_4mu_100GeV_5p0GeV_samples = [\n",
    "    \"4mu_100GeV_5p0GeV_0p4mm\",\n",
    "    \"4mu_100GeV_5p0GeV_4p0mm\",\n",
    "    \"4mu_100GeV_5p0GeV_40p0mm\", \n",
    "    \"4mu_100GeV_5p0GeV_200p0mm\",\n",
    "    \"4mu_100GeV_5p0GeV_400p0mm\",\n",
    "]\n",
    "#######################################################\n",
    "SIDM_4mu_150GeV_0p25GeV_samples = [\n",
    "    \"4mu_150GeV_0p25GeV_0p013mm\",\n",
    "    \"4mu_150GeV_0p25GeV_0p13mm\",\n",
    "    \"4mu_150GeV_0p25GeV_1p3mm\",\n",
    "    \"4mu_150GeV_0p25GeV_6p7mm\",\n",
    "    \"4mu_150GeV_0p25GeV_13p0mm\",\n",
    "]\n",
    "SIDM_4mu_150GeV_1p2GeV_samples = [\n",
    "    \"4mu_150GeV_1p2GeV_0p064mm\",\n",
    "    \"4mu_150GeV_1p2GeV_0p64mm\",\n",
    "    \"4mu_150GeV_1p2GeV_6p4mm\",\n",
    "    \"4mu_150GeV_1p2GeV_32p0mm\",\n",
    "    \"4mu_150GeV_1p2GeV_64p0mm\",\n",
    "]\n",
    "SIDM_4mu_150GeV_5p0GeV_samples = [\n",
    "    \"4mu_150GeV_5p0GeV_0p27mm\",\n",
    "    \"4mu_150GeV_5p0GeV_2p7mm\",\n",
    "    \"4mu_150GeV_5p0GeV_27p0mm\",\n",
    "    \"4mu_150GeV_5p0GeV_130p0mm\",\n",
    "    \"4mu_150GeV_5p0GeV_270p0mm\",\n",
    "]\n",
    "#######################################################\n",
    "SIDM_4mu_200GeV_0p25GeV_samples = [\n",
    "    \"4mu_200GeV_0p25GeV_0p01mm\",\n",
    "    \"4mu_200GeV_0p25GeV_0p1mm\",\n",
    "    \"4mu_200GeV_0p25GeV_1p0mm\",\n",
    "    \"4mu_200GeV_0p25GeV_5p0mm\",\n",
    "    \"4mu_200GeV_0p25GeV_10p0mm\",\n",
    "]\n",
    "SIDM_4mu_200GeV_1p2GeV_samples = [\n",
    "    \"4mu_200GeV_1p2GeV_0p048mm\",\n",
    "    \"4mu_200GeV_1p2GeV_0p48mm\",\n",
    "    \"4mu_200GeV_1p2GeV_4p8mm\",\n",
    "    \"4mu_200GeV_1p2GeV_24p0mm\",\n",
    "    \"4mu_200GeV_1p2GeV_48p0mm\",\n",
    "]\n",
    "SIDM_4mu_200GeV_5p0GeV_samples = [\n",
    "    \"4mu_200GeV_5p0GeV_0p2mm\",\n",
    "    \"4mu_200GeV_5p0GeV_2p0mm\",\n",
    "    \"4mu_200GeV_5p0GeV_20p0mm\",\n",
    "    \"4mu_200GeV_5p0GeV_100p0mm\",\n",
    "    \"4mu_200GeV_5p0GeV_200p0mm\",\n",
    "]\n",
    "#######################################################\n",
    "SIDM_4mu_500GeV_0p25GeV_samples = [\n",
    "    \"4mu_500GeV_0p25GeV_0p004mm\",\n",
    "    \"4mu_500GeV_0p25GeV_0p04mm\",\n",
    "    \"4mu_500GeV_0p25GeV_0p4mm\",\n",
    "    \"4mu_500GeV_0p25GeV_2p0mm\",\n",
    "    \"4mu_500GeV_0p25GeV_4p0mm\",\n",
    "]\n",
    "SIDM_4mu_500GeV_1p2GeV_samples = [\n",
    "    \"4mu_500GeV_1p2GeV_0p019mm\",\n",
    "    \"4mu_500GeV_1p2GeV_0p19mm\",\n",
    "    \"4mu_500GeV_1p2GeV_1p9mm\",\n",
    "    \"4mu_500GeV_1p2GeV_9p6mm\",\n",
    "    \"4mu_500GeV_1p2GeV_19p0mm\",\n",
    "]\n",
    "SIDM_4mu_500GeV_5p0GeV_samples = [\n",
    "    \"4mu_500GeV_5p0GeV_0p08mm\",\n",
    "    \"4mu_500GeV_5p0GeV_0p8mm\",\n",
    "    \"4mu_500GeV_5p0GeV_8p0mm\",\n",
    "    \"4mu_500GeV_5p0GeV_40p0mm\",\n",
    "    \"4mu_500GeV_5p0GeV_80p0mm\",\n",
    "    \n",
    "    #\"4mu_500GeV_5p0GeV_800p0mm\",\n",
    "    #\"4mu_500GeV_5p0GeV_8000p0mm\", these are also here as long Lxy tests\n",
    "]\n",
    "#######################################################\n",
    "SIDM_4mu_800GeV_0p25GeV_samples = [\n",
    "    \"4mu_800GeV_0p25GeV_0p0025mm\",\n",
    "    \"4mu_800GeV_0p25GeV_0p025mm\",\n",
    "    \"4mu_800GeV_0p25GeV_0p25mm\",\n",
    "    \"4mu_800GeV_0p25GeV_1p2mm\",\n",
    "    \"4mu_800GeV_0p25GeV_2p5mm\",\n",
    "]\n",
    "SIDM_4mu_800GeV_1p2GeV_samples = [\n",
    "    \"4mu_800GeV_1p2GeV_0p012mm\",\n",
    "    \"4mu_800GeV_1p2GeV_0p12mm\",\n",
    "    \"4mu_800GeV_1p2GeV_1p2mm\",\n",
    "    \"4mu_800GeV_1p2GeV_6p0mm\",\n",
    "    \"4mu_800GeV_1p2GeV_12p0mm\",\n",
    "]\n",
    "SIDM_4mu_800GeV_5p0GeV_samples = [\n",
    "    \"4mu_800GeV_5p0GeV_0p05mm\",\n",
    "    \"4mu_800GeV_5p0GeV_0p5mm\",\n",
    "    \"4mu_800GeV_5p0GeV_5p0mm\",\n",
    "    \"4mu_800GeV_5p0GeV_25p0mm\",\n",
    "    \"4mu_800GeV_5p0GeV_50p0mm\",\n",
    "]\n",
    "#######################################################\n",
    "SIDM_4mu_1000GeV_0p25GeV_samples = [ # getting keyErrors on all of these; I think they might be empty\n",
    "    \"4mu_1000GeV_0p25GeV_0p002mm\", # Running gives \"cannot unpack non-iterable NoneType object\"\n",
    "    \"4mu_1000GeV_0p25GeV_0p02mm\",\n",
    "    \"4mu_1000GeV_0p25GeV_0p2mm\",\n",
    "    \"4mu_1000GeV_0p25GeV_1p0mm\",\n",
    "    \"4mu_1000GeV_0p25GeV_2p0mm\",\n",
    "]\n",
    "SIDM_4mu_1000GeV_1p2GeV_samples = [ # these also give keyErrors\n",
    "    \"4mu_1000GeV_1p2GeV_0p0096mm\",\n",
    "    \"4mu_1000GeV_1p2GeV_0p096mm\",\n",
    "    \"4mu_1000GeV_1p2GeV_0p96mm\",\n",
    "    \"4mu_1000GeV_1p2GeV_4p8mm\",\n",
    "    \"4mu_1000GeV_1p2GeV_9p6mm\",\n",
    "]\n",
    "SIDM_4mu_1000GeV_5p0GeV_samples = [\n",
    "    \"4mu_1000GeV_5p0GeV_0p04mm\",\n",
    "    \"4mu_1000GeV_5p0GeV_0p4mm\",\n",
    "    \"4mu_1000GeV_5p0GeV_4p0mm\",\n",
    "    \"4mu_1000GeV_5p0GeV_20p0mm\",\n",
    "    \"4mu_1000GeV_5p0GeV_40p0mm\",\n",
    "]\n",
    "#######################################################\n",
    "\n",
    "\n",
    "SIDM_4mu_100GeV_samples = []\n",
    "SIDM_4mu_100GeV_samples = SIDM_4mu_100GeV_samples + SIDM_4mu_100GeV_0p25GeV_samples + SIDM_4mu_100GeV_1p2GeV_samples + SIDM_4mu_100GeV_5p0GeV_samples\n",
    "\n",
    "SIDM_4mu_150GeV_samples = []\n",
    "SIDM_4mu_150GeV_samples = SIDM_4mu_150GeV_samples + SIDM_4mu_150GeV_0p25GeV_samples + SIDM_4mu_150GeV_1p2GeV_samples + SIDM_4mu_150GeV_5p0GeV_samples\n",
    "\n",
    "SIDM_4mu_200GeV_samples = []\n",
    "SIDM_4mu_200GeV_samples = SIDM_4mu_200GeV_samples + SIDM_4mu_200GeV_0p25GeV_samples + SIDM_4mu_200GeV_1p2GeV_samples + SIDM_4mu_200GeV_5p0GeV_samples\n",
    "\n",
    "SIDM_4mu_500GeV_samples = []\n",
    "SIDM_4mu_500GeV_samples = SIDM_4mu_500GeV_samples + SIDM_4mu_500GeV_0p25GeV_samples + SIDM_4mu_500GeV_1p2GeV_samples + SIDM_4mu_500GeV_5p0GeV_samples\n",
    "\n",
    "SIDM_4mu_800GeV_samples = []\n",
    "SIDM_4mu_800GeV_samples = SIDM_4mu_800GeV_samples + SIDM_4mu_800GeV_0p25GeV_samples + SIDM_4mu_800GeV_1p2GeV_samples + SIDM_4mu_800GeV_5p0GeV_samples\n",
    "\n",
    "SIDM_4mu_1000GeV_samples = []\n",
    "SIDM_4mu_1000GeV_samples = SIDM_4mu_1000GeV_samples + SIDM_4mu_1000GeV_0p25GeV_samples + SIDM_4mu_1000GeV_1p2GeV_samples + SIDM_4mu_1000GeV_5p0GeV_samples\n",
    "\n",
    "samples_sublists = [\n",
    "    SIDM_4mu_100GeV_0p25GeV_samples, SIDM_4mu_100GeV_1p2GeV_samples, SIDM_4mu_100GeV_5p0GeV_samples, \n",
    "    SIDM_4mu_150GeV_0p25GeV_samples, SIDM_4mu_150GeV_1p2GeV_samples, SIDM_4mu_150GeV_5p0GeV_samples,\n",
    "    SIDM_4mu_200GeV_0p25GeV_samples, SIDM_4mu_200GeV_1p2GeV_samples, SIDM_4mu_200GeV_5p0GeV_samples, \n",
    "    SIDM_4mu_500GeV_0p25GeV_samples, SIDM_4mu_500GeV_1p2GeV_samples, SIDM_4mu_500GeV_5p0GeV_samples,\n",
    "    SIDM_4mu_800GeV_0p25GeV_samples, SIDM_4mu_800GeV_1p2GeV_samples, SIDM_4mu_800GeV_5p0GeV_samples,\n",
    "    #SIDM_4mu_1000GeV_0p25GeV_samples, \n",
    "    SIDM_4mu_1000GeV_1p2GeV_samples, # These two groups don't work at all\n",
    "    SIDM_4mu_1000GeV_5p0GeV_samples,\n",
    "    ]"
   ]
  },
  {
   "cell_type": "code",
   "execution_count": 5,
   "id": "147b9d03-5f94-4d65-955e-cf943de9cbd7",
   "metadata": {},
   "outputs": [
    {
     "name": "stdout",
     "output_type": "stream",
     "text": [
      "['TTJets', '4mu_100GeV_0p25GeV_0p02mm', '4mu_200GeV_0p25GeV_0p01mm', '4mu_500GeV_0p25GeV_0p004mm', '4mu_800GeV_0p25GeV_0p0025mm']\n"
     ]
    }
   ],
   "source": [
    "samples = []\n",
    "samples = samples + bg_samples\n",
    "#for sublist in samples_sublists:\n",
    "#    print(sublist[0])\n",
    "#    samples = samples + [sublist[0]]\n",
    "samples = samples + [SIDM_4mu_100GeV_samples[0]] + [SIDM_4mu_200GeV_samples[0]] + [SIDM_4mu_500GeV_samples[0]] + [SIDM_4mu_800GeV_samples[0]]\n",
    "print(samples)"
   ]
  },
  {
   "cell_type": "code",
   "execution_count": 6,
   "id": "265dfb24-6a95-4ca0-855c-2975a8f0f871",
   "metadata": {},
   "outputs": [],
   "source": [
    "fileset = utilities.make_fileset(samples, \"llpNanoAOD_v2\")"
   ]
  },
  {
   "cell_type": "code",
   "execution_count": 7,
   "id": "664f4162-318b-4301-9513-917729415eab",
   "metadata": {
    "scrolled": true,
    "tags": []
   },
   "outputs": [
    {
     "name": "stderr",
     "output_type": "stream",
     "text": [
      "/opt/conda/lib/python3.9/site-packages/dask/dataframe/_pyarrow_compat.py:17: FutureWarning: Minimal version of pyarrow will soon be increased to 14.0.1. You are using 12.0.0. Please consider upgrading.\n",
      "  warnings.warn(\n"
     ]
    },
    {
     "name": "stdout",
     "output_type": "stream",
     "text": [
      "[                                        ] | 0% Completed | 24.1sin 10.0s\u001b[2K\u001b[2K\r"
     ]
    },
    {
     "ename": "Exception",
     "evalue": "Failed processing file: WorkItem(dataset='4mu_500GeV_0p25GeV_0p004mm', filename='root://xcache//store/group/lpcmetx/SIDM/ULSignalSamples/2018_v6/LLPNanoAOD_V2/SIDM_BsTo2DpTo4Mu_MBs-500_MDp-0p25_ctau-0p004/LLPnanoAODv2/SIDM_BsTo2DpTo4Mu_MBs-500_MDp-0p25_ctau-0p004_part-8.root', treename='Events', entrystart=0, entrystop=1140, fileuuid=b'\\x01\\xf4\\x16\\xc0#t\\x11\\xef\\xaf\\x04\\x97\\x15\\xe6\\x9b\\xbe\\xef', usermeta={})",
     "output_type": "error",
     "traceback": [
      "\u001b[0;31m---------------------------------------------------------------------------\u001b[0m",
      "\u001b[0;31mKeyError\u001b[0m                                  Traceback (most recent call last)",
      "File \u001b[0;32m/opt/conda/lib/python3.9/site-packages/coffea/processor/executor.py:1654\u001b[0m, in \u001b[0;36m_work_function\u001b[0;34m()\u001b[0m\n\u001b[1;32m   1653\u001b[0m \u001b[38;5;28;01mtry\u001b[39;00m:\n\u001b[0;32m-> 1654\u001b[0m     out \u001b[38;5;241m=\u001b[39m processor_instance\u001b[38;5;241m.\u001b[39mprocess(events)\n\u001b[1;32m   1655\u001b[0m \u001b[38;5;28;01mexcept\u001b[39;00m \u001b[38;5;167;01mException\u001b[39;00m \u001b[38;5;28;01mas\u001b[39;00m e:\n",
      "File \u001b[0;32m/opt/conda/lib/python3.9/site-packages/sidm/tools/sidm_processor.py:86\u001b[0m, in \u001b[0;36mprocess\u001b[0;34m()\u001b[0m\n\u001b[1;32m     85\u001b[0m \u001b[38;5;66;03m# reconstruct lepton jets\u001b[39;00m\n\u001b[0;32m---> 86\u001b[0m sel_objs[\u001b[38;5;124m\"\u001b[39m\u001b[38;5;124mljs\u001b[39m\u001b[38;5;124m\"\u001b[39m] \u001b[38;5;241m=\u001b[39m \u001b[38;5;28mself\u001b[39m\u001b[38;5;241m.\u001b[39mbuild_lepton_jets(channel_objs, \u001b[38;5;28mfloat\u001b[39m(lj_reco))\n\u001b[1;32m     88\u001b[0m \u001b[38;5;66;03m# apply lj selection\u001b[39;00m\n",
      "File \u001b[0;32m/opt/conda/lib/python3.9/site-packages/sidm/tools/sidm_processor.py:168\u001b[0m, in \u001b[0;36mbuild_lepton_jets\u001b[0;34m()\u001b[0m\n\u001b[1;32m    163\u001b[0m \u001b[38;5;28;01melse\u001b[39;00m: \u001b[38;5;66;03m#Use electron/muon/photon/dsamuon collections with a custom distance parameter\u001b[39;00m\n\u001b[1;32m    165\u001b[0m     muon_inputs \u001b[38;5;241m=\u001b[39m vector\u001b[38;5;241m.\u001b[39mzip(\n\u001b[1;32m    166\u001b[0m         {\n\u001b[1;32m    167\u001b[0m             \u001b[38;5;124m\"\u001b[39m\u001b[38;5;124mpart_type\u001b[39m\u001b[38;5;124m\"\u001b[39m: \u001b[38;5;241m3\u001b[39m,\n\u001b[0;32m--> 168\u001b[0m             \u001b[38;5;124m\"\u001b[39m\u001b[38;5;124mcharge\u001b[39m\u001b[38;5;124m\"\u001b[39m: objs[\u001b[38;5;124m\"\u001b[39m\u001b[38;5;124mmuons\u001b[39m\u001b[38;5;124m\"\u001b[39m]\u001b[38;5;241m.\u001b[39mcharge,\n\u001b[1;32m    169\u001b[0m             \u001b[38;5;124m\"\u001b[39m\u001b[38;5;124mpx\u001b[39m\u001b[38;5;124m\"\u001b[39m: objs[\u001b[38;5;124m\"\u001b[39m\u001b[38;5;124mmuons\u001b[39m\u001b[38;5;124m\"\u001b[39m]\u001b[38;5;241m.\u001b[39mpx,\n\u001b[1;32m    170\u001b[0m             \u001b[38;5;124m\"\u001b[39m\u001b[38;5;124mpy\u001b[39m\u001b[38;5;124m\"\u001b[39m: objs[\u001b[38;5;124m\"\u001b[39m\u001b[38;5;124mmuons\u001b[39m\u001b[38;5;124m\"\u001b[39m]\u001b[38;5;241m.\u001b[39mpy,\n\u001b[1;32m    171\u001b[0m             \u001b[38;5;124m\"\u001b[39m\u001b[38;5;124mpz\u001b[39m\u001b[38;5;124m\"\u001b[39m: objs[\u001b[38;5;124m\"\u001b[39m\u001b[38;5;124mmuons\u001b[39m\u001b[38;5;124m\"\u001b[39m]\u001b[38;5;241m.\u001b[39mpz,\n\u001b[1;32m    172\u001b[0m             \u001b[38;5;124m\"\u001b[39m\u001b[38;5;124mE\u001b[39m\u001b[38;5;124m\"\u001b[39m:  objs[\u001b[38;5;124m\"\u001b[39m\u001b[38;5;124mmuons\u001b[39m\u001b[38;5;124m\"\u001b[39m]\u001b[38;5;241m.\u001b[39menergy,\n\u001b[1;32m    173\u001b[0m         },\n\u001b[1;32m    174\u001b[0m     )\n\u001b[1;32m    176\u001b[0m     dsamuon_inputs \u001b[38;5;241m=\u001b[39m vector\u001b[38;5;241m.\u001b[39mzip(\n\u001b[1;32m    177\u001b[0m         {\n\u001b[1;32m    178\u001b[0m             \u001b[38;5;124m\"\u001b[39m\u001b[38;5;124mpart_type\u001b[39m\u001b[38;5;124m\"\u001b[39m: \u001b[38;5;241m8\u001b[39m,\n\u001b[0;32m   (...)\u001b[0m\n\u001b[1;32m    184\u001b[0m         },\n\u001b[1;32m    185\u001b[0m     )\n",
      "\u001b[0;31mKeyError\u001b[0m: 'muons'",
      "\nThe above exception was the direct cause of the following exception:\n",
      "\u001b[0;31mException\u001b[0m                                 Traceback (most recent call last)",
      "Cell \u001b[0;32mIn[7], line 25\u001b[0m\n\u001b[1;32m     11\u001b[0m collection \u001b[38;5;241m=\u001b[39m utilities\u001b[38;5;241m.\u001b[39mflatten(hist_menu[hist_choice]) \u001b[38;5;66;03m#To change the histograms used, swap \"base\" for the other collections\u001b[39;00m\n\u001b[1;32m     12\u001b[0m p \u001b[38;5;241m=\u001b[39m sidm_processor\u001b[38;5;241m.\u001b[39mSidmProcessor(\n\u001b[1;32m     13\u001b[0m     [\n\u001b[1;32m     14\u001b[0m         \u001b[38;5;124m\"\u001b[39m\u001b[38;5;124mbase\u001b[39m\u001b[38;5;124m\"\u001b[39m,\n\u001b[0;32m   (...)\u001b[0m\n\u001b[1;32m     23\u001b[0m     \u001b[38;5;66;03m#llpnanoaod=True,\u001b[39;00m\n\u001b[1;32m     24\u001b[0m )\n\u001b[0;32m---> 25\u001b[0m output \u001b[38;5;241m=\u001b[39m \u001b[43mrunner\u001b[49m\u001b[38;5;241;43m.\u001b[39;49m\u001b[43mrun\u001b[49m\u001b[43m(\u001b[49m\u001b[43mfileset\u001b[49m\u001b[43m,\u001b[49m\u001b[43m \u001b[49m\u001b[43mtreename\u001b[49m\u001b[38;5;241;43m=\u001b[39;49m\u001b[38;5;124;43m'\u001b[39;49m\u001b[38;5;124;43mEvents\u001b[39;49m\u001b[38;5;124;43m'\u001b[39;49m\u001b[43m,\u001b[49m\u001b[43m \u001b[49m\u001b[43mprocessor_instance\u001b[49m\u001b[38;5;241;43m=\u001b[39;49m\u001b[43mp\u001b[49m\u001b[43m)\u001b[49m\n\u001b[1;32m     26\u001b[0m out \u001b[38;5;241m=\u001b[39m output[\u001b[38;5;124m\"\u001b[39m\u001b[38;5;124mout\u001b[39m\u001b[38;5;124m\"\u001b[39m]\n",
      "File \u001b[0;32m/opt/conda/lib/python3.9/site-packages/coffea/processor/executor.py:1848\u001b[0m, in \u001b[0;36mRunner.run\u001b[0;34m(self, fileset, processor_instance, treename)\u001b[0m\n\u001b[1;32m   1843\u001b[0m closure \u001b[38;5;241m=\u001b[39m partial(\n\u001b[1;32m   1844\u001b[0m     \u001b[38;5;28mself\u001b[39m\u001b[38;5;241m.\u001b[39mautomatic_retries, \u001b[38;5;28mself\u001b[39m\u001b[38;5;241m.\u001b[39mretries, \u001b[38;5;28mself\u001b[39m\u001b[38;5;241m.\u001b[39mskipbadfiles, closure\n\u001b[1;32m   1845\u001b[0m )\n\u001b[1;32m   1847\u001b[0m executor \u001b[38;5;241m=\u001b[39m \u001b[38;5;28mself\u001b[39m\u001b[38;5;241m.\u001b[39mexecutor\u001b[38;5;241m.\u001b[39mcopy(\u001b[38;5;241m*\u001b[39m\u001b[38;5;241m*\u001b[39mexe_args)\n\u001b[0;32m-> 1848\u001b[0m wrapped_out, e \u001b[38;5;241m=\u001b[39m \u001b[43mexecutor\u001b[49m\u001b[43m(\u001b[49m\u001b[43mchunks\u001b[49m\u001b[43m,\u001b[49m\u001b[43m \u001b[49m\u001b[43mclosure\u001b[49m\u001b[43m,\u001b[49m\u001b[43m \u001b[49m\u001b[38;5;28;43;01mNone\u001b[39;49;00m\u001b[43m)\u001b[49m\n\u001b[1;32m   1849\u001b[0m \u001b[38;5;28;01mif\u001b[39;00m wrapped_out \u001b[38;5;129;01mis\u001b[39;00m \u001b[38;5;28;01mNone\u001b[39;00m:\n\u001b[1;32m   1850\u001b[0m     \u001b[38;5;28;01mraise\u001b[39;00m \u001b[38;5;167;01mValueError\u001b[39;00m(\n\u001b[1;32m   1851\u001b[0m         \u001b[38;5;124m\"\u001b[39m\u001b[38;5;124mNo chunks returned results, verify ``processor`` instance structure.\u001b[39m\u001b[38;5;130;01m\\n\u001b[39;00m\u001b[38;5;130;01m\\\u001b[39;00m\n\u001b[1;32m   1852\u001b[0m \u001b[38;5;124m        if you used skipbadfiles=True, it is possible all your files are bad.\u001b[39m\u001b[38;5;124m\"\u001b[39m\n\u001b[1;32m   1853\u001b[0m     )\n",
      "File \u001b[0;32m/opt/conda/lib/python3.9/site-packages/coffea/processor/executor.py:974\u001b[0m, in \u001b[0;36mDaskExecutor.__call__\u001b[0;34m(self, items, function, accumulator)\u001b[0m\n\u001b[1;32m    967\u001b[0m         \u001b[38;5;66;03m# FIXME: fancy widget doesn't appear, have to live with boring pbar\u001b[39;00m\n\u001b[1;32m    968\u001b[0m         progress(work, multi\u001b[38;5;241m=\u001b[39m\u001b[38;5;28;01mTrue\u001b[39;00m, notebook\u001b[38;5;241m=\u001b[39m\u001b[38;5;28;01mFalse\u001b[39;00m)\n\u001b[1;32m    969\u001b[0m     \u001b[38;5;28;01mreturn\u001b[39;00m (\n\u001b[1;32m    970\u001b[0m         accumulate(\n\u001b[1;32m    971\u001b[0m             [\n\u001b[1;32m    972\u001b[0m                 work\u001b[38;5;241m.\u001b[39mresult()\n\u001b[1;32m    973\u001b[0m                 \u001b[38;5;28;01mif\u001b[39;00m \u001b[38;5;28mself\u001b[39m\u001b[38;5;241m.\u001b[39mcompression \u001b[38;5;129;01mis\u001b[39;00m \u001b[38;5;28;01mNone\u001b[39;00m\n\u001b[0;32m--> 974\u001b[0m                 \u001b[38;5;28;01melse\u001b[39;00m _decompress(\u001b[43mwork\u001b[49m\u001b[38;5;241;43m.\u001b[39;49m\u001b[43mresult\u001b[49m\u001b[43m(\u001b[49m\u001b[43m)\u001b[49m)\n\u001b[1;32m    975\u001b[0m             ],\n\u001b[1;32m    976\u001b[0m             accumulator,\n\u001b[1;32m    977\u001b[0m         ),\n\u001b[1;32m    978\u001b[0m         \u001b[38;5;241m0\u001b[39m,\n\u001b[1;32m    979\u001b[0m     )\n\u001b[1;32m    980\u001b[0m \u001b[38;5;28;01mexcept\u001b[39;00m KilledWorker \u001b[38;5;28;01mas\u001b[39;00m ex:\n\u001b[1;32m    981\u001b[0m     baditem \u001b[38;5;241m=\u001b[39m key_to_item[ex\u001b[38;5;241m.\u001b[39mtask]\n",
      "File \u001b[0;32m/opt/conda/lib/python3.9/site-packages/distributed/client.py:322\u001b[0m, in \u001b[0;36mFuture.result\u001b[0;34m(self, timeout)\u001b[0m\n\u001b[1;32m    320\u001b[0m \u001b[38;5;28mself\u001b[39m\u001b[38;5;241m.\u001b[39m_verify_initialized()\n\u001b[1;32m    321\u001b[0m \u001b[38;5;28;01mwith\u001b[39;00m shorten_traceback():\n\u001b[0;32m--> 322\u001b[0m     \u001b[38;5;28;01mreturn\u001b[39;00m \u001b[38;5;28;43mself\u001b[39;49m\u001b[38;5;241;43m.\u001b[39;49m\u001b[43mclient\u001b[49m\u001b[38;5;241;43m.\u001b[39;49m\u001b[43msync\u001b[49m\u001b[43m(\u001b[49m\u001b[38;5;28;43mself\u001b[39;49m\u001b[38;5;241;43m.\u001b[39;49m\u001b[43m_result\u001b[49m\u001b[43m,\u001b[49m\u001b[43m \u001b[49m\u001b[43mcallback_timeout\u001b[49m\u001b[38;5;241;43m=\u001b[39;49m\u001b[43mtimeout\u001b[49m\u001b[43m)\u001b[49m\n",
      "File \u001b[0;32m/opt/conda/lib/python3.9/site-packages/coffea/processor/executor.py:221\u001b[0m, in \u001b[0;36m__call__\u001b[0;34m()\u001b[0m\n\u001b[1;32m    220\u001b[0m \u001b[38;5;28;01mdef\u001b[39;00m \u001b[38;5;21m__call__\u001b[39m(\u001b[38;5;28mself\u001b[39m, \u001b[38;5;241m*\u001b[39margs, \u001b[38;5;241m*\u001b[39m\u001b[38;5;241m*\u001b[39mkwargs):\n\u001b[0;32m--> 221\u001b[0m     out \u001b[38;5;241m=\u001b[39m \u001b[38;5;28mself\u001b[39m\u001b[38;5;241m.\u001b[39mfunction(\u001b[38;5;241m*\u001b[39margs, \u001b[38;5;241m*\u001b[39m\u001b[38;5;241m*\u001b[39mkwargs)\n\u001b[1;32m    222\u001b[0m     \u001b[38;5;28;01mreturn\u001b[39;00m _compress(out, \u001b[38;5;28mself\u001b[39m\u001b[38;5;241m.\u001b[39mlevel)\n",
      "File \u001b[0;32m/opt/conda/lib/python3.9/site-packages/coffea/processor/executor.py:1367\u001b[0m, in \u001b[0;36mautomatic_retries\u001b[0;34m()\u001b[0m\n\u001b[1;32m   1361\u001b[0m         \u001b[38;5;28;01mbreak\u001b[39;00m\n\u001b[1;32m   1362\u001b[0m     \u001b[38;5;28;01mif\u001b[39;00m (\n\u001b[1;32m   1363\u001b[0m         \u001b[38;5;129;01mnot\u001b[39;00m skipbadfiles\n\u001b[1;32m   1364\u001b[0m         \u001b[38;5;129;01mor\u001b[39;00m \u001b[38;5;28many\u001b[39m(\u001b[38;5;124m\"\u001b[39m\u001b[38;5;124mAuth failed\u001b[39m\u001b[38;5;124m\"\u001b[39m \u001b[38;5;129;01min\u001b[39;00m \u001b[38;5;28mstr\u001b[39m(c) \u001b[38;5;28;01mfor\u001b[39;00m c \u001b[38;5;129;01min\u001b[39;00m chain)\n\u001b[1;32m   1365\u001b[0m         \u001b[38;5;129;01mor\u001b[39;00m retries \u001b[38;5;241m==\u001b[39m retry_count\n\u001b[1;32m   1366\u001b[0m     ):\n\u001b[0;32m-> 1367\u001b[0m         \u001b[38;5;28;01mraise\u001b[39;00m e\n\u001b[1;32m   1368\u001b[0m     warnings\u001b[38;5;241m.\u001b[39mwarn(\u001b[38;5;124m\"\u001b[39m\u001b[38;5;124mAttempt \u001b[39m\u001b[38;5;132;01m%d\u001b[39;00m\u001b[38;5;124m of \u001b[39m\u001b[38;5;132;01m%d\u001b[39;00m\u001b[38;5;124m.\u001b[39m\u001b[38;5;124m\"\u001b[39m \u001b[38;5;241m%\u001b[39m (retry_count \u001b[38;5;241m+\u001b[39m \u001b[38;5;241m1\u001b[39m, retries \u001b[38;5;241m+\u001b[39m \u001b[38;5;241m1\u001b[39m))\n\u001b[1;32m   1369\u001b[0m retry_count \u001b[38;5;241m+\u001b[39m\u001b[38;5;241m=\u001b[39m \u001b[38;5;241m1\u001b[39m\n",
      "File \u001b[0;32m/opt/conda/lib/python3.9/site-packages/coffea/processor/executor.py:1336\u001b[0m, in \u001b[0;36mautomatic_retries\u001b[0;34m()\u001b[0m\n\u001b[1;32m   1334\u001b[0m \u001b[38;5;28;01mwhile\u001b[39;00m retry_count \u001b[38;5;241m<\u001b[39m\u001b[38;5;241m=\u001b[39m retries:\n\u001b[1;32m   1335\u001b[0m     \u001b[38;5;28;01mtry\u001b[39;00m:\n\u001b[0;32m-> 1336\u001b[0m         \u001b[38;5;28;01mreturn\u001b[39;00m func(\u001b[38;5;241m*\u001b[39margs, \u001b[38;5;241m*\u001b[39m\u001b[38;5;241m*\u001b[39mkwargs)\n\u001b[1;32m   1337\u001b[0m     \u001b[38;5;66;03m# catch xrootd errors and optionally skip\u001b[39;00m\n\u001b[1;32m   1338\u001b[0m     \u001b[38;5;66;03m# or retry to read the file\u001b[39;00m\n\u001b[1;32m   1339\u001b[0m     \u001b[38;5;28;01mexcept\u001b[39;00m \u001b[38;5;167;01mException\u001b[39;00m \u001b[38;5;28;01mas\u001b[39;00m e:\n",
      "File \u001b[0;32m/opt/conda/lib/python3.9/site-packages/coffea/processor/executor.py:1656\u001b[0m, in \u001b[0;36m_work_function\u001b[0;34m()\u001b[0m\n\u001b[1;32m   1654\u001b[0m     out \u001b[38;5;241m=\u001b[39m processor_instance\u001b[38;5;241m.\u001b[39mprocess(events)\n\u001b[1;32m   1655\u001b[0m \u001b[38;5;28;01mexcept\u001b[39;00m \u001b[38;5;167;01mException\u001b[39;00m \u001b[38;5;28;01mas\u001b[39;00m e:\n\u001b[0;32m-> 1656\u001b[0m     \u001b[38;5;28;01mraise\u001b[39;00m \u001b[38;5;167;01mException\u001b[39;00m(\u001b[38;5;124mf\u001b[39m\u001b[38;5;124m\"\u001b[39m\u001b[38;5;124mFailed processing file: \u001b[39m\u001b[38;5;132;01m{\u001b[39;00mitem\u001b[38;5;132;01m!r}\u001b[39;00m\u001b[38;5;124m\"\u001b[39m) \u001b[38;5;28;01mfrom\u001b[39;00m \u001b[38;5;21;01me\u001b[39;00m\n\u001b[1;32m   1657\u001b[0m \u001b[38;5;28;01mif\u001b[39;00m out \u001b[38;5;129;01mis\u001b[39;00m \u001b[38;5;28;01mNone\u001b[39;00m:\n\u001b[1;32m   1658\u001b[0m     \u001b[38;5;28;01mraise\u001b[39;00m \u001b[38;5;167;01mValueError\u001b[39;00m(\n\u001b[1;32m   1659\u001b[0m         \u001b[38;5;124m\"\u001b[39m\u001b[38;5;124mOutput of process() should not be None. Make sure your processor\u001b[39m\u001b[38;5;124m'\u001b[39m\u001b[38;5;124ms process() function returns an accumulator.\u001b[39m\u001b[38;5;124m\"\u001b[39m\n\u001b[1;32m   1660\u001b[0m     )\n",
      "\u001b[0;31mException\u001b[0m: Failed processing file: WorkItem(dataset='4mu_500GeV_0p25GeV_0p004mm', filename='root://xcache//store/group/lpcmetx/SIDM/ULSignalSamples/2018_v6/LLPNanoAOD_V2/SIDM_BsTo2DpTo4Mu_MBs-500_MDp-0p25_ctau-0p004/LLPnanoAODv2/SIDM_BsTo2DpTo4Mu_MBs-500_MDp-0p25_ctau-0p004_part-8.root', treename='Events', entrystart=0, entrystop=1140, fileuuid=b'\\x01\\xf4\\x16\\xc0#t\\x11\\xef\\xaf\\x04\\x97\\x15\\xe6\\x9b\\xbe\\xef', usermeta={})"
     ]
    }
   ],
   "source": [
    "runner = processor.Runner(\n",
    "    #executor=processor.IterativeExecutor(),\n",
    "    executor=processor.DaskExecutor(client=client),\n",
    "    #executor=processor.FuturesExecutor(),\n",
    "    schema=NanoAODSchema,\n",
    "    # maxchunks=1,\n",
    ")\n",
    "\n",
    "hist_menu = utilities.load_yaml(\"../configs/hist_collections.yaml\")\n",
    "hist_choice = \"base\"\n",
    "collection = utilities.flatten(hist_menu[hist_choice]) #To change the histograms used, swap \"base\" for the other collections\n",
    "p = sidm_processor.SidmProcessor(\n",
    "    [\n",
    "        \"base\",\n",
    "        \"baseNoLj\",\n",
    "        \"4mu\", # basic cuts + 4mu requirement\n",
    "        \"2mu2e\",\n",
    "        #\"matchedLj\", # strict cuts on lj objects\n",
    "        #\"4mu_matchedLj\",\n",
    "    ],\n",
    "    [hist_choice],\n",
    "    lj_reco_choices=[\"0.4\"],\n",
    "    #llpnanoaod=True,\n",
    ")\n",
    "output = runner.run(fileset, treename='Events', processor_instance=p)\n",
    "out = output[\"out\"]"
   ]
  },
  {
   "cell_type": "code",
   "execution_count": null,
   "id": "2b0e10a5-1161-4ae2-a1a7-7125d40667bd",
   "metadata": {
    "tags": []
   },
   "outputs": [],
   "source": [
    "cutflow.print_multi_table([out[samples[i]][\"cutflow\"][\"2mu2e\"] for i in range(5)], [samples[i] for i in range(5)], fraction=False, unweighted=False)"
   ]
  },
  {
   "cell_type": "code",
   "execution_count": null,
   "id": "33f32560-d2b5-453a-ac7a-a25c8e630c95",
   "metadata": {
    "tags": []
   },
   "outputs": [],
   "source": [
    "out[samples[0]][\"cutflow\"][\"4mu\"].print_table(fraction=False, unweighted=False)"
   ]
  },
  {
   "cell_type": "code",
   "execution_count": null,
   "id": "b0d42a28-2080-4f88-9ae6-ca2147b38cfd",
   "metadata": {
    "tags": []
   },
   "outputs": [],
   "source": [
    "#out[samples[0]][\"hists\"][\"abcd_lj_lj_invmass_vs_absdphi\"][\"base\", :, :].plot2d_full()\n",
    "\n",
    "a = out[samples[0]][\"hists\"][\"lj_lj_invmass\"][\"base\", :]\n",
    "utilities.plot(a, flow='none', density=False)\n",
    "plt.legend([samples[0]], loc=1, prop={'size': 5}, ncol=2)\n",
    "print(a.to_numpy()[0].sum())"
   ]
  },
  {
   "cell_type": "markdown",
   "id": "484cb7f2-4913-4fde-bddf-cd74d73b01b6",
   "metadata": {},
   "source": [
    "Plots several different histograms for all samples. It is clear from these that the 4mu samples (of course) don't have electrons or photons, and are almost all composed of four muons. Under the matchedLj channel, the lepton jet object cuts are more strict than those of the 4mu or llpnano channels, so the number of cut events is higher on the >=2 lj cut (since there are fewer objects qualifying as lepton jets). The background cannot be analyzed in this channel, since one of the cuts requires >= 2 matched dark photons (\"As\"), which are gen-level particles. Since the background does not generate dark photons, none of the events have these As, so they are all cut.\n",
    "\n",
    "In the low-mass (100GeV) samples of dark matter bound states, the number of dsa muons is relatively low, with most samples having only zero or one.\n",
    "\n",
    "In high-mass cases (1000GeV), the more displaced samples are much less clustered around 4 muons, with a significant number of events having only three or less. These same samples were also more likely to have one or more dsa muons. I'm not sure if these are counted separately by the muon_n histogram."
   ]
  },
  {
   "cell_type": "code",
   "execution_count": null,
   "id": "c799aca8-a0f7-4b28-bae5-ee817ede3ba1",
   "metadata": {
    "tags": []
   },
   "outputs": [],
   "source": [
    "def count1d(hist, bounds, verbose = False):\n",
    "    result = 0\n",
    "    x = hist.to_numpy()\n",
    "    bins = []\n",
    "    for i in range(len(x[0])):\n",
    "        temp = [x[0][i], (x[1][i]+x[1][i+1])/2]\n",
    "        bins.append(temp)\n",
    "    for i in range(len(bins)):\n",
    "        if bins[i][1] >= min(bounds[0]) and bins[i][1] <= max(bounds[0]):\n",
    "            result += bins[i][0]\n",
    "    return result\n",
    "\n",
    "def count2d(hist, bounds, verbose = False):\n",
    "    result = 0\n",
    "    if type(hist) != numpy.ndarray: \n",
    "        x = hist.to_numpy()\n",
    "    else:\n",
    "        x = hist\n",
    "    bins = []\n",
    "    for i in range(len(x[2]) - 1): # each i corresponds to a row of bins\n",
    "        for j in range(len(x[1]) - 1): # each j corresponds to the column\n",
    "            bins.append([x[0][j][i], (x[1][j] + x[1][j+1])/2, (x[2][i] + x[2][i+1])/2])\n",
    "    for i in range(len(bins)):\n",
    "        if bins[i][1] >= bounds[0][0] and bins[i][1] <= bounds[1][0] and bins[i][2] >= bounds[0][1] and bins[i][2] <= bounds[1][1]:\n",
    "            if verbose: print(bins[i])\n",
    "            result += bins[i][0]\n",
    "    return result\n",
    "\n",
    "def drawRect(fig, ax, x0, x1, color='r'):\n",
    "    ax.add_patch(patches.Rectangle((x0[0], x0[1]), abs(x0[0]-x1[0]), abs(x0[1]-x1[1]), linewidth=1, edgecolor=color, facecolor='none'))\n",
    "    fig.show()\n",
    "    \n",
    "def countPlot(hist, fig, ax, bounds, color='r'):\n",
    "    dim = len(hist.axes) if isinstance(hist, list) else len(hist.axes)\n",
    "    if dim == 1:\n",
    "        fig.axvline(x = bounds[0])\n",
    "        fig.axvline(x = bounds[1])\n",
    "    if dim == 2:\n",
    "        drawRect(fig, ax, bounds[0], bounds[1], color)\n",
    "    fig.show()\n",
    "    return count(hist, bounds)\n",
    "    \n",
    "def countAll(hist, verbose=False):\n",
    "    result = 0\n",
    "    dim = len(hist.axes) if isinstance(hist, list) else len(hist.axes)\n",
    "    if dim == 2:\n",
    "        x = hist.to_numpy()\n",
    "        bins = []\n",
    "        for i in range(len(x[2]) - 1): # each i corresponds to a row of bins\n",
    "            for j in range(len(x[1]) - 1): # each j corresponds to the column\n",
    "                bins.append([x[0][j][i], (x[1][j] + x[1][j+1])/2, (x[2][i] + x[2][i+1])/2])\n",
    "        for i in range(len(bins)):\n",
    "            if verbose: print(bins[i])\n",
    "            result += bins[i][0]\n",
    "    return result\n",
    "                \n",
    "def ABCD(hist, fig, ax, x0, x1):\n",
    "    lowX = x0[0]\n",
    "    lowY = x0[1]\n",
    "    midX = (x0[0] + x1[0]) / 2\n",
    "    midY = (x0[1] + x1[1]) / 2\n",
    "    highX = x1[0]\n",
    "    highY = x1[1]\n",
    "    \n",
    "    xrange = midX-lowX\n",
    "    yrange = midY-lowY\n",
    "    \n",
    "    drawRect(fig, ax, x0, (midX, midY), 'yellow') # C\n",
    "    drawRect(fig, ax, (midX, lowY), (highX, midY), 'green') # D\n",
    "    drawRect(fig, ax, (lowX, midY), (midX, highY), 'red') # A\n",
    "    drawRect(fig, ax, (midX, midY), (highX, highY), 'orange') # B\n",
    "    \n",
    "    ax.text(lowX + 0.2*xrange, midY - 0.1*yrange, \"C\", fontsize=11, color='yellow')#, transform=ax.transAxes)\n",
    "    ax.text(midX + 0.2*xrange, midY - 0.1*yrange, \"D\", fontsize=11, color='green')#, transform=ax.transAxes)\n",
    "    ax.text(lowX + 0.2*xrange, highY - 0.1*yrange, \"A\", fontsize=11, color='red')#, transform=ax.transAxes)\n",
    "    ax.text(midX + 0.2*xrange, highY - 0.1*yrange, \"B\", fontsize=11, color='orange')#, transform=ax.transAxes)\n",
    "    \n",
    "    countA = count2d(hist, [(lowX, midY), (midX, highY)])\n",
    "    countB = count2d(hist, [(midX, midY), x1])\n",
    "    countC = count2d(hist, [x0, (midX, midY)])\n",
    "    countD = count2d(hist, [(midX, lowY), (highX, midY)])\n",
    "    \n",
    "    return [countA, countB, countC, countD]\n",
    "\n",
    "def addHistDensities(hist1, hist2, scalar=1): \n",
    "    result = hist1/hist1.sum().value + hist2/hist2.sum().value * scalar\n",
    "    result = result/result.sum().value\n",
    "    return result"
   ]
  },
  {
   "cell_type": "code",
   "execution_count": null,
   "id": "473d61a5-8bb3-4aff-b4ab-c1cf52b4bff1",
   "metadata": {
    "tags": []
   },
   "outputs": [],
   "source": [
    "fig, ax = plt.subplots()\n",
    "a = out[samples[0]][\"hists\"][\"lj_lj_absdphi_absdeta\"][\"baseNoLj\", :, :]\n",
    "x = a.to_numpy()\n",
    "utilities.plot(a)\n",
    "x0 = (20, 0.5)\n",
    "x1 = (300, 4) # bins[i] = [events, x (invmass), y (dPhi)]\n",
    "x2 = ((x0[0]+x1[0])/2, (x0[1]+x1[1])/2)\n",
    "#drawRect(fig, ax, x0, x1)\n",
    "drawRect(fig, ax, (x0[0], x2[1]), (x2[0], x1[1]))\n",
    "#print(f\"Events: {countPlot(a, fig, ax, [(x0[0], x2[1]), (x2[0], x1[1])])}\")\n",
    "print(f\"Points used are: ({x0[0]}, {x2[1]}), ({x2[0]}, {x1[1]})\")\n",
    "print(f\"Events within the rectangle: {countAll(a)}\")"
   ]
  },
  {
   "cell_type": "code",
   "execution_count": null,
   "id": "757ac5dc-8edf-44ba-9e52-079a87b8642e",
   "metadata": {
    "tags": []
   },
   "outputs": [],
   "source": [
    "fig, (ax1) = plt.subplots()\n",
    "a = out[samples[0]][\"hists\"][\"lj_lj_absdphi_absdeta\"][\"baseNoLj\", :, :]\n",
    "\n",
    "x0 = (0, 0)\n",
    "x1 = (6.3, 6)\n",
    "x2 = ((x0[0]+x1[0])/2,(x0[1]+x1[1])/2)\n",
    "#print(x2)\n",
    "\n",
    "utilities.plot(a)\n",
    "counts = ABCD(a, fig, ax1, x0, x1) # pass ABCD() a rectangle, and it is divided into 4 equal parts\n",
    "\n",
    "fig.show()\n",
    "    # Displays ABCD in order red, orange, yellow, green\n",
    "print(f\"{samples[0]} counts in each region [A, B, C, D]: {counts}\")\n",
    "if counts[1]==0:\n",
    "    counts[1]=0.001\n",
    "if counts[3]==0:\n",
    "    counts[3]=0.001\n",
    "A_to_B = counts[0]/counts[1]\n",
    "C_to_D = counts[2]/counts[3]\n",
    "print(f\"Ratios:\\n\\tA:B = {A_to_B}\\n\\tC:D = {C_to_D}\\n\\tA:B/C:D = {A_to_B/C_to_D} = 1/{1/(A_to_B/C_to_D):.2f}\\n-----------------------------------------\\n\")\n",
    "print(f\"Events in the histogram: {countAll(a, verbose=False)}\")"
   ]
  },
  {
   "cell_type": "code",
   "execution_count": null,
   "id": "19a14952-8732-43b1-ab94-a2b2b4b9a424",
   "metadata": {
    "tags": []
   },
   "outputs": [],
   "source": [
    "ind = 4\n",
    "\n",
    "fig, (ax1, ax2) = plt.subplots(1, 2, figsize=(16,8))\n",
    "a = out[samples[0]][\"hists\"][\"lj_lj_absdphi_absdeta\"][\"base\", :, :]\n",
    "b = out[samples[ind]][\"hists\"][\"lj_lj_absdphi_absdeta\"][\"base\", :, :]\n",
    "\n",
    "x0 = (0, 0)\n",
    "x1 = (6.31, 6)\n",
    "x2 = ((x0[0]+x1[0])/2,(x0[1]+x1[1])/2)\n",
    "#print(x2)\n",
    "\n",
    "plt.subplot(1,2,1)\n",
    "utilities.plot(a)\n",
    "counts = ABCD(a, fig, ax1, x0, x1) # pass ABCD() a rectangle, and it is divided into 4 equal parts\n",
    "\n",
    "plt.subplot(1,2,2)\n",
    "utilities.plot(b)\n",
    "counts2 = ABCD(b, fig, ax2, x0, x1)\n",
    "\n",
    "fig.show()\n",
    "    # Displays ABCD in order red, orange, yellow, green\n",
    "print(f\"{samples[0]} counts in each region [A, B, C, D]: {counts}\")\n",
    "if counts[1]==0:\n",
    "    counts[1]=0.001\n",
    "if counts[3]==0:\n",
    "    counts[3]=0.001\n",
    "A_to_B = counts[0]/counts[1] if counts[0]!=0 else 0.00001\n",
    "C_to_D = counts[2]/counts[3] if counts[2]!=0 else 0.00001\n",
    "print(f\"Ratios:\\n\\tA:B = {A_to_B}\\n\\tC:D = {C_to_D}\\n\\tA:B/C:D = {A_to_B/C_to_D} = 1/{1/(A_to_B/C_to_D):.2f}\\n-----------------------------------------\\n\")\n",
    "\n",
    "print(f\"{samples[ind]} counts in each region [A, B, C, D]: {counts2}\")\n",
    "if counts2[1]==0:\n",
    "    counts2[1]=0.001\n",
    "if counts2[3]==0:\n",
    "    counts2[3]=0.001\n",
    "A_to_B2 = counts2[0]/counts2[1]\n",
    "C_to_D2 = counts2[2]/counts2[3]\n",
    "print(f\"Ratios:\\n\\tA:B = {1/A_to_B2}\\n\\tC:D = {1/C_to_D2}\\n\\tA:B/C:D = {(A_to_B2/C_to_D2)} = 1/{1/(A_to_B2/C_to_D2):.2f}\\n-----------------------------------------\\n\")\n",
    "\n",
    "ax1.title.set_text(f\"InvMass v. dPhi for {samples[0]}\")\n",
    "ax1.title.set_size(10)\n",
    "ax2.title.set_text(f\"InvMass v. dPhi for {samples[ind]}\")\n",
    "ax2.title.set_size(10)\n",
    "\n",
    "totalCounts = [counts[i]+counts2[i] for i in range(len(counts))]\n",
    "print(f\"Total Counts in each region: {totalCounts}\")\n",
    "if totalCounts[1]==0:\n",
    "    totalCounts[1]=0.001\n",
    "if totalCounts[3]==0:\n",
    "    totalCounts[3]=0.001\n",
    "A_to_Btotal = totalCounts[0]/totalCounts[1]\n",
    "C_to_Dtotal = totalCounts[2]/totalCounts[3]\n",
    "totalRat = (A_to_Btotal/C_to_Dtotal)\n",
    "print(f\"Ratios:\\n\\tA:B = {1/A_to_Btotal}\\n\\tC:D = {1/C_to_Dtotal}\\n\\tA:B/C:D = {totalRat} = 1/{1/(totalRat):.2f}\\n-----------------------------------------\\n\")\n"
   ]
  },
  {
   "cell_type": "code",
   "execution_count": null,
   "id": "a28a73c5-0f42-4fc8-a49d-1a4c76d595c5",
   "metadata": {
    "tags": []
   },
   "outputs": [],
   "source": [
    "fig, (ax1, ax2) = plt.subplots(1, 2, figsize=(16, 8))\n",
    "plt.subplot(1,2,1)\n",
    "a = out[samples[-1]][\"hists\"][\"lj_lj_absdphi_absdeta\"][\"base\", :, :]\n",
    "utilities.plot(a)\n",
    "x0 = (0, 0)\n",
    "x1 = (6.31, 6)\n",
    "x2 = ((x0[0]+x1[0])/2,(x0[1]+x1[1])/2)\n",
    "print(x2)\n",
    "counts = ABCD(a, fig, ax1, x0, x1) # pass ABCD() a rectangle, and it is divided into 4 equal parts\n",
    "\n",
    "fig.show()\n",
    "# Displays in order red, orange, yellow, green\n",
    "print(counts)\n",
    "A_to_B = counts[0]/(counts[1]+1)\n",
    "C_to_D = counts[2]/counts[3]\n",
    "print(f\"Ratios: A:B = {A_to_B}, C:D = {C_to_D}\")\n",
    "\n",
    "plt.subplot(1,2,2)\n",
    "b = out[samples[-1]][\"hists\"][\"lj_lj_absdphi_absdeta\"][\"base\", :, :]\n",
    "utilities.plot(b)\n",
    "\n",
    "counts = ABCD(b, fig, ax2, x0, x1)"
   ]
  },
  {
   "cell_type": "code",
   "execution_count": null,
   "id": "f37dc16a-ea45-45f6-9c31-0891d2be0711",
   "metadata": {
    "tags": []
   },
   "outputs": [],
   "source": [
    "ind = 2\n",
    "scalar = 0.1\n",
    "\n",
    "a = out[samples[0]][\"hists\"][\"lj_lj_absdphi_absdeta\"][\"baseNoLj\", :, :]\n",
    "b = out[samples[ind]][\"hists\"][\"lj_lj_absdphi_absdeta\"][\"baseNoLj\", :, :]\n",
    "#c = a/a.sum().value + b/b.sum().value * scalar\n",
    "#c = c/c.sum().value\n",
    "c = addHistDensities(a, b, scalar = scalar)\n",
    "a = a/a.sum().value\n",
    "#X, Y = numpy.meshgrid(c[1], c[2])\n",
    "#Z = c[0]\n",
    "x0 = (0, 0)\n",
    "x1 = (6.31, 6)\n",
    "\n",
    "fig, (ax1, ax2) = plt.subplots(1,2,figsize=(12,6))\n",
    "#t = ax.pcolormesh(X, Y, Z, vmin=Z.min(), vmax=Z.max())\n",
    "plt.subplot(1,2,1)\n",
    "utilities.plot(a, flow=False)\n",
    "bgcounts = ABCD(a, fig, ax1, x0, x1)\n",
    "plt.subplot(1,2,2)\n",
    "utilities.plot(c, flow=False)\n",
    "\n",
    "counts = ABCD(c, fig, ax2, x0, x1)\n",
    "ax.set_title(f\"TTBar Background + {samples[ind]} Signal\")\n",
    "ax.title.set_size(6)\n",
    "#fig.colorbar(t, ax=ax)\n",
    "plt.show()\n",
    "\n",
    "print(f\"Background counts in each region [A, B, C, D]: [{bgcounts[0]:.4f}, {bgcounts[1]:.4f}, {bgcounts[2]:.4f}, {bgcounts[3]:.4f}]\")\n",
    "if bgcounts[1]==0:\n",
    "    bgcounts[1]=0.001\n",
    "if bgcounts[3]==0:\n",
    "    bgcounts[3]=0.001\n",
    "bgA_to_B = bgcounts[0]/bgcounts[1]\n",
    "bgC_to_D = bgcounts[2]/bgcounts[3]\n",
    "print(f\"Ratios:\\n\\tA:B = {bgA_to_B}\\n\\tC:D = {bgC_to_D}\\n\\tA:B/C:D = {bgA_to_B/bgC_to_D} = 1/{1/(bgA_to_B/bgC_to_D):.2f}\\n-----------------------------------------\\n\")\n",
    "print(f\"Events in the entire histogram: {countAll(a, verbose=False):.4f}\")\n",
    "\n",
    "print(f\"Total ({samples[0]} + {samples[ind]}) counts in each region [A, B, C, D]: [{counts[0]:.4f}, {counts[1]:.4f}, {counts[2]:.4f}, {counts[3]:.4f}]\")\n",
    "if counts[1]==0:\n",
    "    counts[1]=0.0001\n",
    "if counts[3]==0:\n",
    "    counts[3]=0.0001\n",
    "A_to_B = counts[0]/counts[1]\n",
    "C_to_D = counts[2]/counts[3]\n",
    "print(f\"Ratios:\\n\\tA:B = {A_to_B}\\n\\tC:D = {C_to_D}\\n\\tA:B/C:D = {A_to_B/C_to_D} = 1/{1/(A_to_B/C_to_D):.2f}\\n-----------------------------------------\\n\")\n",
    "print(f\"Events in the entire histogram: {countAll(c, verbose=False):.4f}\")\n",
    "\n",
    "#Signal region is A\n",
    "# Expected value for BC/D = A\n",
    "A_expected = bgcounts[1]*bgcounts[2]/bgcounts[3]\n",
    "print(f\"Expected background: {A_expected}\")\n",
    "print(f\"Actual background: {bgcounts[0]}\")\n",
    "print(f\"Actual A counts: {counts[0]}\")\n",
    "print(f\"Ratio (expected):(actual+signal) = {counts[0]/A_expected}\")"
   ]
  },
  {
   "cell_type": "code",
   "execution_count": null,
   "id": "c4465183-a5d9-4136-ae04-52f067a60af7",
   "metadata": {
    "tags": []
   },
   "outputs": [],
   "source": [
    "ind = -2\n",
    "a = out[samples[0]][\"hists\"][\"lj_lj_absdphi_absdeta\"][\"baseNoLj\", :, :]\n",
    "b = out[samples[ind]][\"hists\"][\"lj_lj_absdphi_absdeta\"][\"baseNoLj\", :, :]\n",
    "c = addHistDensities(a, b, scalar = 0.33)\n",
    "#X, Y = numpy.meshgrid(c[1], c[2])\n",
    "#Z = c[0]\n",
    "#print(c[0])\n",
    "#print(c[0])\n",
    "\n",
    "fig, (ax) = plt.subplots(1,1,figsize=(6,6))\n",
    "\n",
    "utilities.plot(c, flow=False)\n",
    "\n",
    "counts = ABCD(c, fig, ax, x0, x1)\n",
    "ax.set_title(f\"TTBar Background + {samples[ind]} Signal\")\n",
    "ax.title.set_size(6)\n",
    "#fig.colorbar(t, ax=ax)\n",
    "plt.show()"
   ]
  },
  {
   "cell_type": "code",
   "execution_count": null,
   "id": "bd11b878-e283-4df2-ae8e-c9039b62c29e",
   "metadata": {
    "tags": []
   },
   "outputs": [],
   "source": [
    "out[samples[-1]][\"hists\"][\"abcd_lj_lj_invmass_vs_absdphi\"][\"base\", :, :].plot2d_full()"
   ]
  },
  {
   "cell_type": "code",
   "execution_count": null,
   "id": "f210f335-f135-4b4f-b329-b3fc8b3082ab",
   "metadata": {
    "tags": []
   },
   "outputs": [],
   "source": [
    "utilities.plot(out[samples[-1]][\"hists\"][\"lj_lj_invmass\"][\"base\", :])\n",
    "plt.title(samples[-1])"
   ]
  },
  {
   "cell_type": "code",
   "execution_count": null,
   "id": "f6c5a795-91ba-4b53-92e6-12114ef20234",
   "metadata": {
    "tags": []
   },
   "outputs": [],
   "source": [
    "utilities.plot(out[samples[-1]][\"hists\"][\"lj_lj_absdphi\"][\"baseNoLj\", :], flow='none', density=True)"
   ]
  },
  {
   "cell_type": "code",
   "execution_count": null,
   "id": "87577438-25ca-44d7-9f22-a15ddfc1c914",
   "metadata": {
    "tags": []
   },
   "outputs": [],
   "source": [
    "plt.subplots(1,2,figsize=(14,7))\n",
    "plt.subplot(1,2,1)\n",
    "for sample in samples:\n",
    "    utilities.plot(out[sample][\"hists\"][\"lj_lj_absdphi\"][\"baseNoLj\", :], flow='none', density=False)\n",
    "plt.legend(samples, loc=2, prop={'size': 6})\n",
    "plt.subplot(1,2,2)\n",
    "for sample in samples:\n",
    "    utilities.plot(out[sample][\"hists\"][\"lj_lj_absdphi\"][\"4mu\", :], flow='none', density=True)\n",
    "plt.legend(samples, loc=2, prop={'size': 6})"
   ]
  },
  {
   "cell_type": "code",
   "execution_count": null,
   "id": "5a2c6b8f-6c44-4a71-bbbe-6857649e1dd7",
   "metadata": {
    "tags": []
   },
   "outputs": [],
   "source": [
    "histlist = [\"electron_n\", \"muon_n\"]\n",
    "\n",
    "for hist in histlist:\n",
    "    plt.subplots(1, 5, figsize=(30, 8))\n",
    "    for i in range(5):\n",
    "        plt.subplot(1,5,i+1)\n",
    "        utilities.plot(out[samples[i]][\"hists\"][hist][\"matchedLj\", :], density=True)\n",
    "        plt.title(samples[i], size=8)\n",
    "        plt.legend([samples[i]], prop={\"size\": 12})"
   ]
  },
  {
   "cell_type": "code",
   "execution_count": null,
   "id": "84d0eaa1-4e13-4010-9a64-e851bddef9ed",
   "metadata": {
    "tags": []
   },
   "outputs": [],
   "source": [
    "histlist = [\"lj_n\", \"lj_lj_invmass\"]\n",
    "\n",
    "for hist in histlist:\n",
    "    plt.subplots(1, 5, figsize=(30, 8))\n",
    "    for i in range(5):\n",
    "        plt.subplot(1,5,i+1)\n",
    "        utilities.plot(out[samples[i]][\"hists\"][hist][\"4mu\", :], density=True)\n",
    "        plt.title(samples[i], size=8)\n",
    "        plt.legend([samples[i]], prop={\"size\": 12})"
   ]
  },
  {
   "cell_type": "code",
   "execution_count": null,
   "id": "e99ae923-27da-40cc-8445-3685136ddd8a",
   "metadata": {
    "tags": []
   },
   "outputs": [],
   "source": [
    "hist = \"lj_lj_invmass_lowRange\"\n",
    "\n",
    "utilities.plot(out[samples[0]][\"hists\"][hist][\"4mu\", :], density=True)\n",
    "plt.title(samples[0], size=8)\n",
    "plt.legend([samples[0]], prop={\"size\": 12})"
   ]
  },
  {
   "cell_type": "code",
   "execution_count": null,
   "id": "02895cf2-89bf-45c5-ada5-172890576164",
   "metadata": {
    "tags": []
   },
   "outputs": [],
   "source": [
    "cutflow.print_multi_table([out[sample][\"cutflow\"][\"4mu_matchedLj\"] for sample in samples], [sample for sample in samples], fraction=False)\n",
    "# the matched As are gen-level particles, so none are present in TTJets"
   ]
  },
  {
   "cell_type": "code",
   "execution_count": null,
   "id": "144b5826-182c-47d9-b6df-0da8c056e8c4",
   "metadata": {
    "tags": []
   },
   "outputs": [],
   "source": [
    "histlist = [\"muon_pt\", \"muon_lj_dR_lowRange\"]\n",
    "\n",
    "for hist in histlist:\n",
    "    plt.subplots(1, 5, figsize=(30, 8))\n",
    "    for i in range(5):\n",
    "        plt.subplot(1,5,i+1)\n",
    "        utilities.plot(out[samples[i]][\"hists\"][hist][\"4mu\", :], density=True)\n",
    "        plt.title(samples[i], size=8)\n",
    "        plt.legend([samples[i]], prop={\"size\": 12})"
   ]
  },
  {
   "cell_type": "code",
   "execution_count": null,
   "id": "79d4c823-672f-4d20-9920-f0ea11130bbb",
   "metadata": {
    "tags": []
   },
   "outputs": [],
   "source": [
    "histlist = [\"dsaMuon_n\", \"dsaMuon_pt\"]\n",
    "\n",
    "for hist in histlist:\n",
    "    plt.subplots(1, 5, figsize=(30, 8))\n",
    "    for i in range(5):\n",
    "        plt.subplot(1,5,i+1)\n",
    "        utilities.plot(out[samples[i]][\"hists\"][hist][\"matchedLj\", :], density=True)\n",
    "        plt.title(samples[i], size=8)\n",
    "        plt.legend([samples[i]], prop={\"size\": 12})"
   ]
  },
  {
   "cell_type": "code",
   "execution_count": null,
   "id": "f36f0e35-8c1c-4325-ad88-ff55b7d05664",
   "metadata": {
    "tags": []
   },
   "outputs": [],
   "source": [
    "histlist = [\"dsaMuon_eta_phi\", \"muon_eta_phi\"]\n",
    "\n",
    "for hist in histlist:\n",
    "    plt.subplots(1, 5, figsize=(30, 8))\n",
    "    for i in range(5):\n",
    "        plt.subplot(1,5,i+1)\n",
    "        utilities.plot(out[samples[i]][\"hists\"][hist][\"matchedLj\", :, :])\n",
    "        plt.title(samples[i], size=8)"
   ]
  },
  {
   "cell_type": "code",
   "execution_count": null,
   "id": "639e49ea-7ac4-4d8c-855b-ff1b7a796bf8",
   "metadata": {
    "tags": []
   },
   "outputs": [],
   "source": [
    "histlist = [\"photon_n\", \"muon_absD0_lowRange\"]\n",
    "\n",
    "for hist in histlist:\n",
    "    plt.subplots(1, 5, figsize=(30, 8))\n",
    "    for i in range(5):\n",
    "        plt.subplot(1,5,i+1)\n",
    "        utilities.plot(out[samples[i]][\"hists\"][hist][\"matchedLj\", :], density=True)\n",
    "        plt.title(samples[i], size=8)\n",
    "        plt.legend([samples[i]], prop={\"size\": 12})"
   ]
  },
  {
   "cell_type": "code",
   "execution_count": null,
   "id": "abee2f16-be58-4958-ae1a-31d6db88e06b",
   "metadata": {
    "tags": []
   },
   "outputs": [],
   "source": [
    "histlist = [\"muon_n\",\"dsaMuon_n\",\"totalMuon_n\"]\n",
    "for hist in histlist:\n",
    "    utilities.plot(out[samples[-1]][\"hists\"][hist][\"4mu_matchedLj\", :], density=False)\n",
    "plt.legend(histlist)"
   ]
  },
  {
   "cell_type": "code",
   "execution_count": null,
   "id": "198ec17b-e7b2-4142-93c8-8cae7780c39a",
   "metadata": {},
   "outputs": [],
   "source": []
  }
 ],
 "metadata": {
  "kernelspec": {
   "display_name": "Python 3 (ipykernel)",
   "language": "python",
   "name": "python3"
  },
  "language_info": {
   "codemirror_mode": {
    "name": "ipython",
    "version": 3
   },
   "file_extension": ".py",
   "mimetype": "text/x-python",
   "name": "python",
   "nbconvert_exporter": "python",
   "pygments_lexer": "ipython3",
   "version": "3.9.18"
  }
 },
 "nbformat": 4,
 "nbformat_minor": 5
}
