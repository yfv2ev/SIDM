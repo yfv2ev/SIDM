{
 "cells": [
  {
   "cell_type": "markdown",
   "id": "e2be3852-436b-48d3-a75b-bbb3f93a9401",
   "metadata": {},
   "source": [
    "I'll use this notebook to study potential LJ constituents and look into whether I can unambiguously pick out the relevant particles with dR requirements. This study should be updated to instead use pfjet.pfcand and compare directly with ljsources."
   ]
  },
  {
   "cell_type": "code",
   "execution_count": 1,
   "id": "a4704a70-8917-469b-a02c-5ff2d0639417",
   "metadata": {
    "tags": []
   },
   "outputs": [],
   "source": [
    "# python\n",
    "import sys\n",
    "import os\n",
    "import importlib\n",
    "# columnar analysis\n",
    "from coffea import processor\n",
    "import awkward as ak\n",
    "#from dask.distributed import Client\n",
    "# local\n",
    "sys.path.insert(1, os.path.join(sys.path[0], '../..')) # fixme: there must be a better way to handle this...\n",
    "from sidm.tools import ffschema, sidm_processor, utilities\n",
    "# always reload local modules to pick up changes during development\n",
    "importlib.reload(ffschema)\n",
    "importlib.reload(sidm_processor)\n",
    "importlib.reload(utilities)\n",
    "# plotting\n",
    "import matplotlib.pyplot as plt\n",
    "utilities.set_plot_style()"
   ]
  },
  {
   "cell_type": "markdown",
   "id": "eb2e7d7b-d3cf-49ff-8676-a73ed01a9dae",
   "metadata": {},
   "source": [
    "Start by looking at default 2mu2e sample with 2mu2e selection and matched dark photons."
   ]
  },
  {
   "cell_type": "code",
   "execution_count": 2,
   "id": "8b73a1ba-c7cc-48dd-acc2-5f73a0e3b19d",
   "metadata": {},
   "outputs": [],
   "source": [
    "samples = [\n",
    "    \"2Mu2E_100GeV_1p2GeV_9p6mm\",\n",
    "]\n",
    "fileset = utilities.make_fileset(samples, \"ffntuple_v4\")"
   ]
  },
  {
   "cell_type": "code",
   "execution_count": 3,
   "id": "98566459-ef05-47bc-a5cd-3b94c670c5ce",
   "metadata": {},
   "outputs": [
    {
     "data": {
      "application/vnd.jupyter.widget-view+json": {
       "model_id": "cebe8ce6649a4c3eac302e03ddbaff67",
       "version_major": 2,
       "version_minor": 0
      },
      "text/plain": [
       "Output()"
      ]
     },
     "metadata": {},
     "output_type": "display_data"
    },
    {
     "data": {
      "text/html": [
       "<pre style=\"white-space:pre;overflow-x:auto;line-height:normal;font-family:Menlo,'DejaVu Sans Mono',consolas,'Courier New',monospace\"></pre>\n"
      ],
      "text/plain": []
     },
     "metadata": {},
     "output_type": "display_data"
    },
    {
     "data": {
      "text/html": [
       "<pre style=\"white-space:pre;overflow-x:auto;line-height:normal;font-family:Menlo,'DejaVu Sans Mono',consolas,'Courier New',monospace\">\n",
       "</pre>\n"
      ],
      "text/plain": [
       "\n"
      ]
     },
     "metadata": {},
     "output_type": "display_data"
    },
    {
     "data": {
      "application/vnd.jupyter.widget-view+json": {
       "model_id": "06613c1a0af143d387c057e9037ac6fa",
       "version_major": 2,
       "version_minor": 0
      },
      "text/plain": [
       "Output()"
      ]
     },
     "metadata": {},
     "output_type": "display_data"
    },
    {
     "data": {
      "text/html": [
       "<pre style=\"white-space:pre;overflow-x:auto;line-height:normal;font-family:Menlo,'DejaVu Sans Mono',consolas,'Courier New',monospace\"></pre>\n"
      ],
      "text/plain": []
     },
     "metadata": {},
     "output_type": "display_data"
    },
    {
     "data": {
      "text/html": [
       "<pre style=\"white-space:pre;overflow-x:auto;line-height:normal;font-family:Menlo,'DejaVu Sans Mono',consolas,'Courier New',monospace\">\n",
       "</pre>\n"
      ],
      "text/plain": [
       "\n"
      ]
     },
     "metadata": {},
     "output_type": "display_data"
    },
    {
     "name": "stderr",
     "output_type": "stream",
     "text": [
      "concurrent.futures.process._RemoteTraceback: \n",
      "\"\"\"\n",
      "Traceback (most recent call last):\n",
      "  File \"/opt/conda/lib/python3.9/site-packages/coffea/processor/executor.py\", line 1654, in _work_function\n",
      "    out = processor_instance.process(events)\n",
      "  File \"/home/cms-jovyan/SIDM/sidm/studies/../../sidm/tools/sidm_processor.py\", line 78, in process\n",
      "    counts = ak.ones_like(objs[obj_name].x, dtype=np.int32)\n",
      "  File \"/opt/conda/lib/python3.9/site-packages/awkward/highlevel.py\", line 1123, in __getattr__\n",
      "    raise AttributeError(\n",
      "AttributeError: no field named 'x'\n",
      "\n",
      "(https://github.com/scikit-hep/awkward-1.0/blob/1.10.3/src/awkward/highlevel.py#L1124)\n",
      "\n",
      "The above exception was the direct cause of the following exception:\n",
      "\n",
      "Traceback (most recent call last):\n",
      "  File \"/opt/conda/lib/python3.9/concurrent/futures/process.py\", line 246, in _process_worker\n",
      "    r = call_item.fn(*call_item.args, **call_item.kwargs)\n",
      "  File \"/opt/conda/lib/python3.9/site-packages/coffea/processor/executor.py\", line 221, in __call__\n",
      "    out = self.function(*args, **kwargs)\n",
      "  File \"/opt/conda/lib/python3.9/site-packages/coffea/processor/executor.py\", line 1367, in automatic_retries\n",
      "    raise e\n",
      "  File \"/opt/conda/lib/python3.9/site-packages/coffea/processor/executor.py\", line 1336, in automatic_retries\n",
      "    return func(*args, **kwargs)\n",
      "  File \"/opt/conda/lib/python3.9/site-packages/coffea/processor/executor.py\", line 1656, in _work_function\n",
      "    raise Exception(f\"Failed processing file: {item!r}\") from e\n",
      "Exception: Failed processing file: WorkItem(dataset='2Mu2E_100GeV_1p2GeV_9p6mm', filename='root://xcache//store/group/lpcmetx/SIDM/ffNtupleV4/2018/SIDM_XXTo2ATo2Mu2E_mXX-100_mA-1p2_ctau-9p6_TuneCP5_13TeV-madgraph-pythia8/RunIIAutumn18DRPremix-102X_upgrade2018_realistic_v15-v1/210326_161703/0000/ffNtuple_3.root', treename='ffNtuplizer/ffNtuple', entrystart=0, entrystop=2457, fileuuid=b'D\\xe0\\xe2\\x8c\\x8eO\\x11\\xeb\\x8ch\\xeeI\\x9e\\x86\\xbe\\xef', usermeta={})\n",
      "\"\"\"\n",
      "\n",
      "The above exception was the direct cause of the following exception:\n",
      "\n",
      "Traceback (most recent call last):\n",
      "  File \"/opt/conda/lib/python3.9/site-packages/coffea/processor/executor.py\", line 786, in _processwith\n",
      "    merged = _watcher(FH, self, reducer, pool)\n",
      "  File \"/opt/conda/lib/python3.9/site-packages/coffea/processor/executor.py\", line 402, in _watcher\n",
      "    batch = FH.fetch(len(FH.completed))\n",
      "  File \"/opt/conda/lib/python3.9/site-packages/coffea/processor/executor.py\", line 286, in fetch\n",
      "    raise bad_futures[0].exception()\n",
      "Exception: Failed processing file: WorkItem(dataset='2Mu2E_100GeV_1p2GeV_9p6mm', filename='root://xcache//store/group/lpcmetx/SIDM/ffNtupleV4/2018/SIDM_XXTo2ATo2Mu2E_mXX-100_mA-1p2_ctau-9p6_TuneCP5_13TeV-madgraph-pythia8/RunIIAutumn18DRPremix-102X_upgrade2018_realistic_v15-v1/210326_161703/0000/ffNtuple_3.root', treename='ffNtuplizer/ffNtuple', entrystart=0, entrystop=2457, fileuuid=b'D\\xe0\\xe2\\x8c\\x8eO\\x11\\xeb\\x8ch\\xeeI\\x9e\\x86\\xbe\\xef', usermeta={})\n"
     ]
    },
    {
     "ename": "Exception",
     "evalue": "Failed processing file: WorkItem(dataset='2Mu2E_100GeV_1p2GeV_9p6mm', filename='root://xcache//store/group/lpcmetx/SIDM/ffNtupleV4/2018/SIDM_XXTo2ATo2Mu2E_mXX-100_mA-1p2_ctau-9p6_TuneCP5_13TeV-madgraph-pythia8/RunIIAutumn18DRPremix-102X_upgrade2018_realistic_v15-v1/210326_161703/0000/ffNtuple_3.root', treename='ffNtuplizer/ffNtuple', entrystart=0, entrystop=2457, fileuuid=b'D\\xe0\\xe2\\x8c\\x8eO\\x11\\xeb\\x8ch\\xeeI\\x9e\\x86\\xbe\\xef', usermeta={})",
     "output_type": "error",
     "traceback": [
      "\u001b[0;31m---------------------------------------------------------------------------\u001b[0m",
      "\u001b[0;31mException\u001b[0m                                 Traceback (most recent call last)",
      "Cell \u001b[0;32mIn[3], line 14\u001b[0m\n\u001b[1;32m      1\u001b[0m runner \u001b[38;5;241m=\u001b[39m processor\u001b[38;5;241m.\u001b[39mRunner(\n\u001b[1;32m      2\u001b[0m     \u001b[38;5;66;03m#executor=processor.IterativeExecutor(),\u001b[39;00m\n\u001b[1;32m      3\u001b[0m     executor\u001b[38;5;241m=\u001b[39mprocessor\u001b[38;5;241m.\u001b[39mFuturesExecutor(),\n\u001b[1;32m      4\u001b[0m     schema\u001b[38;5;241m=\u001b[39mffschema\u001b[38;5;241m.\u001b[39mFFSchema,\n\u001b[1;32m      5\u001b[0m )\n\u001b[1;32m      7\u001b[0m p \u001b[38;5;241m=\u001b[39m sidm_processor\u001b[38;5;241m.\u001b[39mSidmProcessor(\n\u001b[1;32m      8\u001b[0m     [\n\u001b[1;32m      9\u001b[0m         \u001b[38;5;124m\"\u001b[39m\u001b[38;5;124m2mu2e_matchedLj\u001b[39m\u001b[38;5;124m\"\u001b[39m,\n\u001b[1;32m     10\u001b[0m     ],\n\u001b[1;32m     11\u001b[0m     [\u001b[38;5;124m\"\u001b[39m\u001b[38;5;124mbase_plus_gen\u001b[39m\u001b[38;5;124m\"\u001b[39m]\n\u001b[1;32m     12\u001b[0m )\n\u001b[0;32m---> 14\u001b[0m output \u001b[38;5;241m=\u001b[39m \u001b[43mrunner\u001b[49m\u001b[38;5;241;43m.\u001b[39;49m\u001b[43mrun\u001b[49m\u001b[43m(\u001b[49m\u001b[43mfileset\u001b[49m\u001b[43m,\u001b[49m\u001b[43m \u001b[49m\u001b[43mtreename\u001b[49m\u001b[38;5;241;43m=\u001b[39;49m\u001b[38;5;124;43m\"\u001b[39;49m\u001b[38;5;124;43mffNtuplizer/ffNtuple\u001b[39;49m\u001b[38;5;124;43m\"\u001b[39;49m\u001b[43m,\u001b[49m\u001b[43m \u001b[49m\u001b[43mprocessor_instance\u001b[49m\u001b[38;5;241;43m=\u001b[39;49m\u001b[43mp\u001b[49m\u001b[43m)\u001b[49m\n\u001b[1;32m     15\u001b[0m hists \u001b[38;5;241m=\u001b[39m output[\u001b[38;5;124m\"\u001b[39m\u001b[38;5;124mout\u001b[39m\u001b[38;5;124m\"\u001b[39m][\u001b[38;5;124m\"\u001b[39m\u001b[38;5;124m2Mu2E_100GeV_1p2GeV_9p6mm\u001b[39m\u001b[38;5;124m\"\u001b[39m][\u001b[38;5;124m\"\u001b[39m\u001b[38;5;124mhists\u001b[39m\u001b[38;5;124m\"\u001b[39m]\n",
      "File \u001b[0;32m/opt/conda/lib/python3.9/site-packages/coffea/processor/executor.py:1848\u001b[0m, in \u001b[0;36mRunner.run\u001b[0;34m(self, fileset, processor_instance, treename)\u001b[0m\n\u001b[1;32m   1843\u001b[0m closure \u001b[38;5;241m=\u001b[39m partial(\n\u001b[1;32m   1844\u001b[0m     \u001b[38;5;28mself\u001b[39m\u001b[38;5;241m.\u001b[39mautomatic_retries, \u001b[38;5;28mself\u001b[39m\u001b[38;5;241m.\u001b[39mretries, \u001b[38;5;28mself\u001b[39m\u001b[38;5;241m.\u001b[39mskipbadfiles, closure\n\u001b[1;32m   1845\u001b[0m )\n\u001b[1;32m   1847\u001b[0m executor \u001b[38;5;241m=\u001b[39m \u001b[38;5;28mself\u001b[39m\u001b[38;5;241m.\u001b[39mexecutor\u001b[38;5;241m.\u001b[39mcopy(\u001b[38;5;241m*\u001b[39m\u001b[38;5;241m*\u001b[39mexe_args)\n\u001b[0;32m-> 1848\u001b[0m wrapped_out, e \u001b[38;5;241m=\u001b[39m \u001b[43mexecutor\u001b[49m\u001b[43m(\u001b[49m\u001b[43mchunks\u001b[49m\u001b[43m,\u001b[49m\u001b[43m \u001b[49m\u001b[43mclosure\u001b[49m\u001b[43m,\u001b[49m\u001b[43m \u001b[49m\u001b[38;5;28;43;01mNone\u001b[39;49;00m\u001b[43m)\u001b[49m\n\u001b[1;32m   1849\u001b[0m \u001b[38;5;28;01mif\u001b[39;00m wrapped_out \u001b[38;5;129;01mis\u001b[39;00m \u001b[38;5;28;01mNone\u001b[39;00m:\n\u001b[1;32m   1850\u001b[0m     \u001b[38;5;28;01mraise\u001b[39;00m \u001b[38;5;167;01mValueError\u001b[39;00m(\n\u001b[1;32m   1851\u001b[0m         \u001b[38;5;124m\"\u001b[39m\u001b[38;5;124mNo chunks returned results, verify ``processor`` instance structure.\u001b[39m\u001b[38;5;130;01m\\n\u001b[39;00m\u001b[38;5;130;01m\\\u001b[39;00m\n\u001b[1;32m   1852\u001b[0m \u001b[38;5;124m        if you used skipbadfiles=True, it is possible all your files are bad.\u001b[39m\u001b[38;5;124m\"\u001b[39m\n\u001b[1;32m   1853\u001b[0m     )\n",
      "File \u001b[0;32m/opt/conda/lib/python3.9/site-packages/coffea/processor/executor.py:817\u001b[0m, in \u001b[0;36mFuturesExecutor.__call__\u001b[0;34m(self, items, function, accumulator)\u001b[0m\n\u001b[1;32m    815\u001b[0m \u001b[38;5;28;01melse\u001b[39;00m:\n\u001b[1;32m    816\u001b[0m     mergepoolinstance \u001b[38;5;241m=\u001b[39m \u001b[38;5;28;01mNone\u001b[39;00m\n\u001b[0;32m--> 817\u001b[0m \u001b[38;5;28;01mreturn\u001b[39;00m \u001b[43m_processwith\u001b[49m\u001b[43m(\u001b[49m\u001b[43mpool\u001b[49m\u001b[38;5;241;43m=\u001b[39;49m\u001b[43mpoolinstance\u001b[49m\u001b[43m,\u001b[49m\u001b[43m \u001b[49m\u001b[43mmergepool\u001b[49m\u001b[38;5;241;43m=\u001b[39;49m\u001b[43mmergepoolinstance\u001b[49m\u001b[43m)\u001b[49m\n",
      "File \u001b[0;32m/opt/conda/lib/python3.9/site-packages/coffea/processor/executor.py:801\u001b[0m, in \u001b[0;36mFuturesExecutor.__call__.<locals>._processwith\u001b[0;34m(pool, mergepool)\u001b[0m\n\u001b[1;32m    799\u001b[0m     \u001b[38;5;28;01mreturn\u001b[39;00m accumulate([_decompress(merged), accumulator]), e\n\u001b[1;32m    800\u001b[0m \u001b[38;5;28;01melse\u001b[39;00m:\n\u001b[0;32m--> 801\u001b[0m     \u001b[38;5;28;01mraise\u001b[39;00m e \u001b[38;5;28;01mfrom\u001b[39;00m \u001b[38;5;28;01mNone\u001b[39;00m\n",
      "File \u001b[0;32m/opt/conda/lib/python3.9/site-packages/coffea/processor/executor.py:786\u001b[0m, in \u001b[0;36mFuturesExecutor.__call__.<locals>._processwith\u001b[0;34m(pool, mergepool)\u001b[0m\n\u001b[1;32m    784\u001b[0m \u001b[38;5;28;01mtry\u001b[39;00m:\n\u001b[1;32m    785\u001b[0m     \u001b[38;5;28;01mif\u001b[39;00m mergepool \u001b[38;5;129;01mis\u001b[39;00m \u001b[38;5;28;01mNone\u001b[39;00m:\n\u001b[0;32m--> 786\u001b[0m         merged \u001b[38;5;241m=\u001b[39m \u001b[43m_watcher\u001b[49m\u001b[43m(\u001b[49m\u001b[43mFH\u001b[49m\u001b[43m,\u001b[49m\u001b[43m \u001b[49m\u001b[38;5;28;43mself\u001b[39;49m\u001b[43m,\u001b[49m\u001b[43m \u001b[49m\u001b[43mreducer\u001b[49m\u001b[43m,\u001b[49m\u001b[43m \u001b[49m\u001b[43mpool\u001b[49m\u001b[43m)\u001b[49m\n\u001b[1;32m    787\u001b[0m     \u001b[38;5;28;01melse\u001b[39;00m:\n\u001b[1;32m    788\u001b[0m         merged \u001b[38;5;241m=\u001b[39m _watcher(FH, \u001b[38;5;28mself\u001b[39m, reducer, mergepool)\n",
      "File \u001b[0;32m/opt/conda/lib/python3.9/site-packages/coffea/processor/executor.py:402\u001b[0m, in \u001b[0;36m_watcher\u001b[0;34m(FH, executor, merge_fcn, pool)\u001b[0m\n\u001b[1;32m    396\u001b[0m             progress\u001b[38;5;241m.\u001b[39mupdate(\n\u001b[1;32m    397\u001b[0m                 p_idm,\n\u001b[1;32m    398\u001b[0m                 total\u001b[38;5;241m=\u001b[39mprogress\u001b[38;5;241m.\u001b[39m_tasks[p_idm]\u001b[38;5;241m.\u001b[39mtotal \u001b[38;5;241m+\u001b[39m \u001b[38;5;241m1\u001b[39m,\n\u001b[1;32m    399\u001b[0m                 refresh\u001b[38;5;241m=\u001b[39m\u001b[38;5;28;01mTrue\u001b[39;00m,\n\u001b[1;32m    400\u001b[0m             )\n\u001b[1;32m    401\u001b[0m     \u001b[38;5;28;01melse\u001b[39;00m:  \u001b[38;5;66;03m# Merge within process\u001b[39;00m\n\u001b[0;32m--> 402\u001b[0m         batch \u001b[38;5;241m=\u001b[39m \u001b[43mFH\u001b[49m\u001b[38;5;241;43m.\u001b[39;49m\u001b[43mfetch\u001b[49m\u001b[43m(\u001b[49m\u001b[38;5;28;43mlen\u001b[39;49m\u001b[43m(\u001b[49m\u001b[43mFH\u001b[49m\u001b[38;5;241;43m.\u001b[39;49m\u001b[43mcompleted\u001b[49m\u001b[43m)\u001b[49m\u001b[43m)\u001b[49m\n\u001b[1;32m    403\u001b[0m         merged \u001b[38;5;241m=\u001b[39m _compress(\n\u001b[1;32m    404\u001b[0m             accumulate(\n\u001b[1;32m    405\u001b[0m                 progress\u001b[38;5;241m.\u001b[39mtrack(\n\u001b[0;32m   (...)\u001b[0m\n\u001b[1;32m    412\u001b[0m             executor\u001b[38;5;241m.\u001b[39mcompression,\n\u001b[1;32m    413\u001b[0m         )\n\u001b[1;32m    414\u001b[0m \u001b[38;5;66;03m# Add checkpointing\u001b[39;00m\n",
      "File \u001b[0;32m/opt/conda/lib/python3.9/site-packages/coffea/processor/executor.py:286\u001b[0m, in \u001b[0;36m_FuturesHolder.fetch\u001b[0;34m(self, N)\u001b[0m\n\u001b[1;32m    284\u001b[0m bad_futures \u001b[38;5;241m=\u001b[39m [future \u001b[38;5;28;01mfor\u001b[39;00m future \u001b[38;5;129;01min\u001b[39;00m _completed \u001b[38;5;28;01mif\u001b[39;00m \u001b[38;5;129;01mnot\u001b[39;00m _good_future(future)]\n\u001b[1;32m    285\u001b[0m \u001b[38;5;28mself\u001b[39m\u001b[38;5;241m.\u001b[39mcompleted\u001b[38;5;241m.\u001b[39mupdate(good_futures)\n\u001b[0;32m--> 286\u001b[0m \u001b[38;5;28;01mraise\u001b[39;00m bad_futures[\u001b[38;5;241m0\u001b[39m]\u001b[38;5;241m.\u001b[39mexception()\n",
      "\u001b[0;31mException\u001b[0m: Failed processing file: WorkItem(dataset='2Mu2E_100GeV_1p2GeV_9p6mm', filename='root://xcache//store/group/lpcmetx/SIDM/ffNtupleV4/2018/SIDM_XXTo2ATo2Mu2E_mXX-100_mA-1p2_ctau-9p6_TuneCP5_13TeV-madgraph-pythia8/RunIIAutumn18DRPremix-102X_upgrade2018_realistic_v15-v1/210326_161703/0000/ffNtuple_3.root', treename='ffNtuplizer/ffNtuple', entrystart=0, entrystop=2457, fileuuid=b'D\\xe0\\xe2\\x8c\\x8eO\\x11\\xeb\\x8ch\\xeeI\\x9e\\x86\\xbe\\xef', usermeta={})"
     ]
    }
   ],
   "source": [
    "runner = processor.Runner(\n",
    "    #executor=processor.IterativeExecutor(),\n",
    "    executor=processor.FuturesExecutor(),\n",
    "    schema=ffschema.FFSchema,\n",
    ")\n",
    "\n",
    "p = sidm_processor.SidmProcessor(\n",
    "    [\n",
    "        \"2mu2e_matchedLj\",\n",
    "    ],\n",
    "    [\"base_plus_gen\"]\n",
    ")\n",
    "\n",
    "output = runner.run(fileset, treename=\"ffNtuplizer/ffNtuple\", processor_instance=p)\n",
    "hists = output[\"out\"][\"2Mu2E_100GeV_1p2GeV_9p6mm\"][\"hists\"]"
   ]
  },
  {
   "cell_type": "markdown",
   "id": "08ede53c-08d7-4a4e-95d4-c92a6f0a7575",
   "metadata": {},
   "source": [
    "First add basic pf e, pf mu, pf photon, and dsa mu hists"
   ]
  },
  {
   "cell_type": "code",
   "execution_count": null,
   "id": "83a80738-22ca-4b91-9b44-446ef4e3ed84",
   "metadata": {
    "tags": []
   },
   "outputs": [],
   "source": [
    "utilities.plot(hists[\"electron_n\"][\"2mu2e_matchedLj\", :])"
   ]
  },
  {
   "cell_type": "code",
   "execution_count": null,
   "id": "6903a69f-9f95-455f-8ba1-a9bf56976d4c",
   "metadata": {
    "tags": []
   },
   "outputs": [],
   "source": [
    "utilities.plot(hists[\"electron_pt\"][\"2mu2e_matchedLj\", :])"
   ]
  },
  {
   "cell_type": "code",
   "execution_count": null,
   "id": "7c9fbce5-dbb7-46e4-81bb-29ec9ea21375",
   "metadata": {
    "tags": []
   },
   "outputs": [],
   "source": [
    "utilities.plot(hists[\"electron_eta_phi\"][\"2mu2e_matchedLj\", :, :])"
   ]
  },
  {
   "cell_type": "code",
   "execution_count": null,
   "id": "8b0f7c4b-8eeb-4637-9560-e9ff337506be",
   "metadata": {
    "tags": []
   },
   "outputs": [],
   "source": [
    "utilities.plot(hists[\"electron_lj_dR\"][\"2mu2e_matchedLj\", :])"
   ]
  },
  {
   "cell_type": "code",
   "execution_count": null,
   "id": "0f408ef2-e890-483a-9c90-03a740fb1db9",
   "metadata": {
    "tags": []
   },
   "outputs": [],
   "source": [
    "utilities.plot(hists[\"electron_lj_dR_lowRange\"][\"2mu2e_matchedLj\", :])"
   ]
  },
  {
   "cell_type": "code",
   "execution_count": null,
   "id": "cf337065-34df-449e-a2c9-b1f867dfbbbd",
   "metadata": {
    "tags": []
   },
   "outputs": [],
   "source": [
    "utilities.plot(hists[\"photon_n\"][\"2mu2e_matchedLj\", :])"
   ]
  },
  {
   "cell_type": "code",
   "execution_count": null,
   "id": "c4d5d3ad-2929-4078-8ec2-2eba4014a06b",
   "metadata": {
    "tags": []
   },
   "outputs": [],
   "source": [
    "utilities.plot(hists[\"photon_pt\"][\"2mu2e_matchedLj\", :])"
   ]
  },
  {
   "cell_type": "code",
   "execution_count": null,
   "id": "29837f5b-8089-43ca-a580-3cb14d94b2d6",
   "metadata": {
    "tags": []
   },
   "outputs": [],
   "source": [
    "utilities.plot(hists[\"photon_eta_phi\"][\"2mu2e_matchedLj\", :, :])"
   ]
  },
  {
   "cell_type": "code",
   "execution_count": null,
   "id": "f2ef0634-8b1c-43ae-ad06-0f6000c0316e",
   "metadata": {
    "tags": []
   },
   "outputs": [],
   "source": [
    "utilities.plot(hists[\"photon_lj_dR\"][\"2mu2e_matchedLj\", :])"
   ]
  },
  {
   "cell_type": "code",
   "execution_count": null,
   "id": "e825c0b8-ca10-4eea-999e-2bb1e3fe28f7",
   "metadata": {
    "tags": []
   },
   "outputs": [],
   "source": [
    "utilities.plot(hists[\"photon_lj_dR_lowRange\"][\"2mu2e_matchedLj\", :])"
   ]
  },
  {
   "cell_type": "code",
   "execution_count": null,
   "id": "8caa6c64-6f37-4c16-8bd7-a9a54c1c93a4",
   "metadata": {
    "tags": []
   },
   "outputs": [],
   "source": [
    "utilities.plot(hists[\"photon_lj_dR_reallyLowRange\"][\"2mu2e_matchedLj\", :])"
   ]
  },
  {
   "cell_type": "code",
   "execution_count": null,
   "id": "f4601e8b-f77e-4e0b-b8ef-c33f64746fce",
   "metadata": {},
   "outputs": [],
   "source": [
    "utilities.plot(hists[\"muon_n\"][\"2mu2e_matchedLj\", :])"
   ]
  },
  {
   "cell_type": "code",
   "execution_count": null,
   "id": "0b995992-d66f-4092-a061-359fa7b4d4c2",
   "metadata": {},
   "outputs": [],
   "source": [
    "utilities.plot(hists[\"muon_pt\"][\"2mu2e_matchedLj\", :])"
   ]
  },
  {
   "cell_type": "code",
   "execution_count": null,
   "id": "1395e9ef-3be8-4239-be55-924946f69d5a",
   "metadata": {},
   "outputs": [],
   "source": [
    "utilities.plot(hists[\"muon_eta_phi\"][\"2mu2e_matchedLj\", :, :])"
   ]
  },
  {
   "cell_type": "code",
   "execution_count": null,
   "id": "d91a302f-843a-4e43-a283-c18f07ae6580",
   "metadata": {},
   "outputs": [],
   "source": [
    "utilities.plot(hists[\"muon_lj_dR\"][\"2mu2e_matchedLj\", :])"
   ]
  },
  {
   "cell_type": "code",
   "execution_count": null,
   "id": "2a9fcc2c-4a06-4ceb-843a-0c5188524f48",
   "metadata": {},
   "outputs": [],
   "source": [
    "utilities.plot(hists[\"muon_lj_dR_lowRange\"][\"2mu2e_matchedLj\", :])"
   ]
  },
  {
   "cell_type": "code",
   "execution_count": null,
   "id": "172d8dd3-2f04-48fe-acaf-7cc55da8b411",
   "metadata": {},
   "outputs": [],
   "source": [
    "utilities.plot(hists[\"dsaMuon_n\"][\"2mu2e_matchedLj\", :])"
   ]
  },
  {
   "cell_type": "code",
   "execution_count": null,
   "id": "6587de60-67c1-4039-acd8-b3b5ace30c46",
   "metadata": {},
   "outputs": [],
   "source": [
    "utilities.plot(hists[\"dsaMuon_pt\"][\"2mu2e_matchedLj\", :])"
   ]
  },
  {
   "cell_type": "code",
   "execution_count": null,
   "id": "17b13fd2-0dac-4d9e-a4e0-2b25a976d92f",
   "metadata": {},
   "outputs": [],
   "source": [
    "utilities.plot(hists[\"dsaMuon_eta_phi\"][\"2mu2e_matchedLj\", :, :])"
   ]
  },
  {
   "cell_type": "code",
   "execution_count": null,
   "id": "af297cd4-ae68-4beb-8944-547d171f257c",
   "metadata": {},
   "outputs": [],
   "source": [
    "utilities.plot(hists[\"dsaMuon_lj_dR\"][\"2mu2e_matchedLj\", :])"
   ]
  },
  {
   "cell_type": "code",
   "execution_count": null,
   "id": "b70b4d8e-1a58-442e-8acb-0d0f37e66f81",
   "metadata": {},
   "outputs": [],
   "source": [
    "utilities.plot(hists[\"dsaMuon_lj_dR_lowRange\"][\"2mu2e_matchedLj\", :])"
   ]
  },
  {
   "cell_type": "markdown",
   "id": "68378511-562d-4b08-a58f-6c3574c70fba",
   "metadata": {},
   "source": [
    "The photon hists in particular are interesting in that photon pT tends to ~= dark photon pT and dR(photon, LJ) tends to be exactly 0. I guess it makes sense that the majority of LJs whose constituents include photons are just a single reco photon from the dark photon decaying to two nearby electrons in ECAL. We've seen in the lj_resolution notebook that photon LJs appear to have much better pT resolution -- perhaps this is the cause."
   ]
  },
  {
   "cell_type": "markdown",
   "id": "08115b82-17e0-4d9f-bd21-766b10786afb",
   "metadata": {},
   "source": [
    "Next, I would be interested in looking at the following:\n",
    "- these same distributions after filtering the collections with pT, id, eta, and dR(LJ) criteria to only include potential LJ constituents\n",
    "- which particles LJs tend to be composed of (is it more or less always 2 mu, 2 e, or 1 photon, or are more complicated combinations possible/frequent?)\n",
    "- can I successfully match the reco e, mu, and photons with the gen dark photon daughters?\n",
    "- do LJs sometimes miss some of the gen dark photon daughters?"
   ]
  },
  {
   "cell_type": "code",
   "execution_count": null,
   "id": "4f172e1e-dbfb-4b9e-b84f-1552032d30cd",
   "metadata": {},
   "outputs": [],
   "source": []
  }
 ],
 "metadata": {
  "kernelspec": {
   "display_name": "Python 3 (ipykernel)",
   "language": "python",
   "name": "python3"
  },
  "language_info": {
   "codemirror_mode": {
    "name": "ipython",
    "version": 3
   },
   "file_extension": ".py",
   "mimetype": "text/x-python",
   "name": "python",
   "nbconvert_exporter": "python",
   "pygments_lexer": "ipython3",
   "version": "3.9.18"
  }
 },
 "nbformat": 4,
 "nbformat_minor": 5
}
