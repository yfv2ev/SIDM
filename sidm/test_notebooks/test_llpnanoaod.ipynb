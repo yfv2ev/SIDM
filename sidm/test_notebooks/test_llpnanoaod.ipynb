{
 "cells": [
  {
   "cell_type": "code",
<<<<<<< HEAD
   "execution_count": null,
   "id": "4f65b627",
=======
   "execution_count": 1,
   "id": "52d29d6f-4d6a-4f32-88d0-d52dae4d1826",
>>>>>>> refs/remotes/upstream/llpNanoAOD
   "metadata": {
    "tags": []
   },
   "outputs": [],
   "source": [
    "# python\n",
    "import sys\n",
    "import os\n",
    "import importlib\n",
    "# columnar analysis\n",
    "import awkward as ak\n",
    "from dask.distributed import Client\n",
    "from coffea.nanoevents import NanoEventsFactory, NanoAODSchema\n",
    "from coffea import processor\n",
    "# local\n",
    "sys.path.insert(1, os.path.join(sys.path[0], '../..')) # fixme: there must be a better way to handle this...\n",
    "from sidm.tools import sidm_processor, utilities, cutflow, scaleout\n",
    "# always reload local modules to pick up changes during development\n",
    "importlib.reload(sidm_processor)\n",
    "importlib.reload(utilities)\n",
    "importlib.reload(scaleout)\n",
    "# plotting\n",
    "import matplotlib.pyplot as plt\n",
    "utilities.set_plot_style()\n",
    "%matplotlib inline"
   ]
  },
  {
   "cell_type": "code",
   "execution_count": 2,
   "id": "4e5d1cf4",
   "metadata": {},
   "outputs": [],
   "source": [
    "bg_samples = [\n",
    "    \"TTJets\",\n",
    "]\n",
    "\n",
    "#######################################################\n",
    "SIDM_4mu_100GeV_0p25GeV_samples = [\n",
    "    \"4mu_100GeV_0p25GeV_0p02mm\",\n",
    "    \"4mu_100GeV_0p25GeV_0p2mm\",\n",
    "    \"4mu_100GeV_0p25GeV_2p0mm\",\n",
    "    \"4mu_100GeV_0p25GeV_10p0mm\",\n",
    "    \"4mu_100GeV_0p25GeV_20p0mm\",\n",
    "]\n",
    "SIDM_4mu_100GeV_1p2GeV_samples = [\n",
    "    \"4mu_100GeV_1p2GeV_0p096mm\",\n",
    "    \"4mu_100GeV_1p2GeV_0p96mm\",\n",
    "    \"4mu_100GeV_1p2GeV_9p6mm\",\n",
    "    \"4mu_100GeV_1p2GeV_48p0mm\",\n",
    "    \"4mu_100GeV_1p2GeV_96p0mm\",\n",
    "]\n",
    "SIDM_4mu_100GeV_5p0GeV_samples = [\n",
    "    \"4mu_100GeV_5p0GeV_0p4mm\",\n",
    "    \"4mu_100GeV_5p0GeV_4p0mm\",\n",
    "    \"4mu_100GeV_5p0GeV_40p0mm\", \n",
    "    \"4mu_100GeV_5p0GeV_200p0mm\",\n",
    "    \"4mu_100GeV_5p0GeV_400p0mm\",\n",
    "]\n",
    "#######################################################\n",
    "SIDM_4mu_150GeV_0p25GeV_samples = [\n",
    "    \"4mu_150GeV_0p25GeV_0p013mm\",\n",
    "    \"4mu_150GeV_0p25GeV_0p13mm\",\n",
    "    \"4mu_150GeV_0p25GeV_1p3mm\",\n",
    "    \"4mu_150GeV_0p25GeV_6p7mm\",\n",
    "    \"4mu_150GeV_0p25GeV_13p0mm\",\n",
    "]\n",
    "SIDM_4mu_150GeV_1p2GeV_samples = [\n",
    "    \"4mu_150GeV_1p2GeV_0p064mm\",\n",
    "    \"4mu_150GeV_1p2GeV_0p64mm\",\n",
    "    \"4mu_150GeV_1p2GeV_6p4mm\",\n",
    "    \"4mu_150GeV_1p2GeV_32p0mm\",\n",
    "    \"4mu_150GeV_1p2GeV_64p0mm\",\n",
    "]\n",
    "SIDM_4mu_150GeV_5p0GeV_samples = [\n",
    "    \"4mu_150GeV_5p0GeV_0p27mm\",\n",
    "    \"4mu_150GeV_5p0GeV_2p7mm\",\n",
    "    \"4mu_150GeV_5p0GeV_27p0mm\",\n",
    "    \"4mu_150GeV_5p0GeV_130p0mm\",\n",
    "    \"4mu_150GeV_5p0GeV_270p0mm\",\n",
    "]\n",
    "#######################################################\n",
    "SIDM_4mu_200GeV_0p25GeV_samples = [\n",
    "    \"4mu_200GeV_0p25GeV_0p01mm\",\n",
    "    \"4mu_200GeV_0p25GeV_0p1mm\",\n",
    "    \"4mu_200GeV_0p25GeV_1p0mm\",\n",
    "    \"4mu_200GeV_0p25GeV_5p0mm\",\n",
    "    \"4mu_200GeV_0p25GeV_10p0mm\",\n",
    "]\n",
    "SIDM_4mu_200GeV_1p2GeV_samples = [\n",
    "    \"4mu_200GeV_1p2GeV_0p048mm\",\n",
    "    \"4mu_200GeV_1p2GeV_0p48mm\",\n",
    "    \"4mu_200GeV_1p2GeV_4p8mm\",\n",
    "    \"4mu_200GeV_1p2GeV_24p0mm\",\n",
    "    \"4mu_200GeV_1p2GeV_48p0mm\",\n",
    "]\n",
    "SIDM_4mu_200GeV_5p0GeV_samples = [\n",
    "    \"4mu_200GeV_5p0GeV_0p2mm\",\n",
    "    \"4mu_200GeV_5p0GeV_2p0mm\",\n",
    "    \"4mu_200GeV_5p0GeV_20p0mm\",\n",
    "    \"4mu_200GeV_5p0GeV_100p0mm\",\n",
    "    \"4mu_200GeV_5p0GeV_200p0mm\",\n",
    "]\n",
    "#######################################################\n",
    "SIDM_4mu_500GeV_0p25GeV_samples = [\n",
    "    \"4mu_500GeV_0p25GeV_0p004mm\",\n",
    "    \"4mu_500GeV_0p25GeV_0p04mm\",\n",
    "    \"4mu_500GeV_0p25GeV_0p4mm\",\n",
    "    \"4mu_500GeV_0p25GeV_2p0mm\",\n",
    "    \"4mu_500GeV_0p25GeV_4p0mm\",\n",
    "]\n",
    "SIDM_4mu_500GeV_1p2GeV_samples = [\n",
    "    \"4mu_500GeV_1p2GeV_0p019mm\",\n",
    "    \"4mu_500GeV_1p2GeV_0p19mm\",\n",
    "    \"4mu_500GeV_1p2GeV_1p9mm\",\n",
    "    \"4mu_500GeV_1p2GeV_9p6mm\",\n",
    "    \"4mu_500GeV_1p2GeV_19p0mm\",\n",
    "]\n",
    "SIDM_4mu_500GeV_5p0GeV_samples = [\n",
    "    \"4mu_500GeV_5p0GeV_0p08mm\",\n",
    "    \"4mu_500GeV_5p0GeV_0p8mm\",\n",
    "    \"4mu_500GeV_5p0GeV_8p0mm\",\n",
    "    \"4mu_500GeV_5p0GeV_40p0mm\",\n",
    "    \"4mu_500GeV_5p0GeV_80p0mm\",\n",
    "    \n",
    "    #\"4mu_500GeV_5p0GeV_800p0mm\",\n",
    "    #\"4mu_500GeV_5p0GeV_8000p0mm\", these are also here as long Lxy tests\n",
    "]\n",
    "#######################################################\n",
    "SIDM_4mu_800GeV_0p25GeV_samples = [\n",
    "    \"4mu_800GeV_0p25GeV_0p0025mm\",\n",
    "    \"4mu_800GeV_0p25GeV_0p025mm\",\n",
    "    \"4mu_800GeV_0p25GeV_0p25mm\",\n",
    "    \"4mu_800GeV_0p25GeV_1p2mm\",\n",
    "    \"4mu_800GeV_0p25GeV_2p5mm\",\n",
    "]\n",
    "SIDM_4mu_800GeV_1p2GeV_samples = [\n",
    "    \"4mu_800GeV_1p2GeV_0p012mm\",\n",
    "    \"4mu_800GeV_1p2GeV_0p12mm\",\n",
    "    \"4mu_800GeV_1p2GeV_1p2mm\",\n",
    "    \"4mu_800GeV_1p2GeV_6p0mm\",\n",
    "    \"4mu_800GeV_1p2GeV_12p0mm\",\n",
    "]\n",
    "SIDM_4mu_800GeV_5p0GeV_samples = [\n",
    "    \"4mu_800GeV_5p0GeV_0p05mm\",\n",
    "    \"4mu_800GeV_5p0GeV_0p5mm\",\n",
    "    \"4mu_800GeV_5p0GeV_5p0mm\",\n",
    "    \"4mu_800GeV_5p0GeV_25p0mm\",\n",
    "    \"4mu_800GeV_5p0GeV_50p0mm\",\n",
    "]\n",
    "#######################################################\n",
    "SIDM_4mu_1000GeV_0p25GeV_samples = [ # getting keyErrors on all of these; I think they might be empty\n",
    "    \"4mu_1000GeV_0p25GeV_0p002mm\", # Running gives \"cannot unpack non-iterable NoneType object\"\n",
    "    \"4mu_1000GeV_0p25GeV_0p02mm\",\n",
    "    \"4mu_1000GeV_0p25GeV_0p2mm\",\n",
    "    \"4mu_1000GeV_0p25GeV_1p0mm\",\n",
    "    \"4mu_1000GeV_0p25GeV_2p0mm\",\n",
    "]\n",
    "SIDM_4mu_1000GeV_1p2GeV_samples = [ # these also give keyErrors\n",
    "    \"4mu_1000GeV_1p2GeV_0p0096mm\",\n",
    "    \"4mu_1000GeV_1p2GeV_0p096mm\",\n",
    "    \"4mu_1000GeV_1p2GeV_0p96mm\",\n",
    "    \"4mu_1000GeV_1p2GeV_4p8mm\",\n",
    "    \"4mu_1000GeV_1p2GeV_9p6mm\",\n",
    "]\n",
    "SIDM_4mu_1000GeV_5p0GeV_samples = [\n",
    "    \"4mu_1000GeV_5p0GeV_0p04mm\",\n",
    "    \"4mu_1000GeV_5p0GeV_0p4mm\",\n",
    "    \"4mu_1000GeV_5p0GeV_4p0mm\",\n",
    "    \"4mu_1000GeV_5p0GeV_20p0mm\",\n",
    "    \"4mu_1000GeV_5p0GeV_40p0mm\",\n",
    "]\n",
    "#######################################################\n",
    "\n",
    "\n",
    "SIDM_4mu_100GeV_samples = []\n",
    "SIDM_4mu_100GeV_samples = SIDM_4mu_100GeV_samples + SIDM_4mu_100GeV_0p25GeV_samples + SIDM_4mu_100GeV_1p2GeV_samples + SIDM_4mu_100GeV_5p0GeV_samples\n",
    "\n",
    "SIDM_4mu_150GeV_samples = []\n",
    "SIDM_4mu_150GeV_samples = SIDM_4mu_150GeV_samples + SIDM_4mu_150GeV_0p25GeV_samples + SIDM_4mu_150GeV_1p2GeV_samples + SIDM_4mu_150GeV_5p0GeV_samples\n",
    "\n",
    "SIDM_4mu_200GeV_samples = []\n",
    "SIDM_4mu_200GeV_samples = SIDM_4mu_200GeV_samples + SIDM_4mu_200GeV_0p25GeV_samples + SIDM_4mu_200GeV_1p2GeV_samples + SIDM_4mu_200GeV_5p0GeV_samples\n",
    "\n",
    "SIDM_4mu_500GeV_samples = []\n",
    "SIDM_4mu_500GeV_samples = SIDM_4mu_500GeV_samples + SIDM_4mu_500GeV_0p25GeV_samples + SIDM_4mu_500GeV_1p2GeV_samples + SIDM_4mu_500GeV_5p0GeV_samples\n",
    "\n",
    "SIDM_4mu_800GeV_samples = []\n",
    "SIDM_4mu_800GeV_samples = SIDM_4mu_800GeV_samples + SIDM_4mu_800GeV_0p25GeV_samples + SIDM_4mu_800GeV_1p2GeV_samples + SIDM_4mu_800GeV_5p0GeV_samples\n",
    "\n",
    "SIDM_4mu_1000GeV_samples = []\n",
    "SIDM_4mu_1000GeV_samples = SIDM_4mu_1000GeV_samples + SIDM_4mu_1000GeV_0p25GeV_samples + SIDM_4mu_1000GeV_1p2GeV_samples + SIDM_4mu_1000GeV_5p0GeV_samples\n",
    "\n",
    "samples_sublists = [\n",
    "    #SIDM_4mu_100GeV_0p25GeV_samples, SIDM_4mu_100GeV_1p2GeV_samples, SIDM_4mu_100GeV_5p0GeV_samples, \n",
    "    #SIDM_4mu_150GeV_0p25GeV_samples, SIDM_4mu_150GeV_1p2GeV_samples, SIDM_4mu_150GeV_5p0GeV_samples,\n",
    "    #SIDM_4mu_200GeV_0p25GeV_samples, SIDM_4mu_200GeV_1p2GeV_samples, SIDM_4mu_200GeV_5p0GeV_samples, \n",
    "    #SIDM_4mu_500GeV_0p25GeV_samples, SIDM_4mu_500GeV_1p2GeV_samples, SIDM_4mu_500GeV_5p0GeV_samples,\n",
    "    SIDM_4mu_800GeV_0p25GeV_samples, SIDM_4mu_800GeV_1p2GeV_samples, SIDM_4mu_800GeV_5p0GeV_samples,\n",
    "    #SIDM_4mu_1000GeV_0p25GeV_samples, \n",
    "    #SIDM_4mu_1000GeV_1p2GeV_samples, # These two groups don't work at all\n",
    "    #SIDM_4mu_1000GeV_5p0GeV_samples,\n",
    "    ]"
   ]
  },
  {
   "cell_type": "code",
   "execution_count": 3,
   "id": "21da5d67",
   "metadata": {
    "tags": []
   },
   "outputs": [],
   "source": [
    "#fname = '~/local_data/tta_mAlp-0p35GeV_ctau-1e3mm_part-0.root'\n",
    "samples = [   \n",
    "    #\"4mu_500GeV_5GeV_0p08mm\", # testing v1\n",
    "    #\"4mu_500GeV_5GeV_0p08mm\", # testing v2\n",
    "]\n",
    "#samples = samples + bg_samples\n",
    "for sublist in samples_sublists:\n",
    "    samples = samples + sublist\n",
    "\n",
    "merged_samples = [\n",
    "    \"4mu_500GeV_5GeV_0p08mm\",\n",
    "    \"4mu_500GeV_5GeV_0p8mm\",\n",
    "    \"4mu_500GeV_5GeV_8p0mm\",\n",
    "    \"4mu_500GeV_5GeV_40p0mm\",\n",
    "    \"4mu_500GeV_5GeV_80p0mm\"\n",
    "]\n",
    "\n",
    "fileset = utilities.make_fileset(samples, \"llpNanoAOD_v2\", max_files=1)\n",
    "#fileset = utilities.make_fileset(merged_samples, \"llpNanoAOD_v2_merged\")\n",
    "\n",
    "# create events collection from single file\n",
    "fname = fileset[samples[0]][0]\n",
    "events = NanoEventsFactory.from_root(\n",
    "    fname,\n",
    "    schemaclass=NanoAODSchema,\n",
    ").events()"
   ]
  },
  {
   "cell_type": "code",
   "execution_count": 4,
   "id": "fc568b83",
   "metadata": {
    "tags": []
   },
   "outputs": [],
   "source": [
    "fnames = [fileset[sample] for sample in samples]\n",
    "#for name in fnames:\n",
    "    #print(name[0])"
   ]
  },
  {
   "cell_type": "code",
   "execution_count": 14,
   "id": "bbf12a5e",
   "metadata": {
    "tags": []
   },
   "outputs": [
    {
     "name": "stdout",
     "output_type": "stream",
     "text": [
      "{0.0, 1.0, 2.0, 3.0, 4.0}\n",
      "[{idx: 0, pt: 60.7, ptErr: 14.5, eta: 1.85, ... nDTSegments: 0, nCSCSegments: 4}]\n",
      "[Muon, Muon, Muon, Muon, Muon]\n"
     ]
    },
    {
     "data": {
      "text/plain": [
       "<Array [[71, 72, 71], [58]] type='2 * var * int64'>"
      ]
     },
     "execution_count": 14,
     "metadata": {},
     "output_type": "execute_result"
    }
   ],
   "source": [
    "#print(events.DSAMuon.muonMatch1[0])\n",
    "#print(set(ak.flatten(events.DSAMuon.muonMatch1idx)))\n",
    "#print(events.DSAMuon[0])\n",
    "#print(events.Muon[0])\n",
    "#print(events.Muon[ak.values_astype(events.DSAMuon.muonMatch1idx, \"int64\")])\n",
    "a = ak.Array([[0, 1, 0], [1]])\n",
    "b = ak.Array([[71, 72], [59, 58, 57]])\n",
    "b[a]"
   ]
  },
  {
   "cell_type": "code",
   "execution_count": 15,
   "id": "eba6b9aa",
   "metadata": {
    "tags": []
   },
   "outputs": [
    {
     "name": "stdout",
     "output_type": "stream",
     "text": [
      "[[4, 4, 0, 4, 0], [3, 3, 3, 4, 0], [4, 3, ... 4, 3, 3], [2, 4, 4, 4], [4, 3, 4, 3]]\n",
      "[[1.72, 1.59, 1.76, 1.63, 0.0259], [-2.76, ... -2.2], [-2.9, 2.83, 2.79, -2.96]]\n"
     ]
    }
   ],
   "source": [
    "#print(events.DSAMuon.muonMatch1)\n",
    "#print(events.DSAMuon.muonMatch1idx)\n",
    "#print(ak.flatten(events.DSAMuon.muonMatch1idx))\n",
    "#print(events.DSAMuon.outerPhi)\n",
    "#print(events.Muon.outerPhi)\n",
    "#print(events.Muon[ak.values_astype(events.DSAMuon.muonMatch1idx, \"int64\")].outerPhi)\n",
    "#utilities.dR_outer(events.DSAMuon, events.Muon[ak.values_astype(events.DSAMuon.muonMatch1idx, \"int64\")])"
   ]
  },
  {
   "cell_type": "code",
   "execution_count": 16,
   "id": "a3be02e0",
   "metadata": {
    "tags": []
   },
   "outputs": [
    {
     "name": "stdout",
     "output_type": "stream",
     "text": [
      "[[{idx: 0, pt: 60.7, ptErr: 14.5, eta: 1.85, ... nDTSegments: 0, nCSCSegments: 3}]]\n"
     ]
    }
   ],
   "source": [
    "#from coffea.nanoevents.schemas.base import zip_forms\n",
    "from coffea.nanoevents.methods import vector as cvec\n",
    "from coffea.nanoevents.methods import nanoaod\n",
    "#print(events.Muon)\n",
    "#print([events.DSAMuon[x] for x in [\"pt\", \"eta\"]])\n",
    "print(events.DSAMuon)\n",
    "forms = {f : events.DSAMuon[f] for f in events.DSAMuon.fields}\n",
    "events.DSAMuon = ak.zip(forms, with_name=\"Muon\", behavior=nanoaod.behavior)\n",
    "#print(events.DSAMuon)\n",
    "#print(events.DSAMuon.nearest(events.Muon))"
   ]
  },
  {
   "cell_type": "code",
   "execution_count": 17,
   "id": "df65f05c",
   "metadata": {
    "scrolled": true,
    "tags": []
   },
   "outputs": [
    {
     "data": {
      "application/vnd.jupyter.widget-view+json": {
<<<<<<< HEAD
       "model_id": "29a6487b57284b4f878c80231e37729e",
=======
       "model_id": "0a16959af9d242f4ac511415b29c31e3",
>>>>>>> refs/remotes/upstream/llpNanoAOD
       "version_major": 2,
       "version_minor": 0
      },
      "text/plain": [
       "Output()"
      ]
     },
     "metadata": {},
     "output_type": "display_data"
    },
    {
     "data": {
      "text/html": [
       "<pre style=\"white-space:pre;overflow-x:auto;line-height:normal;font-family:Menlo,'DejaVu Sans Mono',consolas,'Courier New',monospace\"></pre>\n"
      ],
      "text/plain": []
     },
     "metadata": {},
     "output_type": "display_data"
    },
    {
     "data": {
      "text/html": [
       "<pre style=\"white-space:pre;overflow-x:auto;line-height:normal;font-family:Menlo,'DejaVu Sans Mono',consolas,'Courier New',monospace\">\n",
       "</pre>\n"
      ],
      "text/plain": [
       "\n"
      ]
     },
     "metadata": {},
     "output_type": "display_data"
    },
    {
     "data": {
      "application/vnd.jupyter.widget-view+json": {
<<<<<<< HEAD
       "model_id": "ff9df8dec4c3430b808f2f389683af47",
=======
       "model_id": "0d7e62b4c6b34c669f0ddd998457139b",
>>>>>>> refs/remotes/upstream/llpNanoAOD
       "version_major": 2,
       "version_minor": 0
      },
      "text/plain": [
       "Output()"
      ]
     },
     "metadata": {},
     "output_type": "display_data"
    },
    {
     "name": "stdout",
     "output_type": "stream",
     "text": [
      "Not applying any cuts to the lepton jets for channel baseNoLj\n"
     ]
    },
    {
<<<<<<< HEAD
     "name": "stderr",
     "output_type": "stream",
     "text": [
      "/opt/conda/lib/python3.9/site-packages/awkward/_connect/_numpy.py:195: RuntimeWarning: divide by zero encountered in divide\n",
      "  result = getattr(ufunc, method)(\n",
      "/opt/conda/lib/python3.9/site-packages/awkward/_connect/_numpy.py:195: RuntimeWarning: invalid value encountered in divide\n",
      "  result = getattr(ufunc, method)(\n"
     ]
=======
     "data": {
      "text/html": [
       "<pre style=\"white-space:pre;overflow-x:auto;line-height:normal;font-family:Menlo,'DejaVu Sans Mono',consolas,'Courier New',monospace\">Not applying any obj cuts after lj clustering for channel  baseNoLj\n",
       "</pre>\n"
      ],
      "text/plain": [
       "Not applying any obj cuts after lj clustering for channel  baseNoLj\n"
      ]
     },
     "metadata": {},
     "output_type": "display_data"
    },
    {
     "data": {
      "text/html": [
       "<pre style=\"white-space:pre;overflow-x:auto;line-height:normal;font-family:Menlo,'DejaVu Sans Mono',consolas,'Courier New',monospace\">/opt/conda/lib/python3.9/site-packages/awkward/_connect/_numpy.py:195: RuntimeWarning: invalid value encountered in\n",
       "divide\n",
       "  result = getattr(ufunc, method)(\n",
       "</pre>\n"
      ],
      "text/plain": [
       "/opt/conda/lib/python3.9/site-packages/awkward/_connect/_numpy.py:195: RuntimeWarning: invalid value encountered in\n",
       "divide\n",
       "  result = getattr(ufunc, method)(\n"
      ]
     },
     "metadata": {},
     "output_type": "display_data"
>>>>>>> refs/remotes/upstream/llpNanoAOD
    },
    {
     "name": "stdout",
     "output_type": "stream",
     "text": [
      "#--------------------------------------------------------------------------\n",
      "#                         FastJet release 3.4.0\n",
      "#                 M. Cacciari, G.P. Salam and G. Soyez                  \n",
      "#     A software package for jet finding and analysis at colliders      \n",
      "#                           http://fastjet.fr                           \n",
      "#\t                                                                      \n",
      "# Please cite EPJC72(2012)1896 [arXiv:1111.6097] if you use this package\n",
      "# for scientific work and optionally PLB641(2006)57 [hep-ph/0512210].   \n",
      "#                                                                       \n",
      "# FastJet is provided without warranty under the GNU GPL v2 or higher.  \n",
      "# It uses T. Chan's closest pair algorithm, S. Fortune's Voronoi code,\n",
      "# CGAL and 3rd party plugin jet algorithms. See COPYING file for details.\n",
      "#--------------------------------------------------------------------------\n",
      "Not applying any cuts to the lepton jets for channel baseNoLj\n",
      "Not applying any cuts to the lepton jets for channel baseNoLj\n",
      "Not applying any cuts to the lepton jets for channel baseNoLj\n",
      "Not applying any cuts to the lepton jets for channel baseNoLj\n",
      "Not applying any cuts to the lepton jets for channel baseNoLj\n",
      "Not applying any cuts to the lepton jets for channel baseNoLj\n",
      "Not applying any cuts to the lepton jets for channel baseNoLj\n",
      "Not applying any cuts to the lepton jets for channel baseNoLj\n",
      "Not applying any cuts to the lepton jets for channel baseNoLj\n",
      "Not applying any cuts to the lepton jets for channel baseNoLj\n",
      "Not applying any cuts to the lepton jets for channel baseNoLj\n",
      "Not applying any cuts to the lepton jets for channel baseNoLj\n",
      "Not applying any cuts to the lepton jets for channel baseNoLj\n",
      "Not applying any cuts to the lepton jets for channel baseNoLj\n"
     ]
    },
    {
     "data": {
      "text/html": [
<<<<<<< HEAD
       "<pre style=\"white-space:pre;overflow-x:auto;line-height:normal;font-family:Menlo,'DejaVu Sans Mono',consolas,'Courier New',monospace\"></pre>\n"
      ],
      "text/plain": []
     },
     "metadata": {},
     "output_type": "display_data"
    },
    {
     "data": {
      "text/html": [
       "<pre style=\"white-space:pre;overflow-x:auto;line-height:normal;font-family:Menlo,'DejaVu Sans Mono',consolas,'Courier New',monospace\">\n",
       "</pre>\n"
      ],
      "text/plain": [
       "\n"
      ]
     },
     "metadata": {},
     "output_type": "display_data"
    }
   ],
   "source": [
    "runner = processor.Runner(\n",
    "    #executor=processor.IterativeExecutor(),\n",
    "    #executor=processor.DaskExecutor(),\n",
    "    executor=processor.FuturesExecutor(),\n",
    "    schema=NanoAODSchema,\n",
    "    # maxchunks=1,\n",
    ")\n",
    "\n",
    "hist_menu = utilities.load_yaml(\"../configs/hist_collections.yaml\")\n",
    "hist_choice = \"base\"\n",
    "collection = utilities.flatten(hist_menu[hist_choice]) #To change the histograms used, swap \"base\" for the other collections\n",
    "p = sidm_processor.SidmProcessor(\n",
    "    [\n",
    "        \"baseNoLj\",\n",
    "        \"llpnano\",\n",
    "        \"llpnano_4mu\",\n",
    "        \"llpnano_3lj\",\n",
    "        \"matchedLj\"\n",
    "        #\"4mu\",\n",
    "        #\"4mutest\",\n",
    "        #\"barrelE_ID-DPhiIn\",\n",
    "    ],\n",
    "    [hist_choice],\n",
    "    lj_reco_choices=[\"0.4\"],\n",
    "    llpnanoaod=True,\n",
    ")\n",
    "\n",
    "output = runner.run(fileset, treename='Events', processor_instance=p)\n",
    "out = output[\"out\"]"
   ]
  },
  {
   "cell_type": "markdown",
   "id": "36bddc10",
   "metadata": {},
   "source": [
    "Issues with running llpNanoAODs:\n",
    "1. Seems like some of the v2 ntuple files don't work\n",
    "\n",
    "None of them can run channels 2mu2e or 4mu. --- I was able to make it work by adding an object-level cut on the muons (pT > 5 GeV). Not sure why this affected anything."
   ]
  },
  {
   "cell_type": "code",
   "execution_count": 18,
   "id": "be9d2e8e",
   "metadata": {
    "tags": []
   },
   "outputs": [
=======
       "<pre style=\"white-space:pre;overflow-x:auto;line-height:normal;font-family:Menlo,'DejaVu Sans Mono',consolas,'Courier New',monospace\">Warning: a histogram with the name genAs_toMu_pt_MuMudR_lowRange could not be filled and will be skipped\n",
       "</pre>\n"
      ],
      "text/plain": [
       "Warning: a histogram with the name genAs_toMu_pt_MuMudR_lowRange could not be filled and will be skipped\n"
      ]
     },
     "metadata": {},
     "output_type": "display_data"
    },
    {
     "data": {
      "text/html": [
       "<pre style=\"white-space:pre;overflow-x:auto;line-height:normal;font-family:Menlo,'DejaVu Sans Mono',consolas,'Courier New',monospace\">Warning: a histogram with the name genAs_toMu_pt_MuMudR_XLowRange could not be filled and will be skipped\n",
       "</pre>\n"
      ],
      "text/plain": [
       "Warning: a histogram with the name genAs_toMu_pt_MuMudR_XLowRange could not be filled and will be skipped\n"
      ]
     },
     "metadata": {},
     "output_type": "display_data"
    },
    {
     "data": {
      "text/html": [
       "<pre style=\"white-space:pre;overflow-x:auto;line-height:normal;font-family:Menlo,'DejaVu Sans Mono',consolas,'Courier New',monospace\">Warning: a histogram with the name genAs_toMu_pt_MuMudR_XXLowRange could not be filled and will be skipped\n",
       "</pre>\n"
      ],
      "text/plain": [
       "Warning: a histogram with the name genAs_toMu_pt_MuMudR_XXLowRange could not be filled and will be skipped\n"
      ]
     },
     "metadata": {},
     "output_type": "display_data"
    },
    {
     "data": {
      "text/html": [
       "<pre style=\"white-space:pre;overflow-x:auto;line-height:normal;font-family:Menlo,'DejaVu Sans Mono',consolas,'Courier New',monospace\">Warning: a histogram with the name genAs_toMu_lxy_MuMudR could not be filled and will be skipped\n",
       "</pre>\n"
      ],
      "text/plain": [
       "Warning: a histogram with the name genAs_toMu_lxy_MuMudR could not be filled and will be skipped\n"
      ]
     },
     "metadata": {},
     "output_type": "display_data"
    },
    {
     "data": {
      "text/html": [
       "<pre style=\"white-space:pre;overflow-x:auto;line-height:normal;font-family:Menlo,'DejaVu Sans Mono',consolas,'Courier New',monospace\">Warning: a histogram with the name genAs_toMu_lxy_MuMudR_XLowRange could not be filled and will be skipped\n",
       "</pre>\n"
      ],
      "text/plain": [
       "Warning: a histogram with the name genAs_toMu_lxy_MuMudR_XLowRange could not be filled and will be skipped\n"
      ]
     },
     "metadata": {},
     "output_type": "display_data"
    },
    {
     "data": {
      "text/html": [
       "<pre style=\"white-space:pre;overflow-x:auto;line-height:normal;font-family:Menlo,'DejaVu Sans Mono',consolas,'Courier New',monospace\">Warning: a histogram with the name genAs_toMu_lxy_MuMudR_XXLowRange could not be filled and will be skipped\n",
       "</pre>\n"
      ],
      "text/plain": [
       "Warning: a histogram with the name genAs_toMu_lxy_MuMudR_XXLowRange could not be filled and will be skipped\n"
      ]
     },
     "metadata": {},
     "output_type": "display_data"
    },
    {
     "data": {
      "text/html": [
       "<pre style=\"white-space:pre;overflow-x:auto;line-height:normal;font-family:Menlo,'DejaVu Sans Mono',consolas,'Courier New',monospace\">Warning: a histogram with the name genAs_toMu_pt_MuMudR_highRange could not be filled and will be skipped\n",
       "</pre>\n"
      ],
      "text/plain": [
       "Warning: a histogram with the name genAs_toMu_pt_MuMudR_highRange could not be filled and will be skipped\n"
      ]
     },
     "metadata": {},
     "output_type": "display_data"
    },
    {
     "data": {
      "text/html": [
       "<pre style=\"white-space:pre;overflow-x:auto;line-height:normal;font-family:Menlo,'DejaVu Sans Mono',consolas,'Courier New',monospace\">Warning: a histogram with the name genAs_toMu_pt_highRange_MuMudR_lowRange could not be filled and will be skipped\n",
       "</pre>\n"
      ],
      "text/plain": [
       "Warning: a histogram with the name genAs_toMu_pt_highRange_MuMudR_lowRange could not be filled and will be skipped\n"
      ]
     },
     "metadata": {},
     "output_type": "display_data"
    },
    {
     "data": {
      "text/html": [
       "<pre style=\"white-space:pre;overflow-x:auto;line-height:normal;font-family:Menlo,'DejaVu Sans Mono',consolas,'Courier New',monospace\">Warning: a histogram with the name genAs_toE_n could not be filled and will be skipped\n",
       "</pre>\n"
      ],
      "text/plain": [
       "Warning: a histogram with the name genAs_toE_n could not be filled and will be skipped\n"
      ]
     },
     "metadata": {},
     "output_type": "display_data"
    },
    {
     "data": {
      "text/html": [
       "<pre style=\"white-space:pre;overflow-x:auto;line-height:normal;font-family:Menlo,'DejaVu Sans Mono',consolas,'Courier New',monospace\">Warning: a histogram with the name genAs_toE_pt could not be filled and will be skipped\n",
       "</pre>\n"
      ],
      "text/plain": [
       "Warning: a histogram with the name genAs_toE_pt could not be filled and will be skipped\n"
      ]
     },
     "metadata": {},
     "output_type": "display_data"
    },
    {
     "data": {
      "text/html": [
       "<pre style=\"white-space:pre;overflow-x:auto;line-height:normal;font-family:Menlo,'DejaVu Sans Mono',consolas,'Courier New',monospace\">Warning: a histogram with the name genAs_toE_lxy could not be filled and will be skipped\n",
       "</pre>\n"
      ],
      "text/plain": [
       "Warning: a histogram with the name genAs_toE_lxy could not be filled and will be skipped\n"
      ]
     },
     "metadata": {},
     "output_type": "display_data"
    },
    {
     "data": {
      "text/html": [
       "<pre style=\"white-space:pre;overflow-x:auto;line-height:normal;font-family:Menlo,'DejaVu Sans Mono',consolas,'Courier New',monospace\">Warning: a histogram with the name genAs_toE_lxy_lowRange could not be filled and will be skipped\n",
       "</pre>\n"
      ],
      "text/plain": [
       "Warning: a histogram with the name genAs_toE_lxy_lowRange could not be filled and will be skipped\n"
      ]
     },
     "metadata": {},
     "output_type": "display_data"
    },
    {
     "data": {
      "text/html": [
       "<pre style=\"white-space:pre;overflow-x:auto;line-height:normal;font-family:Menlo,'DejaVu Sans Mono',consolas,'Courier New',monospace\">Warning: a histogram with the name genAs_toE_lxy_midRange could not be filled and will be skipped\n",
       "</pre>\n"
      ],
      "text/plain": [
       "Warning: a histogram with the name genAs_toE_lxy_midRange could not be filled and will be skipped\n"
      ]
     },
     "metadata": {},
     "output_type": "display_data"
    },
    {
     "data": {
      "text/html": [
       "<pre style=\"white-space:pre;overflow-x:auto;line-height:normal;font-family:Menlo,'DejaVu Sans Mono',consolas,'Courier New',monospace\">Warning: a histogram with the name genAs_toE_lxy_ecal could not be filled and will be skipped\n",
       "</pre>\n"
      ],
      "text/plain": [
       "Warning: a histogram with the name genAs_toE_lxy_ecal could not be filled and will be skipped\n"
      ]
     },
     "metadata": {},
     "output_type": "display_data"
    },
    {
     "data": {
      "text/html": [
       "<pre style=\"white-space:pre;overflow-x:auto;line-height:normal;font-family:Menlo,'DejaVu Sans Mono',consolas,'Courier New',monospace\">Warning: a histogram with the name genAs_toE_pt_highRange could not be filled and will be skipped\n",
       "</pre>\n"
      ],
      "text/plain": [
       "Warning: a histogram with the name genAs_toE_pt_highRange could not be filled and will be skipped\n"
      ]
     },
     "metadata": {},
     "output_type": "display_data"
    },
    {
     "data": {
      "text/html": [
       "<pre style=\"white-space:pre;overflow-x:auto;line-height:normal;font-family:Menlo,'DejaVu Sans Mono',consolas,'Courier New',monospace\">Warning: a histogram with the name genAs_toE_eta could not be filled and will be skipped\n",
       "</pre>\n"
      ],
      "text/plain": [
       "Warning: a histogram with the name genAs_toE_eta could not be filled and will be skipped\n"
      ]
     },
     "metadata": {},
     "output_type": "display_data"
    },
    {
     "data": {
      "text/html": [
       "<pre style=\"white-space:pre;overflow-x:auto;line-height:normal;font-family:Menlo,'DejaVu Sans Mono',consolas,'Courier New',monospace\">Warning: a histogram with the name genAs_toE_pt_EEdR_lowRange could not be filled and will be skipped\n",
       "</pre>\n"
      ],
      "text/plain": [
       "Warning: a histogram with the name genAs_toE_pt_EEdR_lowRange could not be filled and will be skipped\n"
      ]
     },
     "metadata": {},
     "output_type": "display_data"
    },
    {
     "data": {
      "text/html": [
       "<pre style=\"white-space:pre;overflow-x:auto;line-height:normal;font-family:Menlo,'DejaVu Sans Mono',consolas,'Courier New',monospace\">Warning: a histogram with the name genAs_toE_pt_EEdR_XLowRange could not be filled and will be skipped\n",
       "</pre>\n"
      ],
      "text/plain": [
       "Warning: a histogram with the name genAs_toE_pt_EEdR_XLowRange could not be filled and will be skipped\n"
      ]
     },
     "metadata": {},
     "output_type": "display_data"
    },
    {
     "data": {
      "text/html": [
       "<pre style=\"white-space:pre;overflow-x:auto;line-height:normal;font-family:Menlo,'DejaVu Sans Mono',consolas,'Courier New',monospace\">Warning: a histogram with the name genAs_toE_pt_EEdR_XXLowRange could not be filled and will be skipped\n",
       "</pre>\n"
      ],
      "text/plain": [
       "Warning: a histogram with the name genAs_toE_pt_EEdR_XXLowRange could not be filled and will be skipped\n"
      ]
     },
     "metadata": {},
     "output_type": "display_data"
    },
    {
     "data": {
      "text/html": [
       "<pre style=\"white-space:pre;overflow-x:auto;line-height:normal;font-family:Menlo,'DejaVu Sans Mono',consolas,'Courier New',monospace\">Warning: a histogram with the name genAs_toE_lxy_EEdR could not be filled and will be skipped\n",
       "</pre>\n"
      ],
      "text/plain": [
       "Warning: a histogram with the name genAs_toE_lxy_EEdR could not be filled and will be skipped\n"
      ]
     },
     "metadata": {},
     "output_type": "display_data"
    },
    {
     "data": {
      "text/html": [
       "<pre style=\"white-space:pre;overflow-x:auto;line-height:normal;font-family:Menlo,'DejaVu Sans Mono',consolas,'Courier New',monospace\">Warning: a histogram with the name genAs_toE_lxy_EEdR_XLowRange could not be filled and will be skipped\n",
       "</pre>\n"
      ],
      "text/plain": [
       "Warning: a histogram with the name genAs_toE_lxy_EEdR_XLowRange could not be filled and will be skipped\n"
      ]
     },
     "metadata": {},
     "output_type": "display_data"
    },
    {
     "data": {
      "text/html": [
       "<pre style=\"white-space:pre;overflow-x:auto;line-height:normal;font-family:Menlo,'DejaVu Sans Mono',consolas,'Courier New',monospace\">Warning: a histogram with the name genAs_toE_lxy_EEdR_XXLowRange could not be filled and will be skipped\n",
       "</pre>\n"
      ],
      "text/plain": [
       "Warning: a histogram with the name genAs_toE_lxy_EEdR_XXLowRange could not be filled and will be skipped\n"
      ]
     },
     "metadata": {},
     "output_type": "display_data"
    },
    {
     "data": {
      "text/html": [
       "<pre style=\"white-space:pre;overflow-x:auto;line-height:normal;font-family:Menlo,'DejaVu Sans Mono',consolas,'Courier New',monospace\">Warning: a histogram with the name genAs_toE_lxy_pt_lowRange could not be filled and will be skipped\n",
       "</pre>\n"
      ],
      "text/plain": [
       "Warning: a histogram with the name genAs_toE_lxy_pt_lowRange could not be filled and will be skipped\n"
      ]
     },
     "metadata": {},
     "output_type": "display_data"
    },
    {
     "data": {
      "text/html": [
       "<pre style=\"white-space:pre;overflow-x:auto;line-height:normal;font-family:Menlo,'DejaVu Sans Mono',consolas,'Courier New',monospace\">Warning: a histogram with the name genAs_toE_pt_lxy could not be filled and will be skipped\n",
       "</pre>\n"
      ],
      "text/plain": [
       "Warning: a histogram with the name genAs_toE_pt_lxy could not be filled and will be skipped\n"
      ]
     },
     "metadata": {},
     "output_type": "display_data"
    },
    {
     "data": {
      "text/html": [
       "<pre style=\"white-space:pre;overflow-x:auto;line-height:normal;font-family:Menlo,'DejaVu Sans Mono',consolas,'Courier New',monospace\">Warning: a histogram with the name genAs_toE_matched_egmLj_pt_lxy could not be filled and will be skipped\n",
       "</pre>\n"
      ],
      "text/plain": [
       "Warning: a histogram with the name genAs_toE_matched_egmLj_pt_lxy could not be filled and will be skipped\n"
      ]
     },
     "metadata": {},
     "output_type": "display_data"
    },
    {
     "data": {
      "text/html": [
       "<pre style=\"white-space:pre;overflow-x:auto;line-height:normal;font-family:Menlo,'DejaVu Sans Mono',consolas,'Courier New',monospace\">Warning: a histogram with the name genAs_toE_lj_dR could not be filled and will be skipped\n",
       "</pre>\n"
      ],
      "text/plain": [
       "Warning: a histogram with the name genAs_toE_lj_dR could not be filled and will be skipped\n"
      ]
     },
     "metadata": {},
     "output_type": "display_data"
    },
    {
     "data": {
      "text/html": [
       "<pre style=\"white-space:pre;overflow-x:auto;line-height:normal;font-family:Menlo,'DejaVu Sans Mono',consolas,'Courier New',monospace\">Warning: a histogram with the name genAs_toE_matched_lj_lxy could not be filled and will be skipped\n",
       "</pre>\n"
      ],
      "text/plain": [
       "Warning: a histogram with the name genAs_toE_matched_lj_lxy could not be filled and will be skipped\n"
      ]
     },
     "metadata": {},
     "output_type": "display_data"
    },
    {
     "data": {
      "text/html": [
       "<pre style=\"white-space:pre;overflow-x:auto;line-height:normal;font-family:Menlo,'DejaVu Sans Mono',consolas,'Courier New',monospace\">Warning: a histogram with the name genAs_toE_matched_egmLj_lxy could not be filled and will be skipped\n",
       "</pre>\n"
      ],
      "text/plain": [
       "Warning: a histogram with the name genAs_toE_matched_egmLj_lxy could not be filled and will be skipped\n"
      ]
     },
     "metadata": {},
     "output_type": "display_data"
    },
    {
     "data": {
      "text/html": [
       "<pre style=\"white-space:pre;overflow-x:auto;line-height:normal;font-family:Menlo,'DejaVu Sans Mono',consolas,'Courier New',monospace\">Warning: a histogram with the name genAs_toE_matched_egmLj_lxy_lowRange could not be filled and will be skipped\n",
       "</pre>\n"
      ],
      "text/plain": [
       "Warning: a histogram with the name genAs_toE_matched_egmLj_lxy_lowRange could not be filled and will be skipped\n"
      ]
     },
     "metadata": {},
     "output_type": "display_data"
    },
    {
     "data": {
      "text/html": [
       "<pre style=\"white-space:pre;overflow-x:auto;line-height:normal;font-family:Menlo,'DejaVu Sans Mono',consolas,'Courier New',monospace\">Warning: a histogram with the name genAs_toE_matched_egmLj_lxy_midRange could not be filled and will be skipped\n",
       "</pre>\n"
      ],
      "text/plain": [
       "Warning: a histogram with the name genAs_toE_matched_egmLj_lxy_midRange could not be filled and will be skipped\n"
      ]
     },
     "metadata": {},
     "output_type": "display_data"
    },
    {
     "data": {
      "text/html": [
       "<pre style=\"white-space:pre;overflow-x:auto;line-height:normal;font-family:Menlo,'DejaVu Sans Mono',consolas,'Courier New',monospace\">Warning: a histogram with the name genAs_toE_matched_egmLj_lxy_ecal could not be filled and will be skipped\n",
       "</pre>\n"
      ],
      "text/plain": [
       "Warning: a histogram with the name genAs_toE_matched_egmLj_lxy_ecal could not be filled and will be skipped\n"
      ]
     },
     "metadata": {},
     "output_type": "display_data"
    },
    {
     "data": {
      "text/html": [
       "<pre style=\"white-space:pre;overflow-x:auto;line-height:normal;font-family:Menlo,'DejaVu Sans Mono',consolas,'Courier New',monospace\">Warning: a histogram with the name genAs_toE_matched_egmLj_pt could not be filled and will be skipped\n",
       "</pre>\n"
      ],
      "text/plain": [
       "Warning: a histogram with the name genAs_toE_matched_egmLj_pt could not be filled and will be skipped\n"
      ]
     },
     "metadata": {},
     "output_type": "display_data"
    },
    {
     "data": {
      "text/html": [
       "<pre style=\"white-space:pre;overflow-x:auto;line-height:normal;font-family:Menlo,'DejaVu Sans Mono',consolas,'Courier New',monospace\">Warning: a histogram with the name genAs_toE_matched_egmLj_pt_highRange could not be filled and will be skipped\n",
       "</pre>\n"
      ],
      "text/plain": [
       "Warning: a histogram with the name genAs_toE_matched_egmLj_pt_highRange could not be filled and will be skipped\n"
      ]
     },
     "metadata": {},
     "output_type": "display_data"
    },
    {
     "data": {
      "text/html": [
       "<pre style=\"white-space:pre;overflow-x:auto;line-height:normal;font-family:Menlo,'DejaVu Sans Mono',consolas,'Courier New',monospace\">Warning: a histogram with the name genAs_toE_matched_egmLj_eta could not be filled and will be skipped\n",
       "</pre>\n"
      ],
      "text/plain": [
       "Warning: a histogram with the name genAs_toE_matched_egmLj_eta could not be filled and will be skipped\n"
      ]
     },
     "metadata": {},
     "output_type": "display_data"
    },
    {
     "data": {
      "text/html": [
       "<pre style=\"white-space:pre;overflow-x:auto;line-height:normal;font-family:Menlo,'DejaVu Sans Mono',consolas,'Courier New',monospace\">Warning: a histogram with the name genAs_toE_matched_egmLj_n could not be filled and will be skipped\n",
       "</pre>\n"
      ],
      "text/plain": [
       "Warning: a histogram with the name genAs_toE_matched_egmLj_n could not be filled and will be skipped\n"
      ]
     },
     "metadata": {},
     "output_type": "display_data"
    },
    {
     "data": {
      "text/html": [
       "<pre style=\"white-space:pre;overflow-x:auto;line-height:normal;font-family:Menlo,'DejaVu Sans Mono',consolas,'Courier New',monospace\">Warning: cannot fill counter Gen As to electrons. Skipping.\n",
       "</pre>\n"
      ],
      "text/plain": [
       "Warning: cannot fill counter Gen As to electrons. Skipping.\n"
      ]
     },
     "metadata": {},
     "output_type": "display_data"
    },
>>>>>>> refs/remotes/upstream/llpNanoAOD
    {
     "ename": "KeyError",
     "evalue": "'TTJets'",
     "output_type": "error",
     "traceback": [
      "\u001b[0;31m---------------------------------------------------------------------------\u001b[0m",
      "\u001b[0;31mKeyError\u001b[0m                                  Traceback (most recent call last)",
      "Cell \u001b[0;32mIn[18], line 2\u001b[0m\n\u001b[1;32m      1\u001b[0m \u001b[38;5;66;03m#Add ttbar\u001b[39;00m\n\u001b[0;32m----> 2\u001b[0m keys \u001b[38;5;241m=\u001b[39m \u001b[38;5;28mlist\u001b[39m(\u001b[43moutput\u001b[49m\u001b[43m[\u001b[49m\u001b[38;5;124;43m'\u001b[39;49m\u001b[38;5;124;43mout\u001b[39;49m\u001b[38;5;124;43m'\u001b[39;49m\u001b[43m]\u001b[49m\u001b[43m[\u001b[49m\u001b[38;5;124;43m\"\u001b[39;49m\u001b[38;5;124;43mTTJets\u001b[39;49m\u001b[38;5;124;43m\"\u001b[39;49m\u001b[43m]\u001b[49m[\u001b[38;5;124m\"\u001b[39m\u001b[38;5;124mhists\u001b[39m\u001b[38;5;124m\"\u001b[39m]\u001b[38;5;241m.\u001b[39mkeys())[:]\n\u001b[1;32m      3\u001b[0m TT_Hists \u001b[38;5;241m=\u001b[39m {k: output[\u001b[38;5;124m'\u001b[39m\u001b[38;5;124mout\u001b[39m\u001b[38;5;124m'\u001b[39m][\u001b[38;5;124m\"\u001b[39m\u001b[38;5;124mTTJets\u001b[39m\u001b[38;5;124m\"\u001b[39m][\u001b[38;5;124m\"\u001b[39m\u001b[38;5;124mhists\u001b[39m\u001b[38;5;124m\"\u001b[39m][k] \u001b[38;5;28;01mfor\u001b[39;00m k \u001b[38;5;129;01min\u001b[39;00m keys}\n\u001b[1;32m      5\u001b[0m keys \u001b[38;5;241m=\u001b[39m \u001b[38;5;28mlist\u001b[39m(output[\u001b[38;5;124m'\u001b[39m\u001b[38;5;124mout\u001b[39m\u001b[38;5;124m'\u001b[39m][\u001b[38;5;124m\"\u001b[39m\u001b[38;5;124mTTJets\u001b[39m\u001b[38;5;124m\"\u001b[39m][\u001b[38;5;124m\"\u001b[39m\u001b[38;5;124mcutflow\u001b[39m\u001b[38;5;124m\"\u001b[39m]\u001b[38;5;241m.\u001b[39mkeys())[:]\n",
      "\u001b[0;31mKeyError\u001b[0m: 'TTJets'"
     ]
    }
   ],
   "source": [
    "#Add ttbar\n",
    "keys = list(output['out'][\"TTJets\"][\"hists\"].keys())[:]\n",
    "TT_Hists = {k: output['out'][\"TTJets\"][\"hists\"][k] for k in keys}\n",
    "\n",
    "keys = list(output['out'][\"TTJets\"][\"cutflow\"].keys())[:]\n",
    "TT_Cutflow = {k: output['out'][\"TTJets\"][\"cutflow\"][k] for k in keys}"
   ]
  },
  {
   "cell_type": "code",
   "execution_count": null,
   "id": "18df61a5",
   "metadata": {},
   "outputs": [],
   "source": [
    "#This defines a function to break down the samples and make individual subplots for each one.\n",
    "#Fix: should set the specific range as a parameter. For now, it uses [ :1200j]. Could be an issue in the future.\n",
    "def plotSamples(hists, channel, errorBars, densityPlot, sample_0=samples, fullBg=False):\n",
    "    samples = []\n",
    "    if channel == \"2mu2e\":\n",
    "        for sample in sample_0:\n",
    "            if sample[0] != '4':\n",
    "                samples.append(sample)\n",
    "    elif channel == \"4mu\":\n",
    "        for sample in sample_0:\n",
    "            if sample[0] != '2':\n",
    "                samples.append(sample)\n",
    "    else:\n",
    "        for sample in sample_0:\n",
    "            samples.append(sample)\n",
    "    nplots = len(samples)\n",
    "    nhists = len(hists)\n",
    "    if (nplots <= 6): ncol, nrow = nplots, 1\n",
    "    else: ncol, nrow = 6, (nplots-1)//6 + 1\n",
    "    plt.subplots(nrow, ncol, figsize=(ncol*12, nrow*9))\n",
    "    plt.rcParams['font.size'] = 16\n",
    "    DY_Flag = QCD_Flag = DB_Flag = TT_Flag = Tot_BG_Flag = False\n",
    "    Tot_BG_Flag = not fullBg\n",
    "    for i in range(nplots):\n",
    "        plt.subplot(nrow, ncol, i+1)\n",
    "        j = 0\n",
    "        if \"DY_Jets\" in samples and DY_Flag == False:\n",
    "            for j in range(nhists):\n",
    "                utilities.plot(DY_Hists[hists[j]][channel, :], yerr=errorBars, density=densityPlot, flow='none')\n",
    "                DY_Flag = True\n",
    "        elif \"QCD_Jets\" in samples and QCD_Flag == False:\n",
    "            for j in range(nhists):\n",
    "                utilities.plot(QCD_Hists[hists[j]][channel, :], yerr=errorBars, density=densityPlot, flow='none')\n",
    "                QCD_Flag = True\n",
    "        elif \"DiBoson_Jets\" in samples and DB_Flag == False:\n",
    "            for j in range(nhists):\n",
    "                utilities.plot(DiBoson_Hists[hists[j]][channel, :], yerr=errorBars, density=densityPlot, flow='none')\n",
    "                DB_Flag = True\n",
    "        elif \"TTJets\" in samples and TT_Flag == False:\n",
    "            for j in range(nhists):\n",
    "                utilities.plot(TT_Hists[hists[j]][channel, :], yerr=errorBars, density=densityPlot, flow='none')\n",
    "                TT_Flag = True\n",
    "        elif \"Total Background\" in samples and Tot_BG_Flag == False:\n",
    "            for j in range(nhists):\n",
    "                utilities.plot(bg_Hists[hists[j]][channel, :], yerr=errorBars, density=densityPlot, flow='none')\n",
    "                Tot_BG_Flag = True\n",
    "        else:\n",
    "            for j in range(nhists):\n",
    "                utilities.plot(out[samples[i]][\"hists\"][hists[j]][channel, :], yerr=errorBars, density=densityPlot, flow='none')\n",
    "        plt.legend(hists)\n",
    "        plt.title(samples[i])"
   ]
  },
  {
   "cell_type": "code",
   "execution_count": null,
   "id": "3329f8f3",
   "metadata": {
    "tags": []
   },
   "outputs": [],
   "source": [
    "#This function plots each histogram on a separate subplot, showing all samples on each subplot\n",
    "def plotHists(hists, channel, errorBars, densityPlot, sample_0=samples, fullBg=False):\n",
    "    samples = []\n",
    "    if channel == \"2mu2e\":\n",
    "        for sample in sample_0:\n",
    "            if sample[0] != '4':\n",
    "                samples.append(sample)\n",
    "    elif channel == \"4mu\":\n",
    "        for sample in sample_0:\n",
    "            if sample[0] != '2':\n",
    "                samples.append(sample)\n",
    "    else:\n",
    "        for sample in sample_0:\n",
    "            samples.append(sample)\n",
    "    nplots = len(hists)\n",
    "    if (nplots <= 5): ncol, nrow = nplots, 1\n",
    "    else: ncol, nrow = 4, (nplots-1)//4 + 1\n",
    "    plt.subplots(nrow, ncol, figsize=(ncol*12, nrow*9))\n",
    "    plt.rcParams['font.size'] = 16\n",
    "    for i in range(nplots):\n",
    "        DY_Flag = QCD_Flag = DB_Flag = TT_Flag = Tot_BG_Flag = False\n",
    "        plt.subplot(nrow, ncol, i+1)\n",
    "        j = 0\n",
    "        while j < len(samples):\n",
    "            if \"DY_Jets\" in samples and DY_Flag == False:\n",
    "                utilities.plot(DY_Hists[hists[i]][channel, :], yerr=errorBars, density=densityPlot, flow='none')\n",
    "                DY_Flag = True\n",
    "            elif \"QCD_Jets\" in samples and QCD_Flag == False:\n",
    "                utilities.plot(QCD_Hists[hists[i]][channel, :], yerr=errorBars, density=densityPlot, flow='none')\n",
    "                QCD_Flag = True\n",
    "            elif \"DiBoson_Jets\" in samples and DB_Flag == False:\n",
    "                utilities.plot(DiBoson_Hists[hists[i]][channel, :], yerr=errorBars, density=densityPlot, flow='none')\n",
    "                DB_Flag = True\n",
    "            elif \"TTJets\" in samples and TT_Flag == False:\n",
    "                utilities.plot(TT_Hists[hists[i]][channel, :], yerr=errorBars, density=densityPlot, flow='none')\n",
    "                TT_Flag = True\n",
    "            elif \"Total Background\" in samples and Tot_BG_Flag == False:\n",
    "                utilities.plot(bg_Hists[hists[i]][channel, :], yerr=errorBars, density=densityPlot, flow='none')\n",
    "                Tot_BG_Flag = True\n",
    "            else:\n",
    "                utilities.plot(out[samples[j]][\"hists\"][hists[i]][channel, :], yerr=errorBars, density=densityPlot, flow='none')\n",
    "            j = j + 1\n",
    "        plt.legend(samples, prop={'size': 11})\n",
    "        plt.title(hists[i])"
   ]
  },
  {
   "cell_type": "code",
   "execution_count": 14,
   "id": "332f21da",
   "metadata": {
    "tags": []
   },
   "outputs": [
    {
     "name": "stdout",
     "output_type": "stream",
     "text": [
      "[[GenParticle, GenParticle], [GenParticle, ... [GenParticle, GenParticle]]\n",
      "[2, 2, 2, 2, 2, 2, 2, 2, 2, 2, 2, 2, 2, 2, ... 2, 2, 2, 2, 2, 2, 2, 2, 2, 2, 2, 2, 2]\n"
     ]
    }
   ],
   "source": [
    "#g = events.GenPart\n",
    "#print(g)\n",
    "#print(ak.count(g))\n",
    "#print(ak.num(g, axis=1))\n",
    "#print(ak.num(g, axis=0))\n",
    "#print(ak.num(g.children, axis=2))\n",
    "#g = g[ak.num(g.children, axis=2) > 0]\n",
    "#print(g.children[ak.num(g.children, axis=2) > 0][:, :, 0])\n",
    "#print(ak.count(ak.num(g.children, axis=2) > 0))\n",
    "#print(g.children[:, :, 0])\n",
    "#print((g - g.children[:, :, 0]))\n",
    "#print(ak.num(g.children))\n",
    "#print(ak.firsts(g.children))\n",
    "#print(ak.num(ak.firsts(g.children)))\n",
    "#print(~ak.is_none(ak.firsts(g.children)))\n",
    "#print((g - g.children[:, :, 0]).r)\n",
    "#print(g.pdgId)\n",
    "#zd = g[g.pdgId == 32]\n",
    "#ak.num(zd.children)\n",
    "#print(zd)\n",
    "#zd_lxy = (zd - ak.firsts(zd.children)).r\n",
    "#print(zd_lxy)\n",
    "#print(ak.num(zd_lxy, axis=1))\n",
    "zd = events.GenPart[abs(events.GenPart.pdgId) == 32]\n",
    "print(zd)\n",
    "print(ak.num(zd))"
   ]
  },
  {
   "cell_type": "code",
   "execution_count": null,
   "id": "bf663434",
   "metadata": {
    "tags": []
   },
   "outputs": [],
   "source": [
    "fraction = False\n",
    "\n",
    "for sublist in samples_sublists:\n",
    "    cutflows = [out[\"TTJets\"][\"cutflow\"][\"matchedLj\"]]\n",
    "    headers = [\"TTJets\"]\n",
    "    delimiter = '.'\n",
    "    for sample in sublist:\n",
    "        cutflows.append(out[sample][\"cutflow\"][\"matchedLj\"])\n",
    "        if '_' in sample:\n",
    "            headers.append(sample.split('_')[1] + delimiter + sample.split('_')[2] + delimiter + sample.split('_')[-1])\n",
    "        else:\n",
    "            headers.append(sample)\n",
    "    title = \"Basic cuts - fractional\" if fraction else \"Basic cuts\"\n",
    "    title = title + ' for ' + sublist[0].split('_')[1] + ' mass bound state and ' + sublist[0].split(\"_\")[2] + ' mass dark photon'\n",
    "    cutflow.print_multi_table(cutflows, headers, fraction, False, title)"
   ]
  },
  {
   "cell_type": "code",
   "execution_count": null,
   "id": "64215d69",
   "metadata": {
    "tags": []
   },
   "outputs": [],
   "source": [
    "histlist = [\"pv_n\", \"pv_ndof\", \"pv_z\"]\n",
    "#plotSamples(histlist, \"llpnano\", False, True)"
   ]
  },
  {
   "cell_type": "code",
   "execution_count": null,
   "id": "bcee9a16",
   "metadata": {
    "tags": []
   },
   "outputs": [],
   "source": [
    "histlist = []\n",
    "samples_used = [sample for sample in samples[1:2]]\n",
    "for hist in collection: \n",
    "    if \"phi\" in hist:\n",
    "        histlist.append(hist)\n",
    "histlist.remove(\"abcd_lj_lj_dphi_vs_lj0_pfIsolationPt05\")\n",
    "#histlist = histlist[:-9] \n",
    "print(histlist)\n",
    "plt.subplots(2, 3, figsize=(30,18))\n",
    "for i in range(len(histlist[:-1])):\n",
    "    plt.subplot(2,3,i+1)\n",
    "    if \"eta_phi\" in histlist[i]:\n",
    "        for sample in samples_used:\n",
    "            utilities.plot(out[sample][\"hists\"][histlist[i]][\"llpnano\", :, :], flow='none')\n",
    "    else:\n",
    "        for sample in samples_used:\n",
    "            utilities.plot(out[sample][\"hists\"][histlist[i]][\"llpnano\", :], density=True, yerr=False, flow='none')\n",
    "    plt.title(histlist[i])\n",
    "    plt.legend(samples_used)"
   ]
  },
  {
   "cell_type": "code",
   "execution_count": null,
   "id": "d0498d34",
   "metadata": {
    "tags": []
   },
   "outputs": [],
   "source": [
    "\n",
    "#histlist = []\n",
    "#for hist in collection: \n",
    "#    if \"eta_phi\" not in hist:\n",
    "#        histlist.append(hist)\n",
    "\n",
    "#histlist.remove(\"abcd_lj_lj_dphi_vs_lj0_pfIsolationPt05\") #All removed histrograms returned a \"wrong number of indices\" error\n",
    "#histlist = histlist[:-9] \n",
    "# The last 9 histograms were empty, and each histogram plotted on each axis returned a warning (with ~30 samples & 9 histograms, this is ~270 times)\n",
    "# Warnings for each hist were \"cannot compute error bars\" \"invalid value in *= scale\" \"divide by zero encountered\", comes to ~750 error messages\n",
    "#plotHists(histlist, \"llpnano_4mu\", False, True)"
   ]
  },
  {
   "cell_type": "code",
   "execution_count": null,
   "id": "01ef2279",
   "metadata": {},
   "outputs": [],
   "source": [
    "#samples_used = [sample for sample in samples[1:]]\n",
    "samples_used = [sample for sample in samples]\n",
    "\n",
    "ymax1 = ymax2 = 0\n",
    "ymin1 = ymin2 = 10000000000\n",
    "for sample in samples_used:\n",
    "    if out[sample][\"cutflow\"][\"llpnano_4mu\"].cut_breakdown()[0] > ymax1:\n",
    "        ymax1 = out[sample][\"cutflow\"][\"llpnano_4mu\"].cut_breakdown()[0]\n",
    "    if out[sample][\"cutflow\"][\"llpnano_4mu\"].cut_breakdown()[-1] < ymin1:\n",
    "        ymin1 = out[sample][\"cutflow\"][\"llpnano_4mu\"].cut_breakdown()[-1]\n",
    "        \n",
    "for sample in samples_used[1:]:\n",
    "    if out[sample][\"cutflow\"][\"llpnano_4mu\"].cut_breakdown()[0] > ymax2:\n",
    "        ymax2 = out[sample][\"cutflow\"][\"llpnano_4mu\"].cut_breakdown()[0]\n",
    "    if out[sample][\"cutflow\"][\"llpnano_4mu\"].cut_breakdown()[-1] < ymin2:\n",
    "        ymin2 = out[sample][\"cutflow\"][\"llpnano_4mu\"].cut_breakdown()[-1]\n",
    "        \n",
    "ylimits1 = [ymin1*0.9, ymax1*1.1]\n",
    "ylimits2 = [ymin2*0.9, ymax2*1.1]\n",
    " ############## Parameters ################\n",
    "giveFraction = True\n",
    "log = False\n",
    "legend = False\n",
    " ##########################################\n",
    "if giveFraction:\n",
    "    ylimits1 = [0.1,110]\n",
    "    ylimits2 = [0.1,110]\n",
    "    if log:\n",
    "        ylimits1 = [0.1,120]\n",
    "        ylimits2 = [10,120]\n",
    "\n",
    "plt.subplots(2,2,figsize=(24,18))\n",
    "\n",
    "plt.subplot(2,2,1)\n",
    "temp = [out[sample][\"cutflow\"][\"llpnano\"].cut_breakdown(fraction=giveFraction) for sample in samples_used]\n",
    "sample_list = samples_used\n",
    "cutlabels = out[samples_used[0]][\"cutflow\"][\"llpnano\"].cut_breakdown(giveCuts=True)\n",
    "for i in range(len(temp)):\n",
    "    plt.plot(cutlabels, temp[i])\n",
    "if legend:\n",
    "    plt.legend(sample_list, prop={'size': 11})\n",
    "plt.title(\"Events cut by selection\")\n",
    "if log:\n",
    "    plt.yscale(\"log\")\n",
    "plt.ylim(ylimits1)\n",
    "plt.xticks(rotation=20)\n",
    "\n",
    "plt.subplot(2,2,2)\n",
    "temp = [out[sample][\"cutflow\"][\"llpnano_4mu\"].cut_breakdown(fraction=giveFraction) for sample in samples_used]\n",
    "sample_list = samples_used\n",
    "cutlabels = out[samples_used[0]][\"cutflow\"][\"llpnano_4mu\"].cut_breakdown(giveCuts=True)\n",
    "for i in range(len(temp)):\n",
    "    plt.plot(cutlabels, temp[i])\n",
    "if legend:\n",
    "    plt.legend(sample_list, prop={'size': 11})\n",
    "plt.title(\"Events cut by selection\")\n",
    "if log:\n",
    "    plt.yscale(\"log\")\n",
    "plt.ylim(ylimits1)\n",
    "plt.xticks(rotation=20)\n",
    "\n",
    "\n",
    "plt.subplot(2,2,3)\n",
    "temp = [out[sample][\"cutflow\"][\"llpnano_3lj\"].cut_breakdown(fraction=giveFraction) for sample in samples_used]\n",
    "sample_list = samples_used\n",
    "cutlabels = out[samples_used[0]][\"cutflow\"][\"llpnano_3lj\"].cut_breakdown(giveCuts=True)\n",
    "for i in range(len(temp)):\n",
    "    plt.plot(cutlabels, temp[i])\n",
    "if legend:\n",
    "    plt.legend(sample_list, prop={'size': 11})\n",
    "plt.title(\"SIDM Events cut by selection\")\n",
    "if log:\n",
    "    plt.yscale(\"log\")\n",
    "plt.ylim(ylimits2)\n",
    "plt.xticks(rotation=20)\n",
    "\n",
    "plt.subplot(2,2,4)\n",
    "temp = [out[sample][\"cutflow\"][\"matchedLj\"].cut_breakdown(fraction=giveFraction) for sample in samples_used]\n",
    "sample_list = samples_used\n",
    "cutlabels = out[samples_used[0]][\"cutflow\"][\"matchedLj\"].cut_breakdown(giveCuts=True)\n",
    "for i in range(len(temp)):\n",
    "    plt.plot(cutlabels, temp[i])\n",
    "if legend:\n",
    "    plt.legend(sample_list, prop={'size': 11})\n",
    "plt.title(\"SIDM Events cut by selection\")\n",
    "if log:\n",
    "    plt.yscale(\"log\")\n",
    "plt.ylim(ylimits2)\n",
    "plt.xticks(rotation=20)"
   ]
  },
  {
   "cell_type": "markdown",
   "id": "80739eff",
   "metadata": {},
   "source": [
    "Judging by this, the cutflow (which is similar to the 4mu set) doesn't significantly impact the samples, but cuts the background TTbar by about 2 orders of magnitude. However, unlike the ffntuples, this TTbar set is much more significant after the cuts, keeping 33 percent instead of being cut down to zero. Applying the 4mu cut brings the background level to about 3 percent, which is still higher than that found in the ffntuples.\n",
    "\n",
    "I've added a second channel, llpnano_4mu, to try to alleviate this. While some of the cuts impact the SIDM samples (especially a requirement that there be >=4 muons in each event), they drastically reduce the remaining background down to about 0.25%. The purple line above (which is removed from the second row) shows the change in TTbar events through the cutflow. The second row is a zoomed in look at the SIDM samples throughout.\n",
    "\n",
    "After adding several more samples, the >=4 muon requirement is a clear issue. While the TTbar fraction falls below 0.25%, some SIDM samples have below 20% efficiency with this cut. It has been changed to a >=3 muon cut.\n",
    "\n",
    "This change makes the SIDM lowest efficency 48 percent, with the most \"damaging\" cut still the >=3 muons. It is also now removed and replaced with a >=2 muon cut. After this, all the SIDM samples had efficiencies of above 60%, which is very close to that left after the >=2 lepton jet cut. At this point, the muon requirement is no longer a serious issue for efficiency, but removes a great deal of background, leaving 2% efficiency for TTbar.\n",
    "\n",
    "Another possible cut is placing a limit on the quantity lj_lj_invmass to be greater than 100 GeV. Nearly all SIDM events are generated with larger invariant mass (as the smallest samples have a 100 GeV bound state), while the background extends well below. A cut at 200 GeV would remove nearly all of the background, at the cost of losing the lighter SIDM samples.\n",
    "\n",
    "Next Steps:\n",
    "Continue plotting ljs, start finding attributes of the lepton jet contents (e.g. muons, photons, electrons in the jets). Try defining the attributes for histograms that do not plot."
   ]
  },
  {
   "cell_type": "code",
   "execution_count": null,
   "id": "5d7b5ac6",
   "metadata": {
    "tags": []
   },
   "outputs": [],
   "source": [
    "utilities.plot([out[\"TTJets\"][\"hists\"][\"lj_lj_invmass_lowRange\"][\"llpnano\", :], out[samples[2]][\"hists\"][\"lj_lj_invmass_lowRange\"][\"llpnano\", :]], density=True)\n",
    "plt.legend([\"TTJets\", samples[2]])\n",
    "#plt.xlim([0,100])"
   ]
  },
  {
   "cell_type": "markdown",
   "id": "efe9f607",
   "metadata": {},
   "source": [
    "The next section replicates some of the plots used in the ffntuple background analysis. These include the number of lepton jets found, the invariant mass of the lepton jets, the magnitude of the delta-phi in the lepton jets, and a measure of the isolation of the jets. The plots differ from the SIDM samples in the ffntuple sets in several meaningful ways. Most obviously, the isolation plot does not generate. This may be due to isolation being calculated differently, and may be an important fix to make to the processor when it generates histograms.\n",
    "\n",
    "Second, there is a large peak of several samples with low |deltaPhi|. These are not background, and are searched for below this. These peaks are made up exclusively of the most collimated samples from the 800 and 500 GeV mass bound states. The lower-mass bound states also have a noticable shift towards lower dPhi values. I don't know why these have such a large offset and all other samples are clustered around 3.14.\n",
    "\n",
    "Third, there are noticably more lepton jets found in these samples. The lj_n histogram have a maximum of 5 lepton jets per event, while the ffntuple version of this plot only has 0-2, with a very small number of events having three lepton jets. This may indicate a bias in the geration of the ffntuples, where they are restricted to contain only the SIDM process, without other lepton jets present.\n",
    "\n",
    "(This code does not attempt to plot the isolation histogram, since it produces several error messages per sample, coming out to hundreds of lines of messages. Regardless, the axes were empty when the plot was attempted.)\n",
    "\n",
    "The increase in lepton_jet_n and the low deltaPhi might both be due to issues with the clustering algorithm; if one lepton jet is incorrectly identified as two, they would appear close to each other as well as appearing to have more jets. However, applying the new llpnano_3lj cut, which removes any events with 4 or more lepton jets, does not change the profiles of the histograms at all (besides, of course, the lj_n one)."
   ]
  },
  {
   "cell_type": "code",
   "execution_count": 21,
   "id": "7f5f3b3b",
   "metadata": {
    "tags": []
   },
   "outputs": [
    {
     "data": {
      "image/png": "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",
      "text/plain": [
       "<Figure size 1800x600 with 4 Axes>"
      ]
     },
     "metadata": {},
     "output_type": "display_data"
    }
   ],
   "source": [
    "samples_used = [sample for sample in samples[1:2]]\n",
    "#samples_used.append(\"TTJets\")\n",
    "hists_used = [\"lj_n\", \"lj_lj_invmass\", \"lj_lj_absdphi\"]#\"lj_pfIsolation07\"]\n",
    "plt.subplots(1,4,figsize=(36,12))\n",
    "for i in range(len(hists_used)):\n",
    "    plt.subplot(1,4,i+1)\n",
    "    for sample in samples_used:\n",
    "        utilities.plot(out[sample][\"hists\"][hists_used[i]][\"llpnano\", :], density=True, flow='none')\n",
    "    plt.legend(samples_used, prop={'size': 12}, ncol=2)\n",
    "    \n",
    "#plotHists([\"lj_n\", \"lj_lj_invmass\", \"lj_lj_absdphi\", \"lj_pfIsolation07\"], \"baseNoLj\", True, True, samples_used)"
   ]
  },
  {
   "cell_type": "code",
   "execution_count": null,
   "id": "ec936697",
   "metadata": {
    "tags": []
   },
   "outputs": [],
   "source": [
    "samples_used = [sample for sample in samples[60:65]]\n",
    "#samples_used.append(\"TTJets\")\n",
    "hists_used = [\"lj_lj_absdphi\"]\n",
    "plt.subplots(1,2,figsize=(30,16))\n",
    "plt.subplot(1,2,1)\n",
    "for sample in samples_used:\n",
    "    utilities.plot(out[sample][\"hists\"][hists_used[0]][\"llpnano\", :], density=False, flow='none')\n",
    "plt.legend(samples_used, prop={'size': 16}, ncol=2)\n",
    "plt.title(\"Base Cuts\")\n",
    "plt.subplot(1,2,2)\n",
    "for sample in samples_used:\n",
    "    utilities.plot(out[sample][\"hists\"][hists_used[0]][\"llpnano_3lj\", :], density=False, flow='none')\n",
    "plt.legend(samples_used, prop={'size': 16}, ncol=2)\n",
    "plt.title(\"Base Cuts + <= 3 LJs\")"
   ]
  },
  {
   "cell_type": "code",
   "execution_count": null,
   "id": "574d3bc4",
   "metadata": {
    "tags": []
   },
   "outputs": [],
   "source": [
    "samples_used = [sample for sample in samples[45:49]]\n",
    "#samples_used.append(\"TTJets\")\n",
    "hists_used = [\"lj_lj_absdphi\"]\n",
    "plt.subplots(1,2,figsize=(30,16))\n",
    "plt.subplot(1,2,1)\n",
    "for sample in samples_used:\n",
    "    utilities.plot(out[sample][\"hists\"][hists_used[0]][\"llpnano\", :], density=True, flow='none')\n",
    "plt.legend(samples_used, prop={'size': 16}, ncol=2)\n",
    "plt.subplot(1,2,2)\n",
    "for sample in samples_used:\n",
    "    utilities.plot(out[sample][\"hists\"][hists_used[0]][\"llpnano_3lj\", :], density=True, flow='none')\n",
    "plt.legend(samples_used, prop={'size': 16}, ncol=2)"
   ]
  },
  {
   "cell_type": "code",
   "execution_count": null,
   "id": "4dbf7056",
   "metadata": {
    "tags": []
   },
   "outputs": [],
   "source": [
    "samples_remove = [sample for sample in samples[59:64]]\n",
    "samples_used = [sample for sample in samples[45:49]]\n",
    "\n",
<<<<<<< HEAD
    "#for sample in samples_remove:\n",
    "#    samples_used.remove(sample)\n",
    "#samples_used.append(\"TTJets\")\n",
    "hists_used = [\"lj_lj_absdphi\"]\n",
    "plt.subplots(1,1,figsize=(16,16))\n",
    "for i in range(len(hists_used)):\n",
    "    plt.subplot(1,1,1)\n",
    "    for sample in samples_used:\n",
    "        utilities.plot(out[sample][\"hists\"][hists_used[i]][\"llpnano\", :], density=True, flow='none')\n",
    "    plt.legend(samples_used, prop={'size': 18}, ncol=2, loc=1)"
   ]
  },
  {
   "cell_type": "code",
   "execution_count": null,
   "id": "da8a2fe3",
   "metadata": {
    "tags": []
   },
   "outputs": [],
   "source": [
    "samples_remove = [sample for sample in samples[59:64]]\n",
    "samples_remove2 = [sample for sample in samples[45:49]]\n",
    "samples_used = [sample for sample in samples[1:]]\n",
=======
    "channels = [\n",
    "        #\"llpnano\",\n",
    "        #\"4mu\",\n",
    "        #\"baseNoLj_A_mumu_matched_lj\",\n",
    "        \"baseNoLj\",\n",
    "]\n",
    "p = sidm_processor.SidmProcessor(\n",
    "    channels,\n",
    "    [\"base_plus_gen\"],\n",
    "    #verbose=True,\n",
    ")\n",
>>>>>>> refs/remotes/upstream/llpNanoAOD
    "\n",
    "for sample in samples_remove:\n",
    "    samples_used.remove(sample)\n",
    "for sample in samples_remove2:\n",
    "    samples_used.remove(sample)\n",
    "    \n",
    "samples_used.append(\"TTJets\")\n",
    "hists_used = [\"lj_lj_absdphi\"]\n",
    "plt.subplots(1,2,figsize=(30,12))\n",
    "plt.subplot(1,2,1)\n",
    "for sample in samples_used:\n",
    "    utilities.plot(out[sample][\"hists\"][hists_used[0]][\"llpnano_4mu\", :], density=True, flow='none')\n",
    "plt.legend(samples_used, prop={'size': 6}, ncol=2)\n",
    "plt.title(\"Density Plot\")\n",
    "plt.subplot(1,2,2)\n",
    "for sample in samples_used:\n",
    "    utilities.plot(out[sample][\"hists\"][hists_used[0]][\"llpnano_4mu\", :], density=False, flow='none')\n",
    "plt.legend(samples_used, prop={'size': 6}, ncol=2)   \n",
    "plt.title(\"Weighted Events\")"
   ]
  },
  {
   "cell_type": "code",
<<<<<<< HEAD
   "execution_count": null,
   "id": "f895f69a",
=======
   "execution_count": 16,
   "id": "fdfea3f5-c92d-4a52-b774-1fd49e5128bc",
>>>>>>> refs/remotes/upstream/llpNanoAOD
   "metadata": {
    "tags": []
   },
   "outputs": [],
   "source": [
    "samples_remove = [sample for sample in samples[59:64]]\n",
    "samples_remove2 = [sample for sample in samples[45:49]]\n",
    "samples_used = [sample for sample in samples[1:]]\n",
    "\n",
    "for sample in samples_remove:\n",
    "    samples_used.remove(sample)\n",
    "for sample in samples_remove2:\n",
    "    samples_used.remove(sample)\n",
    "    \n",
    "samples_used.append(\"TTJets\")\n",
    "hists_used = [\"lj_lj_absdphi\"]\n",
    "plt.subplots(1,2,figsize=(30,12))\n",
    "plt.subplot(1,2,1)\n",
    "for sample in samples_used:\n",
    "    utilities.plot(out[sample][\"hists\"][hists_used[0]][\"llpnano_4mu\", :], density=True, flow='none')\n",
    "plt.legend(samples_used, prop={'size': 6}, ncol=2)\n",
    "plt.title(\"Density Plot\")\n",
    "plt.subplot(1,2,2)\n",
    "for sample in samples_used:\n",
    "    utilities.plot(out[sample][\"hists\"][hists_used[0]][\"llpnano_4mu\", :], density=False, flow='none')\n",
    "plt.legend(samples_used, prop={'size': 6}, ncol=2)   \n",
    "plt.title(\"Weighted Events\")"
   ]
  },
  {
   "cell_type": "code",
<<<<<<< HEAD
   "execution_count": null,
   "id": "fc9841cc",
   "metadata": {
    "tags": []
   },
   "outputs": [],
=======
   "execution_count": 17,
   "id": "d04444b6-385b-4b91-87ae-6e6254b5426a",
   "metadata": {
    "tags": []
   },
   "outputs": [
    {
     "data": {
      "text/plain": [
       "<matplotlib.legend.Legend at 0x7f250020e5e0>"
      ]
     },
     "execution_count": 17,
     "metadata": {},
     "output_type": "execute_result"
    },
    {
     "data": {
      "image/png": "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",
      "text/plain": [
       "<Figure size 1200x500 with 2 Axes>"
      ]
     },
     "metadata": {},
     "output_type": "display_data"
    }
   ],
>>>>>>> refs/remotes/upstream/llpNanoAOD
   "source": [
    "samples_remove = [sample for sample in samples[59:64]]\n",
    "samples_remove2 = [sample for sample in samples[45:49]]\n",
    "samples_used = [sample for sample in samples[1:]]\n",
    "\n",
    "for sample in samples_remove:\n",
    "    samples_used.remove(sample)\n",
    "for sample in samples_remove2:\n",
    "    samples_used.remove(sample)\n",
    "    \n",
    "samples_used.append(\"TTJets\")\n",
    "hists_used = [\"lj_lj_absdphi\"]\n",
    "plt.subplots(1,2,figsize=(30,12))\n",
    "plt.subplot(1,2,1)\n",
    "for sample in samples_used:\n",
    "    utilities.plot(out[sample][\"hists\"][hists_used[0]][\"llpnano\", :], density=True, flow='none')\n",
    "plt.legend(samples_used, prop={'size': 6}, ncol=2)\n",
    "plt.title(\"llpnano channel\")\n",
    "plt.subplot(1,2,2)\n",
    "for sample in samples_used:\n",
    "    utilities.plot(out[sample][\"hists\"][hists_used[0]][\"llpnano_4mu\", :], density=True, flow='none')\n",
    "plt.legend(samples_used, prop={'size': 6}, ncol=2)   \n",
    "plt.title(\"llpnano_4mu channel\")\n",
    "print(out[samples_used[0]][\"cutflow\"][\"llpnano\"].cut_breakdown(giveCuts=True))\n",
    "print(out[samples_used[0]][\"cutflow\"][\"llpnano_4mu\"].cut_breakdown(giveCuts=True))"
   ]
  },
  {
   "cell_type": "code",
<<<<<<< HEAD
   "execution_count": null,
   "id": "25754598",
   "metadata": {
    "tags": []
   },
   "outputs": [],
=======
   "execution_count": 18,
   "id": "c1a63421-e6ea-42f3-8e45-918f5bd81ee5",
   "metadata": {
    "tags": []
   },
   "outputs": [
    {
     "data": {
      "text/plain": [
       "[StairsArtists(stairs=<matplotlib.patches.StepPatch object at 0x7f24dad0ff40>, errorbar=<ErrorbarContainer object of 3 artists>, legend_artist=<ErrorbarContainer object of 3 artists>)]"
      ]
     },
     "execution_count": 18,
     "metadata": {},
     "output_type": "execute_result"
    },
    {
     "data": {
      "image/png": "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",
      "text/plain": [
       "<Figure size 1200x500 with 2 Axes>"
      ]
     },
     "metadata": {},
     "output_type": "display_data"
    }
   ],
>>>>>>> refs/remotes/upstream/llpNanoAOD
   "source": [
    "n=15\n",
    "samples_used = [sample for sample in samples[n:n+5]]\n",
    "\n",
    "samples_used.append(\"TTJets\")\n",
    "hists_used = [\"lj_lj_absdphi\"]\n",
    "plt.subplots(1,1,figsize=(14,14))\n",
    "for i in range(len(hists_used)):\n",
    "    plt.subplot(1,1,1)\n",
    "    for sample in samples_used:\n",
    "        utilities.plot(out[sample][\"hists\"][hists_used[i]][\"llpnano\", :], density=True, flow='none')\n",
    "    plt.legend(samples_used, prop={'size': 12}, ncol=2)"
   ]
  },
  {
   "cell_type": "code",
<<<<<<< HEAD
   "execution_count": null,
   "id": "5af01f97",
   "metadata": {
    "tags": []
   },
   "outputs": [],
=======
   "execution_count": 19,
   "id": "b38c6bd5-ad21-44e9-9d90-829c14234157",
   "metadata": {},
   "outputs": [
    {
     "data": {
      "text/plain": [
       "[StairsArtists(stairs=<matplotlib.patches.StepPatch object at 0x7f24da34e3a0>, errorbar=<ErrorbarContainer object of 3 artists>, legend_artist=<ErrorbarContainer object of 3 artists>)]"
      ]
     },
     "execution_count": 19,
     "metadata": {},
     "output_type": "execute_result"
    },
    {
     "data": {
      "image/png": "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",
      "text/plain": [
       "<Figure size 1200x1200 with 4 Axes>"
      ]
     },
     "metadata": {},
     "output_type": "display_data"
    }
   ],
>>>>>>> refs/remotes/upstream/llpNanoAOD
   "source": [
    "n=30\n",
    "samples_used = [sample for sample in samples[n:n+4]]\n",
    "\n",
    "samples_used.append(\"TTJets\")\n",
    "hists_used = [\"lj_lj_absdphi\"]\n",
    "plt.subplots(1,1,figsize=(14,14))\n",
    "for i in range(len(hists_used)):\n",
    "    plt.subplot(1,1,1)\n",
    "    for sample in samples_used:\n",
    "        utilities.plot(out[sample][\"hists\"][hists_used[i]][\"llpnano\", :], density=True, flow='none')\n",
    "    plt.legend(samples_used, prop={'size': 12}, ncol=2, loc=1)"
   ]
  },
  {
   "cell_type": "code",
<<<<<<< HEAD
   "execution_count": null,
   "id": "ec3d8a92",
   "metadata": {
    "tags": []
   },
   "outputs": [],
   "source": [
    "samples_used = [sample for sample in samples if \"0p25GeV\" not in sample] # removing all 0.25 GeV Zd removes the peak near 0.\n",
    "hists_used = [\"lj_lj_absdphi\"]\n",
    "plt.subplots(1,1,figsize=(20,16))\n",
    "for i in range(len(hists_used)):\n",
    "    plt.subplot(1,1,1)\n",
    "    for sample in samples_used:\n",
    "        utilities.plot(out[sample][\"hists\"][hists_used[i]][\"llpnano\", :], density=True, flow='none')\n",
    "    plt.legend(samples_used, prop={'size': 8}, ncol=2)"
=======
   "execution_count": 20,
   "id": "5ae4325e-b245-4e9a-bbfe-07e5cc268af8",
   "metadata": {},
   "outputs": [
    {
     "data": {
      "text/plain": [
       "[StairsArtists(stairs=<matplotlib.patches.StepPatch object at 0x7f25004a6220>, errorbar=<ErrorbarContainer object of 3 artists>, legend_artist=<ErrorbarContainer object of 3 artists>)]"
      ]
     },
     "execution_count": 20,
     "metadata": {},
     "output_type": "execute_result"
    },
    {
     "data": {
      "image/png": "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",
      "text/plain": [
       "<Figure size 1200x500 with 2 Axes>"
      ]
     },
     "metadata": {},
     "output_type": "display_data"
    }
   ],
   "source": [
    "plt.subplots(1, 2, figsize=(24, 10))\n",
    "plt.subplot(1, 2, 1)\n",
    "utilities.plot(hists[\"genAs_pt\"][ch, :])\n",
    "plt.subplot(1, 2, 2)\n",
    "utilities.plot(hists[\"genAs_lxy\"][ch, :])"
>>>>>>> refs/remotes/upstream/llpNanoAOD
   ]
  },
  {
   "cell_type": "code",
<<<<<<< HEAD
   "execution_count": null,
   "id": "fbb7f875",
   "metadata": {
    "tags": []
   },
   "outputs": [],
   "source": [
    "samples_used_0p25 = [sample for sample in samples if \"0p25GeV\" in sample]\n",
    "samples_used_1p2 = [sample for sample in samples if \"1p2GeV\" in sample] \n",
    "samples_used_5p0 = [sample for sample in samples if \"5p0GeV\" in sample] \n",
    "\n",
    "hists_used = [\"lj_lj_absdphi\"]\n",
    "plt.subplots(1,3,figsize=(32,16))\n",
    "for i in range(len(hists_used)):\n",
    "    plt.subplot(1,3,1)\n",
    "    for sample in samples_used_0p25:\n",
    "        utilities.plot(out[sample][\"hists\"][hists_used[i]][\"llpnano\", :], density=True, flow='none')\n",
    "    plt.legend(samples_used_0p25, prop={'size': 11}, ncol=2, loc=1)\n",
    "    plt.title(\"0p25GeV_Zd\", fontsize = 20)\n",
    "    plt.subplot(1,3,2)\n",
    "    for sample in samples_used_1p2:\n",
    "        utilities.plot(out[sample][\"hists\"][hists_used[i]][\"llpnano\", :], density=True, flow='none')\n",
    "    plt.legend(samples_used_1p2, prop={'size': 12}, ncol=2, loc=9)\n",
    "    plt.title(\"1p2GeV_Zd\", fontsize = 20)\n",
    "    plt.subplot(1,3,3)\n",
    "    for sample in samples_used_5p0:\n",
    "        utilities.plot(out[sample][\"hists\"][hists_used[i]][\"llpnano\", :], density=True, flow='none')\n",
    "    plt.legend(samples_used_5p0, prop={'size': 12}, ncol=2, loc=9)\n",
    "    plt.title(\"5p0GeV_Zd\", fontsize = 20)"
=======
   "execution_count": 21,
   "id": "2b2e2711-8efb-4280-82bf-5cbf3776cced",
   "metadata": {
    "tags": []
   },
   "outputs": [
    {
     "data": {
      "text/plain": [
       "[StairsArtists(stairs=<matplotlib.patches.StepPatch object at 0x7f2500191430>, errorbar=<ErrorbarContainer object of 3 artists>, legend_artist=<ErrorbarContainer object of 3 artists>)]"
      ]
     },
     "execution_count": 21,
     "metadata": {},
     "output_type": "execute_result"
    },
    {
     "data": {
      "image/png": "iVBORw0KGgoAAAANSUhEUgAAAbEAAAHHCAYAAAAxq2ZtAAAAOXRFWHRTb2Z0d2FyZQBNYXRwbG90bGliIHZlcnNpb24zLjguMCwgaHR0cHM6Ly9tYXRwbG90bGliLm9yZy81sbWrAAAACXBIWXMAAAexAAAHsQEGxWGGAABSkklEQVR4nO3df1zO1/8/8MdVilqlUir5NUpLmqQwEiHFhjWNvSf5MTbM3gzzDtv8mFhhFo2PbcYmxpuZsXdJvPNrmH4stqYfND9KRdKPEerqfP/w7fXu5aoUhdfV4367Xbdb1znnda5zjlzPzus651wqIYQAERGRAuk87QYQERE9KgYxIiJSLAYxIiJSLAYxIiJSLEUGMbVaja1bt2LkyJFo27YtDAwMYGNjAw8PD0ydOhWpqalVXjdhwgSoVCrZw9fXt8qyX3/9tUZZlUqlUa68vBy7du3C8OHD8eKLL8LExAQtWrSAq6srRo4ciZ9//hlcO0NE1DBUSludmJqaitdeew1//vlntWV0dHQwduxYfPXVV9DT05PSJ0yYgM2bN8vKmpiY4ObNm9DRkcfzt956C998841G3ZWHKycnBwMHDqyxLQDQtWtXHDhwAC1btqyxHBER1Y2iZmI5OTno3bu3LGg899xz8PDwQP/+/WFmZgbg/uzo22+/xdtvv/3QOouKivDHH39opJ88ebLG68rKyuDv7y9ri729PYYOHYq+fftKbQGAM2fOwN/fH6WlpQ9tT15eHmbOnIk+ffrA3NwclpaW8PDwwI4dO6QyUVFRUKlUmDZt2kPrqy9qtRqGhob417/+9dh1PY32E5GWEgoyfvx4AUAAECqVSnz00UeirKxMyi8uLhaBgYFSGQDixx9/rPb6ip/XrVsne52bN29K+ZXLVR6uEydOSGk6Ojpi27ZtsjpKSkrE/PnzZdfGxMTU2L8DBw4ICwsL0bJlSzFt2jQRGhoq5s2bJzp16iQAiM8//1wIIURcXJwIDw8Xf/7556MOZZ2dPXtWABA7duyo87WhoaFi37590vOn0X4i0k6KCWKnT5+WBZT58+dXWe7evXvC3t5eKjdx4kQpr3IQa9OmjTAxMREAxJgxY2R17N+/XyrXpUuXKoPYmjVrpDRnZ+dq2+3k5CSVW758ebXl8vPzhZWVlRgwYIC4deuWLO/WrVuibdu2okOHDjWOUUPatGmTACDOnz9fp+tyc3MFALFmzZoGahlR4/LBBx+IlStXVpk3atQosWjRIo300tJSsXLlSuHk5CQMDQ1Fu3btxMSJE0VmZma1r7N582bZe191j82bN9eq3b///rsAIObOnVttmREjRghDQ0NRXFwspk2bJtavX//QepvU/9yuYWzcuFH6PMrIyAizZ8+uspyenh4WL16MvXv3AgCMjY2rLKerq4uXXnoJ0dHROHHihCyv8q3E3r17V3m78e7du9LPV69exY0bN9CiRQuNcjt37kR+fj4AwNrautr+bdu2Dbm5uYiKioKhoaEsz9DQEN26dcPhw4ervb6hJSQkwNTUFB06dKjTdRVj+dJLLzVEs4galaSkJOzcuRPnzp3TyDty5Aj27NmDzp07a+QtWbIEy5Ytw3vvvYe+ffsiMzMTy5cvx+nTpxEfH4+mTZtqXOPt7Y39+/dLz8+ePYu5c+di9uzZ8Pb2ltKdnZ1r1fYuXbqge/fu2Lp1K5YvX66xDqGoqAj79++Hv78/jIyM8NFHH8HV1RXDhw9Hq1atqq+4ViH0GeDs7CxFfm9v70eqo/JMrH379uKTTz6Rnl+9elUqN3jwYAFAPP/882LRokVVzsSio6Nl6ba2tmLhwoXiyJEj4u+//65z2yZMmCAAiNjY2CrzCwsLRX5+vhBCiL59+wpPT08pb8iQIcLf319ER0eLgQMHCjMzM9GrVy9x+vRpcefOHTFv3jzRuXNnYWpqKt566y3ZLdhu3bqJl19+WeP13N3dxeDBg6XnL730khgwYICszK5du0T//v1Fy5YthaGhoejatav47rvvpHw3NzfZGL311ltVtl8IIWJjY8WgQYOEqampsLS0FK+99pr466+/ZGW8vLzEG2+8IRISEsSIESNEq1athKWlpQgKCqphZIm0x2uvvSY++eQTWdqKFStE165dpf9nVc3ETE1Nxfjx42Vpe/fuFQDE0aNHa/Xahw8frtPMqyoVd7AOHTqkkfftt98KAGL//v1S2vjx48WcOXNqrFMxCzuysrKkn9u1a1cvdfbp00f6+ZdffgFwf/Xhr7/+qpH/oMGDB2PIkCGy9i1evBj9+vWDiYkJOnXqhNdffx3r16/HX3/99dC2dO3aFQDw+uuv4+OPP0ZiYqJsJaSJiQnMzMxQXl6OpKQkdO/eXcpLSEhAUlISJk+ejJdeegnDhg3DqVOnMGHCBPTt2xe///47Ro8eDWtra2zcuFFaJHLnzh388ccfcHNzk7Xl3r17OHPmjJSuVqtx5swZ2WuGhYXB398fd+7cwdtvv41x48YhKysLgYGBSEhIAABMmTIFDg4OaN++PcLDwzFlypQq2//ll1/C29sb+fn5mD59OkaPHo3//Oc/8PLywq1bt6R/l99++w1nz56Ft7c3WrVqhXHjxkFPTw+ffvopoqKiHjrGREp2+fJl7N27FwEBAbJ0e3t7jB07FitXrqzyuuLiYri5ueHVV1+Vpbdv3x4AUFJSUi/tu3PnDoKCgtClSxc899xz6Nq1KzZt2iQr8+abb0JfXx9btmzRuH7Hjh2wtrbGoEGDpLTAwEB8/fXXuH37dvUv/Mgh9Qlr0qSJ9JfGo/7l/eBM7NatW1K9M2fOFEIIkZycLFvwUd1MTAgh7t69K5YvXy5atmxZ4z1jlUol3n77bVFcXFxt20pLS8WSJUtE06ZNpeusrKzE+PHjxdmzZ6Vy586dEwBERESEEEKIy5cvCwDC3t5emqkJIcSAAQMEALFq1Sop7dixY7IFIidPnhQAxM8//yxrS1xcnAAgfvjhByHE/+5lVyzquHv3rjAzMxNeXl6ivLxcum7Hjh0CgIiMjJTSbGxsZJ9LPtj+X375RQAQkydPFmq1Wiq3YcMGAUBs375dCCFEenq6ACDMzc1FWlqaVK7ir8mwsLBqx5ZIG4SFhQkHB4cay6CamVgFtVotrl27JuLi4sQrr7wibG1tRUlJSa1ev6aZWHl5ufDw8BDNmzcXy5YtE9u3bxejRo0SAERISIis7GuvvSaMjY3F7du3pbT8/Hyhp6cn3n//fVnZ0tJSYWhoqPEeVZliZmKVP9u6evVqvdRZ8VkT8L+ZWOXPw2qaiQGAvr4+goKCkJOTg6SkJISFhWH8+PHo2rUrdHV1pXJCCHz55ZeYOXNmtXU1adIEH330EbKysrB161aMGTMGZWVl2Lx5M7p37441a9YAgDTLqZjJVDxftmyZbFm/SqWCnZ0dZs2aJWsvAHTq1AkAEBcXBwBwd3eXtaUivWImFh8fL3tNXV1dnDt3DpGRkbIN4ImJibL6srKykJ2djR49ekhlHmz/Rx99hPbt22PdunWye+QDBw4EAFy5ckV2XXBwMOzt7aVyFhYWACBLI9JGBw8efOzPltPT09GyZUu4u7vj8OHD2LdvH5o1a/bYbduxYweOHz+OvXv3Yt68eRg9ejR27NiBMWPGYNGiRSguLpbKjhs3DsXFxfjpp5+ktN27d6O0tBRjx46V1dukSRO4ubkhJiam2tdWTBCr/MHew27PlZWV4datW9KjJh4eHgCA3377Dbdv35aCmImJCbp06VKrtqlUKnTt2hX//Oc/sWnTJiQlJeHmzZv4/vvvZbc+N27cKPvHrEqLFi3w5ptvIiIiAtnZ2fjuu+/QpEkTzJkzB4WFhUhISICRkZEUiOLj46GjowMfHx+pDiEEEhISMHToUFndFbdJK4JTXFwc2rZtq7EJOy4uDhYWFmjbti0AzUUdurq60NHRwdatWzFnzhyMGjUKPXr0wOeff46OHTtKgeX06dMAoBHEKtp/5coV/Pe//8W0adPQpIl8jdHNmzcBAM8//7x0na6uLkaNGiUrVxHcHrwlSqRt/vzzT9jZ2T1WHW3btsXRo0fx/fffw9XVFZ6entL/ocdx5MgRtGvXDt27d5e9977++usoKSmR/hAGgKFDh6Jly5aIiIiQ0nbs2IHOnTtLk4rK7Ozsaj7c4rFb/4RUnhWdOHECFy5cqLbs3LlzYWRkBCMjIzg4ONSq3rKyMsTFxUlBrFevXhqrZyr77LPP8MEHH+CDDz6QVkJWZmxsjDfeeAMbN26Upaenp8ueZ2Zmws/PD5GRkRp16OnpYezYsQgICEBpaSn+/vtvxMfHw9XVVWpbfHw8HB0dZTPV9PR0FBQUVDnDat++PSwtLaXnD5YBgOPHj8uCQkJCAlxdXaVZ17Jly9ChQwfExMTg+eefxzvvvIOoqChYWFigZ8+e0nWnT59Gs2bNZH8MVG5/WloagP99HlhZxYrQin+/+Ph4dOnSBebm5rJyp0+flvWJSFvl5ORUuQK6LgwMDNC3b1+88cYb2L9/P5577jmEhYU9dtsuXbqES5cuSe+7FY+Kz+Hy8vKksk2aNMGYMWMQHR2Na9eu4fr164iNjdWYhVWwsLBAdnZ2ta+tmCA2ceJE6U1UrVYjKCgIarVao9zNmzexa9cu6Xm/fv1qrLdycIyMjJSWrj7sVuKvv/6KlStXYuXKlVi+fHm15yM+uHTV1tZW9vyvv/7Cnj17kJycXO1rpaamwt7eHjY2NlUu6qg80wGqngFVpFcEp+LiYqSmpmrMYBISEpCenl7too4ffvgBCxYswKFDh7B9+3a8++67GDhwIAoLC5GVlaURxFxdXaWjvx5c1JGRkQHgf7cEKwsPD8eLL76Izp07S4s6HuxPxWtUlU6kjap7n6lJbGwsnJ2dNZblGxgYoF27digoKHjsdtna2qJjx444fvx4lY8H34fHjRuHsrIy7NixAz/88APUajXGjBlTZd1CiCrPra2gmCDWs2dP2aqcXbt2wdfXF0eOHEFxcTEKCgoQHR0Nb29v6XMUABg+fHiN9VpbW6Njx44A7q+Sq/gl6d2790PbU+HUqVMYO3asxuwwPj4e7777rvS8Xbt2sLKykpVxdHQEAHz//feyvWfA/b1oCxYswNGjR/Hpp58iLS0NxcXFUhC4dOkS8vLyqpxxNW/eXPY5UWFhIdLS0qSyv//+O4QQKCsrk8rcvn0bU6dOBfC/z6zOnTuH27dvS8//85//wNjYGC4uLtJ1xcXFeOeddwD8L3AKIRAfHy9r24PtrwjoD+5/++ijj5CQkCDtJblw4UKVM8sH+0SkzaytrXHjxo06X9exY0f88ccfOHDggCw9OzsbycnJsv/Lj6pXr17IzMxE69at0adPH+mRnp6OdevWwcjISFa+a9eucHFxwZYtW7Bjxw70798fbdq0qbLuGzdu1LjHVjGbnQHg008/xc8//yx9XnLw4EEcPHiw2vKBgYEYPXr0Q+v18PCQ3iiB+5/5VA5SVZk6dSq2bt0qLWbYunUrtm7dClNTU5ibmyMvLw9FRUWya4KDgzXqsbCwwD//+U+sWbMGnTp1wpAhQ2Bqaip9XpSfn49PPvkEr732GrZu3QpAc1FHVTMud3d32V8v8fHxEEJIM6zmzZsDAD7//HOo1WoYGRnhq6++kpbbVpR7cCGGmZkZiouL4efnB09PT1y5cgU7duyQgv+WLVvQtWtXqNVq/P3334iLi0N4eDimT5+uUZeXlxc6deqEefPm4cKFC2jZsiViYmJw8uRJBAcHS5/pVdfPij4xiFFj4OTkhPPnz9f5urZt22Ls2LGYP38+8vLy4OrqiuzsbISFhcHExAT//Oc/H7tt48aNw9q1a+Hl5YVZs2bBysoKp0+fxurVqzFhwgSNAxwAYPz48Zg5cyZUKhW+/vrraus+f/58lZ+VSWq1tvIZkpycLJ0lWN1DR0dHBAYGaiwdfXCJfYUvv/xSdr2Li4uUV9MS+8uXL2ts6K3q0axZMxEaGlptn8rKysTGjRtFjx49hLm5uTA1NRU9evQQb731lmw5+fvvvy+MjIykpejz5s0TTZs2FXfv3pXK3Lt3TzRr1kzMmzdP9hrLli0TKpVKFBQUSGmffvqpsLGxEc2bNxceHh5i06ZN4tNPPxUtW7aUyrz33nuiefPm0lL6GzduiBEjRghjY2NhYWEh+vTpI7Zt2yaOHj0qWrZsKTp06CCVff/994WJiYl45ZVXqmy/EEJcvHhR+Pv7CwsLC2FiYiL69esnoqOjZW3/4IMPhIGBgSgtLdXok46OjigqKqp2bIm0xZo1a0SnTp1qLINqltjfunVLfPzxx6JTp07CwMBAdOjQQUyYMKHGY6ce9LDNzkVFRWL69OnC3t5eGBgYCEdHRxESEiI7XKGya9euCT09PdGsWTNRWFhYZZnaLLFXXBAT4n7HvvnmG/HKK6+IVq1aCX19fdGqVSvRt29f8c4774jk5OQqr6suiP3555+yoPPuu+9KeTUFsQrR0dFi9OjRwt3dXbRs2VIYGBgIe3t7MXDgQPHxxx+L3Nzc+h0AImp0Ll++LJo0aSIuXLjwtJvyxPz3v/8VZmZmGufJVqa47xMjImqs/P398eKLL+Ljjz9+2k15IiZMmABLS0uEhoZWW4ZBjIhIIc6cOYMRI0YgJSWlXjYpP8tycnLg6uqKhIQE2NjYVFuOQYyISEH+9a9/wdLSEnPmzHnaTWlQ06dPR5cuXTBlypQayz3zQSwvLw/R0dFo3749DAwMnnZziIjoKSgpKcHFixfh4+Mj31v6BD6beyxLliyp1Rez8cEHH3zwof2PisPDKzzz+8Qq7oVGRERIG4Mf1apVq6r9Ms3aqDhVw8nJSfF1AByPBz0L41Ff9WjTmDwrdQAcj6o8qTE5d+4cAgICpK+QqfDMB7GKY5scHR3h6ur6WHVZWVk9Vh0Vx1xpQx0Ax+NBz8J41Fc92jQmz0odAMejKk96TB78WEkxx04RERE96JmfidXHdLe+1MfxRs9KHfXhWemLNo1HfdWjTWPyrNRRH56Vvjwr4wE8fls4EyMiIsViECMiIsViECMiIsV65j8Tq5CcnCytYnnUe6g+Pj712STF43jIcTw0cUzkOB6aGnJM4uLipJ9TUlKqLNOoZmL8BZTjeMhxPDRxTOQ4Hpqe9pgoZibm5ORUL3saiIhIGSrfddPV1a2yTKOaiRERkXZhECMiIsViECMiIsViECMiIsViECMiIsViECMiIsViECMiIsVSzD6xxz2xQ10usOZQOv450B66Oqr6bh4REdUznthRSbkQCDuUjnIhnnZTiIionihmJsYTO4iIGhee2EFERFqNQYyIiBSr0QUxdTk/EyMi0haNJohVBK/+K2IZyIiItESjCWIVqxJziu5yhSIRkZZoNEGMiIi0D4MYEREplmL2iT3uiR1ERKQsPLGDiIi0mmJmYo97YoeOiuclEhEpCU/sqISH/hIRaZ9GE8SIiEj7MIgREZFiMYgREZFiMYgREZFiMYgREZFiKWaJPTc7ExE1LtzsTEREWk0xM7HH3exMRETKws3ORESk1RjEiIhIsRjEiIhIsWoMYnl5eQgMDISNjQ0sLCzg5+eHjIyMWldeXFyMgIAAWFlZwdHREStWrNAos379ejg7O8PCwgL+/v64ceNG3XtBRESNUo1BbNy4cTh79iy2bduGn3/+GUVFRRg2bBhKS0tRUlICQ0NDGBgYyB6LFy+Wrvfz80N6ejp27tyJhQsXYsmSJQgPD5fyIyIiMGvWLMyZMwd79uxBXl4efH19G663RESkVapdnXjt2jVERkbi8OHD6NevHwDgq6++QseOHfHHH39AR0cHJSUlSExMhKGhoXRdixYtANzf13Xo0CGkpaXB3t4eAHDlyhWEh4dj+vTpAICwsDDMmjUL48aNAwBs374dtra2OHXqFHr16tUwPSYiIq1R7UysoKAAgwYNgrOzs5RmZWUFALhz5w5SUlLQtm1bdOvWDQ4ODtLDwsICABATEwM7OzspgAHAkCFDkJqaisuXL6OgoADx8fEYOnSolG9tbY1u3brhwIED9d5RIiLSPtUGsU6dOiEmJgbm5uYAgPz8fAQHB6NVq1Zwc3NDSkoKmjZtCh8fH1hYWMDFxQVr165FeXk5ACAnJwe2trayOiue5+bmIicnR5ZWuUxubm799ZCIiLRWrTY7BwYGYsuWLdDV1UVkZCT09PSQkpKC69evIygoCMHBwThx4gTmzZuHW7duISgoCPn5+TAyMpLVY2xsDOD+gpHS0lIAqLJMXl6eRhtWrVolzQQf5OPjAx8fn9p0hYiInlHR0dGIjo6uMq+6yU2tglhISAjee+89/PTTTxg2bBhOnjyJtWvXQl9fHyYmJgAANzc3FBUVYc2aNQgKCoK5uTlSU1Nl9RQWFgIAzMzMYGpqCuD+CsaKW5AVZR6cnQHA7NmzeWIHEZEWq2lCkpiYiG3btmmkV3s7MTs7G0lJSQAAGxsbuLu7Y+nSpXBzc8Pu3bthYWEhBbAKrq6uyMnJQWlpKaytrZGZmSnLz8rKkuqztrYGgCrL2NjYPKSrRERENQSx48ePo0+fPrh3754svbi4GPr6+ujZs6dsuTxwf0WinZ0d9PT04O3tjYyMDNlsLCoqCvb29mjXrh1MTU3h5uaGyMhIKb8icHp7e9dX/4iISItVeztx0KBBMDY2xvjx4zFz5kzo6upi8+bNuHDhAkaPHo2SkhLMnz8fKpUKvXv3RkJCAoKDgxEWFgbg/oG9gwYNQmBgIFauXInMzEwsXboUoaGh0mvMmDEDkyZNgqOjIzp27Ij58+fD3d0dvXv3bvieExGR4lUbxMzMzBAVFYW5c+fCx8cHKpUKrq6uOHToEBwcHLB06VLo6OggJCQEeXl5cHBwwLp16/Dmm29KdezevRtTpkzByJEjYW5ujkWLFmHq1KlSfkBAAIqKihASEoLc3Fx4eXlhw4YNDdtjIiLSGiohhHjajahJYmIiunfvjoSEhMda2FGqLof9gigAQHrwEOjp8thIIiKlqC4W8J2ciIgUi0GMiIgUSzHf7JycnAy1Wg1A/m2fRESkneLi4qSfU1JSqizDmRgRESmWYmZiTk5OPLGDiKgRqXzXTVdXt8oynIkREZFiMYgREZFiMYgREZFiMYgREZFiMYgREZFiMYgREZFiKWaJPTc7ExE1LtzsTEREWk0xMzFudiYialy42ZmIiLQagxgRESkWgxgRESkWgxgRESkWgxgRESkWgxgRESkWgxgRESmWYvaJ8cQOIqLGhSd2EBGRVlPMTIwndhARNS48sYOIiLQagxgRESkWgxgRESkWgxgRESkWgxgRESkWgxgRESmWYpbYc7MzEVHjws3ORESk1RQzE+NmZyKixoWbnYmISKsxiBERkWIxiBERkWLVGMTy8vIQGBgIGxsbWFhYwM/PDxkZGVL+sWPH4OHhAVNTU3h6eiIhIUF2fXFxMQICAmBlZQVHR0esWLFC4zXWr18PZ2dnWFhYwN/fHzdu3KinrhERkbarMYiNGzcOZ8+exbZt2/Dzzz+jqKgIw4YNQ2lpKdLS0uDr6wsPDw8cOHAAzs7OGDhwILKysqTr/fz8kJ6ejp07d2LhwoVYsmQJwsPDpfyIiAjMmjULc+bMwZ49e5CXlwdfX9+G6y0REWkXUY3c3FwBQBw+fFhKu3DhggAgEhMTxZw5c0Tv3r2lvPLycuHk5CSWL18uhBDijz/+EABEWlqaVCY0NFQ4ODhIz93c3MT8+fOl59nZ2UJHR0ecPHlSSktISBAAREJCQnVNrZV7ZWrR7l8/i3b/+lncK1M/Vl1ERPRkVRcLqp2JFRQUYNCgQXB2dpbSrKysAAB37txBTEwMhg4dKuWpVCr4+vriwIEDAICYmBjY2dnB3t5eKjNkyBCkpqbi8uXLKCgoQHx8vKwOa2trdOvWTaqDiIioJtUGsU6dOiEmJgbm5uYAgPz8fAQHB6NVq1Zwc3NDTk4ObG1tZdfY2toiNzcXAKrNB4Dc3Fzk5OTI0qqqg4iIqCa12uwcGBiILVu2QFdXF5GRkdDT00N+fj6MjIxk5YyNjZGXlwcA1eYD9xeMlJaWAkCNdVS2atUqaSb4IB8fH/j4+NSmK0RE9IyKjo5GdHR0lXnVTW5qFcRCQkLw3nvv4aeffsKwYcNw8uRJmJubo7i4WFausLAQZmZmAABzc3OkpqZq5AOAmZkZTE1NAdxfwWhhYSEr8+DsDABmz57NEzuIiLRYTROSxMREbNu2TSO92iCWnZ2N3NxcuLi4wMbGBjY2NnB3d0dsbCx2794Na2trZGZmyq7JysqCjY0NAFSbDwA2NjZo3rw5ACAzMxPPP/+8rIybm1tt+ktERI1ctZ+JHT9+HH369MG9e/dk6cXFxdDX14e3tzciIyOldCEE9u/fD29vbwCAt7c3MjIyZLOxqKgo2Nvbo127djA1NYWbm5usjuzsbCQlJUl1EBER1aTamdigQYNgbGyM8ePHY+bMmdDV1cXmzZtx4cIFjB49GiqVCuvWrUNQUBBGjhyJTZs24erVq5gwYQKA+wf2Dho0CIGBgVi5ciUyMzOxdOlShIaGSq8xY8YMTJo0CY6OjujYsSPmz58Pd3d39O7du+F7TkREildtEDMzM0NUVBTmzp0LHx8fqFQquLq64tChQ3BwcABwf2YVFBSE9evXo2vXroiNjZVuJwLA7t27MWXKFIwcORLm5uZYtGgRpk6dKuUHBASgqKgIISEhyM3NhZeXFzZs2NCA3SUiIm1S48KObt26ISYmptp8T09PnDhxotp8Y2NjbN26tcYGTJs2DdOmTXtIM4mIiDTxAGAiIlIsBjEiIlIsxXyzc3JyMtRqNQD5t30SEZF2iouLk35OSUmpsgxnYkREpFiKmYk5OTnxxA4iokak8l03XV3dKstwJkZERIrFIEZERIrFIEZERIrFIEZERIrFIEZERIrFIEZERIqlmCX23OxMRNS4cLMzERFpNcXMxLjZmYioceFmZyIi0moMYkREpFgMYkREpFgMYkREpFgMYkREpFgMYkREpFgMYkREpFiK2SfGEzuIiBoXnthBRERaTTEzMZ7YQUTUuPDEDiIi0moMYkREpFgMYkREpFgMYkREpFgMYkREpFgMYkREpFgMYkREpFiK2SfGEzuIiBoXnthBRERaTTEzMZ7YQUTUuPDEDiIi0moMYkREpFgMYkREpFg1BrGSkhJ88MEHeP7552FiYoJ+/frh1KlTta68uLgYAQEBsLKygqOjI1asWKFRZv369XB2doaFhQX8/f1x48aNuveCiIgapRqD2IIFC7B161asXr0asbGx6NKlCwYMGIC0tDSUlJTA0NAQBgYGssfixYul6/38/JCeno6dO3di4cKFWLJkCcLDw6X8iIgIzJo1C3PmzMGePXuQl5cHX1/fhustERFplRpXJ27cuBEhISF49dVXAQDdu3fHqVOn8M033+Af//gHSkpKkJiYCENDQ+maFi1aALi/r+vQoUNIS0uDvb09AODKlSsIDw/H9OnTAQBhYWGYNWsWxo0bBwDYvn07bG1tcerUKfTq1aveO0tERNql2plYYWEhWrVqhR49esjSLSwskJmZiZSUFLRt2xbdunWDg4OD9LCwsAAAxMTEwM7OTgpgADBkyBCkpqbi8uXLKCgoQHx8PIYOHSrlW1tbo1u3bjhw4EB995OIiLRQtTOx5s2b49y5c7K0M2fO4MiRIwgNDUVKSgqaNm0KHx8fJCQkoHXr1njrrbfw7rvvQkdHBzk5ObC1tZVdX/E8NzcXt2/flqVVLpObm6vRnlWrVsHKyqrKtvr4+MDHx6cW3SUiomdVdHQ0oqOjq8yrKi4AtdzsLIRAREQEpk+fDkdHR0yaNAlvvfUWrl+/jqCgIAQHB+PEiROYN28ebt26haCgIOTn58PIyEhWj7GxMQAgLy8PpaWlAFBlmby8PI02zJ49m5udiYi0WE0TksTERGzbtk0j/aFB7MKFC5gwYQKOHTuGMWPGIDw8HIaGhli7di309fVhYmICAHBzc0NRURHWrFmDoKAgmJubIzU1VVZXYWEhAMDMzAympqYA7q9grLgFWVHmwdkZERFRVWpcnRgXFwcXFxdcu3YNsbGxiIiIkIKPhYWFFMAquLq6IicnB6WlpbC2tkZmZqYsPysrCwBgY2MDa2trAKiyjI2NzWN1ioiIGodqg1h5eTlGjRqF7t27IzExEf3795fl9ezZU7ZcHri/ItHOzg56enrw9vZGRkaGbDYWFRUFe3t7tGvXDqampnBzc0NkZKSUn52djaSkJHh7e9djF4mISFtVezvx9OnTuHjxIoKDg5GdnS3LMzY2xoABAzB//nyoVCr07t0bCQkJCA4ORlhYGID7B/YOGjQIgYGBWLlyJTIzM7F06VKEhoZK9cyYMQOTJk2Co6MjOnbsiPnz58Pd3R29e/duoO4SEZE2qTaIVdzmGzNmjEbe+PHj8fXXX0NHRwchISHIy8uDg4MD1q1bhzfffFMqt3v3bkyZMgUjR46Eubk5Fi1ahKlTp0r5AQEBKCoqQkhICHJzc+Hl5YUNGzbUZ/+IiEiLqYQQ4mk3oiaJiYno3r07EhISHmt1Yqm6HPYLogAA6cFDoKfLYyOJiJSiuljAd3IiIlIsxXwpZnJyMtRqNQD5F6UREZF2iouLk35OSUmpsgxnYkREpFiKmYk5OTnxxA4iokak8l03XV3dKstwJkZERIrFIEZERIrFIEZERIrFIEZERIrFIEZERIrFIEZERIqlmCX23OxMRNS4cLMzERFpNcXMxLjZmYioceFmZyIi0moMYkREpFgMYkREpFgMYkREpFgMYkREpFgMYkREpFgMYkREpFiK2SfGEzuIiBoXnthBRERaTTEzMZ7YQUTUuPDEDiIi0moMYkREpFgMYkREpFgMYkREpFgMYkREpFgMYkREpFgMYkREpFiK2SfGEzuIiBoXnthBRERaTTEzMZ7YQUTUuPDEDiIi0moMYkREpFgMYkREpFg1BrGSkhJ88MEHeP7552FiYoJ+/frh1KlTUv6xY8fg4eEBU1NTeHp6IiEhQXZ9cXExAgICYGVlBUdHR6xYsULjNdavXw9nZ2dYWFjA398fN27cqKeuERGRtqsxiC1YsABbt27F6tWrERsbiy5dumDAgAFIS0tDWloafH194eHhgQMHDsDZ2RkDBw5EVlaWdL2fnx/S09Oxc+dOLFy4EEuWLEF4eLiUHxERgVmzZmHOnDnYs2cP8vLy4Ovr23C9JSIirVLj6sSNGzciJCQEr776KgCge/fuOHXqFL755huo1Wq4uLjg008/BXB/FcmRI0ewZcsWBAUFITk5GYcOHUJaWhrs7e0BAFeuXEF4eDimT58OAAgLC8OsWbMwbtw4AMD27dtha2uLU6dOoVevXg3VZyIi0hLVzsQKCwvRqlUr9OjRQ5ZuYWGBzMxMxMTEYOjQoVK6SqWCr68vDhw4AACIiYmBnZ2dFMAAYMiQIUhNTcXly5dRUFCA+Ph4WR3W1tbo1q2bVAcREVFNqp2JNW/eHOfOnZOlnTlzBkeOHEFoaCgOHjwIW1tbWb6trS2ioqIAADk5OVXmA0Bubi5u374tS6tcJjc3V6M9q1atgpWVVZVt9fHxgY+PT3VdISIiBYiOjkZ0dHSVeVXFBaCWm52FEIiIiMD06dPh6OiISZMmYc6cOTAyMpKVMzY2Rl5eHgAgPz+/ynwAyMvLQ2lpKQDUWEdls2fP5mZnIiItVtOEJDExEdu2bdNIf+gS+wsXLqBfv34IDAzEsGHDEBsbC0NDQ5ibm6O4uFhWtrCwEGZmZgBQbT4AmJmZwdzcHABqrIOIiKgmNQaxuLg4uLi44Nq1a4iNjUVERARMTU0B3P/8KjMzU1Y+KysLNjY2NeYDgI2NDaytrQGgxjqIiIhqUm0QKy8vx6hRo9C9e3ckJiaif//+snxvb29ERkZKz4UQ2L9/P7y9vaX8jIwMpKamSmWioqJgb2+Pdu3awdTUFG5ubrI6srOzkZSUJNVBRERUk2o/Ezt9+jQuXryI4OBgZGdny/KMjY0xefJkrFu3DkFBQRg5ciQ2bdqEq1evYsKECQDuH9g7aNAgBAYGYuXKlcjMzMTSpUsRGhoq1TNjxgxMmjQJjo6O6NixI+bPnw93d3f07t27gbpLRETapNogVnGbb8yYMRp548ePx6ZNmxAVFYWgoCCsX78eXbt2RWxsrOxW4O7duzFlyhSMHDkS5ubmWLRoEaZOnSrlBwQEoKioCCEhIcjNzYWXlxc2bNhQn/0jIiItVm0Q8/f3hxCixos9PT1x4sSJavONjY2xdevWGuuYNm0apk2b9pBmEhERaeIBwEREpFiK+VLM5ORkqNVqAPIvSiMiIu0UFxcn/ZySklJlGc7EiIhIsRQzE3NycuKJHUREjUjlu266urpVluFMjIiIFItBjIiIFItBjIiIFItBjIiIFItBjIiIFItBjIiIFItBjIiIFEsx+8R4YgcRUePCEzuIiEirKWYmxhM7iIgaF57YQUREWo1BjIiIFItBjIiIFItBjIiIFItBjIiIFItBjIiIFEsxS+y52ZmIqHHhZmciItJqipmJcbMzEVHjws3ORESk1RjEiIhIsRjEiIhIsRjEiIhIsRjEiIhIsRjEiIhIsRjEiIhIsRSzT4wndhARNS48sYOIiLSaYmZiPLGDiKhx4YkdRESk1RjEiIhIsRjEiIhIsWodxF544QWcOXOmTpUXFxcjICAAVlZWcHR0xIoVKzTKrF+/Hs7OzrCwsIC/vz9u3LhRp9cgIqLG66FBrLS0FKGhoUhNTZWll5SUwNDQEAYGBrLH4sWLpTJ+fn5IT0/Hzp07sXDhQixZsgTh4eFSfkREBGbNmoU5c+Zgz549yMvLg6+vbz12j4iItFmNqxPXr1+PWbNm4c6dOxp5aWlpKCkpQWJiIgwNDaX0Fi1aALi/r+vQoUNIS0uDvb09AODKlSsIDw/H9OnTAQBhYWGYNWsWxo0bBwDYvn07bG1tcerUKfTq1at+ekhERFqrxpmYv78/4uPjER0drZGXkpKCtm3bolu3bnBwcJAeFhYWAICYmBjY2dlJAQwAhgwZgtTUVFy+fBkFBQWIj4/H0KFDpXxra2t069YNBw4cqK/+ERGRFqsxiFlaWsLJyQkODg4aeSkpKWjatCl8fHxgYWEBFxcXrF27FuXl5QCAnJwc2Nrayq6peJ6bm4ucnBxZWuUyubm5j94jIiJqNB55s3NKSgquX7+OoKAgBAcH48SJE5g3bx5u3bqFoKAg5Ofnw8jISHaNsbExACAvLw+lpaUAUGWZvLw8jddbtWoVrKysqmyLj48PfHx8HrUrRET0DIiOjq7yzh+Aaic3jxzE1q5dC319fZiYmAAA3NzcUFRUhDVr1iAoKAjm5uYai0EKCwsBAGZmZjA1NQVwfwVjxS3IijIPzs4AYPbs2Tyxg4hIi9U0IUlMTMS2bds00h95n5iFhYUUwCq4uroiJycHpaWlsLa2RmZmpiw/KysLAGBjYwNra2sAqLKMjY3NozaLiIgakUcKYuXl5ejZs6dsuTxwf0WinZ0d9PT04O3tjYyMDNlsLCoqCvb29mjXrh1MTU3h5uaGyMhIKT87OxtJSUnw9vZ+xO4QEVFj8ki3E3V0dDBgwADMnz8fKpUKvXv3RkJCAoKDgxEWFgbg/oG9gwYNQmBgIFauXInMzEwsXboUoaGhUj0zZszApEmT4OjoiI4dO2L+/Plwd3dH796966d3RESk1R75M7GlS5dCR0cHISEhyMvLg4ODA9atW4c333xTKrN7925MmTIFI0eOhLm5ORYtWoSpU6dK+QEBASgqKkJISAhyc3Ph5eWFDRs2PF6PiIio0VAJIcTTbkRNEhMT0b17dyQkJDzWwo5SdTnsF0QBANKDh0BPl8dGEhEpRXWxgO/kRESkWIr5Uszk5GSo1WoA8i9KIyIi7RQXFyf9nJKSUmUZzsSIiEixFDMTc3Jy4mZnIqJGpPJdN11d3SrLcCZGRESKxSBGRESKxSBGRESKxSBGRESKxSBGRESKxSBGRESKxSBGRESKpZh9Yjyxg4ioceGJHUREpNUUMxPjiR1ERI0LT+wgIiKtxiBGRESKxSBGRESKxSBGRESKxSBGRESKxSBGRESKpZgl9tzsTETUuHCzMxERaTXFzMS42ZmIqHHhZmciItJqDGJERKRYDGJERKRYDGJERKRYDGJERKRYDGJERKRYDGJERKRYitknxhM7iIgaF57YQUREWk0xMzGe2EFE1LjwxA4iItJqDGJERKRYDGJERKRYtQ5iL7zwAs6cOSNLO3bsGDw8PGBqagpPT08kJCTI8ouLixEQEAArKys4OjpixYoVGvWuX78ezs7OsLCwgL+/P27cuPGIXSEiosbmoUGstLQUoaGhSE1NlaWnpaXB19cXHh4eOHDgAJydnTFw4EBkZWVJZfz8/JCeno6dO3di4cKFWLJkCcLDw6X8iIgIzJo1C3PmzMGePXuQl5cHX1/feuweERFpsxpXJ65fvx6zZs3CnTt3NPK++uoruLi44NNPPwVwfxXJkSNHsGXLFgQFBSE5ORmHDh1CWloa7O3tAQBXrlxBeHg4pk+fDgAICwvDrFmzMG7cOADA9u3bYWtri1OnTqFXr1712lEiItI+Nc7E/P39ER8fj+joaI28mJgYDB06VHquUqng6+uLAwcOSPl2dnZSAAOAIUOGIDU1FZcvX0ZBQQHi4+NldVhbW6Nbt25SHURERDWpcSZmaWkJS0tLGBkZaeTl5OTA1tZWlmZra4uoqKga8wEgNzcXt2/flqVVLpObm1vHbhARUWP0yJud8/PzNYKbsbEx8vLyaswHgLy8PJSWlgJAjXVUtmrVKlhZWVXZFh8fH/j4+DxaR4iI6JkQHR1d5Z0/ANVObh45iJmbm6O4uFiWVlhYCDMzMyn/wcUghYWFAAAzMzOYmpoCuL+C0cLCQlbmwdkZAMyePZsndhARabGaJiSJiYnYtm2bRvoj7xOztrZGZmamLC0rKws2NjY15gOAjY0NrK2tAaDGOoiIiGryyEHM29sbkZGR0nMhBPbv3w9vb28pPyMjQzYbi4qKgr29Pdq1awdTU1O4ubnJ6sjOzkZSUpJUBxERUU0eOYhNnjwZZ8+eRVBQEOLi4vDuu+/i6tWrmDBhAoD7B/YOGjQIgYGBOHbsGL7//nssXboU77//vlTHjBkzsHr1anz33Xf45Zdf8MYbb8Dd3R29e/d+/J4REZHWe+TPxDp16oSoqCgEBQVh/fr16Nq1K2JjY2W3Anfv3o0pU6Zg5MiRMDc3x6JFizB16lQpPyAgAEVFRQgJCUFubi68vLywYcOGx+sRERE1GrUKYu3atYMQQiPd09MTJ06cqPY6Y2NjbN26tca6p02bhmnTptWmGURERDI8AJiIiBRLMV+KmZycDLVaDUD+RWlERKSd4uLipJ9TUlKqLMOZGBERKZZiZmJOTk7c7ExE1IhUvuumq6tbZRnOxIiISLEYxIiISLEYxIiISLEYxIiISLEYxIiISLEYxIiISLEYxIiISLEUs0+MJ3YQETUuPLGDiIi0mmJmYjyxg4ioceGJHUREpNUYxIiISLEYxIiISLEYxIiISLEYxIiISLEYxIiISLEYxIiISLEUs0+MJ3YQETUuPLGDiIi0mmJmYjyxg4ioceGJHUREpNUYxIiISLEYxIiISLEYxIiISLEYxIiISLEYxIiISLEUs8Sem52JiBoXbnYmIiKtppiZGDc7ExE1LtzsTEREWo1BjIiIFItBjIiIFKtBg9ixY8fg4eEBU1NTeHp6IiEhQZZfXFyMgIAAWFlZwdHREStWrGjI5hARkZZ5rCD29ddfw8DAQOORkZGBtLQ0+Pr6wsPDAwcOHICzszMGDhyIrKws6Xo/Pz+kp6dj586dWLhwIZYsWYLw8PDH7hQRETUOj7U6MTk5Gf3798fnn38uS2/Tpg3mz58PFxcXfPrppwDurzI5cuQItmzZgqCgICQnJ+PQoUNIS0uDvb09AODKlSsIDw/H9OnTH6dZRETUSDzWTCwlJQU9evSAg4OD7KGnp4eYmBgMHTpUKqtSqeDr64sDBw4AAGJiYmBnZycFMAAYMmQIUlNTcfny5cdpFhERNRKPHcQSExPh6OiIli1bwsfHB/Hx8QCAnJwc2Nraysrb2toiNze3xnwAUhkiIqKaPPLtxJKSEly6dAnt2rXD2rVr0axZM6xbtw79+vXD2bNnkZ+fDyMjI9k1xsbGyMvLA4Bq8wFIZSpbtWoVrKysqmyLj48PfHx8HrUrRET0DIiOjkZ0dHSVedVNbh45iOnr6+PKlSuwsrJCkyb3q3nppZfQuXNnbNy4Eebm5iguLpZdU1hYCDMzMwCAubk5UlNTNfIBSGUqmz17Nk/sICLSYjVNSBITE7Ft2zaN9EcOYrq6uhq3A3V1ddG1a1dcuXIF1tbWyMzMlOVnZWXBxsYGAKrNByCVISIiqskjfyb23//+F46Ojrhy5YqUJoTAn3/+CUdHR3h7eyMyMlKWt3//fnh7ewMAvL29kZGRIZuNRUVFwd7eHu3atXvUZhERUSPyyEGsd+/euHv3Lv7xj39g3759OH36NCZPnoxr165h8uTJmDx5Ms6ePYugoCDExcXh3XffxdWrVzFhwgQA9w/0HTRoEAIDA3Hs2DF8//33WLp0Kd5///166xwREWm3Rw5izZo1w/79+2FmZobAwEC8/PLLuH79On755RdYWlqiU6dOiIqKwtGjRzFo0CD88ccfiI2Nld0q3L17N+zs7DBy5EgsXrwYixYtwtSpU+ulY0REpP0ea7Nzp06dsG/fvmrzPT09ceLEiWrzjY2NsXXr1sdpAhERNWI8AJiIiBSLQYyIiBRLMd/snJycDLVaDUD+bZ9ERKSd4uLipJ9TUlKqLMOZGBERKZZiZmJOTk48sYOIqBGpfNdNV1e3yjKciRERkWIxiBERkWIxiBERkWIxiBERkWIxiBERkWIxiBERkWIpZok9NzsTETUu3OxMRERaTTEzMW52JiJqXLjZmYiItBqDGBERKRaDGBERKRaDGBERKRaDGBERKRaDGBERKRaDGBERKZZi9onxxA4iosaFJ3YQEZFWU8xMjCd2EBE1Ljyxg4iItBqDGBERKRaDGBERKRaDGBERKRaDGBERKRaDGBERKZZilthzszMRUePCzc7V+DwmDffKyp92M4iI6DEpZiZWX5udWzynjy8OX8APiZn4JWggdHVU9dA6IiKqb9zs/ICSjAQcneuFd/t3RE7RXZQL8bSb9FRFR0c/7SY8UzgemjgmchwPTU97TBpXEPsrEfpNdDDTu9PTbsoz4Wn/8j1rOB6aOCZyHA9Nlcfk5s2buHbt2kOvqW252mhUQexB/GyMiKj+LF68GOnp6fVWrjYaZRDTUalgbdIUXxy+AM/Q/0Jd3rhvKxIRPa709HTk5uaiT58+9VKutp6JILZ48WLY29ujVatWmDRpEkpKSqS85OTken89XR0VfgkaiHNLfOv02VhcXJxsyeejeFbqqA/PSl+0aTzqqx5tGpNnpY768Kz0pSHG46OPPsInn3xS53KP25anHsSWLl2KtWvXYsWKFYiIiMCpU6cwduzYBn9dXR0VmujeX5n4eUwa7pSqOSMjInoEx48fh7W1Nezs7OqlXF081SX2ZWVl+OKLL7B8+XK8+uqrAIBNmzahV69eyMrKgq2tbYO+fuXbil8cvgArY334u7XBewPspaX3OioVl+ETEVVDCIGlS5di69atNZYrLy+vVbm6eqpB7I8//kBOTg6GDh0qpbm5ucHc3ByHDh1CYGAg7t69CwA4d+7cY71Wmboc6lsF+C0xEU10/zcBXTvYDGXl5dh++jIOnbuEz77/E599/7/VNi2e08NARyuMcmuD9fsTMaC9AQTuBzW1EPh33BWMcm8DXVXtAt2ff/4JAFIdj6I+6gCAnJxcnI6Lf6rteFbqAJ6N8aiverRpTJ6VOgCOR1V+PX0aPXv0wKVLl3Dp0qVqy0VHR8PR0VGjXMVJHNXtA6tQEQMqf9wEABBPUVRUlFCpVEKtVsvSX3zxRREaGiqEECIiIkIA4IMPPvjggw8REREhixdPdSaWn58PQ0ND6OjIP5ozNjZGXl4eAMDHxwcRERFo3749DAwMnkYziYioCt999x2sra0xePDgeilXk5KSEly8eBE+Pj6y9KcaxMzNzXH79m2o1WrZVLKwsBBmZmYAAAsLC4wZM+ZpNZGIiKpw48YNpKamYvXq1VDV8HFKbcvVRlXL8p/q6kRra2sIIXD16lUpreK5jY3NU2wZERHV5JNPPsGHH3740MBU23KP6qkGsS5dusDa2hqRkZFS2unTp1FQUIABAwY8xZYREVF1ntbG5qo81SDWpEkTTJ8+HfPnz8dPP/2E//73v5g4cSL8/f3Rpk2bOtdX06bpB507dw4DBw6Eqakpevbsif379z9OV55JdRmPX375BR4eHjAxMUGHDh0wb9483Llz5wm29smoy5hUNnbsWPj5+TVw6568uoxHUVERJkyYgNatW6NVq1aYO3cuysrKnmBrG15dxuPgwYPo2bMnjI2N8eKLL2L79u1PsKVP3gsvvIAzZ84AqH5j84Pvq5MmTarVBujH8oQWItbo448/Fh06dBDW1tZi0qRJoqSkpM51fPLJJ6JFixbixx9/FIcOHRJOTk5i5MiRVZbNz88XlpaWYvz48eLXX38VixcvFvr6+iIhIeFxu/LMqMt4XL16VTz33HPinXfeEQkJCeKHH34Qbdu2FW+99dYTbnXDqsuYVLZt2zYBQLz66qtPoJVPTl3GQ61Wi549e4ohQ4aIY8eOiU2bNglTU1OxePHiJ9zqhlOX8fjjjz+Evr6+WLhwoUhKShJffPGF0NXVFQcOHHjCrW549+7dEyEhIQKASEpKEseOHRMzZszQKPfg++rEiROFjo5Og7+vPhNB7HGVlpYKa2tr8eWXX0ppp0+fFjo6OiIzM1OjfHh4uGjTpo0oKyuT0oYOHSreeeedJ9LehlbX8Vi1apWwtbWVjcdPP/0kdHR0xN9///1E2tzQ6jomFS5evCjMzc1F586dtSqI1XU8oqKihIWFhewPzPXr14t//OMfT6S9Da2u4/HRRx8JV1dXWZqfn58IDAxs8LY+SevWrRPNmjWTlrcnJSWJa9euifz8fI2yD76vXrt2TXh7ezf4++pTP3aqPjxs0/SDYmJi4OPjI1sROWTIEBw4cOCJtLeh1XU8SkpKMHjwYNl4WFpaory8HNnZ2U+kzQ2trmMC3D9hYOzYsZgyZQp69OjxpJr6RNR1PHbs2IHhw4ejWbNmUtqUKVOwbdu2J9LehlbX8bh79y6ee+45WZqRkZHW3YL39/dHfHy87OtWLC0tpdXjlT34vmppaYnhw4c3+PuqVgSxnJwcqFQq2YpGlUqFVq1aITc3t8ryDx5pZWtrW2VZJarreCxYsADffPON9Ly8vBzh4eFo2bIl2rVr90Ta3NDqOiYAsHz5cty+fRuLFi16Qq18cuo6HpcvX4a5uTkmT56Mtm3bolOnTlr1uWldx2PEiBGIi4vDDz/8gLKyMhw7dgy7d+/GsGHDnmSzG5ylpSWcnJzg4ODw0LJP6331qe4Tqy+12TT9YHkjIyONsrdv30ZJSYniN1XXdTwqy8zMxLRp07Bv3z5ERERAT0+vIZv6xNR1TE6fPo0VK1bg119/1ZoxqKyu45GdnY3PP/8c06dPx86dO5GVlYWZM2ciPz8fGzZseFLNbjB1HY/evXtj7ty58Pf3h0qlghACo0ePRkBAwJNq8jPnab2vasVMrPKm6coqb5p+sHxxcbFG2aZNmyo+gAF1Hw/g/v68NWvWwMHBAfHx8di7d69WbTKvy5jcuXMHY8aMQUhISK3+AlWiuv6O6Ovro1+/fli9ejV69uyJ1157DatWrcLGjRtrvcLzWVbX8di4cSP+7//+D8HBwTh69Cg+++wznDp1CkuWLHlSTX7mPK33Va0IYnXdNG1tbY3MzExZWlZWltZssK7reAgh8Oabb+L999/HO++8g9TUVK27LVKXMcnNzcX58+cxY8YMGBgYwMDAAFu2bMHevXthYGCA2NjYJ938evco/2defPFFWZqTkxPUarWsDqWq63iEhIRgwYIFmD9/Pjw8PPD+++8jLCwMq1atwr17955k058ZT+t9VSuCWF03TXt7e+PAgQOyv7qioqLg7e39RNrb0Oo6Hps3b8aOHTuwd+9efPbZZzA2Nn6SzX0i6jImtra2SElJwZkzZ5CUlISkpCQMHz4cXl5eSEpKQs+ePZ908+tdXX9H+vTpg9OnT8vSfvvtNzRt2lQrPjet63iUlJRonEChUqlQUlKC8vLyBm/vs+ipva826NrHJ2jp0qXC3Nxc7NmzRxw6dEh07txZjBo1SgghRFFRkTh//ry0PPjB/QyLFi0S+vr64rfffnuKPahfdRkPHx8f0bNnT3H+/HmNR2lp6dPsRr2qy5g8aPz48Vq1xF6Iuo3H1atXhbGxsXjvvfdEQkKC2LFjh7CyshLz589/ml2oV3UZj48//li0aNFChIaGilOnTok1a9aI9u3ba90S+woXL16UlthXeFbeV7UmiAlR/abpzZs3CwDi8OHDUtnk5GTh5eUlmjdvLnr06CGio6OfVrMbTG3Hw8nJqdqvPbh48eLT7EK9q8vvSGXaGMSEqNt4JCUlif79+4vmzZuLTp06ieXLl8v2FmqD2o5HWVmZWLVqlXB0dBQGBgaiY8eO4sMPPxS3b99+ms1vMFUFsWflfVUlhBANO9cjIiJqGFrxmRgRETVODGJERKRYDGJERKRYDGJERKRYDGJERKRYDGJEVCfl5eWwtraGSqXCu+++2+Cvt3jxYqhUKty4cUP2/Ntvv62X+s+cOaNR3/PPPw+VSqXxMDY2Rvfu3fHVV1890qbmI0eOQKVS4YcffqiXtj+Ml5dXlf0wMDDAiy++iOXLlyv+hBGtOACYiJ6co0ePSieT7969G2vXrtU4OLchDR06FBYWFg1+coq9vT1mzJghPRdCIDc3F7t27cLbb7+Nq1evYuHChQ3ahvpgbm6ucabjjRs38J///Afz589HWloaNm3a9JRa9/gYxIioTv79738DAHx8fBAdHY3jx4/D09Pzib2+u7s73N3dG/x1bG1tq5xpLliwAI6Ojli+fDmCgoLQtGnTBm/L4zAxMamyHx9++CH69u2LzZs3Y+HChWjfvv2Tb1w94O1EIqo1tVqNH374Afb29pg7dy4AYOfOnU+5VU9Ws2bN8PLLL+Pu3btIT09/2s15ZDo6OvDz8wNw/0tBlYpBjEiBdu3ahT59+sDU1BQDBgzAkSNHMHnyZDg7O0tlLl26hDfeeAPt2rVD8+bN4eXlhYMHD8rqmTBhAhwdHZGXl4e3334b7du3R8uWLREYGIj8/HyN1z169CiuXbsGPz8/9O3bF82bN8cPP/xQ5edDGzZsgIuLC4yMjNC6dWuMHz++Xr4g8dtvv4VKpUJCQkKdr83IyICfnx+sra3RoUMHTJ06Fbdv365zPRXfcF1aWlrnax+kVquxbNkyuLq6wtjYGF27dsWHH34ofVb1119/QaVS4eOPP5auuXfvHgwMDKBSqXDt2jUpfcOGDVCpVNV+W3lt+nH9+nVMmzYN7du3R7NmzWBrawt/f3+cO3dOdq1KpUJISAhiYmIwdOhQmJqaolOnTvi///s/jddZv3493NzcYGZmhiFDhiA5ORne3t4a35Zx9uxZDB8+HDY2NrCwsMCwYcMQHx9fYx8YxIgU5uuvv8brr78OtVqNOXPmoE2bNnjllVcQFxcnlUlJSYGLiwt+/fVXjB07FjNmzMDVq1fh4+OjMXO6d+8ehgwZguzsbEyZMgXdunXDli1b8N5772m8dsWtRD8/P+jp6cHHxwfZ2dk4ceKErFxYWBimTJkCY2NjzJkzB/369cP333+PN998swFGpHYyMjLQvXt3HDx4EKNGjcLYsWNx6NAh/OMf/6hzXXFxcTAxMcELL7zw2O0aPXo0FixYgNatW2PevHl44YUXEBwcDF9fXwD3F5nY29vj8OHD0jUJCQnSt2ofO3ZMSj969CgMDQ3h4eFR637o6OjAzc1N1p6vvvoKPj4+WLx4Mfr27YvIyEgMHjxY4/vWfv31V7zxxhtwcHDArFmzcPv2bUydOhUxMTFSmY8++gjTpk2Dubk5PvjgAzRr1gxeXl64ePGirK7Dhw+jZ8+euHjxIqZMmYJJkyYhISEBnp6e+OWXX6rvRIOfzkhE9ebvv/8WLVu2FF5eXrJvGPj8888FANGlSxchhBDDhg0TDg4Oori4WCpTUlIiunXrJqysrIRarRZC3D/YGICYNm2aVE6tVosuXbqIli1byl67rKxMtGzZUtjY2Ijy8nIhhBBbtmwRAMSMGTNkZd3d3YWLi4ssberUqcLS0lLcunWrTn1etGiRACDy8vKEEP87eDY+Pr5O9QQEBAgdHR0RFxcnpd28eVN07NhRABCbN2+W0tu3by9eeuklkZmZKT2uXLkiEhMTxcyZMwUA8eWXX9bp9YUQ4vDhwwKA2LVrl+z53LlzZeVCQkIEALF7924hhBDvvvuu0NfXlw4YXrFihbC0tBSWlpaysW/durUYOnSo9Lx///6idevWsn5kZmaK33//XQQHBwtdXV2xYMEC2XgAEG+//basPcuWLRMARHJyspQGQKhUKnHq1Ckp7fTp07L+XLlyRTRt2lSMHTtWVl/FGL7yyitCiPu/cy4uLsLT01P2e52Xlydat24t3N3dqx1TBjEiBYmKihIAxL59+2Tpd+7cEcbGxqJLly6ipKREqFQqsWDBAo03r4o3o7Nnzwoh/hfEMjIyZPWNHTtWGBkZydIOHjwoAIipU6dKaXl5eUJHR0fY2tpKgU0IIXr37i2MjIzEuXPnHrvP9RXEzM3NxfDhwzXSK/4AeDCIoZpvdqgq6NTWg0Fszpw5QkdHR9y8eVNWrqSkRBgZGYm33npLCCHE3r17BQBx6NAhIYQQr776qvDz8xMjR44Urq6uQgghMjIyBAARFhYm1dO/f/8a+zF69GjZ65aVlYmcnByNrySaN2+expgDEJ6enrJyarVaABDTp08XQgixfv16AUD8/vvvsnJXr16VBbHU1FQBQKxfv17jd3batGlCpVKJgoKCKseUqxOJFOTChQsAgM6dO8vSmzZtig4dOkCtVuP8+fMQQiA4OBjBwcFV1pObmyt9fqavr6+xMk1XV1fjmorbkO7u7rh06ZKU7uzsjDNnzuDkyZPo3bs3AGDp0qUYOXIkOnfuDBcXF/Tr1w8vv/wyvLy8qqy7od28eRP5+fka304NoMo04H6/li9fLksrKCjA1q1bERoaCkdHR4wfP/6x2nXhwgW0atUKpqamsvRmzZqhQ4cO0r93//79oaenhyNHjmDAgAE4ceIE5s6dCz09PezZswdFRUU4cuQIAEi3ISu0bNkS33zzjSzt77//xs8//4yIiAi88MILWLRoEYD7/+6WlpaIiorCyZMnceHCBfz55584e/Zsle3v1KmT7PmDWy0uXLgAHR0dODg4yNJtbGzQvHlz6XlaWhoAYOrUqZg6dWqVr3X9+nXZNRUYxIgUpOID+Ae/VRi4/waiVqulzy1mzpyJQYMGVVlP5QUg+vr6VdZXmVqtxu7duwEAEydOrLLMrl27pCDm5eWFCxcu4Mcff0RkZCS+++47fP755+jWrRsOHjwIc3Pzh/S0funp6VWbV13fW7RogZdfflkj/fXXX0eHDh2wadOmxw5iQohqX19HRwdlZWUAAGNjY7z00ks4fPgw0tPTce3aNXh4eKBp06ZQq9U4efIkjh49ivbt22sEFkNDwyr7MXr0aKSmpmLTpk1SECsoKMDrr7+Ow4cPw8vLCy4uLhg0aBByc3OxYMECjToqFoZUp6aFL5UDXsXv7LJly6r9o8LKyqrKdAYxIgWxs7MDAJw7dw7PP/+8lF5aWoqMjAy0adMGHTt2BHD/je/BN6/MzExcunQJFhYWdXrd2NhYXL9+Hd7e3hp7joqLixEYGIhdu3Zh1apVEELg999/h5WVFSZOnIiJEyeirKwM69atw4wZM/Dll18iKCjoUbr/yIyMjGBpaVnljCI5OblOdenr68PZ2RkZGRmP3a6OHTti3759KCwslM0y7t69iwsXLsDf319Kq1hocfDgQRgYGMDV1RW6urowNTXF0aNHcfToUfj4+NTp9bt37y6bpe3YsQMHDx5EXFycbLHHunXrHql/dnZ2KC8vR3p6uuzuwfXr13Hz5k1ZOeB+oHrwd/b8+fPIy8uDsbFxla/B1YlECuLh4QFTU1N89tln0l/pAPDNN9+gsLAQwP037P79++Orr76SLZMvLS3Fa6+9hsmTJ9f5ll7FrcRZs2ZhxIgRskdAQAD69u2LK1eu4PTp09DR0UHfvn0xefJk6fomTZpgxIgRAPBIxzXVh+HDh+Pnn3+WLdkuLi7G2rVr61xXs2bNHmlp/oNefvllqNVqhISEyNLDwsJQXFyMoUOHSmmDBw/GvXv3sHr1avTo0QN6enrQ0dGBh4cHdu7ciQsXLtQ5iDVr1gz37t2TZkLnzp2Djo4OrK2tpTJ37tzBd999B6Du/3a+vr5o0qQJVqxYIUv/7LPPZM8dHBxgZ2eHsLAwadUlABQVFWHgwIEaJ45UxpkYkYKYmppi8eLFmDFjBjw9PfHyyy8jIyMDO3fuhKurqxTYVqxYgX79+qFr164YO3YsysvLsW/fPqSkpGDfvn11es2ysjLs3r0brVq1gre3d5Vlxo4di6NHj2Lnzp3o2bMnRowYgYiICAwePBgvvfQScnNzERkZCWNjY4wcOfKxx+FRfPjhh9i9eze8vLwwYcIEmJubY8eOHbCwsEBqamqd6jIxMcG1a9dw69YtPPfcc4/cJi8vL/j5+WH58uX4888/0bNnTyQlJeHf//43vLy8ZDMxV1dXWFhYID09HaNGjZLSPT098fPPP6NJkyYYMGBAnfsB3N9+YG9vDy8vL4SFheHVV1/FsGHDcPfuXezYsUM6lSQ4OBgrV66UZk4PY2dnh/feew+rV69GdnY2+vXrh99++w2HDx9Gp06dpFuKTZo0wWeffQY/Pz+4urpi1KhRKCgowN69e5GXl4elS5dW+xqciREpzD//+U98++23uHfvHlauXImrV68iJiYGHTt2lN5Q3dzcEB8fD1dXV3z77bfYsGEDrKyscPDgQdlf97URGxuLvLw8BAYGVjuDe/3119GsWTPs2rULAPDFF19g1qxZOH/+PEJCQrBv3z64ubnhyJEjGh/yPynt27dHQkICvL29sXPnTmzevBl9+/atc1AHABcXF9y7dw8zZ8587Hbt3LkTS5cuxaVLlxAcHIxz587hww8/RHR0tKycjo6O9Blnnz59pPSKI7969epV5cKHmri4uAAApk2bBgAYMWIE1q5di8LCQqxYsQKHDh3CzJkz8fvvv2P06NE4deoUrl69WqfX+Oyzz7BixQpkZmZi1apVUKvVOH78OJo3by77A2DYsGE4duwYWrdujS+++ALbtm2Dk5MTjh8/DldX12rrV/3/pZJEpABlZWW4ceMGmjdvrvGhuru7O+zs7PD9998/pdY9Gd9++y3Gjx+P+Ph4dO/e/Wk3h2pw9+5dFBQUwNzcXLa4RggBa2trTJw4UWMFaF3xdiKRgpSUlKB169aYMWMGVq5cKaWfOXMG8fHxVZ6y8awpKytDVlZWrcoaGhrC0tJSllZ5QUDlpf410dfXh42NTe0bWQeZmZkaJ1lURUdHB23atGmQNjyr/vrrLzg6OmLt2rWYPn26lL5v3z5cu3YNQ4YMeezX4EyMSGEmT56MTZs2YeLEifD09ER2djZCQ0PRrFkznD9//pk/Vf3ChQu1/kzl1VdfxY8//ig937JlC5YtW4bU1FRkZ2fLFiDUxMXFBb/99tsjtfdh2rRpg8zMzIeWMzU1lQXgxmLw4ME4ceIEJk2ahJ49eyI1NRUrVqxAly5d8Ouvvz52/QxiRApz9+5drFy5Elu2bMHly5dhbW2NXr16YfXq1dXupXmW3L59G7GxsbUqa2VlJVvq3a5dOwBAUFAQpkyZgsjIyFrVY2Jigr59+9a9sbVw6NAh2Yq66jRp0qTOqwe1QWFhIT755BP8+OOPuHr1Ktq2bYsBAwYgNDS02mXzdcEgRkREisXViUREpFgMYkREpFgMYkREpFj/D7xWxIBfBnRiAAAAAElFTkSuQmCC",
      "text/plain": [
       "<Figure size 500x500 with 1 Axes>"
      ]
     },
     "metadata": {},
     "output_type": "display_data"
    }
   ],
   "source": [
    "utilities.plot(hists[\"genAs_lj_dR_lowRange\"][ch, :])"
>>>>>>> refs/remotes/upstream/llpNanoAOD
   ]
  },
  {
   "cell_type": "code",
   "execution_count": null,
   "id": "d22110b1",
   "metadata": {
    "tags": []
   },
   "outputs": [],
   "source": [
    "samples_used_0p25 = [sample for sample in samples if \"0p25GeV\" in sample]\n",
    "samples_0p25_100 = [sample for sample in samples_used_0p25 if \"100GeV\" in sample]\n",
    "samples_0p25_200 = [sample for sample in samples_used_0p25 if \"200GeV\" in sample]\n",
    "samples_0p25_500 = [sample for sample in samples_used_0p25 if \"500GeV\" in sample]\n",
    "samples_0p25_800 = [sample for sample in samples_used_0p25 if \"800GeV\" in sample]\n",
    "samples_0p25_1000 = [sample for sample in samples_used_0p25 if \"1000GeV\" in sample]\n",
    "samples_used_0p25 = [samples_0p25_100, samples_0p25_200, samples_0p25_500, samples_0p25_800, samples_0p25_1000]\n",
    "plt.subplots(2,2,figsize=(30,30))\n",
    "for i in range(4):\n",
    "    plt.subplot(2, 2, i+1)\n",
    "    for sample in samples_used_0p25[i]:\n",
    "        utilities.plot(out[sample][\"hists\"][\"lj_lj_absdphi\"][\"llpnano\", :], density=True, flow='none')\n",
    "    plt.legend(samples_used_0p25[i], prop={'size': 16})\n",
    "    plt.title(f\"{samples_used_0p25[i][0].split('_')[1]}-0p25GeV Sample\", fontsize=24)"
   ]
  },
  {
   "cell_type": "code",
   "execution_count": null,
   "id": "cdb65dd6",
   "metadata": {
    "tags": []
   },
   "outputs": [],
   "source": [
    "samples_used_1p2 = [sample for sample in samples if \"1p2GeV\" in sample]\n",
    "samples_1p2_100 = [sample for sample in samples_used_1p2 if \"100GeV\" in sample]\n",
    "samples_1p2_200 = [sample for sample in samples_used_1p2 if \"200GeV\" in sample]\n",
    "samples_1p2_500 = [sample for sample in samples_used_1p2 if \"500GeV\" in sample]\n",
    "samples_1p2_800 = [sample for sample in samples_used_1p2 if \"800GeV\" in sample]\n",
    "samples_1p2_1000 = [sample for sample in samples_used_1p2 if \"1000GeV\" in sample]\n",
    "samples_used_1p2 = [samples_1p2_100, samples_1p2_200, samples_1p2_500, samples_1p2_800, samples_1p2_1000]\n",
    "plt.subplots(3,2,figsize=(30,30))\n",
    "for i in range(5):\n",
    "    plt.subplot(3, 2, i+1)\n",
    "    for sample in samples_used_1p2[i]:\n",
    "        utilities.plot(out[sample][\"hists\"][\"lj_lj_absdphi\"][\"llpnano\", :], density=True, flow='none')\n",
    "    plt.legend(samples_used_1p2[i], prop={'size': 16})\n",
    "    plt.title(f\"{samples_used_1p2[i][0].split('_')[1]}-1p2GeV Sample\", fontsize=24)"
   ]
  },
  {
   "cell_type": "code",
   "execution_count": null,
   "id": "acc321f3",
   "metadata": {
    "tags": []
   },
   "outputs": [],
   "source": [
    "samples_used = [sample for sample in samples]\n",
    "#samples_used.append(\"TTJets\")\n",
    "hists_used = [\"lj_n\"]\n",
    "plt.subplots(1,1,figsize=(24,16))\n",
    "for i in range(len(hists_used)):\n",
    "    plt.subplot(1,1,1)\n",
    "    for sample in samples_used:\n",
    "        utilities.plot(out[sample][\"hists\"][hists_used[i]][\"llpnano\", :8j], density=True, flow='none')\n",
    "    plt.legend(samples_used, prop={'size': 12}, ncol=2)"
   ]
  },
  {
   "cell_type": "code",
   "execution_count": null,
   "id": "024cd292",
   "metadata": {
    "tags": []
   },
   "outputs": [],
   "source": [
    "utilities.plot(out[\"TTJets\"][\"hists\"][hists_used[i]][\"llpnano\", :8j], density=True, flow='none')\n",
    "plt.legend([\"TTBar\"])"
   ]
  },
  {
   "cell_type": "code",
   "execution_count": null,
   "id": "9277dfc6",
   "metadata": {
    "tags": []
   },
   "outputs": [],
   "source": [
    "print(str([sample.split('_') for sample in merged_samples]))\n",
    "cutflow.print_multi_table([out[sample][\"cutflow\"][\"llpnano_4mu\"] for sample in merged_samples], [sample for sample in merged_samples], fraction=False)"
   ]
  },
  {
   "cell_type": "code",
   "execution_count": null,
   "id": "61532dfb",
   "metadata": {
    "tags": []
   },
   "outputs": [],
   "source": [
    "print(out[samples_used[0]][\"cutflow\"][\"llpnano_3lj\"].cut_breakdown(giveCuts=True))"
   ]
  },
  {
   "cell_type": "code",
   "execution_count": null,
   "id": "f049433f",
   "metadata": {
    "tags": []
   },
   "outputs": [],
   "source": [
    "#samples_used = [sample for sample in samples[1:]]\n",
    "samples_used = [sample for sample in merged_samples]\n",
    "\n",
    "ymax1 = ymax2 = 0\n",
    "ymin1 = ymin2 = 10000000000\n",
    "for sample in samples_used:\n",
    "    if out[sample][\"cutflow\"][\"llpnano_4mu\"].cut_breakdown()[0] > ymax1:\n",
    "        ymax1 = out[sample][\"cutflow\"][\"llpnano_4mu\"].cut_breakdown()[0]\n",
    "    if out[sample][\"cutflow\"][\"llpnano_4mu\"].cut_breakdown()[-1] < ymin1:\n",
    "        ymin1 = out[sample][\"cutflow\"][\"llpnano_4mu\"].cut_breakdown()[-1]\n",
    "        \n",
    "for sample in samples_used[1:]:\n",
    "    if out[sample][\"cutflow\"][\"llpnano_4mu\"].cut_breakdown()[0] > ymax2:\n",
    "        ymax2 = out[sample][\"cutflow\"][\"llpnano_4mu\"].cut_breakdown()[0]\n",
    "    if out[sample][\"cutflow\"][\"llpnano_4mu\"].cut_breakdown()[-1] < ymin2:\n",
    "        ymin2 = out[sample][\"cutflow\"][\"llpnano_4mu\"].cut_breakdown()[-1]\n",
    "        \n",
    "ylimits1 = [ymin1*0.9, ymax1*1.1]\n",
    "ylimits2 = [ymin2*0.9, ymax2*1.1]\n",
    " ############## Parameters ################\n",
    "giveFraction = False\n",
    "log = False\n",
    "legend = True\n",
    " ##########################################\n",
    "if giveFraction:\n",
    "    ylimits1 = [0.1,110]\n",
    "    ylimits2 = [0.1,110]\n",
    "    if log:\n",
    "        ylimits1 = [0.1,120]\n",
    "        ylimits2 = [10,120]\n",
    "\n",
    "plt.subplots(1,2,figsize=(24,12))\n",
    "\n",
    "plt.subplot(1,2,1)\n",
    "temp = [out[sample][\"cutflow\"][\"llpnano\"].cut_breakdown(fraction=giveFraction) for sample in samples_used]\n",
    "sample_list = samples_used\n",
    "cutlabels = out[samples_used[0]][\"cutflow\"][\"llpnano\"].cut_breakdown(giveCuts=True)\n",
    "for i in range(len(temp)):\n",
    "    plt.plot(cutlabels, temp[i])\n",
    "if legend:\n",
    "    plt.legend(sample_list, prop={'size': 11})\n",
    "plt.title(\"Events cut by selection\")\n",
    "if log:\n",
    "    plt.yscale(\"log\")\n",
    "plt.ylim(ylimits1)\n",
    "plt.xticks(rotation=20)\n",
    "\n",
    "plt.subplot(1,2,2)\n",
    "temp = [out[sample][\"cutflow\"][\"llpnano_4mu\"].cut_breakdown(fraction=giveFraction) for sample in samples_used]\n",
    "sample_list = samples_used\n",
    "cutlabels = out[samples_used[0]][\"cutflow\"][\"llpnano_4mu\"].cut_breakdown(giveCuts=True)\n",
    "for i in range(len(temp)):\n",
    "    plt.plot(cutlabels, temp[i])\n",
    "if legend:\n",
    "    plt.legend(sample_list, prop={'size': 11})\n",
    "plt.title(\"Events cut by selection\")\n",
    "if log:\n",
    "    plt.yscale(\"log\")\n",
    "plt.ylim(ylimits1)\n",
    "plt.xticks(rotation=20)"
   ]
  },
  {
   "cell_type": "code",
   "execution_count": 38,
   "id": "973b5d24",
   "metadata": {
    "tags": []
   },
   "outputs": [
    {
     "name": "stdout",
     "output_type": "stream",
     "text": [
      "['4mu_800GeV_0p25GeV_0p0025mm', '4mu_800GeV_0p25GeV_0p025mm', '4mu_800GeV_0p25GeV_0p25mm', '4mu_800GeV_0p25GeV_1p2mm', '4mu_800GeV_0p25GeV_2p5mm', '4mu_800GeV_1p2GeV_0p012mm', '4mu_800GeV_1p2GeV_0p12mm', '4mu_800GeV_1p2GeV_1p2mm', '4mu_800GeV_1p2GeV_6p0mm', '4mu_800GeV_1p2GeV_12p0mm', '4mu_800GeV_5p0GeV_0p05mm', '4mu_800GeV_5p0GeV_0p5mm', '4mu_800GeV_5p0GeV_5p0mm', '4mu_800GeV_5p0GeV_25p0mm', '4mu_800GeV_5p0GeV_50p0mm']\n"
     ]
    },
    {
     "data": {
      "image/png": "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",
      "text/plain": [
       "<Figure size 600x600 with 1 Axes>"
      ]
     },
     "metadata": {},
     "output_type": "display_data"
    }
   ],
   "source": [
    "samples_used = [sample for sample in samples]\n",
    "print(samples)\n",
    "samples_used = [samples[0], samples[4], samples[2], samples[6]]\n",
    "#samples_used.append(\"TTJets\")\n",
    "hists_used = [\"lj_lj_absdphi\"]#\"lj_pfIsolation07\"]\n",
    "plt.subplots(1,1,figsize=(12,12))\n",
    "for i in range(len(hists_used)):\n",
    "    plt.subplot(1,1,i+1)\n",
    "    for sample in samples_used:\n",
    "        utilities.plot(out[sample][\"hists\"][hists_used[i]][\"llpnano\", :], density=False, flow='none')\n",
    "    plt.legend(samples_used, prop={'size': 12}, ncol=2)\n",
    "    \n",
    "#plotHists([\"lj_n\", \"lj_lj_invmass\", \"lj_lj_absdphi\", \"lj_pfIsolation07\"], \"baseNoLj\", True, True, samples_used)"
   ]
  }
 ],
 "metadata": {
  "kernelspec": {
   "display_name": "Python 3 (ipykernel)",
   "language": "python",
   "name": "python3"
  },
  "language_info": {
   "codemirror_mode": {
    "name": "ipython",
    "version": 3
   },
   "file_extension": ".py",
   "mimetype": "text/x-python",
   "name": "python",
   "nbconvert_exporter": "python",
   "pygments_lexer": "ipython3",
   "version": "3.9.18"
  }
 },
 "nbformat": 4,
 "nbformat_minor": 5
}
