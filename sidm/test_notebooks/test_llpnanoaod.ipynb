{
 "cells": [
  {
   "cell_type": "code",
   "execution_count": 80,
   "id": "52d29d6f-4d6a-4f32-88d0-d52dae4d1826",
   "metadata": {
    "tags": []
   },
   "outputs": [],
   "source": [
    "# python\n",
    "import sys\n",
    "import os\n",
    "import importlib\n",
    "# columnar analysis\n",
    "import awkward as ak\n",
    "from dask.distributed import Client\n",
    "from coffea.nanoevents import NanoEventsFactory, NanoAODSchema\n",
    "from coffea import processor\n",
    "# local\n",
    "sys.path.insert(1, os.path.join(sys.path[0], '../..')) # fixme: there must be a better way to handle this...\n",
    "from sidm.tools import sidm_processor, utilities, cutflow, scaleout\n",
    "# always reload local modules to pick up changes during development\n",
    "importlib.reload(sidm_processor)\n",
    "importlib.reload(utilities)\n",
    "importlib.reload(scaleout)\n",
    "# plotting\n",
    "import matplotlib.pyplot as plt\n",
    "utilities.set_plot_style()\n",
    "%matplotlib inline"
   ]
  },
  {
   "cell_type": "code",
   "execution_count": 81,
   "id": "f2519ecf-93ce-452b-ba87-a79a9d264d07",
   "metadata": {
    "tags": []
   },
   "outputs": [
    {
     "name": "stderr",
     "output_type": "stream",
     "text": [
      "2024-06-17 20:37:24,863 - distributed.utils_perf - INFO - full garbage collection released 10.78 MiB from 261771 reference cycles (threshold: 9.54 MiB)\n"
     ]
    },
    {
     "name": "stdout",
     "output_type": "stream",
     "text": [
      "root://xcache//store/group/lpcmetx/SIDM/ULSignalSamples/2018_v6/LLPNanoAOD/SIDM_BsTo2DpTo4Mu_MBs-500_MDp-5p0_ctau-0p08/LLPnanoAOD/SIDM_BsTo2DpTo4Mu_MBs-500_MDp-5p0_ctau-0p08_part-0.root\n"
     ]
    }
   ],
   "source": [
    "#fname = '~/local_data/tta_mAlp-0p35GeV_ctau-1e3mm_part-0.root'\n",
    "samples = [\n",
    "    \"4mu_500GeV_5GeV_0p08mm\", # ~134,000 events (weighted and unweighted)\n",
    "    #\"4mu_500GeV_5GeV_0p8mm\",\n",
    "    #\"4mu_500GeV_5GeV_8p0mm\",\n",
    "    #\"4mu_500GeV_5GeV_40p0mm\",\n",
    "    #\"4mu_500GeV_5GeV_80p0mm\",\n",
    "]\n",
    "fileset = utilities.make_fileset(samples, \"llpNanoAOD_v1\")\n",
    "# create events collection from single file\n",
    "fname = fileset[samples[0]][0]\n",
    "print(fname)\n",
    "events = NanoEventsFactory.from_root(\n",
    "    fname,\n",
    "    schemaclass=NanoAODSchema,\n",
    ").events()"
   ]
  },
  {
   "cell_type": "code",
   "execution_count": 82,
   "id": "741cf920-2b95-4067-8cfb-8c360337ceea",
   "metadata": {
    "tags": []
   },
   "outputs": [],
   "source": [
    "#ak.fields(events)"
   ]
  },
  {
   "cell_type": "code",
   "execution_count": 83,
   "id": "9a4af9fd-f872-4af7-becf-a711bab5c149",
   "metadata": {
    "tags": []
   },
   "outputs": [],
   "source": [
    "#/store/group/lpcmetx/SIDM/ULSignalSamples/2018_v3/signals/SIDM_BsTo2DpTo4Mu_MBs-500_MDp-5p0_ctau-0p08/LLPnanoAOD/SIDM_BsTo2DpTo4Mu_MBs-500_MDp-5p0_ctau-0p08_part-0.rootak.fields(events.Muon)"
   ]
  },
  {
   "cell_type": "code",
   "execution_count": 84,
   "id": "d08ab941-dadb-4f22-911b-0f59e34f4602",
   "metadata": {
    "tags": []
   },
   "outputs": [
    {
     "name": "stdout",
     "output_type": "stream",
     "text": [
      "['ndof', 'x', 'y', 'z', 'chi2', 'score', 'npvs', 'npvsGood']\n",
      "[2.66, 0.682, 3.2, 4.04, 0.969, 1.89, 0.113, ... 3.4, 0.223, 4.48, 2.73, 2.28, 5.54]\n",
      "[Vertex, Vertex, Vertex, Vertex, Vertex, ... Vertex, Vertex, Vertex, Vertex, Vertex]\n",
      "[38, 34, 19, 28, 23, 23, 22, 14, 36, 7, ... 36, 35, 28, 22, 37, 31, 21, 24, 31, 21]\n"
     ]
    }
   ],
   "source": [
    "print(events.PV.fields)\n",
    "print(events.PV.pos.rho)\n",
    "print(events.PV)\n",
    "print(events.PV.npvs)"
   ]
  },
  {
   "cell_type": "code",
   "execution_count": 85,
   "id": "90973d33-c1d7-4b0b-9781-f3a860728518",
   "metadata": {
    "tags": []
   },
   "outputs": [
    {
     "name": "stdout",
     "output_type": "stream",
     "text": [
      "['eta', 'mass', 'phi', 'pt', 'genPartIdxMother', 'pdgId', 'status', 'statusFlags', 'vx', 'vy', 'vz', 'px', 'py', 'pz', 'genPartIdxMotherG', 'distinctParentIdxG', 'childrenIdxG', 'distinctChildrenIdxG', 'distinctChildrenDeepIdxG']\n",
      "[[-4, 4, 35, 35, 32, 32, -13, 13, -13, ... 1, -1, -421, 11, -11, 11, -11, 11, -11]]\n",
      "[4, 4, 6, 8, 6, 9, 4, 6, 4, 6, 6, 7, 5, 7, ... 6, 6, 4, 4, 6, 6, 5, 4, 4, 4, 8, 5, 6]\n",
      "[2, 2, 2, 2, 2, 2, 2, 2, 2, 2, 2, 2, 2, 2, ... 2, 2, 2, 2, 2, 2, 2, 2, 2, 2, 2, 2, 2]\n",
      "[[[-13, 13], [-13, 13]], [[-13, 13], [-13, ... [-13, 13]], [[-13, 13], [-13, 13]]]\n",
      "[[[True, True], [True, True]], [[True, ... True]], [[True, True], [True, True]]]\n",
      "[[4, 4, 35, 35, 32, 32, 13, 13, 13, 13, ... 1, 1, 1, 421, 11, 11, 11, 11, 11, 11]]\n",
      "[[True, True], [True, True], [True, True, ... True], [True, True], [True, True]]\n",
      "[[GenParticle, GenParticle], [GenParticle, ... [GenParticle, GenParticle]]\n"
     ]
    }
   ],
   "source": [
    "print(events.GenPart.fields)\n",
    "print(events.GenPart.pdgId)\n",
    "print(ak.num(events.GenPart[abs(events.GenPart.pdgId)==13]))\n",
    "print(ak.num(events.GenPart[abs(events.GenPart.pdgId)==32]))\n",
    "print(events.GenPart[abs(events.GenPart.pdgId)==32].children.pdgId)\n",
    "print(abs(events.GenPart[abs(events.GenPart.pdgId)==32].children.pdgId) == 13)\n",
    "print(abs(events.GenPart.pdgId))\n",
    "print(ak.all(abs(events.GenPart[events.GenPart.pdgId==32].children.pdgId) == 13, axis=-1))\n",
    "print(events.GenPart[(abs(events.GenPart.pdgId)== 32) & ak.all(abs(events.GenPart.children.pdgId) == 13, axis=-1)])"
   ]
  },
  {
   "cell_type": "code",
   "execution_count": 86,
   "id": "64746af1-aa0f-4ff1-a127-b1f219aa2fb9",
   "metadata": {
    "tags": []
   },
   "outputs": [
    {
     "name": "stdout",
     "output_type": "stream",
     "text": [
      "[[GenParticle, GenParticle, GenParticle, ... GenParticle, GenParticle, GenParticle]]\n"
     ]
    }
   ],
   "source": [
    "print(events.GenPart)"
   ]
  },
  {
   "cell_type": "code",
   "execution_count": 87,
   "id": "14363b6b-04eb-41c8-869c-be485a72bae8",
   "metadata": {
    "tags": []
   },
   "outputs": [],
   "source": [
    "#events.Electron.fields"
   ]
  },
  {
   "cell_type": "code",
   "execution_count": 88,
   "id": "f2a4db8d-0e5a-47b1-83a0-da1488c83f2d",
   "metadata": {
    "tags": []
   },
   "outputs": [
    {
     "data": {
      "text/plain": [
       "<Array [[613550372], ... [605029924]] type='119 * var * int32[parameters={\"__doc...'>"
      ]
     },
     "execution_count": 88,
     "metadata": {},
     "output_type": "execute_result"
    }
   ],
   "source": [
    "events[ak.num(events.Electron)>0].Electron.vidNestedWPBitmap"
   ]
  },
  {
   "cell_type": "code",
   "execution_count": 89,
   "id": "a0b1ecbe-4a86-4ee4-91fc-e774b55d0ca9",
   "metadata": {
    "tags": []
   },
   "outputs": [],
   "source": [
    "#events.DSAMuon.fields"
   ]
  },
  {
   "cell_type": "code",
   "execution_count": 90,
   "id": "c05feb05-a5d5-45de-97f9-3cd38314daf6",
   "metadata": {},
   "outputs": [
    {
     "name": "stdout",
     "output_type": "stream",
     "text": [
      "[[2, 3, 2], [6, 5, 0, 7, 0, 0], [3, 0, 0, 4, ... 1], [2, 2], [4, 4, 2, 1], [4, 3, 2]]\n",
      "[3, 6, 6, 6, 8, 4, 3, 2, 3, 4, 6, 4, 5, 4, ... 5, 5, 5, 2, 4, 6, 2, 5, 3, 6, 2, 4, 3]\n"
     ]
    }
   ],
   "source": [
    "print(events.DSAMuon.muonMatch1)\n",
    "#print(events.DSAMuon.nSegments)\n",
    "print(ak.num(events.DSAMuon))\n",
    "#print(ak.num(events.DSAMuon[events.DSAMuon.muonMatch1/events.DSAMuon.nSegments < 0.667]))"
   ]
  },
  {
   "cell_type": "code",
   "execution_count": 91,
   "id": "096a96a8-dea0-4d03-848f-bf3605ad4d01",
   "metadata": {},
   "outputs": [
    {
     "name": "stdout",
     "output_type": "stream",
     "text": [
      "{0.0, 1.0, 2.0, 3.0, 4.0}\n",
      "[{idx: 0, pt: 109, ptErr: 48.2, eta: 0.848, ... muonMatch5: -1, muonMatch5idx: -1}]\n",
      "[Muon, Muon, Muon, Muon]\n",
      "[[Muon, Muon, Muon], [Muon, Muon, Muon, ... Muon, Muon, Muon], [Muon, Muon, Muon]]\n"
     ]
    },
    {
     "data": {
      "text/plain": [
       "<Array [[71, 72, 71], [58]] type='2 * var * int64'>"
      ]
     },
     "execution_count": 91,
     "metadata": {},
     "output_type": "execute_result"
    }
   ],
   "source": [
    "#print(events.DSAMuon.muonMatch1[0])\n",
    "print(set(ak.flatten(events.DSAMuon.muonMatch1idx)))\n",
    "print(events.DSAMuon[0])\n",
    "print(events.Muon[0])\n",
    "print(events.Muon[ak.values_astype(events.DSAMuon.muonMatch1idx, \"int64\")])\n",
    "a = ak.Array([[0, 1, 0], [1]])\n",
    "b = ak.Array([[71, 72], [59, 58, 57]])\n",
    "b[a]"
   ]
  },
  {
   "cell_type": "code",
   "execution_count": 92,
   "id": "48782a31-e9b2-4255-9d60-926fb7b27c4a",
   "metadata": {},
   "outputs": [
    {
     "name": "stdout",
     "output_type": "stream",
     "text": [
      "[[2, 3, 2], [6, 5, 0, 7, 0, 0], [3, 0, 0, 4, ... 1], [2, 2], [4, 4, 2, 1], [4, 3, 2]]\n",
      "[[0, 1, 3], [1, 4, 4, 0, 4, 4], [2, 3, 3, 1, ... 2], [2, 0], [3, 0, 2, 1], [2, 3, 0]]\n",
      "[0, 1, 3, 1, 4, 4, 0, 4, 4, 2, 3, 3, 1, 0, ... 1, 3, 0, 2, 2, 0, 3, 0, 2, 1, 2, 3, 0]\n",
      "[[0.181, -2.98, 0.172, -2.97], [1.3, -1.83, ... 2.55], [2.59, -0.458, -0.462, 2.65]]\n",
      "[[0.181, -2.98, -2.97], [-1.83, 1.47, 1.47, ... -2.08, -2], [-0.462, 2.65, 2.59]]\n"
     ]
    },
    {
     "data": {
      "text/plain": [
       "<Array [[0.000255, 0.000276, ... 0.131]] type='817 * var * float32'>"
      ]
     },
     "execution_count": 92,
     "metadata": {},
     "output_type": "execute_result"
    }
   ],
   "source": [
    "print(events.DSAMuon.muonMatch1)\n",
    "print(events.DSAMuon.muonMatch1idx)\n",
    "print(ak.flatten(events.DSAMuon.muonMatch1idx))\n",
    "#print(events.DSAMuon.outerPhi)\n",
    "print(events.Muon.outerPhi)\n",
    "print(events.Muon[ak.values_astype(events.DSAMuon.muonMatch1idx, \"int64\")].outerPhi)\n",
    "utilities.dR_outer(events.DSAMuon, events.Muon[ak.values_astype(events.DSAMuon.muonMatch1idx, \"int64\")])"
   ]
  },
  {
   "cell_type": "code",
   "execution_count": 93,
   "id": "de550f3a-db7b-4aff-a3d8-dd235c4f389e",
   "metadata": {},
   "outputs": [
    {
     "name": "stdout",
     "output_type": "stream",
     "text": [
      "[[{idx: 0, pt: 109, ptErr: 48.2, eta: 0.848, ... muonMatch5: -1, muonMatch5idx: -1}]]\n",
      "[[Muon, Muon, Muon], [Muon, Muon, Muon, ... Muon, Muon, Muon], [Muon, Muon, Muon]]\n",
      "[[Muon, Muon, Muon], [Muon, Muon, Muon, ... Muon, Muon, Muon], [Muon, Muon, Muon]]\n"
     ]
    }
   ],
   "source": [
    "#from coffea.nanoevents.schemas.base import zip_forms\n",
    "from coffea.nanoevents.methods import vector as cvec\n",
    "from coffea.nanoevents.methods import nanoaod\n",
    "#print(events.Muon)\n",
    "#print([events.DSAMuon[x] for x in [\"pt\", \"eta\"]])\n",
    "print(events.DSAMuon)\n",
    "forms = {f : events.DSAMuon[f] for f in events.DSAMuon.fields}\n",
    "events.DSAMuon = ak.zip(forms, with_name=\"Muon\", behavior=nanoaod.behavior)\n",
    "print(events.DSAMuon)\n",
    "print(events.DSAMuon.nearest(events.Muon))"
   ]
  },
  {
   "cell_type": "code",
   "execution_count": 94,
   "id": "715d9b73-767b-4c00-a2c6-95043e438532",
   "metadata": {
    "scrolled": true,
    "tags": []
   },
   "outputs": [
    {
     "data": {
      "application/vnd.jupyter.widget-view+json": {
       "model_id": "1b9ec7e730cb4102bf9db0564cf56037",
       "version_major": 2,
       "version_minor": 0
      },
      "text/plain": [
       "Output()"
      ]
     },
     "metadata": {},
     "output_type": "display_data"
    },
    {
     "name": "stderr",
     "output_type": "stream",
     "text": [
      "2024-06-17 20:37:32,210 - distributed.utils_perf - INFO - full garbage collection released 11.39 MiB from 130298 reference cycles (threshold: 9.54 MiB)\n",
      "2024-06-17 20:37:34,851 - distributed.utils_perf - INFO - full garbage collection released 47.06 MiB from 390885 reference cycles (threshold: 9.54 MiB)\n",
      "2024-06-17 20:37:38,453 - distributed.utils_perf - INFO - full garbage collection released 45.39 MiB from 390885 reference cycles (threshold: 9.54 MiB)\n",
      "2024-06-17 20:37:40,797 - distributed.utils_perf - INFO - full garbage collection released 24.68 MiB from 260590 reference cycles (threshold: 9.54 MiB)\n",
      "2024-06-17 20:37:43,977 - distributed.utils_perf - INFO - full garbage collection released 63.56 MiB from 521180 reference cycles (threshold: 9.54 MiB)\n",
      "2024-06-17 20:37:46,388 - distributed.utils_perf - INFO - full garbage collection released 23.64 MiB from 260590 reference cycles (threshold: 9.54 MiB)\n",
      "2024-06-17 20:37:49,516 - distributed.utils_perf - WARNING - full garbage collections took 11% CPU time recently (threshold: 10%)\n",
      "2024-06-17 20:37:49,516 - distributed.utils_perf - INFO - full garbage collection released 42.55 MiB from 390885 reference cycles (threshold: 9.54 MiB)\n",
      "2024-06-17 20:37:52,440 - distributed.utils_perf - WARNING - full garbage collections took 20% CPU time recently (threshold: 10%)\n",
      "2024-06-17 20:37:52,441 - distributed.utils_perf - INFO - full garbage collection released 42.14 MiB from 390885 reference cycles (threshold: 9.54 MiB)\n",
      "2024-06-17 20:37:55,052 - distributed.utils_perf - WARNING - full garbage collections took 21% CPU time recently (threshold: 10%)\n",
      "2024-06-17 20:37:55,053 - distributed.utils_perf - INFO - full garbage collection released 40.49 MiB from 390885 reference cycles (threshold: 9.54 MiB)\n",
      "2024-06-17 20:37:58,746 - distributed.utils_perf - WARNING - full garbage collections took 21% CPU time recently (threshold: 10%)\n",
      "2024-06-17 20:37:58,746 - distributed.utils_perf - INFO - full garbage collection released 39.63 MiB from 390885 reference cycles (threshold: 9.54 MiB)\n",
      "2024-06-17 20:38:02,456 - distributed.utils_perf - WARNING - full garbage collections took 21% CPU time recently (threshold: 10%)\n",
      "2024-06-17 20:38:02,456 - distributed.utils_perf - INFO - full garbage collection released 38.86 MiB from 390885 reference cycles (threshold: 9.54 MiB)\n",
      "2024-06-17 20:38:05,357 - distributed.utils_perf - WARNING - full garbage collections took 21% CPU time recently (threshold: 10%)\n",
      "2024-06-17 20:38:05,358 - distributed.utils_perf - INFO - full garbage collection released 38.21 MiB from 390885 reference cycles (threshold: 9.54 MiB)\n",
      "2024-06-17 20:38:07,901 - distributed.utils_perf - WARNING - full garbage collections took 21% CPU time recently (threshold: 10%)\n",
      "2024-06-17 20:38:07,901 - distributed.utils_perf - INFO - full garbage collection released 17.77 MiB from 260610 reference cycles (threshold: 9.54 MiB)\n",
      "2024-06-17 20:38:11,340 - distributed.utils_perf - WARNING - full garbage collections took 21% CPU time recently (threshold: 10%)\n",
      "2024-06-17 20:38:11,341 - distributed.utils_perf - INFO - full garbage collection released 35.86 MiB from 390885 reference cycles (threshold: 9.54 MiB)\n",
      "2024-06-17 20:38:14,610 - distributed.utils_perf - WARNING - full garbage collections took 21% CPU time recently (threshold: 10%)\n",
      "2024-06-17 20:38:14,610 - distributed.utils_perf - INFO - full garbage collection released 35.49 MiB from 390885 reference cycles (threshold: 9.54 MiB)\n",
      "2024-06-17 20:38:18,450 - distributed.utils_perf - WARNING - full garbage collections took 21% CPU time recently (threshold: 10%)\n",
      "2024-06-17 20:38:18,450 - distributed.utils_perf - INFO - full garbage collection released 33.70 MiB from 390905 reference cycles (threshold: 9.54 MiB)\n",
      "2024-06-17 20:38:21,414 - distributed.utils_perf - WARNING - full garbage collections took 21% CPU time recently (threshold: 10%)\n",
      "2024-06-17 20:38:21,415 - distributed.utils_perf - INFO - full garbage collection released 33.28 MiB from 390885 reference cycles (threshold: 9.54 MiB)\n",
      "2024-06-17 20:38:24,079 - distributed.utils_perf - WARNING - full garbage collections took 21% CPU time recently (threshold: 10%)\n",
      "2024-06-17 20:38:24,080 - distributed.utils_perf - INFO - full garbage collection released 32.87 MiB from 390885 reference cycles (threshold: 9.54 MiB)\n",
      "2024-06-17 20:38:27,205 - distributed.utils_perf - WARNING - full garbage collections took 21% CPU time recently (threshold: 10%)\n",
      "2024-06-17 20:38:27,206 - distributed.utils_perf - INFO - full garbage collection released 31.93 MiB from 390885 reference cycles (threshold: 9.54 MiB)\n",
      "2024-06-17 20:38:30,681 - distributed.utils_perf - WARNING - full garbage collections took 21% CPU time recently (threshold: 10%)\n",
      "2024-06-17 20:38:30,682 - distributed.utils_perf - INFO - full garbage collection released 31.67 MiB from 390885 reference cycles (threshold: 9.54 MiB)\n",
      "2024-06-17 20:38:34,008 - distributed.utils_perf - WARNING - full garbage collections took 21% CPU time recently (threshold: 10%)\n",
      "2024-06-17 20:38:34,008 - distributed.utils_perf - INFO - full garbage collection released 30.89 MiB from 390885 reference cycles (threshold: 9.54 MiB)\n",
      "2024-06-17 20:38:39,388 - distributed.utils_perf - WARNING - full garbage collections took 21% CPU time recently (threshold: 10%)\n",
      "2024-06-17 20:38:39,389 - distributed.utils_perf - INFO - full garbage collection released 29.48 MiB from 390885 reference cycles (threshold: 9.54 MiB)\n",
      "2024-06-17 20:38:42,920 - distributed.utils_perf - WARNING - full garbage collections took 21% CPU time recently (threshold: 10%)\n",
      "2024-06-17 20:38:42,921 - distributed.utils_perf - INFO - full garbage collection released 27.84 MiB from 390885 reference cycles (threshold: 9.54 MiB)\n",
      "2024-06-17 20:38:45,457 - distributed.utils_perf - WARNING - full garbage collections took 21% CPU time recently (threshold: 10%)\n",
      "2024-06-17 20:38:49,169 - distributed.utils_perf - WARNING - full garbage collections took 21% CPU time recently (threshold: 10%)\n",
      "2024-06-17 20:38:49,169 - distributed.utils_perf - INFO - full garbage collection released 45.63 MiB from 521180 reference cycles (threshold: 9.54 MiB)\n",
      "2024-06-17 20:38:51,744 - distributed.utils_perf - WARNING - full garbage collections took 21% CPU time recently (threshold: 10%)\n"
     ]
    },
    {
     "data": {
      "text/html": [
       "<pre style=\"white-space:pre;overflow-x:auto;line-height:normal;font-family:Menlo,'DejaVu Sans Mono',consolas,'Courier New',monospace\"></pre>\n"
      ],
      "text/plain": []
     },
     "metadata": {},
     "output_type": "display_data"
    },
    {
     "data": {
      "text/html": [
       "<pre style=\"white-space:pre;overflow-x:auto;line-height:normal;font-family:Menlo,'DejaVu Sans Mono',consolas,'Courier New',monospace\">\n",
       "</pre>\n"
      ],
      "text/plain": [
       "\n"
      ]
     },
     "metadata": {},
     "output_type": "display_data"
    },
    {
     "data": {
      "application/vnd.jupyter.widget-view+json": {
       "model_id": "00ab3c909fcf4df49ee526fc097b0138",
       "version_major": 2,
       "version_minor": 0
      },
      "text/plain": [
       "Output()"
      ]
     },
     "metadata": {},
     "output_type": "display_data"
    },
    {
     "data": {
      "text/html": [
       "<pre style=\"white-space:pre;overflow-x:auto;line-height:normal;font-family:Menlo,'DejaVu Sans Mono',consolas,'Courier New',monospace\">Not applying any cuts to the lepton jets for channel baseNoLj\n",
       "</pre>\n"
      ],
      "text/plain": [
       "Not applying any cuts to the lepton jets for channel baseNoLj\n"
      ]
     },
     "metadata": {},
     "output_type": "display_data"
    },
    {
     "data": {
      "text/html": [
       "<pre style=\"white-space:pre;overflow-x:auto;line-height:normal;font-family:Menlo,'DejaVu Sans Mono',consolas,'Courier New',monospace\">Warning: Unable to apply no PF match for dsaMuons. Skipping.\n",
       "</pre>\n"
      ],
      "text/plain": [
       "Warning: Unable to apply no PF match for dsaMuons. Skipping.\n"
      ]
     },
     "metadata": {},
     "output_type": "display_data"
    },
    {
     "data": {
      "text/html": [
       "<pre style=\"white-space:pre;overflow-x:auto;line-height:normal;font-family:Menlo,'DejaVu Sans Mono',consolas,'Courier New',monospace\">Uh oh, haven't evaluated this cut yet! Make sure it was included in the list of cuts you used to initialize this \n",
       "JaggedSelection.   dsaMuons :  no PF match\n",
       "</pre>\n"
      ],
      "text/plain": [
       "Uh oh, haven't evaluated this cut yet! Make sure it was included in the list of cuts you used to initialize this \n",
       "JaggedSelection.   dsaMuons :  no PF match\n"
      ]
     },
     "metadata": {},
     "output_type": "display_data"
    },
    {
     "data": {
      "text/html": [
       "<pre style=\"white-space:pre;overflow-x:auto;line-height:normal;font-family:Menlo,'DejaVu Sans Mono',consolas,'Courier New',monospace\">Applying cut:  PV filter\n",
       "</pre>\n"
      ],
      "text/plain": [
       "Applying cut:  PV filter\n"
      ]
     },
     "metadata": {},
     "output_type": "display_data"
    },
    {
     "name": "stderr",
     "output_type": "stream",
     "text": [
      "2024-06-17 20:38:55,355 - distributed.utils_perf - WARNING - full garbage collections took 21% CPU time recently (threshold: 10%)\n",
      "2024-06-17 20:38:55,355 - distributed.utils_perf - INFO - full garbage collection released 27.62 MiB from 397954 reference cycles (threshold: 9.54 MiB)\n"
     ]
    },
    {
     "data": {
      "text/html": [
       "<pre style=\"white-space:pre;overflow-x:auto;line-height:normal;font-family:Menlo,'DejaVu Sans Mono',consolas,'Courier New',monospace\">Not applying any cuts to the lepton jets for channel baseNoLj\n",
       "</pre>\n"
      ],
      "text/plain": [
       "Not applying any cuts to the lepton jets for channel baseNoLj\n"
      ]
     },
     "metadata": {},
     "output_type": "display_data"
    },
    {
     "data": {
      "text/html": [
       "<pre style=\"white-space:pre;overflow-x:auto;line-height:normal;font-family:Menlo,'DejaVu Sans Mono',consolas,'Courier New',monospace\">Warning: Unable to apply no PF match for dsaMuons. Skipping.\n",
       "</pre>\n"
      ],
      "text/plain": [
       "Warning: Unable to apply no PF match for dsaMuons. Skipping.\n"
      ]
     },
     "metadata": {},
     "output_type": "display_data"
    },
    {
     "data": {
      "text/html": [
       "<pre style=\"white-space:pre;overflow-x:auto;line-height:normal;font-family:Menlo,'DejaVu Sans Mono',consolas,'Courier New',monospace\">Uh oh, haven't evaluated this cut yet! Make sure it was included in the list of cuts you used to initialize this \n",
       "JaggedSelection.   dsaMuons :  no PF match\n",
       "</pre>\n"
      ],
      "text/plain": [
       "Uh oh, haven't evaluated this cut yet! Make sure it was included in the list of cuts you used to initialize this \n",
       "JaggedSelection.   dsaMuons :  no PF match\n"
      ]
     },
     "metadata": {},
     "output_type": "display_data"
    },
    {
     "data": {
      "text/html": [
       "<pre style=\"white-space:pre;overflow-x:auto;line-height:normal;font-family:Menlo,'DejaVu Sans Mono',consolas,'Courier New',monospace\">Applying cut:  PV filter\n",
       "</pre>\n"
      ],
      "text/plain": [
       "Applying cut:  PV filter\n"
      ]
     },
     "metadata": {},
     "output_type": "display_data"
    },
    {
     "data": {
      "text/html": [
       "<pre style=\"white-space:pre;overflow-x:auto;line-height:normal;font-family:Menlo,'DejaVu Sans Mono',consolas,'Courier New',monospace\">Not applying any cuts to the lepton jets for channel baseNoLj\n",
       "</pre>\n"
      ],
      "text/plain": [
       "Not applying any cuts to the lepton jets for channel baseNoLj\n"
      ]
     },
     "metadata": {},
     "output_type": "display_data"
    },
    {
     "data": {
      "text/html": [
       "<pre style=\"white-space:pre;overflow-x:auto;line-height:normal;font-family:Menlo,'DejaVu Sans Mono',consolas,'Courier New',monospace\">Warning: Unable to apply no PF match for dsaMuons. Skipping.\n",
       "</pre>\n"
      ],
      "text/plain": [
       "Warning: Unable to apply no PF match for dsaMuons. Skipping.\n"
      ]
     },
     "metadata": {},
     "output_type": "display_data"
    },
    {
     "data": {
      "text/html": [
       "<pre style=\"white-space:pre;overflow-x:auto;line-height:normal;font-family:Menlo,'DejaVu Sans Mono',consolas,'Courier New',monospace\">Uh oh, haven't evaluated this cut yet! Make sure it was included in the list of cuts you used to initialize this \n",
       "JaggedSelection.   dsaMuons :  no PF match\n",
       "</pre>\n"
      ],
      "text/plain": [
       "Uh oh, haven't evaluated this cut yet! Make sure it was included in the list of cuts you used to initialize this \n",
       "JaggedSelection.   dsaMuons :  no PF match\n"
      ]
     },
     "metadata": {},
     "output_type": "display_data"
    },
    {
     "data": {
      "text/html": [
       "<pre style=\"white-space:pre;overflow-x:auto;line-height:normal;font-family:Menlo,'DejaVu Sans Mono',consolas,'Courier New',monospace\">Applying cut:  PV filter\n",
       "</pre>\n"
      ],
      "text/plain": [
       "Applying cut:  PV filter\n"
      ]
     },
     "metadata": {},
     "output_type": "display_data"
    },
    {
     "data": {
      "text/html": [
       "<pre style=\"white-space:pre;overflow-x:auto;line-height:normal;font-family:Menlo,'DejaVu Sans Mono',consolas,'Courier New',monospace\">Not applying any cuts to the lepton jets for channel baseNoLj\n",
       "</pre>\n"
      ],
      "text/plain": [
       "Not applying any cuts to the lepton jets for channel baseNoLj\n"
      ]
     },
     "metadata": {},
     "output_type": "display_data"
    },
    {
     "data": {
      "text/html": [
       "<pre style=\"white-space:pre;overflow-x:auto;line-height:normal;font-family:Menlo,'DejaVu Sans Mono',consolas,'Courier New',monospace\">Warning: Unable to apply no PF match for dsaMuons. Skipping.\n",
       "</pre>\n"
      ],
      "text/plain": [
       "Warning: Unable to apply no PF match for dsaMuons. Skipping.\n"
      ]
     },
     "metadata": {},
     "output_type": "display_data"
    },
    {
     "data": {
      "text/html": [
       "<pre style=\"white-space:pre;overflow-x:auto;line-height:normal;font-family:Menlo,'DejaVu Sans Mono',consolas,'Courier New',monospace\">Uh oh, haven't evaluated this cut yet! Make sure it was included in the list of cuts you used to initialize this \n",
       "JaggedSelection.   dsaMuons :  no PF match\n",
       "</pre>\n"
      ],
      "text/plain": [
       "Uh oh, haven't evaluated this cut yet! Make sure it was included in the list of cuts you used to initialize this \n",
       "JaggedSelection.   dsaMuons :  no PF match\n"
      ]
     },
     "metadata": {},
     "output_type": "display_data"
    },
    {
     "data": {
      "text/html": [
       "<pre style=\"white-space:pre;overflow-x:auto;line-height:normal;font-family:Menlo,'DejaVu Sans Mono',consolas,'Courier New',monospace\">Applying cut:  PV filter\n",
       "</pre>\n"
      ],
      "text/plain": [
       "Applying cut:  PV filter\n"
      ]
     },
     "metadata": {},
     "output_type": "display_data"
    },
    {
     "name": "stderr",
     "output_type": "stream",
     "text": [
      "2024-06-17 20:39:00,278 - distributed.utils_perf - WARNING - full garbage collections took 20% CPU time recently (threshold: 10%)\n",
      "2024-06-17 20:39:00,279 - distributed.utils_perf - INFO - full garbage collection released 30.03 MiB from 411709 reference cycles (threshold: 9.54 MiB)\n"
     ]
    },
    {
     "data": {
      "text/html": [
       "<pre style=\"white-space:pre;overflow-x:auto;line-height:normal;font-family:Menlo,'DejaVu Sans Mono',consolas,'Courier New',monospace\">Not applying any cuts to the lepton jets for channel baseNoLj\n",
       "</pre>\n"
      ],
      "text/plain": [
       "Not applying any cuts to the lepton jets for channel baseNoLj\n"
      ]
     },
     "metadata": {},
     "output_type": "display_data"
    },
    {
     "data": {
      "text/html": [
       "<pre style=\"white-space:pre;overflow-x:auto;line-height:normal;font-family:Menlo,'DejaVu Sans Mono',consolas,'Courier New',monospace\">Warning: Unable to apply no PF match for dsaMuons. Skipping.\n",
       "</pre>\n"
      ],
      "text/plain": [
       "Warning: Unable to apply no PF match for dsaMuons. Skipping.\n"
      ]
     },
     "metadata": {},
     "output_type": "display_data"
    },
    {
     "data": {
      "text/html": [
       "<pre style=\"white-space:pre;overflow-x:auto;line-height:normal;font-family:Menlo,'DejaVu Sans Mono',consolas,'Courier New',monospace\">Uh oh, haven't evaluated this cut yet! Make sure it was included in the list of cuts you used to initialize this \n",
       "JaggedSelection.   dsaMuons :  no PF match\n",
       "</pre>\n"
      ],
      "text/plain": [
       "Uh oh, haven't evaluated this cut yet! Make sure it was included in the list of cuts you used to initialize this \n",
       "JaggedSelection.   dsaMuons :  no PF match\n"
      ]
     },
     "metadata": {},
     "output_type": "display_data"
    },
    {
     "data": {
      "text/html": [
       "<pre style=\"white-space:pre;overflow-x:auto;line-height:normal;font-family:Menlo,'DejaVu Sans Mono',consolas,'Courier New',monospace\">Applying cut:  PV filter\n",
       "</pre>\n"
      ],
      "text/plain": [
       "Applying cut:  PV filter\n"
      ]
     },
     "metadata": {},
     "output_type": "display_data"
    },
    {
     "data": {
      "text/html": [
       "<pre style=\"white-space:pre;overflow-x:auto;line-height:normal;font-family:Menlo,'DejaVu Sans Mono',consolas,'Courier New',monospace\">Not applying any cuts to the lepton jets for channel baseNoLj\n",
       "</pre>\n"
      ],
      "text/plain": [
       "Not applying any cuts to the lepton jets for channel baseNoLj\n"
      ]
     },
     "metadata": {},
     "output_type": "display_data"
    },
    {
     "data": {
      "text/html": [
       "<pre style=\"white-space:pre;overflow-x:auto;line-height:normal;font-family:Menlo,'DejaVu Sans Mono',consolas,'Courier New',monospace\">Warning: Unable to apply no PF match for dsaMuons. Skipping.\n",
       "</pre>\n"
      ],
      "text/plain": [
       "Warning: Unable to apply no PF match for dsaMuons. Skipping.\n"
      ]
     },
     "metadata": {},
     "output_type": "display_data"
    },
    {
     "data": {
      "text/html": [
       "<pre style=\"white-space:pre;overflow-x:auto;line-height:normal;font-family:Menlo,'DejaVu Sans Mono',consolas,'Courier New',monospace\">Uh oh, haven't evaluated this cut yet! Make sure it was included in the list of cuts you used to initialize this \n",
       "JaggedSelection.   dsaMuons :  no PF match\n",
       "</pre>\n"
      ],
      "text/plain": [
       "Uh oh, haven't evaluated this cut yet! Make sure it was included in the list of cuts you used to initialize this \n",
       "JaggedSelection.   dsaMuons :  no PF match\n"
      ]
     },
     "metadata": {},
     "output_type": "display_data"
    },
    {
     "data": {
      "text/html": [
       "<pre style=\"white-space:pre;overflow-x:auto;line-height:normal;font-family:Menlo,'DejaVu Sans Mono',consolas,'Courier New',monospace\">Applying cut:  PV filter\n",
       "</pre>\n"
      ],
      "text/plain": [
       "Applying cut:  PV filter\n"
      ]
     },
     "metadata": {},
     "output_type": "display_data"
    },
    {
     "name": "stderr",
     "output_type": "stream",
     "text": [
      "2024-06-17 20:39:04,151 - distributed.utils_perf - WARNING - full garbage collections took 19% CPU time recently (threshold: 10%)\n"
     ]
    },
    {
     "data": {
      "text/html": [
       "<pre style=\"white-space:pre;overflow-x:auto;line-height:normal;font-family:Menlo,'DejaVu Sans Mono',consolas,'Courier New',monospace\">Not applying any cuts to the lepton jets for channel baseNoLj\n",
       "</pre>\n"
      ],
      "text/plain": [
       "Not applying any cuts to the lepton jets for channel baseNoLj\n"
      ]
     },
     "metadata": {},
     "output_type": "display_data"
    },
    {
     "data": {
      "text/html": [
       "<pre style=\"white-space:pre;overflow-x:auto;line-height:normal;font-family:Menlo,'DejaVu Sans Mono',consolas,'Courier New',monospace\">Warning: Unable to apply no PF match for dsaMuons. Skipping.\n",
       "</pre>\n"
      ],
      "text/plain": [
       "Warning: Unable to apply no PF match for dsaMuons. Skipping.\n"
      ]
     },
     "metadata": {},
     "output_type": "display_data"
    },
    {
     "data": {
      "text/html": [
       "<pre style=\"white-space:pre;overflow-x:auto;line-height:normal;font-family:Menlo,'DejaVu Sans Mono',consolas,'Courier New',monospace\">Uh oh, haven't evaluated this cut yet! Make sure it was included in the list of cuts you used to initialize this \n",
       "JaggedSelection.   dsaMuons :  no PF match\n",
       "</pre>\n"
      ],
      "text/plain": [
       "Uh oh, haven't evaluated this cut yet! Make sure it was included in the list of cuts you used to initialize this \n",
       "JaggedSelection.   dsaMuons :  no PF match\n"
      ]
     },
     "metadata": {},
     "output_type": "display_data"
    },
    {
     "data": {
      "text/html": [
       "<pre style=\"white-space:pre;overflow-x:auto;line-height:normal;font-family:Menlo,'DejaVu Sans Mono',consolas,'Courier New',monospace\">Applying cut:  PV filter\n",
       "</pre>\n"
      ],
      "text/plain": [
       "Applying cut:  PV filter\n"
      ]
     },
     "metadata": {},
     "output_type": "display_data"
    },
    {
     "data": {
      "text/html": [
       "<pre style=\"white-space:pre;overflow-x:auto;line-height:normal;font-family:Menlo,'DejaVu Sans Mono',consolas,'Courier New',monospace\">Not applying any cuts to the lepton jets for channel baseNoLj\n",
       "</pre>\n"
      ],
      "text/plain": [
       "Not applying any cuts to the lepton jets for channel baseNoLj\n"
      ]
     },
     "metadata": {},
     "output_type": "display_data"
    },
    {
     "data": {
      "text/html": [
       "<pre style=\"white-space:pre;overflow-x:auto;line-height:normal;font-family:Menlo,'DejaVu Sans Mono',consolas,'Courier New',monospace\">Warning: Unable to apply no PF match for dsaMuons. Skipping.\n",
       "</pre>\n"
      ],
      "text/plain": [
       "Warning: Unable to apply no PF match for dsaMuons. Skipping.\n"
      ]
     },
     "metadata": {},
     "output_type": "display_data"
    },
    {
     "data": {
      "text/html": [
       "<pre style=\"white-space:pre;overflow-x:auto;line-height:normal;font-family:Menlo,'DejaVu Sans Mono',consolas,'Courier New',monospace\">Uh oh, haven't evaluated this cut yet! Make sure it was included in the list of cuts you used to initialize this \n",
       "JaggedSelection.   dsaMuons :  no PF match\n",
       "</pre>\n"
      ],
      "text/plain": [
       "Uh oh, haven't evaluated this cut yet! Make sure it was included in the list of cuts you used to initialize this \n",
       "JaggedSelection.   dsaMuons :  no PF match\n"
      ]
     },
     "metadata": {},
     "output_type": "display_data"
    },
    {
     "data": {
      "text/html": [
       "<pre style=\"white-space:pre;overflow-x:auto;line-height:normal;font-family:Menlo,'DejaVu Sans Mono',consolas,'Courier New',monospace\">Applying cut:  PV filter\n",
       "</pre>\n"
      ],
      "text/plain": [
       "Applying cut:  PV filter\n"
      ]
     },
     "metadata": {},
     "output_type": "display_data"
    },
    {
     "data": {
      "text/html": [
       "<pre style=\"white-space:pre;overflow-x:auto;line-height:normal;font-family:Menlo,'DejaVu Sans Mono',consolas,'Courier New',monospace\">Not applying any cuts to the lepton jets for channel baseNoLj\n",
       "</pre>\n"
      ],
      "text/plain": [
       "Not applying any cuts to the lepton jets for channel baseNoLj\n"
      ]
     },
     "metadata": {},
     "output_type": "display_data"
    },
    {
     "data": {
      "text/html": [
       "<pre style=\"white-space:pre;overflow-x:auto;line-height:normal;font-family:Menlo,'DejaVu Sans Mono',consolas,'Courier New',monospace\">Warning: Unable to apply no PF match for dsaMuons. Skipping.\n",
       "</pre>\n"
      ],
      "text/plain": [
       "Warning: Unable to apply no PF match for dsaMuons. Skipping.\n"
      ]
     },
     "metadata": {},
     "output_type": "display_data"
    },
    {
     "data": {
      "text/html": [
       "<pre style=\"white-space:pre;overflow-x:auto;line-height:normal;font-family:Menlo,'DejaVu Sans Mono',consolas,'Courier New',monospace\">Uh oh, haven't evaluated this cut yet! Make sure it was included in the list of cuts you used to initialize this \n",
       "JaggedSelection.   dsaMuons :  no PF match\n",
       "</pre>\n"
      ],
      "text/plain": [
       "Uh oh, haven't evaluated this cut yet! Make sure it was included in the list of cuts you used to initialize this \n",
       "JaggedSelection.   dsaMuons :  no PF match\n"
      ]
     },
     "metadata": {},
     "output_type": "display_data"
    },
    {
     "data": {
      "text/html": [
       "<pre style=\"white-space:pre;overflow-x:auto;line-height:normal;font-family:Menlo,'DejaVu Sans Mono',consolas,'Courier New',monospace\">Applying cut:  PV filter\n",
       "</pre>\n"
      ],
      "text/plain": [
       "Applying cut:  PV filter\n"
      ]
     },
     "metadata": {},
     "output_type": "display_data"
    },
    {
     "name": "stderr",
     "output_type": "stream",
     "text": [
      "2024-06-17 20:39:09,232 - distributed.utils_perf - WARNING - full garbage collections took 19% CPU time recently (threshold: 10%)\n",
      "2024-06-17 20:39:09,232 - distributed.utils_perf - INFO - full garbage collection released 14.23 MiB from 274540 reference cycles (threshold: 9.54 MiB)\n"
     ]
    },
    {
     "data": {
      "text/html": [
       "<pre style=\"white-space:pre;overflow-x:auto;line-height:normal;font-family:Menlo,'DejaVu Sans Mono',consolas,'Courier New',monospace\">Not applying any cuts to the lepton jets for channel baseNoLj\n",
       "</pre>\n"
      ],
      "text/plain": [
       "Not applying any cuts to the lepton jets for channel baseNoLj\n"
      ]
     },
     "metadata": {},
     "output_type": "display_data"
    },
    {
     "data": {
      "text/html": [
       "<pre style=\"white-space:pre;overflow-x:auto;line-height:normal;font-family:Menlo,'DejaVu Sans Mono',consolas,'Courier New',monospace\">Warning: Unable to apply no PF match for dsaMuons. Skipping.\n",
       "</pre>\n"
      ],
      "text/plain": [
       "Warning: Unable to apply no PF match for dsaMuons. Skipping.\n"
      ]
     },
     "metadata": {},
     "output_type": "display_data"
    },
    {
     "data": {
      "text/html": [
       "<pre style=\"white-space:pre;overflow-x:auto;line-height:normal;font-family:Menlo,'DejaVu Sans Mono',consolas,'Courier New',monospace\">Uh oh, haven't evaluated this cut yet! Make sure it was included in the list of cuts you used to initialize this \n",
       "JaggedSelection.   dsaMuons :  no PF match\n",
       "</pre>\n"
      ],
      "text/plain": [
       "Uh oh, haven't evaluated this cut yet! Make sure it was included in the list of cuts you used to initialize this \n",
       "JaggedSelection.   dsaMuons :  no PF match\n"
      ]
     },
     "metadata": {},
     "output_type": "display_data"
    },
    {
     "data": {
      "text/html": [
       "<pre style=\"white-space:pre;overflow-x:auto;line-height:normal;font-family:Menlo,'DejaVu Sans Mono',consolas,'Courier New',monospace\">Applying cut:  PV filter\n",
       "</pre>\n"
      ],
      "text/plain": [
       "Applying cut:  PV filter\n"
      ]
     },
     "metadata": {},
     "output_type": "display_data"
    },
    {
     "data": {
      "text/html": [
       "<pre style=\"white-space:pre;overflow-x:auto;line-height:normal;font-family:Menlo,'DejaVu Sans Mono',consolas,'Courier New',monospace\">Not applying any cuts to the lepton jets for channel baseNoLj\n",
       "</pre>\n"
      ],
      "text/plain": [
       "Not applying any cuts to the lepton jets for channel baseNoLj\n"
      ]
     },
     "metadata": {},
     "output_type": "display_data"
    },
    {
     "data": {
      "text/html": [
       "<pre style=\"white-space:pre;overflow-x:auto;line-height:normal;font-family:Menlo,'DejaVu Sans Mono',consolas,'Courier New',monospace\">Warning: Unable to apply no PF match for dsaMuons. Skipping.\n",
       "</pre>\n"
      ],
      "text/plain": [
       "Warning: Unable to apply no PF match for dsaMuons. Skipping.\n"
      ]
     },
     "metadata": {},
     "output_type": "display_data"
    },
    {
     "data": {
      "text/html": [
       "<pre style=\"white-space:pre;overflow-x:auto;line-height:normal;font-family:Menlo,'DejaVu Sans Mono',consolas,'Courier New',monospace\">Uh oh, haven't evaluated this cut yet! Make sure it was included in the list of cuts you used to initialize this \n",
       "JaggedSelection.   dsaMuons :  no PF match\n",
       "</pre>\n"
      ],
      "text/plain": [
       "Uh oh, haven't evaluated this cut yet! Make sure it was included in the list of cuts you used to initialize this \n",
       "JaggedSelection.   dsaMuons :  no PF match\n"
      ]
     },
     "metadata": {},
     "output_type": "display_data"
    },
    {
     "data": {
      "text/html": [
       "<pre style=\"white-space:pre;overflow-x:auto;line-height:normal;font-family:Menlo,'DejaVu Sans Mono',consolas,'Courier New',monospace\">Applying cut:  PV filter\n",
       "</pre>\n"
      ],
      "text/plain": [
       "Applying cut:  PV filter\n"
      ]
     },
     "metadata": {},
     "output_type": "display_data"
    },
    {
     "data": {
      "text/html": [
       "<pre style=\"white-space:pre;overflow-x:auto;line-height:normal;font-family:Menlo,'DejaVu Sans Mono',consolas,'Courier New',monospace\">Not applying any cuts to the lepton jets for channel baseNoLj\n",
       "</pre>\n"
      ],
      "text/plain": [
       "Not applying any cuts to the lepton jets for channel baseNoLj\n"
      ]
     },
     "metadata": {},
     "output_type": "display_data"
    },
    {
     "data": {
      "text/html": [
       "<pre style=\"white-space:pre;overflow-x:auto;line-height:normal;font-family:Menlo,'DejaVu Sans Mono',consolas,'Courier New',monospace\">Warning: Unable to apply no PF match for dsaMuons. Skipping.\n",
       "</pre>\n"
      ],
      "text/plain": [
       "Warning: Unable to apply no PF match for dsaMuons. Skipping.\n"
      ]
     },
     "metadata": {},
     "output_type": "display_data"
    },
    {
     "data": {
      "text/html": [
       "<pre style=\"white-space:pre;overflow-x:auto;line-height:normal;font-family:Menlo,'DejaVu Sans Mono',consolas,'Courier New',monospace\">Uh oh, haven't evaluated this cut yet! Make sure it was included in the list of cuts you used to initialize this \n",
       "JaggedSelection.   dsaMuons :  no PF match\n",
       "</pre>\n"
      ],
      "text/plain": [
       "Uh oh, haven't evaluated this cut yet! Make sure it was included in the list of cuts you used to initialize this \n",
       "JaggedSelection.   dsaMuons :  no PF match\n"
      ]
     },
     "metadata": {},
     "output_type": "display_data"
    },
    {
     "data": {
      "text/html": [
       "<pre style=\"white-space:pre;overflow-x:auto;line-height:normal;font-family:Menlo,'DejaVu Sans Mono',consolas,'Courier New',monospace\">Applying cut:  PV filter\n",
       "</pre>\n"
      ],
      "text/plain": [
       "Applying cut:  PV filter\n"
      ]
     },
     "metadata": {},
     "output_type": "display_data"
    },
    {
     "name": "stderr",
     "output_type": "stream",
     "text": [
      "2024-06-17 20:39:14,328 - distributed.utils_perf - WARNING - full garbage collections took 19% CPU time recently (threshold: 10%)\n",
      "2024-06-17 20:39:14,329 - distributed.utils_perf - INFO - full garbage collection released 35.97 MiB from 541361 reference cycles (threshold: 9.54 MiB)\n"
     ]
    },
    {
     "data": {
      "text/html": [
       "<pre style=\"white-space:pre;overflow-x:auto;line-height:normal;font-family:Menlo,'DejaVu Sans Mono',consolas,'Courier New',monospace\">Not applying any cuts to the lepton jets for channel baseNoLj\n",
       "</pre>\n"
      ],
      "text/plain": [
       "Not applying any cuts to the lepton jets for channel baseNoLj\n"
      ]
     },
     "metadata": {},
     "output_type": "display_data"
    },
    {
     "data": {
      "text/html": [
       "<pre style=\"white-space:pre;overflow-x:auto;line-height:normal;font-family:Menlo,'DejaVu Sans Mono',consolas,'Courier New',monospace\">Warning: Unable to apply no PF match for dsaMuons. Skipping.\n",
       "</pre>\n"
      ],
      "text/plain": [
       "Warning: Unable to apply no PF match for dsaMuons. Skipping.\n"
      ]
     },
     "metadata": {},
     "output_type": "display_data"
    },
    {
     "data": {
      "text/html": [
       "<pre style=\"white-space:pre;overflow-x:auto;line-height:normal;font-family:Menlo,'DejaVu Sans Mono',consolas,'Courier New',monospace\">Uh oh, haven't evaluated this cut yet! Make sure it was included in the list of cuts you used to initialize this \n",
       "JaggedSelection.   dsaMuons :  no PF match\n",
       "</pre>\n"
      ],
      "text/plain": [
       "Uh oh, haven't evaluated this cut yet! Make sure it was included in the list of cuts you used to initialize this \n",
       "JaggedSelection.   dsaMuons :  no PF match\n"
      ]
     },
     "metadata": {},
     "output_type": "display_data"
    },
    {
     "data": {
      "text/html": [
       "<pre style=\"white-space:pre;overflow-x:auto;line-height:normal;font-family:Menlo,'DejaVu Sans Mono',consolas,'Courier New',monospace\">Applying cut:  PV filter\n",
       "</pre>\n"
      ],
      "text/plain": [
       "Applying cut:  PV filter\n"
      ]
     },
     "metadata": {},
     "output_type": "display_data"
    },
    {
     "data": {
      "text/html": [
       "<pre style=\"white-space:pre;overflow-x:auto;line-height:normal;font-family:Menlo,'DejaVu Sans Mono',consolas,'Courier New',monospace\">Not applying any cuts to the lepton jets for channel baseNoLj\n",
       "</pre>\n"
      ],
      "text/plain": [
       "Not applying any cuts to the lepton jets for channel baseNoLj\n"
      ]
     },
     "metadata": {},
     "output_type": "display_data"
    },
    {
     "data": {
      "text/html": [
       "<pre style=\"white-space:pre;overflow-x:auto;line-height:normal;font-family:Menlo,'DejaVu Sans Mono',consolas,'Courier New',monospace\">Warning: Unable to apply no PF match for dsaMuons. Skipping.\n",
       "</pre>\n"
      ],
      "text/plain": [
       "Warning: Unable to apply no PF match for dsaMuons. Skipping.\n"
      ]
     },
     "metadata": {},
     "output_type": "display_data"
    },
    {
     "data": {
      "text/html": [
       "<pre style=\"white-space:pre;overflow-x:auto;line-height:normal;font-family:Menlo,'DejaVu Sans Mono',consolas,'Courier New',monospace\">Uh oh, haven't evaluated this cut yet! Make sure it was included in the list of cuts you used to initialize this \n",
       "JaggedSelection.   dsaMuons :  no PF match\n",
       "</pre>\n"
      ],
      "text/plain": [
       "Uh oh, haven't evaluated this cut yet! Make sure it was included in the list of cuts you used to initialize this \n",
       "JaggedSelection.   dsaMuons :  no PF match\n"
      ]
     },
     "metadata": {},
     "output_type": "display_data"
    },
    {
     "data": {
      "text/html": [
       "<pre style=\"white-space:pre;overflow-x:auto;line-height:normal;font-family:Menlo,'DejaVu Sans Mono',consolas,'Courier New',monospace\">Applying cut:  PV filter\n",
       "</pre>\n"
      ],
      "text/plain": [
       "Applying cut:  PV filter\n"
      ]
     },
     "metadata": {},
     "output_type": "display_data"
    },
    {
     "name": "stderr",
     "output_type": "stream",
     "text": [
      "2024-06-17 20:39:18,262 - distributed.utils_perf - WARNING - full garbage collections took 18% CPU time recently (threshold: 10%)\n"
     ]
    },
    {
     "data": {
      "text/html": [
       "<pre style=\"white-space:pre;overflow-x:auto;line-height:normal;font-family:Menlo,'DejaVu Sans Mono',consolas,'Courier New',monospace\">Not applying any cuts to the lepton jets for channel baseNoLj\n",
       "</pre>\n"
      ],
      "text/plain": [
       "Not applying any cuts to the lepton jets for channel baseNoLj\n"
      ]
     },
     "metadata": {},
     "output_type": "display_data"
    },
    {
     "data": {
      "text/html": [
       "<pre style=\"white-space:pre;overflow-x:auto;line-height:normal;font-family:Menlo,'DejaVu Sans Mono',consolas,'Courier New',monospace\">Warning: Unable to apply no PF match for dsaMuons. Skipping.\n",
       "</pre>\n"
      ],
      "text/plain": [
       "Warning: Unable to apply no PF match for dsaMuons. Skipping.\n"
      ]
     },
     "metadata": {},
     "output_type": "display_data"
    },
    {
     "data": {
      "text/html": [
       "<pre style=\"white-space:pre;overflow-x:auto;line-height:normal;font-family:Menlo,'DejaVu Sans Mono',consolas,'Courier New',monospace\">Uh oh, haven't evaluated this cut yet! Make sure it was included in the list of cuts you used to initialize this \n",
       "JaggedSelection.   dsaMuons :  no PF match\n",
       "</pre>\n"
      ],
      "text/plain": [
       "Uh oh, haven't evaluated this cut yet! Make sure it was included in the list of cuts you used to initialize this \n",
       "JaggedSelection.   dsaMuons :  no PF match\n"
      ]
     },
     "metadata": {},
     "output_type": "display_data"
    },
    {
     "data": {
      "text/html": [
       "<pre style=\"white-space:pre;overflow-x:auto;line-height:normal;font-family:Menlo,'DejaVu Sans Mono',consolas,'Courier New',monospace\">Applying cut:  PV filter\n",
       "</pre>\n"
      ],
      "text/plain": [
       "Applying cut:  PV filter\n"
      ]
     },
     "metadata": {},
     "output_type": "display_data"
    },
    {
     "data": {
      "text/html": [
       "<pre style=\"white-space:pre;overflow-x:auto;line-height:normal;font-family:Menlo,'DejaVu Sans Mono',consolas,'Courier New',monospace\">Not applying any cuts to the lepton jets for channel baseNoLj\n",
       "</pre>\n"
      ],
      "text/plain": [
       "Not applying any cuts to the lepton jets for channel baseNoLj\n"
      ]
     },
     "metadata": {},
     "output_type": "display_data"
    },
    {
     "data": {
      "text/html": [
       "<pre style=\"white-space:pre;overflow-x:auto;line-height:normal;font-family:Menlo,'DejaVu Sans Mono',consolas,'Courier New',monospace\">Warning: Unable to apply no PF match for dsaMuons. Skipping.\n",
       "</pre>\n"
      ],
      "text/plain": [
       "Warning: Unable to apply no PF match for dsaMuons. Skipping.\n"
      ]
     },
     "metadata": {},
     "output_type": "display_data"
    },
    {
     "data": {
      "text/html": [
       "<pre style=\"white-space:pre;overflow-x:auto;line-height:normal;font-family:Menlo,'DejaVu Sans Mono',consolas,'Courier New',monospace\">Uh oh, haven't evaluated this cut yet! Make sure it was included in the list of cuts you used to initialize this \n",
       "JaggedSelection.   dsaMuons :  no PF match\n",
       "</pre>\n"
      ],
      "text/plain": [
       "Uh oh, haven't evaluated this cut yet! Make sure it was included in the list of cuts you used to initialize this \n",
       "JaggedSelection.   dsaMuons :  no PF match\n"
      ]
     },
     "metadata": {},
     "output_type": "display_data"
    },
    {
     "data": {
      "text/html": [
       "<pre style=\"white-space:pre;overflow-x:auto;line-height:normal;font-family:Menlo,'DejaVu Sans Mono',consolas,'Courier New',monospace\">Applying cut:  PV filter\n",
       "</pre>\n"
      ],
      "text/plain": [
       "Applying cut:  PV filter\n"
      ]
     },
     "metadata": {},
     "output_type": "display_data"
    },
    {
     "data": {
      "text/html": [
       "<pre style=\"white-space:pre;overflow-x:auto;line-height:normal;font-family:Menlo,'DejaVu Sans Mono',consolas,'Courier New',monospace\">Not applying any cuts to the lepton jets for channel baseNoLj\n",
       "</pre>\n"
      ],
      "text/plain": [
       "Not applying any cuts to the lepton jets for channel baseNoLj\n"
      ]
     },
     "metadata": {},
     "output_type": "display_data"
    },
    {
     "data": {
      "text/html": [
       "<pre style=\"white-space:pre;overflow-x:auto;line-height:normal;font-family:Menlo,'DejaVu Sans Mono',consolas,'Courier New',monospace\">Warning: Unable to apply no PF match for dsaMuons. Skipping.\n",
       "</pre>\n"
      ],
      "text/plain": [
       "Warning: Unable to apply no PF match for dsaMuons. Skipping.\n"
      ]
     },
     "metadata": {},
     "output_type": "display_data"
    },
    {
     "data": {
      "text/html": [
       "<pre style=\"white-space:pre;overflow-x:auto;line-height:normal;font-family:Menlo,'DejaVu Sans Mono',consolas,'Courier New',monospace\">Uh oh, haven't evaluated this cut yet! Make sure it was included in the list of cuts you used to initialize this \n",
       "JaggedSelection.   dsaMuons :  no PF match\n",
       "</pre>\n"
      ],
      "text/plain": [
       "Uh oh, haven't evaluated this cut yet! Make sure it was included in the list of cuts you used to initialize this \n",
       "JaggedSelection.   dsaMuons :  no PF match\n"
      ]
     },
     "metadata": {},
     "output_type": "display_data"
    },
    {
     "data": {
      "text/html": [
       "<pre style=\"white-space:pre;overflow-x:auto;line-height:normal;font-family:Menlo,'DejaVu Sans Mono',consolas,'Courier New',monospace\">Applying cut:  PV filter\n",
       "</pre>\n"
      ],
      "text/plain": [
       "Applying cut:  PV filter\n"
      ]
     },
     "metadata": {},
     "output_type": "display_data"
    },
    {
     "name": "stderr",
     "output_type": "stream",
     "text": [
      "2024-06-17 20:39:23,200 - distributed.utils_perf - WARNING - full garbage collections took 18% CPU time recently (threshold: 10%)\n",
      "2024-06-17 20:39:23,201 - distributed.utils_perf - INFO - full garbage collection released 12.75 MiB from 407948 reference cycles (threshold: 9.54 MiB)\n"
     ]
    },
    {
     "data": {
      "text/html": [
       "<pre style=\"white-space:pre;overflow-x:auto;line-height:normal;font-family:Menlo,'DejaVu Sans Mono',consolas,'Courier New',monospace\">Not applying any cuts to the lepton jets for channel baseNoLj\n",
       "</pre>\n"
      ],
      "text/plain": [
       "Not applying any cuts to the lepton jets for channel baseNoLj\n"
      ]
     },
     "metadata": {},
     "output_type": "display_data"
    },
    {
     "data": {
      "text/html": [
       "<pre style=\"white-space:pre;overflow-x:auto;line-height:normal;font-family:Menlo,'DejaVu Sans Mono',consolas,'Courier New',monospace\">Warning: Unable to apply no PF match for dsaMuons. Skipping.\n",
       "</pre>\n"
      ],
      "text/plain": [
       "Warning: Unable to apply no PF match for dsaMuons. Skipping.\n"
      ]
     },
     "metadata": {},
     "output_type": "display_data"
    },
    {
     "data": {
      "text/html": [
       "<pre style=\"white-space:pre;overflow-x:auto;line-height:normal;font-family:Menlo,'DejaVu Sans Mono',consolas,'Courier New',monospace\">Uh oh, haven't evaluated this cut yet! Make sure it was included in the list of cuts you used to initialize this \n",
       "JaggedSelection.   dsaMuons :  no PF match\n",
       "</pre>\n"
      ],
      "text/plain": [
       "Uh oh, haven't evaluated this cut yet! Make sure it was included in the list of cuts you used to initialize this \n",
       "JaggedSelection.   dsaMuons :  no PF match\n"
      ]
     },
     "metadata": {},
     "output_type": "display_data"
    },
    {
     "data": {
      "text/html": [
       "<pre style=\"white-space:pre;overflow-x:auto;line-height:normal;font-family:Menlo,'DejaVu Sans Mono',consolas,'Courier New',monospace\">Applying cut:  PV filter\n",
       "</pre>\n"
      ],
      "text/plain": [
       "Applying cut:  PV filter\n"
      ]
     },
     "metadata": {},
     "output_type": "display_data"
    },
    {
     "data": {
      "text/html": [
       "<pre style=\"white-space:pre;overflow-x:auto;line-height:normal;font-family:Menlo,'DejaVu Sans Mono',consolas,'Courier New',monospace\">Not applying any cuts to the lepton jets for channel baseNoLj\n",
       "</pre>\n"
      ],
      "text/plain": [
       "Not applying any cuts to the lepton jets for channel baseNoLj\n"
      ]
     },
     "metadata": {},
     "output_type": "display_data"
    },
    {
     "data": {
      "text/html": [
       "<pre style=\"white-space:pre;overflow-x:auto;line-height:normal;font-family:Menlo,'DejaVu Sans Mono',consolas,'Courier New',monospace\">Warning: Unable to apply no PF match for dsaMuons. Skipping.\n",
       "</pre>\n"
      ],
      "text/plain": [
       "Warning: Unable to apply no PF match for dsaMuons. Skipping.\n"
      ]
     },
     "metadata": {},
     "output_type": "display_data"
    },
    {
     "data": {
      "text/html": [
       "<pre style=\"white-space:pre;overflow-x:auto;line-height:normal;font-family:Menlo,'DejaVu Sans Mono',consolas,'Courier New',monospace\">Uh oh, haven't evaluated this cut yet! Make sure it was included in the list of cuts you used to initialize this \n",
       "JaggedSelection.   dsaMuons :  no PF match\n",
       "</pre>\n"
      ],
      "text/plain": [
       "Uh oh, haven't evaluated this cut yet! Make sure it was included in the list of cuts you used to initialize this \n",
       "JaggedSelection.   dsaMuons :  no PF match\n"
      ]
     },
     "metadata": {},
     "output_type": "display_data"
    },
    {
     "data": {
      "text/html": [
       "<pre style=\"white-space:pre;overflow-x:auto;line-height:normal;font-family:Menlo,'DejaVu Sans Mono',consolas,'Courier New',monospace\">Applying cut:  PV filter\n",
       "</pre>\n"
      ],
      "text/plain": [
       "Applying cut:  PV filter\n"
      ]
     },
     "metadata": {},
     "output_type": "display_data"
    },
    {
     "data": {
      "text/html": [
       "<pre style=\"white-space:pre;overflow-x:auto;line-height:normal;font-family:Menlo,'DejaVu Sans Mono',consolas,'Courier New',monospace\">Not applying any cuts to the lepton jets for channel baseNoLj\n",
       "</pre>\n"
      ],
      "text/plain": [
       "Not applying any cuts to the lepton jets for channel baseNoLj\n"
      ]
     },
     "metadata": {},
     "output_type": "display_data"
    },
    {
     "data": {
      "text/html": [
       "<pre style=\"white-space:pre;overflow-x:auto;line-height:normal;font-family:Menlo,'DejaVu Sans Mono',consolas,'Courier New',monospace\">Warning: Unable to apply no PF match for dsaMuons. Skipping.\n",
       "</pre>\n"
      ],
      "text/plain": [
       "Warning: Unable to apply no PF match for dsaMuons. Skipping.\n"
      ]
     },
     "metadata": {},
     "output_type": "display_data"
    },
    {
     "data": {
      "text/html": [
       "<pre style=\"white-space:pre;overflow-x:auto;line-height:normal;font-family:Menlo,'DejaVu Sans Mono',consolas,'Courier New',monospace\">Uh oh, haven't evaluated this cut yet! Make sure it was included in the list of cuts you used to initialize this \n",
       "JaggedSelection.   dsaMuons :  no PF match\n",
       "</pre>\n"
      ],
      "text/plain": [
       "Uh oh, haven't evaluated this cut yet! Make sure it was included in the list of cuts you used to initialize this \n",
       "JaggedSelection.   dsaMuons :  no PF match\n"
      ]
     },
     "metadata": {},
     "output_type": "display_data"
    },
    {
     "data": {
      "text/html": [
       "<pre style=\"white-space:pre;overflow-x:auto;line-height:normal;font-family:Menlo,'DejaVu Sans Mono',consolas,'Courier New',monospace\">Applying cut:  PV filter\n",
       "</pre>\n"
      ],
      "text/plain": [
       "Applying cut:  PV filter\n"
      ]
     },
     "metadata": {},
     "output_type": "display_data"
    },
    {
     "name": "stderr",
     "output_type": "stream",
     "text": [
      "2024-06-17 20:39:28,044 - distributed.utils_perf - WARNING - full garbage collections took 17% CPU time recently (threshold: 10%)\n",
      "2024-06-17 20:39:28,045 - distributed.utils_perf - INFO - full garbage collection released 11.54 MiB from 278329 reference cycles (threshold: 9.54 MiB)\n"
     ]
    },
    {
     "data": {
      "text/html": [
       "<pre style=\"white-space:pre;overflow-x:auto;line-height:normal;font-family:Menlo,'DejaVu Sans Mono',consolas,'Courier New',monospace\">Not applying any cuts to the lepton jets for channel baseNoLj\n",
       "</pre>\n"
      ],
      "text/plain": [
       "Not applying any cuts to the lepton jets for channel baseNoLj\n"
      ]
     },
     "metadata": {},
     "output_type": "display_data"
    },
    {
     "data": {
      "text/html": [
       "<pre style=\"white-space:pre;overflow-x:auto;line-height:normal;font-family:Menlo,'DejaVu Sans Mono',consolas,'Courier New',monospace\">Warning: Unable to apply no PF match for dsaMuons. Skipping.\n",
       "</pre>\n"
      ],
      "text/plain": [
       "Warning: Unable to apply no PF match for dsaMuons. Skipping.\n"
      ]
     },
     "metadata": {},
     "output_type": "display_data"
    },
    {
     "data": {
      "text/html": [
       "<pre style=\"white-space:pre;overflow-x:auto;line-height:normal;font-family:Menlo,'DejaVu Sans Mono',consolas,'Courier New',monospace\">Uh oh, haven't evaluated this cut yet! Make sure it was included in the list of cuts you used to initialize this \n",
       "JaggedSelection.   dsaMuons :  no PF match\n",
       "</pre>\n"
      ],
      "text/plain": [
       "Uh oh, haven't evaluated this cut yet! Make sure it was included in the list of cuts you used to initialize this \n",
       "JaggedSelection.   dsaMuons :  no PF match\n"
      ]
     },
     "metadata": {},
     "output_type": "display_data"
    },
    {
     "data": {
      "text/html": [
       "<pre style=\"white-space:pre;overflow-x:auto;line-height:normal;font-family:Menlo,'DejaVu Sans Mono',consolas,'Courier New',monospace\">Applying cut:  PV filter\n",
       "</pre>\n"
      ],
      "text/plain": [
       "Applying cut:  PV filter\n"
      ]
     },
     "metadata": {},
     "output_type": "display_data"
    },
    {
     "data": {
      "text/html": [
       "<pre style=\"white-space:pre;overflow-x:auto;line-height:normal;font-family:Menlo,'DejaVu Sans Mono',consolas,'Courier New',monospace\">Not applying any cuts to the lepton jets for channel baseNoLj\n",
       "</pre>\n"
      ],
      "text/plain": [
       "Not applying any cuts to the lepton jets for channel baseNoLj\n"
      ]
     },
     "metadata": {},
     "output_type": "display_data"
    },
    {
     "data": {
      "text/html": [
       "<pre style=\"white-space:pre;overflow-x:auto;line-height:normal;font-family:Menlo,'DejaVu Sans Mono',consolas,'Courier New',monospace\">Warning: Unable to apply no PF match for dsaMuons. Skipping.\n",
       "</pre>\n"
      ],
      "text/plain": [
       "Warning: Unable to apply no PF match for dsaMuons. Skipping.\n"
      ]
     },
     "metadata": {},
     "output_type": "display_data"
    },
    {
     "data": {
      "text/html": [
       "<pre style=\"white-space:pre;overflow-x:auto;line-height:normal;font-family:Menlo,'DejaVu Sans Mono',consolas,'Courier New',monospace\">Uh oh, haven't evaluated this cut yet! Make sure it was included in the list of cuts you used to initialize this \n",
       "JaggedSelection.   dsaMuons :  no PF match\n",
       "</pre>\n"
      ],
      "text/plain": [
       "Uh oh, haven't evaluated this cut yet! Make sure it was included in the list of cuts you used to initialize this \n",
       "JaggedSelection.   dsaMuons :  no PF match\n"
      ]
     },
     "metadata": {},
     "output_type": "display_data"
    },
    {
     "data": {
      "text/html": [
       "<pre style=\"white-space:pre;overflow-x:auto;line-height:normal;font-family:Menlo,'DejaVu Sans Mono',consolas,'Courier New',monospace\">Applying cut:  PV filter\n",
       "</pre>\n"
      ],
      "text/plain": [
       "Applying cut:  PV filter\n"
      ]
     },
     "metadata": {},
     "output_type": "display_data"
    },
    {
     "name": "stderr",
     "output_type": "stream",
     "text": [
      "2024-06-17 20:39:32,135 - distributed.utils_perf - WARNING - full garbage collections took 17% CPU time recently (threshold: 10%)\n"
     ]
    },
    {
     "data": {
      "text/html": [
       "<pre style=\"white-space:pre;overflow-x:auto;line-height:normal;font-family:Menlo,'DejaVu Sans Mono',consolas,'Courier New',monospace\">Not applying any cuts to the lepton jets for channel baseNoLj\n",
       "</pre>\n"
      ],
      "text/plain": [
       "Not applying any cuts to the lepton jets for channel baseNoLj\n"
      ]
     },
     "metadata": {},
     "output_type": "display_data"
    },
    {
     "data": {
      "text/html": [
       "<pre style=\"white-space:pre;overflow-x:auto;line-height:normal;font-family:Menlo,'DejaVu Sans Mono',consolas,'Courier New',monospace\">Warning: Unable to apply no PF match for dsaMuons. Skipping.\n",
       "</pre>\n"
      ],
      "text/plain": [
       "Warning: Unable to apply no PF match for dsaMuons. Skipping.\n"
      ]
     },
     "metadata": {},
     "output_type": "display_data"
    },
    {
     "data": {
      "text/html": [
       "<pre style=\"white-space:pre;overflow-x:auto;line-height:normal;font-family:Menlo,'DejaVu Sans Mono',consolas,'Courier New',monospace\">Uh oh, haven't evaluated this cut yet! Make sure it was included in the list of cuts you used to initialize this \n",
       "JaggedSelection.   dsaMuons :  no PF match\n",
       "</pre>\n"
      ],
      "text/plain": [
       "Uh oh, haven't evaluated this cut yet! Make sure it was included in the list of cuts you used to initialize this \n",
       "JaggedSelection.   dsaMuons :  no PF match\n"
      ]
     },
     "metadata": {},
     "output_type": "display_data"
    },
    {
     "data": {
      "text/html": [
       "<pre style=\"white-space:pre;overflow-x:auto;line-height:normal;font-family:Menlo,'DejaVu Sans Mono',consolas,'Courier New',monospace\">Applying cut:  PV filter\n",
       "</pre>\n"
      ],
      "text/plain": [
       "Applying cut:  PV filter\n"
      ]
     },
     "metadata": {},
     "output_type": "display_data"
    },
    {
     "data": {
      "text/html": [
       "<pre style=\"white-space:pre;overflow-x:auto;line-height:normal;font-family:Menlo,'DejaVu Sans Mono',consolas,'Courier New',monospace\">Not applying any cuts to the lepton jets for channel baseNoLj\n",
       "</pre>\n"
      ],
      "text/plain": [
       "Not applying any cuts to the lepton jets for channel baseNoLj\n"
      ]
     },
     "metadata": {},
     "output_type": "display_data"
    },
    {
     "data": {
      "text/html": [
       "<pre style=\"white-space:pre;overflow-x:auto;line-height:normal;font-family:Menlo,'DejaVu Sans Mono',consolas,'Courier New',monospace\">Warning: Unable to apply no PF match for dsaMuons. Skipping.\n",
       "</pre>\n"
      ],
      "text/plain": [
       "Warning: Unable to apply no PF match for dsaMuons. Skipping.\n"
      ]
     },
     "metadata": {},
     "output_type": "display_data"
    },
    {
     "data": {
      "text/html": [
       "<pre style=\"white-space:pre;overflow-x:auto;line-height:normal;font-family:Menlo,'DejaVu Sans Mono',consolas,'Courier New',monospace\">Uh oh, haven't evaluated this cut yet! Make sure it was included in the list of cuts you used to initialize this \n",
       "JaggedSelection.   dsaMuons :  no PF match\n",
       "</pre>\n"
      ],
      "text/plain": [
       "Uh oh, haven't evaluated this cut yet! Make sure it was included in the list of cuts you used to initialize this \n",
       "JaggedSelection.   dsaMuons :  no PF match\n"
      ]
     },
     "metadata": {},
     "output_type": "display_data"
    },
    {
     "data": {
      "text/html": [
       "<pre style=\"white-space:pre;overflow-x:auto;line-height:normal;font-family:Menlo,'DejaVu Sans Mono',consolas,'Courier New',monospace\">Applying cut:  PV filter\n",
       "</pre>\n"
      ],
      "text/plain": [
       "Applying cut:  PV filter\n"
      ]
     },
     "metadata": {},
     "output_type": "display_data"
    },
    {
     "data": {
      "text/html": [
       "<pre style=\"white-space:pre;overflow-x:auto;line-height:normal;font-family:Menlo,'DejaVu Sans Mono',consolas,'Courier New',monospace\">Not applying any cuts to the lepton jets for channel baseNoLj\n",
       "</pre>\n"
      ],
      "text/plain": [
       "Not applying any cuts to the lepton jets for channel baseNoLj\n"
      ]
     },
     "metadata": {},
     "output_type": "display_data"
    },
    {
     "data": {
      "text/html": [
       "<pre style=\"white-space:pre;overflow-x:auto;line-height:normal;font-family:Menlo,'DejaVu Sans Mono',consolas,'Courier New',monospace\">Warning: Unable to apply no PF match for dsaMuons. Skipping.\n",
       "</pre>\n"
      ],
      "text/plain": [
       "Warning: Unable to apply no PF match for dsaMuons. Skipping.\n"
      ]
     },
     "metadata": {},
     "output_type": "display_data"
    },
    {
     "data": {
      "text/html": [
       "<pre style=\"white-space:pre;overflow-x:auto;line-height:normal;font-family:Menlo,'DejaVu Sans Mono',consolas,'Courier New',monospace\">Uh oh, haven't evaluated this cut yet! Make sure it was included in the list of cuts you used to initialize this \n",
       "JaggedSelection.   dsaMuons :  no PF match\n",
       "</pre>\n"
      ],
      "text/plain": [
       "Uh oh, haven't evaluated this cut yet! Make sure it was included in the list of cuts you used to initialize this \n",
       "JaggedSelection.   dsaMuons :  no PF match\n"
      ]
     },
     "metadata": {},
     "output_type": "display_data"
    },
    {
     "data": {
      "text/html": [
       "<pre style=\"white-space:pre;overflow-x:auto;line-height:normal;font-family:Menlo,'DejaVu Sans Mono',consolas,'Courier New',monospace\">Applying cut:  PV filter\n",
       "</pre>\n"
      ],
      "text/plain": [
       "Applying cut:  PV filter\n"
      ]
     },
     "metadata": {},
     "output_type": "display_data"
    },
    {
     "name": "stderr",
     "output_type": "stream",
     "text": [
      "2024-06-17 20:39:37,103 - distributed.utils_perf - WARNING - full garbage collections took 16% CPU time recently (threshold: 10%)\n",
      "2024-06-17 20:39:37,104 - distributed.utils_perf - INFO - full garbage collection released 16.52 MiB from 407983 reference cycles (threshold: 9.54 MiB)\n"
     ]
    },
    {
     "data": {
      "text/html": [
       "<pre style=\"white-space:pre;overflow-x:auto;line-height:normal;font-family:Menlo,'DejaVu Sans Mono',consolas,'Courier New',monospace\">Not applying any cuts to the lepton jets for channel baseNoLj\n",
       "</pre>\n"
      ],
      "text/plain": [
       "Not applying any cuts to the lepton jets for channel baseNoLj\n"
      ]
     },
     "metadata": {},
     "output_type": "display_data"
    },
    {
     "data": {
      "text/html": [
       "<pre style=\"white-space:pre;overflow-x:auto;line-height:normal;font-family:Menlo,'DejaVu Sans Mono',consolas,'Courier New',monospace\">Warning: Unable to apply no PF match for dsaMuons. Skipping.\n",
       "</pre>\n"
      ],
      "text/plain": [
       "Warning: Unable to apply no PF match for dsaMuons. Skipping.\n"
      ]
     },
     "metadata": {},
     "output_type": "display_data"
    },
    {
     "data": {
      "text/html": [
       "<pre style=\"white-space:pre;overflow-x:auto;line-height:normal;font-family:Menlo,'DejaVu Sans Mono',consolas,'Courier New',monospace\">Uh oh, haven't evaluated this cut yet! Make sure it was included in the list of cuts you used to initialize this \n",
       "JaggedSelection.   dsaMuons :  no PF match\n",
       "</pre>\n"
      ],
      "text/plain": [
       "Uh oh, haven't evaluated this cut yet! Make sure it was included in the list of cuts you used to initialize this \n",
       "JaggedSelection.   dsaMuons :  no PF match\n"
      ]
     },
     "metadata": {},
     "output_type": "display_data"
    },
    {
     "data": {
      "text/html": [
       "<pre style=\"white-space:pre;overflow-x:auto;line-height:normal;font-family:Menlo,'DejaVu Sans Mono',consolas,'Courier New',monospace\">Applying cut:  PV filter\n",
       "</pre>\n"
      ],
      "text/plain": [
       "Applying cut:  PV filter\n"
      ]
     },
     "metadata": {},
     "output_type": "display_data"
    },
    {
     "data": {
      "text/html": [
       "<pre style=\"white-space:pre;overflow-x:auto;line-height:normal;font-family:Menlo,'DejaVu Sans Mono',consolas,'Courier New',monospace\">Not applying any cuts to the lepton jets for channel baseNoLj\n",
       "</pre>\n"
      ],
      "text/plain": [
       "Not applying any cuts to the lepton jets for channel baseNoLj\n"
      ]
     },
     "metadata": {},
     "output_type": "display_data"
    },
    {
     "data": {
      "text/html": [
       "<pre style=\"white-space:pre;overflow-x:auto;line-height:normal;font-family:Menlo,'DejaVu Sans Mono',consolas,'Courier New',monospace\">Warning: Unable to apply no PF match for dsaMuons. Skipping.\n",
       "</pre>\n"
      ],
      "text/plain": [
       "Warning: Unable to apply no PF match for dsaMuons. Skipping.\n"
      ]
     },
     "metadata": {},
     "output_type": "display_data"
    },
    {
     "data": {
      "text/html": [
       "<pre style=\"white-space:pre;overflow-x:auto;line-height:normal;font-family:Menlo,'DejaVu Sans Mono',consolas,'Courier New',monospace\">Uh oh, haven't evaluated this cut yet! Make sure it was included in the list of cuts you used to initialize this \n",
       "JaggedSelection.   dsaMuons :  no PF match\n",
       "</pre>\n"
      ],
      "text/plain": [
       "Uh oh, haven't evaluated this cut yet! Make sure it was included in the list of cuts you used to initialize this \n",
       "JaggedSelection.   dsaMuons :  no PF match\n"
      ]
     },
     "metadata": {},
     "output_type": "display_data"
    },
    {
     "data": {
      "text/html": [
       "<pre style=\"white-space:pre;overflow-x:auto;line-height:normal;font-family:Menlo,'DejaVu Sans Mono',consolas,'Courier New',monospace\">Applying cut:  PV filter\n",
       "</pre>\n"
      ],
      "text/plain": [
       "Applying cut:  PV filter\n"
      ]
     },
     "metadata": {},
     "output_type": "display_data"
    },
    {
     "data": {
      "text/html": [
       "<pre style=\"white-space:pre;overflow-x:auto;line-height:normal;font-family:Menlo,'DejaVu Sans Mono',consolas,'Courier New',monospace\">Not applying any cuts to the lepton jets for channel baseNoLj\n",
       "</pre>\n"
      ],
      "text/plain": [
       "Not applying any cuts to the lepton jets for channel baseNoLj\n"
      ]
     },
     "metadata": {},
     "output_type": "display_data"
    },
    {
     "data": {
      "text/html": [
       "<pre style=\"white-space:pre;overflow-x:auto;line-height:normal;font-family:Menlo,'DejaVu Sans Mono',consolas,'Courier New',monospace\">Warning: Unable to apply no PF match for dsaMuons. Skipping.\n",
       "</pre>\n"
      ],
      "text/plain": [
       "Warning: Unable to apply no PF match for dsaMuons. Skipping.\n"
      ]
     },
     "metadata": {},
     "output_type": "display_data"
    },
    {
     "data": {
      "text/html": [
       "<pre style=\"white-space:pre;overflow-x:auto;line-height:normal;font-family:Menlo,'DejaVu Sans Mono',consolas,'Courier New',monospace\">Uh oh, haven't evaluated this cut yet! Make sure it was included in the list of cuts you used to initialize this \n",
       "JaggedSelection.   dsaMuons :  no PF match\n",
       "</pre>\n"
      ],
      "text/plain": [
       "Uh oh, haven't evaluated this cut yet! Make sure it was included in the list of cuts you used to initialize this \n",
       "JaggedSelection.   dsaMuons :  no PF match\n"
      ]
     },
     "metadata": {},
     "output_type": "display_data"
    },
    {
     "data": {
      "text/html": [
       "<pre style=\"white-space:pre;overflow-x:auto;line-height:normal;font-family:Menlo,'DejaVu Sans Mono',consolas,'Courier New',monospace\">Applying cut:  PV filter\n",
       "</pre>\n"
      ],
      "text/plain": [
       "Applying cut:  PV filter\n"
      ]
     },
     "metadata": {},
     "output_type": "display_data"
    },
    {
     "name": "stderr",
     "output_type": "stream",
     "text": [
      "2024-06-17 20:39:41,996 - distributed.utils_perf - WARNING - full garbage collections took 16% CPU time recently (threshold: 10%)\n"
     ]
    },
    {
     "data": {
      "text/html": [
       "<pre style=\"white-space:pre;overflow-x:auto;line-height:normal;font-family:Menlo,'DejaVu Sans Mono',consolas,'Courier New',monospace\">Not applying any cuts to the lepton jets for channel baseNoLj\n",
       "</pre>\n"
      ],
      "text/plain": [
       "Not applying any cuts to the lepton jets for channel baseNoLj\n"
      ]
     },
     "metadata": {},
     "output_type": "display_data"
    },
    {
     "data": {
      "text/html": [
       "<pre style=\"white-space:pre;overflow-x:auto;line-height:normal;font-family:Menlo,'DejaVu Sans Mono',consolas,'Courier New',monospace\">Warning: Unable to apply no PF match for dsaMuons. Skipping.\n",
       "</pre>\n"
      ],
      "text/plain": [
       "Warning: Unable to apply no PF match for dsaMuons. Skipping.\n"
      ]
     },
     "metadata": {},
     "output_type": "display_data"
    },
    {
     "data": {
      "text/html": [
       "<pre style=\"white-space:pre;overflow-x:auto;line-height:normal;font-family:Menlo,'DejaVu Sans Mono',consolas,'Courier New',monospace\">Uh oh, haven't evaluated this cut yet! Make sure it was included in the list of cuts you used to initialize this \n",
       "JaggedSelection.   dsaMuons :  no PF match\n",
       "</pre>\n"
      ],
      "text/plain": [
       "Uh oh, haven't evaluated this cut yet! Make sure it was included in the list of cuts you used to initialize this \n",
       "JaggedSelection.   dsaMuons :  no PF match\n"
      ]
     },
     "metadata": {},
     "output_type": "display_data"
    },
    {
     "data": {
      "text/html": [
       "<pre style=\"white-space:pre;overflow-x:auto;line-height:normal;font-family:Menlo,'DejaVu Sans Mono',consolas,'Courier New',monospace\">Applying cut:  PV filter\n",
       "</pre>\n"
      ],
      "text/plain": [
       "Applying cut:  PV filter\n"
      ]
     },
     "metadata": {},
     "output_type": "display_data"
    },
    {
     "data": {
      "text/html": [
       "<pre style=\"white-space:pre;overflow-x:auto;line-height:normal;font-family:Menlo,'DejaVu Sans Mono',consolas,'Courier New',monospace\">Not applying any cuts to the lepton jets for channel baseNoLj\n",
       "</pre>\n"
      ],
      "text/plain": [
       "Not applying any cuts to the lepton jets for channel baseNoLj\n"
      ]
     },
     "metadata": {},
     "output_type": "display_data"
    },
    {
     "data": {
      "text/html": [
       "<pre style=\"white-space:pre;overflow-x:auto;line-height:normal;font-family:Menlo,'DejaVu Sans Mono',consolas,'Courier New',monospace\">Warning: Unable to apply no PF match for dsaMuons. Skipping.\n",
       "</pre>\n"
      ],
      "text/plain": [
       "Warning: Unable to apply no PF match for dsaMuons. Skipping.\n"
      ]
     },
     "metadata": {},
     "output_type": "display_data"
    },
    {
     "data": {
      "text/html": [
       "<pre style=\"white-space:pre;overflow-x:auto;line-height:normal;font-family:Menlo,'DejaVu Sans Mono',consolas,'Courier New',monospace\">Uh oh, haven't evaluated this cut yet! Make sure it was included in the list of cuts you used to initialize this \n",
       "JaggedSelection.   dsaMuons :  no PF match\n",
       "</pre>\n"
      ],
      "text/plain": [
       "Uh oh, haven't evaluated this cut yet! Make sure it was included in the list of cuts you used to initialize this \n",
       "JaggedSelection.   dsaMuons :  no PF match\n"
      ]
     },
     "metadata": {},
     "output_type": "display_data"
    },
    {
     "data": {
      "text/html": [
       "<pre style=\"white-space:pre;overflow-x:auto;line-height:normal;font-family:Menlo,'DejaVu Sans Mono',consolas,'Courier New',monospace\">Applying cut:  PV filter\n",
       "</pre>\n"
      ],
      "text/plain": [
       "Applying cut:  PV filter\n"
      ]
     },
     "metadata": {},
     "output_type": "display_data"
    },
    {
     "name": "stderr",
     "output_type": "stream",
     "text": [
      "2024-06-17 20:39:45,973 - distributed.utils_perf - WARNING - full garbage collections took 16% CPU time recently (threshold: 10%)\n"
     ]
    },
    {
     "data": {
      "text/html": [
       "<pre style=\"white-space:pre;overflow-x:auto;line-height:normal;font-family:Menlo,'DejaVu Sans Mono',consolas,'Courier New',monospace\">Not applying any cuts to the lepton jets for channel baseNoLj\n",
       "</pre>\n"
      ],
      "text/plain": [
       "Not applying any cuts to the lepton jets for channel baseNoLj\n"
      ]
     },
     "metadata": {},
     "output_type": "display_data"
    },
    {
     "data": {
      "text/html": [
       "<pre style=\"white-space:pre;overflow-x:auto;line-height:normal;font-family:Menlo,'DejaVu Sans Mono',consolas,'Courier New',monospace\">Warning: Unable to apply no PF match for dsaMuons. Skipping.\n",
       "</pre>\n"
      ],
      "text/plain": [
       "Warning: Unable to apply no PF match for dsaMuons. Skipping.\n"
      ]
     },
     "metadata": {},
     "output_type": "display_data"
    },
    {
     "data": {
      "text/html": [
       "<pre style=\"white-space:pre;overflow-x:auto;line-height:normal;font-family:Menlo,'DejaVu Sans Mono',consolas,'Courier New',monospace\">Uh oh, haven't evaluated this cut yet! Make sure it was included in the list of cuts you used to initialize this \n",
       "JaggedSelection.   dsaMuons :  no PF match\n",
       "</pre>\n"
      ],
      "text/plain": [
       "Uh oh, haven't evaluated this cut yet! Make sure it was included in the list of cuts you used to initialize this \n",
       "JaggedSelection.   dsaMuons :  no PF match\n"
      ]
     },
     "metadata": {},
     "output_type": "display_data"
    },
    {
     "data": {
      "text/html": [
       "<pre style=\"white-space:pre;overflow-x:auto;line-height:normal;font-family:Menlo,'DejaVu Sans Mono',consolas,'Courier New',monospace\">Applying cut:  PV filter\n",
       "</pre>\n"
      ],
      "text/plain": [
       "Applying cut:  PV filter\n"
      ]
     },
     "metadata": {},
     "output_type": "display_data"
    },
    {
     "data": {
      "text/html": [
       "<pre style=\"white-space:pre;overflow-x:auto;line-height:normal;font-family:Menlo,'DejaVu Sans Mono',consolas,'Courier New',monospace\">Not applying any cuts to the lepton jets for channel baseNoLj\n",
       "</pre>\n"
      ],
      "text/plain": [
       "Not applying any cuts to the lepton jets for channel baseNoLj\n"
      ]
     },
     "metadata": {},
     "output_type": "display_data"
    },
    {
     "data": {
      "text/html": [
       "<pre style=\"white-space:pre;overflow-x:auto;line-height:normal;font-family:Menlo,'DejaVu Sans Mono',consolas,'Courier New',monospace\">Warning: Unable to apply no PF match for dsaMuons. Skipping.\n",
       "</pre>\n"
      ],
      "text/plain": [
       "Warning: Unable to apply no PF match for dsaMuons. Skipping.\n"
      ]
     },
     "metadata": {},
     "output_type": "display_data"
    },
    {
     "data": {
      "text/html": [
       "<pre style=\"white-space:pre;overflow-x:auto;line-height:normal;font-family:Menlo,'DejaVu Sans Mono',consolas,'Courier New',monospace\">Uh oh, haven't evaluated this cut yet! Make sure it was included in the list of cuts you used to initialize this \n",
       "JaggedSelection.   dsaMuons :  no PF match\n",
       "</pre>\n"
      ],
      "text/plain": [
       "Uh oh, haven't evaluated this cut yet! Make sure it was included in the list of cuts you used to initialize this \n",
       "JaggedSelection.   dsaMuons :  no PF match\n"
      ]
     },
     "metadata": {},
     "output_type": "display_data"
    },
    {
     "data": {
      "text/html": [
       "<pre style=\"white-space:pre;overflow-x:auto;line-height:normal;font-family:Menlo,'DejaVu Sans Mono',consolas,'Courier New',monospace\">Applying cut:  PV filter\n",
       "</pre>\n"
      ],
      "text/plain": [
       "Applying cut:  PV filter\n"
      ]
     },
     "metadata": {},
     "output_type": "display_data"
    },
    {
     "data": {
      "text/html": [
       "<pre style=\"white-space:pre;overflow-x:auto;line-height:normal;font-family:Menlo,'DejaVu Sans Mono',consolas,'Courier New',monospace\">Not applying any cuts to the lepton jets for channel baseNoLj\n",
       "</pre>\n"
      ],
      "text/plain": [
       "Not applying any cuts to the lepton jets for channel baseNoLj\n"
      ]
     },
     "metadata": {},
     "output_type": "display_data"
    },
    {
     "data": {
      "text/html": [
       "<pre style=\"white-space:pre;overflow-x:auto;line-height:normal;font-family:Menlo,'DejaVu Sans Mono',consolas,'Courier New',monospace\">Warning: Unable to apply no PF match for dsaMuons. Skipping.\n",
       "</pre>\n"
      ],
      "text/plain": [
       "Warning: Unable to apply no PF match for dsaMuons. Skipping.\n"
      ]
     },
     "metadata": {},
     "output_type": "display_data"
    },
    {
     "data": {
      "text/html": [
       "<pre style=\"white-space:pre;overflow-x:auto;line-height:normal;font-family:Menlo,'DejaVu Sans Mono',consolas,'Courier New',monospace\">Uh oh, haven't evaluated this cut yet! Make sure it was included in the list of cuts you used to initialize this \n",
       "JaggedSelection.   dsaMuons :  no PF match\n",
       "</pre>\n"
      ],
      "text/plain": [
       "Uh oh, haven't evaluated this cut yet! Make sure it was included in the list of cuts you used to initialize this \n",
       "JaggedSelection.   dsaMuons :  no PF match\n"
      ]
     },
     "metadata": {},
     "output_type": "display_data"
    },
    {
     "data": {
      "text/html": [
       "<pre style=\"white-space:pre;overflow-x:auto;line-height:normal;font-family:Menlo,'DejaVu Sans Mono',consolas,'Courier New',monospace\">Applying cut:  PV filter\n",
       "</pre>\n"
      ],
      "text/plain": [
       "Applying cut:  PV filter\n"
      ]
     },
     "metadata": {},
     "output_type": "display_data"
    },
    {
     "name": "stderr",
     "output_type": "stream",
     "text": [
      "2024-06-17 20:39:50,848 - distributed.utils_perf - WARNING - full garbage collections took 15% CPU time recently (threshold: 10%)\n"
     ]
    },
    {
     "data": {
      "text/html": [
       "<pre style=\"white-space:pre;overflow-x:auto;line-height:normal;font-family:Menlo,'DejaVu Sans Mono',consolas,'Courier New',monospace\">Not applying any cuts to the lepton jets for channel baseNoLj\n",
       "</pre>\n"
      ],
      "text/plain": [
       "Not applying any cuts to the lepton jets for channel baseNoLj\n"
      ]
     },
     "metadata": {},
     "output_type": "display_data"
    },
    {
     "data": {
      "text/html": [
       "<pre style=\"white-space:pre;overflow-x:auto;line-height:normal;font-family:Menlo,'DejaVu Sans Mono',consolas,'Courier New',monospace\">Warning: Unable to apply no PF match for dsaMuons. Skipping.\n",
       "</pre>\n"
      ],
      "text/plain": [
       "Warning: Unable to apply no PF match for dsaMuons. Skipping.\n"
      ]
     },
     "metadata": {},
     "output_type": "display_data"
    },
    {
     "data": {
      "text/html": [
       "<pre style=\"white-space:pre;overflow-x:auto;line-height:normal;font-family:Menlo,'DejaVu Sans Mono',consolas,'Courier New',monospace\">Uh oh, haven't evaluated this cut yet! Make sure it was included in the list of cuts you used to initialize this \n",
       "JaggedSelection.   dsaMuons :  no PF match\n",
       "</pre>\n"
      ],
      "text/plain": [
       "Uh oh, haven't evaluated this cut yet! Make sure it was included in the list of cuts you used to initialize this \n",
       "JaggedSelection.   dsaMuons :  no PF match\n"
      ]
     },
     "metadata": {},
     "output_type": "display_data"
    },
    {
     "data": {
      "text/html": [
       "<pre style=\"white-space:pre;overflow-x:auto;line-height:normal;font-family:Menlo,'DejaVu Sans Mono',consolas,'Courier New',monospace\">Applying cut:  PV filter\n",
       "</pre>\n"
      ],
      "text/plain": [
       "Applying cut:  PV filter\n"
      ]
     },
     "metadata": {},
     "output_type": "display_data"
    },
    {
     "data": {
      "text/html": [
       "<pre style=\"white-space:pre;overflow-x:auto;line-height:normal;font-family:Menlo,'DejaVu Sans Mono',consolas,'Courier New',monospace\">Not applying any cuts to the lepton jets for channel baseNoLj\n",
       "</pre>\n"
      ],
      "text/plain": [
       "Not applying any cuts to the lepton jets for channel baseNoLj\n"
      ]
     },
     "metadata": {},
     "output_type": "display_data"
    },
    {
     "data": {
      "text/html": [
       "<pre style=\"white-space:pre;overflow-x:auto;line-height:normal;font-family:Menlo,'DejaVu Sans Mono',consolas,'Courier New',monospace\">Warning: Unable to apply no PF match for dsaMuons. Skipping.\n",
       "</pre>\n"
      ],
      "text/plain": [
       "Warning: Unable to apply no PF match for dsaMuons. Skipping.\n"
      ]
     },
     "metadata": {},
     "output_type": "display_data"
    },
    {
     "data": {
      "text/html": [
       "<pre style=\"white-space:pre;overflow-x:auto;line-height:normal;font-family:Menlo,'DejaVu Sans Mono',consolas,'Courier New',monospace\">Uh oh, haven't evaluated this cut yet! Make sure it was included in the list of cuts you used to initialize this \n",
       "JaggedSelection.   dsaMuons :  no PF match\n",
       "</pre>\n"
      ],
      "text/plain": [
       "Uh oh, haven't evaluated this cut yet! Make sure it was included in the list of cuts you used to initialize this \n",
       "JaggedSelection.   dsaMuons :  no PF match\n"
      ]
     },
     "metadata": {},
     "output_type": "display_data"
    },
    {
     "data": {
      "text/html": [
       "<pre style=\"white-space:pre;overflow-x:auto;line-height:normal;font-family:Menlo,'DejaVu Sans Mono',consolas,'Courier New',monospace\">Applying cut:  PV filter\n",
       "</pre>\n"
      ],
      "text/plain": [
       "Applying cut:  PV filter\n"
      ]
     },
     "metadata": {},
     "output_type": "display_data"
    },
    {
     "name": "stderr",
     "output_type": "stream",
     "text": [
      "2024-06-17 20:39:55,015 - distributed.utils_perf - WARNING - full garbage collections took 15% CPU time recently (threshold: 10%)\n"
     ]
    },
    {
     "data": {
      "text/html": [
       "<pre style=\"white-space:pre;overflow-x:auto;line-height:normal;font-family:Menlo,'DejaVu Sans Mono',consolas,'Courier New',monospace\">Not applying any cuts to the lepton jets for channel baseNoLj\n",
       "</pre>\n"
      ],
      "text/plain": [
       "Not applying any cuts to the lepton jets for channel baseNoLj\n"
      ]
     },
     "metadata": {},
     "output_type": "display_data"
    },
    {
     "data": {
      "text/html": [
       "<pre style=\"white-space:pre;overflow-x:auto;line-height:normal;font-family:Menlo,'DejaVu Sans Mono',consolas,'Courier New',monospace\">Warning: Unable to apply no PF match for dsaMuons. Skipping.\n",
       "</pre>\n"
      ],
      "text/plain": [
       "Warning: Unable to apply no PF match for dsaMuons. Skipping.\n"
      ]
     },
     "metadata": {},
     "output_type": "display_data"
    },
    {
     "data": {
      "text/html": [
       "<pre style=\"white-space:pre;overflow-x:auto;line-height:normal;font-family:Menlo,'DejaVu Sans Mono',consolas,'Courier New',monospace\">Uh oh, haven't evaluated this cut yet! Make sure it was included in the list of cuts you used to initialize this \n",
       "JaggedSelection.   dsaMuons :  no PF match\n",
       "</pre>\n"
      ],
      "text/plain": [
       "Uh oh, haven't evaluated this cut yet! Make sure it was included in the list of cuts you used to initialize this \n",
       "JaggedSelection.   dsaMuons :  no PF match\n"
      ]
     },
     "metadata": {},
     "output_type": "display_data"
    },
    {
     "data": {
      "text/html": [
       "<pre style=\"white-space:pre;overflow-x:auto;line-height:normal;font-family:Menlo,'DejaVu Sans Mono',consolas,'Courier New',monospace\">Applying cut:  PV filter\n",
       "</pre>\n"
      ],
      "text/plain": [
       "Applying cut:  PV filter\n"
      ]
     },
     "metadata": {},
     "output_type": "display_data"
    },
    {
     "data": {
      "text/html": [
       "<pre style=\"white-space:pre;overflow-x:auto;line-height:normal;font-family:Menlo,'DejaVu Sans Mono',consolas,'Courier New',monospace\">Not applying any cuts to the lepton jets for channel baseNoLj\n",
       "</pre>\n"
      ],
      "text/plain": [
       "Not applying any cuts to the lepton jets for channel baseNoLj\n"
      ]
     },
     "metadata": {},
     "output_type": "display_data"
    },
    {
     "data": {
      "text/html": [
       "<pre style=\"white-space:pre;overflow-x:auto;line-height:normal;font-family:Menlo,'DejaVu Sans Mono',consolas,'Courier New',monospace\">Warning: Unable to apply no PF match for dsaMuons. Skipping.\n",
       "</pre>\n"
      ],
      "text/plain": [
       "Warning: Unable to apply no PF match for dsaMuons. Skipping.\n"
      ]
     },
     "metadata": {},
     "output_type": "display_data"
    },
    {
     "data": {
      "text/html": [
       "<pre style=\"white-space:pre;overflow-x:auto;line-height:normal;font-family:Menlo,'DejaVu Sans Mono',consolas,'Courier New',monospace\">Uh oh, haven't evaluated this cut yet! Make sure it was included in the list of cuts you used to initialize this \n",
       "JaggedSelection.   dsaMuons :  no PF match\n",
       "</pre>\n"
      ],
      "text/plain": [
       "Uh oh, haven't evaluated this cut yet! Make sure it was included in the list of cuts you used to initialize this \n",
       "JaggedSelection.   dsaMuons :  no PF match\n"
      ]
     },
     "metadata": {},
     "output_type": "display_data"
    },
    {
     "data": {
      "text/html": [
       "<pre style=\"white-space:pre;overflow-x:auto;line-height:normal;font-family:Menlo,'DejaVu Sans Mono',consolas,'Courier New',monospace\">Applying cut:  PV filter\n",
       "</pre>\n"
      ],
      "text/plain": [
       "Applying cut:  PV filter\n"
      ]
     },
     "metadata": {},
     "output_type": "display_data"
    },
    {
     "data": {
      "text/html": [
       "<pre style=\"white-space:pre;overflow-x:auto;line-height:normal;font-family:Menlo,'DejaVu Sans Mono',consolas,'Courier New',monospace\">Not applying any cuts to the lepton jets for channel baseNoLj\n",
       "</pre>\n"
      ],
      "text/plain": [
       "Not applying any cuts to the lepton jets for channel baseNoLj\n"
      ]
     },
     "metadata": {},
     "output_type": "display_data"
    },
    {
     "data": {
      "text/html": [
       "<pre style=\"white-space:pre;overflow-x:auto;line-height:normal;font-family:Menlo,'DejaVu Sans Mono',consolas,'Courier New',monospace\">Warning: Unable to apply no PF match for dsaMuons. Skipping.\n",
       "</pre>\n"
      ],
      "text/plain": [
       "Warning: Unable to apply no PF match for dsaMuons. Skipping.\n"
      ]
     },
     "metadata": {},
     "output_type": "display_data"
    },
    {
     "data": {
      "text/html": [
       "<pre style=\"white-space:pre;overflow-x:auto;line-height:normal;font-family:Menlo,'DejaVu Sans Mono',consolas,'Courier New',monospace\">Uh oh, haven't evaluated this cut yet! Make sure it was included in the list of cuts you used to initialize this \n",
       "JaggedSelection.   dsaMuons :  no PF match\n",
       "</pre>\n"
      ],
      "text/plain": [
       "Uh oh, haven't evaluated this cut yet! Make sure it was included in the list of cuts you used to initialize this \n",
       "JaggedSelection.   dsaMuons :  no PF match\n"
      ]
     },
     "metadata": {},
     "output_type": "display_data"
    },
    {
     "data": {
      "text/html": [
       "<pre style=\"white-space:pre;overflow-x:auto;line-height:normal;font-family:Menlo,'DejaVu Sans Mono',consolas,'Courier New',monospace\">Applying cut:  PV filter\n",
       "</pre>\n"
      ],
      "text/plain": [
       "Applying cut:  PV filter\n"
      ]
     },
     "metadata": {},
     "output_type": "display_data"
    },
    {
     "name": "stderr",
     "output_type": "stream",
     "text": [
      "2024-06-17 20:39:59,767 - distributed.utils_perf - WARNING - full garbage collections took 15% CPU time recently (threshold: 10%)\n"
     ]
    },
    {
     "data": {
      "text/html": [
       "<pre style=\"white-space:pre;overflow-x:auto;line-height:normal;font-family:Menlo,'DejaVu Sans Mono',consolas,'Courier New',monospace\">Not applying any cuts to the lepton jets for channel baseNoLj\n",
       "</pre>\n"
      ],
      "text/plain": [
       "Not applying any cuts to the lepton jets for channel baseNoLj\n"
      ]
     },
     "metadata": {},
     "output_type": "display_data"
    },
    {
     "data": {
      "text/html": [
       "<pre style=\"white-space:pre;overflow-x:auto;line-height:normal;font-family:Menlo,'DejaVu Sans Mono',consolas,'Courier New',monospace\">Warning: Unable to apply no PF match for dsaMuons. Skipping.\n",
       "</pre>\n"
      ],
      "text/plain": [
       "Warning: Unable to apply no PF match for dsaMuons. Skipping.\n"
      ]
     },
     "metadata": {},
     "output_type": "display_data"
    },
    {
     "data": {
      "text/html": [
       "<pre style=\"white-space:pre;overflow-x:auto;line-height:normal;font-family:Menlo,'DejaVu Sans Mono',consolas,'Courier New',monospace\">Uh oh, haven't evaluated this cut yet! Make sure it was included in the list of cuts you used to initialize this \n",
       "JaggedSelection.   dsaMuons :  no PF match\n",
       "</pre>\n"
      ],
      "text/plain": [
       "Uh oh, haven't evaluated this cut yet! Make sure it was included in the list of cuts you used to initialize this \n",
       "JaggedSelection.   dsaMuons :  no PF match\n"
      ]
     },
     "metadata": {},
     "output_type": "display_data"
    },
    {
     "data": {
      "text/html": [
       "<pre style=\"white-space:pre;overflow-x:auto;line-height:normal;font-family:Menlo,'DejaVu Sans Mono',consolas,'Courier New',monospace\">Applying cut:  PV filter\n",
       "</pre>\n"
      ],
      "text/plain": [
       "Applying cut:  PV filter\n"
      ]
     },
     "metadata": {},
     "output_type": "display_data"
    },
    {
     "data": {
      "text/html": [
       "<pre style=\"white-space:pre;overflow-x:auto;line-height:normal;font-family:Menlo,'DejaVu Sans Mono',consolas,'Courier New',monospace\">Not applying any cuts to the lepton jets for channel baseNoLj\n",
       "</pre>\n"
      ],
      "text/plain": [
       "Not applying any cuts to the lepton jets for channel baseNoLj\n"
      ]
     },
     "metadata": {},
     "output_type": "display_data"
    },
    {
     "data": {
      "text/html": [
       "<pre style=\"white-space:pre;overflow-x:auto;line-height:normal;font-family:Menlo,'DejaVu Sans Mono',consolas,'Courier New',monospace\">Warning: Unable to apply no PF match for dsaMuons. Skipping.\n",
       "</pre>\n"
      ],
      "text/plain": [
       "Warning: Unable to apply no PF match for dsaMuons. Skipping.\n"
      ]
     },
     "metadata": {},
     "output_type": "display_data"
    },
    {
     "data": {
      "text/html": [
       "<pre style=\"white-space:pre;overflow-x:auto;line-height:normal;font-family:Menlo,'DejaVu Sans Mono',consolas,'Courier New',monospace\">Uh oh, haven't evaluated this cut yet! Make sure it was included in the list of cuts you used to initialize this \n",
       "JaggedSelection.   dsaMuons :  no PF match\n",
       "</pre>\n"
      ],
      "text/plain": [
       "Uh oh, haven't evaluated this cut yet! Make sure it was included in the list of cuts you used to initialize this \n",
       "JaggedSelection.   dsaMuons :  no PF match\n"
      ]
     },
     "metadata": {},
     "output_type": "display_data"
    },
    {
     "data": {
      "text/html": [
       "<pre style=\"white-space:pre;overflow-x:auto;line-height:normal;font-family:Menlo,'DejaVu Sans Mono',consolas,'Courier New',monospace\">Applying cut:  PV filter\n",
       "</pre>\n"
      ],
      "text/plain": [
       "Applying cut:  PV filter\n"
      ]
     },
     "metadata": {},
     "output_type": "display_data"
    },
    {
     "data": {
      "text/html": [
       "<pre style=\"white-space:pre;overflow-x:auto;line-height:normal;font-family:Menlo,'DejaVu Sans Mono',consolas,'Courier New',monospace\">Not applying any cuts to the lepton jets for channel baseNoLj\n",
       "</pre>\n"
      ],
      "text/plain": [
       "Not applying any cuts to the lepton jets for channel baseNoLj\n"
      ]
     },
     "metadata": {},
     "output_type": "display_data"
    },
    {
     "data": {
      "text/html": [
       "<pre style=\"white-space:pre;overflow-x:auto;line-height:normal;font-family:Menlo,'DejaVu Sans Mono',consolas,'Courier New',monospace\">Warning: Unable to apply no PF match for dsaMuons. Skipping.\n",
       "</pre>\n"
      ],
      "text/plain": [
       "Warning: Unable to apply no PF match for dsaMuons. Skipping.\n"
      ]
     },
     "metadata": {},
     "output_type": "display_data"
    },
    {
     "data": {
      "text/html": [
       "<pre style=\"white-space:pre;overflow-x:auto;line-height:normal;font-family:Menlo,'DejaVu Sans Mono',consolas,'Courier New',monospace\">Uh oh, haven't evaluated this cut yet! Make sure it was included in the list of cuts you used to initialize this \n",
       "JaggedSelection.   dsaMuons :  no PF match\n",
       "</pre>\n"
      ],
      "text/plain": [
       "Uh oh, haven't evaluated this cut yet! Make sure it was included in the list of cuts you used to initialize this \n",
       "JaggedSelection.   dsaMuons :  no PF match\n"
      ]
     },
     "metadata": {},
     "output_type": "display_data"
    },
    {
     "data": {
      "text/html": [
       "<pre style=\"white-space:pre;overflow-x:auto;line-height:normal;font-family:Menlo,'DejaVu Sans Mono',consolas,'Courier New',monospace\">Applying cut:  PV filter\n",
       "</pre>\n"
      ],
      "text/plain": [
       "Applying cut:  PV filter\n"
      ]
     },
     "metadata": {},
     "output_type": "display_data"
    },
    {
     "name": "stderr",
     "output_type": "stream",
     "text": [
      "2024-06-17 20:40:04,810 - distributed.utils_perf - WARNING - full garbage collections took 14% CPU time recently (threshold: 10%)\n",
      "2024-06-17 20:40:04,810 - distributed.utils_perf - INFO - full garbage collection released 15.43 MiB from 411689 reference cycles (threshold: 9.54 MiB)\n"
     ]
    },
    {
     "data": {
      "text/html": [
       "<pre style=\"white-space:pre;overflow-x:auto;line-height:normal;font-family:Menlo,'DejaVu Sans Mono',consolas,'Courier New',monospace\">Not applying any cuts to the lepton jets for channel baseNoLj\n",
       "</pre>\n"
      ],
      "text/plain": [
       "Not applying any cuts to the lepton jets for channel baseNoLj\n"
      ]
     },
     "metadata": {},
     "output_type": "display_data"
    },
    {
     "data": {
      "text/html": [
       "<pre style=\"white-space:pre;overflow-x:auto;line-height:normal;font-family:Menlo,'DejaVu Sans Mono',consolas,'Courier New',monospace\">Warning: Unable to apply no PF match for dsaMuons. Skipping.\n",
       "</pre>\n"
      ],
      "text/plain": [
       "Warning: Unable to apply no PF match for dsaMuons. Skipping.\n"
      ]
     },
     "metadata": {},
     "output_type": "display_data"
    },
    {
     "data": {
      "text/html": [
       "<pre style=\"white-space:pre;overflow-x:auto;line-height:normal;font-family:Menlo,'DejaVu Sans Mono',consolas,'Courier New',monospace\">Uh oh, haven't evaluated this cut yet! Make sure it was included in the list of cuts you used to initialize this \n",
       "JaggedSelection.   dsaMuons :  no PF match\n",
       "</pre>\n"
      ],
      "text/plain": [
       "Uh oh, haven't evaluated this cut yet! Make sure it was included in the list of cuts you used to initialize this \n",
       "JaggedSelection.   dsaMuons :  no PF match\n"
      ]
     },
     "metadata": {},
     "output_type": "display_data"
    },
    {
     "data": {
      "text/html": [
       "<pre style=\"white-space:pre;overflow-x:auto;line-height:normal;font-family:Menlo,'DejaVu Sans Mono',consolas,'Courier New',monospace\">Applying cut:  PV filter\n",
       "</pre>\n"
      ],
      "text/plain": [
       "Applying cut:  PV filter\n"
      ]
     },
     "metadata": {},
     "output_type": "display_data"
    },
    {
     "data": {
      "text/html": [
       "<pre style=\"white-space:pre;overflow-x:auto;line-height:normal;font-family:Menlo,'DejaVu Sans Mono',consolas,'Courier New',monospace\">Not applying any cuts to the lepton jets for channel baseNoLj\n",
       "</pre>\n"
      ],
      "text/plain": [
       "Not applying any cuts to the lepton jets for channel baseNoLj\n"
      ]
     },
     "metadata": {},
     "output_type": "display_data"
    },
    {
     "data": {
      "text/html": [
       "<pre style=\"white-space:pre;overflow-x:auto;line-height:normal;font-family:Menlo,'DejaVu Sans Mono',consolas,'Courier New',monospace\">Warning: Unable to apply no PF match for dsaMuons. Skipping.\n",
       "</pre>\n"
      ],
      "text/plain": [
       "Warning: Unable to apply no PF match for dsaMuons. Skipping.\n"
      ]
     },
     "metadata": {},
     "output_type": "display_data"
    },
    {
     "data": {
      "text/html": [
       "<pre style=\"white-space:pre;overflow-x:auto;line-height:normal;font-family:Menlo,'DejaVu Sans Mono',consolas,'Courier New',monospace\">Uh oh, haven't evaluated this cut yet! Make sure it was included in the list of cuts you used to initialize this \n",
       "JaggedSelection.   dsaMuons :  no PF match\n",
       "</pre>\n"
      ],
      "text/plain": [
       "Uh oh, haven't evaluated this cut yet! Make sure it was included in the list of cuts you used to initialize this \n",
       "JaggedSelection.   dsaMuons :  no PF match\n"
      ]
     },
     "metadata": {},
     "output_type": "display_data"
    },
    {
     "data": {
      "text/html": [
       "<pre style=\"white-space:pre;overflow-x:auto;line-height:normal;font-family:Menlo,'DejaVu Sans Mono',consolas,'Courier New',monospace\">Applying cut:  PV filter\n",
       "</pre>\n"
      ],
      "text/plain": [
       "Applying cut:  PV filter\n"
      ]
     },
     "metadata": {},
     "output_type": "display_data"
    },
    {
     "name": "stderr",
     "output_type": "stream",
     "text": [
      "2024-06-17 20:40:09,360 - distributed.utils_perf - WARNING - full garbage collections took 14% CPU time recently (threshold: 10%)\n"
     ]
    },
    {
     "data": {
      "text/html": [
       "<pre style=\"white-space:pre;overflow-x:auto;line-height:normal;font-family:Menlo,'DejaVu Sans Mono',consolas,'Courier New',monospace\">Not applying any cuts to the lepton jets for channel baseNoLj\n",
       "</pre>\n"
      ],
      "text/plain": [
       "Not applying any cuts to the lepton jets for channel baseNoLj\n"
      ]
     },
     "metadata": {},
     "output_type": "display_data"
    },
    {
     "data": {
      "text/html": [
       "<pre style=\"white-space:pre;overflow-x:auto;line-height:normal;font-family:Menlo,'DejaVu Sans Mono',consolas,'Courier New',monospace\">Warning: Unable to apply no PF match for dsaMuons. Skipping.\n",
       "</pre>\n"
      ],
      "text/plain": [
       "Warning: Unable to apply no PF match for dsaMuons. Skipping.\n"
      ]
     },
     "metadata": {},
     "output_type": "display_data"
    },
    {
     "data": {
      "text/html": [
       "<pre style=\"white-space:pre;overflow-x:auto;line-height:normal;font-family:Menlo,'DejaVu Sans Mono',consolas,'Courier New',monospace\">Uh oh, haven't evaluated this cut yet! Make sure it was included in the list of cuts you used to initialize this \n",
       "JaggedSelection.   dsaMuons :  no PF match\n",
       "</pre>\n"
      ],
      "text/plain": [
       "Uh oh, haven't evaluated this cut yet! Make sure it was included in the list of cuts you used to initialize this \n",
       "JaggedSelection.   dsaMuons :  no PF match\n"
      ]
     },
     "metadata": {},
     "output_type": "display_data"
    },
    {
     "data": {
      "text/html": [
       "<pre style=\"white-space:pre;overflow-x:auto;line-height:normal;font-family:Menlo,'DejaVu Sans Mono',consolas,'Courier New',monospace\">Applying cut:  PV filter\n",
       "</pre>\n"
      ],
      "text/plain": [
       "Applying cut:  PV filter\n"
      ]
     },
     "metadata": {},
     "output_type": "display_data"
    },
    {
     "data": {
      "text/html": [
       "<pre style=\"white-space:pre;overflow-x:auto;line-height:normal;font-family:Menlo,'DejaVu Sans Mono',consolas,'Courier New',monospace\">Not applying any cuts to the lepton jets for channel baseNoLj\n",
       "</pre>\n"
      ],
      "text/plain": [
       "Not applying any cuts to the lepton jets for channel baseNoLj\n"
      ]
     },
     "metadata": {},
     "output_type": "display_data"
    },
    {
     "data": {
      "text/html": [
       "<pre style=\"white-space:pre;overflow-x:auto;line-height:normal;font-family:Menlo,'DejaVu Sans Mono',consolas,'Courier New',monospace\">Warning: Unable to apply no PF match for dsaMuons. Skipping.\n",
       "</pre>\n"
      ],
      "text/plain": [
       "Warning: Unable to apply no PF match for dsaMuons. Skipping.\n"
      ]
     },
     "metadata": {},
     "output_type": "display_data"
    },
    {
     "data": {
      "text/html": [
       "<pre style=\"white-space:pre;overflow-x:auto;line-height:normal;font-family:Menlo,'DejaVu Sans Mono',consolas,'Courier New',monospace\">Uh oh, haven't evaluated this cut yet! Make sure it was included in the list of cuts you used to initialize this \n",
       "JaggedSelection.   dsaMuons :  no PF match\n",
       "</pre>\n"
      ],
      "text/plain": [
       "Uh oh, haven't evaluated this cut yet! Make sure it was included in the list of cuts you used to initialize this \n",
       "JaggedSelection.   dsaMuons :  no PF match\n"
      ]
     },
     "metadata": {},
     "output_type": "display_data"
    },
    {
     "data": {
      "text/html": [
       "<pre style=\"white-space:pre;overflow-x:auto;line-height:normal;font-family:Menlo,'DejaVu Sans Mono',consolas,'Courier New',monospace\">Applying cut:  PV filter\n",
       "</pre>\n"
      ],
      "text/plain": [
       "Applying cut:  PV filter\n"
      ]
     },
     "metadata": {},
     "output_type": "display_data"
    },
    {
     "data": {
      "text/html": [
       "<pre style=\"white-space:pre;overflow-x:auto;line-height:normal;font-family:Menlo,'DejaVu Sans Mono',consolas,'Courier New',monospace\">Not applying any cuts to the lepton jets for channel baseNoLj\n",
       "</pre>\n"
      ],
      "text/plain": [
       "Not applying any cuts to the lepton jets for channel baseNoLj\n"
      ]
     },
     "metadata": {},
     "output_type": "display_data"
    },
    {
     "data": {
      "text/html": [
       "<pre style=\"white-space:pre;overflow-x:auto;line-height:normal;font-family:Menlo,'DejaVu Sans Mono',consolas,'Courier New',monospace\">Warning: Unable to apply no PF match for dsaMuons. Skipping.\n",
       "</pre>\n"
      ],
      "text/plain": [
       "Warning: Unable to apply no PF match for dsaMuons. Skipping.\n"
      ]
     },
     "metadata": {},
     "output_type": "display_data"
    },
    {
     "data": {
      "text/html": [
       "<pre style=\"white-space:pre;overflow-x:auto;line-height:normal;font-family:Menlo,'DejaVu Sans Mono',consolas,'Courier New',monospace\">Uh oh, haven't evaluated this cut yet! Make sure it was included in the list of cuts you used to initialize this \n",
       "JaggedSelection.   dsaMuons :  no PF match\n",
       "</pre>\n"
      ],
      "text/plain": [
       "Uh oh, haven't evaluated this cut yet! Make sure it was included in the list of cuts you used to initialize this \n",
       "JaggedSelection.   dsaMuons :  no PF match\n"
      ]
     },
     "metadata": {},
     "output_type": "display_data"
    },
    {
     "data": {
      "text/html": [
       "<pre style=\"white-space:pre;overflow-x:auto;line-height:normal;font-family:Menlo,'DejaVu Sans Mono',consolas,'Courier New',monospace\">Applying cut:  PV filter\n",
       "</pre>\n"
      ],
      "text/plain": [
       "Applying cut:  PV filter\n"
      ]
     },
     "metadata": {},
     "output_type": "display_data"
    },
    {
     "name": "stderr",
     "output_type": "stream",
     "text": [
      "2024-06-17 20:40:14,305 - distributed.utils_perf - WARNING - full garbage collections took 14% CPU time recently (threshold: 10%)\n"
     ]
    },
    {
     "data": {
      "text/html": [
       "<pre style=\"white-space:pre;overflow-x:auto;line-height:normal;font-family:Menlo,'DejaVu Sans Mono',consolas,'Courier New',monospace\">Not applying any cuts to the lepton jets for channel baseNoLj\n",
       "</pre>\n"
      ],
      "text/plain": [
       "Not applying any cuts to the lepton jets for channel baseNoLj\n"
      ]
     },
     "metadata": {},
     "output_type": "display_data"
    },
    {
     "data": {
      "text/html": [
       "<pre style=\"white-space:pre;overflow-x:auto;line-height:normal;font-family:Menlo,'DejaVu Sans Mono',consolas,'Courier New',monospace\">Warning: Unable to apply no PF match for dsaMuons. Skipping.\n",
       "</pre>\n"
      ],
      "text/plain": [
       "Warning: Unable to apply no PF match for dsaMuons. Skipping.\n"
      ]
     },
     "metadata": {},
     "output_type": "display_data"
    },
    {
     "data": {
      "text/html": [
       "<pre style=\"white-space:pre;overflow-x:auto;line-height:normal;font-family:Menlo,'DejaVu Sans Mono',consolas,'Courier New',monospace\">Uh oh, haven't evaluated this cut yet! Make sure it was included in the list of cuts you used to initialize this \n",
       "JaggedSelection.   dsaMuons :  no PF match\n",
       "</pre>\n"
      ],
      "text/plain": [
       "Uh oh, haven't evaluated this cut yet! Make sure it was included in the list of cuts you used to initialize this \n",
       "JaggedSelection.   dsaMuons :  no PF match\n"
      ]
     },
     "metadata": {},
     "output_type": "display_data"
    },
    {
     "data": {
      "text/html": [
       "<pre style=\"white-space:pre;overflow-x:auto;line-height:normal;font-family:Menlo,'DejaVu Sans Mono',consolas,'Courier New',monospace\">Applying cut:  PV filter\n",
       "</pre>\n"
      ],
      "text/plain": [
       "Applying cut:  PV filter\n"
      ]
     },
     "metadata": {},
     "output_type": "display_data"
    },
    {
     "data": {
      "text/html": [
       "<pre style=\"white-space:pre;overflow-x:auto;line-height:normal;font-family:Menlo,'DejaVu Sans Mono',consolas,'Courier New',monospace\">Not applying any cuts to the lepton jets for channel baseNoLj\n",
       "</pre>\n"
      ],
      "text/plain": [
       "Not applying any cuts to the lepton jets for channel baseNoLj\n"
      ]
     },
     "metadata": {},
     "output_type": "display_data"
    },
    {
     "data": {
      "text/html": [
       "<pre style=\"white-space:pre;overflow-x:auto;line-height:normal;font-family:Menlo,'DejaVu Sans Mono',consolas,'Courier New',monospace\">Warning: Unable to apply no PF match for dsaMuons. Skipping.\n",
       "</pre>\n"
      ],
      "text/plain": [
       "Warning: Unable to apply no PF match for dsaMuons. Skipping.\n"
      ]
     },
     "metadata": {},
     "output_type": "display_data"
    },
    {
     "data": {
      "text/html": [
       "<pre style=\"white-space:pre;overflow-x:auto;line-height:normal;font-family:Menlo,'DejaVu Sans Mono',consolas,'Courier New',monospace\">Uh oh, haven't evaluated this cut yet! Make sure it was included in the list of cuts you used to initialize this \n",
       "JaggedSelection.   dsaMuons :  no PF match\n",
       "</pre>\n"
      ],
      "text/plain": [
       "Uh oh, haven't evaluated this cut yet! Make sure it was included in the list of cuts you used to initialize this \n",
       "JaggedSelection.   dsaMuons :  no PF match\n"
      ]
     },
     "metadata": {},
     "output_type": "display_data"
    },
    {
     "data": {
      "text/html": [
       "<pre style=\"white-space:pre;overflow-x:auto;line-height:normal;font-family:Menlo,'DejaVu Sans Mono',consolas,'Courier New',monospace\">Applying cut:  PV filter\n",
       "</pre>\n"
      ],
      "text/plain": [
       "Applying cut:  PV filter\n"
      ]
     },
     "metadata": {},
     "output_type": "display_data"
    },
    {
     "data": {
      "text/html": [
       "<pre style=\"white-space:pre;overflow-x:auto;line-height:normal;font-family:Menlo,'DejaVu Sans Mono',consolas,'Courier New',monospace\">Not applying any cuts to the lepton jets for channel baseNoLj\n",
       "</pre>\n"
      ],
      "text/plain": [
       "Not applying any cuts to the lepton jets for channel baseNoLj\n"
      ]
     },
     "metadata": {},
     "output_type": "display_data"
    },
    {
     "data": {
      "text/html": [
       "<pre style=\"white-space:pre;overflow-x:auto;line-height:normal;font-family:Menlo,'DejaVu Sans Mono',consolas,'Courier New',monospace\">Warning: Unable to apply no PF match for dsaMuons. Skipping.\n",
       "</pre>\n"
      ],
      "text/plain": [
       "Warning: Unable to apply no PF match for dsaMuons. Skipping.\n"
      ]
     },
     "metadata": {},
     "output_type": "display_data"
    },
    {
     "data": {
      "text/html": [
       "<pre style=\"white-space:pre;overflow-x:auto;line-height:normal;font-family:Menlo,'DejaVu Sans Mono',consolas,'Courier New',monospace\">Uh oh, haven't evaluated this cut yet! Make sure it was included in the list of cuts you used to initialize this \n",
       "JaggedSelection.   dsaMuons :  no PF match\n",
       "</pre>\n"
      ],
      "text/plain": [
       "Uh oh, haven't evaluated this cut yet! Make sure it was included in the list of cuts you used to initialize this \n",
       "JaggedSelection.   dsaMuons :  no PF match\n"
      ]
     },
     "metadata": {},
     "output_type": "display_data"
    },
    {
     "data": {
      "text/html": [
       "<pre style=\"white-space:pre;overflow-x:auto;line-height:normal;font-family:Menlo,'DejaVu Sans Mono',consolas,'Courier New',monospace\">Applying cut:  PV filter\n",
       "</pre>\n"
      ],
      "text/plain": [
       "Applying cut:  PV filter\n"
      ]
     },
     "metadata": {},
     "output_type": "display_data"
    },
    {
     "name": "stderr",
     "output_type": "stream",
     "text": [
      "2024-06-17 20:40:19,683 - distributed.utils_perf - WARNING - full garbage collections took 13% CPU time recently (threshold: 10%)\n",
      "2024-06-17 20:40:19,684 - distributed.utils_perf - INFO - full garbage collection released 13.03 MiB from 411705 reference cycles (threshold: 9.54 MiB)\n"
     ]
    },
    {
     "data": {
      "text/html": [
       "<pre style=\"white-space:pre;overflow-x:auto;line-height:normal;font-family:Menlo,'DejaVu Sans Mono',consolas,'Courier New',monospace\">Not applying any cuts to the lepton jets for channel baseNoLj\n",
       "</pre>\n"
      ],
      "text/plain": [
       "Not applying any cuts to the lepton jets for channel baseNoLj\n"
      ]
     },
     "metadata": {},
     "output_type": "display_data"
    },
    {
     "data": {
      "text/html": [
       "<pre style=\"white-space:pre;overflow-x:auto;line-height:normal;font-family:Menlo,'DejaVu Sans Mono',consolas,'Courier New',monospace\">Warning: Unable to apply no PF match for dsaMuons. Skipping.\n",
       "</pre>\n"
      ],
      "text/plain": [
       "Warning: Unable to apply no PF match for dsaMuons. Skipping.\n"
      ]
     },
     "metadata": {},
     "output_type": "display_data"
    },
    {
     "data": {
      "text/html": [
       "<pre style=\"white-space:pre;overflow-x:auto;line-height:normal;font-family:Menlo,'DejaVu Sans Mono',consolas,'Courier New',monospace\">Uh oh, haven't evaluated this cut yet! Make sure it was included in the list of cuts you used to initialize this \n",
       "JaggedSelection.   dsaMuons :  no PF match\n",
       "</pre>\n"
      ],
      "text/plain": [
       "Uh oh, haven't evaluated this cut yet! Make sure it was included in the list of cuts you used to initialize this \n",
       "JaggedSelection.   dsaMuons :  no PF match\n"
      ]
     },
     "metadata": {},
     "output_type": "display_data"
    },
    {
     "data": {
      "text/html": [
       "<pre style=\"white-space:pre;overflow-x:auto;line-height:normal;font-family:Menlo,'DejaVu Sans Mono',consolas,'Courier New',monospace\">Applying cut:  PV filter\n",
       "</pre>\n"
      ],
      "text/plain": [
       "Applying cut:  PV filter\n"
      ]
     },
     "metadata": {},
     "output_type": "display_data"
    },
    {
     "data": {
      "text/html": [
       "<pre style=\"white-space:pre;overflow-x:auto;line-height:normal;font-family:Menlo,'DejaVu Sans Mono',consolas,'Courier New',monospace\">Not applying any cuts to the lepton jets for channel baseNoLj\n",
       "</pre>\n"
      ],
      "text/plain": [
       "Not applying any cuts to the lepton jets for channel baseNoLj\n"
      ]
     },
     "metadata": {},
     "output_type": "display_data"
    },
    {
     "data": {
      "text/html": [
       "<pre style=\"white-space:pre;overflow-x:auto;line-height:normal;font-family:Menlo,'DejaVu Sans Mono',consolas,'Courier New',monospace\">Warning: Unable to apply no PF match for dsaMuons. Skipping.\n",
       "</pre>\n"
      ],
      "text/plain": [
       "Warning: Unable to apply no PF match for dsaMuons. Skipping.\n"
      ]
     },
     "metadata": {},
     "output_type": "display_data"
    },
    {
     "data": {
      "text/html": [
       "<pre style=\"white-space:pre;overflow-x:auto;line-height:normal;font-family:Menlo,'DejaVu Sans Mono',consolas,'Courier New',monospace\">Uh oh, haven't evaluated this cut yet! Make sure it was included in the list of cuts you used to initialize this \n",
       "JaggedSelection.   dsaMuons :  no PF match\n",
       "</pre>\n"
      ],
      "text/plain": [
       "Uh oh, haven't evaluated this cut yet! Make sure it was included in the list of cuts you used to initialize this \n",
       "JaggedSelection.   dsaMuons :  no PF match\n"
      ]
     },
     "metadata": {},
     "output_type": "display_data"
    },
    {
     "data": {
      "text/html": [
       "<pre style=\"white-space:pre;overflow-x:auto;line-height:normal;font-family:Menlo,'DejaVu Sans Mono',consolas,'Courier New',monospace\">Applying cut:  PV filter\n",
       "</pre>\n"
      ],
      "text/plain": [
       "Applying cut:  PV filter\n"
      ]
     },
     "metadata": {},
     "output_type": "display_data"
    },
    {
     "data": {
      "text/html": [
       "<pre style=\"white-space:pre;overflow-x:auto;line-height:normal;font-family:Menlo,'DejaVu Sans Mono',consolas,'Courier New',monospace\">Not applying any cuts to the lepton jets for channel baseNoLj\n",
       "</pre>\n"
      ],
      "text/plain": [
       "Not applying any cuts to the lepton jets for channel baseNoLj\n"
      ]
     },
     "metadata": {},
     "output_type": "display_data"
    },
    {
     "data": {
      "text/html": [
       "<pre style=\"white-space:pre;overflow-x:auto;line-height:normal;font-family:Menlo,'DejaVu Sans Mono',consolas,'Courier New',monospace\">Warning: Unable to apply no PF match for dsaMuons. Skipping.\n",
       "</pre>\n"
      ],
      "text/plain": [
       "Warning: Unable to apply no PF match for dsaMuons. Skipping.\n"
      ]
     },
     "metadata": {},
     "output_type": "display_data"
    },
    {
     "data": {
      "text/html": [
       "<pre style=\"white-space:pre;overflow-x:auto;line-height:normal;font-family:Menlo,'DejaVu Sans Mono',consolas,'Courier New',monospace\">Uh oh, haven't evaluated this cut yet! Make sure it was included in the list of cuts you used to initialize this \n",
       "JaggedSelection.   dsaMuons :  no PF match\n",
       "</pre>\n"
      ],
      "text/plain": [
       "Uh oh, haven't evaluated this cut yet! Make sure it was included in the list of cuts you used to initialize this \n",
       "JaggedSelection.   dsaMuons :  no PF match\n"
      ]
     },
     "metadata": {},
     "output_type": "display_data"
    },
    {
     "data": {
      "text/html": [
       "<pre style=\"white-space:pre;overflow-x:auto;line-height:normal;font-family:Menlo,'DejaVu Sans Mono',consolas,'Courier New',monospace\">Applying cut:  PV filter\n",
       "</pre>\n"
      ],
      "text/plain": [
       "Applying cut:  PV filter\n"
      ]
     },
     "metadata": {},
     "output_type": "display_data"
    },
    {
     "name": "stderr",
     "output_type": "stream",
     "text": [
      "2024-06-17 20:40:24,474 - distributed.utils_perf - WARNING - full garbage collections took 13% CPU time recently (threshold: 10%)\n"
     ]
    },
    {
     "data": {
      "text/html": [
       "<pre style=\"white-space:pre;overflow-x:auto;line-height:normal;font-family:Menlo,'DejaVu Sans Mono',consolas,'Courier New',monospace\">Not applying any cuts to the lepton jets for channel baseNoLj\n",
       "</pre>\n"
      ],
      "text/plain": [
       "Not applying any cuts to the lepton jets for channel baseNoLj\n"
      ]
     },
     "metadata": {},
     "output_type": "display_data"
    },
    {
     "data": {
      "text/html": [
       "<pre style=\"white-space:pre;overflow-x:auto;line-height:normal;font-family:Menlo,'DejaVu Sans Mono',consolas,'Courier New',monospace\">Warning: Unable to apply no PF match for dsaMuons. Skipping.\n",
       "</pre>\n"
      ],
      "text/plain": [
       "Warning: Unable to apply no PF match for dsaMuons. Skipping.\n"
      ]
     },
     "metadata": {},
     "output_type": "display_data"
    },
    {
     "data": {
      "text/html": [
       "<pre style=\"white-space:pre;overflow-x:auto;line-height:normal;font-family:Menlo,'DejaVu Sans Mono',consolas,'Courier New',monospace\">Uh oh, haven't evaluated this cut yet! Make sure it was included in the list of cuts you used to initialize this \n",
       "JaggedSelection.   dsaMuons :  no PF match\n",
       "</pre>\n"
      ],
      "text/plain": [
       "Uh oh, haven't evaluated this cut yet! Make sure it was included in the list of cuts you used to initialize this \n",
       "JaggedSelection.   dsaMuons :  no PF match\n"
      ]
     },
     "metadata": {},
     "output_type": "display_data"
    },
    {
     "data": {
      "text/html": [
       "<pre style=\"white-space:pre;overflow-x:auto;line-height:normal;font-family:Menlo,'DejaVu Sans Mono',consolas,'Courier New',monospace\">Applying cut:  PV filter\n",
       "</pre>\n"
      ],
      "text/plain": [
       "Applying cut:  PV filter\n"
      ]
     },
     "metadata": {},
     "output_type": "display_data"
    },
    {
     "data": {
      "text/html": [
       "<pre style=\"white-space:pre;overflow-x:auto;line-height:normal;font-family:Menlo,'DejaVu Sans Mono',consolas,'Courier New',monospace\">Not applying any cuts to the lepton jets for channel baseNoLj\n",
       "</pre>\n"
      ],
      "text/plain": [
       "Not applying any cuts to the lepton jets for channel baseNoLj\n"
      ]
     },
     "metadata": {},
     "output_type": "display_data"
    },
    {
     "data": {
      "text/html": [
       "<pre style=\"white-space:pre;overflow-x:auto;line-height:normal;font-family:Menlo,'DejaVu Sans Mono',consolas,'Courier New',monospace\">Warning: Unable to apply no PF match for dsaMuons. Skipping.\n",
       "</pre>\n"
      ],
      "text/plain": [
       "Warning: Unable to apply no PF match for dsaMuons. Skipping.\n"
      ]
     },
     "metadata": {},
     "output_type": "display_data"
    },
    {
     "data": {
      "text/html": [
       "<pre style=\"white-space:pre;overflow-x:auto;line-height:normal;font-family:Menlo,'DejaVu Sans Mono',consolas,'Courier New',monospace\">Uh oh, haven't evaluated this cut yet! Make sure it was included in the list of cuts you used to initialize this \n",
       "JaggedSelection.   dsaMuons :  no PF match\n",
       "</pre>\n"
      ],
      "text/plain": [
       "Uh oh, haven't evaluated this cut yet! Make sure it was included in the list of cuts you used to initialize this \n",
       "JaggedSelection.   dsaMuons :  no PF match\n"
      ]
     },
     "metadata": {},
     "output_type": "display_data"
    },
    {
     "data": {
      "text/html": [
       "<pre style=\"white-space:pre;overflow-x:auto;line-height:normal;font-family:Menlo,'DejaVu Sans Mono',consolas,'Courier New',monospace\">Applying cut:  PV filter\n",
       "</pre>\n"
      ],
      "text/plain": [
       "Applying cut:  PV filter\n"
      ]
     },
     "metadata": {},
     "output_type": "display_data"
    },
    {
     "name": "stderr",
     "output_type": "stream",
     "text": [
      "2024-06-17 20:40:28,455 - distributed.utils_perf - WARNING - full garbage collections took 13% CPU time recently (threshold: 10%)\n"
     ]
    },
    {
     "data": {
      "text/html": [
       "<pre style=\"white-space:pre;overflow-x:auto;line-height:normal;font-family:Menlo,'DejaVu Sans Mono',consolas,'Courier New',monospace\">Not applying any cuts to the lepton jets for channel baseNoLj\n",
       "</pre>\n"
      ],
      "text/plain": [
       "Not applying any cuts to the lepton jets for channel baseNoLj\n"
      ]
     },
     "metadata": {},
     "output_type": "display_data"
    },
    {
     "data": {
      "text/html": [
       "<pre style=\"white-space:pre;overflow-x:auto;line-height:normal;font-family:Menlo,'DejaVu Sans Mono',consolas,'Courier New',monospace\">Warning: Unable to apply no PF match for dsaMuons. Skipping.\n",
       "</pre>\n"
      ],
      "text/plain": [
       "Warning: Unable to apply no PF match for dsaMuons. Skipping.\n"
      ]
     },
     "metadata": {},
     "output_type": "display_data"
    },
    {
     "data": {
      "text/html": [
       "<pre style=\"white-space:pre;overflow-x:auto;line-height:normal;font-family:Menlo,'DejaVu Sans Mono',consolas,'Courier New',monospace\">Uh oh, haven't evaluated this cut yet! Make sure it was included in the list of cuts you used to initialize this \n",
       "JaggedSelection.   dsaMuons :  no PF match\n",
       "</pre>\n"
      ],
      "text/plain": [
       "Uh oh, haven't evaluated this cut yet! Make sure it was included in the list of cuts you used to initialize this \n",
       "JaggedSelection.   dsaMuons :  no PF match\n"
      ]
     },
     "metadata": {},
     "output_type": "display_data"
    },
    {
     "data": {
      "text/html": [
       "<pre style=\"white-space:pre;overflow-x:auto;line-height:normal;font-family:Menlo,'DejaVu Sans Mono',consolas,'Courier New',monospace\">Applying cut:  PV filter\n",
       "</pre>\n"
      ],
      "text/plain": [
       "Applying cut:  PV filter\n"
      ]
     },
     "metadata": {},
     "output_type": "display_data"
    },
    {
     "data": {
      "text/html": [
       "<pre style=\"white-space:pre;overflow-x:auto;line-height:normal;font-family:Menlo,'DejaVu Sans Mono',consolas,'Courier New',monospace\">Not applying any cuts to the lepton jets for channel baseNoLj\n",
       "</pre>\n"
      ],
      "text/plain": [
       "Not applying any cuts to the lepton jets for channel baseNoLj\n"
      ]
     },
     "metadata": {},
     "output_type": "display_data"
    },
    {
     "data": {
      "text/html": [
       "<pre style=\"white-space:pre;overflow-x:auto;line-height:normal;font-family:Menlo,'DejaVu Sans Mono',consolas,'Courier New',monospace\">Warning: Unable to apply no PF match for dsaMuons. Skipping.\n",
       "</pre>\n"
      ],
      "text/plain": [
       "Warning: Unable to apply no PF match for dsaMuons. Skipping.\n"
      ]
     },
     "metadata": {},
     "output_type": "display_data"
    },
    {
     "data": {
      "text/html": [
       "<pre style=\"white-space:pre;overflow-x:auto;line-height:normal;font-family:Menlo,'DejaVu Sans Mono',consolas,'Courier New',monospace\">Uh oh, haven't evaluated this cut yet! Make sure it was included in the list of cuts you used to initialize this \n",
       "JaggedSelection.   dsaMuons :  no PF match\n",
       "</pre>\n"
      ],
      "text/plain": [
       "Uh oh, haven't evaluated this cut yet! Make sure it was included in the list of cuts you used to initialize this \n",
       "JaggedSelection.   dsaMuons :  no PF match\n"
      ]
     },
     "metadata": {},
     "output_type": "display_data"
    },
    {
     "data": {
      "text/html": [
       "<pre style=\"white-space:pre;overflow-x:auto;line-height:normal;font-family:Menlo,'DejaVu Sans Mono',consolas,'Courier New',monospace\">Applying cut:  PV filter\n",
       "</pre>\n"
      ],
      "text/plain": [
       "Applying cut:  PV filter\n"
      ]
     },
     "metadata": {},
     "output_type": "display_data"
    },
    {
     "data": {
      "text/html": [
       "<pre style=\"white-space:pre;overflow-x:auto;line-height:normal;font-family:Menlo,'DejaVu Sans Mono',consolas,'Courier New',monospace\">Not applying any cuts to the lepton jets for channel baseNoLj\n",
       "</pre>\n"
      ],
      "text/plain": [
       "Not applying any cuts to the lepton jets for channel baseNoLj\n"
      ]
     },
     "metadata": {},
     "output_type": "display_data"
    },
    {
     "data": {
      "text/html": [
       "<pre style=\"white-space:pre;overflow-x:auto;line-height:normal;font-family:Menlo,'DejaVu Sans Mono',consolas,'Courier New',monospace\">Warning: Unable to apply no PF match for dsaMuons. Skipping.\n",
       "</pre>\n"
      ],
      "text/plain": [
       "Warning: Unable to apply no PF match for dsaMuons. Skipping.\n"
      ]
     },
     "metadata": {},
     "output_type": "display_data"
    },
    {
     "data": {
      "text/html": [
       "<pre style=\"white-space:pre;overflow-x:auto;line-height:normal;font-family:Menlo,'DejaVu Sans Mono',consolas,'Courier New',monospace\">Uh oh, haven't evaluated this cut yet! Make sure it was included in the list of cuts you used to initialize this \n",
       "JaggedSelection.   dsaMuons :  no PF match\n",
       "</pre>\n"
      ],
      "text/plain": [
       "Uh oh, haven't evaluated this cut yet! Make sure it was included in the list of cuts you used to initialize this \n",
       "JaggedSelection.   dsaMuons :  no PF match\n"
      ]
     },
     "metadata": {},
     "output_type": "display_data"
    },
    {
     "data": {
      "text/html": [
       "<pre style=\"white-space:pre;overflow-x:auto;line-height:normal;font-family:Menlo,'DejaVu Sans Mono',consolas,'Courier New',monospace\">Applying cut:  PV filter\n",
       "</pre>\n"
      ],
      "text/plain": [
       "Applying cut:  PV filter\n"
      ]
     },
     "metadata": {},
     "output_type": "display_data"
    },
    {
     "name": "stderr",
     "output_type": "stream",
     "text": [
      "2024-06-17 20:40:33,189 - distributed.utils_perf - WARNING - full garbage collections took 13% CPU time recently (threshold: 10%)\n",
      "2024-06-17 20:40:33,189 - distributed.utils_perf - INFO - full garbage collection released 10.68 MiB from 411727 reference cycles (threshold: 9.54 MiB)\n"
     ]
    },
    {
     "data": {
      "text/html": [
       "<pre style=\"white-space:pre;overflow-x:auto;line-height:normal;font-family:Menlo,'DejaVu Sans Mono',consolas,'Courier New',monospace\">Not applying any cuts to the lepton jets for channel baseNoLj\n",
       "</pre>\n"
      ],
      "text/plain": [
       "Not applying any cuts to the lepton jets for channel baseNoLj\n"
      ]
     },
     "metadata": {},
     "output_type": "display_data"
    },
    {
     "data": {
      "text/html": [
       "<pre style=\"white-space:pre;overflow-x:auto;line-height:normal;font-family:Menlo,'DejaVu Sans Mono',consolas,'Courier New',monospace\">Warning: Unable to apply no PF match for dsaMuons. Skipping.\n",
       "</pre>\n"
      ],
      "text/plain": [
       "Warning: Unable to apply no PF match for dsaMuons. Skipping.\n"
      ]
     },
     "metadata": {},
     "output_type": "display_data"
    },
    {
     "data": {
      "text/html": [
       "<pre style=\"white-space:pre;overflow-x:auto;line-height:normal;font-family:Menlo,'DejaVu Sans Mono',consolas,'Courier New',monospace\">Uh oh, haven't evaluated this cut yet! Make sure it was included in the list of cuts you used to initialize this \n",
       "JaggedSelection.   dsaMuons :  no PF match\n",
       "</pre>\n"
      ],
      "text/plain": [
       "Uh oh, haven't evaluated this cut yet! Make sure it was included in the list of cuts you used to initialize this \n",
       "JaggedSelection.   dsaMuons :  no PF match\n"
      ]
     },
     "metadata": {},
     "output_type": "display_data"
    },
    {
     "data": {
      "text/html": [
       "<pre style=\"white-space:pre;overflow-x:auto;line-height:normal;font-family:Menlo,'DejaVu Sans Mono',consolas,'Courier New',monospace\">Applying cut:  PV filter\n",
       "</pre>\n"
      ],
      "text/plain": [
       "Applying cut:  PV filter\n"
      ]
     },
     "metadata": {},
     "output_type": "display_data"
    },
    {
     "data": {
      "text/html": [
       "<pre style=\"white-space:pre;overflow-x:auto;line-height:normal;font-family:Menlo,'DejaVu Sans Mono',consolas,'Courier New',monospace\">Not applying any cuts to the lepton jets for channel baseNoLj\n",
       "</pre>\n"
      ],
      "text/plain": [
       "Not applying any cuts to the lepton jets for channel baseNoLj\n"
      ]
     },
     "metadata": {},
     "output_type": "display_data"
    },
    {
     "data": {
      "text/html": [
       "<pre style=\"white-space:pre;overflow-x:auto;line-height:normal;font-family:Menlo,'DejaVu Sans Mono',consolas,'Courier New',monospace\">Warning: Unable to apply no PF match for dsaMuons. Skipping.\n",
       "</pre>\n"
      ],
      "text/plain": [
       "Warning: Unable to apply no PF match for dsaMuons. Skipping.\n"
      ]
     },
     "metadata": {},
     "output_type": "display_data"
    },
    {
     "data": {
      "text/html": [
       "<pre style=\"white-space:pre;overflow-x:auto;line-height:normal;font-family:Menlo,'DejaVu Sans Mono',consolas,'Courier New',monospace\">Uh oh, haven't evaluated this cut yet! Make sure it was included in the list of cuts you used to initialize this \n",
       "JaggedSelection.   dsaMuons :  no PF match\n",
       "</pre>\n"
      ],
      "text/plain": [
       "Uh oh, haven't evaluated this cut yet! Make sure it was included in the list of cuts you used to initialize this \n",
       "JaggedSelection.   dsaMuons :  no PF match\n"
      ]
     },
     "metadata": {},
     "output_type": "display_data"
    },
    {
     "data": {
      "text/html": [
       "<pre style=\"white-space:pre;overflow-x:auto;line-height:normal;font-family:Menlo,'DejaVu Sans Mono',consolas,'Courier New',monospace\">Applying cut:  PV filter\n",
       "</pre>\n"
      ],
      "text/plain": [
       "Applying cut:  PV filter\n"
      ]
     },
     "metadata": {},
     "output_type": "display_data"
    },
    {
     "data": {
      "text/html": [
       "<pre style=\"white-space:pre;overflow-x:auto;line-height:normal;font-family:Menlo,'DejaVu Sans Mono',consolas,'Courier New',monospace\">Not applying any cuts to the lepton jets for channel baseNoLj\n",
       "</pre>\n"
      ],
      "text/plain": [
       "Not applying any cuts to the lepton jets for channel baseNoLj\n"
      ]
     },
     "metadata": {},
     "output_type": "display_data"
    },
    {
     "data": {
      "text/html": [
       "<pre style=\"white-space:pre;overflow-x:auto;line-height:normal;font-family:Menlo,'DejaVu Sans Mono',consolas,'Courier New',monospace\">Warning: Unable to apply no PF match for dsaMuons. Skipping.\n",
       "</pre>\n"
      ],
      "text/plain": [
       "Warning: Unable to apply no PF match for dsaMuons. Skipping.\n"
      ]
     },
     "metadata": {},
     "output_type": "display_data"
    },
    {
     "data": {
      "text/html": [
       "<pre style=\"white-space:pre;overflow-x:auto;line-height:normal;font-family:Menlo,'DejaVu Sans Mono',consolas,'Courier New',monospace\">Uh oh, haven't evaluated this cut yet! Make sure it was included in the list of cuts you used to initialize this \n",
       "JaggedSelection.   dsaMuons :  no PF match\n",
       "</pre>\n"
      ],
      "text/plain": [
       "Uh oh, haven't evaluated this cut yet! Make sure it was included in the list of cuts you used to initialize this \n",
       "JaggedSelection.   dsaMuons :  no PF match\n"
      ]
     },
     "metadata": {},
     "output_type": "display_data"
    },
    {
     "data": {
      "text/html": [
       "<pre style=\"white-space:pre;overflow-x:auto;line-height:normal;font-family:Menlo,'DejaVu Sans Mono',consolas,'Courier New',monospace\">Applying cut:  PV filter\n",
       "</pre>\n"
      ],
      "text/plain": [
       "Applying cut:  PV filter\n"
      ]
     },
     "metadata": {},
     "output_type": "display_data"
    },
    {
     "name": "stderr",
     "output_type": "stream",
     "text": [
      "2024-06-17 20:40:37,864 - distributed.utils_perf - WARNING - full garbage collections took 12% CPU time recently (threshold: 10%)\n"
     ]
    },
    {
     "data": {
      "text/html": [
       "<pre style=\"white-space:pre;overflow-x:auto;line-height:normal;font-family:Menlo,'DejaVu Sans Mono',consolas,'Courier New',monospace\">Not applying any cuts to the lepton jets for channel baseNoLj\n",
       "</pre>\n"
      ],
      "text/plain": [
       "Not applying any cuts to the lepton jets for channel baseNoLj\n"
      ]
     },
     "metadata": {},
     "output_type": "display_data"
    },
    {
     "data": {
      "text/html": [
       "<pre style=\"white-space:pre;overflow-x:auto;line-height:normal;font-family:Menlo,'DejaVu Sans Mono',consolas,'Courier New',monospace\">Warning: Unable to apply no PF match for dsaMuons. Skipping.\n",
       "</pre>\n"
      ],
      "text/plain": [
       "Warning: Unable to apply no PF match for dsaMuons. Skipping.\n"
      ]
     },
     "metadata": {},
     "output_type": "display_data"
    },
    {
     "data": {
      "text/html": [
       "<pre style=\"white-space:pre;overflow-x:auto;line-height:normal;font-family:Menlo,'DejaVu Sans Mono',consolas,'Courier New',monospace\">Uh oh, haven't evaluated this cut yet! Make sure it was included in the list of cuts you used to initialize this \n",
       "JaggedSelection.   dsaMuons :  no PF match\n",
       "</pre>\n"
      ],
      "text/plain": [
       "Uh oh, haven't evaluated this cut yet! Make sure it was included in the list of cuts you used to initialize this \n",
       "JaggedSelection.   dsaMuons :  no PF match\n"
      ]
     },
     "metadata": {},
     "output_type": "display_data"
    },
    {
     "data": {
      "text/html": [
       "<pre style=\"white-space:pre;overflow-x:auto;line-height:normal;font-family:Menlo,'DejaVu Sans Mono',consolas,'Courier New',monospace\">Applying cut:  PV filter\n",
       "</pre>\n"
      ],
      "text/plain": [
       "Applying cut:  PV filter\n"
      ]
     },
     "metadata": {},
     "output_type": "display_data"
    },
    {
     "data": {
      "text/html": [
       "<pre style=\"white-space:pre;overflow-x:auto;line-height:normal;font-family:Menlo,'DejaVu Sans Mono',consolas,'Courier New',monospace\">Not applying any cuts to the lepton jets for channel baseNoLj\n",
       "</pre>\n"
      ],
      "text/plain": [
       "Not applying any cuts to the lepton jets for channel baseNoLj\n"
      ]
     },
     "metadata": {},
     "output_type": "display_data"
    },
    {
     "data": {
      "text/html": [
       "<pre style=\"white-space:pre;overflow-x:auto;line-height:normal;font-family:Menlo,'DejaVu Sans Mono',consolas,'Courier New',monospace\">Warning: Unable to apply no PF match for dsaMuons. Skipping.\n",
       "</pre>\n"
      ],
      "text/plain": [
       "Warning: Unable to apply no PF match for dsaMuons. Skipping.\n"
      ]
     },
     "metadata": {},
     "output_type": "display_data"
    },
    {
     "data": {
      "text/html": [
       "<pre style=\"white-space:pre;overflow-x:auto;line-height:normal;font-family:Menlo,'DejaVu Sans Mono',consolas,'Courier New',monospace\">Uh oh, haven't evaluated this cut yet! Make sure it was included in the list of cuts you used to initialize this \n",
       "JaggedSelection.   dsaMuons :  no PF match\n",
       "</pre>\n"
      ],
      "text/plain": [
       "Uh oh, haven't evaluated this cut yet! Make sure it was included in the list of cuts you used to initialize this \n",
       "JaggedSelection.   dsaMuons :  no PF match\n"
      ]
     },
     "metadata": {},
     "output_type": "display_data"
    },
    {
     "data": {
      "text/html": [
       "<pre style=\"white-space:pre;overflow-x:auto;line-height:normal;font-family:Menlo,'DejaVu Sans Mono',consolas,'Courier New',monospace\">Applying cut:  PV filter\n",
       "</pre>\n"
      ],
      "text/plain": [
       "Applying cut:  PV filter\n"
      ]
     },
     "metadata": {},
     "output_type": "display_data"
    },
    {
     "name": "stderr",
     "output_type": "stream",
     "text": [
      "2024-06-17 20:40:41,637 - distributed.utils_perf - WARNING - full garbage collections took 12% CPU time recently (threshold: 10%)\n"
     ]
    },
    {
     "data": {
      "text/html": [
       "<pre style=\"white-space:pre;overflow-x:auto;line-height:normal;font-family:Menlo,'DejaVu Sans Mono',consolas,'Courier New',monospace\">Not applying any cuts to the lepton jets for channel baseNoLj\n",
       "</pre>\n"
      ],
      "text/plain": [
       "Not applying any cuts to the lepton jets for channel baseNoLj\n"
      ]
     },
     "metadata": {},
     "output_type": "display_data"
    },
    {
     "data": {
      "text/html": [
       "<pre style=\"white-space:pre;overflow-x:auto;line-height:normal;font-family:Menlo,'DejaVu Sans Mono',consolas,'Courier New',monospace\">Warning: Unable to apply no PF match for dsaMuons. Skipping.\n",
       "</pre>\n"
      ],
      "text/plain": [
       "Warning: Unable to apply no PF match for dsaMuons. Skipping.\n"
      ]
     },
     "metadata": {},
     "output_type": "display_data"
    },
    {
     "data": {
      "text/html": [
       "<pre style=\"white-space:pre;overflow-x:auto;line-height:normal;font-family:Menlo,'DejaVu Sans Mono',consolas,'Courier New',monospace\">Uh oh, haven't evaluated this cut yet! Make sure it was included in the list of cuts you used to initialize this \n",
       "JaggedSelection.   dsaMuons :  no PF match\n",
       "</pre>\n"
      ],
      "text/plain": [
       "Uh oh, haven't evaluated this cut yet! Make sure it was included in the list of cuts you used to initialize this \n",
       "JaggedSelection.   dsaMuons :  no PF match\n"
      ]
     },
     "metadata": {},
     "output_type": "display_data"
    },
    {
     "data": {
      "text/html": [
       "<pre style=\"white-space:pre;overflow-x:auto;line-height:normal;font-family:Menlo,'DejaVu Sans Mono',consolas,'Courier New',monospace\">Applying cut:  PV filter\n",
       "</pre>\n"
      ],
      "text/plain": [
       "Applying cut:  PV filter\n"
      ]
     },
     "metadata": {},
     "output_type": "display_data"
    },
    {
     "data": {
      "text/html": [
       "<pre style=\"white-space:pre;overflow-x:auto;line-height:normal;font-family:Menlo,'DejaVu Sans Mono',consolas,'Courier New',monospace\">Not applying any cuts to the lepton jets for channel baseNoLj\n",
       "</pre>\n"
      ],
      "text/plain": [
       "Not applying any cuts to the lepton jets for channel baseNoLj\n"
      ]
     },
     "metadata": {},
     "output_type": "display_data"
    },
    {
     "data": {
      "text/html": [
       "<pre style=\"white-space:pre;overflow-x:auto;line-height:normal;font-family:Menlo,'DejaVu Sans Mono',consolas,'Courier New',monospace\">Warning: Unable to apply no PF match for dsaMuons. Skipping.\n",
       "</pre>\n"
      ],
      "text/plain": [
       "Warning: Unable to apply no PF match for dsaMuons. Skipping.\n"
      ]
     },
     "metadata": {},
     "output_type": "display_data"
    },
    {
     "data": {
      "text/html": [
       "<pre style=\"white-space:pre;overflow-x:auto;line-height:normal;font-family:Menlo,'DejaVu Sans Mono',consolas,'Courier New',monospace\">Uh oh, haven't evaluated this cut yet! Make sure it was included in the list of cuts you used to initialize this \n",
       "JaggedSelection.   dsaMuons :  no PF match\n",
       "</pre>\n"
      ],
      "text/plain": [
       "Uh oh, haven't evaluated this cut yet! Make sure it was included in the list of cuts you used to initialize this \n",
       "JaggedSelection.   dsaMuons :  no PF match\n"
      ]
     },
     "metadata": {},
     "output_type": "display_data"
    },
    {
     "data": {
      "text/html": [
       "<pre style=\"white-space:pre;overflow-x:auto;line-height:normal;font-family:Menlo,'DejaVu Sans Mono',consolas,'Courier New',monospace\">Applying cut:  PV filter\n",
       "</pre>\n"
      ],
      "text/plain": [
       "Applying cut:  PV filter\n"
      ]
     },
     "metadata": {},
     "output_type": "display_data"
    },
    {
     "data": {
      "text/html": [
       "<pre style=\"white-space:pre;overflow-x:auto;line-height:normal;font-family:Menlo,'DejaVu Sans Mono',consolas,'Courier New',monospace\">Not applying any cuts to the lepton jets for channel baseNoLj\n",
       "</pre>\n"
      ],
      "text/plain": [
       "Not applying any cuts to the lepton jets for channel baseNoLj\n"
      ]
     },
     "metadata": {},
     "output_type": "display_data"
    },
    {
     "data": {
      "text/html": [
       "<pre style=\"white-space:pre;overflow-x:auto;line-height:normal;font-family:Menlo,'DejaVu Sans Mono',consolas,'Courier New',monospace\">Warning: Unable to apply no PF match for dsaMuons. Skipping.\n",
       "</pre>\n"
      ],
      "text/plain": [
       "Warning: Unable to apply no PF match for dsaMuons. Skipping.\n"
      ]
     },
     "metadata": {},
     "output_type": "display_data"
    },
    {
     "data": {
      "text/html": [
       "<pre style=\"white-space:pre;overflow-x:auto;line-height:normal;font-family:Menlo,'DejaVu Sans Mono',consolas,'Courier New',monospace\">Uh oh, haven't evaluated this cut yet! Make sure it was included in the list of cuts you used to initialize this \n",
       "JaggedSelection.   dsaMuons :  no PF match\n",
       "</pre>\n"
      ],
      "text/plain": [
       "Uh oh, haven't evaluated this cut yet! Make sure it was included in the list of cuts you used to initialize this \n",
       "JaggedSelection.   dsaMuons :  no PF match\n"
      ]
     },
     "metadata": {},
     "output_type": "display_data"
    },
    {
     "data": {
      "text/html": [
       "<pre style=\"white-space:pre;overflow-x:auto;line-height:normal;font-family:Menlo,'DejaVu Sans Mono',consolas,'Courier New',monospace\">Applying cut:  PV filter\n",
       "</pre>\n"
      ],
      "text/plain": [
       "Applying cut:  PV filter\n"
      ]
     },
     "metadata": {},
     "output_type": "display_data"
    },
    {
     "name": "stderr",
     "output_type": "stream",
     "text": [
      "2024-06-17 20:40:46,374 - distributed.utils_perf - WARNING - full garbage collections took 12% CPU time recently (threshold: 10%)\n"
     ]
    },
    {
     "data": {
      "text/html": [
       "<pre style=\"white-space:pre;overflow-x:auto;line-height:normal;font-family:Menlo,'DejaVu Sans Mono',consolas,'Courier New',monospace\">Not applying any cuts to the lepton jets for channel baseNoLj\n",
       "</pre>\n"
      ],
      "text/plain": [
       "Not applying any cuts to the lepton jets for channel baseNoLj\n"
      ]
     },
     "metadata": {},
     "output_type": "display_data"
    },
    {
     "data": {
      "text/html": [
       "<pre style=\"white-space:pre;overflow-x:auto;line-height:normal;font-family:Menlo,'DejaVu Sans Mono',consolas,'Courier New',monospace\">Warning: Unable to apply no PF match for dsaMuons. Skipping.\n",
       "</pre>\n"
      ],
      "text/plain": [
       "Warning: Unable to apply no PF match for dsaMuons. Skipping.\n"
      ]
     },
     "metadata": {},
     "output_type": "display_data"
    },
    {
     "data": {
      "text/html": [
       "<pre style=\"white-space:pre;overflow-x:auto;line-height:normal;font-family:Menlo,'DejaVu Sans Mono',consolas,'Courier New',monospace\">Uh oh, haven't evaluated this cut yet! Make sure it was included in the list of cuts you used to initialize this \n",
       "JaggedSelection.   dsaMuons :  no PF match\n",
       "</pre>\n"
      ],
      "text/plain": [
       "Uh oh, haven't evaluated this cut yet! Make sure it was included in the list of cuts you used to initialize this \n",
       "JaggedSelection.   dsaMuons :  no PF match\n"
      ]
     },
     "metadata": {},
     "output_type": "display_data"
    },
    {
     "data": {
      "text/html": [
       "<pre style=\"white-space:pre;overflow-x:auto;line-height:normal;font-family:Menlo,'DejaVu Sans Mono',consolas,'Courier New',monospace\">Applying cut:  PV filter\n",
       "</pre>\n"
      ],
      "text/plain": [
       "Applying cut:  PV filter\n"
      ]
     },
     "metadata": {},
     "output_type": "display_data"
    },
    {
     "data": {
      "text/html": [
       "<pre style=\"white-space:pre;overflow-x:auto;line-height:normal;font-family:Menlo,'DejaVu Sans Mono',consolas,'Courier New',monospace\">Not applying any cuts to the lepton jets for channel baseNoLj\n",
       "</pre>\n"
      ],
      "text/plain": [
       "Not applying any cuts to the lepton jets for channel baseNoLj\n"
      ]
     },
     "metadata": {},
     "output_type": "display_data"
    },
    {
     "data": {
      "text/html": [
       "<pre style=\"white-space:pre;overflow-x:auto;line-height:normal;font-family:Menlo,'DejaVu Sans Mono',consolas,'Courier New',monospace\">Warning: Unable to apply no PF match for dsaMuons. Skipping.\n",
       "</pre>\n"
      ],
      "text/plain": [
       "Warning: Unable to apply no PF match for dsaMuons. Skipping.\n"
      ]
     },
     "metadata": {},
     "output_type": "display_data"
    },
    {
     "data": {
      "text/html": [
       "<pre style=\"white-space:pre;overflow-x:auto;line-height:normal;font-family:Menlo,'DejaVu Sans Mono',consolas,'Courier New',monospace\">Uh oh, haven't evaluated this cut yet! Make sure it was included in the list of cuts you used to initialize this \n",
       "JaggedSelection.   dsaMuons :  no PF match\n",
       "</pre>\n"
      ],
      "text/plain": [
       "Uh oh, haven't evaluated this cut yet! Make sure it was included in the list of cuts you used to initialize this \n",
       "JaggedSelection.   dsaMuons :  no PF match\n"
      ]
     },
     "metadata": {},
     "output_type": "display_data"
    },
    {
     "data": {
      "text/html": [
       "<pre style=\"white-space:pre;overflow-x:auto;line-height:normal;font-family:Menlo,'DejaVu Sans Mono',consolas,'Courier New',monospace\">Applying cut:  PV filter\n",
       "</pre>\n"
      ],
      "text/plain": [
       "Applying cut:  PV filter\n"
      ]
     },
     "metadata": {},
     "output_type": "display_data"
    },
    {
     "name": "stderr",
     "output_type": "stream",
     "text": [
      "2024-06-17 20:40:50,424 - distributed.utils_perf - WARNING - full garbage collections took 12% CPU time recently (threshold: 10%)\n"
     ]
    },
    {
     "data": {
      "text/html": [
       "<pre style=\"white-space:pre;overflow-x:auto;line-height:normal;font-family:Menlo,'DejaVu Sans Mono',consolas,'Courier New',monospace\">Not applying any cuts to the lepton jets for channel baseNoLj\n",
       "</pre>\n"
      ],
      "text/plain": [
       "Not applying any cuts to the lepton jets for channel baseNoLj\n"
      ]
     },
     "metadata": {},
     "output_type": "display_data"
    },
    {
     "data": {
      "text/html": [
       "<pre style=\"white-space:pre;overflow-x:auto;line-height:normal;font-family:Menlo,'DejaVu Sans Mono',consolas,'Courier New',monospace\">Warning: Unable to apply no PF match for dsaMuons. Skipping.\n",
       "</pre>\n"
      ],
      "text/plain": [
       "Warning: Unable to apply no PF match for dsaMuons. Skipping.\n"
      ]
     },
     "metadata": {},
     "output_type": "display_data"
    },
    {
     "data": {
      "text/html": [
       "<pre style=\"white-space:pre;overflow-x:auto;line-height:normal;font-family:Menlo,'DejaVu Sans Mono',consolas,'Courier New',monospace\">Uh oh, haven't evaluated this cut yet! Make sure it was included in the list of cuts you used to initialize this \n",
       "JaggedSelection.   dsaMuons :  no PF match\n",
       "</pre>\n"
      ],
      "text/plain": [
       "Uh oh, haven't evaluated this cut yet! Make sure it was included in the list of cuts you used to initialize this \n",
       "JaggedSelection.   dsaMuons :  no PF match\n"
      ]
     },
     "metadata": {},
     "output_type": "display_data"
    },
    {
     "data": {
      "text/html": [
       "<pre style=\"white-space:pre;overflow-x:auto;line-height:normal;font-family:Menlo,'DejaVu Sans Mono',consolas,'Courier New',monospace\">Applying cut:  PV filter\n",
       "</pre>\n"
      ],
      "text/plain": [
       "Applying cut:  PV filter\n"
      ]
     },
     "metadata": {},
     "output_type": "display_data"
    },
    {
     "data": {
      "text/html": [
       "<pre style=\"white-space:pre;overflow-x:auto;line-height:normal;font-family:Menlo,'DejaVu Sans Mono',consolas,'Courier New',monospace\">Not applying any cuts to the lepton jets for channel baseNoLj\n",
       "</pre>\n"
      ],
      "text/plain": [
       "Not applying any cuts to the lepton jets for channel baseNoLj\n"
      ]
     },
     "metadata": {},
     "output_type": "display_data"
    },
    {
     "data": {
      "text/html": [
       "<pre style=\"white-space:pre;overflow-x:auto;line-height:normal;font-family:Menlo,'DejaVu Sans Mono',consolas,'Courier New',monospace\">Warning: Unable to apply no PF match for dsaMuons. Skipping.\n",
       "</pre>\n"
      ],
      "text/plain": [
       "Warning: Unable to apply no PF match for dsaMuons. Skipping.\n"
      ]
     },
     "metadata": {},
     "output_type": "display_data"
    },
    {
     "data": {
      "text/html": [
       "<pre style=\"white-space:pre;overflow-x:auto;line-height:normal;font-family:Menlo,'DejaVu Sans Mono',consolas,'Courier New',monospace\">Uh oh, haven't evaluated this cut yet! Make sure it was included in the list of cuts you used to initialize this \n",
       "JaggedSelection.   dsaMuons :  no PF match\n",
       "</pre>\n"
      ],
      "text/plain": [
       "Uh oh, haven't evaluated this cut yet! Make sure it was included in the list of cuts you used to initialize this \n",
       "JaggedSelection.   dsaMuons :  no PF match\n"
      ]
     },
     "metadata": {},
     "output_type": "display_data"
    },
    {
     "data": {
      "text/html": [
       "<pre style=\"white-space:pre;overflow-x:auto;line-height:normal;font-family:Menlo,'DejaVu Sans Mono',consolas,'Courier New',monospace\">Applying cut:  PV filter\n",
       "</pre>\n"
      ],
      "text/plain": [
       "Applying cut:  PV filter\n"
      ]
     },
     "metadata": {},
     "output_type": "display_data"
    },
    {
     "data": {
      "text/html": [
       "<pre style=\"white-space:pre;overflow-x:auto;line-height:normal;font-family:Menlo,'DejaVu Sans Mono',consolas,'Courier New',monospace\">Not applying any cuts to the lepton jets for channel baseNoLj\n",
       "</pre>\n"
      ],
      "text/plain": [
       "Not applying any cuts to the lepton jets for channel baseNoLj\n"
      ]
     },
     "metadata": {},
     "output_type": "display_data"
    },
    {
     "data": {
      "text/html": [
       "<pre style=\"white-space:pre;overflow-x:auto;line-height:normal;font-family:Menlo,'DejaVu Sans Mono',consolas,'Courier New',monospace\">Warning: Unable to apply no PF match for dsaMuons. Skipping.\n",
       "</pre>\n"
      ],
      "text/plain": [
       "Warning: Unable to apply no PF match for dsaMuons. Skipping.\n"
      ]
     },
     "metadata": {},
     "output_type": "display_data"
    },
    {
     "data": {
      "text/html": [
       "<pre style=\"white-space:pre;overflow-x:auto;line-height:normal;font-family:Menlo,'DejaVu Sans Mono',consolas,'Courier New',monospace\">Uh oh, haven't evaluated this cut yet! Make sure it was included in the list of cuts you used to initialize this \n",
       "JaggedSelection.   dsaMuons :  no PF match\n",
       "</pre>\n"
      ],
      "text/plain": [
       "Uh oh, haven't evaluated this cut yet! Make sure it was included in the list of cuts you used to initialize this \n",
       "JaggedSelection.   dsaMuons :  no PF match\n"
      ]
     },
     "metadata": {},
     "output_type": "display_data"
    },
    {
     "data": {
      "text/html": [
       "<pre style=\"white-space:pre;overflow-x:auto;line-height:normal;font-family:Menlo,'DejaVu Sans Mono',consolas,'Courier New',monospace\">Applying cut:  PV filter\n",
       "</pre>\n"
      ],
      "text/plain": [
       "Applying cut:  PV filter\n"
      ]
     },
     "metadata": {},
     "output_type": "display_data"
    },
    {
     "name": "stderr",
     "output_type": "stream",
     "text": [
      "2024-06-17 20:40:55,055 - distributed.utils_perf - WARNING - full garbage collections took 12% CPU time recently (threshold: 10%)\n"
     ]
    },
    {
     "data": {
      "text/html": [
       "<pre style=\"white-space:pre;overflow-x:auto;line-height:normal;font-family:Menlo,'DejaVu Sans Mono',consolas,'Courier New',monospace\">Not applying any cuts to the lepton jets for channel baseNoLj\n",
       "</pre>\n"
      ],
      "text/plain": [
       "Not applying any cuts to the lepton jets for channel baseNoLj\n"
      ]
     },
     "metadata": {},
     "output_type": "display_data"
    },
    {
     "data": {
      "text/html": [
       "<pre style=\"white-space:pre;overflow-x:auto;line-height:normal;font-family:Menlo,'DejaVu Sans Mono',consolas,'Courier New',monospace\">Warning: Unable to apply no PF match for dsaMuons. Skipping.\n",
       "</pre>\n"
      ],
      "text/plain": [
       "Warning: Unable to apply no PF match for dsaMuons. Skipping.\n"
      ]
     },
     "metadata": {},
     "output_type": "display_data"
    },
    {
     "data": {
      "text/html": [
       "<pre style=\"white-space:pre;overflow-x:auto;line-height:normal;font-family:Menlo,'DejaVu Sans Mono',consolas,'Courier New',monospace\">Uh oh, haven't evaluated this cut yet! Make sure it was included in the list of cuts you used to initialize this \n",
       "JaggedSelection.   dsaMuons :  no PF match\n",
       "</pre>\n"
      ],
      "text/plain": [
       "Uh oh, haven't evaluated this cut yet! Make sure it was included in the list of cuts you used to initialize this \n",
       "JaggedSelection.   dsaMuons :  no PF match\n"
      ]
     },
     "metadata": {},
     "output_type": "display_data"
    },
    {
     "data": {
      "text/html": [
       "<pre style=\"white-space:pre;overflow-x:auto;line-height:normal;font-family:Menlo,'DejaVu Sans Mono',consolas,'Courier New',monospace\">Applying cut:  PV filter\n",
       "</pre>\n"
      ],
      "text/plain": [
       "Applying cut:  PV filter\n"
      ]
     },
     "metadata": {},
     "output_type": "display_data"
    },
    {
     "data": {
      "text/html": [
       "<pre style=\"white-space:pre;overflow-x:auto;line-height:normal;font-family:Menlo,'DejaVu Sans Mono',consolas,'Courier New',monospace\">Not applying any cuts to the lepton jets for channel baseNoLj\n",
       "</pre>\n"
      ],
      "text/plain": [
       "Not applying any cuts to the lepton jets for channel baseNoLj\n"
      ]
     },
     "metadata": {},
     "output_type": "display_data"
    },
    {
     "data": {
      "text/html": [
       "<pre style=\"white-space:pre;overflow-x:auto;line-height:normal;font-family:Menlo,'DejaVu Sans Mono',consolas,'Courier New',monospace\">Warning: Unable to apply no PF match for dsaMuons. Skipping.\n",
       "</pre>\n"
      ],
      "text/plain": [
       "Warning: Unable to apply no PF match for dsaMuons. Skipping.\n"
      ]
     },
     "metadata": {},
     "output_type": "display_data"
    },
    {
     "data": {
      "text/html": [
       "<pre style=\"white-space:pre;overflow-x:auto;line-height:normal;font-family:Menlo,'DejaVu Sans Mono',consolas,'Courier New',monospace\">Uh oh, haven't evaluated this cut yet! Make sure it was included in the list of cuts you used to initialize this \n",
       "JaggedSelection.   dsaMuons :  no PF match\n",
       "</pre>\n"
      ],
      "text/plain": [
       "Uh oh, haven't evaluated this cut yet! Make sure it was included in the list of cuts you used to initialize this \n",
       "JaggedSelection.   dsaMuons :  no PF match\n"
      ]
     },
     "metadata": {},
     "output_type": "display_data"
    },
    {
     "data": {
      "text/html": [
       "<pre style=\"white-space:pre;overflow-x:auto;line-height:normal;font-family:Menlo,'DejaVu Sans Mono',consolas,'Courier New',monospace\">Applying cut:  PV filter\n",
       "</pre>\n"
      ],
      "text/plain": [
       "Applying cut:  PV filter\n"
      ]
     },
     "metadata": {},
     "output_type": "display_data"
    },
    {
     "data": {
      "text/html": [
       "<pre style=\"white-space:pre;overflow-x:auto;line-height:normal;font-family:Menlo,'DejaVu Sans Mono',consolas,'Courier New',monospace\">Not applying any cuts to the lepton jets for channel baseNoLj\n",
       "</pre>\n"
      ],
      "text/plain": [
       "Not applying any cuts to the lepton jets for channel baseNoLj\n"
      ]
     },
     "metadata": {},
     "output_type": "display_data"
    },
    {
     "data": {
      "text/html": [
       "<pre style=\"white-space:pre;overflow-x:auto;line-height:normal;font-family:Menlo,'DejaVu Sans Mono',consolas,'Courier New',monospace\">Warning: Unable to apply no PF match for dsaMuons. Skipping.\n",
       "</pre>\n"
      ],
      "text/plain": [
       "Warning: Unable to apply no PF match for dsaMuons. Skipping.\n"
      ]
     },
     "metadata": {},
     "output_type": "display_data"
    },
    {
     "data": {
      "text/html": [
       "<pre style=\"white-space:pre;overflow-x:auto;line-height:normal;font-family:Menlo,'DejaVu Sans Mono',consolas,'Courier New',monospace\">Uh oh, haven't evaluated this cut yet! Make sure it was included in the list of cuts you used to initialize this \n",
       "JaggedSelection.   dsaMuons :  no PF match\n",
       "</pre>\n"
      ],
      "text/plain": [
       "Uh oh, haven't evaluated this cut yet! Make sure it was included in the list of cuts you used to initialize this \n",
       "JaggedSelection.   dsaMuons :  no PF match\n"
      ]
     },
     "metadata": {},
     "output_type": "display_data"
    },
    {
     "data": {
      "text/html": [
       "<pre style=\"white-space:pre;overflow-x:auto;line-height:normal;font-family:Menlo,'DejaVu Sans Mono',consolas,'Courier New',monospace\">Applying cut:  PV filter\n",
       "</pre>\n"
      ],
      "text/plain": [
       "Applying cut:  PV filter\n"
      ]
     },
     "metadata": {},
     "output_type": "display_data"
    },
    {
     "name": "stderr",
     "output_type": "stream",
     "text": [
      "2024-06-17 20:40:59,827 - distributed.utils_perf - WARNING - full garbage collections took 12% CPU time recently (threshold: 10%)\n",
      "2024-06-17 20:40:59,828 - distributed.utils_perf - INFO - full garbage collection released 14.19 MiB from 407890 reference cycles (threshold: 9.54 MiB)\n"
     ]
    },
    {
     "data": {
      "text/html": [
       "<pre style=\"white-space:pre;overflow-x:auto;line-height:normal;font-family:Menlo,'DejaVu Sans Mono',consolas,'Courier New',monospace\">Not applying any cuts to the lepton jets for channel baseNoLj\n",
       "</pre>\n"
      ],
      "text/plain": [
       "Not applying any cuts to the lepton jets for channel baseNoLj\n"
      ]
     },
     "metadata": {},
     "output_type": "display_data"
    },
    {
     "data": {
      "text/html": [
       "<pre style=\"white-space:pre;overflow-x:auto;line-height:normal;font-family:Menlo,'DejaVu Sans Mono',consolas,'Courier New',monospace\">Warning: Unable to apply no PF match for dsaMuons. Skipping.\n",
       "</pre>\n"
      ],
      "text/plain": [
       "Warning: Unable to apply no PF match for dsaMuons. Skipping.\n"
      ]
     },
     "metadata": {},
     "output_type": "display_data"
    },
    {
     "data": {
      "text/html": [
       "<pre style=\"white-space:pre;overflow-x:auto;line-height:normal;font-family:Menlo,'DejaVu Sans Mono',consolas,'Courier New',monospace\">Uh oh, haven't evaluated this cut yet! Make sure it was included in the list of cuts you used to initialize this \n",
       "JaggedSelection.   dsaMuons :  no PF match\n",
       "</pre>\n"
      ],
      "text/plain": [
       "Uh oh, haven't evaluated this cut yet! Make sure it was included in the list of cuts you used to initialize this \n",
       "JaggedSelection.   dsaMuons :  no PF match\n"
      ]
     },
     "metadata": {},
     "output_type": "display_data"
    },
    {
     "data": {
      "text/html": [
       "<pre style=\"white-space:pre;overflow-x:auto;line-height:normal;font-family:Menlo,'DejaVu Sans Mono',consolas,'Courier New',monospace\">Applying cut:  PV filter\n",
       "</pre>\n"
      ],
      "text/plain": [
       "Applying cut:  PV filter\n"
      ]
     },
     "metadata": {},
     "output_type": "display_data"
    },
    {
     "data": {
      "text/html": [
       "<pre style=\"white-space:pre;overflow-x:auto;line-height:normal;font-family:Menlo,'DejaVu Sans Mono',consolas,'Courier New',monospace\">Not applying any cuts to the lepton jets for channel baseNoLj\n",
       "</pre>\n"
      ],
      "text/plain": [
       "Not applying any cuts to the lepton jets for channel baseNoLj\n"
      ]
     },
     "metadata": {},
     "output_type": "display_data"
    },
    {
     "data": {
      "text/html": [
       "<pre style=\"white-space:pre;overflow-x:auto;line-height:normal;font-family:Menlo,'DejaVu Sans Mono',consolas,'Courier New',monospace\">Warning: Unable to apply no PF match for dsaMuons. Skipping.\n",
       "</pre>\n"
      ],
      "text/plain": [
       "Warning: Unable to apply no PF match for dsaMuons. Skipping.\n"
      ]
     },
     "metadata": {},
     "output_type": "display_data"
    },
    {
     "data": {
      "text/html": [
       "<pre style=\"white-space:pre;overflow-x:auto;line-height:normal;font-family:Menlo,'DejaVu Sans Mono',consolas,'Courier New',monospace\">Uh oh, haven't evaluated this cut yet! Make sure it was included in the list of cuts you used to initialize this \n",
       "JaggedSelection.   dsaMuons :  no PF match\n",
       "</pre>\n"
      ],
      "text/plain": [
       "Uh oh, haven't evaluated this cut yet! Make sure it was included in the list of cuts you used to initialize this \n",
       "JaggedSelection.   dsaMuons :  no PF match\n"
      ]
     },
     "metadata": {},
     "output_type": "display_data"
    },
    {
     "data": {
      "text/html": [
       "<pre style=\"white-space:pre;overflow-x:auto;line-height:normal;font-family:Menlo,'DejaVu Sans Mono',consolas,'Courier New',monospace\">Applying cut:  PV filter\n",
       "</pre>\n"
      ],
      "text/plain": [
       "Applying cut:  PV filter\n"
      ]
     },
     "metadata": {},
     "output_type": "display_data"
    },
    {
     "data": {
      "text/html": [
       "<pre style=\"white-space:pre;overflow-x:auto;line-height:normal;font-family:Menlo,'DejaVu Sans Mono',consolas,'Courier New',monospace\"></pre>\n"
      ],
      "text/plain": []
     },
     "metadata": {},
     "output_type": "display_data"
    },
    {
     "data": {
      "text/html": [
       "<pre style=\"white-space:pre;overflow-x:auto;line-height:normal;font-family:Menlo,'DejaVu Sans Mono',consolas,'Courier New',monospace\">\n",
       "</pre>\n"
      ],
      "text/plain": [
       "\n"
      ]
     },
     "metadata": {},
     "output_type": "display_data"
    }
   ],
   "source": [
    "runner = processor.Runner(\n",
    "    executor=processor.IterativeExecutor(),\n",
    "    #executor=processor.DaskExecutor(),\n",
    "    #executor=processor.FuturesExecutor(),\n",
    "    schema=NanoAODSchema,\n",
    "    # maxchunks=1,\n",
    ")\n",
    "\n",
    "hist_menu = utilities.load_yaml(\"../configs/hist_collections.yaml\")\n",
    "hist_choice = \"base\"\n",
    "collection = utilities.flatten(hist_menu[hist_choice]) #To change the histograms used, swap \"base\" for the other collections\n",
    "\n",
    "p = sidm_processor.SidmProcessor(\n",
    "    [\n",
    "        \"baseNoLj\",\n",
    "        #\"barrelE_ID-DPhiIn\",\n",
    "    ],\n",
    "    [hist_choice],\n",
    "    lj_reco_choices=[\"0.4\"],\n",
    "    llpnanoaod=True,\n",
    ")\n",
    "\n",
    "output = runner.run(fileset, treename='Events', processor_instance=p)\n",
    "out = output[\"out\"]"
   ]
  },
  {
   "cell_type": "raw",
   "id": "82ecd9f3-f221-4650-b45f-2150b587ab92",
   "metadata": {},
   "source": [
    "Issues with running llpNanoAODs:\n",
    "1. Cannot to my knowledge use any lepton jet-based cuts. LJs appear in histograms, but the cuts cannot be used.\n",
    "2. Significantly slower garbage collection. I get warning messages from nearly every file.\n",
    "3. The new (llpnanoaod_v2_merged) samples do not seem to work at all for me, I may have to go into the processor.\n",
    "4. Lots of messages from the iterative processor that no cuts can be applied to lepton jets."
   ]
  },
  {
   "cell_type": "code",
   "execution_count": 95,
   "id": "f9cdb944-919c-41a5-8baf-e05c6a8de029",
   "metadata": {},
   "outputs": [],
   "source": [
    "#This defines a function to break down the samples and make individual subplots for each one.\n",
    "#Fix: should set the specific range as a parameter. For now, it uses [ :1200j]. Could be an issue in the future.\n",
    "def plotSamples(hists, channel, errorBars, densityPlot, sample_0=samples, fullBg=False):\n",
    "    samples = []\n",
    "    if channel == \"2mu2e\":\n",
    "        for sample in sample_0:\n",
    "            if sample[0] != '4':\n",
    "                samples.append(sample)\n",
    "    elif channel == \"4mu\":\n",
    "        for sample in sample_0:\n",
    "            if sample[0] != '2':\n",
    "                samples.append(sample)\n",
    "    else:\n",
    "        for sample in sample_0:\n",
    "            samples.append(sample)\n",
    "    nplots = len(samples)\n",
    "    nhists = len(hists)\n",
    "    if (nplots <= 6): ncol, nrow = nplots, 1\n",
    "    else: ncol, nrow = 6, (nplots-1)//6 + 1\n",
    "    plt.subplots(nrow, ncol, figsize=(ncol*12, nrow*9))\n",
    "    plt.rcParams['font.size'] = 16\n",
    "    DY_Flag = QCD_Flag = DB_Flag = TT_Flag = Tot_BG_Flag = False\n",
    "    Tot_BG_Flag = not fullBg\n",
    "    for i in range(nplots):\n",
    "        plt.subplot(nrow, ncol, i+1)\n",
    "        j = 0\n",
    "        if \"DY_Jets\" in samples and DY_Flag == False:\n",
    "            for j in range(nhists):\n",
    "                utilities.plot(DY_Hists[hists[j]][channel, :], yerr=errorBars, density=densityPlot, flow='none')\n",
    "                DY_Flag = True\n",
    "        elif \"QCD_Jets\" in samples and QCD_Flag == False:\n",
    "            for j in range(nhists):\n",
    "                utilities.plot(QCD_Hists[hists[j]][channel, :], yerr=errorBars, density=densityPlot, flow='none')\n",
    "                QCD_Flag = True\n",
    "        elif \"DiBoson_Jets\" in samples and DB_Flag == False:\n",
    "            for j in range(nhists):\n",
    "                utilities.plot(DiBoson_Hists[hists[j]][channel, :], yerr=errorBars, density=densityPlot, flow='none')\n",
    "                DB_Flag = True\n",
    "        elif \"TTJets\" in samples and TT_Flag == False:\n",
    "            for j in range(nhists):\n",
    "                utilities.plot(TT_Hists[hists[j]][channel, :], yerr=errorBars, density=densityPlot, flow='none')\n",
    "                TT_Flag = True\n",
    "        elif \"Total Background\" in samples and Tot_BG_Flag == False:\n",
    "            for j in range(nhists):\n",
    "                utilities.plot(bg_Hists[hists[j]][channel, :], yerr=errorBars, density=densityPlot, flow='none')\n",
    "                Tot_BG_Flag = True\n",
    "        else:\n",
    "            for j in range(nhists):\n",
    "                utilities.plot(out[samples[i]][\"hists\"][hists[j]][channel, :], yerr=errorBars, density=densityPlot, flow='none')\n",
    "        plt.legend(hists)\n",
    "        plt.title(samples[i])"
   ]
  },
  {
   "cell_type": "code",
   "execution_count": 96,
   "id": "94a26a8e-b2d8-4109-967b-dde992fd7f11",
   "metadata": {
    "tags": []
   },
   "outputs": [],
   "source": [
    "#This function plots each histogram on a separate subplot, showing all samples on each subplot\n",
    "def plotHists(hists, channel, errorBars, densityPlot, sample_0=samples, fullBg=False):\n",
    "    samples = []\n",
    "    if channel == \"2mu2e\":\n",
    "        for sample in sample_0:\n",
    "            if sample[0] != '4':\n",
    "                samples.append(sample)\n",
    "    elif channel == \"4mu\":\n",
    "        for sample in sample_0:\n",
    "            if sample[0] != '2':\n",
    "                samples.append(sample)\n",
    "    else:\n",
    "        for sample in sample_0:\n",
    "            samples.append(sample)\n",
    "    nplots = len(hists)\n",
    "    if (nplots <= 5): ncol, nrow = nplots, 1\n",
    "    else: ncol, nrow = 4, (nplots-1)//4 + 1\n",
    "    plt.subplots(nrow, ncol, figsize=(ncol*12, nrow*9))\n",
    "    plt.rcParams['font.size'] = 16\n",
    "    for i in range(nplots):\n",
    "        DY_Flag = QCD_Flag = DB_Flag = TT_Flag = Tot_BG_Flag = False\n",
    "        plt.subplot(nrow, ncol, i+1)\n",
    "        j = 0\n",
    "        while j < len(samples):\n",
    "            if \"DY_Jets\" in samples and DY_Flag == False:\n",
    "                utilities.plot(DY_Hists[hists[i]][channel, :], yerr=errorBars, density=densityPlot, flow='none')\n",
    "                DY_Flag = True\n",
    "            elif \"QCD_Jets\" in samples and QCD_Flag == False:\n",
    "                utilities.plot(QCD_Hists[hists[i]][channel, :], yerr=errorBars, density=densityPlot, flow='none')\n",
    "                QCD_Flag = True\n",
    "            elif \"DiBoson_Jets\" in samples and DB_Flag == False:\n",
    "                utilities.plot(DiBoson_Hists[hists[i]][channel, :], yerr=errorBars, density=densityPlot, flow='none')\n",
    "                DB_Flag = True\n",
    "            elif \"TTJets\" in samples and TT_Flag == False:\n",
    "                utilities.plot(TT_Hists[hists[i]][channel, :], yerr=errorBars, density=densityPlot, flow='none')\n",
    "                TT_Flag = True\n",
    "            elif \"Total Background\" in samples and Tot_BG_Flag == False:\n",
    "                utilities.plot(bg_Hists[hists[i]][channel, :], yerr=errorBars, density=densityPlot, flow='none')\n",
    "                Tot_BG_Flag = True\n",
    "            else:\n",
    "                utilities.plot(out[samples[j]][\"hists\"][hists[i]][channel, :], yerr=errorBars, density=densityPlot, flow='none')\n",
    "            j = j + 1\n",
    "        plt.legend(samples)\n",
    "        plt.title(hists[i])"
   ]
  },
  {
   "cell_type": "code",
   "execution_count": 97,
   "id": "fdfea3f5-c92d-4a52-b774-1fd49e5128bc",
   "metadata": {},
   "outputs": [],
   "source": [
    "hists = out[samples[0]][\"hists\"]"
   ]
  },
  {
   "cell_type": "code",
   "execution_count": 98,
   "id": "d04444b6-385b-4b91-87ae-6e6254b5426a",
   "metadata": {
    "tags": []
   },
   "outputs": [
    {
     "data": {
      "text/plain": [
       "<matplotlib.legend.Legend at 0x7fdc66629700>"
      ]
     },
     "execution_count": 98,
     "metadata": {},
     "output_type": "execute_result"
    },
    {
     "data": {
      "image/png": "[encoded data removed]",
      "text/plain": [
       "<Figure size 1200x500 with 2 Axes>"
      ]
     },
     "metadata": {},
     "output_type": "display_data"
    }
   ],
   "source": [
    "plt.subplots(1, 2, figsize=(24, 10))\n",
    "plt.subplot(1, 2, 1)\n",
    "utilities.plot(hists[\"muon_n\"][\"baseNoLj\", :])\n",
    "utilities.plot(hists[\"dsaMuon_n\"][\"baseNoLj\", :])\n",
    "plt.legend([\"PF\", \"DSA\"])\n",
    "plt.subplot(1, 2, 2)\n",
    "utilities.plot(hists[\"muon_pt\"][\"baseNoLj\", ::2j])\n",
    "utilities.plot(hists[\"dsaMuon_pt\"][\"baseNoLj\", ::2j])\n",
    "plt.legend([\"PF\", \"DSA\"])"
   ]
  },
  {
   "cell_type": "code",
   "execution_count": 99,
   "id": "c1a63421-e6ea-42f3-8e45-918f5bd81ee5",
   "metadata": {
    "tags": []
   },
   "outputs": [
    {
     "data": {
      "text/plain": [
       "[StairsArtists(stairs=<matplotlib.patches.StepPatch object at 0x7fdc41288ca0>, errorbar=<ErrorbarContainer object of 3 artists>, legend_artist=<ErrorbarContainer object of 3 artists>)]"
      ]
     },
     "execution_count": 99,
     "metadata": {},
     "output_type": "execute_result"
    },
    {
     "data": {
      "image/png": "[encoded data removed]",
      "text/plain": [
       "<Figure size 1200x500 with 2 Axes>"
      ]
     },
     "metadata": {},
     "output_type": "display_data"
    }
   ],
   "source": [
    "plt.subplots(1, 2, figsize=(24, 10))\n",
    "plt.subplot(1, 2, 1)\n",
    "utilities.plot(hists[\"lj_n\"][\"baseNoLj\", :])\n",
    "plt.subplot(1, 2, 2)\n",
    "utilities.plot(hists[\"lj_pt\"][\"baseNoLj\", :])"
   ]
  },
  {
   "cell_type": "code",
   "execution_count": 100,
   "id": "b38c6bd5-ad21-44e9-9d90-829c14234157",
   "metadata": {},
   "outputs": [
    {
     "data": {
      "text/plain": [
       "[StairsArtists(stairs=<matplotlib.patches.StepPatch object at 0x7fdc0621bd00>, errorbar=<ErrorbarContainer object of 3 artists>, legend_artist=<ErrorbarContainer object of 3 artists>)]"
      ]
     },
     "execution_count": 100,
     "metadata": {},
     "output_type": "execute_result"
    },
    {
     "data": {
      "image/png": "[encoded data removed]",
      "text/plain": [
       "<Figure size 1200x1200 with 4 Axes>"
      ]
     },
     "metadata": {},
     "output_type": "display_data"
    }
   ],
   "source": [
    "plt.subplots(2, 2, figsize=(24, 24))\n",
    "plt.subplot(2, 2, 1)\n",
    "utilities.plot(hists[\"lj_electronN\"][\"baseNoLj\", :])\n",
    "plt.subplot(2, 2, 2)\n",
    "utilities.plot(hists[\"lj_photonN\"][\"baseNoLj\", :])\n",
    "plt.subplot(2, 2, 3)\n",
    "utilities.plot(hists[\"lj_muonN\"][\"baseNoLj\", :])\n",
    "#plt.subplot(2, 2, 4)\n",
    "#utilities.plot(hists[\"lj_dsaMuonN\"][\"llpnano\", :])"
   ]
  },
  {
   "cell_type": "code",
   "execution_count": 105,
   "id": "5ae4325e-b245-4e9a-bbfe-07e5cc268af8",
   "metadata": {
    "tags": []
   },
   "outputs": [
    {
     "name": "stdout",
     "output_type": "stream",
     "text": [
      "test\n",
      "---------------------------------\n",
      "cut name                  Total cuts:\n",
      "                4mu_500GeV_5GeV_0p08mm\n",
      "------------  ------------------------\n",
      "No selection                 134166.00\n",
      "PV filter                      5972.00\n",
      "\n"
     ]
    }
   ],
   "source": [
    "cutflows = []\n",
    "for sample in samples:\n",
    "    cutflows.append(out[sample][\"cutflow\"][\"baseNoLj\"])\n",
    "cutflow.print_multi_table(cutflows, samples, False, False, \"test\")"
   ]
  },
  {
   "cell_type": "code",
   "execution_count": 102,
   "id": "a19dd140-24cd-4d94-b373-e49d102a0efa",
   "metadata": {
    "tags": []
   },
   "outputs": [
    {
     "data": {
      "image/png": "[encoded data removed]",
      "text/plain": [
       "<Figure size 600x450 with 1 Axes>"
      ]
     },
     "metadata": {},
     "output_type": "display_data"
    }
   ],
   "source": [
    "histlist = [\"pv_n\", \"pv_ndof\", \"pv_z\"]\n",
    "plotSamples(histlist, \"baseNoLj\", False, True)"
   ]
  },
  {
   "cell_type": "code",
   "execution_count": 103,
   "id": "70b8d6fa-5ca6-4856-b789-40e4c5b47b97",
   "metadata": {
    "tags": []
   },
   "outputs": [
    {
     "name": "stderr",
     "output_type": "stream",
     "text": [
      "2024-06-17 20:41:16,515 - distributed.utils_perf - WARNING - full garbage collections took 11% CPU time recently (threshold: 10%)\n",
      "/opt/conda/lib/python3.9/site-packages/mplhep/utils.py:262: RuntimeWarning: divide by zero encountered in double_scalars\n",
      "  self.flat_scale(1 / np.sum(np.diff(self.edges) * self.values))\n",
      "/opt/conda/lib/python3.9/site-packages/mplhep/utils.py:197: RuntimeWarning: All sumw are zero!  Cannot compute meaningful error bars\n",
      "  return np.abs(method_fcn(self.values, variances) - self.values)\n",
      "/opt/conda/lib/python3.9/site-packages/mplhep/utils.py:242: RuntimeWarning: invalid value encountered in multiply\n",
      "  self.values *= scale\n",
      "/opt/conda/lib/python3.9/site-packages/mplhep/utils.py:243: RuntimeWarning: invalid value encountered in multiply\n",
      "  self.yerr_lo *= scale\n",
      "/opt/conda/lib/python3.9/site-packages/mplhep/utils.py:244: RuntimeWarning: invalid value encountered in multiply\n",
      "  self.yerr_hi *= scale\n",
      "/opt/conda/lib/python3.9/site-packages/mplhep/utils.py:262: RuntimeWarning: divide by zero encountered in double_scalars\n",
      "  self.flat_scale(1 / np.sum(np.diff(self.edges) * self.values))\n",
      "/opt/conda/lib/python3.9/site-packages/mplhep/utils.py:197: RuntimeWarning: All sumw are zero!  Cannot compute meaningful error bars\n",
      "  return np.abs(method_fcn(self.values, variances) - self.values)\n",
      "/opt/conda/lib/python3.9/site-packages/mplhep/utils.py:242: RuntimeWarning: invalid value encountered in multiply\n",
      "  self.values *= scale\n",
      "/opt/conda/lib/python3.9/site-packages/mplhep/utils.py:243: RuntimeWarning: invalid value encountered in multiply\n",
      "  self.yerr_lo *= scale\n",
      "/opt/conda/lib/python3.9/site-packages/mplhep/utils.py:244: RuntimeWarning: invalid value encountered in multiply\n",
      "  self.yerr_hi *= scale\n",
      "/opt/conda/lib/python3.9/site-packages/mplhep/utils.py:262: RuntimeWarning: divide by zero encountered in double_scalars\n",
      "  self.flat_scale(1 / np.sum(np.diff(self.edges) * self.values))\n",
      "/opt/conda/lib/python3.9/site-packages/mplhep/utils.py:197: RuntimeWarning: All sumw are zero!  Cannot compute meaningful error bars\n",
      "  return np.abs(method_fcn(self.values, variances) - self.values)\n",
      "/opt/conda/lib/python3.9/site-packages/mplhep/utils.py:242: RuntimeWarning: invalid value encountered in multiply\n",
      "  self.values *= scale\n",
      "/opt/conda/lib/python3.9/site-packages/mplhep/utils.py:243: RuntimeWarning: invalid value encountered in multiply\n",
      "  self.yerr_lo *= scale\n",
      "/opt/conda/lib/python3.9/site-packages/mplhep/utils.py:244: RuntimeWarning: invalid value encountered in multiply\n",
      "  self.yerr_hi *= scale\n",
      "/opt/conda/lib/python3.9/site-packages/mplhep/utils.py:262: RuntimeWarning: divide by zero encountered in double_scalars\n",
      "  self.flat_scale(1 / np.sum(np.diff(self.edges) * self.values))\n",
      "/opt/conda/lib/python3.9/site-packages/mplhep/utils.py:197: RuntimeWarning: All sumw are zero!  Cannot compute meaningful error bars\n",
      "  return np.abs(method_fcn(self.values, variances) - self.values)\n",
      "/opt/conda/lib/python3.9/site-packages/mplhep/utils.py:242: RuntimeWarning: invalid value encountered in multiply\n",
      "  self.values *= scale\n",
      "/opt/conda/lib/python3.9/site-packages/mplhep/utils.py:243: RuntimeWarning: invalid value encountered in multiply\n",
      "  self.yerr_lo *= scale\n",
      "/opt/conda/lib/python3.9/site-packages/mplhep/utils.py:244: RuntimeWarning: invalid value encountered in multiply\n",
      "  self.yerr_hi *= scale\n",
      "/opt/conda/lib/python3.9/site-packages/mplhep/utils.py:262: RuntimeWarning: divide by zero encountered in double_scalars\n",
      "  self.flat_scale(1 / np.sum(np.diff(self.edges) * self.values))\n",
      "/opt/conda/lib/python3.9/site-packages/mplhep/utils.py:197: RuntimeWarning: All sumw are zero!  Cannot compute meaningful error bars\n",
      "  return np.abs(method_fcn(self.values, variances) - self.values)\n",
      "/opt/conda/lib/python3.9/site-packages/mplhep/utils.py:242: RuntimeWarning: invalid value encountered in multiply\n",
      "  self.values *= scale\n",
      "/opt/conda/lib/python3.9/site-packages/mplhep/utils.py:243: RuntimeWarning: invalid value encountered in multiply\n",
      "  self.yerr_lo *= scale\n",
      "/opt/conda/lib/python3.9/site-packages/mplhep/utils.py:244: RuntimeWarning: invalid value encountered in multiply\n",
      "  self.yerr_hi *= scale\n",
      "/opt/conda/lib/python3.9/site-packages/mplhep/utils.py:262: RuntimeWarning: divide by zero encountered in double_scalars\n",
      "  self.flat_scale(1 / np.sum(np.diff(self.edges) * self.values))\n",
      "/opt/conda/lib/python3.9/site-packages/mplhep/utils.py:197: RuntimeWarning: All sumw are zero!  Cannot compute meaningful error bars\n",
      "  return np.abs(method_fcn(self.values, variances) - self.values)\n",
      "/opt/conda/lib/python3.9/site-packages/mplhep/utils.py:242: RuntimeWarning: invalid value encountered in multiply\n",
      "  self.values *= scale\n",
      "/opt/conda/lib/python3.9/site-packages/mplhep/utils.py:243: RuntimeWarning: invalid value encountered in multiply\n",
      "  self.yerr_lo *= scale\n",
      "/opt/conda/lib/python3.9/site-packages/mplhep/utils.py:244: RuntimeWarning: invalid value encountered in multiply\n",
      "  self.yerr_hi *= scale\n",
      "/opt/conda/lib/python3.9/site-packages/mplhep/utils.py:262: RuntimeWarning: divide by zero encountered in double_scalars\n",
      "  self.flat_scale(1 / np.sum(np.diff(self.edges) * self.values))\n",
      "/opt/conda/lib/python3.9/site-packages/mplhep/utils.py:197: RuntimeWarning: All sumw are zero!  Cannot compute meaningful error bars\n",
      "  return np.abs(method_fcn(self.values, variances) - self.values)\n",
      "/opt/conda/lib/python3.9/site-packages/mplhep/utils.py:242: RuntimeWarning: invalid value encountered in multiply\n",
      "  self.values *= scale\n",
      "/opt/conda/lib/python3.9/site-packages/mplhep/utils.py:243: RuntimeWarning: invalid value encountered in multiply\n",
      "  self.yerr_lo *= scale\n",
      "/opt/conda/lib/python3.9/site-packages/mplhep/utils.py:244: RuntimeWarning: invalid value encountered in multiply\n",
      "  self.yerr_hi *= scale\n",
      "/opt/conda/lib/python3.9/site-packages/mplhep/utils.py:262: RuntimeWarning: divide by zero encountered in double_scalars\n",
      "  self.flat_scale(1 / np.sum(np.diff(self.edges) * self.values))\n",
      "/opt/conda/lib/python3.9/site-packages/mplhep/utils.py:197: RuntimeWarning: All sumw are zero!  Cannot compute meaningful error bars\n",
      "  return np.abs(method_fcn(self.values, variances) - self.values)\n",
      "/opt/conda/lib/python3.9/site-packages/mplhep/utils.py:242: RuntimeWarning: invalid value encountered in multiply\n",
      "  self.values *= scale\n",
      "/opt/conda/lib/python3.9/site-packages/mplhep/utils.py:243: RuntimeWarning: invalid value encountered in multiply\n",
      "  self.yerr_lo *= scale\n",
      "/opt/conda/lib/python3.9/site-packages/mplhep/utils.py:244: RuntimeWarning: invalid value encountered in multiply\n",
      "  self.yerr_hi *= scale\n",
      "/opt/conda/lib/python3.9/site-packages/mplhep/utils.py:262: RuntimeWarning: divide by zero encountered in double_scalars\n",
      "  self.flat_scale(1 / np.sum(np.diff(self.edges) * self.values))\n",
      "/opt/conda/lib/python3.9/site-packages/mplhep/utils.py:197: RuntimeWarning: All sumw are zero!  Cannot compute meaningful error bars\n",
      "  return np.abs(method_fcn(self.values, variances) - self.values)\n",
      "/opt/conda/lib/python3.9/site-packages/mplhep/utils.py:242: RuntimeWarning: invalid value encountered in multiply\n",
      "  self.values *= scale\n",
      "/opt/conda/lib/python3.9/site-packages/mplhep/utils.py:243: RuntimeWarning: invalid value encountered in multiply\n",
      "  self.yerr_lo *= scale\n",
      "/opt/conda/lib/python3.9/site-packages/mplhep/utils.py:244: RuntimeWarning: invalid value encountered in multiply\n",
      "  self.yerr_hi *= scale\n",
      "2024-06-17 20:41:21,052 - distributed.utils_perf - WARNING - full garbage collections took 11% CPU time recently (threshold: 10%)\n"
     ]
    },
    {
     "data": {
      "image/png": "[encoded data removed]",
      "text/plain": [
       "<Figure size 2400x5850 with 52 Axes>"
      ]
     },
     "metadata": {},
     "output_type": "display_data"
    }
   ],
   "source": [
    "histlist = []\n",
    "for hist in collection: \n",
    "    if \"eta_phi\" not in hist:\n",
    "        histlist.append(hist)\n",
    "histlist.remove(\"abcd_lj_lj_dphi_vs_lj0_pfIsolationPt05\") #All removed histrograms returned a \"wrong number of indices\" error\n",
    "plotHists(histlist, \"baseNoLj\", False, True)"
   ]
  },
  {
   "cell_type": "code",
   "execution_count": null,
   "id": "0179c38e-634d-4938-b66c-3c134d2cbcb9",
   "metadata": {},
   "outputs": [],
   "source": []
  }
 ],
 "metadata": {
  "kernelspec": {
   "display_name": "Python 3 (ipykernel)",
   "language": "python",
   "name": "python3"
  },
  "language_info": {
   "codemirror_mode": {
    "name": "ipython",
    "version": 3
   },
   "file_extension": ".py",
   "mimetype": "text/x-python",
   "name": "python",
   "nbconvert_exporter": "python",
   "pygments_lexer": "ipython3",
   "version": "3.9.18"
  }
 },
 "nbformat": 4,
 "nbformat_minor": 5
}
