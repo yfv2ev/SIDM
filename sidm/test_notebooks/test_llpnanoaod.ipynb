{
 "cells": [
  {
   "cell_type": "code",
   "execution_count": null,
   "id": "4f65b627",
   "metadata": {
    "tags": []
   },
   "outputs": [],
   "source": [
    "# python\n",
    "import sys\n",
    "import os\n",
    "import importlib\n",
    "# columnar analysis\n",
    "import awkward as ak\n",
    "from dask.distributed import Client\n",
    "from coffea.nanoevents import NanoEventsFactory, NanoAODSchema\n",
    "from coffea import processor\n",
    "# local\n",
    "sys.path.insert(1, os.path.join(sys.path[0], '../..')) # fixme: there must be a better way to handle this...\n",
    "from sidm.tools import sidm_processor, utilities, cutflow, scaleout\n",
    "# always reload local modules to pick up changes during development\n",
    "importlib.reload(sidm_processor)\n",
    "importlib.reload(utilities)\n",
    "importlib.reload(scaleout)\n",
    "# plotting\n",
    "import matplotlib.pyplot as plt\n",
    "utilities.set_plot_style()\n",
    "%matplotlib inline"
   ]
  },
  {
   "cell_type": "code",
   "execution_count": 2,
   "id": "4e5d1cf4",
   "metadata": {},
   "outputs": [],
   "source": [
    "bg_samples = [\n",
    "    \"TTJets\",\n",
    "]\n",
    "\n",
    "#######################################################\n",
    "SIDM_4mu_100GeV_0p25GeV_samples = [\n",
    "    \"4mu_100GeV_0p25GeV_0p02mm\",\n",
    "    \"4mu_100GeV_0p25GeV_0p2mm\",\n",
    "    \"4mu_100GeV_0p25GeV_2p0mm\",\n",
    "    \"4mu_100GeV_0p25GeV_10p0mm\",\n",
    "    \"4mu_100GeV_0p25GeV_20p0mm\",\n",
    "]\n",
    "SIDM_4mu_100GeV_1p2GeV_samples = [\n",
    "    \"4mu_100GeV_1p2GeV_0p096mm\",\n",
    "    \"4mu_100GeV_1p2GeV_0p96mm\",\n",
    "    \"4mu_100GeV_1p2GeV_9p6mm\",\n",
    "    \"4mu_100GeV_1p2GeV_48p0mm\",\n",
    "    \"4mu_100GeV_1p2GeV_96p0mm\",\n",
    "]\n",
    "SIDM_4mu_100GeV_5p0GeV_samples = [\n",
    "    \"4mu_100GeV_5p0GeV_0p4mm\",\n",
    "    \"4mu_100GeV_5p0GeV_4p0mm\",\n",
    "    \"4mu_100GeV_5p0GeV_40p0mm\", \n",
    "    \"4mu_100GeV_5p0GeV_200p0mm\",\n",
    "    \"4mu_100GeV_5p0GeV_400p0mm\",\n",
    "]\n",
    "#######################################################\n",
    "SIDM_4mu_150GeV_0p25GeV_samples = [\n",
    "    \"4mu_150GeV_0p25GeV_0p013mm\",\n",
    "    \"4mu_150GeV_0p25GeV_0p13mm\",\n",
    "    \"4mu_150GeV_0p25GeV_1p3mm\",\n",
    "    \"4mu_150GeV_0p25GeV_6p7mm\",\n",
    "    \"4mu_150GeV_0p25GeV_13p0mm\",\n",
    "]\n",
    "SIDM_4mu_150GeV_1p2GeV_samples = [\n",
    "    \"4mu_150GeV_1p2GeV_0p064mm\",\n",
    "    \"4mu_150GeV_1p2GeV_0p64mm\",\n",
    "    \"4mu_150GeV_1p2GeV_6p4mm\",\n",
    "    \"4mu_150GeV_1p2GeV_32p0mm\",\n",
    "    \"4mu_150GeV_1p2GeV_64p0mm\",\n",
    "]\n",
    "SIDM_4mu_150GeV_5p0GeV_samples = [\n",
    "    \"4mu_150GeV_5p0GeV_0p27mm\",\n",
    "    \"4mu_150GeV_5p0GeV_2p7mm\",\n",
    "    \"4mu_150GeV_5p0GeV_27p0mm\",\n",
    "    \"4mu_150GeV_5p0GeV_130p0mm\",\n",
    "    \"4mu_150GeV_5p0GeV_270p0mm\",\n",
    "]\n",
    "#######################################################\n",
    "SIDM_4mu_200GeV_0p25GeV_samples = [\n",
    "    \"4mu_200GeV_0p25GeV_0p01mm\",\n",
    "    \"4mu_200GeV_0p25GeV_0p1mm\",\n",
    "    \"4mu_200GeV_0p25GeV_1p0mm\",\n",
    "    \"4mu_200GeV_0p25GeV_5p0mm\",\n",
    "    \"4mu_200GeV_0p25GeV_10p0mm\",\n",
    "]\n",
    "SIDM_4mu_200GeV_1p2GeV_samples = [\n",
    "    \"4mu_200GeV_1p2GeV_0p048mm\",\n",
    "    \"4mu_200GeV_1p2GeV_0p48mm\",\n",
    "    \"4mu_200GeV_1p2GeV_4p8mm\",\n",
    "    \"4mu_200GeV_1p2GeV_24p0mm\",\n",
    "    \"4mu_200GeV_1p2GeV_48p0mm\",\n",
    "]\n",
    "SIDM_4mu_200GeV_5p0GeV_samples = [\n",
    "    \"4mu_200GeV_5p0GeV_0p2mm\",\n",
    "    \"4mu_200GeV_5p0GeV_2p0mm\",\n",
    "    \"4mu_200GeV_5p0GeV_20p0mm\",\n",
    "    \"4mu_200GeV_5p0GeV_100p0mm\",\n",
    "    \"4mu_200GeV_5p0GeV_200p0mm\",\n",
    "]\n",
    "#######################################################\n",
    "SIDM_4mu_500GeV_0p25GeV_samples = [\n",
    "    \"4mu_500GeV_0p25GeV_0p004mm\",\n",
    "    \"4mu_500GeV_0p25GeV_0p04mm\",\n",
    "    \"4mu_500GeV_0p25GeV_0p4mm\",\n",
    "    \"4mu_500GeV_0p25GeV_2p0mm\",\n",
    "    \"4mu_500GeV_0p25GeV_4p0mm\",\n",
    "]\n",
    "SIDM_4mu_500GeV_1p2GeV_samples = [\n",
    "    \"4mu_500GeV_1p2GeV_0p019mm\",\n",
    "    \"4mu_500GeV_1p2GeV_0p19mm\",\n",
    "    \"4mu_500GeV_1p2GeV_1p9mm\",\n",
    "    \"4mu_500GeV_1p2GeV_9p6mm\",\n",
    "    \"4mu_500GeV_1p2GeV_19p0mm\",\n",
    "]\n",
    "SIDM_4mu_500GeV_5p0GeV_samples = [\n",
    "    \"4mu_500GeV_5p0GeV_0p08mm\",\n",
    "    \"4mu_500GeV_5p0GeV_0p8mm\",\n",
    "    \"4mu_500GeV_5p0GeV_8p0mm\",\n",
    "    \"4mu_500GeV_5p0GeV_40p0mm\",\n",
    "    \"4mu_500GeV_5p0GeV_80p0mm\",\n",
    "    \n",
    "    #\"4mu_500GeV_5p0GeV_800p0mm\",\n",
    "    #\"4mu_500GeV_5p0GeV_8000p0mm\", these are also here as long Lxy tests\n",
    "]\n",
    "#######################################################\n",
    "SIDM_4mu_800GeV_0p25GeV_samples = [\n",
    "    \"4mu_800GeV_0p25GeV_0p0025mm\",\n",
    "    \"4mu_800GeV_0p25GeV_0p025mm\",\n",
    "    \"4mu_800GeV_0p25GeV_0p25mm\",\n",
    "    \"4mu_800GeV_0p25GeV_1p2mm\",\n",
    "    \"4mu_800GeV_0p25GeV_2p5mm\",\n",
    "]\n",
    "SIDM_4mu_800GeV_1p2GeV_samples = [\n",
    "    \"4mu_800GeV_1p2GeV_0p012mm\",\n",
    "    \"4mu_800GeV_1p2GeV_0p12mm\",\n",
    "    \"4mu_800GeV_1p2GeV_1p2mm\",\n",
    "    \"4mu_800GeV_1p2GeV_6p0mm\",\n",
    "    \"4mu_800GeV_1p2GeV_12p0mm\",\n",
    "]\n",
    "SIDM_4mu_800GeV_5p0GeV_samples = [\n",
    "    \"4mu_800GeV_5p0GeV_0p05mm\",\n",
    "    \"4mu_800GeV_5p0GeV_0p5mm\",\n",
    "    \"4mu_800GeV_5p0GeV_5p0mm\",\n",
    "    \"4mu_800GeV_5p0GeV_25p0mm\",\n",
    "    \"4mu_800GeV_5p0GeV_50p0mm\",\n",
    "]\n",
    "#######################################################\n",
    "SIDM_4mu_1000GeV_0p25GeV_samples = [ # getting keyErrors on all of these; I think they might be empty\n",
    "    \"4mu_1000GeV_0p25GeV_0p002mm\", # Running gives \"cannot unpack non-iterable NoneType object\"\n",
    "    \"4mu_1000GeV_0p25GeV_0p02mm\",\n",
    "    \"4mu_1000GeV_0p25GeV_0p2mm\",\n",
    "    \"4mu_1000GeV_0p25GeV_1p0mm\",\n",
    "    \"4mu_1000GeV_0p25GeV_2p0mm\",\n",
    "]\n",
    "SIDM_4mu_1000GeV_1p2GeV_samples = [ # these also give keyErrors\n",
    "    \"4mu_1000GeV_1p2GeV_0p0096mm\",\n",
    "    \"4mu_1000GeV_1p2GeV_0p096mm\",\n",
    "    \"4mu_1000GeV_1p2GeV_0p96mm\",\n",
    "    \"4mu_1000GeV_1p2GeV_4p8mm\",\n",
    "    \"4mu_1000GeV_1p2GeV_9p6mm\",\n",
    "]\n",
    "SIDM_4mu_1000GeV_5p0GeV_samples = [\n",
    "    \"4mu_1000GeV_5p0GeV_0p04mm\",\n",
    "    \"4mu_1000GeV_5p0GeV_0p4mm\",\n",
    "    \"4mu_1000GeV_5p0GeV_4p0mm\",\n",
    "    \"4mu_1000GeV_5p0GeV_20p0mm\",\n",
    "    \"4mu_1000GeV_5p0GeV_40p0mm\",\n",
    "]\n",
    "#######################################################\n",
    "\n",
    "\n",
    "SIDM_4mu_100GeV_samples = []\n",
    "SIDM_4mu_100GeV_samples = SIDM_4mu_100GeV_samples + SIDM_4mu_100GeV_0p25GeV_samples + SIDM_4mu_100GeV_1p2GeV_samples + SIDM_4mu_100GeV_5p0GeV_samples\n",
    "\n",
    "SIDM_4mu_150GeV_samples = []\n",
    "SIDM_4mu_150GeV_samples = SIDM_4mu_150GeV_samples + SIDM_4mu_150GeV_0p25GeV_samples + SIDM_4mu_150GeV_1p2GeV_samples + SIDM_4mu_150GeV_5p0GeV_samples\n",
    "\n",
    "SIDM_4mu_200GeV_samples = []\n",
    "SIDM_4mu_200GeV_samples = SIDM_4mu_200GeV_samples + SIDM_4mu_200GeV_0p25GeV_samples + SIDM_4mu_200GeV_1p2GeV_samples + SIDM_4mu_200GeV_5p0GeV_samples\n",
    "\n",
    "SIDM_4mu_500GeV_samples = []\n",
    "SIDM_4mu_500GeV_samples = SIDM_4mu_500GeV_samples + SIDM_4mu_500GeV_0p25GeV_samples + SIDM_4mu_500GeV_1p2GeV_samples + SIDM_4mu_500GeV_5p0GeV_samples\n",
    "\n",
    "SIDM_4mu_800GeV_samples = []\n",
    "SIDM_4mu_800GeV_samples = SIDM_4mu_800GeV_samples + SIDM_4mu_800GeV_0p25GeV_samples + SIDM_4mu_800GeV_1p2GeV_samples + SIDM_4mu_800GeV_5p0GeV_samples\n",
    "\n",
    "SIDM_4mu_1000GeV_samples = []\n",
    "SIDM_4mu_1000GeV_samples = SIDM_4mu_1000GeV_samples + SIDM_4mu_1000GeV_0p25GeV_samples + SIDM_4mu_1000GeV_1p2GeV_samples + SIDM_4mu_1000GeV_5p0GeV_samples\n",
    "\n",
    "samples_sublists = [\n",
    "    #SIDM_4mu_100GeV_0p25GeV_samples, SIDM_4mu_100GeV_1p2GeV_samples, SIDM_4mu_100GeV_5p0GeV_samples, \n",
    "    #SIDM_4mu_150GeV_0p25GeV_samples, SIDM_4mu_150GeV_1p2GeV_samples, SIDM_4mu_150GeV_5p0GeV_samples,\n",
    "    #SIDM_4mu_200GeV_0p25GeV_samples, SIDM_4mu_200GeV_1p2GeV_samples, SIDM_4mu_200GeV_5p0GeV_samples, \n",
    "    #SIDM_4mu_500GeV_0p25GeV_samples, SIDM_4mu_500GeV_1p2GeV_samples, SIDM_4mu_500GeV_5p0GeV_samples,\n",
    "    SIDM_4mu_800GeV_0p25GeV_samples, SIDM_4mu_800GeV_1p2GeV_samples, SIDM_4mu_800GeV_5p0GeV_samples,\n",
    "    #SIDM_4mu_1000GeV_0p25GeV_samples, \n",
    "    #SIDM_4mu_1000GeV_1p2GeV_samples, # These two groups don't work at all\n",
    "    #SIDM_4mu_1000GeV_5p0GeV_samples,\n",
    "    ]"
   ]
  },
  {
   "cell_type": "code",
   "execution_count": 3,
   "id": "21da5d67",
   "metadata": {
    "tags": []
   },
   "outputs": [],
   "source": [
    "#fname = '~/local_data/tta_mAlp-0p35GeV_ctau-1e3mm_part-0.root'\n",
    "samples = [   \n",
    "    #\"4mu_500GeV_5GeV_0p08mm\", # testing v1\n",
    "    #\"4mu_500GeV_5GeV_0p08mm\", # testing v2\n",
    "]\n",
    "#samples = samples + bg_samples\n",
    "for sublist in samples_sublists:\n",
    "    samples = samples + sublist\n",
    "\n",
    "merged_samples = [\n",
    "    \"4mu_500GeV_5GeV_0p08mm\",\n",
    "    \"4mu_500GeV_5GeV_0p8mm\",\n",
    "    \"4mu_500GeV_5GeV_8p0mm\",\n",
    "    \"4mu_500GeV_5GeV_40p0mm\",\n",
    "    \"4mu_500GeV_5GeV_80p0mm\"\n",
    "]\n",
    "\n",
    "fileset = utilities.make_fileset(samples, \"llpNanoAOD_v2\", max_files=1)\n",
    "#fileset = utilities.make_fileset(merged_samples, \"llpNanoAOD_v2_merged\")\n",
    "\n",
    "# create events collection from single file\n",
    "fname = fileset[samples[0]][0]\n",
    "events = NanoEventsFactory.from_root(\n",
    "    fname,\n",
    "    schemaclass=NanoAODSchema,\n",
    ").events()"
   ]
  },
  {
   "cell_type": "code",
   "execution_count": 4,
   "id": "fc568b83",
   "metadata": {
    "tags": []
   },
   "outputs": [],
   "source": [
    "fnames = [fileset[sample] for sample in samples]\n",
    "#for name in fnames:\n",
    "    #print(name[0])"
   ]
  },
  {
   "cell_type": "code",
   "execution_count": 14,
   "id": "bbf12a5e",
   "metadata": {
    "tags": []
   },
   "outputs": [
    {
     "name": "stdout",
     "output_type": "stream",
     "text": [
      "{0.0, 1.0, 2.0, 3.0, 4.0}\n",
      "[{idx: 0, pt: 60.7, ptErr: 14.5, eta: 1.85, ... nDTSegments: 0, nCSCSegments: 4}]\n",
      "[Muon, Muon, Muon, Muon, Muon]\n"
     ]
    },
    {
     "data": {
      "text/plain": [
       "<Array [[71, 72, 71], [58]] type='2 * var * int64'>"
      ]
     },
     "execution_count": 14,
     "metadata": {},
     "output_type": "execute_result"
    }
   ],
   "source": [
    "#print(events.DSAMuon.muonMatch1[0])\n",
    "#print(set(ak.flatten(events.DSAMuon.muonMatch1idx)))\n",
    "#print(events.DSAMuon[0])\n",
    "#print(events.Muon[0])\n",
    "#print(events.Muon[ak.values_astype(events.DSAMuon.muonMatch1idx, \"int64\")])\n",
    "a = ak.Array([[0, 1, 0], [1]])\n",
    "b = ak.Array([[71, 72], [59, 58, 57]])\n",
    "b[a]"
   ]
  },
  {
   "cell_type": "code",
   "execution_count": 15,
   "id": "eba6b9aa",
   "metadata": {
    "tags": []
   },
   "outputs": [
    {
     "name": "stdout",
     "output_type": "stream",
     "text": [
      "[[4, 4, 0, 4, 0], [3, 3, 3, 4, 0], [4, 3, ... 4, 3, 3], [2, 4, 4, 4], [4, 3, 4, 3]]\n",
      "[[1.72, 1.59, 1.76, 1.63, 0.0259], [-2.76, ... -2.2], [-2.9, 2.83, 2.79, -2.96]]\n"
     ]
    }
   ],
   "source": [
    "#print(events.DSAMuon.muonMatch1)\n",
    "#print(events.DSAMuon.muonMatch1idx)\n",
    "#print(ak.flatten(events.DSAMuon.muonMatch1idx))\n",
    "#print(events.DSAMuon.outerPhi)\n",
    "#print(events.Muon.outerPhi)\n",
    "#print(events.Muon[ak.values_astype(events.DSAMuon.muonMatch1idx, \"int64\")].outerPhi)\n",
    "#utilities.dR_outer(events.DSAMuon, events.Muon[ak.values_astype(events.DSAMuon.muonMatch1idx, \"int64\")])"
   ]
  },
  {
   "cell_type": "code",
   "execution_count": 16,
   "id": "a3be02e0",
   "metadata": {
    "tags": []
   },
   "outputs": [
    {
     "name": "stdout",
     "output_type": "stream",
     "text": [
      "[[{idx: 0, pt: 60.7, ptErr: 14.5, eta: 1.85, ... nDTSegments: 0, nCSCSegments: 3}]]\n"
     ]
    }
   ],
   "source": [
    "#from coffea.nanoevents.schemas.base import zip_forms\n",
    "from coffea.nanoevents.methods import vector as cvec\n",
    "from coffea.nanoevents.methods import nanoaod\n",
    "#print(events.Muon)\n",
    "#print([events.DSAMuon[x] for x in [\"pt\", \"eta\"]])\n",
    "print(events.DSAMuon)\n",
    "forms = {f : events.DSAMuon[f] for f in events.DSAMuon.fields}\n",
    "events.DSAMuon = ak.zip(forms, with_name=\"Muon\", behavior=nanoaod.behavior)\n",
    "#print(events.DSAMuon)\n",
    "#print(events.DSAMuon.nearest(events.Muon))"
   ]
  },
  {
   "cell_type": "code",
   "execution_count": 17,
   "id": "df65f05c",
   "metadata": {
    "scrolled": true,
    "tags": []
   },
   "outputs": [
    {
     "data": {
      "application/vnd.jupyter.widget-view+json": {
       "model_id": "29a6487b57284b4f878c80231e37729e",
       "version_major": 2,
       "version_minor": 0
      },
      "text/plain": [
       "Output()"
      ]
     },
     "metadata": {},
     "output_type": "display_data"
    },
    {
     "data": {
      "text/html": [
       "<pre style=\"white-space:pre;overflow-x:auto;line-height:normal;font-family:Menlo,'DejaVu Sans Mono',consolas,'Courier New',monospace\"></pre>\n"
      ],
      "text/plain": []
     },
     "metadata": {},
     "output_type": "display_data"
    },
    {
     "data": {
      "text/html": [
       "<pre style=\"white-space:pre;overflow-x:auto;line-height:normal;font-family:Menlo,'DejaVu Sans Mono',consolas,'Courier New',monospace\">\n",
       "</pre>\n"
      ],
      "text/plain": [
       "\n"
      ]
     },
     "metadata": {},
     "output_type": "display_data"
    },
    {
     "data": {
      "application/vnd.jupyter.widget-view+json": {
       "model_id": "ff9df8dec4c3430b808f2f389683af47",
       "version_major": 2,
       "version_minor": 0
      },
      "text/plain": [
       "Output()"
      ]
     },
     "metadata": {},
     "output_type": "display_data"
    },
    {
     "name": "stdout",
     "output_type": "stream",
     "text": [
      "Not applying any cuts to the lepton jets for channel baseNoLj\n"
     ]
    },
    {
     "name": "stderr",
     "output_type": "stream",
     "text": [
      "/opt/conda/lib/python3.9/site-packages/awkward/_connect/_numpy.py:195: RuntimeWarning: divide by zero encountered in divide\n",
      "  result = getattr(ufunc, method)(\n",
      "/opt/conda/lib/python3.9/site-packages/awkward/_connect/_numpy.py:195: RuntimeWarning: invalid value encountered in divide\n",
      "  result = getattr(ufunc, method)(\n"
     ]
    },
    {
     "name": "stdout",
     "output_type": "stream",
     "text": [
      "#--------------------------------------------------------------------------\n",
      "#                         FastJet release 3.4.0\n",
      "#                 M. Cacciari, G.P. Salam and G. Soyez                  \n",
      "#     A software package for jet finding and analysis at colliders      \n",
      "#                           http://fastjet.fr                           \n",
      "#\t                                                                      \n",
      "# Please cite EPJC72(2012)1896 [arXiv:1111.6097] if you use this package\n",
      "# for scientific work and optionally PLB641(2006)57 [hep-ph/0512210].   \n",
      "#                                                                       \n",
      "# FastJet is provided without warranty under the GNU GPL v2 or higher.  \n",
      "# It uses T. Chan's closest pair algorithm, S. Fortune's Voronoi code,\n",
      "# CGAL and 3rd party plugin jet algorithms. See COPYING file for details.\n",
      "#--------------------------------------------------------------------------\n",
      "Not applying any cuts to the lepton jets for channel baseNoLj\n",
      "Not applying any cuts to the lepton jets for channel baseNoLj\n",
      "Not applying any cuts to the lepton jets for channel baseNoLj\n",
      "Not applying any cuts to the lepton jets for channel baseNoLj\n",
      "Not applying any cuts to the lepton jets for channel baseNoLj\n",
      "Not applying any cuts to the lepton jets for channel baseNoLj\n",
      "Not applying any cuts to the lepton jets for channel baseNoLj\n",
      "Not applying any cuts to the lepton jets for channel baseNoLj\n",
      "Not applying any cuts to the lepton jets for channel baseNoLj\n",
      "Not applying any cuts to the lepton jets for channel baseNoLj\n",
      "Not applying any cuts to the lepton jets for channel baseNoLj\n",
      "Not applying any cuts to the lepton jets for channel baseNoLj\n",
      "Not applying any cuts to the lepton jets for channel baseNoLj\n",
      "Not applying any cuts to the lepton jets for channel baseNoLj\n"
     ]
    },
    {
     "data": {
      "text/html": [
       "<pre style=\"white-space:pre;overflow-x:auto;line-height:normal;font-family:Menlo,'DejaVu Sans Mono',consolas,'Courier New',monospace\"></pre>\n"
      ],
      "text/plain": []
     },
     "metadata": {},
     "output_type": "display_data"
    },
    {
     "data": {
      "text/html": [
       "<pre style=\"white-space:pre;overflow-x:auto;line-height:normal;font-family:Menlo,'DejaVu Sans Mono',consolas,'Courier New',monospace\">\n",
       "</pre>\n"
      ],
      "text/plain": [
       "\n"
      ]
     },
     "metadata": {},
     "output_type": "display_data"
    }
   ],
   "source": [
    "runner = processor.Runner(\n",
    "    #executor=processor.IterativeExecutor(),\n",
    "    #executor=processor.DaskExecutor(),\n",
    "    executor=processor.FuturesExecutor(),\n",
    "    schema=NanoAODSchema,\n",
    "    # maxchunks=1,\n",
    ")\n",
    "\n",
    "hist_menu = utilities.load_yaml(\"../configs/hist_collections.yaml\")\n",
    "hist_choice = \"base\"\n",
    "collection = utilities.flatten(hist_menu[hist_choice]) #To change the histograms used, swap \"base\" for the other collections\n",
    "p = sidm_processor.SidmProcessor(\n",
    "    [\n",
    "        \"baseNoLj\",\n",
    "        \"llpnano\",\n",
    "        \"llpnano_4mu\",\n",
    "        \"llpnano_3lj\",\n",
    "        \"matchedLj\"\n",
    "        #\"4mu\",\n",
    "        #\"4mutest\",\n",
    "        #\"barrelE_ID-DPhiIn\",\n",
    "    ],\n",
    "    [hist_choice],\n",
    "    lj_reco_choices=[\"0.4\"],\n",
    "    llpnanoaod=True,\n",
    ")\n",
    "\n",
    "output = runner.run(fileset, treename='Events', processor_instance=p)\n",
    "out = output[\"out\"]"
   ]
  },
  {
   "cell_type": "markdown",
   "id": "36bddc10",
   "metadata": {},
   "source": [
    "Issues with running llpNanoAODs:\n",
    "1. Seems like some of the v2 ntuple files don't work\n",
    "\n",
    "None of them can run channels 2mu2e or 4mu. --- I was able to make it work by adding an object-level cut on the muons (pT > 5 GeV). Not sure why this affected anything."
   ]
  },
  {
   "cell_type": "code",
   "execution_count": 18,
   "id": "be9d2e8e",
   "metadata": {
    "tags": []
   },
   "outputs": [
    {
     "ename": "KeyError",
     "evalue": "'TTJets'",
     "output_type": "error",
     "traceback": [
      "\u001b[0;31m---------------------------------------------------------------------------\u001b[0m",
      "\u001b[0;31mKeyError\u001b[0m                                  Traceback (most recent call last)",
      "Cell \u001b[0;32mIn[18], line 2\u001b[0m\n\u001b[1;32m      1\u001b[0m \u001b[38;5;66;03m#Add ttbar\u001b[39;00m\n\u001b[0;32m----> 2\u001b[0m keys \u001b[38;5;241m=\u001b[39m \u001b[38;5;28mlist\u001b[39m(\u001b[43moutput\u001b[49m\u001b[43m[\u001b[49m\u001b[38;5;124;43m'\u001b[39;49m\u001b[38;5;124;43mout\u001b[39;49m\u001b[38;5;124;43m'\u001b[39;49m\u001b[43m]\u001b[49m\u001b[43m[\u001b[49m\u001b[38;5;124;43m\"\u001b[39;49m\u001b[38;5;124;43mTTJets\u001b[39;49m\u001b[38;5;124;43m\"\u001b[39;49m\u001b[43m]\u001b[49m[\u001b[38;5;124m\"\u001b[39m\u001b[38;5;124mhists\u001b[39m\u001b[38;5;124m\"\u001b[39m]\u001b[38;5;241m.\u001b[39mkeys())[:]\n\u001b[1;32m      3\u001b[0m TT_Hists \u001b[38;5;241m=\u001b[39m {k: output[\u001b[38;5;124m'\u001b[39m\u001b[38;5;124mout\u001b[39m\u001b[38;5;124m'\u001b[39m][\u001b[38;5;124m\"\u001b[39m\u001b[38;5;124mTTJets\u001b[39m\u001b[38;5;124m\"\u001b[39m][\u001b[38;5;124m\"\u001b[39m\u001b[38;5;124mhists\u001b[39m\u001b[38;5;124m\"\u001b[39m][k] \u001b[38;5;28;01mfor\u001b[39;00m k \u001b[38;5;129;01min\u001b[39;00m keys}\n\u001b[1;32m      5\u001b[0m keys \u001b[38;5;241m=\u001b[39m \u001b[38;5;28mlist\u001b[39m(output[\u001b[38;5;124m'\u001b[39m\u001b[38;5;124mout\u001b[39m\u001b[38;5;124m'\u001b[39m][\u001b[38;5;124m\"\u001b[39m\u001b[38;5;124mTTJets\u001b[39m\u001b[38;5;124m\"\u001b[39m][\u001b[38;5;124m\"\u001b[39m\u001b[38;5;124mcutflow\u001b[39m\u001b[38;5;124m\"\u001b[39m]\u001b[38;5;241m.\u001b[39mkeys())[:]\n",
      "\u001b[0;31mKeyError\u001b[0m: 'TTJets'"
     ]
    }
   ],
   "source": [
    "#Add ttbar\n",
    "keys = list(output['out'][\"TTJets\"][\"hists\"].keys())[:]\n",
    "TT_Hists = {k: output['out'][\"TTJets\"][\"hists\"][k] for k in keys}\n",
    "\n",
    "keys = list(output['out'][\"TTJets\"][\"cutflow\"].keys())[:]\n",
    "TT_Cutflow = {k: output['out'][\"TTJets\"][\"cutflow\"][k] for k in keys}"
   ]
  },
  {
   "cell_type": "code",
   "execution_count": null,
   "id": "18df61a5",
   "metadata": {},
   "outputs": [],
   "source": [
    "#This defines a function to break down the samples and make individual subplots for each one.\n",
    "#Fix: should set the specific range as a parameter. For now, it uses [ :1200j]. Could be an issue in the future.\n",
    "def plotSamples(hists, channel, errorBars, densityPlot, sample_0=samples, fullBg=False):\n",
    "    samples = []\n",
    "    if channel == \"2mu2e\":\n",
    "        for sample in sample_0:\n",
    "            if sample[0] != '4':\n",
    "                samples.append(sample)\n",
    "    elif channel == \"4mu\":\n",
    "        for sample in sample_0:\n",
    "            if sample[0] != '2':\n",
    "                samples.append(sample)\n",
    "    else:\n",
    "        for sample in sample_0:\n",
    "            samples.append(sample)\n",
    "    nplots = len(samples)\n",
    "    nhists = len(hists)\n",
    "    if (nplots <= 6): ncol, nrow = nplots, 1\n",
    "    else: ncol, nrow = 6, (nplots-1)//6 + 1\n",
    "    plt.subplots(nrow, ncol, figsize=(ncol*12, nrow*9))\n",
    "    plt.rcParams['font.size'] = 16\n",
    "    DY_Flag = QCD_Flag = DB_Flag = TT_Flag = Tot_BG_Flag = False\n",
    "    Tot_BG_Flag = not fullBg\n",
    "    for i in range(nplots):\n",
    "        plt.subplot(nrow, ncol, i+1)\n",
    "        j = 0\n",
    "        if \"DY_Jets\" in samples and DY_Flag == False:\n",
    "            for j in range(nhists):\n",
    "                utilities.plot(DY_Hists[hists[j]][channel, :], yerr=errorBars, density=densityPlot, flow='none')\n",
    "                DY_Flag = True\n",
    "        elif \"QCD_Jets\" in samples and QCD_Flag == False:\n",
    "            for j in range(nhists):\n",
    "                utilities.plot(QCD_Hists[hists[j]][channel, :], yerr=errorBars, density=densityPlot, flow='none')\n",
    "                QCD_Flag = True\n",
    "        elif \"DiBoson_Jets\" in samples and DB_Flag == False:\n",
    "            for j in range(nhists):\n",
    "                utilities.plot(DiBoson_Hists[hists[j]][channel, :], yerr=errorBars, density=densityPlot, flow='none')\n",
    "                DB_Flag = True\n",
    "        elif \"TTJets\" in samples and TT_Flag == False:\n",
    "            for j in range(nhists):\n",
    "                utilities.plot(TT_Hists[hists[j]][channel, :], yerr=errorBars, density=densityPlot, flow='none')\n",
    "                TT_Flag = True\n",
    "        elif \"Total Background\" in samples and Tot_BG_Flag == False:\n",
    "            for j in range(nhists):\n",
    "                utilities.plot(bg_Hists[hists[j]][channel, :], yerr=errorBars, density=densityPlot, flow='none')\n",
    "                Tot_BG_Flag = True\n",
    "        else:\n",
    "            for j in range(nhists):\n",
    "                utilities.plot(out[samples[i]][\"hists\"][hists[j]][channel, :], yerr=errorBars, density=densityPlot, flow='none')\n",
    "        plt.legend(hists)\n",
    "        plt.title(samples[i])"
   ]
  },
  {
   "cell_type": "code",
   "execution_count": null,
   "id": "3329f8f3",
   "metadata": {
    "tags": []
   },
   "outputs": [],
   "source": [
    "#This function plots each histogram on a separate subplot, showing all samples on each subplot\n",
    "def plotHists(hists, channel, errorBars, densityPlot, sample_0=samples, fullBg=False):\n",
    "    samples = []\n",
    "    if channel == \"2mu2e\":\n",
    "        for sample in sample_0:\n",
    "            if sample[0] != '4':\n",
    "                samples.append(sample)\n",
    "    elif channel == \"4mu\":\n",
    "        for sample in sample_0:\n",
    "            if sample[0] != '2':\n",
    "                samples.append(sample)\n",
    "    else:\n",
    "        for sample in sample_0:\n",
    "            samples.append(sample)\n",
    "    nplots = len(hists)\n",
    "    if (nplots <= 5): ncol, nrow = nplots, 1\n",
    "    else: ncol, nrow = 4, (nplots-1)//4 + 1\n",
    "    plt.subplots(nrow, ncol, figsize=(ncol*12, nrow*9))\n",
    "    plt.rcParams['font.size'] = 16\n",
    "    for i in range(nplots):\n",
    "        DY_Flag = QCD_Flag = DB_Flag = TT_Flag = Tot_BG_Flag = False\n",
    "        plt.subplot(nrow, ncol, i+1)\n",
    "        j = 0\n",
    "        while j < len(samples):\n",
    "            if \"DY_Jets\" in samples and DY_Flag == False:\n",
    "                utilities.plot(DY_Hists[hists[i]][channel, :], yerr=errorBars, density=densityPlot, flow='none')\n",
    "                DY_Flag = True\n",
    "            elif \"QCD_Jets\" in samples and QCD_Flag == False:\n",
    "                utilities.plot(QCD_Hists[hists[i]][channel, :], yerr=errorBars, density=densityPlot, flow='none')\n",
    "                QCD_Flag = True\n",
    "            elif \"DiBoson_Jets\" in samples and DB_Flag == False:\n",
    "                utilities.plot(DiBoson_Hists[hists[i]][channel, :], yerr=errorBars, density=densityPlot, flow='none')\n",
    "                DB_Flag = True\n",
    "            elif \"TTJets\" in samples and TT_Flag == False:\n",
    "                utilities.plot(TT_Hists[hists[i]][channel, :], yerr=errorBars, density=densityPlot, flow='none')\n",
    "                TT_Flag = True\n",
    "            elif \"Total Background\" in samples and Tot_BG_Flag == False:\n",
    "                utilities.plot(bg_Hists[hists[i]][channel, :], yerr=errorBars, density=densityPlot, flow='none')\n",
    "                Tot_BG_Flag = True\n",
    "            else:\n",
    "                utilities.plot(out[samples[j]][\"hists\"][hists[i]][channel, :], yerr=errorBars, density=densityPlot, flow='none')\n",
    "            j = j + 1\n",
    "        plt.legend(samples, prop={'size': 11})\n",
    "        plt.title(hists[i])"
   ]
  },
  {
   "cell_type": "code",
   "execution_count": 14,
   "id": "332f21da",
   "metadata": {
    "tags": []
   },
   "outputs": [
    {
     "name": "stdout",
     "output_type": "stream",
     "text": [
      "[[GenParticle, GenParticle], [GenParticle, ... [GenParticle, GenParticle]]\n",
      "[2, 2, 2, 2, 2, 2, 2, 2, 2, 2, 2, 2, 2, 2, ... 2, 2, 2, 2, 2, 2, 2, 2, 2, 2, 2, 2, 2]\n"
     ]
    }
   ],
   "source": [
    "#g = events.GenPart\n",
    "#print(g)\n",
    "#print(ak.count(g))\n",
    "#print(ak.num(g, axis=1))\n",
    "#print(ak.num(g, axis=0))\n",
    "#print(ak.num(g.children, axis=2))\n",
    "#g = g[ak.num(g.children, axis=2) > 0]\n",
    "#print(g.children[ak.num(g.children, axis=2) > 0][:, :, 0])\n",
    "#print(ak.count(ak.num(g.children, axis=2) > 0))\n",
    "#print(g.children[:, :, 0])\n",
    "#print((g - g.children[:, :, 0]))\n",
    "#print(ak.num(g.children))\n",
    "#print(ak.firsts(g.children))\n",
    "#print(ak.num(ak.firsts(g.children)))\n",
    "#print(~ak.is_none(ak.firsts(g.children)))\n",
    "#print((g - g.children[:, :, 0]).r)\n",
    "#print(g.pdgId)\n",
    "#zd = g[g.pdgId == 32]\n",
    "#ak.num(zd.children)\n",
    "#print(zd)\n",
    "#zd_lxy = (zd - ak.firsts(zd.children)).r\n",
    "#print(zd_lxy)\n",
    "#print(ak.num(zd_lxy, axis=1))\n",
    "zd = events.GenPart[abs(events.GenPart.pdgId) == 32]\n",
    "print(zd)\n",
    "print(ak.num(zd))"
   ]
  },
  {
   "cell_type": "code",
   "execution_count": null,
   "id": "bf663434",
   "metadata": {
    "tags": []
   },
   "outputs": [],
   "source": [
    "fraction = False\n",
    "\n",
    "for sublist in samples_sublists:\n",
    "    cutflows = [out[\"TTJets\"][\"cutflow\"][\"matchedLj\"]]\n",
    "    headers = [\"TTJets\"]\n",
    "    delimiter = '.'\n",
    "    for sample in sublist:\n",
    "        cutflows.append(out[sample][\"cutflow\"][\"matchedLj\"])\n",
    "        if '_' in sample:\n",
    "            headers.append(sample.split('_')[1] + delimiter + sample.split('_')[2] + delimiter + sample.split('_')[-1])\n",
    "        else:\n",
    "            headers.append(sample)\n",
    "    title = \"Basic cuts - fractional\" if fraction else \"Basic cuts\"\n",
    "    title = title + ' for ' + sublist[0].split('_')[1] + ' mass bound state and ' + sublist[0].split(\"_\")[2] + ' mass dark photon'\n",
    "    cutflow.print_multi_table(cutflows, headers, fraction, False, title)"
   ]
  },
  {
   "cell_type": "code",
   "execution_count": null,
   "id": "64215d69",
   "metadata": {
    "tags": []
   },
   "outputs": [],
   "source": [
    "histlist = [\"pv_n\", \"pv_ndof\", \"pv_z\"]\n",
    "#plotSamples(histlist, \"llpnano\", False, True)"
   ]
  },
  {
   "cell_type": "code",
   "execution_count": null,
   "id": "bcee9a16",
   "metadata": {
    "tags": []
   },
   "outputs": [],
   "source": [
    "histlist = []\n",
    "samples_used = [sample for sample in samples[1:2]]\n",
    "for hist in collection: \n",
    "    if \"phi\" in hist:\n",
    "        histlist.append(hist)\n",
    "histlist.remove(\"abcd_lj_lj_dphi_vs_lj0_pfIsolationPt05\")\n",
    "#histlist = histlist[:-9] \n",
    "print(histlist)\n",
    "plt.subplots(2, 3, figsize=(30,18))\n",
    "for i in range(len(histlist[:-1])):\n",
    "    plt.subplot(2,3,i+1)\n",
    "    if \"eta_phi\" in histlist[i]:\n",
    "        for sample in samples_used:\n",
    "            utilities.plot(out[sample][\"hists\"][histlist[i]][\"llpnano\", :, :], flow='none')\n",
    "    else:\n",
    "        for sample in samples_used:\n",
    "            utilities.plot(out[sample][\"hists\"][histlist[i]][\"llpnano\", :], density=True, yerr=False, flow='none')\n",
    "    plt.title(histlist[i])\n",
    "    plt.legend(samples_used)"
   ]
  },
  {
   "cell_type": "code",
   "execution_count": null,
   "id": "d0498d34",
   "metadata": {
    "tags": []
   },
   "outputs": [],
   "source": [
    "\n",
    "#histlist = []\n",
    "#for hist in collection: \n",
    "#    if \"eta_phi\" not in hist:\n",
    "#        histlist.append(hist)\n",
    "\n",
    "#histlist.remove(\"abcd_lj_lj_dphi_vs_lj0_pfIsolationPt05\") #All removed histrograms returned a \"wrong number of indices\" error\n",
    "#histlist = histlist[:-9] \n",
    "# The last 9 histograms were empty, and each histogram plotted on each axis returned a warning (with ~30 samples & 9 histograms, this is ~270 times)\n",
    "# Warnings for each hist were \"cannot compute error bars\" \"invalid value in *= scale\" \"divide by zero encountered\", comes to ~750 error messages\n",
    "#plotHists(histlist, \"llpnano_4mu\", False, True)"
   ]
  },
  {
   "cell_type": "code",
   "execution_count": null,
   "id": "01ef2279",
   "metadata": {},
   "outputs": [],
   "source": [
    "#samples_used = [sample for sample in samples[1:]]\n",
    "samples_used = [sample for sample in samples]\n",
    "\n",
    "ymax1 = ymax2 = 0\n",
    "ymin1 = ymin2 = 10000000000\n",
    "for sample in samples_used:\n",
    "    if out[sample][\"cutflow\"][\"llpnano_4mu\"].cut_breakdown()[0] > ymax1:\n",
    "        ymax1 = out[sample][\"cutflow\"][\"llpnano_4mu\"].cut_breakdown()[0]\n",
    "    if out[sample][\"cutflow\"][\"llpnano_4mu\"].cut_breakdown()[-1] < ymin1:\n",
    "        ymin1 = out[sample][\"cutflow\"][\"llpnano_4mu\"].cut_breakdown()[-1]\n",
    "        \n",
    "for sample in samples_used[1:]:\n",
    "    if out[sample][\"cutflow\"][\"llpnano_4mu\"].cut_breakdown()[0] > ymax2:\n",
    "        ymax2 = out[sample][\"cutflow\"][\"llpnano_4mu\"].cut_breakdown()[0]\n",
    "    if out[sample][\"cutflow\"][\"llpnano_4mu\"].cut_breakdown()[-1] < ymin2:\n",
    "        ymin2 = out[sample][\"cutflow\"][\"llpnano_4mu\"].cut_breakdown()[-1]\n",
    "        \n",
    "ylimits1 = [ymin1*0.9, ymax1*1.1]\n",
    "ylimits2 = [ymin2*0.9, ymax2*1.1]\n",
    " ############## Parameters ################\n",
    "giveFraction = True\n",
    "log = False\n",
    "legend = False\n",
    " ##########################################\n",
    "if giveFraction:\n",
    "    ylimits1 = [0.1,110]\n",
    "    ylimits2 = [0.1,110]\n",
    "    if log:\n",
    "        ylimits1 = [0.1,120]\n",
    "        ylimits2 = [10,120]\n",
    "\n",
    "plt.subplots(2,2,figsize=(24,18))\n",
    "\n",
    "plt.subplot(2,2,1)\n",
    "temp = [out[sample][\"cutflow\"][\"llpnano\"].cut_breakdown(fraction=giveFraction) for sample in samples_used]\n",
    "sample_list = samples_used\n",
    "cutlabels = out[samples_used[0]][\"cutflow\"][\"llpnano\"].cut_breakdown(giveCuts=True)\n",
    "for i in range(len(temp)):\n",
    "    plt.plot(cutlabels, temp[i])\n",
    "if legend:\n",
    "    plt.legend(sample_list, prop={'size': 11})\n",
    "plt.title(\"Events cut by selection\")\n",
    "if log:\n",
    "    plt.yscale(\"log\")\n",
    "plt.ylim(ylimits1)\n",
    "plt.xticks(rotation=20)\n",
    "\n",
    "plt.subplot(2,2,2)\n",
    "temp = [out[sample][\"cutflow\"][\"llpnano_4mu\"].cut_breakdown(fraction=giveFraction) for sample in samples_used]\n",
    "sample_list = samples_used\n",
    "cutlabels = out[samples_used[0]][\"cutflow\"][\"llpnano_4mu\"].cut_breakdown(giveCuts=True)\n",
    "for i in range(len(temp)):\n",
    "    plt.plot(cutlabels, temp[i])\n",
    "if legend:\n",
    "    plt.legend(sample_list, prop={'size': 11})\n",
    "plt.title(\"Events cut by selection\")\n",
    "if log:\n",
    "    plt.yscale(\"log\")\n",
    "plt.ylim(ylimits1)\n",
    "plt.xticks(rotation=20)\n",
    "\n",
    "\n",
    "plt.subplot(2,2,3)\n",
    "temp = [out[sample][\"cutflow\"][\"llpnano_3lj\"].cut_breakdown(fraction=giveFraction) for sample in samples_used]\n",
    "sample_list = samples_used\n",
    "cutlabels = out[samples_used[0]][\"cutflow\"][\"llpnano_3lj\"].cut_breakdown(giveCuts=True)\n",
    "for i in range(len(temp)):\n",
    "    plt.plot(cutlabels, temp[i])\n",
    "if legend:\n",
    "    plt.legend(sample_list, prop={'size': 11})\n",
    "plt.title(\"SIDM Events cut by selection\")\n",
    "if log:\n",
    "    plt.yscale(\"log\")\n",
    "plt.ylim(ylimits2)\n",
    "plt.xticks(rotation=20)\n",
    "\n",
    "plt.subplot(2,2,4)\n",
    "temp = [out[sample][\"cutflow\"][\"matchedLj\"].cut_breakdown(fraction=giveFraction) for sample in samples_used]\n",
    "sample_list = samples_used\n",
    "cutlabels = out[samples_used[0]][\"cutflow\"][\"matchedLj\"].cut_breakdown(giveCuts=True)\n",
    "for i in range(len(temp)):\n",
    "    plt.plot(cutlabels, temp[i])\n",
    "if legend:\n",
    "    plt.legend(sample_list, prop={'size': 11})\n",
    "plt.title(\"SIDM Events cut by selection\")\n",
    "if log:\n",
    "    plt.yscale(\"log\")\n",
    "plt.ylim(ylimits2)\n",
    "plt.xticks(rotation=20)"
   ]
  },
  {
   "cell_type": "markdown",
   "id": "80739eff",
   "metadata": {},
   "source": [
    "Judging by this, the cutflow (which is similar to the 4mu set) doesn't significantly impact the samples, but cuts the background TTbar by about 2 orders of magnitude. However, unlike the ffntuples, this TTbar set is much more significant after the cuts, keeping 33 percent instead of being cut down to zero. Applying the 4mu cut brings the background level to about 3 percent, which is still higher than that found in the ffntuples.\n",
    "\n",
    "I've added a second channel, llpnano_4mu, to try to alleviate this. While some of the cuts impact the SIDM samples (especially a requirement that there be >=4 muons in each event), they drastically reduce the remaining background down to about 0.25%. The purple line above (which is removed from the second row) shows the change in TTbar events through the cutflow. The second row is a zoomed in look at the SIDM samples throughout.\n",
    "\n",
    "After adding several more samples, the >=4 muon requirement is a clear issue. While the TTbar fraction falls below 0.25%, some SIDM samples have below 20% efficiency with this cut. It has been changed to a >=3 muon cut.\n",
    "\n",
    "This change makes the SIDM lowest efficency 48 percent, with the most \"damaging\" cut still the >=3 muons. It is also now removed and replaced with a >=2 muon cut. After this, all the SIDM samples had efficiencies of above 60%, which is very close to that left after the >=2 lepton jet cut. At this point, the muon requirement is no longer a serious issue for efficiency, but removes a great deal of background, leaving 2% efficiency for TTbar.\n",
    "\n",
    "Another possible cut is placing a limit on the quantity lj_lj_invmass to be greater than 100 GeV. Nearly all SIDM events are generated with larger invariant mass (as the smallest samples have a 100 GeV bound state), while the background extends well below. A cut at 200 GeV would remove nearly all of the background, at the cost of losing the lighter SIDM samples.\n",
    "\n",
    "Next Steps:\n",
    "Continue plotting ljs, start finding attributes of the lepton jet contents (e.g. muons, photons, electrons in the jets). Try defining the attributes for histograms that do not plot."
   ]
  },
  {
   "cell_type": "code",
   "execution_count": null,
   "id": "5d7b5ac6",
   "metadata": {
    "tags": []
   },
   "outputs": [],
   "source": [
    "utilities.plot([out[\"TTJets\"][\"hists\"][\"lj_lj_invmass_lowRange\"][\"llpnano\", :], out[samples[2]][\"hists\"][\"lj_lj_invmass_lowRange\"][\"llpnano\", :]], density=True)\n",
    "plt.legend([\"TTJets\", samples[2]])\n",
    "#plt.xlim([0,100])"
   ]
  },
  {
   "cell_type": "markdown",
   "id": "efe9f607",
   "metadata": {},
   "source": [
    "The next section replicates some of the plots used in the ffntuple background analysis. These include the number of lepton jets found, the invariant mass of the lepton jets, the magnitude of the delta-phi in the lepton jets, and a measure of the isolation of the jets. The plots differ from the SIDM samples in the ffntuple sets in several meaningful ways. Most obviously, the isolation plot does not generate. This may be due to isolation being calculated differently, and may be an important fix to make to the processor when it generates histograms.\n",
    "\n",
    "Second, there is a large peak of several samples with low |deltaPhi|. These are not background, and are searched for below this. These peaks are made up exclusively of the most collimated samples from the 800 and 500 GeV mass bound states. The lower-mass bound states also have a noticable shift towards lower dPhi values. I don't know why these have such a large offset and all other samples are clustered around 3.14.\n",
    "\n",
    "Third, there are noticably more lepton jets found in these samples. The lj_n histogram have a maximum of 5 lepton jets per event, while the ffntuple version of this plot only has 0-2, with a very small number of events having three lepton jets. This may indicate a bias in the geration of the ffntuples, where they are restricted to contain only the SIDM process, without other lepton jets present.\n",
    "\n",
    "(This code does not attempt to plot the isolation histogram, since it produces several error messages per sample, coming out to hundreds of lines of messages. Regardless, the axes were empty when the plot was attempted.)\n",
    "\n",
    "The increase in lepton_jet_n and the low deltaPhi might both be due to issues with the clustering algorithm; if one lepton jet is incorrectly identified as two, they would appear close to each other as well as appearing to have more jets. However, applying the new llpnano_3lj cut, which removes any events with 4 or more lepton jets, does not change the profiles of the histograms at all (besides, of course, the lj_n one)."
   ]
  },
  {
   "cell_type": "code",
   "execution_count": 21,
   "id": "7f5f3b3b",
   "metadata": {
    "tags": []
   },
   "outputs": [
    {
     "data": {
      "image/png": "[encoded data removed]",
      "text/plain": [
       "<Figure size 1800x600 with 4 Axes>"
      ]
     },
     "metadata": {},
     "output_type": "display_data"
    }
   ],
   "source": [
    "samples_used = [sample for sample in samples[1:2]]\n",
    "#samples_used.append(\"TTJets\")\n",
    "hists_used = [\"lj_n\", \"lj_lj_invmass\", \"lj_lj_absdphi\"]#\"lj_pfIsolation07\"]\n",
    "plt.subplots(1,4,figsize=(36,12))\n",
    "for i in range(len(hists_used)):\n",
    "    plt.subplot(1,4,i+1)\n",
    "    for sample in samples_used:\n",
    "        utilities.plot(out[sample][\"hists\"][hists_used[i]][\"llpnano\", :], density=True, flow='none')\n",
    "    plt.legend(samples_used, prop={'size': 12}, ncol=2)\n",
    "    \n",
    "#plotHists([\"lj_n\", \"lj_lj_invmass\", \"lj_lj_absdphi\", \"lj_pfIsolation07\"], \"baseNoLj\", True, True, samples_used)"
   ]
  },
  {
   "cell_type": "code",
   "execution_count": null,
   "id": "ec936697",
   "metadata": {
    "tags": []
   },
   "outputs": [],
   "source": [
    "samples_used = [sample for sample in samples[60:65]]\n",
    "#samples_used.append(\"TTJets\")\n",
    "hists_used = [\"lj_lj_absdphi\"]\n",
    "plt.subplots(1,2,figsize=(30,16))\n",
    "plt.subplot(1,2,1)\n",
    "for sample in samples_used:\n",
    "    utilities.plot(out[sample][\"hists\"][hists_used[0]][\"llpnano\", :], density=False, flow='none')\n",
    "plt.legend(samples_used, prop={'size': 16}, ncol=2)\n",
    "plt.title(\"Base Cuts\")\n",
    "plt.subplot(1,2,2)\n",
    "for sample in samples_used:\n",
    "    utilities.plot(out[sample][\"hists\"][hists_used[0]][\"llpnano_3lj\", :], density=False, flow='none')\n",
    "plt.legend(samples_used, prop={'size': 16}, ncol=2)\n",
    "plt.title(\"Base Cuts + <= 3 LJs\")"
   ]
  },
  {
   "cell_type": "code",
   "execution_count": null,
   "id": "574d3bc4",
   "metadata": {
    "tags": []
   },
   "outputs": [],
   "source": [
    "samples_used = [sample for sample in samples[45:49]]\n",
    "#samples_used.append(\"TTJets\")\n",
    "hists_used = [\"lj_lj_absdphi\"]\n",
    "plt.subplots(1,2,figsize=(30,16))\n",
    "plt.subplot(1,2,1)\n",
    "for sample in samples_used:\n",
    "    utilities.plot(out[sample][\"hists\"][hists_used[0]][\"llpnano\", :], density=True, flow='none')\n",
    "plt.legend(samples_used, prop={'size': 16}, ncol=2)\n",
    "plt.subplot(1,2,2)\n",
    "for sample in samples_used:\n",
    "    utilities.plot(out[sample][\"hists\"][hists_used[0]][\"llpnano_3lj\", :], density=True, flow='none')\n",
    "plt.legend(samples_used, prop={'size': 16}, ncol=2)"
   ]
  },
  {
   "cell_type": "code",
   "execution_count": null,
   "id": "4dbf7056",
   "metadata": {
    "tags": []
   },
   "outputs": [],
   "source": [
    "samples_remove = [sample for sample in samples[59:64]]\n",
    "samples_used = [sample for sample in samples[45:49]]\n",
    "\n",
    "#for sample in samples_remove:\n",
    "#    samples_used.remove(sample)\n",
    "#samples_used.append(\"TTJets\")\n",
    "hists_used = [\"lj_lj_absdphi\"]\n",
    "plt.subplots(1,1,figsize=(16,16))\n",
    "for i in range(len(hists_used)):\n",
    "    plt.subplot(1,1,1)\n",
    "    for sample in samples_used:\n",
    "        utilities.plot(out[sample][\"hists\"][hists_used[i]][\"llpnano\", :], density=True, flow='none')\n",
    "    plt.legend(samples_used, prop={'size': 18}, ncol=2, loc=1)"
   ]
  },
  {
   "cell_type": "code",
   "execution_count": null,
   "id": "da8a2fe3",
   "metadata": {
    "tags": []
   },
   "outputs": [],
   "source": [
    "samples_remove = [sample for sample in samples[59:64]]\n",
    "samples_remove2 = [sample for sample in samples[45:49]]\n",
    "samples_used = [sample for sample in samples[1:]]\n",
    "\n",
    "for sample in samples_remove:\n",
    "    samples_used.remove(sample)\n",
    "for sample in samples_remove2:\n",
    "    samples_used.remove(sample)\n",
    "    \n",
    "samples_used.append(\"TTJets\")\n",
    "hists_used = [\"lj_lj_absdphi\"]\n",
    "plt.subplots(1,2,figsize=(30,12))\n",
    "plt.subplot(1,2,1)\n",
    "for sample in samples_used:\n",
    "    utilities.plot(out[sample][\"hists\"][hists_used[0]][\"llpnano_4mu\", :], density=True, flow='none')\n",
    "plt.legend(samples_used, prop={'size': 6}, ncol=2)\n",
    "plt.title(\"Density Plot\")\n",
    "plt.subplot(1,2,2)\n",
    "for sample in samples_used:\n",
    "    utilities.plot(out[sample][\"hists\"][hists_used[0]][\"llpnano_4mu\", :], density=False, flow='none')\n",
    "plt.legend(samples_used, prop={'size': 6}, ncol=2)   \n",
    "plt.title(\"Weighted Events\")"
   ]
  },
  {
   "cell_type": "code",
   "execution_count": null,
   "id": "f895f69a",
   "metadata": {
    "tags": []
   },
   "outputs": [],
   "source": [
    "samples_remove = [sample for sample in samples[59:64]]\n",
    "samples_remove2 = [sample for sample in samples[45:49]]\n",
    "samples_used = [sample for sample in samples[1:]]\n",
    "\n",
    "for sample in samples_remove:\n",
    "    samples_used.remove(sample)\n",
    "for sample in samples_remove2:\n",
    "    samples_used.remove(sample)\n",
    "    \n",
    "samples_used.append(\"TTJets\")\n",
    "hists_used = [\"lj_lj_absdphi\"]\n",
    "plt.subplots(1,2,figsize=(30,12))\n",
    "plt.subplot(1,2,1)\n",
    "for sample in samples_used:\n",
    "    utilities.plot(out[sample][\"hists\"][hists_used[0]][\"llpnano_4mu\", :], density=True, flow='none')\n",
    "plt.legend(samples_used, prop={'size': 6}, ncol=2)\n",
    "plt.title(\"Density Plot\")\n",
    "plt.subplot(1,2,2)\n",
    "for sample in samples_used:\n",
    "    utilities.plot(out[sample][\"hists\"][hists_used[0]][\"llpnano_4mu\", :], density=False, flow='none')\n",
    "plt.legend(samples_used, prop={'size': 6}, ncol=2)   \n",
    "plt.title(\"Weighted Events\")"
   ]
  },
  {
   "cell_type": "code",
   "execution_count": null,
   "id": "fc9841cc",
   "metadata": {
    "tags": []
   },
   "outputs": [],
   "source": [
    "samples_remove = [sample for sample in samples[59:64]]\n",
    "samples_remove2 = [sample for sample in samples[45:49]]\n",
    "samples_used = [sample for sample in samples[1:]]\n",
    "\n",
    "for sample in samples_remove:\n",
    "    samples_used.remove(sample)\n",
    "for sample in samples_remove2:\n",
    "    samples_used.remove(sample)\n",
    "    \n",
    "samples_used.append(\"TTJets\")\n",
    "hists_used = [\"lj_lj_absdphi\"]\n",
    "plt.subplots(1,2,figsize=(30,12))\n",
    "plt.subplot(1,2,1)\n",
    "for sample in samples_used:\n",
    "    utilities.plot(out[sample][\"hists\"][hists_used[0]][\"llpnano\", :], density=True, flow='none')\n",
    "plt.legend(samples_used, prop={'size': 6}, ncol=2)\n",
    "plt.title(\"llpnano channel\")\n",
    "plt.subplot(1,2,2)\n",
    "for sample in samples_used:\n",
    "    utilities.plot(out[sample][\"hists\"][hists_used[0]][\"llpnano_4mu\", :], density=True, flow='none')\n",
    "plt.legend(samples_used, prop={'size': 6}, ncol=2)   \n",
    "plt.title(\"llpnano_4mu channel\")\n",
    "print(out[samples_used[0]][\"cutflow\"][\"llpnano\"].cut_breakdown(giveCuts=True))\n",
    "print(out[samples_used[0]][\"cutflow\"][\"llpnano_4mu\"].cut_breakdown(giveCuts=True))"
   ]
  },
  {
   "cell_type": "code",
   "execution_count": null,
   "id": "25754598",
   "metadata": {
    "tags": []
   },
   "outputs": [],
   "source": [
    "n=15\n",
    "samples_used = [sample for sample in samples[n:n+5]]\n",
    "\n",
    "samples_used.append(\"TTJets\")\n",
    "hists_used = [\"lj_lj_absdphi\"]\n",
    "plt.subplots(1,1,figsize=(14,14))\n",
    "for i in range(len(hists_used)):\n",
    "    plt.subplot(1,1,1)\n",
    "    for sample in samples_used:\n",
    "        utilities.plot(out[sample][\"hists\"][hists_used[i]][\"llpnano\", :], density=True, flow='none')\n",
    "    plt.legend(samples_used, prop={'size': 12}, ncol=2)"
   ]
  },
  {
   "cell_type": "code",
   "execution_count": null,
   "id": "5af01f97",
   "metadata": {
    "tags": []
   },
   "outputs": [],
   "source": [
    "n=30\n",
    "samples_used = [sample for sample in samples[n:n+4]]\n",
    "\n",
    "samples_used.append(\"TTJets\")\n",
    "hists_used = [\"lj_lj_absdphi\"]\n",
    "plt.subplots(1,1,figsize=(14,14))\n",
    "for i in range(len(hists_used)):\n",
    "    plt.subplot(1,1,1)\n",
    "    for sample in samples_used:\n",
    "        utilities.plot(out[sample][\"hists\"][hists_used[i]][\"llpnano\", :], density=True, flow='none')\n",
    "    plt.legend(samples_used, prop={'size': 12}, ncol=2, loc=1)"
   ]
  },
  {
   "cell_type": "code",
   "execution_count": null,
   "id": "ec3d8a92",
   "metadata": {
    "tags": []
   },
   "outputs": [],
   "source": [
    "samples_used = [sample for sample in samples if \"0p25GeV\" not in sample] # removing all 0.25 GeV Zd removes the peak near 0.\n",
    "hists_used = [\"lj_lj_absdphi\"]\n",
    "plt.subplots(1,1,figsize=(20,16))\n",
    "for i in range(len(hists_used)):\n",
    "    plt.subplot(1,1,1)\n",
    "    for sample in samples_used:\n",
    "        utilities.plot(out[sample][\"hists\"][hists_used[i]][\"llpnano\", :], density=True, flow='none')\n",
    "    plt.legend(samples_used, prop={'size': 8}, ncol=2)"
   ]
  },
  {
   "cell_type": "code",
   "execution_count": null,
   "id": "fbb7f875",
   "metadata": {
    "tags": []
   },
   "outputs": [],
   "source": [
    "samples_used_0p25 = [sample for sample in samples if \"0p25GeV\" in sample]\n",
    "samples_used_1p2 = [sample for sample in samples if \"1p2GeV\" in sample] \n",
    "samples_used_5p0 = [sample for sample in samples if \"5p0GeV\" in sample] \n",
    "\n",
    "hists_used = [\"lj_lj_absdphi\"]\n",
    "plt.subplots(1,3,figsize=(32,16))\n",
    "for i in range(len(hists_used)):\n",
    "    plt.subplot(1,3,1)\n",
    "    for sample in samples_used_0p25:\n",
    "        utilities.plot(out[sample][\"hists\"][hists_used[i]][\"llpnano\", :], density=True, flow='none')\n",
    "    plt.legend(samples_used_0p25, prop={'size': 11}, ncol=2, loc=1)\n",
    "    plt.title(\"0p25GeV_Zd\", fontsize = 20)\n",
    "    plt.subplot(1,3,2)\n",
    "    for sample in samples_used_1p2:\n",
    "        utilities.plot(out[sample][\"hists\"][hists_used[i]][\"llpnano\", :], density=True, flow='none')\n",
    "    plt.legend(samples_used_1p2, prop={'size': 12}, ncol=2, loc=9)\n",
    "    plt.title(\"1p2GeV_Zd\", fontsize = 20)\n",
    "    plt.subplot(1,3,3)\n",
    "    for sample in samples_used_5p0:\n",
    "        utilities.plot(out[sample][\"hists\"][hists_used[i]][\"llpnano\", :], density=True, flow='none')\n",
    "    plt.legend(samples_used_5p0, prop={'size': 12}, ncol=2, loc=9)\n",
    "    plt.title(\"5p0GeV_Zd\", fontsize = 20)"
   ]
  },
  {
   "cell_type": "code",
   "execution_count": null,
   "id": "d22110b1",
   "metadata": {
    "tags": []
   },
   "outputs": [],
   "source": [
    "samples_used_0p25 = [sample for sample in samples if \"0p25GeV\" in sample]\n",
    "samples_0p25_100 = [sample for sample in samples_used_0p25 if \"100GeV\" in sample]\n",
    "samples_0p25_200 = [sample for sample in samples_used_0p25 if \"200GeV\" in sample]\n",
    "samples_0p25_500 = [sample for sample in samples_used_0p25 if \"500GeV\" in sample]\n",
    "samples_0p25_800 = [sample for sample in samples_used_0p25 if \"800GeV\" in sample]\n",
    "samples_0p25_1000 = [sample for sample in samples_used_0p25 if \"1000GeV\" in sample]\n",
    "samples_used_0p25 = [samples_0p25_100, samples_0p25_200, samples_0p25_500, samples_0p25_800, samples_0p25_1000]\n",
    "plt.subplots(2,2,figsize=(30,30))\n",
    "for i in range(4):\n",
    "    plt.subplot(2, 2, i+1)\n",
    "    for sample in samples_used_0p25[i]:\n",
    "        utilities.plot(out[sample][\"hists\"][\"lj_lj_absdphi\"][\"llpnano\", :], density=True, flow='none')\n",
    "    plt.legend(samples_used_0p25[i], prop={'size': 16})\n",
    "    plt.title(f\"{samples_used_0p25[i][0].split('_')[1]}-0p25GeV Sample\", fontsize=24)"
   ]
  },
  {
   "cell_type": "code",
   "execution_count": null,
   "id": "cdb65dd6",
   "metadata": {
    "tags": []
   },
   "outputs": [],
   "source": [
    "samples_used_1p2 = [sample for sample in samples if \"1p2GeV\" in sample]\n",
    "samples_1p2_100 = [sample for sample in samples_used_1p2 if \"100GeV\" in sample]\n",
    "samples_1p2_200 = [sample for sample in samples_used_1p2 if \"200GeV\" in sample]\n",
    "samples_1p2_500 = [sample for sample in samples_used_1p2 if \"500GeV\" in sample]\n",
    "samples_1p2_800 = [sample for sample in samples_used_1p2 if \"800GeV\" in sample]\n",
    "samples_1p2_1000 = [sample for sample in samples_used_1p2 if \"1000GeV\" in sample]\n",
    "samples_used_1p2 = [samples_1p2_100, samples_1p2_200, samples_1p2_500, samples_1p2_800, samples_1p2_1000]\n",
    "plt.subplots(3,2,figsize=(30,30))\n",
    "for i in range(5):\n",
    "    plt.subplot(3, 2, i+1)\n",
    "    for sample in samples_used_1p2[i]:\n",
    "        utilities.plot(out[sample][\"hists\"][\"lj_lj_absdphi\"][\"llpnano\", :], density=True, flow='none')\n",
    "    plt.legend(samples_used_1p2[i], prop={'size': 16})\n",
    "    plt.title(f\"{samples_used_1p2[i][0].split('_')[1]}-1p2GeV Sample\", fontsize=24)"
   ]
  },
  {
   "cell_type": "code",
   "execution_count": null,
   "id": "acc321f3",
   "metadata": {
    "tags": []
   },
   "outputs": [],
   "source": [
    "samples_used = [sample for sample in samples]\n",
    "#samples_used.append(\"TTJets\")\n",
    "hists_used = [\"lj_n\"]\n",
    "plt.subplots(1,1,figsize=(24,16))\n",
    "for i in range(len(hists_used)):\n",
    "    plt.subplot(1,1,1)\n",
    "    for sample in samples_used:\n",
    "        utilities.plot(out[sample][\"hists\"][hists_used[i]][\"llpnano\", :8j], density=True, flow='none')\n",
    "    plt.legend(samples_used, prop={'size': 12}, ncol=2)"
   ]
  },
  {
   "cell_type": "code",
   "execution_count": null,
   "id": "024cd292",
   "metadata": {
    "tags": []
   },
   "outputs": [],
   "source": [
    "utilities.plot(out[\"TTJets\"][\"hists\"][hists_used[i]][\"llpnano\", :8j], density=True, flow='none')\n",
    "plt.legend([\"TTBar\"])"
   ]
  },
  {
   "cell_type": "code",
   "execution_count": null,
   "id": "9277dfc6",
   "metadata": {
    "tags": []
   },
   "outputs": [],
   "source": [
    "print(str([sample.split('_') for sample in merged_samples]))\n",
    "cutflow.print_multi_table([out[sample][\"cutflow\"][\"llpnano_4mu\"] for sample in merged_samples], [sample for sample in merged_samples], fraction=False)"
   ]
  },
  {
   "cell_type": "code",
   "execution_count": null,
   "id": "61532dfb",
   "metadata": {
    "tags": []
   },
   "outputs": [],
   "source": [
    "print(out[samples_used[0]][\"cutflow\"][\"llpnano_3lj\"].cut_breakdown(giveCuts=True))"
   ]
  },
  {
   "cell_type": "code",
   "execution_count": null,
   "id": "f049433f",
   "metadata": {
    "tags": []
   },
   "outputs": [],
   "source": [
    "#samples_used = [sample for sample in samples[1:]]\n",
    "samples_used = [sample for sample in merged_samples]\n",
    "\n",
    "ymax1 = ymax2 = 0\n",
    "ymin1 = ymin2 = 10000000000\n",
    "for sample in samples_used:\n",
    "    if out[sample][\"cutflow\"][\"llpnano_4mu\"].cut_breakdown()[0] > ymax1:\n",
    "        ymax1 = out[sample][\"cutflow\"][\"llpnano_4mu\"].cut_breakdown()[0]\n",
    "    if out[sample][\"cutflow\"][\"llpnano_4mu\"].cut_breakdown()[-1] < ymin1:\n",
    "        ymin1 = out[sample][\"cutflow\"][\"llpnano_4mu\"].cut_breakdown()[-1]\n",
    "        \n",
    "for sample in samples_used[1:]:\n",
    "    if out[sample][\"cutflow\"][\"llpnano_4mu\"].cut_breakdown()[0] > ymax2:\n",
    "        ymax2 = out[sample][\"cutflow\"][\"llpnano_4mu\"].cut_breakdown()[0]\n",
    "    if out[sample][\"cutflow\"][\"llpnano_4mu\"].cut_breakdown()[-1] < ymin2:\n",
    "        ymin2 = out[sample][\"cutflow\"][\"llpnano_4mu\"].cut_breakdown()[-1]\n",
    "        \n",
    "ylimits1 = [ymin1*0.9, ymax1*1.1]\n",
    "ylimits2 = [ymin2*0.9, ymax2*1.1]\n",
    " ############## Parameters ################\n",
    "giveFraction = False\n",
    "log = False\n",
    "legend = True\n",
    " ##########################################\n",
    "if giveFraction:\n",
    "    ylimits1 = [0.1,110]\n",
    "    ylimits2 = [0.1,110]\n",
    "    if log:\n",
    "        ylimits1 = [0.1,120]\n",
    "        ylimits2 = [10,120]\n",
    "\n",
    "plt.subplots(1,2,figsize=(24,12))\n",
    "\n",
    "plt.subplot(1,2,1)\n",
    "temp = [out[sample][\"cutflow\"][\"llpnano\"].cut_breakdown(fraction=giveFraction) for sample in samples_used]\n",
    "sample_list = samples_used\n",
    "cutlabels = out[samples_used[0]][\"cutflow\"][\"llpnano\"].cut_breakdown(giveCuts=True)\n",
    "for i in range(len(temp)):\n",
    "    plt.plot(cutlabels, temp[i])\n",
    "if legend:\n",
    "    plt.legend(sample_list, prop={'size': 11})\n",
    "plt.title(\"Events cut by selection\")\n",
    "if log:\n",
    "    plt.yscale(\"log\")\n",
    "plt.ylim(ylimits1)\n",
    "plt.xticks(rotation=20)\n",
    "\n",
    "plt.subplot(1,2,2)\n",
    "temp = [out[sample][\"cutflow\"][\"llpnano_4mu\"].cut_breakdown(fraction=giveFraction) for sample in samples_used]\n",
    "sample_list = samples_used\n",
    "cutlabels = out[samples_used[0]][\"cutflow\"][\"llpnano_4mu\"].cut_breakdown(giveCuts=True)\n",
    "for i in range(len(temp)):\n",
    "    plt.plot(cutlabels, temp[i])\n",
    "if legend:\n",
    "    plt.legend(sample_list, prop={'size': 11})\n",
    "plt.title(\"Events cut by selection\")\n",
    "if log:\n",
    "    plt.yscale(\"log\")\n",
    "plt.ylim(ylimits1)\n",
    "plt.xticks(rotation=20)"
   ]
  },
  {
   "cell_type": "code",
   "execution_count": 38,
   "id": "973b5d24",
   "metadata": {
    "tags": []
   },
   "outputs": [
    {
     "name": "stdout",
     "output_type": "stream",
     "text": [
      "['4mu_800GeV_0p25GeV_0p0025mm', '4mu_800GeV_0p25GeV_0p025mm', '4mu_800GeV_0p25GeV_0p25mm', '4mu_800GeV_0p25GeV_1p2mm', '4mu_800GeV_0p25GeV_2p5mm', '4mu_800GeV_1p2GeV_0p012mm', '4mu_800GeV_1p2GeV_0p12mm', '4mu_800GeV_1p2GeV_1p2mm', '4mu_800GeV_1p2GeV_6p0mm', '4mu_800GeV_1p2GeV_12p0mm', '4mu_800GeV_5p0GeV_0p05mm', '4mu_800GeV_5p0GeV_0p5mm', '4mu_800GeV_5p0GeV_5p0mm', '4mu_800GeV_5p0GeV_25p0mm', '4mu_800GeV_5p0GeV_50p0mm']\n"
     ]
    },
    {
     "data": {
      "image/png": "[encoded data removed]",
      "text/plain": [
       "<Figure size 600x600 with 1 Axes>"
      ]
     },
     "metadata": {},
     "output_type": "display_data"
    }
   ],
   "source": [
    "samples_used = [sample for sample in samples]\n",
    "print(samples)\n",
    "samples_used = [samples[0], samples[4], samples[2], samples[6]]\n",
    "#samples_used.append(\"TTJets\")\n",
    "hists_used = [\"lj_lj_absdphi\"]#\"lj_pfIsolation07\"]\n",
    "plt.subplots(1,1,figsize=(12,12))\n",
    "for i in range(len(hists_used)):\n",
    "    plt.subplot(1,1,i+1)\n",
    "    for sample in samples_used:\n",
    "        utilities.plot(out[sample][\"hists\"][hists_used[i]][\"llpnano\", :], density=False, flow='none')\n",
    "    plt.legend(samples_used, prop={'size': 12}, ncol=2)\n",
    "    \n",
    "#plotHists([\"lj_n\", \"lj_lj_invmass\", \"lj_lj_absdphi\", \"lj_pfIsolation07\"], \"baseNoLj\", True, True, samples_used)"
   ]
  }
 ],
 "metadata": {
  "kernelspec": {
   "display_name": "Python 3 (ipykernel)",
   "language": "python",
   "name": "python3"
  },
  "language_info": {
   "codemirror_mode": {
    "name": "ipython",
    "version": 3
   },
   "file_extension": ".py",
   "mimetype": "text/x-python",
   "name": "python",
   "nbconvert_exporter": "python",
   "pygments_lexer": "ipython3",
   "version": "3.9.18"
  }
 },
 "nbformat": 4,
 "nbformat_minor": 5
}
