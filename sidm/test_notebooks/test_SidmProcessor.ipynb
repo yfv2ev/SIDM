{
 "cells": [
  {
   "cell_type": "code",
   "execution_count": 1,
   "id": "f69faf8a-a712-4d71-a610-feee40fb8529",
   "metadata": {
    "tags": []
   },
   "outputs": [],
   "source": [
    "# python\n",
    "import sys\n",
    "import os\n",
    "import importlib\n",
    "# columnar analysis\n",
    "from coffea.nanoevents import NanoEventsFactory\n",
    "import awkward as ak\n",
    "# local\n",
    "sys.path.insert(1, os.path.join(sys.path[0], '../..')) # fixme: there must be a better way to handle this...\n",
    "from sidm.tools import ffschema, sidm_processor, utilities\n",
    "# always reload local modules to pick up changes during development\n",
    "importlib.reload(ffschema)\n",
    "importlib.reload(sidm_processor)\n",
    "importlib.reload(utilities)\n",
    "# plotting\n",
    "import matplotlib.pyplot as plt\n",
    "utilities.set_plot_style()"
   ]
  },
  {
   "cell_type": "code",
   "execution_count": 2,
   "id": "dcf88a93-3471-4aba-b1cd-e4effbe503ff",
   "metadata": {
    "tags": []
   },
   "outputs": [],
   "source": [
    "sample_dir = \"root://xcache//store/group/lpcmetx/SIDM/ffNtupleV4/2018/\"\n",
    "sample_name = \"SIDM_XXTo2ATo2Mu2E_mXX-100_mA-1p2_ctau-9p6\"\n",
    "sample_file = f\"{sample_dir}/{sample_name}_TuneCP5_13TeV-madgraph-pythia8/RunIIAutumn18DRPremix-102X_upgrade2018_realistic_v15-v1/210326_161703/0000/ffNtuple_1.root\"\n",
    "\n",
    "sample_name = '4mu_500GeV_5GeV_0p08mm'\n",
    "samples = [sample_name]\n",
    "fileset = utilities.make_fileset(samples, \"llpNanoAOD_v2\")\n",
    "# create events collection from single file\n",
    "fname = fileset[samples[0]][0]\n",
    "\n",
    "events = NanoEventsFactory.from_root(\n",
    "    sample_file,\n",
    "    treepath='ffNtuplizer/ffNtuple',\n",
    "    schemaclass=ffschema.FFSchema,\n",
    "    metadata = {\n",
    "        \"dataset\": sample_name, \n",
    "    },\n",
    ").events()"
   ]
  },
  {
   "cell_type": "code",
   "execution_count": 4,
   "id": "d67db205-7dc5-42b8-b10c-e6e7cbc7602a",
   "metadata": {
    "tags": []
   },
   "outputs": [
    {
     "name": "stdout",
     "output_type": "stream",
     "text": [
      "Not applying any cuts to the lepton jets for channel baseNoLj\n",
      "Warning: Unable to apply looseID for electrons. Skipping.\n",
      "Warning: Unable to apply looseID for muons. Skipping.\n",
      "Warning: Unable to apply looseID for photons. Skipping.\n",
      "Warning: Unable to apply pT > 10 GeV for dsaMuons. Skipping.\n",
      "Warning: Unable to apply |eta| < 2.4 for dsaMuons. Skipping.\n",
      "Warning: Unable to apply DT + CSC hits > 12 for dsaMuons. Skipping.\n",
      "Warning: Unable to apply ifcsczero for dsaMuons. Skipping.\n",
      "Warning: Unable to apply ptErrorOverPT < 1 for dsaMuons. Skipping.\n",
      "Warning: Unable to apply no PF match for dsaMuons. Skipping.\n",
      "Warning: Unable to apply |rho| < 0.2 mm for pvs. Skipping.\n",
      "Uh oh, haven't evaluated this cut yet! Make sure it was included in the list of cuts you used to initialize this JaggedSelection.   electrons :  looseID\n",
      "Uh oh, haven't evaluated this cut yet! Make sure it was included in the list of cuts you used to initialize this JaggedSelection.   muons :  looseID\n",
      "Uh oh, haven't evaluated this cut yet! Make sure it was included in the list of cuts you used to initialize this JaggedSelection.   photons :  looseID\n",
      "Uh oh, haven't evaluated this cut yet! Make sure it was included in the list of cuts you used to initialize this JaggedSelection.   dsaMuons :  pT > 10 GeV\n",
      "Uh oh, haven't evaluated this cut yet! Make sure it was included in the list of cuts you used to initialize this JaggedSelection.   dsaMuons :  |eta| < 2.4\n",
      "Uh oh, haven't evaluated this cut yet! Make sure it was included in the list of cuts you used to initialize this JaggedSelection.   dsaMuons :  DT + CSC hits > 12\n",
      "Uh oh, haven't evaluated this cut yet! Make sure it was included in the list of cuts you used to initialize this JaggedSelection.   dsaMuons :  ifcsczero\n",
      "Uh oh, haven't evaluated this cut yet! Make sure it was included in the list of cuts you used to initialize this JaggedSelection.   dsaMuons :  ptErrorOverPT < 1\n",
      "Uh oh, haven't evaluated this cut yet! Make sure it was included in the list of cuts you used to initialize this JaggedSelection.   dsaMuons :  no PF match\n",
      "Uh oh, haven't evaluated this cut yet! Make sure it was included in the list of cuts you used to initialize this JaggedSelection.   pvs :  |rho| < 0.2 mm\n"
     ]
    },
    {
     "ename": "ValueError",
     "evalue": "key \"pt\" does not exist (not in record)\n\n(https://github.com/scikit-hep/awkward-1.0/blob/1.10.3/src/libawkward/util.cpp#L525)",
     "output_type": "error",
     "traceback": [
      "\u001b[0;31m---------------------------------------------------------------------------\u001b[0m",
      "\u001b[0;31mValueError\u001b[0m                                Traceback (most recent call last)",
      "Cell \u001b[0;32mIn[4], line 15\u001b[0m\n\u001b[1;32m      1\u001b[0m p \u001b[38;5;241m=\u001b[39m sidm_processor\u001b[38;5;241m.\u001b[39mSidmProcessor(\n\u001b[1;32m      2\u001b[0m     [\n\u001b[1;32m      3\u001b[0m         \u001b[38;5;124m\"\u001b[39m\u001b[38;5;124m4mu\u001b[39m\u001b[38;5;124m\"\u001b[39m,\n\u001b[0;32m   (...)\u001b[0m\n\u001b[1;32m     13\u001b[0m     lj_reco_choices\u001b[38;5;241m=\u001b[39m[\u001b[38;5;124m\"\u001b[39m\u001b[38;5;124m0.4\u001b[39m\u001b[38;5;124m\"\u001b[39m]\n\u001b[1;32m     14\u001b[0m )\n\u001b[0;32m---> 15\u001b[0m out \u001b[38;5;241m=\u001b[39m \u001b[43mp\u001b[49m\u001b[38;5;241;43m.\u001b[39;49m\u001b[43mprocess\u001b[49m\u001b[43m(\u001b[49m\u001b[43mevents\u001b[49m\u001b[43m)\u001b[49m\n",
      "File \u001b[0;32m~/SIDM/sidm/test_notebooks/../../sidm/tools/sidm_processor.py:94\u001b[0m, in \u001b[0;36mSidmProcessor.process\u001b[0;34m(self, events)\u001b[0m\n\u001b[1;32m     91\u001b[0m sel_objs \u001b[38;5;241m=\u001b[39m channel_objs\n\u001b[1;32m     93\u001b[0m \u001b[38;5;66;03m# reconstruct lepton jets\u001b[39;00m\n\u001b[0;32m---> 94\u001b[0m sel_objs[\u001b[38;5;124m\"\u001b[39m\u001b[38;5;124mljs\u001b[39m\u001b[38;5;124m\"\u001b[39m] \u001b[38;5;241m=\u001b[39m \u001b[38;5;28;43mself\u001b[39;49m\u001b[38;5;241;43m.\u001b[39;49m\u001b[43mbuild_lepton_jets\u001b[49m\u001b[43m(\u001b[49m\u001b[43mchannel_objs\u001b[49m\u001b[43m,\u001b[49m\u001b[43m \u001b[49m\u001b[38;5;28;43mfloat\u001b[39;49m\u001b[43m(\u001b[49m\u001b[43mlj_reco\u001b[49m\u001b[43m)\u001b[49m\u001b[43m)\u001b[49m\n\u001b[1;32m     96\u001b[0m \u001b[38;5;66;03m# apply lj selection\u001b[39;00m\n\u001b[1;32m     97\u001b[0m lj_selection \u001b[38;5;241m=\u001b[39m selection\u001b[38;5;241m.\u001b[39mJaggedSelection(channel_cuts[channel][\u001b[38;5;124m\"\u001b[39m\u001b[38;5;124mlj\u001b[39m\u001b[38;5;124m\"\u001b[39m])\n",
      "File \u001b[0;32m~/SIDM/sidm/test_notebooks/../../sidm/tools/sidm_processor.py:175\u001b[0m, in \u001b[0;36mSidmProcessor.build_lepton_jets\u001b[0;34m(self, objs, lj_reco)\u001b[0m\n\u001b[1;32m    173\u001b[0m \u001b[38;5;28;01melse\u001b[39;00m: \u001b[38;5;66;03m#Use electron/muon/photon/dsamuon collections with a custom distance parameter\u001b[39;00m\n\u001b[1;32m    174\u001b[0m     muon_inputs \u001b[38;5;241m=\u001b[39m \u001b[38;5;28mself\u001b[39m\u001b[38;5;241m.\u001b[39mmake_vector(objs, \u001b[38;5;124m\"\u001b[39m\u001b[38;5;124mmuons\u001b[39m\u001b[38;5;124m\"\u001b[39m, type_id\u001b[38;5;241m=\u001b[39m\u001b[38;5;241m3\u001b[39m)\n\u001b[0;32m--> 175\u001b[0m     dsa_inputs \u001b[38;5;241m=\u001b[39m \u001b[38;5;28;43mself\u001b[39;49m\u001b[38;5;241;43m.\u001b[39;49m\u001b[43mmake_vector\u001b[49m\u001b[43m(\u001b[49m\u001b[43mobjs\u001b[49m\u001b[43m,\u001b[49m\u001b[43m \u001b[49m\u001b[38;5;124;43m\"\u001b[39;49m\u001b[38;5;124;43mdsaMuons\u001b[39;49m\u001b[38;5;124;43m\"\u001b[39;49m\u001b[43m,\u001b[49m\u001b[43m \u001b[49m\u001b[43mtype_id\u001b[49m\u001b[38;5;241;43m=\u001b[39;49m\u001b[38;5;241;43m8\u001b[39;49m\u001b[43m,\u001b[49m\u001b[43m \u001b[49m\u001b[43mmass\u001b[49m\u001b[38;5;241;43m=\u001b[39;49m\u001b[38;5;241;43m0.106\u001b[39;49m\u001b[43m)\u001b[49m\n\u001b[1;32m    176\u001b[0m     ele_inputs \u001b[38;5;241m=\u001b[39m \u001b[38;5;28mself\u001b[39m\u001b[38;5;241m.\u001b[39mmake_vector(objs, \u001b[38;5;124m\"\u001b[39m\u001b[38;5;124melectrons\u001b[39m\u001b[38;5;124m\"\u001b[39m, type_id\u001b[38;5;241m=\u001b[39m\u001b[38;5;241m2\u001b[39m)\n\u001b[1;32m    177\u001b[0m     photon_inputs \u001b[38;5;241m=\u001b[39m \u001b[38;5;28mself\u001b[39m\u001b[38;5;241m.\u001b[39mmake_vector(objs, \u001b[38;5;124m\"\u001b[39m\u001b[38;5;124mphotons\u001b[39m\u001b[38;5;124m\"\u001b[39m, type_id\u001b[38;5;241m=\u001b[39m\u001b[38;5;241m4\u001b[39m, charge\u001b[38;5;241m=\u001b[39m\u001b[38;5;241m0\u001b[39m)\n",
      "File \u001b[0;32m~/SIDM/sidm/test_notebooks/../../sidm/tools/sidm_processor.py:148\u001b[0m, in \u001b[0;36mSidmProcessor.make_vector\u001b[0;34m(self, objs, collection, type_id, mass, charge)\u001b[0m\n\u001b[1;32m    147\u001b[0m \u001b[38;5;28;01mdef\u001b[39;00m \u001b[38;5;21mmake_vector\u001b[39m(\u001b[38;5;28mself\u001b[39m, objs, collection, type_id\u001b[38;5;241m=\u001b[39m\u001b[38;5;28;01mNone\u001b[39;00m, mass\u001b[38;5;241m=\u001b[39m\u001b[38;5;28;01mNone\u001b[39;00m, charge\u001b[38;5;241m=\u001b[39m\u001b[38;5;28;01mNone\u001b[39;00m):\n\u001b[0;32m--> 148\u001b[0m     shape \u001b[38;5;241m=\u001b[39m ak\u001b[38;5;241m.\u001b[39mones_like(\u001b[43mobjs\u001b[49m\u001b[43m[\u001b[49m\u001b[43mcollection\u001b[49m\u001b[43m]\u001b[49m\u001b[38;5;241;43m.\u001b[39;49m\u001b[43mpt\u001b[49m)\n\u001b[1;32m    149\u001b[0m     \u001b[38;5;28;01mreturn\u001b[39;00m vector\u001b[38;5;241m.\u001b[39mzip(\n\u001b[1;32m    150\u001b[0m         {\n\u001b[1;32m    151\u001b[0m             \u001b[38;5;124m\"\u001b[39m\u001b[38;5;124mpart_type\u001b[39m\u001b[38;5;124m\"\u001b[39m: objs[collection][\u001b[38;5;124m\"\u001b[39m\u001b[38;5;124mtype\u001b[39m\u001b[38;5;124m\"\u001b[39m] \u001b[38;5;28;01mif\u001b[39;00m type_id \u001b[38;5;129;01mis\u001b[39;00m \u001b[38;5;28;01mNone\u001b[39;00m \u001b[38;5;28;01melse\u001b[39;00m type_id\u001b[38;5;241m*\u001b[39mshape,\n\u001b[0;32m   (...)\u001b[0m\n\u001b[1;32m    157\u001b[0m         }\n\u001b[1;32m    158\u001b[0m     )\n",
      "File \u001b[0;32m/opt/conda/lib/python3.9/site-packages/coffea/nanoevents/methods/vector.py:760\u001b[0m, in \u001b[0;36mPtEtaPhiMLorentzVector.pt\u001b[0;34m(self)\u001b[0m\n\u001b[1;32m    757\u001b[0m \u001b[38;5;129m@property\u001b[39m\n\u001b[1;32m    758\u001b[0m \u001b[38;5;28;01mdef\u001b[39;00m \u001b[38;5;21mpt\u001b[39m(\u001b[38;5;28mself\u001b[39m):\n\u001b[1;32m    759\u001b[0m \u001b[38;5;250m    \u001b[39m\u001b[38;5;124;03m\"\"\"Alias for `r`\"\"\"\u001b[39;00m\n\u001b[0;32m--> 760\u001b[0m     \u001b[38;5;28;01mreturn\u001b[39;00m \u001b[38;5;28;43mself\u001b[39;49m\u001b[43m[\u001b[49m\u001b[38;5;124;43m\"\u001b[39;49m\u001b[38;5;124;43mpt\u001b[39;49m\u001b[38;5;124;43m\"\u001b[39;49m\u001b[43m]\u001b[49m\n",
      "File \u001b[0;32m/opt/conda/lib/python3.9/site-packages/awkward/highlevel.py:991\u001b[0m, in \u001b[0;36mArray.__getitem__\u001b[0;34m(self, where)\u001b[0m\n\u001b[1;32m    579\u001b[0m \u001b[38;5;250m\u001b[39m\u001b[38;5;124;03m\"\"\"\u001b[39;00m\n\u001b[1;32m    580\u001b[0m \u001b[38;5;124;03mArgs:\u001b[39;00m\n\u001b[1;32m    581\u001b[0m \u001b[38;5;124;03m    where (many types supported; see below): Index of positions to\u001b[39;00m\n\u001b[0;32m   (...)\u001b[0m\n\u001b[1;32m    988\u001b[0m \u001b[38;5;124;03mhave the same dimension as the array being indexed.\u001b[39;00m\n\u001b[1;32m    989\u001b[0m \u001b[38;5;124;03m\"\"\"\u001b[39;00m\n\u001b[1;32m    990\u001b[0m \u001b[38;5;28;01mif\u001b[39;00m \u001b[38;5;129;01mnot\u001b[39;00m \u001b[38;5;28mhasattr\u001b[39m(\u001b[38;5;28mself\u001b[39m, \u001b[38;5;124m\"\u001b[39m\u001b[38;5;124m_tracers\u001b[39m\u001b[38;5;124m\"\u001b[39m):\n\u001b[0;32m--> 991\u001b[0m     tmp \u001b[38;5;241m=\u001b[39m ak\u001b[38;5;241m.\u001b[39m_util\u001b[38;5;241m.\u001b[39mwrap(\u001b[38;5;28;43mself\u001b[39;49m\u001b[38;5;241;43m.\u001b[39;49m\u001b[43mlayout\u001b[49m\u001b[43m[\u001b[49m\u001b[43mwhere\u001b[49m\u001b[43m]\u001b[49m, \u001b[38;5;28mself\u001b[39m\u001b[38;5;241m.\u001b[39m_behavior)\n\u001b[1;32m    992\u001b[0m \u001b[38;5;28;01melse\u001b[39;00m:\n\u001b[1;32m    993\u001b[0m     tmp \u001b[38;5;241m=\u001b[39m ak\u001b[38;5;241m.\u001b[39m_connect\u001b[38;5;241m.\u001b[39m_jax\u001b[38;5;241m.\u001b[39mjax_utils\u001b[38;5;241m.\u001b[39m_jaxtracers_getitem(\u001b[38;5;28mself\u001b[39m, where)\n",
      "\u001b[0;31mValueError\u001b[0m: key \"pt\" does not exist (not in record)\n\n(https://github.com/scikit-hep/awkward-1.0/blob/1.10.3/src/libawkward/util.cpp#L525)"
     ]
    }
   ],
   "source": [
    "p = sidm_processor.SidmProcessor(\n",
    "    [\n",
    "        \"4mu\",\n",
    "        \"2mu2e\",\n",
    "        \"base\",\n",
    "        \"baseNoLj\",\n",
    "    ],\n",
    "    [\"base\"],\n",
    "    #-0.4 means use the ljsource collection to cluster jets with radius 0.4, \n",
    "    # 0 means use the lepton jets directly from the ntuples\n",
    "    # Any positive number is the radius of the jet, clustered with the photon, electron, muon, and dsa muon collections. \n",
    "    # So 0.4 means cluster ljs from the individual objects with a distance parameter of 0.4\n",
    "    lj_reco_choices=[\"0.4\"]\n",
    ")\n",
    "out = p.process(events)"
   ]
  },
  {
   "cell_type": "code",
   "execution_count": null,
   "id": "ca854db5-d501-4497-aad0-242b7eaac0b0",
   "metadata": {
    "tags": []
   },
   "outputs": [],
   "source": [
    "out"
   ]
  },
  {
   "cell_type": "code",
   "execution_count": null,
   "id": "521d5a1c-4c3b-4818-8431-dc90e16d2692",
   "metadata": {
    "tags": []
   },
   "outputs": [],
   "source": [
    "utilities.plot(out[sample_name][\"hists\"][\"pv_n\"][\"0\",\"base\",:])"
   ]
  },
  {
   "cell_type": "code",
   "execution_count": null,
   "id": "31b6a93d-4c1e-4e19-8049-03f972d1d280",
   "metadata": {
    "tags": []
   },
   "outputs": [],
   "source": [
    "out[sample_name][\"cutflow\"][\"0\"][\"2mu2e\"].print_table()\n",
    "print()\n",
    "print(\"Unweighted, ntuple ljs (Option 0):\")\n",
    "out[sample_name][\"cutflow\"][\"0\"][\"2mu2e\"].print_table(unweighted=True)\n",
    "print()\n",
    "print(\"Unweighted, ljs from lj_source (Option -0.4):\")\n",
    "out[sample_name][\"cutflow\"][\"-0.4\"][\"2mu2e\"].print_table(unweighted=True)\n",
    "print()\n",
    "print(\"Unweighted, ljs from individual collections, dR < 0.4:\")\n",
    "out[sample_name][\"cutflow\"][\"0.4\"][\"2mu2e\"].print_table(unweighted=True)\n",
    "print()\n",
    "print(\"Unweighted, ljs from individual collections, dR < 0.2:\")\n",
    "out[sample_name][\"cutflow\"][\"0.2\"][\"2mu2e\"].print_table(unweighted=True)"
   ]
  },
  {
   "cell_type": "code",
   "execution_count": null,
   "id": "c569de6e-4e35-4cea-ba96-d1ded59d8315",
   "metadata": {
    "tags": []
   },
   "outputs": [],
   "source": [
    "out[sample_name][\"cutflow\"][\"0\"][\"4mu\"].print_table()\n",
    "print()\n",
    "print(\"Unweighted, ntuple ljs (Option 0):\")\n",
    "out[sample_name][\"cutflow\"][\"0\"][\"4mu\"].print_table(unweighted=True)\n",
    "print()\n",
    "print(\"Unweighted, ljs from lj_source (Option -0.4):\")\n",
    "out[sample_name][\"cutflow\"][\"-0.4\"][\"4mu\"].print_table(unweighted=True)\n",
    "print()\n",
    "print(\"Unweighted, ljs from individual collections, dR < 0.4:\")\n",
    "out[sample_name][\"cutflow\"][\"0.4\"][\"4mu\"].print_table(unweighted=True)\n",
    "print()\n",
    "print(\"Unweighted, ljs from individual collections, dR < 0.2:\")\n",
    "out[sample_name][\"cutflow\"][\"0.2\"][\"4mu\"].print_table(unweighted=True)"
   ]
  },
  {
   "cell_type": "code",
   "execution_count": null,
   "id": "7cc78578-9709-4e16-8c04-a56ee433815a",
   "metadata": {
    "tags": []
   },
   "outputs": [],
   "source": [
    "out[sample_name][\"cutflow\"][\"0\"][\"2mu2e\"].print_table(fraction=True)\n",
    "print()\n",
    "out[sample_name][\"cutflow\"][\"0\"][\"2mu2e\"].print_table(fraction=True, unweighted=True)"
   ]
  },
  {
   "cell_type": "code",
   "execution_count": null,
   "id": "eee3a7fc-0910-466e-97d2-12a1b477a6cc",
   "metadata": {
    "tags": []
   },
   "outputs": [],
   "source": [
    "out[sample_name][\"cutflow\"][\"0\"][\"4mu\"].print_table()\n",
    "out[sample_name][\"cutflow\"][\"0\"][\"4mu\"].print_table(unweighted=True)"
   ]
  },
  {
   "cell_type": "code",
   "execution_count": null,
   "id": "9f33a190-18e4-4cb0-82dd-86f3a8d5676a",
   "metadata": {
    "tags": []
   },
   "outputs": [],
   "source": [
    "utilities.plot(out[sample_name][\"hists\"][\"pv_ndof\"][\"0\",\"2mu2e\", :])"
   ]
  },
  {
   "cell_type": "code",
   "execution_count": null,
   "id": "7c068c61-84a3-40a0-b158-79e2e3cafc89",
   "metadata": {},
   "outputs": [],
   "source": [
    "utilities.plot(out[sample_name][\"hists\"][\"lj_eta_phi\"][\"0\",\"2mu2e\", :, :])"
   ]
  },
  {
   "cell_type": "code",
   "execution_count": null,
   "id": "27d144a7-8524-4484-bf69-712c0fbb41d8",
   "metadata": {},
   "outputs": [],
   "source": [
    "utilities.plot(out[sample_name][\"hists\"][\"lj_pt\"][\"0\",\"2mu2e\", ::2j])"
   ]
  },
  {
   "cell_type": "code",
   "execution_count": null,
   "id": "9c883bd7-7904-4b4c-9d3c-d2b80c595015",
   "metadata": {},
   "outputs": [],
   "source": [
    "utilities.plot([\n",
    "    out[sample_name][\"hists\"][\"mu_lj_pt\"][\"0\",\"2mu2e\", ::2j],\n",
    "    out[sample_name][\"hists\"][\"egm_lj_pt\"][\"0\",\"2mu2e\", ::2j],\n",
    "])\n",
    "plt.legend([\"Muon-type LJ\", \"EGamma-type LJ\"])"
   ]
  },
  {
   "cell_type": "code",
   "execution_count": null,
   "id": "d7fe5327-02ed-44d1-9261-23643544edb8",
   "metadata": {},
   "outputs": [],
   "source": [
    "ljs = events.ljsource\n",
    "#ljs = ak.mask(ljs, ak.num(ljs) >= 2)\n",
    "ljs = ljs[ak.argsort(ljs.pt, ascending=False)]\n",
    "ljs.pt[ak.num(ljs) >= 2, 1]\n",
    "print(ak.num(ljs.pt))\n",
    "print(ljs.pt)\n",
    "print(events.weightProduct)"
   ]
  },
  {
   "cell_type": "code",
   "execution_count": null,
   "id": "767bfadd-b79e-40dc-8d9d-79342f81cc79",
   "metadata": {},
   "outputs": [],
   "source": [
    "reco_choices = [\"-0.4\", \"0\", \"0.2\", \"0.4\"]\n",
    "utilities.plot([out[sample_name][\"hists\"][\"lj0_pt\"][lj, \"2mu2e\", :] for lj in reco_choices])\n",
    "plt.legend(reco_choices)\n",
    "# somehow "
   ]
  },
  {
   "cell_type": "code",
   "execution_count": null,
   "id": "00782d1a-835d-426c-9791-fd68eba38b18",
   "metadata": {},
   "outputs": [],
   "source": [
    "utilities.plot([out[sample_name][\"hists\"][\"lj1_pt\"][lj, \"2mu2e\", :] for lj in reco_choices])\n",
    "plt.legend(reco_choices)"
   ]
  },
  {
   "cell_type": "code",
   "execution_count": null,
   "id": "5a0eff01-d8e7-4fa4-baff-2304f8bbb9d2",
   "metadata": {},
   "outputs": [],
   "source": [
    "utilities.plot([out[sample_name][\"hists\"][\"lj_lj_invmass\"][lj, \"2mu2e\", :300j] for lj in reco_choices])\n",
    "plt.legend(reco_choices)"
   ]
  },
  {
   "cell_type": "code",
   "execution_count": null,
   "id": "2a0836be-5bbb-4645-80f8-d4654d21ee32",
   "metadata": {},
   "outputs": [],
   "source": [
    "utilities.plot([out[sample_name][\"hists\"][\"lj_lj_absdphi\"][lj, \"2mu2e\", :300j] for lj in reco_choices])\n",
    "plt.legend(reco_choices)"
   ]
  },
  {
   "cell_type": "code",
   "execution_count": null,
   "id": "919f5c15-d44a-4f90-968d-a99791c0b00b",
   "metadata": {},
   "outputs": [],
   "source": [
    "out[sample_name][\"hists\"][\"lj_lj_absdphi\"].axes[0]"
   ]
  },
  {
   "cell_type": "code",
   "execution_count": null,
   "id": "54b2ce6b-3a10-46f0-a147-96f1d60ef529",
   "metadata": {},
   "outputs": [],
   "source": [
    "d = {\n",
    "    \"pv\": events[\"pv\"],\n",
    "}\n",
    "a = {\n",
    "    \"pv\": d[\"pv\"][:1800, :],\n",
    "}\n",
    "a[\"pv\"]"
   ]
  },
  {
   "cell_type": "code",
   "execution_count": null,
   "id": "21131f58-d6d7-42f6-80d8-77dae8727e5a",
   "metadata": {},
   "outputs": [],
   "source": []
  }
 ],
 "metadata": {
  "kernelspec": {
   "display_name": "Python 3 (ipykernel)",
   "language": "python",
   "name": "python3"
  },
  "language_info": {
   "codemirror_mode": {
    "name": "ipython",
    "version": 3
   },
   "file_extension": ".py",
   "mimetype": "text/x-python",
   "name": "python",
   "nbconvert_exporter": "python",
   "pygments_lexer": "ipython3",
   "version": "3.9.18"
  }
 },
 "nbformat": 4,
 "nbformat_minor": 5
}
