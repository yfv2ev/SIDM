{
 "cells": [
  {
   "cell_type": "code",
   "execution_count": 1,
   "id": "b9073fe5-c95d-4094-9d3c-bb8c1f18a5cd",
   "metadata": {
    "tags": []
   },
   "outputs": [],
   "source": [
    "# python\n",
    "import sys\n",
    "import os\n",
    "import importlib\n",
    "# columnar analysis\n",
    "from coffea.nanoevents import NanoEventsFactory, NanoAODSchema\n",
    "from coffea import processor\n",
    "import uproot\n",
    "# local\n",
    "sidm_path = str(sys.path[0]).split(\"/sidm\")[0]\n",
    "if sidm_path not in sys.path: sys.path.insert(1, sidm_path)\n",
    "from sidm import BASE_DIR\n",
    "from sidm.tools import sidm_processor, utilities\n",
    "# always reload local modules to pick up changes during development\n",
    "importlib.reload(sidm_processor)\n",
    "importlib.reload(utilities)\n",
    "# plotting\n",
    "import matplotlib.pyplot as plt\n",
    "utilities.set_plot_style()\n",
    "%matplotlib inline"
   ]
  },
  {
   "cell_type": "code",
   "execution_count": 2,
   "id": "0b5cb6fc-60ac-46c2-8399-aacd982b9f3b",
   "metadata": {
    "tags": []
   },
   "outputs": [],
   "source": [
    "# try to open one file from each sample and record successes and failures\n",
    "def test_samples(cfg_name, cfg_path=f\"{BASE_DIR}/configs/ntuples\", ntuple_types=None, verbose=False):\n",
    "    cfg = utilities.load_yaml(f\"{cfg_path}/{cfg_name}\")\n",
    "    results = {}\n",
    "    ntuple_types = ntuple_types if ntuple_types is not None else cfg.keys()\n",
    "    for ntuple_type in ntuple_types:\n",
    "        if ntuple_type not in cfg:\n",
    "            print(f\"Skipping {ntuple_type}\")\n",
    "            continue\n",
    "        print(ntuple_type)\n",
    "        results[ntuple_type] = {\"success\": [], \"failure\": []}\n",
    "        samples = cfg[ntuple_type][\"samples\"]\n",
    "        fileset = utilities.make_fileset(samples, ntuple_type, max_files=1, location_cfg=cfg_name)\n",
    "        print(f\"Will test {len(samples)} files\")\n",
    "        for s, f in fileset.items():\n",
    "            try:\n",
    "                uproot.open(f[0], timeout=1)\n",
    "                print(f\"Success: {s}\")\n",
    "                results[ntuple_type][\"success\"].append(s)\n",
    "            except Exception as e:\n",
    "                print(f\"Failure: {s}\")\n",
    "                if verbose:\n",
    "                    print(e)\n",
    "                results[ntuple_type][\"failure\"].append(s)\n",
    "    return results"
   ]
  },
  {
   "cell_type": "code",
   "execution_count": 3,
   "id": "def51e77-5d96-4d57-8585-32aea9d3401b",
   "metadata": {
    "tags": []
   },
   "outputs": [
    {
     "name": "stdout",
     "output_type": "stream",
     "text": [
      "llpNanoAOD_v2_merged\n",
      "Will test 10 files\n",
      "Success: 2Mu2E_500GeV_5p0GeV_0p08mm\n",
      "Success: 2Mu2E_500GeV_5p0GeV_0p8mm\n",
      "Success: 2Mu2E_500GeV_5p0GeV_8p0mm\n",
      "Success: 2Mu2E_500GeV_5p0GeV_40p0mm\n",
      "Success: 2Mu2E_500GeV_5p0GeV_80p0mm\n",
      "Success: 4Mu_500GeV_5p0GeV_0p08mm\n",
      "Success: 4Mu_500GeV_5p0GeV_0p8mm\n",
      "Success: 4Mu_500GeV_5p0GeV_8p0mm\n",
      "Success: 4Mu_500GeV_5p0GeV_40p0mm\n",
      "Success: 4Mu_500GeV_5p0GeV_80p0mm\n"
     ]
    }
   ],
   "source": [
    "v6_merged = test_samples(\"signal_v6.yaml\", ntuple_types=[\"llpNanoAOD_v2_merged\"])"
   ]
  },
  {
   "cell_type": "code",
   "execution_count": 4,
   "id": "003b03cc-e7f8-433f-af67-20be54d5b693",
   "metadata": {
    "tags": []
   },
   "outputs": [
    {
     "name": "stdout",
     "output_type": "stream",
     "text": [
      "llpNanoAOD_v2\n",
      "Will test 15 files\n",
      "Success: DYJetsToMuMu_M10to50\n",
      "Success: DYJetsToMuMu_M50\n",
      "Success: QCD_Pt1000\n",
      "Success: QCD_Pt120To170\n",
      "Success: QCD_Pt15To20\n",
      "Success: QCD_Pt170To300\n",
      "Success: QCD_Pt20To30\n",
      "Success: QCD_Pt300To470\n",
      "Success: QCD_Pt30To50\n",
      "Success: QCD_Pt470To600\n",
      "Success: QCD_Pt50To80\n",
      "Success: QCD_Pt600To800\n",
      "Success: QCD_Pt800To1000\n",
      "Success: QCD_Pt80To120\n",
      "Success: TTJets\n"
     ]
    }
   ],
   "source": [
    "bg = test_samples(\"backgrounds.yaml\")"
   ]
  },
  {
   "cell_type": "code",
   "execution_count": 5,
   "id": "44a950f4-4ff4-459b-9c4b-5207487e5ecf",
   "metadata": {
    "tags": []
   },
   "outputs": [
    {
     "name": "stdout",
     "output_type": "stream",
     "text": [
      "llpNanoAOD_v2\n",
      "Will test 5 files\n",
      "Success: 4Mu_500GeV_5p0GeV_0p08mm\n",
      "Success: 4Mu_500GeV_5p0GeV_0p8mm\n",
      "Success: 4Mu_500GeV_5p0GeV_40p0mm\n",
      "Success: 4Mu_500GeV_5p0GeV_80p0mm\n",
      "Success: 4Mu_500GeV_5p0GeV_8p0mm\n"
     ]
    }
   ],
   "source": [
    "v8 = test_samples(\"signal_v8.yaml\", verbose=True)"
   ]
  },
  {
   "cell_type": "code",
   "execution_count": 6,
   "id": "0247d5df-727c-4035-977f-82503d6434f7",
   "metadata": {
    "tags": []
   },
   "outputs": [
    {
     "name": "stdout",
     "output_type": "stream",
     "text": [
      "llpNanoAOD_v2\n",
      "Will test 97 files\n",
      "Success: 2Mu2E_500GeV_5p0GeV_0p08mm\n",
      "Success: 2Mu2E_500GeV_5p0GeV_0p8mm\n",
      "Success: 2Mu2E_500GeV_5p0GeV_8p0mm\n",
      "Success: 2Mu2E_500GeV_5p0GeV_40p0mm\n",
      "Success: 2Mu2E_500GeV_5p0GeV_80p0mm\n",
      "Success: 4Mu_1000GeV_0p25GeV_0p002mm\n",
      "Success: 4Mu_1000GeV_0p25GeV_0p02mm\n",
      "Success: 4Mu_1000GeV_0p25GeV_0p2mm\n",
      "Success: 4Mu_1000GeV_0p25GeV_1p0mm\n",
      "Success: 4Mu_1000GeV_0p25GeV_2p0mm\n",
      "Success: 4Mu_1000GeV_1p2GeV_0p0096mm\n",
      "Success: 4Mu_1000GeV_1p2GeV_0p096mm\n",
      "Success: 4Mu_1000GeV_1p2GeV_0p96mm\n",
      "Success: 4Mu_1000GeV_1p2GeV_4p8mm\n",
      "Success: 4Mu_1000GeV_1p2GeV_9p6mm\n",
      "Success: 4Mu_1000GeV_5p0GeV_0p04mm\n",
      "Success: 4Mu_1000GeV_5p0GeV_0p4mm\n",
      "Success: 4Mu_1000GeV_5p0GeV_20p0mm\n",
      "Success: 4Mu_1000GeV_5p0GeV_40p0mm\n",
      "Success: 4Mu_1000GeV_5p0GeV_4p0mm\n",
      "Success: 4Mu_100GeV_0p25GeV_0p02mm\n",
      "Success: 4Mu_100GeV_0p25GeV_0p2mm\n",
      "Success: 4Mu_100GeV_0p25GeV_10p0mm\n",
      "Success: 4Mu_100GeV_0p25GeV_20p0mm\n",
      "Success: 4Mu_100GeV_0p25GeV_2p0mm\n",
      "Success: 4Mu_100GeV_1p2GeV_0p096mm\n",
      "Success: 4Mu_100GeV_1p2GeV_0p96mm\n",
      "Success: 4Mu_100GeV_1p2GeV_48p0mm\n",
      "Success: 4Mu_100GeV_1p2GeV_96p0mm\n",
      "Success: 4Mu_100GeV_1p2GeV_9p6mm\n",
      "Success: 4Mu_100GeV_5p0GeV_0p4mm\n",
      "Success: 4Mu_100GeV_5p0GeV_200p0mm\n",
      "Success: 4Mu_100GeV_5p0GeV_400p0mm\n",
      "Success: 4Mu_100GeV_5p0GeV_40p0mm\n",
      "Success: 4Mu_100GeV_5p0GeV_4p0mm\n",
      "Success: 4Mu_150GeV_0p25GeV_0p013mm\n",
      "Success: 4Mu_150GeV_0p25GeV_0p13mm\n",
      "Success: 4Mu_150GeV_0p25GeV_13p0mm\n",
      "Success: 4Mu_150GeV_0p25GeV_1p3mm\n",
      "Success: 4Mu_150GeV_0p25GeV_6p7mm\n",
      "Success: 4Mu_150GeV_1p2GeV_0p064mm\n",
      "Success: 4Mu_150GeV_1p2GeV_0p64mm\n",
      "Success: 4Mu_150GeV_1p2GeV_32p0mm\n",
      "Success: 4Mu_150GeV_1p2GeV_64p0mm\n",
      "Success: 4Mu_150GeV_1p2GeV_6p4mm\n",
      "Success: 4Mu_150GeV_5p0GeV_0p27mm\n",
      "Success: 4Mu_150GeV_5p0GeV_130p0mm\n",
      "Success: 4Mu_150GeV_5p0GeV_270p0mm\n",
      "Success: 4Mu_150GeV_5p0GeV_27p0mm\n",
      "Success: 4Mu_150GeV_5p0GeV_2p7mm\n",
      "Success: 4Mu_200GeV_0p25GeV_0p01mm\n",
      "Success: 4Mu_200GeV_0p25GeV_0p1mm\n",
      "Success: 4Mu_200GeV_0p25GeV_10p0mm\n",
      "Success: 4Mu_200GeV_0p25GeV_1p0mm\n",
      "Success: 4Mu_200GeV_0p25GeV_5p0mm\n",
      "Success: 4Mu_200GeV_1p2GeV_0p048mm\n",
      "Success: 4Mu_200GeV_1p2GeV_0p48mm\n",
      "Success: 4Mu_200GeV_1p2GeV_24p0mm\n",
      "Success: 4Mu_200GeV_1p2GeV_48p0mm\n",
      "Success: 4Mu_200GeV_1p2GeV_4p8mm\n",
      "Success: 4Mu_200GeV_5p0GeV_0p2mm\n",
      "Success: 4Mu_200GeV_5p0GeV_100p0mm\n",
      "Success: 4Mu_200GeV_5p0GeV_200p0mm\n",
      "Success: 4Mu_200GeV_5p0GeV_20p0mm\n",
      "Success: 4Mu_200GeV_5p0GeV_2p0mm\n",
      "Success: 4Mu_500GeV_0p25GeV_0p004mm\n",
      "Success: 4Mu_500GeV_0p25GeV_0p04mm\n",
      "Success: 4Mu_500GeV_0p25GeV_0p4mm\n",
      "Success: 4Mu_500GeV_0p25GeV_2p0mm\n",
      "Success: 4Mu_500GeV_0p25GeV_4p0mm\n",
      "Success: 4Mu_500GeV_1p2GeV_0p019mm\n",
      "Success: 4Mu_500GeV_1p2GeV_0p19mm\n",
      "Success: 4Mu_500GeV_1p2GeV_19p0mm\n",
      "Success: 4Mu_500GeV_1p2GeV_1p9mm\n",
      "Success: 4Mu_500GeV_1p2GeV_9p6mm\n",
      "Success: 4Mu_500GeV_5p0GeV_0p08mm\n",
      "Success: 4Mu_500GeV_5p0GeV_0p8mm\n",
      "Success: 4Mu_500GeV_5p0GeV_40p0mm\n",
      "Success: 4Mu_500GeV_5p0GeV_8000p0mm\n",
      "Success: 4Mu_500GeV_5p0GeV_800p0mm\n",
      "Success: 4Mu_500GeV_5p0GeV_80p0mm\n",
      "Success: 4Mu_500GeV_5p0GeV_8p0mm\n",
      "Success: 4Mu_800GeV_0p25GeV_0p0025mm\n",
      "Success: 4Mu_800GeV_0p25GeV_0p025mm\n",
      "Success: 4Mu_800GeV_0p25GeV_0p25mm\n",
      "Success: 4Mu_800GeV_0p25GeV_1p2mm\n",
      "Success: 4Mu_800GeV_0p25GeV_2p5mm\n",
      "Success: 4Mu_800GeV_1p2GeV_0p012mm\n",
      "Success: 4Mu_800GeV_1p2GeV_0p12mm\n",
      "Success: 4Mu_800GeV_1p2GeV_12p0mm\n",
      "Success: 4Mu_800GeV_1p2GeV_1p2mm\n",
      "Success: 4Mu_800GeV_1p2GeV_6p0mm\n",
      "Success: 4Mu_800GeV_5p0GeV_0p05mm\n",
      "Success: 4Mu_800GeV_5p0GeV_0p5mm\n",
      "Success: 4Mu_800GeV_5p0GeV_25p0mm\n",
      "Success: 4Mu_800GeV_5p0GeV_50p0mm\n",
      "Success: 4Mu_800GeV_5p0GeV_5p0mm\n"
     ]
    }
   ],
   "source": [
    "v6 = test_samples(\"signal_v6.yaml\", ntuple_types=[\"llpNanoAOD_v2\"])"
   ]
  },
  {
   "cell_type": "code",
   "execution_count": null,
   "id": "19b71afb-9852-4325-806c-984fa01d58ce",
   "metadata": {},
   "outputs": [],
   "source": []
  }
 ],
 "metadata": {
  "kernelspec": {
   "display_name": "Python 3 (ipykernel)",
   "language": "python",
   "name": "python3"
  },
  "language_info": {
   "codemirror_mode": {
    "name": "ipython",
    "version": 3
   },
   "file_extension": ".py",
   "mimetype": "text/x-python",
   "name": "python",
   "nbconvert_exporter": "python",
   "pygments_lexer": "ipython3",
   "version": "3.9.18"
  }
 },
 "nbformat": 4,
 "nbformat_minor": 5
}
