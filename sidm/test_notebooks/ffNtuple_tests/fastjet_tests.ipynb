{
 "cells": [
  {
   "cell_type": "code",
   "execution_count": 1,
   "id": "bfc11698-db2f-45cb-a316-769c4d17e4ec",
   "metadata": {},
   "outputs": [],
   "source": [
    "import uproot\n",
    "import vector\n",
    "import numpy as np\n",
    "import matplotlib.pyplot as plt\n",
    "import awkward as ak\n",
    "import fastjet"
   ]
  },
  {
   "cell_type": "code",
   "execution_count": 2,
   "id": "0da7f64b-8cd4-4881-b22d-eead2e72c3ea",
   "metadata": {
    "tags": []
   },
   "outputs": [],
   "source": [
    "#Open a root file to play with\n",
    "sample_file = uproot.open('root://xcache//store/group/lpcmetx/SIDM/ffNtupleV4/2018/SIDM_XXTo2ATo2Mu2E_mXX-100_mA-1p2_ctau-9p6_TuneCP5_13TeV-madgraph-pythia8/RunIIAutumn18DRPremix-102X_upgrade2018_realistic_v15-v1/210326_161703/0000/ffNtuple_1.root')\n",
    "tree = sample_file['ffNtuplizer/ffNtuple']\n",
    "#Load all the branches into memory (this is slow, and could be done in a \n",
    "#\"lazy\" way to only read the arrays that we end up using, but I'm too lazy to be lazy)\n",
    "branches = tree.arrays()"
   ]
  },
  {
   "cell_type": "code",
   "execution_count": 3,
   "id": "24633860-b09c-48bf-9566-51f1d3a919da",
   "metadata": {
    "tags": []
   },
   "outputs": [],
   "source": [
    "#Define the jet clustering algorithm\n",
    "jetdef = fastjet.JetDefinition(fastjet.antikt_algorithm, 0.4)"
   ]
  },
  {
   "cell_type": "code",
   "execution_count": 4,
   "id": "7cebe76f-5740-43aa-b62a-740ff8df762d",
   "metadata": {
    "tags": []
   },
   "outputs": [
    {
     "data": {
      "text/plain": [
       "['ljsource_n',\n",
       " 'ljsource_p4',\n",
       " 'ljsource_p4/ljsource_p4.fCoordinates.fX',\n",
       " 'ljsource_p4/ljsource_p4.fCoordinates.fY',\n",
       " 'ljsource_p4/ljsource_p4.fCoordinates.fZ',\n",
       " 'ljsource_p4/ljsource_p4.fCoordinates.fT',\n",
       " 'ljsource_charge',\n",
       " 'ljsource_type']"
      ]
     },
     "execution_count": 4,
     "metadata": {},
     "output_type": "execute_result"
    }
   ],
   "source": [
    "#Double check what information we have about the input candidates.\n",
    "#These are what we will cluster into jets\n",
    "tree.keys(\"ljsource*\")"
   ]
  },
  {
   "cell_type": "code",
   "execution_count": 5,
   "id": "13cb722a-9d8c-41ad-b735-50a15152ce5b",
   "metadata": {
    "tags": []
   },
   "outputs": [],
   "source": [
    "#Build the lj_sources into Vectors that fastjet can read\n",
    "ljsource_p4 = vector.zip({\"px\": branches['ljsource_p4.fCoordinates.fX'], \n",
    "                      \"py\": branches['ljsource_p4.fCoordinates.fY'], \n",
    "                      \"pz\": branches['ljsource_p4.fCoordinates.fZ'], \n",
    "                      \"t\": branches['ljsource_p4.fCoordinates.fT'],\n",
    "                       \"particle_type\":branches['ljsource_type']})"
   ]
  },
  {
   "cell_type": "code",
   "execution_count": 6,
   "id": "77729e6e-8b7d-4859-9eec-713991c64a08",
   "metadata": {},
   "outputs": [
    {
     "name": "stdout",
     "output_type": "stream",
     "text": [
      "#--------------------------------------------------------------------------\n",
      "#                         FastJet release 3.4.0\n",
      "#                 M. Cacciari, G.P. Salam and G. Soyez                  \n",
      "#     A software package for jet finding and analysis at colliders      \n",
      "#                           http://fastjet.fr                           \n",
      "#\t                                                                      \n",
      "# Please cite EPJC72(2012)1896 [arXiv:1111.6097] if you use this package\n",
      "# for scientific work and optionally PLB641(2006)57 [hep-ph/0512210].   \n",
      "#                                                                       \n",
      "# FastJet is provided without warranty under the GNU GPL v2 or higher.  \n",
      "# It uses T. Chan's closest pair algorithm, S. Fortune's Voronoi code,\n",
      "# CGAL and 3rd party plugin jet algorithms. See COPYING file for details.\n",
      "#--------------------------------------------------------------------------\n"
     ]
    }
   ],
   "source": [
    "#Define the cluster sequence and actually do the clustering!\n",
    "cluster = fastjet.ClusterSequence(ljsource_p4, jetdef)\n",
    "jets = cluster.inclusive_jets()"
   ]
  },
  {
   "cell_type": "markdown",
   "id": "0ef7728b-6e96-4ffd-a34d-c877e266a231",
   "metadata": {},
   "source": [
    "Compare results!"
   ]
  },
  {
   "cell_type": "code",
   "execution_count": 7,
   "id": "f4d51043-9262-4106-8046-a250eab3848b",
   "metadata": {
    "tags": []
   },
   "outputs": [
    {
     "name": "stdout",
     "output_type": "stream",
     "text": [
      "Original lepton-jet results!\n"
     ]
    },
    {
     "data": {
      "text/plain": [
       "[[42.51500701904297],\n",
       " [],\n",
       " [],\n",
       " [67.18094635009766],\n",
       " [],\n",
       " [42.10684585571289],\n",
       " [],\n",
       " [46.05674362182617, 41.77437973022461],\n",
       " [52.83943557739258],\n",
       " [47.516212463378906]]"
      ]
     },
     "execution_count": 7,
     "metadata": {},
     "output_type": "execute_result"
    }
   ],
   "source": [
    "#Build pfjet vectors\n",
    "#(Reminder that these are the lepton jets that were created by clustering\n",
    "# when making the ntuples)\n",
    "pfjet_p4 =  vector.zip({\"px\": branches['pfjet_p4.fCoordinates.fX'], \n",
    "                      \"py\": branches['pfjet_p4.fCoordinates.fY'], \n",
    "                      \"pz\": branches['pfjet_p4.fCoordinates.fZ'], \n",
    "                      \"t\": branches['pfjet_p4.fCoordinates.fT']}   )  \n",
    "print(\"Original lepton-jet results!\")\n",
    "pfjet_p4.pt[:10,:].tolist()"
   ]
  },
  {
   "cell_type": "code",
   "execution_count": 8,
   "id": "b1d37522-8ca1-4b17-98e0-099ecaf3c1df",
   "metadata": {
    "tags": []
   },
   "outputs": [
    {
     "name": "stdout",
     "output_type": "stream",
     "text": [
      "Our new jets!\n"
     ]
    },
    {
     "data": {
      "text/plain": [
       "[[42.51500699031592],\n",
       " [35.63738080195195],\n",
       " [18.131366540645228],\n",
       " [67.18094927131256],\n",
       " [33.83980956611488],\n",
       " [42.10684442200147],\n",
       " [25.417892405989903],\n",
       " [41.77437768749448, 46.05674447822695],\n",
       " [52.839434453098356],\n",
       " [47.51621299607016]]"
      ]
     },
     "execution_count": 8,
     "metadata": {},
     "output_type": "execute_result"
    }
   ],
   "source": [
    "print(\"Our new jets!\")\n",
    "jets.pt[:10,:].tolist()"
   ]
  },
  {
   "cell_type": "markdown",
   "id": "9f0f9e6f-ef0b-4fbc-b4fd-69529f7f1da2",
   "metadata": {},
   "source": [
    "I think any \"missing\" jets from the original collection come from the cuts we apply afterwards, primarily the pt > 30 GeV cut on lepton-jets and requiring muon-type lepton-jets to have an even number of candidates. (other cuts are eta < 2.4 and muon-type LJs must have a net zero charge)"
   ]
  },
  {
   "cell_type": "markdown",
   "id": "8ac33088-1799-4e82-ad0c-d6c8fd42dc8d",
   "metadata": {},
   "source": [
    "-----------\n",
    "Or comparing full p4:"
   ]
  },
  {
   "cell_type": "code",
   "execution_count": 9,
   "id": "a1510bb1-03c8-4810-a8f4-4658f9a31797",
   "metadata": {
    "tags": []
   },
   "outputs": [
    {
     "name": "stdout",
     "output_type": "stream",
     "text": [
      "Original lepton jets:\n",
      "[{x: -22.2, y: 36.2, z: 35.8, t: 55.6}]\n",
      "[]\n",
      "[]\n",
      "[{x: -47.5, y: -47.6, z: -33.9, t: 75.3}]\n",
      "[]\n",
      "[{x: -13.9, y: -39.7, z: 47.7, t: 63.6}]\n",
      "[]\n",
      "[{x: -45.8, y: -5.23, z: 142, t: 150}, {x: 41.7, y: 2.1, z: 35.6, t: 54.9}]\n",
      "[{x: -11.6, y: 51.6, z: -111, t: 123}]\n",
      "[{x: 45, y: 15.3, z: 79.1, t: 92.3}]\n",
      "Our new jets:\n",
      "[{px: -22.2, py: 36.2, pz: 35.8, E: 55.6}]\n",
      "[{px: 7.48, py: -34.8, pz: 21.2, E: 41.5}]\n",
      "[{px: 14.2, py: -11.3, pz: -75.9, E: 78}]\n",
      "[{px: -47.5, py: -47.6, pz: -33.9, E: 75.3}]\n",
      "[{px: 18.8, py: -28.1, pz: -19.7, E: 39.1}]\n",
      "[{px: -13.9, py: -39.7, pz: 47.7, E: 63.6}]\n",
      "[{px: -19, py: -16.8, pz: -79.8, E: 83.8}]\n",
      "[{px: 41.7, py: 2.1, pz: 35.6, E: 54.9}, {px: -45.8, py: -5.23, pz: 142, E: 150}]\n",
      "[{px: -11.6, py: 51.6, pz: -111, E: 123}]\n",
      "[{px: 45, py: 15.3, pz: 79.1, E: 92.3}]\n"
     ]
    }
   ],
   "source": [
    "print(\"Original lepton jets:\")\n",
    "for elem in pfjet_p4[:10,:]:\n",
    "    print(elem)\n",
    "print(\"Our new jets:\")\n",
    "for elem in jets[:10,:]:\n",
    "    print(elem)"
   ]
  },
  {
   "cell_type": "markdown",
   "id": "797191df-b931-4dad-9fba-c9269cf117c1",
   "metadata": {},
   "source": [
    "---------------\n",
    "Other tests:"
   ]
  },
  {
   "cell_type": "code",
   "execution_count": 10,
   "id": "37d6833a-c499-40a1-a737-e39b5985146f",
   "metadata": {
    "tags": []
   },
   "outputs": [
    {
     "data": {
      "text/plain": [
       "18359 * var * Momentum4D[\"x\": float32, \"y\": float32, \"z\": float32, \"t\": float32, \"particle_type\": int32]"
      ]
     },
     "execution_count": 10,
     "metadata": {},
     "output_type": "execute_result"
    }
   ],
   "source": [
    "#Double checking the type\n",
    "ljsource_p4.type"
   ]
  },
  {
   "cell_type": "code",
   "execution_count": 11,
   "id": "55ea82fd-a028-4e0c-bd4f-01f66fb9eaa0",
   "metadata": {
    "tags": []
   },
   "outputs": [
    {
     "data": {
      "text/plain": [
       "[[3, 3], [8], [3, 3], [3, 3], [3], [3, 8], [8, 8], [3, 3, 4], [3, 3], [3, 3]]"
      ]
     },
     "execution_count": 11,
     "metadata": {},
     "output_type": "execute_result"
    }
   ],
   "source": [
    "#Looking at the input particles\n",
    "ljsource_p4.particle_type[:10,:].tolist()"
   ]
  },
  {
   "cell_type": "code",
   "execution_count": 12,
   "id": "06f01581-dff0-4f30-a49f-4d27b4a7a1eb",
   "metadata": {
    "tags": []
   },
   "outputs": [
    {
     "data": {
      "text/plain": [
       "18359 * var * Momentum4D[\"px\": float64, \"py\": float64, \"pz\": float64, \"E\": float64]"
      ]
     },
     "execution_count": 12,
     "metadata": {},
     "output_type": "execute_result"
    }
   ],
   "source": [
    "#Double checking the type\n",
    "jets.type"
   ]
  }
 ],
 "metadata": {
  "kernelspec": {
   "display_name": "Python 3 (ipykernel)",
   "language": "python",
   "name": "python3"
  },
  "language_info": {
   "codemirror_mode": {
    "name": "ipython",
    "version": 3
   },
   "file_extension": ".py",
   "mimetype": "text/x-python",
   "name": "python",
   "nbconvert_exporter": "python",
   "pygments_lexer": "ipython3",
   "version": "3.8.16"
  }
 },
 "nbformat": 4,
 "nbformat_minor": 5
}
