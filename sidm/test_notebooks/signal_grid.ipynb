{
 "cells": [
  {
   "cell_type": "code",
   "execution_count": 1,
   "id": "ea7b3eb5-78d9-4b39-84eb-ae687d080ac5",
   "metadata": {
    "tags": []
   },
   "outputs": [
    {
     "data": {
      "text/plain": [
       "<module 'sidm.tools.utilities' from '/home/cms-jovyan/SIDM/sidm/tools/utilities.py'>"
      ]
     },
     "execution_count": 1,
     "metadata": {},
     "output_type": "execute_result"
    }
   ],
   "source": [
    "# python\n",
    "import sys\n",
    "import importlib\n",
    "# local\n",
    "sidm_path = str(sys.path[0]).split(\"/sidm\")[0]\n",
    "if sidm_path not in sys.path: sys.path.insert(1, sidm_path)\n",
    "from sidm.tools import utilities\n",
    "# always reload local modules to pick up changes during development\n",
    "importlib.reload(utilities)"
   ]
  },
  {
   "cell_type": "code",
   "execution_count": 2,
   "id": "d5a1ac0c-dd86-40ad-a75f-c7f3217ea430",
   "metadata": {
    "tags": []
   },
   "outputs": [
    {
     "data": {
      "text/plain": [
       "{100: {0.25: {'labframe_factor': 15.0},\n",
       "  1.2: {'labframe_factor': 3.125},\n",
       "  5.0: {'labframe_factor': 0.75}},\n",
       " 150: {0.25: {'labframe_factor': 23.07},\n",
       "  1.2: {'labframe_factor': 4.69},\n",
       "  5.0: {'labframe_factor': 1.11}},\n",
       " 200: {0.25: {'labframe_factor': 30.0},\n",
       "  1.2: {'labframe_factor': 6.25},\n",
       "  5.0: {'labframe_factor': 1.5}},\n",
       " 500: {0.25: {'labframe_factor': 75.0},\n",
       "  1.2: {'labframe_factor': 15.625},\n",
       "  5.0: {'labframe_factor': 3.75}},\n",
       " 800: {0.25: {'labframe_factor': 120.0},\n",
       "  1.2: {'labframe_factor': 25.0},\n",
       "  5.0: {'labframe_factor': 6.0}},\n",
       " 1000: {0.25: {'labframe_factor': 150.0},\n",
       "  1.2: {'labframe_factor': 31.25},\n",
       "  5.0: {'labframe_factor': 7.5}}}"
      ]
     },
     "execution_count": 2,
     "metadata": {},
     "output_type": "execute_result"
    }
   ],
   "source": [
    "grid = utilities.load_yaml(f\"{sidm_path}/sidm/configs/signal_grid.yaml\")\n",
    "grid"
   ]
  },
  {
   "cell_type": "code",
   "execution_count": 3,
   "id": "bba6c02b-0e70-46d9-a979-39b33548aa99",
   "metadata": {
    "tags": []
   },
   "outputs": [
    {
     "data": {
      "text/plain": [
       "[0.02, 0.2, 2.0, 10.0, 20.0]"
      ]
     },
     "execution_count": 3,
     "metadata": {},
     "output_type": "execute_result"
    }
   ],
   "source": [
    "lab_ctaus = [0.3, 3, 30, 150, 300]\n",
    "[ct/grid[100][0.25][\"labframe_factor\"] for ct in lab_ctaus]"
   ]
  },
  {
   "cell_type": "code",
   "execution_count": 4,
   "id": "5860893a-0075-484e-bc71-ebf5d6c7ec16",
   "metadata": {
    "tags": []
   },
   "outputs": [
    {
     "name": "stdout",
     "output_type": "stream",
     "text": [
      "    [0.3, 3, 30, 150, 300]\n",
      "100\n",
      "  0.25\n",
      "    [0.02, 0.2, 2.0, 10.0, 20.0]\n",
      "  1.2\n",
      "    [0.096, 0.96, 9.6, 48.0, 96.0]\n",
      "  5.0\n",
      "    [0.4, 4.0, 40.0, 200.0, 400.0]\n",
      "150\n",
      "  0.25\n",
      "    [0.013, 0.13, 1.3, 6.7, 13.0]\n",
      "  1.2\n",
      "    [0.064, 0.64, 6.4, 32.0, 64.0]\n",
      "  5.0\n",
      "    [0.27, 2.7, 27.0, 130.0, 270.0]\n",
      "200\n",
      "  0.25\n",
      "    [0.01, 0.1, 1.0, 5.0, 10.0]\n",
      "  1.2\n",
      "    [0.048, 0.48, 4.8, 24.0, 48.0]\n",
      "  5.0\n",
      "    [0.2, 2.0, 20.0, 100.0, 200.0]\n",
      "500\n",
      "  0.25\n",
      "    [0.004, 0.04, 0.4, 2.0, 4.0]\n",
      "  1.2\n",
      "    [0.019, 0.19, 1.9, 9.6, 19.0]\n",
      "  5.0\n",
      "    [0.08, 0.8, 8.0, 40.0, 80.0]\n",
      "800\n",
      "  0.25\n",
      "    [0.0025, 0.025, 0.25, 1.2, 2.5]\n",
      "  1.2\n",
      "    [0.012, 0.12, 1.2, 6.0, 12.0]\n",
      "  5.0\n",
      "    [0.05, 0.5, 5.0, 25.0, 50.0]\n",
      "1000\n",
      "  0.25\n",
      "    [0.002, 0.02, 0.2, 1.0, 2.0]\n",
      "  1.2\n",
      "    [0.0096, 0.096, 0.96, 4.8, 9.6]\n",
      "  5.0\n",
      "    [0.04, 0.4, 4.0, 20.0, 40.0]\n"
     ]
    }
   ],
   "source": [
    "print(f\"    {[ct for ct in lab_ctaus]}\")\n",
    "for bs, d in grid.items():\n",
    "    print(bs)\n",
    "    for zd, d in d.items():\n",
    "        print(f\"  {zd}\")\n",
    "        proper_ctaus = [utilities.proper_ctau(bs, zd, ct) for ct in lab_ctaus]\n",
    "        print(f\"    {proper_ctaus}\")\n",
    "        new_lab_ctaus = [utilities.lab_ctau(bs, zd, ct) for ct in proper_ctaus]\n",
    "        if new_lab_ctaus != lab_ctaus:\n",
    "            \"ERROR\""
   ]
  },
  {
   "cell_type": "code",
   "execution_count": null,
   "id": "680ce9de-f744-41c7-9f3a-168d6cb294b2",
   "metadata": {},
   "outputs": [],
   "source": []
  }
 ],
 "metadata": {
  "kernelspec": {
   "display_name": "Python 3 (ipykernel)",
   "language": "python",
   "name": "python3"
  },
  "language_info": {
   "codemirror_mode": {
    "name": "ipython",
    "version": 3
   },
   "file_extension": ".py",
   "mimetype": "text/x-python",
   "name": "python",
   "nbconvert_exporter": "python",
   "pygments_lexer": "ipython3",
   "version": "3.9.18"
  }
 },
 "nbformat": 4,
 "nbformat_minor": 5
}
