{
 "cells": [
  {
   "cell_type": "code",
   "execution_count": 1,
   "id": "19991c1c-8bd9-4f21-bc8d-d34ecb0cec23",
   "metadata": {},
   "outputs": [],
   "source": [
    "# python\n",
    "import sys\n",
    "import os\n",
    "import importlib\n",
    "# columnar analysis\n",
    "import awkward as ak\n",
    "from dask.distributed import Client\n",
    "from coffea.nanoevents import NanoEventsFactory, NanoAODSchema\n",
    "from coffea import processor\n",
    "# local\n",
    "sys.path.insert(1, os.path.join(sys.path[0], '../..')) # fixme: there must be a better way to handle this...\n",
    "from sidm.tools import sidm_processor, utilities, cutflow, scaleout\n",
    "# always reload local modules to pick up changes during development\n",
    "importlib.reload(sidm_processor)\n",
    "importlib.reload(utilities)\n",
    "importlib.reload(scaleout)\n",
    "# plotting\n",
    "import matplotlib.pyplot as plt\n",
    "utilities.set_plot_style()\n",
    "%matplotlib inline"
   ]
  },
  {
   "cell_type": "code",
   "execution_count": 2,
   "id": "43a8c0fa-4a65-4911-b616-6233cc0bd537",
   "metadata": {},
   "outputs": [],
   "source": [
    "samples = [   \n",
    "    \"4mu_800GeV_0p25GeV_2p5mm\",\n",
    "]\n",
    "\n",
    "fileset = utilities.make_fileset(samples, \"llpNanoAOD_v2\", max_files=1)"
   ]
  },
  {
   "cell_type": "code",
   "execution_count": 3,
   "id": "0ce44f66-885f-4591-8509-bad923ae0229",
   "metadata": {
    "tags": []
   },
   "outputs": [
    {
     "data": {
      "application/vnd.jupyter.widget-view+json": {
       "model_id": "a0ff5c5226f1422ea4351fa8c953acaa",
       "version_major": 2,
       "version_minor": 0
      },
      "text/plain": [
       "Output()"
      ]
     },
     "metadata": {},
     "output_type": "display_data"
    },
    {
     "data": {
      "text/html": [
       "<pre style=\"white-space:pre;overflow-x:auto;line-height:normal;font-family:Menlo,'DejaVu Sans Mono',consolas,'Courier New',monospace\"></pre>\n"
      ],
      "text/plain": []
     },
     "metadata": {},
     "output_type": "display_data"
    },
    {
     "data": {
      "text/html": [
       "<pre style=\"white-space:pre;overflow-x:auto;line-height:normal;font-family:Menlo,'DejaVu Sans Mono',consolas,'Courier New',monospace\">\n",
       "</pre>\n"
      ],
      "text/plain": [
       "\n"
      ]
     },
     "metadata": {},
     "output_type": "display_data"
    },
    {
     "data": {
      "application/vnd.jupyter.widget-view+json": {
       "model_id": "85100cb864e54ad99a6984001ca273e9",
       "version_major": 2,
       "version_minor": 0
      },
      "text/plain": [
       "Output()"
      ]
     },
     "metadata": {},
     "output_type": "display_data"
    },
    {
     "data": {
      "text/html": [
       "<pre style=\"white-space:pre;overflow-x:auto;line-height:normal;font-family:Menlo,'DejaVu Sans Mono',consolas,'Courier New',monospace\"></pre>\n"
      ],
      "text/plain": []
     },
     "metadata": {},
     "output_type": "display_data"
    },
    {
     "data": {
      "text/html": [
       "<pre style=\"white-space:pre;overflow-x:auto;line-height:normal;font-family:Menlo,'DejaVu Sans Mono',consolas,'Courier New',monospace\">\n",
       "</pre>\n"
      ],
      "text/plain": [
       "\n"
      ]
     },
     "metadata": {},
     "output_type": "display_data"
    },
    {
     "ename": "Exception",
     "evalue": "Failed processing file: WorkItem(dataset='4mu_800GeV_0p25GeV_2p5mm', filename='root://xcache//store/group/lpcmetx/SIDM/ULSignalSamples/2018_v6/LLPNanoAOD_V2/SIDM_BsTo2DpTo4Mu_MBs-800_MDp-0p25_ctau-2p5/LLPnanoAODv2/SIDM_BsTo2DpTo4Mu_MBs-800_MDp-0p25_ctau-2p5_part-0.root', treename='Events', entrystart=0, entrystop=842, fileuuid=b'R\\x03d\\xf6#w\\x11\\xef\\x95\\x9d,\\x15\\xe6\\x9b\\xbe\\xef', usermeta={})",
     "output_type": "error",
     "traceback": [
      "\u001b[0;31m---------------------------------------------------------------------------\u001b[0m",
      "\u001b[0;31mKeyError\u001b[0m                                  Traceback (most recent call last)",
      "File \u001b[0;32m/opt/conda/lib/python3.9/site-packages/coffea/processor/executor.py:1654\u001b[0m, in \u001b[0;36mRunner._work_function\u001b[0;34m(format, xrootdtimeout, mmap, schema, cache_function, use_dataframes, savemetrics, item, processor_instance)\u001b[0m\n\u001b[1;32m   1653\u001b[0m \u001b[38;5;28;01mtry\u001b[39;00m:\n\u001b[0;32m-> 1654\u001b[0m     out \u001b[38;5;241m=\u001b[39m \u001b[43mprocessor_instance\u001b[49m\u001b[38;5;241;43m.\u001b[39;49m\u001b[43mprocess\u001b[49m\u001b[43m(\u001b[49m\u001b[43mevents\u001b[49m\u001b[43m)\u001b[49m\n\u001b[1;32m   1655\u001b[0m \u001b[38;5;28;01mexcept\u001b[39;00m \u001b[38;5;167;01mException\u001b[39;00m \u001b[38;5;28;01mas\u001b[39;00m e:\n",
      "File \u001b[0;32m~/SIDM/sidm/tools/../../sidm/tools/sidm_processor.py:77\u001b[0m, in \u001b[0;36mSidmProcessor.process\u001b[0;34m(self, events)\u001b[0m\n\u001b[1;32m     76\u001b[0m \u001b[38;5;66;03m### Make list of all object-level cuts; define object-level, lj-level, and event-level cuts per channel\u001b[39;00m\n\u001b[0;32m---> 77\u001b[0m all_obj_cuts, channel_cuts \u001b[38;5;241m=\u001b[39m \u001b[38;5;28;43mself\u001b[39;49m\u001b[38;5;241;43m.\u001b[39;49m\u001b[43mbuild_cuts\u001b[49m\u001b[43m(\u001b[49m\u001b[43m)\u001b[49m\n\u001b[1;32m     79\u001b[0m \u001b[38;5;66;03m# evaluate all object-level cuts\u001b[39;00m\n",
      "File \u001b[0;32m~/SIDM/sidm/tools/../../sidm/tools/sidm_processor.py:255\u001b[0m, in \u001b[0;36mSidmProcessor.build_cuts\u001b[0;34m(self)\u001b[0m\n\u001b[1;32m    254\u001b[0m cuts \u001b[38;5;241m=\u001b[39m selection_menu[channel]\n\u001b[0;32m--> 255\u001b[0m \u001b[38;5;28;01mfor\u001b[39;00m obj, obj_cuts \u001b[38;5;129;01min\u001b[39;00m \u001b[43mcuts\u001b[49m\u001b[43m[\u001b[49m\u001b[38;5;124;43m\"\u001b[39;49m\u001b[38;5;124;43mobj_cuts\u001b[39;49m\u001b[38;5;124;43m\"\u001b[39;49m\u001b[43m]\u001b[49m\u001b[38;5;241m.\u001b[39mitems():\n\u001b[1;32m    256\u001b[0m     \u001b[38;5;28;01mif\u001b[39;00m obj \u001b[38;5;241m==\u001b[39m \u001b[38;5;124m\"\u001b[39m\u001b[38;5;124mljs\u001b[39m\u001b[38;5;124m\"\u001b[39m:\n",
      "\u001b[0;31mKeyError\u001b[0m: 'obj_cuts'",
      "\nThe above exception was the direct cause of the following exception:\n",
      "\u001b[0;31mException\u001b[0m                                 Traceback (most recent call last)",
      "Cell \u001b[0;32mIn[3], line 20\u001b[0m\n\u001b[1;32m     11\u001b[0m collection \u001b[38;5;241m=\u001b[39m utilities\u001b[38;5;241m.\u001b[39mflatten(hist_menu[hist_choice]) \u001b[38;5;66;03m#To change the histograms used, swap \"base\" for the other collections\u001b[39;00m\n\u001b[1;32m     12\u001b[0m p \u001b[38;5;241m=\u001b[39m sidm_processor\u001b[38;5;241m.\u001b[39mSidmProcessor(\n\u001b[1;32m     13\u001b[0m     [\n\u001b[1;32m     14\u001b[0m         \u001b[38;5;124m\"\u001b[39m\u001b[38;5;124mmatchedLj\u001b[39m\u001b[38;5;124m\"\u001b[39m,\n\u001b[0;32m   (...)\u001b[0m\n\u001b[1;32m     18\u001b[0m     llpnanoaod\u001b[38;5;241m=\u001b[39m\u001b[38;5;28;01mTrue\u001b[39;00m,\n\u001b[1;32m     19\u001b[0m )\n\u001b[0;32m---> 20\u001b[0m output \u001b[38;5;241m=\u001b[39m \u001b[43mrunner\u001b[49m\u001b[38;5;241;43m.\u001b[39;49m\u001b[43mrun\u001b[49m\u001b[43m(\u001b[49m\u001b[43mfileset\u001b[49m\u001b[43m,\u001b[49m\u001b[43m \u001b[49m\u001b[43mtreename\u001b[49m\u001b[38;5;241;43m=\u001b[39;49m\u001b[38;5;124;43m'\u001b[39;49m\u001b[38;5;124;43mEvents\u001b[39;49m\u001b[38;5;124;43m'\u001b[39;49m\u001b[43m,\u001b[49m\u001b[43m \u001b[49m\u001b[43mprocessor_instance\u001b[49m\u001b[38;5;241;43m=\u001b[39;49m\u001b[43mp\u001b[49m\u001b[43m)\u001b[49m\n\u001b[1;32m     21\u001b[0m out \u001b[38;5;241m=\u001b[39m output[\u001b[38;5;124m\"\u001b[39m\u001b[38;5;124mout\u001b[39m\u001b[38;5;124m\"\u001b[39m]\n",
      "File \u001b[0;32m/opt/conda/lib/python3.9/site-packages/coffea/processor/executor.py:1848\u001b[0m, in \u001b[0;36mRunner.run\u001b[0;34m(self, fileset, processor_instance, treename)\u001b[0m\n\u001b[1;32m   1843\u001b[0m closure \u001b[38;5;241m=\u001b[39m partial(\n\u001b[1;32m   1844\u001b[0m     \u001b[38;5;28mself\u001b[39m\u001b[38;5;241m.\u001b[39mautomatic_retries, \u001b[38;5;28mself\u001b[39m\u001b[38;5;241m.\u001b[39mretries, \u001b[38;5;28mself\u001b[39m\u001b[38;5;241m.\u001b[39mskipbadfiles, closure\n\u001b[1;32m   1845\u001b[0m )\n\u001b[1;32m   1847\u001b[0m executor \u001b[38;5;241m=\u001b[39m \u001b[38;5;28mself\u001b[39m\u001b[38;5;241m.\u001b[39mexecutor\u001b[38;5;241m.\u001b[39mcopy(\u001b[38;5;241m*\u001b[39m\u001b[38;5;241m*\u001b[39mexe_args)\n\u001b[0;32m-> 1848\u001b[0m wrapped_out, e \u001b[38;5;241m=\u001b[39m \u001b[43mexecutor\u001b[49m\u001b[43m(\u001b[49m\u001b[43mchunks\u001b[49m\u001b[43m,\u001b[49m\u001b[43m \u001b[49m\u001b[43mclosure\u001b[49m\u001b[43m,\u001b[49m\u001b[43m \u001b[49m\u001b[38;5;28;43;01mNone\u001b[39;49;00m\u001b[43m)\u001b[49m\n\u001b[1;32m   1849\u001b[0m \u001b[38;5;28;01mif\u001b[39;00m wrapped_out \u001b[38;5;129;01mis\u001b[39;00m \u001b[38;5;28;01mNone\u001b[39;00m:\n\u001b[1;32m   1850\u001b[0m     \u001b[38;5;28;01mraise\u001b[39;00m \u001b[38;5;167;01mValueError\u001b[39;00m(\n\u001b[1;32m   1851\u001b[0m         \u001b[38;5;124m\"\u001b[39m\u001b[38;5;124mNo chunks returned results, verify ``processor`` instance structure.\u001b[39m\u001b[38;5;130;01m\\n\u001b[39;00m\u001b[38;5;130;01m\\\u001b[39;00m\n\u001b[1;32m   1852\u001b[0m \u001b[38;5;124m        if you used skipbadfiles=True, it is possible all your files are bad.\u001b[39m\u001b[38;5;124m\"\u001b[39m\n\u001b[1;32m   1853\u001b[0m     )\n",
      "File \u001b[0;32m/opt/conda/lib/python3.9/site-packages/coffea/processor/executor.py:672\u001b[0m, in \u001b[0;36mIterativeExecutor.__call__\u001b[0;34m(self, items, function, accumulator)\u001b[0m\n\u001b[1;32m    667\u001b[0m \u001b[38;5;28;01mwith\u001b[39;00m rich_bar() \u001b[38;5;28;01mas\u001b[39;00m progress:\n\u001b[1;32m    668\u001b[0m     p_id \u001b[38;5;241m=\u001b[39m progress\u001b[38;5;241m.\u001b[39madd_task(\n\u001b[1;32m    669\u001b[0m         \u001b[38;5;28mself\u001b[39m\u001b[38;5;241m.\u001b[39mdesc, total\u001b[38;5;241m=\u001b[39m\u001b[38;5;28mlen\u001b[39m(items), unit\u001b[38;5;241m=\u001b[39m\u001b[38;5;28mself\u001b[39m\u001b[38;5;241m.\u001b[39munit, disable\u001b[38;5;241m=\u001b[39m\u001b[38;5;129;01mnot\u001b[39;00m \u001b[38;5;28mself\u001b[39m\u001b[38;5;241m.\u001b[39mstatus\n\u001b[1;32m    670\u001b[0m     )\n\u001b[1;32m    671\u001b[0m     \u001b[38;5;28;01mreturn\u001b[39;00m (\n\u001b[0;32m--> 672\u001b[0m         \u001b[43maccumulate\u001b[49m\u001b[43m(\u001b[49m\n\u001b[1;32m    673\u001b[0m \u001b[43m            \u001b[49m\u001b[43mprogress\u001b[49m\u001b[38;5;241;43m.\u001b[39;49m\u001b[43mtrack\u001b[49m\u001b[43m(\u001b[49m\n\u001b[1;32m    674\u001b[0m \u001b[43m                \u001b[49m\u001b[38;5;28;43mmap\u001b[39;49m\u001b[43m(\u001b[49m\u001b[43mfunction\u001b[49m\u001b[43m,\u001b[49m\u001b[43m \u001b[49m\u001b[43m(\u001b[49m\u001b[43mc\u001b[49m\u001b[43m \u001b[49m\u001b[38;5;28;43;01mfor\u001b[39;49;00m\u001b[43m \u001b[49m\u001b[43mc\u001b[49m\u001b[43m \u001b[49m\u001b[38;5;129;43;01min\u001b[39;49;00m\u001b[43m \u001b[49m\u001b[43mitems\u001b[49m\u001b[43m)\u001b[49m\u001b[43m)\u001b[49m\u001b[43m,\u001b[49m\n\u001b[1;32m    675\u001b[0m \u001b[43m                \u001b[49m\u001b[43mtotal\u001b[49m\u001b[38;5;241;43m=\u001b[39;49m\u001b[38;5;28;43mlen\u001b[39;49m\u001b[43m(\u001b[49m\u001b[43mitems\u001b[49m\u001b[43m)\u001b[49m\u001b[43m,\u001b[49m\n\u001b[1;32m    676\u001b[0m \u001b[43m                \u001b[49m\u001b[43mtask_id\u001b[49m\u001b[38;5;241;43m=\u001b[39;49m\u001b[43mp_id\u001b[49m\u001b[43m,\u001b[49m\n\u001b[1;32m    677\u001b[0m \u001b[43m            \u001b[49m\u001b[43m)\u001b[49m\u001b[43m,\u001b[49m\n\u001b[1;32m    678\u001b[0m \u001b[43m            \u001b[49m\u001b[43maccumulator\u001b[49m\u001b[43m,\u001b[49m\n\u001b[1;32m    679\u001b[0m \u001b[43m        \u001b[49m\u001b[43m)\u001b[49m,\n\u001b[1;32m    680\u001b[0m         \u001b[38;5;241m0\u001b[39m,\n\u001b[1;32m    681\u001b[0m     )\n",
      "File \u001b[0;32m/opt/conda/lib/python3.9/site-packages/coffea/processor/accumulator.py:95\u001b[0m, in \u001b[0;36maccumulate\u001b[0;34m(items, accum)\u001b[0m\n\u001b[1;32m     93\u001b[0m \u001b[38;5;28;01mtry\u001b[39;00m:\n\u001b[1;32m     94\u001b[0m     \u001b[38;5;28;01mif\u001b[39;00m accum \u001b[38;5;129;01mis\u001b[39;00m \u001b[38;5;28;01mNone\u001b[39;00m:\n\u001b[0;32m---> 95\u001b[0m         accum \u001b[38;5;241m=\u001b[39m \u001b[38;5;28;43mnext\u001b[39;49m\u001b[43m(\u001b[49m\u001b[43mgen\u001b[49m\u001b[43m)\u001b[49m\n\u001b[1;32m     96\u001b[0m         \u001b[38;5;66;03m# we want to produce a new object so that the input is not mutated\u001b[39;00m\n\u001b[1;32m     97\u001b[0m         accum \u001b[38;5;241m=\u001b[39m add(accum, \u001b[38;5;28mnext\u001b[39m(gen))\n",
      "File \u001b[0;32m/opt/conda/lib/python3.9/site-packages/coffea/processor/accumulator.py:92\u001b[0m, in \u001b[0;36m<genexpr>\u001b[0;34m(.0)\u001b[0m\n\u001b[1;32m     89\u001b[0m \u001b[38;5;28;01mdef\u001b[39;00m \u001b[38;5;21maccumulate\u001b[39m(\n\u001b[1;32m     90\u001b[0m     items: Iterable[Optional[Accumulatable]], accum: Optional[Accumulatable] \u001b[38;5;241m=\u001b[39m \u001b[38;5;28;01mNone\u001b[39;00m\n\u001b[1;32m     91\u001b[0m ) \u001b[38;5;241m-\u001b[39m\u001b[38;5;241m>\u001b[39m Optional[Accumulatable]:\n\u001b[0;32m---> 92\u001b[0m     gen \u001b[38;5;241m=\u001b[39m (x \u001b[38;5;28;01mfor\u001b[39;00m x \u001b[38;5;129;01min\u001b[39;00m items \u001b[38;5;28;01mif\u001b[39;00m x \u001b[38;5;129;01mis\u001b[39;00m \u001b[38;5;129;01mnot\u001b[39;00m \u001b[38;5;28;01mNone\u001b[39;00m)\n\u001b[1;32m     93\u001b[0m     \u001b[38;5;28;01mtry\u001b[39;00m:\n\u001b[1;32m     94\u001b[0m         \u001b[38;5;28;01mif\u001b[39;00m accum \u001b[38;5;129;01mis\u001b[39;00m \u001b[38;5;28;01mNone\u001b[39;00m:\n",
      "File \u001b[0;32m/opt/conda/lib/python3.9/site-packages/rich/progress.py:1215\u001b[0m, in \u001b[0;36mProgress.track\u001b[0;34m(self, sequence, total, task_id, description, update_period)\u001b[0m\n\u001b[1;32m   1213\u001b[0m advance \u001b[38;5;241m=\u001b[39m \u001b[38;5;28mself\u001b[39m\u001b[38;5;241m.\u001b[39madvance\n\u001b[1;32m   1214\u001b[0m refresh \u001b[38;5;241m=\u001b[39m \u001b[38;5;28mself\u001b[39m\u001b[38;5;241m.\u001b[39mrefresh\n\u001b[0;32m-> 1215\u001b[0m \u001b[38;5;28;01mfor\u001b[39;00m value \u001b[38;5;129;01min\u001b[39;00m sequence:\n\u001b[1;32m   1216\u001b[0m     \u001b[38;5;28;01myield\u001b[39;00m value\n\u001b[1;32m   1217\u001b[0m     advance(task_id, \u001b[38;5;241m1\u001b[39m)\n",
      "File \u001b[0;32m/opt/conda/lib/python3.9/site-packages/coffea/processor/executor.py:1367\u001b[0m, in \u001b[0;36mRunner.automatic_retries\u001b[0;34m(retries, skipbadfiles, func, *args, **kwargs)\u001b[0m\n\u001b[1;32m   1361\u001b[0m         \u001b[38;5;28;01mbreak\u001b[39;00m\n\u001b[1;32m   1362\u001b[0m     \u001b[38;5;28;01mif\u001b[39;00m (\n\u001b[1;32m   1363\u001b[0m         \u001b[38;5;129;01mnot\u001b[39;00m skipbadfiles\n\u001b[1;32m   1364\u001b[0m         \u001b[38;5;129;01mor\u001b[39;00m \u001b[38;5;28many\u001b[39m(\u001b[38;5;124m\"\u001b[39m\u001b[38;5;124mAuth failed\u001b[39m\u001b[38;5;124m\"\u001b[39m \u001b[38;5;129;01min\u001b[39;00m \u001b[38;5;28mstr\u001b[39m(c) \u001b[38;5;28;01mfor\u001b[39;00m c \u001b[38;5;129;01min\u001b[39;00m chain)\n\u001b[1;32m   1365\u001b[0m         \u001b[38;5;129;01mor\u001b[39;00m retries \u001b[38;5;241m==\u001b[39m retry_count\n\u001b[1;32m   1366\u001b[0m     ):\n\u001b[0;32m-> 1367\u001b[0m         \u001b[38;5;28;01mraise\u001b[39;00m e\n\u001b[1;32m   1368\u001b[0m     warnings\u001b[38;5;241m.\u001b[39mwarn(\u001b[38;5;124m\"\u001b[39m\u001b[38;5;124mAttempt \u001b[39m\u001b[38;5;132;01m%d\u001b[39;00m\u001b[38;5;124m of \u001b[39m\u001b[38;5;132;01m%d\u001b[39;00m\u001b[38;5;124m.\u001b[39m\u001b[38;5;124m\"\u001b[39m \u001b[38;5;241m%\u001b[39m (retry_count \u001b[38;5;241m+\u001b[39m \u001b[38;5;241m1\u001b[39m, retries \u001b[38;5;241m+\u001b[39m \u001b[38;5;241m1\u001b[39m))\n\u001b[1;32m   1369\u001b[0m retry_count \u001b[38;5;241m+\u001b[39m\u001b[38;5;241m=\u001b[39m \u001b[38;5;241m1\u001b[39m\n",
      "File \u001b[0;32m/opt/conda/lib/python3.9/site-packages/coffea/processor/executor.py:1336\u001b[0m, in \u001b[0;36mRunner.automatic_retries\u001b[0;34m(retries, skipbadfiles, func, *args, **kwargs)\u001b[0m\n\u001b[1;32m   1334\u001b[0m \u001b[38;5;28;01mwhile\u001b[39;00m retry_count \u001b[38;5;241m<\u001b[39m\u001b[38;5;241m=\u001b[39m retries:\n\u001b[1;32m   1335\u001b[0m     \u001b[38;5;28;01mtry\u001b[39;00m:\n\u001b[0;32m-> 1336\u001b[0m         \u001b[38;5;28;01mreturn\u001b[39;00m \u001b[43mfunc\u001b[49m\u001b[43m(\u001b[49m\u001b[38;5;241;43m*\u001b[39;49m\u001b[43margs\u001b[49m\u001b[43m,\u001b[49m\u001b[43m \u001b[49m\u001b[38;5;241;43m*\u001b[39;49m\u001b[38;5;241;43m*\u001b[39;49m\u001b[43mkwargs\u001b[49m\u001b[43m)\u001b[49m\n\u001b[1;32m   1337\u001b[0m     \u001b[38;5;66;03m# catch xrootd errors and optionally skip\u001b[39;00m\n\u001b[1;32m   1338\u001b[0m     \u001b[38;5;66;03m# or retry to read the file\u001b[39;00m\n\u001b[1;32m   1339\u001b[0m     \u001b[38;5;28;01mexcept\u001b[39;00m \u001b[38;5;167;01mException\u001b[39;00m \u001b[38;5;28;01mas\u001b[39;00m e:\n",
      "File \u001b[0;32m/opt/conda/lib/python3.9/site-packages/coffea/processor/executor.py:1656\u001b[0m, in \u001b[0;36mRunner._work_function\u001b[0;34m(format, xrootdtimeout, mmap, schema, cache_function, use_dataframes, savemetrics, item, processor_instance)\u001b[0m\n\u001b[1;32m   1654\u001b[0m     out \u001b[38;5;241m=\u001b[39m processor_instance\u001b[38;5;241m.\u001b[39mprocess(events)\n\u001b[1;32m   1655\u001b[0m \u001b[38;5;28;01mexcept\u001b[39;00m \u001b[38;5;167;01mException\u001b[39;00m \u001b[38;5;28;01mas\u001b[39;00m e:\n\u001b[0;32m-> 1656\u001b[0m     \u001b[38;5;28;01mraise\u001b[39;00m \u001b[38;5;167;01mException\u001b[39;00m(\u001b[38;5;124mf\u001b[39m\u001b[38;5;124m\"\u001b[39m\u001b[38;5;124mFailed processing file: \u001b[39m\u001b[38;5;132;01m{\u001b[39;00mitem\u001b[38;5;132;01m!r}\u001b[39;00m\u001b[38;5;124m\"\u001b[39m) \u001b[38;5;28;01mfrom\u001b[39;00m \u001b[38;5;21;01me\u001b[39;00m\n\u001b[1;32m   1657\u001b[0m \u001b[38;5;28;01mif\u001b[39;00m out \u001b[38;5;129;01mis\u001b[39;00m \u001b[38;5;28;01mNone\u001b[39;00m:\n\u001b[1;32m   1658\u001b[0m     \u001b[38;5;28;01mraise\u001b[39;00m \u001b[38;5;167;01mValueError\u001b[39;00m(\n\u001b[1;32m   1659\u001b[0m         \u001b[38;5;124m\"\u001b[39m\u001b[38;5;124mOutput of process() should not be None. Make sure your processor\u001b[39m\u001b[38;5;124m'\u001b[39m\u001b[38;5;124ms process() function returns an accumulator.\u001b[39m\u001b[38;5;124m\"\u001b[39m\n\u001b[1;32m   1660\u001b[0m     )\n",
      "\u001b[0;31mException\u001b[0m: Failed processing file: WorkItem(dataset='4mu_800GeV_0p25GeV_2p5mm', filename='root://xcache//store/group/lpcmetx/SIDM/ULSignalSamples/2018_v6/LLPNanoAOD_V2/SIDM_BsTo2DpTo4Mu_MBs-800_MDp-0p25_ctau-2p5/LLPnanoAODv2/SIDM_BsTo2DpTo4Mu_MBs-800_MDp-0p25_ctau-2p5_part-0.root', treename='Events', entrystart=0, entrystop=842, fileuuid=b'R\\x03d\\xf6#w\\x11\\xef\\x95\\x9d,\\x15\\xe6\\x9b\\xbe\\xef', usermeta={})"
     ]
    }
   ],
   "source": [
    "runner = processor.Runner(\n",
    "    executor=processor.IterativeExecutor(),\n",
    "    #executor=processor.DaskExecutor(),\n",
    "    #executor=processor.FuturesExecutor(),\n",
    "    schema=NanoAODSchema,\n",
    "    # maxchunks=1,\n",
    ")\n",
    "\n",
    "hist_menu = utilities.load_yaml(\"../configs/hist_collections.yaml\")\n",
    "hist_choice = \"test\"\n",
    "collection = utilities.flatten(hist_menu[hist_choice]) #To change the histograms used, swap \"base\" for the other collections\n",
    "p = sidm_processor.SidmProcessor(\n",
    "    [\n",
    "        \"matchedLj\",\n",
    "    ],\n",
    "    [hist_choice],\n",
    "    lj_reco_choices=[\"0.4\"],\n",
    "    llpnanoaod=True,\n",
    ")\n",
    "output = runner.run(fileset, treename='Events', processor_instance=p)\n",
    "out = output[\"out\"]"
   ]
  },
  {
   "cell_type": "code",
   "execution_count": null,
   "id": "d16b8ab9-8137-4d24-9676-31682bdfa95f",
   "metadata": {
    "tags": []
   },
   "outputs": [],
   "source": [
    "cutflow.print_multi_table([out[sample][\"cutflow\"][\"4mutest\"] for sample in samples], [sample for sample in samples])"
   ]
  },
  {
   "cell_type": "code",
   "execution_count": null,
   "id": "e956301b-d29d-4ea6-9658-b512c6d4b93f",
   "metadata": {
    "tags": []
   },
   "outputs": [],
   "source": [
    "plt.subplots(1,len(samples),figsize=(len(samples)*6,6))\n",
    "for i in range(len(samples)):\n",
    "    plt.subplot(1,len(samples),i+1)\n",
    "    utilities.plot(out[samples[i]][\"hists\"][\"genE_pt\"][\"baseNoLj\", :20j], density=True, flow='none')"
   ]
  },
  {
   "cell_type": "code",
   "execution_count": null,
   "id": "a9fecc1c-aaa8-4bc4-98ad-c8173ee4ebf8",
   "metadata": {},
   "outputs": [],
   "source": []
  }
 ],
 "metadata": {
  "kernelspec": {
   "display_name": "Python 3 (ipykernel)",
   "language": "python",
   "name": "python3"
  },
  "language_info": {
   "codemirror_mode": {
    "name": "ipython",
    "version": 3
   },
   "file_extension": ".py",
   "mimetype": "text/x-python",
   "name": "python",
   "nbconvert_exporter": "python",
   "pygments_lexer": "ipython3",
   "version": "3.9.18"
  }
 },
 "nbformat": 4,
 "nbformat_minor": 5
}
